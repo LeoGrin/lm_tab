{
 "cells": [
  {
   "cell_type": "code",
   "execution_count": 73,
   "metadata": {},
   "outputs": [],
   "source": [
    "from sklearn.base import BaseEstimator, TransformerMixin\n",
    "import numpy as np\n",
    "from tabpfn import TabPFNClassifier\n",
    "from tabpfn.utils import normalize_data, to_ranking_low_mem, remove_outliers\n",
    "from tabpfn.utils import NOP, normalize_by_used_features_f\n",
    "from sklearn.preprocessing import PowerTransformer, QuantileTransformer, RobustScaler, StandardScaler, OrdinalEncoder, OneHotEncoder\n",
    "from sklearn.compose import ColumnTransformer\n",
    "from sklearn.pipeline import Pipeline\n",
    "from sklearn.model_selection import cross_val_score, cross_validate\n",
    "from sklearn.base import clone\n",
    "import torch\n",
    "from skrub import TableVectorizer, MinHashEncoder\n",
    "from sklearn.metrics import accuracy_score, roc_auc_score\n",
    "\n",
    "\n",
    "\n",
    "def run_on_encoded_data_with_cst(X_enc, X_rest, y, dim_reduction_name, dim_reduction, model_name, model, encoding,\n",
    "                        cv, regression=False, no_interaction_between_enc_and_rest=False, **kwargs):\n",
    "    \"\"\"\n",
    "    X_enc: np array of shape (n_samples, embedding_dim), the embedded texts\n",
    "    X_rest: np array of shape (n_samples, n_features), additional tabular data\n",
    "    y: np array of shape (n_samples,), the classifcation target\n",
    "    dim_reduction_name: str, the name of the dim reduction method\n",
    "    dim_reduction: sklearn transformer, the dim reduction method\n",
    "    model_name: str, the name of the model\n",
    "    model: sklearn model, the model\n",
    "    encoding: str, the name of the encoding which was used to create X_enc\n",
    "    cv: sklearn cross validator, the cross validator to use\n",
    "    regression: bool, whether to use regression or classification, default False\n",
    "    no_interaction_between_enc_and_rest: bool, whether to use the interaction between X_enc and X_rest, default False\n",
    "    \"\"\"\n",
    "    assert model_name in [\"TabPFNClassifier\", \"TabPFNClassifier_basic\", \"LogisticRegression\", \"GradientBoostingClassifier\", \"GradientBoostingRegressor\", \"LinearRegression\", \"HistGradientBoostingClassifier\"]\n",
    "    assert encoding.startswith(\"lm__\") or encoding.startswith(\"skrub__\") or encoding.startswith(\"bert_custom__\") or encoding.startswith(\"openai__\") or encoding.startswith(\"bert_custom_pooling__\")\n",
    "    if no_interaction_between_enc_and_rest:\n",
    "        assert model_name == \"HistGradientBoostingClassifier\"\n",
    "    #TODO: make this cleaner\n",
    "    # we want to eliminate certain combinations\n",
    "    # passthrough and lm__ means taking the full lm embedding, which is slow if the model is not LogisticRegression\n",
    "    # for skrub encodings, we don't want to use passthrough\n",
    "    if dim_reduction_name == \"passthrough\" and not (model_name in [\"LogisticRegression\", \"LinearRegression\"]) and not encoding.startswith(\"skrub\"):\n",
    "        print(\"Skipping {} with {} and {}\".format(model_name, dim_reduction_name, encoding))\n",
    "        return None\n",
    "    if dim_reduction_name != \"passthrough\" and encoding.startswith(\"skrub\"):\n",
    "        print(\"Skipping {} with {} and {}\".format(model_name, dim_reduction_name, encoding))\n",
    "        return None\n",
    "    print(\"Running {} with {} and {}\".format(model_name, dim_reduction_name, encoding))\n",
    "    if X_rest is not None:\n",
    "        # encode X_rest with the TableVectorizer\n",
    "        if model_name.startswith(\"TabPFNClassifier\"):\n",
    "            # ordinal encoding for low_cardinality columns\n",
    "            low_card_cat_transformer = OrdinalEncoder(handle_unknown=\"use_encoded_value\", unknown_value=-1)\n",
    "        else:\n",
    "            low_card_cat_transformer = OneHotEncoder(handle_unknown=\"ignore\")\n",
    "        if model_name.startswith(\"LogisticRegression\"):\n",
    "            numerical_transformer = StandardScaler()\n",
    "        else:\n",
    "            numerical_transformer = \"passthrough\"\n",
    "        \n",
    "        rest_trans = TableVectorizer(high_card_cat_transformer = MinHashEncoder(n_components=10, analyzer='char'),\n",
    "                                    low_card_cat_transformer = low_card_cat_transformer,\n",
    "                                    numerical_transformer=numerical_transformer,\n",
    "                                    cardinality_threshold=30)\n",
    "    if X_rest is not None and X_enc is not None:\n",
    "        \n",
    "        # Assuming X_enc and X_rest are numpy arrays, you can get their shapes\n",
    "        n_enc_columns = X_enc.shape[1]\n",
    "        # names of the columns should be of format original_column_name__index\n",
    "        assert all([\"__\" in col for col in X_enc.columns])\n",
    "        original_column_names = np.unique([col.split(\"__\")[0] for col in X_enc.columns])\n",
    "        # get the indices of the columns for each original column\n",
    "        encoded_columns_indices = []\n",
    "        for col in original_column_names:\n",
    "            indices = [i for i, c in enumerate(X_enc.columns) if c.split(\"__\")[0] == col]\n",
    "            encoded_columns_indices.append(indices)\n",
    "        print(encoded_columns_indices)\n",
    "        print(len(encoded_columns_indices))\n",
    "        n_rest_columns = X_rest.shape[1]\n",
    "\n",
    "        # Create column indices for X_enc and X_rest\n",
    "        enc_indices = np.arange(n_enc_columns)\n",
    "        rest_indices = np.arange(n_enc_columns, n_enc_columns + n_rest_columns)\n",
    "        #check\n",
    "        all_indices = np.concatenate(encoded_columns_indices + [rest_indices])\n",
    "        # assert no duplicates\n",
    "        assert len(all_indices) == len(np.unique(all_indices)), f\"Duplicate indices: {[i for i in all_indices if list(all_indices).count(i) > 1]}\"\n",
    "        # assert we have all indices\n",
    "        assert set(all_indices) == set(np.arange(n_enc_columns + n_rest_columns))\n",
    "\n",
    "        # Create the ColumnTransformer\n",
    "        #TODO: test this\n",
    "        transformers = []\n",
    "        for i in range(len(original_column_names)):\n",
    "            transformers.append((f\"dim_reduction_{i}\", dim_reduction if isinstance(dim_reduction, str) else clone(dim_reduction), encoded_columns_indices[i]))\n",
    "        #transformers.append(('rest_trans', rest_trans, rest_indices))\n",
    "        print(transformers)\n",
    "        text_transformer = ColumnTransformer(\n",
    "            transformers=transformers,\n",
    "        )\n",
    "        \n",
    "\n",
    "        full_X = np.concatenate([X_enc, X_rest], axis=1)\n",
    "        print(X_enc.shape, X_rest.shape, full_X.shape)\n",
    "        #print(complete_trans.fit_transform(full_X).shape)\n",
    "    else:\n",
    "        raise NameError\n",
    "\n",
    "\n",
    "        \n",
    "    #scores = cross_val_score(pipeline, full_X, y, scoring=\"accuracy\", cv=cv)\n",
    "    # report both accuracy and roc_auc\n",
    "    if regression:\n",
    "        raise NameError\n",
    "    \n",
    "    #scores = cross_validate(pipeline, full_X, y, scoring=[\"accuracy\", \"roc_auc_ovr\"], cv=cv)\n",
    "    accuracy_list = []\n",
    "    roc_auc_list = []\n",
    "    for i, (train, test) in enumerate(cv.split(full_X, y)):\n",
    "        print(f\"Fold {i}\")\n",
    "        train_X_enc = X_enc.iloc[train]\n",
    "        train_X_rest = X_rest.iloc[train]\n",
    "        train_y = y[train]\n",
    "        test_X_enc = X_enc.iloc[test]\n",
    "        test_X_rest = X_rest.iloc[test]\n",
    "        test_y = y[test]\n",
    "        # transform the data\n",
    "        train_X_enc_trans = text_transformer.fit_transform(train_X_enc)\n",
    "        test_X_enc_trans = text_transformer.transform(test_X_enc)\n",
    "        train_X_rest_trans = rest_trans.fit_transform(train_X_rest)\n",
    "        test_X_rest_trans = rest_trans.transform(test_X_rest)\n",
    "        # merge\n",
    "        train_X_trans = np.concatenate([train_X_enc_trans, train_X_rest_trans], axis=1)\n",
    "        test_X_trans = np.concatenate([test_X_enc_trans, test_X_rest_trans], axis=1)\n",
    "        # fit the model\n",
    "        if no_interaction_between_enc_and_rest:\n",
    "            enc_indices = list(np.arange(train_X_enc_trans.shape[1]))\n",
    "            model.set_params(interaction_cst=[enc_indices])\n",
    "        model.fit(train_X_trans, train_y)\n",
    "        # predict\n",
    "        y_pred = model.predict(test_X_trans)\n",
    "        # score\n",
    "        accuracy_list.append(accuracy_score(test_y, y_pred))\n",
    "        roc_auc_list.append(roc_auc_score(test_y, y_pred))\n",
    "\n",
    "\n",
    "        \n",
    "\n",
    "    try:\n",
    "        n_train = cv.n_train\n",
    "        n_test = cv.n_test\n",
    "    except:\n",
    "        n_train = np.nan\n",
    "        n_test = np.nan\n",
    "    res =  {\n",
    "        'encoding': encoding,\n",
    "        'dim_reduction': dim_reduction_name,\n",
    "        'model': model_name,\n",
    "        #'accuracies': scores['test_accuracy'],\n",
    "        #'roc_auc': scores['test_roc_auc_ovr'],\n",
    "        'accuracies': accuracy_list,\n",
    "        'roc_auc': roc_auc_list,\n",
    "        'n_train': n_train,\n",
    "        'n_test': n_test,\n",
    "        \"no_interaction_between_enc_and_rest\": no_interaction_between_enc_and_rest,\n",
    "        **kwargs\n",
    "    }\n",
    "    # add the scores\n",
    "    # if regression:\n",
    "    #     res['neg_mean_squared_error'] = scores['test_neg_mean_squared_error']\n",
    "    #     res['r2'] = scores['test_r2']\n",
    "    # else:\n",
    "    #     res['accuracies'] = scores['test_accuracy']\n",
    "    #     res['roc_auc'] = scores['test_roc_auc_ovr']\n",
    "    \n",
    "    return res\n"
   ]
  },
  {
   "cell_type": "code",
   "execution_count": 45,
   "metadata": {},
   "outputs": [
    {
     "name": "stdout",
     "output_type": "stream",
     "text": [
      "Removed 2 columns with missing values on 12 columns\n",
      "Removed 1652 rows with missing values on 3967 rows\n",
      "Removed 1652 rows with missing values on 2315 rows\n",
      "Removed 2 columns with missing values on 9 columns\n",
      "New shape: (2315, 10)\n",
      "Original task: regression for goodreads\n",
      "Converting to binary classification\n",
      "Classes (array([0, 1]), array([1167, 1148]))\n",
      "X shape: (2315, 10), y shape: (2315,)\n",
      "numeric ['PageCount', 'NumberofRatings']\n",
      "low_card_cat ['Format', 'Language']\n",
      "high_card_cat ['Title', 'Description', 'FirstAuthor', 'NumberofReviews', 'Publisher', 'PublishDate']\n",
      "High cardinality columns ['Title', 'Description', 'FirstAuthor', 'NumberofReviews', 'Publisher', 'PublishDate']\n",
      "working dir /scratch/lgrinszt/lm_tab/scripts\n",
      "Loaded from cache\n",
      "working dir /scratch/lgrinszt/lm_tab/scripts\n",
      "Loaded from cache\n",
      "working dir /scratch/lgrinszt/lm_tab/scripts\n",
      "Loaded from cache\n",
      "working dir /scratch/lgrinszt/lm_tab/scripts\n",
      "Loaded from cache\n",
      "working dir /scratch/lgrinszt/lm_tab/scripts\n",
      "Loaded from cache\n",
      "working dir /scratch/lgrinszt/lm_tab/scripts\n",
      "Loaded from cache\n"
     ]
    }
   ],
   "source": [
    "from src.encodings import encode_high_cardinality_features\n",
    "from src.data_loading import load_data\n",
    "\n",
    "dataset = \"goodreads\"\n",
    "X, y = load_data(dataset, max_rows=10_000)\n",
    "encoding = \"skrub__minhash_30\"\n",
    "X_enc, X_rest = encode_high_cardinality_features(X, encoding, dataset_name=dataset, override_cache=False, cardinality_threshold=30, fail_if_not_cached=True)"
   ]
  },
  {
   "cell_type": "code",
   "execution_count": 46,
   "metadata": {},
   "outputs": [
    {
     "name": "stdout",
     "output_type": "stream",
     "text": [
      "Running HistGradientBoostingClassifier with passthrough and skrub__minhash_30\n",
      "[[30, 31, 32, 33, 34, 35, 36, 37, 38, 39, 40, 41, 42, 43, 44, 45, 46, 47, 48, 49, 50, 51, 52, 53, 54, 55, 56, 57, 58, 59], [60, 61, 62, 63, 64, 65, 66, 67, 68, 69, 70, 71, 72, 73, 74, 75, 76, 77, 78, 79, 80, 81, 82, 83, 84, 85, 86, 87, 88, 89], [90, 91, 92, 93, 94, 95, 96, 97, 98, 99, 100, 101, 102, 103, 104, 105, 106, 107, 108, 109, 110, 111, 112, 113, 114, 115, 116, 117, 118, 119], [150, 151, 152, 153, 154, 155, 156, 157, 158, 159, 160, 161, 162, 163, 164, 165, 166, 167, 168, 169, 170, 171, 172, 173, 174, 175, 176, 177, 178, 179], [120, 121, 122, 123, 124, 125, 126, 127, 128, 129, 130, 131, 132, 133, 134, 135, 136, 137, 138, 139, 140, 141, 142, 143, 144, 145, 146, 147, 148, 149], [0, 1, 2, 3, 4, 5, 6, 7, 8, 9, 10, 11, 12, 13, 14, 15, 16, 17, 18, 19, 20, 21, 22, 23, 24, 25, 26, 27, 28, 29]]\n",
      "6\n",
      "[('dim_reduction_0', 'passthrough', [30, 31, 32, 33, 34, 35, 36, 37, 38, 39, 40, 41, 42, 43, 44, 45, 46, 47, 48, 49, 50, 51, 52, 53, 54, 55, 56, 57, 58, 59]), ('dim_reduction_1', 'passthrough', [60, 61, 62, 63, 64, 65, 66, 67, 68, 69, 70, 71, 72, 73, 74, 75, 76, 77, 78, 79, 80, 81, 82, 83, 84, 85, 86, 87, 88, 89]), ('dim_reduction_2', 'passthrough', [90, 91, 92, 93, 94, 95, 96, 97, 98, 99, 100, 101, 102, 103, 104, 105, 106, 107, 108, 109, 110, 111, 112, 113, 114, 115, 116, 117, 118, 119]), ('dim_reduction_3', 'passthrough', [150, 151, 152, 153, 154, 155, 156, 157, 158, 159, 160, 161, 162, 163, 164, 165, 166, 167, 168, 169, 170, 171, 172, 173, 174, 175, 176, 177, 178, 179]), ('dim_reduction_4', 'passthrough', [120, 121, 122, 123, 124, 125, 126, 127, 128, 129, 130, 131, 132, 133, 134, 135, 136, 137, 138, 139, 140, 141, 142, 143, 144, 145, 146, 147, 148, 149]), ('dim_reduction_5', 'passthrough', [0, 1, 2, 3, 4, 5, 6, 7, 8, 9, 10, 11, 12, 13, 14, 15, 16, 17, 18, 19, 20, 21, 22, 23, 24, 25, 26, 27, 28, 29])]\n",
      "(2315, 180) (2315, 4) (2315, 184)\n",
      "Fold 0\n",
      "Fold 1\n",
      "Fold 2\n",
      "Fold 3\n",
      "Fold 4\n",
      "Fold 5\n",
      "Fold 6\n"
     ]
    },
    {
     "data": {
      "text/plain": [
       "{'encoding': 'skrub__minhash_30',\n",
       " 'dim_reduction': 'passthrough',\n",
       " 'model': 'HistGradientBoostingClassifier',\n",
       " 'accuracies': [0.62, 0.598, 0.59, 0.57, 0.62, 0.572, 0.634],\n",
       " 'roc_auc': [0.62,\n",
       "  0.5996794871794872,\n",
       "  0.5886754701880752,\n",
       "  0.5722754327702106,\n",
       "  0.6190125512295082,\n",
       "  0.5717486994797919,\n",
       "  0.6339541432662923],\n",
       " 'n_train': 1000,\n",
       " 'n_test': 500}"
      ]
     },
     "execution_count": 46,
     "metadata": {},
     "output_type": "execute_result"
    }
   ],
   "source": [
    "from sklearn.ensemble import HistGradientBoostingClassifier, GradientBoostingClassifier, GradientBoostingRegressor, HistGradientBoostingRegressor\n",
    "from src.utils import FixedSizeSplit\n",
    "cv = FixedSizeSplit(n_train=1000, n_test=500, n_splits=7)\n",
    "run_on_encoded_data_with_cst(X_enc, X_rest, y, \"passthrough\", \"passthrough\", \"HistGradientBoostingClassifier\", HistGradientBoostingClassifier(), encoding, cv=cv, regression=False, no_interaction_between_enc_and_rest=False)"
   ]
  },
  {
   "cell_type": "code",
   "execution_count": 74,
   "metadata": {},
   "outputs": [],
   "source": [
    "def pipeline(dataset, encoding, dim_reduction_name, dim_reduction, no_interaction_between_enc_and_rest):\n",
    "    X, y = load_data(dataset, max_rows=10_000)\n",
    "    X_enc, X_rest = encode_high_cardinality_features(X, encoding, dataset_name=dataset, override_cache=False, cardinality_threshold=30, fail_if_not_cached=True)\n",
    "    cv = FixedSizeSplit(n_train=1000, n_test=500, n_splits=7)\n",
    "    return run_on_encoded_data_with_cst(X_enc, X_rest, y, dim_reduction_name, dim_reduction, \"HistGradientBoostingClassifier\", HistGradientBoostingClassifier(), encoding, cv=cv, regression=False, no_interaction_between_enc_and_rest=no_interaction_between_enc_and_rest, dataset=dataset)"
   ]
  },
  {
   "cell_type": "code",
   "execution_count": 75,
   "metadata": {},
   "outputs": [
    {
     "name": "stderr",
     "output_type": "stream",
     "text": [
      "/scratch/lgrinszt/micromamba/envs/dpo/lib/python3.10/site-packages/submitit/auto/auto.py:23: UserWarning: Setting 'exclude' is deprecated. Use 'slurm_exclude' instead.\n",
      "  warnings.warn(f\"Setting '{arg}' is deprecated. Use '{new_arg}' instead.\")\n"
     ]
    }
   ],
   "source": [
    "from sklearn.decomposition import PCA\n",
    "datasets = ['bikewale', 'clear_corpus', 'company_employees',\n",
    "       'employee-remuneration-and-expenses-earning-over-75000',\n",
    "       'employee_salary', 'goodreads', 'journal_jcr_cls', 'ramen_ratings',\n",
    "       'spotify', 'us_accidents_counts', 'us_accidents_severity',\n",
    "       'us_presidential', 'wine_review', 'zomato']\n",
    "\n",
    "encodings = [\"openai__\", \"lm__BAAI/bge-large-en-v1.5\", \"skrub__minhash_30\"]\n",
    "no_interaction_between_enc_and_rest_list = [False, True]\n",
    "dim_reductions = {\"PCA_30\": PCA(n_components=30), \"passthrough\": \"passthrough\"}\n",
    "\n",
    "import submitit\n",
    "import time\n",
    "# Generate all combinations of parameters\n",
    "from itertools import product\n",
    "\n",
    "jobs = []\n",
    "\n",
    "executor = submitit.AutoExecutor(folder=\"logs\")\n",
    "executor.update_parameters(timeout_min=100, slurm_partition='parietal,normal', slurm_array_parallelism=200, cpus_per_task=2,\n",
    "                            exclude=\"margpu009\")\n",
    "# change name of job\n",
    "executor.update_parameters(name=\"switch_encoding\")\n",
    "\n",
    "with executor.batch():\n",
    "    for dataset_name in datasets:\n",
    "        for encoding in encodings:\n",
    "            for dim_reduction_name, dim_reduction in dim_reductions.items():\n",
    "                for no_interaction_between_enc_and_rest in no_interaction_between_enc_and_rest_list:\n",
    "                    job = executor.submit(pipeline, dataset_name, encoding, dim_reduction_name, dim_reduction, no_interaction_between_enc_and_rest)\n",
    "                    jobs.append(job)"
   ]
  },
  {
   "cell_type": "code",
   "execution_count": 76,
   "metadata": {},
   "outputs": [
    {
     "name": "stderr",
     "output_type": "stream",
     "text": [
      "sacct: error: slurm_persist_conn_open_without_init: failed to open persistent connection to host:localhost:6819: Connection refused\n",
      "sacct: error: Sending PersistInit msg: Connection refused\n",
      "sacct: error: Problem talking to the database: Connection refused\n",
      "submitit WARNING (2023-11-14 20:27:05,005) - Call #18 - Bypassing sacct error Command '['sacct', '-o', 'JobID,State,NodeList', '--parsable2', '-j', '1817430', '-j', '1817794', '-j', '1817598', '-j', '1817962']' returned non-zero exit status 1., status may be inaccurate.\n"
     ]
    },
    {
     "name": "stdout",
     "output_type": "stream",
     "text": [
      "submitit WARNING (2023-11-14 20:27:05,005) - Call #18 - Bypassing sacct error Command '['sacct', '-o', 'JobID,State,NodeList', '--parsable2', '-j', '1817430', '-j', '1817794', '-j', '1817598', '-j', '1817962']' returned non-zero exit status 1., status may be inaccurate.\n"
     ]
    },
    {
     "name": "stderr",
     "output_type": "stream",
     "text": [
      "sacct: error: slurm_persist_conn_open_without_init: failed to open persistent connection to host:localhost:6819: Connection refused\n",
      "sacct: error: Sending PersistInit msg: Connection refused\n",
      "sacct: error: Problem talking to the database: Connection refused\n",
      "submitit WARNING (2023-11-14 20:27:07,015) - Call #19 - Bypassing sacct error Command '['sacct', '-o', 'JobID,State,NodeList', '--parsable2', '-j', '1817430', '-j', '1817794', '-j', '1817598', '-j', '1817962']' returned non-zero exit status 1., status may be inaccurate.\n"
     ]
    },
    {
     "name": "stdout",
     "output_type": "stream",
     "text": [
      "submitit WARNING (2023-11-14 20:27:07,015) - Call #19 - Bypassing sacct error Command '['sacct', '-o', 'JobID,State,NodeList', '--parsable2', '-j', '1817430', '-j', '1817794', '-j', '1817598', '-j', '1817962']' returned non-zero exit status 1., status may be inaccurate.\n"
     ]
    },
    {
     "name": "stderr",
     "output_type": "stream",
     "text": [
      "sacct: error: slurm_persist_conn_open_without_init: failed to open persistent connection to host:localhost:6819: Connection refused\n",
      "sacct: error: Sending PersistInit msg: Connection refused\n",
      "sacct: error: Problem talking to the database: Connection refused\n",
      "submitit WARNING (2023-11-14 20:27:10,028) - Call #20 - Bypassing sacct error Command '['sacct', '-o', 'JobID,State,NodeList', '--parsable2', '-j', '1817430', '-j', '1817794', '-j', '1817598', '-j', '1817962']' returned non-zero exit status 1., status may be inaccurate.\n"
     ]
    },
    {
     "name": "stdout",
     "output_type": "stream",
     "text": [
      "submitit WARNING (2023-11-14 20:27:10,028) - Call #20 - Bypassing sacct error Command '['sacct', '-o', 'JobID,State,NodeList', '--parsable2', '-j', '1817430', '-j', '1817794', '-j', '1817598', '-j', '1817962']' returned non-zero exit status 1., status may be inaccurate.\n"
     ]
    },
    {
     "name": "stderr",
     "output_type": "stream",
     "text": [
      "sacct: error: slurm_persist_conn_open_without_init: failed to open persistent connection to host:localhost:6819: Connection refused\n",
      "sacct: error: Sending PersistInit msg: Connection refused\n",
      "sacct: error: Problem talking to the database: Connection refused\n",
      "submitit WARNING (2023-11-14 20:27:16,044) - Call #21 - Bypassing sacct error Command '['sacct', '-o', 'JobID,State,NodeList', '--parsable2', '-j', '1817430', '-j', '1817794', '-j', '1817598', '-j', '1817962']' returned non-zero exit status 1., status may be inaccurate.\n"
     ]
    },
    {
     "name": "stdout",
     "output_type": "stream",
     "text": [
      "submitit WARNING (2023-11-14 20:27:16,044) - Call #21 - Bypassing sacct error Command '['sacct', '-o', 'JobID,State,NodeList', '--parsable2', '-j', '1817430', '-j', '1817794', '-j', '1817598', '-j', '1817962']' returned non-zero exit status 1., status may be inaccurate.\n"
     ]
    },
    {
     "name": "stderr",
     "output_type": "stream",
     "text": [
      "sacct: error: slurm_persist_conn_open_without_init: failed to open persistent connection to host:localhost:6819: Connection refused\n",
      "sacct: error: Sending PersistInit msg: Connection refused\n",
      "sacct: error: Problem talking to the database: Connection refused\n",
      "submitit WARNING (2023-11-14 20:27:28,073) - Call #22 - Bypassing sacct error Command '['sacct', '-o', 'JobID,State,NodeList', '--parsable2', '-j', '1817430', '-j', '1817794', '-j', '1817598', '-j', '1817962']' returned non-zero exit status 1., status may be inaccurate.\n"
     ]
    },
    {
     "name": "stdout",
     "output_type": "stream",
     "text": [
      "submitit WARNING (2023-11-14 20:27:28,073) - Call #22 - Bypassing sacct error Command '['sacct', '-o', 'JobID,State,NodeList', '--parsable2', '-j', '1817430', '-j', '1817794', '-j', '1817598', '-j', '1817962']' returned non-zero exit status 1., status may be inaccurate.\n"
     ]
    },
    {
     "name": "stderr",
     "output_type": "stream",
     "text": [
      "sacct: error: slurm_persist_conn_open_without_init: failed to open persistent connection to host:localhost:6819: Connection refused\n",
      "sacct: error: Sending PersistInit msg: Connection refused\n",
      "sacct: error: Problem talking to the database: Connection refused\n",
      "submitit WARNING (2023-11-14 20:27:52,120) - Call #23 - Bypassing sacct error Command '['sacct', '-o', 'JobID,State,NodeList', '--parsable2', '-j', '1817430', '-j', '1817794', '-j', '1817598', '-j', '1817962']' returned non-zero exit status 1., status may be inaccurate.\n"
     ]
    },
    {
     "name": "stdout",
     "output_type": "stream",
     "text": [
      "submitit WARNING (2023-11-14 20:27:52,120) - Call #23 - Bypassing sacct error Command '['sacct', '-o', 'JobID,State,NodeList', '--parsable2', '-j', '1817430', '-j', '1817794', '-j', '1817598', '-j', '1817962']' returned non-zero exit status 1., status may be inaccurate.\n"
     ]
    },
    {
     "data": {
      "text/plain": [
       "{'encoding': 'openai__',\n",
       " 'dim_reduction': 'PCA_30',\n",
       " 'model': 'HistGradientBoostingClassifier',\n",
       " 'accuracies': [0.86, 0.86, 0.858, 0.858, 0.904, 0.848, 0.878],\n",
       " 'roc_auc': [0.8600375415122492,\n",
       "  0.8608717973400073,\n",
       "  0.8560927067283,\n",
       "  0.8571497213146262,\n",
       "  0.9040821878350483,\n",
       "  0.8460547504025764,\n",
       "  0.8769638569748143],\n",
       " 'n_train': 1000,\n",
       " 'n_test': 500,\n",
       " 'no_interaction_between_enc_and_rest': False,\n",
       " 'dataset': 'bikewale'}"
      ]
     },
     "execution_count": 76,
     "metadata": {},
     "output_type": "execute_result"
    }
   ],
   "source": [
    "jobs[0].result()"
   ]
  },
  {
   "cell_type": "code",
   "execution_count": 77,
   "metadata": {},
   "outputs": [
    {
     "name": "stdout",
     "output_type": "stream",
     "text": [
      "{'encoding': 'openai__', 'dim_reduction': 'PCA_30', 'model': 'HistGradientBoostingClassifier', 'accuracies': [0.86, 0.86, 0.858, 0.858, 0.904, 0.848, 0.878], 'roc_auc': [0.8600375415122492, 0.8608717973400073, 0.8560927067283, 0.8571497213146262, 0.9040821878350483, 0.8460547504025764, 0.8769638569748143], 'n_train': 1000, 'n_test': 500, 'no_interaction_between_enc_and_rest': False, 'dataset': 'bikewale'}\n",
      "{'encoding': 'openai__', 'dim_reduction': 'PCA_30', 'model': 'HistGradientBoostingClassifier', 'accuracies': [0.848, 0.882, 0.814, 0.818, 0.868, 0.874, 0.88], 'roc_auc': [0.8471388555422168, 0.8812463916864456, 0.8168276972624798, 0.8164993978321959, 0.8687619691337164, 0.8709831474316427, 0.8790489483563557], 'n_train': 1000, 'n_test': 500, 'no_interaction_between_enc_and_rest': True, 'dataset': 'bikewale'}\n",
      "{'encoding': 'lm__BAAI/bge-large-en-v1.5', 'dim_reduction': 'PCA_30', 'model': 'HistGradientBoostingClassifier', 'accuracies': [0.888, 0.866, 0.85, 0.88, 0.89, 0.868, 0.832], 'roc_auc': [0.8887996788438378, 0.864281015866904, 0.8500536008576137, 0.8804926550772981, 0.8932272541819666, 0.868, 0.8309112806101967], 'n_train': 1000, 'n_test': 500, 'no_interaction_between_enc_and_rest': False, 'dataset': 'bikewale'}\n",
      "{'encoding': 'lm__BAAI/bge-large-en-v1.5', 'dim_reduction': 'PCA_30', 'model': 'HistGradientBoostingClassifier', 'accuracies': [0.824, 0.842, 0.836, 0.864, 0.834, 0.844, 0.864], 'roc_auc': [0.824492542334866, 0.8421522715203013, 0.8354002976428605, 0.8636859323882224, 0.8328818369453045, 0.8434298155737705, 0.8646886364728689], 'n_train': 1000, 'n_test': 500, 'no_interaction_between_enc_and_rest': True, 'dataset': 'bikewale'}\n",
      "{'encoding': 'skrub__minhash_30', 'dim_reduction': 'passthrough', 'model': 'HistGradientBoostingClassifier', 'accuracies': [0.852, 0.856, 0.874, 0.884, 0.87, 0.87, 0.876], 'roc_auc': [0.8526787867097458, 0.8543795385900649, 0.8732531055900621, 0.8828512297251769, 0.8698066705076499, 0.8709506703444736, 0.873968008255934], 'n_train': 1000, 'n_test': 500, 'no_interaction_between_enc_and_rest': False, 'dataset': 'bikewale'}\n",
      "{'encoding': 'skrub__minhash_30', 'dim_reduction': 'passthrough', 'model': 'HistGradientBoostingClassifier', 'accuracies': [0.822, 0.834, 0.898, 0.832, 0.854, 0.878, 0.868], 'roc_auc': [0.8225222627971042, 0.8309637159032424, 0.8975376328572117, 0.83164400890298, 0.8551664086687307, 0.877936751808463, 0.8678671468587436], 'n_train': 1000, 'n_test': 500, 'no_interaction_between_enc_and_rest': True, 'dataset': 'bikewale'}\n",
      "{'encoding': 'openai__', 'dim_reduction': 'PCA_30', 'model': 'HistGradientBoostingClassifier', 'accuracies': [0.776, 0.772, 0.754, 0.744, 0.766, 0.778, 0.81], 'roc_auc': [0.7757748463114754, 0.7717495678893797, 0.7537878787878788, 0.7437564036885246, 0.766, 0.777775995894541, 0.8105242096838735], 'n_train': 1000, 'n_test': 500, 'no_interaction_between_enc_and_rest': False, 'dataset': 'clear_corpus'}\n",
      "{'encoding': 'openai__', 'dim_reduction': 'PCA_30', 'model': 'HistGradientBoostingClassifier', 'accuracies': [0.782, 0.744, 0.776, 0.762, 0.764, 0.778, 0.756], 'roc_auc': [0.7821300563236047, 0.7445378151260504, 0.7760496671786994, 0.7595471443055086, 0.766628108733372, 0.7780684490951856, 0.7552333397349722], 'n_train': 1000, 'n_test': 500, 'no_interaction_between_enc_and_rest': True, 'dataset': 'clear_corpus'}\n",
      "{'encoding': 'lm__BAAI/bge-large-en-v1.5', 'dim_reduction': 'PCA_30', 'model': 'HistGradientBoostingClassifier', 'accuracies': [0.772, 0.81, 0.784, 0.754, 0.786, 0.782, 0.78], 'roc_auc': [0.7740931478718454, 0.8097976929617686, 0.7821767854559483, 0.753946796697726, 0.7868734396005377, 0.7819405110481767, 0.780064329263414], 'n_train': 1000, 'n_test': 500, 'no_interaction_between_enc_and_rest': False, 'dataset': 'clear_corpus'}\n",
      "{'encoding': 'lm__BAAI/bge-large-en-v1.5', 'dim_reduction': 'PCA_30', 'model': 'HistGradientBoostingClassifier', 'accuracies': [0.762, 0.792, 0.778, 0.754, 0.756, 0.772, 0.768], 'roc_auc': [0.7625658094765645, 0.7935533880240294, 0.7740636749447322, 0.755393708416769, 0.7554894052877537, 0.7719551282051283, 0.7680811571940604], 'n_train': 1000, 'n_test': 500, 'no_interaction_between_enc_and_rest': True, 'dataset': 'clear_corpus'}\n",
      "{'encoding': 'skrub__minhash_30', 'dim_reduction': 'passthrough', 'model': 'HistGradientBoostingClassifier', 'accuracies': [0.766, 0.758, 0.776, 0.76, 0.806, 0.772, 0.784], 'roc_auc': [0.766148258372134, 0.7563843601211946, 0.7755141264655008, 0.7607083953819795, 0.8062408823482261, 0.7719643514296228, 0.7872025008459691], 'n_train': 1000, 'n_test': 500, 'no_interaction_between_enc_and_rest': False, 'dataset': 'clear_corpus'}\n",
      "{'encoding': 'skrub__minhash_30', 'dim_reduction': 'passthrough', 'model': 'HistGradientBoostingClassifier', 'accuracies': [0.722, 0.746, 0.756, 0.732, 0.764, 0.762, 0.774], 'roc_auc': [0.722959649882172, 0.7460199363189811, 0.7551360266448895, 0.7312412987470196, 0.764600266115199, 0.7625658094765645, 0.7742302029319506], 'n_train': 1000, 'n_test': 500, 'no_interaction_between_enc_and_rest': True, 'dataset': 'clear_corpus'}\n",
      "{'encoding': 'openai__', 'dim_reduction': 'PCA_30', 'model': 'HistGradientBoostingClassifier', 'accuracies': [0.574, 0.604, 0.562, 0.61, 0.62, 0.572, 0.57], 'roc_auc': [0.577971954623937, 0.6027463030535818, 0.5647897316821466, 0.6082929016348817, 0.6227217984745081, 0.5720411526584426, 0.5678955896744797], 'n_train': 1000, 'n_test': 500, 'no_interaction_between_enc_and_rest': False, 'dataset': 'company_employees'}\n",
      "{'encoding': 'openai__', 'dim_reduction': 'PCA_30', 'model': 'HistGradientBoostingClassifier', 'accuracies': [0.606, 0.604, 0.622, 0.588, 0.632, 0.586, 0.582], 'roc_auc': [0.6055327868852459, 0.6056489210016182, 0.6214231957854959, 0.5877888264399289, 0.632, 0.5874092824300293, 0.5816757613096286], 'n_train': 1000, 'n_test': 500, 'no_interaction_between_enc_and_rest': True, 'dataset': 'company_employees'}\n",
      "{'encoding': 'lm__BAAI/bge-large-en-v1.5', 'dim_reduction': 'PCA_30', 'model': 'HistGradientBoostingClassifier', 'accuracies': [0.582, 0.576, 0.614, 0.6, 0.592, 0.594, 0.624], 'roc_auc': [0.5836321721311475, 0.5719696969696969, 0.6164549255835563, 0.5994494590615197, 0.5918932326254981, 0.593761500184003, 0.6246813831577935], 'n_train': 1000, 'n_test': 500, 'no_interaction_between_enc_and_rest': False, 'dataset': 'company_employees'}\n",
      "{'encoding': 'lm__BAAI/bge-large-en-v1.5', 'dim_reduction': 'PCA_30', 'model': 'HistGradientBoostingClassifier', 'accuracies': [0.636, 0.562, 0.594, 0.58, 0.598, 0.586, 0.61], 'roc_auc': [0.636667680145941, 0.5644399460188935, 0.5938495780692062, 0.5802931387608807, 0.5979712378017463, 0.5854774705581156, 0.6099653601898775], 'n_train': 1000, 'n_test': 500, 'no_interaction_between_enc_and_rest': True, 'dataset': 'company_employees'}\n",
      "{'encoding': 'skrub__minhash_30', 'dim_reduction': 'passthrough', 'model': 'HistGradientBoostingClassifier', 'accuracies': [0.574, 0.574, 0.616, 0.584, 0.63, 0.57, 0.604], 'roc_auc': [0.5745258544288498, 0.5782938754503345, 0.616, 0.5871348233132987, 0.6279597300373523, 0.5700491207859326, 0.604], 'n_train': 1000, 'n_test': 500, 'no_interaction_between_enc_and_rest': False, 'dataset': 'company_employees'}\n",
      "{'encoding': 'skrub__minhash_30', 'dim_reduction': 'passthrough', 'model': 'HistGradientBoostingClassifier', 'accuracies': [0.546, 0.594, 0.542, 0.538, 0.572, 0.576, 0.542], 'roc_auc': [0.5456844640706543, 0.5940000000000001, 0.542491511307579, 0.5403008531656939, 0.5710487539240181, 0.5776154782497278, 0.5421146953405017], 'n_train': 1000, 'n_test': 500, 'no_interaction_between_enc_and_rest': True, 'dataset': 'company_employees'}\n",
      "{'encoding': 'openai__', 'dim_reduction': 'PCA_30', 'model': 'HistGradientBoostingClassifier', 'accuracies': [0.808, 0.808, 0.798, 0.784, 0.794, 0.81, 0.77], 'roc_auc': [0.8056202328382176, 0.8078277009728623, 0.7988400488400488, 0.7822115384615386, 0.7945512820512821, 0.8078047683310842, 0.7712970684456989], 'n_train': 1000, 'n_test': 500, 'no_interaction_between_enc_and_rest': False, 'dataset': 'employee-remuneration-and-expenses-earning-over-75000'}\n",
      "{'encoding': 'openai__', 'dim_reduction': 'PCA_30', 'model': 'HistGradientBoostingClassifier', 'accuracies': [0.782, 0.768, 0.81, 0.798, 0.784, 0.772, 0.826], 'roc_auc': [0.7809748730801362, 0.7677485436271685, 0.8104314704564368, 0.7995584102769973, 0.7838248707813925, 0.7726332001732685, 0.8237699660016679], 'n_train': 1000, 'n_test': 500, 'no_interaction_between_enc_and_rest': True, 'dataset': 'employee-remuneration-and-expenses-earning-over-75000'}\n",
      "{'encoding': 'lm__BAAI/bge-large-en-v1.5', 'dim_reduction': 'PCA_30', 'model': 'HistGradientBoostingClassifier', 'accuracies': [0.798, 0.782, 0.794, 0.78, 0.808, 0.816, 0.812], 'roc_auc': [0.7979247667962686, 0.7818036981605754, 0.7920858000032086, 0.7799484791756668, 0.807843137254902, 0.8158194264095289, 0.8149337615415497], 'n_train': 1000, 'n_test': 500, 'no_interaction_between_enc_and_rest': False, 'dataset': 'employee-remuneration-and-expenses-earning-over-75000'}\n",
      "{'encoding': 'lm__BAAI/bge-large-en-v1.5', 'dim_reduction': 'PCA_30', 'model': 'HistGradientBoostingClassifier', 'accuracies': [0.788, 0.802, 0.79, 0.794, 0.798, 0.744, 0.77], 'roc_auc': [0.7863782051282051, 0.8023553507424475, 0.7900843034925733, 0.7946698921802656, 0.7977470558115718, 0.746363183359856, 0.7702931950579348], 'n_train': 1000, 'n_test': 500, 'no_interaction_between_enc_and_rest': True, 'dataset': 'employee-remuneration-and-expenses-earning-over-75000'}\n",
      "{'encoding': 'skrub__minhash_30', 'dim_reduction': 'passthrough', 'model': 'HistGradientBoostingClassifier', 'accuracies': [0.784, 0.808, 0.768, 0.75, 0.802, 0.74, 0.84], 'roc_auc': [0.7841609191723609, 0.8094551282051282, 0.7679802876846029, 0.7503203280158883, 0.7978968176809904, 0.7398198371173939, 0.8411173041194183], 'n_train': 1000, 'n_test': 500, 'no_interaction_between_enc_and_rest': False, 'dataset': 'employee-remuneration-and-expenses-earning-over-75000'}\n",
      "{'encoding': 'skrub__minhash_30', 'dim_reduction': 'passthrough', 'model': 'HistGradientBoostingClassifier', 'accuracies': [0.788, 0.744, 0.764, 0.778, 0.764, 0.752, 0.778], 'roc_auc': [0.7895993207196528, 0.7435236065941462, 0.7638411515063497, 0.7784872927469433, 0.766149207774713, 0.7547606793618116, 0.7792258767362502], 'n_train': 1000, 'n_test': 500, 'no_interaction_between_enc_and_rest': True, 'dataset': 'employee-remuneration-and-expenses-earning-over-75000'}\n",
      "{'encoding': 'openai__', 'dim_reduction': 'PCA_30', 'model': 'HistGradientBoostingClassifier', 'accuracies': [0.91, 0.9, 0.91, 0.932, 0.904, 0.94, 0.924], 'roc_auc': [0.9117171717171717, 0.8999615975422427, 0.9099265588249411, 0.932046912750604, 0.9039298515104967, 0.9400486524550286, 0.9251091422701592], 'n_train': 1000, 'n_test': 500, 'no_interaction_between_enc_and_rest': False, 'dataset': 'employee_salary'}\n",
      "{'encoding': 'openai__', 'dim_reduction': 'PCA_30', 'model': 'HistGradientBoostingClassifier', 'accuracies': [0.904, 0.92, 0.886, 0.924, 0.9, 0.888, 0.914], 'roc_auc': [0.9046325051759834, 0.9204481522560319, 0.8864102893065624, 0.9257832562917309, 0.9, 0.8878968253968255, 0.9154878578670401], 'n_train': 1000, 'n_test': 500, 'no_interaction_between_enc_and_rest': True, 'dataset': 'employee_salary'}\n",
      "{'encoding': 'lm__BAAI/bge-large-en-v1.5', 'dim_reduction': 'PCA_30', 'model': 'HistGradientBoostingClassifier', 'accuracies': [0.928, 0.922, 0.914, 0.9, 0.934, 0.894, 0.918], 'roc_auc': [0.927766393442623, 0.9210882054748225, 0.9141556384119314, 0.9021592442645074, 0.9340437788018434, 0.8915658775090067, 0.9176773097934924], 'n_train': 1000, 'n_test': 500, 'no_interaction_between_enc_and_rest': False, 'dataset': 'employee_salary'}\n",
      "{'encoding': 'lm__BAAI/bge-large-en-v1.5', 'dim_reduction': 'PCA_30', 'model': 'HistGradientBoostingClassifier', 'accuracies': [0.906, 0.876, 0.892, 0.898, 0.886, 0.914, 0.89], 'roc_auc': [0.9057114485232878, 0.8746775025799793, 0.8917924181082076, 0.8960314778158643, 0.8860786856895806, 0.9140056022408963, 0.890073535301751], 'n_train': 1000, 'n_test': 500, 'no_interaction_between_enc_and_rest': True, 'dataset': 'employee_salary'}\n",
      "{'encoding': 'skrub__minhash_30', 'dim_reduction': 'passthrough', 'model': 'HistGradientBoostingClassifier', 'accuracies': [0.896, 0.868, 0.91, 0.892, 0.926, 0.886, 0.892], 'roc_auc': [0.8965210211911739, 0.868232694432435, 0.9099999999999999, 0.8921474358974358, 0.9266288679607919, 0.8860075850922533, 0.8899897066392175], 'n_train': 1000, 'n_test': 500, 'no_interaction_between_enc_and_rest': False, 'dataset': 'employee_salary'}\n",
      "{'encoding': 'skrub__minhash_30', 'dim_reduction': 'passthrough', 'model': 'HistGradientBoostingClassifier', 'accuracies': [0.888, 0.868, 0.89, 0.896, 0.906, 0.904, 0.896], 'roc_auc': [0.888120839733743, 0.8679595494111623, 0.8915429570510434, 0.8975961538461539, 0.9078035794470459, 0.9039707486047854, 0.8958978328173374], 'n_train': 1000, 'n_test': 500, 'no_interaction_between_enc_and_rest': True, 'dataset': 'employee_salary'}\n"
     ]
    },
    {
     "name": "stderr",
     "output_type": "stream",
     "text": [
      "sacct: error: slurm_persist_conn_open_without_init: failed to open persistent connection to host:localhost:6819: Connection refused\n",
      "sacct: error: Sending PersistInit msg: Connection refused\n",
      "sacct: error: Problem talking to the database: Connection refused\n",
      "submitit WARNING (2023-11-14 20:28:40,414) - Call #24 - Bypassing sacct error Command '['sacct', '-o', 'JobID,State,NodeList', '--parsable2', '-j', '1817430', '-j', '1817794', '-j', '1817598', '-j', '1817962']' returned non-zero exit status 1., status may be inaccurate.\n"
     ]
    },
    {
     "name": "stdout",
     "output_type": "stream",
     "text": [
      "submitit WARNING (2023-11-14 20:28:40,414) - Call #24 - Bypassing sacct error Command '['sacct', '-o', 'JobID,State,NodeList', '--parsable2', '-j', '1817430', '-j', '1817794', '-j', '1817598', '-j', '1817962']' returned non-zero exit status 1., status may be inaccurate.\n",
      "{'encoding': 'openai__', 'dim_reduction': 'PCA_30', 'model': 'HistGradientBoostingClassifier', 'accuracies': [0.626, 0.616, 0.64, 0.63, 0.62, 0.672, 0.602], 'roc_auc': [0.6259540152642441, 0.6128498175563806, 0.6396054506733279, 0.6299308401639344, 0.6201853066841625, 0.6670111749886958, 0.6016265368852459], 'n_train': 1000, 'n_test': 500, 'no_interaction_between_enc_and_rest': False, 'dataset': 'goodreads'}\n",
      "{'encoding': 'openai__', 'dim_reduction': 'PCA_30', 'model': 'HistGradientBoostingClassifier', 'accuracies': [0.6, 0.612, 0.582, 0.584, 0.584, 0.618, 0.636], 'roc_auc': [0.6000896229434736, 0.6114882172131147, 0.586810736230768, 0.5933294513457558, 0.5851940776310525, 0.620421362704918, 0.6392007184553211], 'n_train': 1000, 'n_test': 500, 'no_interaction_between_enc_and_rest': True, 'dataset': 'goodreads'}\n",
      "{'encoding': 'lm__BAAI/bge-large-en-v1.5', 'dim_reduction': 'PCA_30', 'model': 'HistGradientBoostingClassifier', 'accuracies': [0.642, 0.644, 0.632, 0.6, 0.584, 0.606, 0.648], 'roc_auc': [0.6446354475400119, 0.6474790185149594, 0.6286634460547504, 0.5984892132385892, 0.5812499999999999, 0.6159117079420685, 0.6484583753340054], 'n_train': 1000, 'n_test': 500, 'no_interaction_between_enc_and_rest': False, 'dataset': 'goodreads'}\n",
      "{'encoding': 'lm__BAAI/bge-large-en-v1.5', 'dim_reduction': 'PCA_30', 'model': 'HistGradientBoostingClassifier', 'accuracies': [0.592, 0.65, 0.616, 0.62, 0.636, 0.608, 0.652], 'roc_auc': [0.5966751631157922, 0.6510950307377049, 0.6152861144457784, 0.6185575273729941, 0.636, 0.6099558410276997, 0.6510604241696678], 'n_train': 1000, 'n_test': 500, 'no_interaction_between_enc_and_rest': True, 'dataset': 'goodreads'}\n",
      "{'encoding': 'skrub__minhash_30', 'dim_reduction': 'passthrough', 'model': 'HistGradientBoostingClassifier', 'accuracies': [0.622, 0.616, 0.604, 0.622, 0.58, 0.6, 0.574], 'roc_auc': [0.6191558441558441, 0.6176070428171268, 0.6025264912871319, 0.6287546024158646, 0.5792783687089891, 0.6003136050176803, 0.5756275614754098], 'n_train': 1000, 'n_test': 500, 'no_interaction_between_enc_and_rest': False, 'dataset': 'goodreads'}\n",
      "{'encoding': 'skrub__minhash_30', 'dim_reduction': 'passthrough', 'model': 'HistGradientBoostingClassifier', 'accuracies': [0.622, 0.606, 0.578, 0.598, 0.572, 0.588, 0.624], 'roc_auc': [0.6219328592478698, 0.6071977705170094, 0.5805785123966942, 0.5991364808792194, 0.5738982615947142, 0.5880056323604711, 0.626352252817026], 'n_train': 1000, 'n_test': 500, 'no_interaction_between_enc_and_rest': True, 'dataset': 'goodreads'}\n",
      "{'encoding': 'openai__', 'dim_reduction': 'PCA_30', 'model': 'HistGradientBoostingClassifier', 'accuracies': [0.634, 0.622, 0.57, 0.594, 0.568, 0.556, 0.604], 'roc_auc': [0.627480707833983, 0.6072315534932358, 0.5557296040307473, 0.578172174622603, 0.5543434343434344, 0.5454218678517745, 0.5984262125902993], 'n_train': 1000, 'n_test': 500, 'no_interaction_between_enc_and_rest': False, 'dataset': 'journal_jcr_cls'}\n",
      "{'encoding': 'openai__', 'dim_reduction': 'PCA_30', 'model': 'HistGradientBoostingClassifier', 'accuracies': [0.568, 0.608, 0.632, 0.58, 0.588, 0.63, 0.622], 'roc_auc': [0.550675181592161, 0.5944001555512347, 0.6222222222222222, 0.5712187958883994, 0.5720136738906089, 0.6278887395173164, 0.6145732689210951], 'n_train': 1000, 'n_test': 500, 'no_interaction_between_enc_and_rest': True, 'dataset': 'journal_jcr_cls'}\n",
      "{'encoding': 'lm__BAAI/bge-large-en-v1.5', 'dim_reduction': 'PCA_30', 'model': 'HistGradientBoostingClassifier', 'accuracies': [0.62, 0.626, 0.636, 0.586, 0.604, 0.606, 0.622], 'roc_auc': [0.6101482160961715, 0.613725554053834, 0.6270300572125769, 0.5660305157056553, 0.595343235648334, 0.6006561742952945, 0.6052803983228512], 'n_train': 1000, 'n_test': 500, 'no_interaction_between_enc_and_rest': False, 'dataset': 'journal_jcr_cls'}\n",
      "{'encoding': 'lm__BAAI/bge-large-en-v1.5', 'dim_reduction': 'PCA_30', 'model': 'HistGradientBoostingClassifier', 'accuracies': [0.622, 0.59, 0.608, 0.604, 0.596, 0.6, 0.588], 'roc_auc': [0.614406779661017, 0.5685809868971284, 0.5940629528911758, 0.5860100619195047, 0.5881390724228622, 0.5924621804903496, 0.5735062318204716], 'n_train': 1000, 'n_test': 500, 'no_interaction_between_enc_and_rest': True, 'dataset': 'journal_jcr_cls'}\n",
      "{'encoding': 'skrub__minhash_30', 'dim_reduction': 'passthrough', 'model': 'HistGradientBoostingClassifier', 'accuracies': [0.58, 0.61, 0.548, 0.582, 0.576, 0.564, 0.57], 'roc_auc': [0.5587543297823672, 0.5911551910278928, 0.5352342224588921, 0.5558676401547652, 0.5672508988186955, 0.5539114770972722, 0.5565979648713462], 'n_train': 1000, 'n_test': 500, 'no_interaction_between_enc_and_rest': False, 'dataset': 'journal_jcr_cls'}\n",
      "{'encoding': 'skrub__minhash_30', 'dim_reduction': 'passthrough', 'model': 'HistGradientBoostingClassifier', 'accuracies': [0.546, 0.582, 0.578, 0.538, 0.598, 0.55, 0.576], 'roc_auc': [0.5384451996601529, 0.5705018359853121, 0.5656758806538542, 0.5161818658280922, 0.580930126524564, 0.5465276443077712, 0.556924882629108], 'n_train': 1000, 'n_test': 500, 'no_interaction_between_enc_and_rest': True, 'dataset': 'journal_jcr_cls'}\n",
      "{'encoding': 'openai__', 'dim_reduction': 'PCA_30', 'model': 'HistGradientBoostingClassifier', 'accuracies': [0.628, 0.59, 0.622, 0.662, 0.652, 0.66, 0.63], 'roc_auc': [0.6202020202020202, 0.5885755081741028, 0.6209748442779138, 0.6567632850241547, 0.6449755532681422, 0.6556808607168321, 0.6268115942028986], 'n_train': 1000, 'n_test': 500, 'no_interaction_between_enc_and_rest': False, 'dataset': 'ramen_ratings'}\n",
      "{'encoding': 'openai__', 'dim_reduction': 'PCA_30', 'model': 'HistGradientBoostingClassifier', 'accuracies': [0.666, 0.66, 0.642, 0.612, 0.696, 0.646, 0.62], 'roc_auc': [0.6588426193689352, 0.6483108326335508, 0.6425012939958592, 0.6088811450717299, 0.6919340114762651, 0.6442307692307693, 0.6180205280940257], 'n_train': 1000, 'n_test': 500, 'no_interaction_between_enc_and_rest': True, 'dataset': 'ramen_ratings'}\n",
      "{'encoding': 'lm__BAAI/bge-large-en-v1.5', 'dim_reduction': 'PCA_30', 'model': 'HistGradientBoostingClassifier', 'accuracies': [0.628, 0.632, 0.666, 0.642, 0.628, 0.642, 0.664], 'roc_auc': [0.6240029649204789, 0.6287732198142416, 0.6560701225011889, 0.6425191908463284, 0.6258248446409124, 0.6369027448322603, 0.6625850340136055], 'n_train': 1000, 'n_test': 500, 'no_interaction_between_enc_and_rest': False, 'dataset': 'ramen_ratings'}\n",
      "{'encoding': 'lm__BAAI/bge-large-en-v1.5', 'dim_reduction': 'PCA_30', 'model': 'HistGradientBoostingClassifier', 'accuracies': [0.638, 0.644, 0.648, 0.62, 0.638, 0.6, 0.632], 'roc_auc': [0.6358685174474649, 0.6435627686188979, 0.6402582159624414, 0.6156095366621683, 0.6335092519143287, 0.5897262588712403, 0.6254763904140559], 'n_train': 1000, 'n_test': 500, 'no_interaction_between_enc_and_rest': True, 'dataset': 'ramen_ratings'}\n",
      "{'encoding': 'skrub__minhash_30', 'dim_reduction': 'passthrough', 'model': 'HistGradientBoostingClassifier', 'accuracies': [0.62, 0.63, 0.612, 0.622, 0.618, 0.626, 0.65], 'roc_auc': [0.6182048445791052, 0.6252012882447664, 0.6093076195514516, 0.6254107952997002, 0.6155422674446641, 0.6173701298701298, 0.6503474009264024], 'n_train': 1000, 'n_test': 500, 'no_interaction_between_enc_and_rest': False, 'dataset': 'ramen_ratings'}\n",
      "{'encoding': 'skrub__minhash_30', 'dim_reduction': 'passthrough', 'model': 'HistGradientBoostingClassifier', 'accuracies': [0.67, 0.62, 0.646, 0.622, 0.6, 0.638, 0.632], 'roc_auc': [0.6633125931687083, 0.6084848484848485, 0.6408224771534123, 0.6150646132058771, 0.5965022262943853, 0.6296969696969696, 0.6293849401376109], 'n_train': 1000, 'n_test': 500, 'no_interaction_between_enc_and_rest': True, 'dataset': 'ramen_ratings'}\n",
      "{'encoding': 'openai__', 'dim_reduction': 'PCA_30', 'model': 'HistGradientBoostingClassifier', 'accuracies': [0.896, 0.912, 0.896, 0.914, 0.894, 0.87, 0.894], 'roc_auc': [0.8956489734521771, 0.9117816644243704, 0.8952692412510621, 0.9118589743589745, 0.8944888063881199, 0.8712990984932186, 0.8939408488573074], 'n_train': 1000, 'n_test': 500, 'no_interaction_between_enc_and_rest': False, 'dataset': 'spotify'}\n",
      "{'encoding': 'openai__', 'dim_reduction': 'PCA_30', 'model': 'HistGradientBoostingClassifier', 'accuracies': [0.862, 0.872, 0.902, 0.896, 0.872, 0.864, 0.88], 'roc_auc': [0.8619477670493667, 0.8715191088918762, 0.902, 0.896, 0.8719280527100467, 0.8646053389667755, 0.8774553247715884], 'n_train': 1000, 'n_test': 500, 'no_interaction_between_enc_and_rest': True, 'dataset': 'spotify'}\n",
      "{'encoding': 'lm__BAAI/bge-large-en-v1.5', 'dim_reduction': 'PCA_30', 'model': 'HistGradientBoostingClassifier', 'accuracies': [0.864, 0.902, 0.886, 0.85, 0.898, 0.906, 0.862], 'roc_auc': [0.8646900614754098, 0.9011217948717949, 0.8841807909604518, 0.8477617281540765, 0.8980703691259059, 0.9060104655070331, 0.8621977951647226], 'n_train': 1000, 'n_test': 500, 'no_interaction_between_enc_and_rest': False, 'dataset': 'spotify'}\n",
      "{'encoding': 'lm__BAAI/bge-large-en-v1.5', 'dim_reduction': 'PCA_30', 'model': 'HistGradientBoostingClassifier', 'accuracies': [0.884, 0.88, 0.86, 0.874, 0.844, 0.866, 0.898], 'roc_auc': [0.8839981439703036, 0.8785328395774219, 0.8596153846153846, 0.875, 0.8435374149659864, 0.8645938537007647, 0.8993815985517231], 'n_train': 1000, 'n_test': 500, 'no_interaction_between_enc_and_rest': True, 'dataset': 'spotify'}\n",
      "{'encoding': 'skrub__minhash_30', 'dim_reduction': 'passthrough', 'model': 'HistGradientBoostingClassifier', 'accuracies': [0.782, 0.816, 0.818, 0.792, 0.77, 0.772, 0.804], 'roc_auc': [0.780783597043877, 0.8181177525786405, 0.8178193836132903, 0.7916666666666666, 0.7747678018575852, 0.7721243539896638, 0.8040768652298437], 'n_train': 1000, 'n_test': 500, 'no_interaction_between_enc_and_rest': False, 'dataset': 'spotify'}\n",
      "{'encoding': 'skrub__minhash_30', 'dim_reduction': 'passthrough', 'model': 'HistGradientBoostingClassifier', 'accuracies': [0.808, 0.756, 0.818, 0.774, 0.812, 0.776, 0.77], 'roc_auc': [0.8080289284628553, 0.7602254428341385, 0.8147474747474747, 0.7722669624342962, 0.811935421871997, 0.7775038422131147, 0.7731433159373746], 'n_train': 1000, 'n_test': 500, 'no_interaction_between_enc_and_rest': True, 'dataset': 'spotify'}\n",
      "{'encoding': 'openai__', 'dim_reduction': 'PCA_30', 'model': 'HistGradientBoostingClassifier', 'accuracies': [0.668, 0.642, 0.652, 0.656, 0.68, 0.688, 0.66], 'roc_auc': [0.6645329387545034, 0.6414408354154655, 0.6519304308868943, 0.6560264964239428, 0.6787529650965775, 0.6880440348182284, 0.6586936669924222], 'n_train': 1000, 'n_test': 500, 'no_interaction_between_enc_and_rest': False, 'dataset': 'us_accidents_counts'}\n",
      "{'encoding': 'openai__', 'dim_reduction': 'PCA_30', 'model': 'HistGradientBoostingClassifier', 'accuracies': [0.688, 0.712, 0.666, 0.642, 0.686, 0.678, 0.71], 'roc_auc': [0.688690169840453, 0.7126695357329161, 0.6650660556720128, 0.6364115538688594, 0.6807644363860064, 0.6766039079827104, 0.7142752882790834], 'n_train': 1000, 'n_test': 500, 'no_interaction_between_enc_and_rest': True, 'dataset': 'us_accidents_counts'}\n",
      "{'encoding': 'lm__BAAI/bge-large-en-v1.5', 'dim_reduction': 'PCA_30', 'model': 'HistGradientBoostingClassifier', 'accuracies': [0.652, 0.652, 0.69, 0.664, 0.66, 0.646, 0.706], 'roc_auc': [0.6504432581477742, 0.6479783752096528, 0.6937291680282335, 0.6624935798664613, 0.659515881147541, 0.6450135985451971, 0.703403213071432], 'n_train': 1000, 'n_test': 500, 'no_interaction_between_enc_and_rest': False, 'dataset': 'us_accidents_counts'}\n",
      "{'encoding': 'lm__BAAI/bge-large-en-v1.5', 'dim_reduction': 'PCA_30', 'model': 'HistGradientBoostingClassifier', 'accuracies': [0.702, 0.656, 0.688, 0.708, 0.684, 0.696, 0.704], 'roc_auc': [0.6998363575107089, 0.6611844783507841, 0.688151597673182, 0.7057708373497846, 0.683471499260973, 0.6925252525252525, 0.7000839739034946], 'n_train': 1000, 'n_test': 500, 'no_interaction_between_enc_and_rest': True, 'dataset': 'us_accidents_counts'}\n",
      "{'encoding': 'skrub__minhash_30', 'dim_reduction': 'passthrough', 'model': 'HistGradientBoostingClassifier', 'accuracies': [0.656, 0.694, 0.662, 0.63, 0.674, 0.672, 0.644], 'roc_auc': [0.653251525796895, 0.6820658784605653, 0.6600218022090767, 0.6199791340636411, 0.6731803341655465, 0.6712758466167339, 0.6398026315789473], 'n_train': 1000, 'n_test': 500, 'no_interaction_between_enc_and_rest': False, 'dataset': 'us_accidents_counts'}\n",
      "{'encoding': 'skrub__minhash_30', 'dim_reduction': 'passthrough', 'model': 'HistGradientBoostingClassifier', 'accuracies': [0.652, 0.686, 0.68, 0.664, 0.68, 0.658, 0.656], 'roc_auc': [0.6506182330706644, 0.6844362745098038, 0.6737998843262001, 0.658209554395825, 0.6780106824159687, 0.6506855968010878, 0.6510660342231791], 'n_train': 1000, 'n_test': 500, 'no_interaction_between_enc_and_rest': True, 'dataset': 'us_accidents_counts'}\n",
      "{'encoding': 'openai__', 'dim_reduction': 'PCA_30', 'model': 'HistGradientBoostingClassifier', 'accuracies': [0.686, 0.698, 0.632, 0.664, 0.692, 0.67, 0.646], 'roc_auc': [0.6863333119507345, 0.6979006656426012, 0.6322644649257552, 0.6641386262180194, 0.6920910734571754, 0.670693823957983, 0.6463387295639782], 'n_train': 1000, 'n_test': 500, 'no_interaction_between_enc_and_rest': False, 'dataset': 'us_accidents_severity'}\n",
      "{'encoding': 'openai__', 'dim_reduction': 'PCA_30', 'model': 'HistGradientBoostingClassifier', 'accuracies': [0.65, 0.626, 0.692, 0.626, 0.652, 0.68, 0.642], 'roc_auc': [0.65, 0.6266404199475065, 0.6899237254114813, 0.6268324691120927, 0.6520417306707629, 0.6807577140478135, 0.6396379044684128], 'n_train': 1000, 'n_test': 500, 'no_interaction_between_enc_and_rest': True, 'dataset': 'us_accidents_severity'}\n",
      "{'encoding': 'lm__BAAI/bge-large-en-v1.5', 'dim_reduction': 'PCA_30', 'model': 'HistGradientBoostingClassifier', 'accuracies': [0.666, 0.676, 0.672, 0.686, 0.664, 0.658, 0.642], 'roc_auc': [0.6661866359447004, 0.6752054442732409, 0.6731492597038815, 0.6876811594202901, 0.664, 0.6597910892516702, 0.6416018925312605], 'n_train': 1000, 'n_test': 500, 'no_interaction_between_enc_and_rest': False, 'dataset': 'us_accidents_severity'}\n",
      "{'encoding': 'lm__BAAI/bge-large-en-v1.5', 'dim_reduction': 'PCA_30', 'model': 'HistGradientBoostingClassifier', 'accuracies': [0.638, 0.662, 0.676, 0.688, 0.686, 0.66, 0.646], 'roc_auc': [0.6396700051361068, 0.6617005580858297, 0.6762371167018757, 0.6834791559444158, 0.6856315216695474, 0.6619582043343653, 0.6460210270278921], 'n_train': 1000, 'n_test': 500, 'no_interaction_between_enc_and_rest': True, 'dataset': 'us_accidents_severity'}\n",
      "{'encoding': 'skrub__minhash_30', 'dim_reduction': 'passthrough', 'model': 'HistGradientBoostingClassifier', 'accuracies': [0.692, 0.672, 0.676, 0.63, 0.656, 0.652, 0.718], 'roc_auc': [0.6899918241715962, 0.6718509984639017, 0.6748586167673305, 0.6293173848297066, 0.6559036453328208, 0.6486945923407531, 0.7179659498207885], 'n_train': 1000, 'n_test': 500, 'no_interaction_between_enc_and_rest': False, 'dataset': 'us_accidents_severity'}\n",
      "{'encoding': 'skrub__minhash_30', 'dim_reduction': 'passthrough', 'model': 'HistGradientBoostingClassifier', 'accuracies': [0.654, 0.634, 0.678, 0.706, 0.676, 0.654, 0.666], 'roc_auc': [0.6567676767676767, 0.6378562826174227, 0.6786314525810324, 0.7060000000000001, 0.6756302521008403, 0.6524077868852459, 0.6660586277521761], 'n_train': 1000, 'n_test': 500, 'no_interaction_between_enc_and_rest': True, 'dataset': 'us_accidents_severity'}\n",
      "{'encoding': 'openai__', 'dim_reduction': 'PCA_30', 'model': 'HistGradientBoostingClassifier', 'accuracies': [0.8, 0.846, 0.818, 0.828, 0.784, 0.834, 0.792], 'roc_auc': [0.8003969016068113, 0.8461341525857655, 0.8186633281972264, 0.8279518226664104, 0.7841536614645858, 0.8342881374917988, 0.7886029411764706], 'n_train': 1000, 'n_test': 500, 'no_interaction_between_enc_and_rest': False, 'dataset': 'us_presidential'}\n",
      "{'encoding': 'openai__', 'dim_reduction': 'PCA_30', 'model': 'HistGradientBoostingClassifier', 'accuracies': [0.804, 0.83, 0.808, 0.814, 0.806, 0.81, 0.838], 'roc_auc': [0.8040288644618314, 0.8309791021671826, 0.8140691268951395, 0.8131097902882135, 0.8057902823122719, 0.8090231099161386, 0.8373372249663223], 'n_train': 1000, 'n_test': 500, 'no_interaction_between_enc_and_rest': True, 'dataset': 'us_presidential'}\n",
      "{'encoding': 'lm__BAAI/bge-large-en-v1.5', 'dim_reduction': 'PCA_30', 'model': 'HistGradientBoostingClassifier', 'accuracies': [0.812, 0.818, 0.806, 0.822, 0.832, 0.83, 0.78], 'roc_auc': [0.8132978382192572, 0.8191462106291332, 0.8059623849539815, 0.822, 0.831989247311828, 0.8296335447498239, 0.7805455942622951], 'n_train': 1000, 'n_test': 500, 'no_interaction_between_enc_and_rest': False, 'dataset': 'us_presidential'}\n",
      "{'encoding': 'lm__BAAI/bge-large-en-v1.5', 'dim_reduction': 'PCA_30', 'model': 'HistGradientBoostingClassifier', 'accuracies': [0.792, 0.816, 0.77, 0.814, 0.822, 0.828, 0.802], 'roc_auc': [0.7922100782512681, 0.813073320931426, 0.7698679471788716, 0.8078630100688925, 0.8223027375201288, 0.8278929851510497, 0.8019892369786662], 'n_train': 1000, 'n_test': 500, 'no_interaction_between_enc_and_rest': True, 'dataset': 'us_presidential'}\n",
      "{'encoding': 'skrub__minhash_30', 'dim_reduction': 'passthrough', 'model': 'HistGradientBoostingClassifier', 'accuracies': [0.802, 0.774, 0.794, 0.828, 0.778, 0.794, 0.806], 'roc_auc': [0.8032051282051282, 0.7724255718702951, 0.7943577430972388, 0.8285024154589372, 0.778289810547875, 0.7959122984681165, 0.8061087168970986], 'n_train': 1000, 'n_test': 500, 'no_interaction_between_enc_and_rest': False, 'dataset': 'us_presidential'}\n",
      "{'encoding': 'skrub__minhash_30', 'dim_reduction': 'passthrough', 'model': 'HistGradientBoostingClassifier', 'accuracies': [0.82, 0.83, 0.802, 0.814, 0.826, 0.84, 0.81], 'roc_auc': [0.8214331785345718, 0.8300000000000001, 0.8021953405017921, 0.8137254901960784, 0.8262820512820512, 0.839949439191027, 0.8098046118641085], 'n_train': 1000, 'n_test': 500, 'no_interaction_between_enc_and_rest': True, 'dataset': 'us_presidential'}\n",
      "{'encoding': 'openai__', 'dim_reduction': 'PCA_30', 'model': 'HistGradientBoostingClassifier', 'accuracies': [0.758, 0.798, 0.768, 0.778, 0.782, 0.792, 0.77], 'roc_auc': [0.7571109420278124, 0.792641729119861, 0.7533333333333334, 0.7739393939393939, 0.7641215106732347, 0.784577922077922, 0.7653282691264244], 'n_train': 1000, 'n_test': 500, 'no_interaction_between_enc_and_rest': False, 'dataset': 'wine_review'}\n",
      "{'encoding': 'openai__', 'dim_reduction': 'PCA_30', 'model': 'HistGradientBoostingClassifier', 'accuracies': [0.754, 0.79, 0.778, 0.788, 0.784, 0.776, 0.792], 'roc_auc': [0.7461459827537881, 0.7835550579557429, 0.7640477623921332, 0.7746846311340071, 0.7769454983634854, 0.7596059113300492, 0.7806961138315939], 'n_train': 1000, 'n_test': 500, 'no_interaction_between_enc_and_rest': True, 'dataset': 'wine_review'}\n",
      "{'encoding': 'lm__BAAI/bge-large-en-v1.5', 'dim_reduction': 'PCA_30', 'model': 'HistGradientBoostingClassifier', 'accuracies': [0.772, 0.774, 0.79, 0.796, 0.794, 0.774, 0.792], 'roc_auc': [0.7514767300620643, 0.764845274602732, 0.7762725779967159, 0.7926167746615884, 0.7919889193127412, 0.7757178700864231, 0.784577922077922], 'n_train': 1000, 'n_test': 500, 'no_interaction_between_enc_and_rest': False, 'dataset': 'wine_review'}\n",
      "{'encoding': 'lm__BAAI/bge-large-en-v1.5', 'dim_reduction': 'PCA_30', 'model': 'HistGradientBoostingClassifier', 'accuracies': [0.77, 0.788, 0.764, 0.8, 0.782, 0.754, 0.782], 'roc_auc': [0.7626302019857325, 0.7801556736378557, 0.7419594873914842, 0.793606763093587, 0.7731313131313131, 0.7406403940886699, 0.7780887776606955], 'n_train': 1000, 'n_test': 500, 'no_interaction_between_enc_and_rest': True, 'dataset': 'wine_review'}\n",
      "{'encoding': 'skrub__minhash_30', 'dim_reduction': 'passthrough', 'model': 'HistGradientBoostingClassifier', 'accuracies': [0.748, 0.744, 0.754, 0.77, 0.78, 0.728, 0.788], 'roc_auc': [0.7377393942528141, 0.7332854061826024, 0.7440190598671085, 0.7613847922164122, 0.771060660909138, 0.720778789288325, 0.78718890248878], 'n_train': 1000, 'n_test': 500, 'no_interaction_between_enc_and_rest': False, 'dataset': 'wine_review'}\n",
      "{'encoding': 'skrub__minhash_30', 'dim_reduction': 'passthrough', 'model': 'HistGradientBoostingClassifier', 'accuracies': [0.804, 0.758, 0.774, 0.778, 0.764, 0.782, 0.742], 'roc_auc': [0.7937631027253669, 0.7408333333333333, 0.7606283149734803, 0.7683054822151889, 0.7511356096565099, 0.7756721245199111, 0.7331293349653203], 'n_train': 1000, 'n_test': 500, 'no_interaction_between_enc_and_rest': True, 'dataset': 'wine_review'}\n",
      "{'encoding': 'openai__', 'dim_reduction': 'PCA_30', 'model': 'HistGradientBoostingClassifier', 'accuracies': [0.884, 0.828, 0.804, 0.84, 0.836, 0.824, 0.854], 'roc_auc': [0.8724137931034482, 0.814354795972443, 0.782786817269576, 0.8267753047164812, 0.8178099801332244, 0.7923827059465356, 0.8395821815684107], 'n_train': 1000, 'n_test': 500, 'no_interaction_between_enc_and_rest': False, 'dataset': 'zomato'}\n",
      "{'encoding': 'openai__', 'dim_reduction': 'PCA_30', 'model': 'HistGradientBoostingClassifier', 'accuracies': [0.84, 0.798, 0.812, 0.816, 0.85, 0.826, 0.856], 'roc_auc': [0.8192844147968465, 0.785563751317176, 0.7910177228786252, 0.800909466721786, 0.8246581609312256, 0.794053150942411, 0.8335459183673469], 'n_train': 1000, 'n_test': 500, 'no_interaction_between_enc_and_rest': True, 'dataset': 'zomato'}\n",
      "{'encoding': 'lm__BAAI/bge-large-en-v1.5', 'dim_reduction': 'PCA_30', 'model': 'HistGradientBoostingClassifier', 'accuracies': [0.834, 0.862, 0.854, 0.86, 0.842, 0.858, 0.846], 'roc_auc': [0.8120226404800873, 0.8408778205833792, 0.8386942755189225, 0.8348400794466133, 0.8327030568409879, 0.8471085651936715, 0.8226950354609929], 'n_train': 1000, 'n_test': 500, 'no_interaction_between_enc_and_rest': False, 'dataset': 'zomato'}\n",
      "{'encoding': 'lm__BAAI/bge-large-en-v1.5', 'dim_reduction': 'PCA_30', 'model': 'HistGradientBoostingClassifier', 'accuracies': [0.834, 0.816, 0.81, 0.816, 0.856, 0.842, 0.842], 'roc_auc': [0.8201499758103532, 0.7915057915057915, 0.7816186625401421, 0.8038671710802858, 0.8333074761683129, 0.8168558217738545, 0.8171859909520662], 'n_train': 1000, 'n_test': 500, 'no_interaction_between_enc_and_rest': True, 'dataset': 'zomato'}\n",
      "{'encoding': 'skrub__minhash_30', 'dim_reduction': 'passthrough', 'model': 'HistGradientBoostingClassifier', 'accuracies': [0.83, 0.872, 0.822, 0.838, 0.842, 0.836, 0.822], 'roc_auc': [0.81, 0.8566729323308269, 0.8067528618651381, 0.8244666798758338, 0.8325216450216449, 0.8136206067240551, 0.8054991883116883], 'n_train': 1000, 'n_test': 500, 'no_interaction_between_enc_and_rest': False, 'dataset': 'zomato'}\n",
      "{'encoding': 'skrub__minhash_30', 'dim_reduction': 'passthrough', 'model': 'HistGradientBoostingClassifier', 'accuracies': [0.844, 0.832, 0.84, 0.852, 0.784, 0.81, 0.836], 'roc_auc': [0.8248820248820248, 0.8115449915110357, 0.8123416204369565, 0.8418288848752424, 0.7677397136719198, 0.7915341812400636, 0.8151866151866152], 'n_train': 1000, 'n_test': 500, 'no_interaction_between_enc_and_rest': True, 'dataset': 'zomato'}\n"
     ]
    }
   ],
   "source": [
    "# create a dataframe with all the results\n",
    "import pandas as pd\n",
    "res_list = []\n",
    "for job in jobs:\n",
    "    res = job.result()\n",
    "    if res is not None:\n",
    "        print(res)\n",
    "        res_list.append(res)\n",
    "df = pd.DataFrame(res_list)\n",
    "df = df.explode([\"accuracies\", \"roc_auc\"])\n",
    "df.to_csv(\"../results/interaction_xp.csv\")"
   ]
  },
  {
   "cell_type": "code",
   "execution_count": 78,
   "metadata": {},
   "outputs": [
    {
     "data": {
      "text/html": [
       "<div>\n",
       "<style scoped>\n",
       "    .dataframe tbody tr th:only-of-type {\n",
       "        vertical-align: middle;\n",
       "    }\n",
       "\n",
       "    .dataframe tbody tr th {\n",
       "        vertical-align: top;\n",
       "    }\n",
       "\n",
       "    .dataframe thead th {\n",
       "        text-align: right;\n",
       "    }\n",
       "</style>\n",
       "<table border=\"1\" class=\"dataframe\">\n",
       "  <thead>\n",
       "    <tr style=\"text-align: right;\">\n",
       "      <th></th>\n",
       "      <th>encoding</th>\n",
       "      <th>dim_reduction</th>\n",
       "      <th>model</th>\n",
       "      <th>accuracies</th>\n",
       "      <th>roc_auc</th>\n",
       "      <th>n_train</th>\n",
       "      <th>n_test</th>\n",
       "      <th>no_interaction_between_enc_and_rest</th>\n",
       "      <th>dataset</th>\n",
       "    </tr>\n",
       "  </thead>\n",
       "  <tbody>\n",
       "    <tr>\n",
       "      <th>0</th>\n",
       "      <td>openai__</td>\n",
       "      <td>PCA_30</td>\n",
       "      <td>HistGradientBoostingClassifier</td>\n",
       "      <td>0.86</td>\n",
       "      <td>0.860038</td>\n",
       "      <td>1000</td>\n",
       "      <td>500</td>\n",
       "      <td>False</td>\n",
       "      <td>bikewale</td>\n",
       "    </tr>\n",
       "    <tr>\n",
       "      <th>0</th>\n",
       "      <td>openai__</td>\n",
       "      <td>PCA_30</td>\n",
       "      <td>HistGradientBoostingClassifier</td>\n",
       "      <td>0.86</td>\n",
       "      <td>0.860872</td>\n",
       "      <td>1000</td>\n",
       "      <td>500</td>\n",
       "      <td>False</td>\n",
       "      <td>bikewale</td>\n",
       "    </tr>\n",
       "    <tr>\n",
       "      <th>0</th>\n",
       "      <td>openai__</td>\n",
       "      <td>PCA_30</td>\n",
       "      <td>HistGradientBoostingClassifier</td>\n",
       "      <td>0.858</td>\n",
       "      <td>0.856093</td>\n",
       "      <td>1000</td>\n",
       "      <td>500</td>\n",
       "      <td>False</td>\n",
       "      <td>bikewale</td>\n",
       "    </tr>\n",
       "    <tr>\n",
       "      <th>0</th>\n",
       "      <td>openai__</td>\n",
       "      <td>PCA_30</td>\n",
       "      <td>HistGradientBoostingClassifier</td>\n",
       "      <td>0.858</td>\n",
       "      <td>0.85715</td>\n",
       "      <td>1000</td>\n",
       "      <td>500</td>\n",
       "      <td>False</td>\n",
       "      <td>bikewale</td>\n",
       "    </tr>\n",
       "    <tr>\n",
       "      <th>0</th>\n",
       "      <td>openai__</td>\n",
       "      <td>PCA_30</td>\n",
       "      <td>HistGradientBoostingClassifier</td>\n",
       "      <td>0.904</td>\n",
       "      <td>0.904082</td>\n",
       "      <td>1000</td>\n",
       "      <td>500</td>\n",
       "      <td>False</td>\n",
       "      <td>bikewale</td>\n",
       "    </tr>\n",
       "    <tr>\n",
       "      <th>...</th>\n",
       "      <td>...</td>\n",
       "      <td>...</td>\n",
       "      <td>...</td>\n",
       "      <td>...</td>\n",
       "      <td>...</td>\n",
       "      <td>...</td>\n",
       "      <td>...</td>\n",
       "      <td>...</td>\n",
       "      <td>...</td>\n",
       "    </tr>\n",
       "    <tr>\n",
       "      <th>83</th>\n",
       "      <td>skrub__minhash_30</td>\n",
       "      <td>passthrough</td>\n",
       "      <td>HistGradientBoostingClassifier</td>\n",
       "      <td>0.84</td>\n",
       "      <td>0.812342</td>\n",
       "      <td>1000</td>\n",
       "      <td>500</td>\n",
       "      <td>True</td>\n",
       "      <td>zomato</td>\n",
       "    </tr>\n",
       "    <tr>\n",
       "      <th>83</th>\n",
       "      <td>skrub__minhash_30</td>\n",
       "      <td>passthrough</td>\n",
       "      <td>HistGradientBoostingClassifier</td>\n",
       "      <td>0.852</td>\n",
       "      <td>0.841829</td>\n",
       "      <td>1000</td>\n",
       "      <td>500</td>\n",
       "      <td>True</td>\n",
       "      <td>zomato</td>\n",
       "    </tr>\n",
       "    <tr>\n",
       "      <th>83</th>\n",
       "      <td>skrub__minhash_30</td>\n",
       "      <td>passthrough</td>\n",
       "      <td>HistGradientBoostingClassifier</td>\n",
       "      <td>0.784</td>\n",
       "      <td>0.76774</td>\n",
       "      <td>1000</td>\n",
       "      <td>500</td>\n",
       "      <td>True</td>\n",
       "      <td>zomato</td>\n",
       "    </tr>\n",
       "    <tr>\n",
       "      <th>83</th>\n",
       "      <td>skrub__minhash_30</td>\n",
       "      <td>passthrough</td>\n",
       "      <td>HistGradientBoostingClassifier</td>\n",
       "      <td>0.81</td>\n",
       "      <td>0.791534</td>\n",
       "      <td>1000</td>\n",
       "      <td>500</td>\n",
       "      <td>True</td>\n",
       "      <td>zomato</td>\n",
       "    </tr>\n",
       "    <tr>\n",
       "      <th>83</th>\n",
       "      <td>skrub__minhash_30</td>\n",
       "      <td>passthrough</td>\n",
       "      <td>HistGradientBoostingClassifier</td>\n",
       "      <td>0.836</td>\n",
       "      <td>0.815187</td>\n",
       "      <td>1000</td>\n",
       "      <td>500</td>\n",
       "      <td>True</td>\n",
       "      <td>zomato</td>\n",
       "    </tr>\n",
       "  </tbody>\n",
       "</table>\n",
       "<p>588 rows × 9 columns</p>\n",
       "</div>"
      ],
      "text/plain": [
       "             encoding dim_reduction                           model  \\\n",
       "0            openai__        PCA_30  HistGradientBoostingClassifier   \n",
       "0            openai__        PCA_30  HistGradientBoostingClassifier   \n",
       "0            openai__        PCA_30  HistGradientBoostingClassifier   \n",
       "0            openai__        PCA_30  HistGradientBoostingClassifier   \n",
       "0            openai__        PCA_30  HistGradientBoostingClassifier   \n",
       "..                ...           ...                             ...   \n",
       "83  skrub__minhash_30   passthrough  HistGradientBoostingClassifier   \n",
       "83  skrub__minhash_30   passthrough  HistGradientBoostingClassifier   \n",
       "83  skrub__minhash_30   passthrough  HistGradientBoostingClassifier   \n",
       "83  skrub__minhash_30   passthrough  HistGradientBoostingClassifier   \n",
       "83  skrub__minhash_30   passthrough  HistGradientBoostingClassifier   \n",
       "\n",
       "   accuracies   roc_auc  n_train  n_test  no_interaction_between_enc_and_rest  \\\n",
       "0        0.86  0.860038     1000     500                                False   \n",
       "0        0.86  0.860872     1000     500                                False   \n",
       "0       0.858  0.856093     1000     500                                False   \n",
       "0       0.858   0.85715     1000     500                                False   \n",
       "0       0.904  0.904082     1000     500                                False   \n",
       "..        ...       ...      ...     ...                                  ...   \n",
       "83       0.84  0.812342     1000     500                                 True   \n",
       "83      0.852  0.841829     1000     500                                 True   \n",
       "83      0.784   0.76774     1000     500                                 True   \n",
       "83       0.81  0.791534     1000     500                                 True   \n",
       "83      0.836  0.815187     1000     500                                 True   \n",
       "\n",
       "     dataset  \n",
       "0   bikewale  \n",
       "0   bikewale  \n",
       "0   bikewale  \n",
       "0   bikewale  \n",
       "0   bikewale  \n",
       "..       ...  \n",
       "83    zomato  \n",
       "83    zomato  \n",
       "83    zomato  \n",
       "83    zomato  \n",
       "83    zomato  \n",
       "\n",
       "[588 rows x 9 columns]"
      ]
     },
     "execution_count": 78,
     "metadata": {},
     "output_type": "execute_result"
    }
   ],
   "source": [
    "df"
   ]
  },
  {
   "cell_type": "code",
   "execution_count": 90,
   "metadata": {},
   "outputs": [
    {
     "name": "stdout",
     "output_type": "stream",
     "text": [
      "                                              dataset  \\\n",
      "0                                            bikewale   \n",
      "1                                            bikewale   \n",
      "2                                        clear_corpus   \n",
      "3                                        clear_corpus   \n",
      "4                                   company_employees   \n",
      "5                                   company_employees   \n",
      "6   employee-remuneration-and-expenses-earning-ove...   \n",
      "7   employee-remuneration-and-expenses-earning-ove...   \n",
      "8                                     employee_salary   \n",
      "9                                     employee_salary   \n",
      "10                                          goodreads   \n",
      "11                                          goodreads   \n",
      "12                                    journal_jcr_cls   \n",
      "13                                    journal_jcr_cls   \n",
      "14                                      ramen_ratings   \n",
      "15                                      ramen_ratings   \n",
      "16                                            spotify   \n",
      "17                                            spotify   \n",
      "18                                us_accidents_counts   \n",
      "19                                us_accidents_counts   \n",
      "20                              us_accidents_severity   \n",
      "21                              us_accidents_severity   \n",
      "22                                    us_presidential   \n",
      "23                                    us_presidential   \n",
      "24                                        wine_review   \n",
      "25                                        wine_review   \n",
      "26                                             zomato   \n",
      "27                                             zomato   \n",
      "\n",
      "                             model  no_interaction_between_enc_and_rest  \\\n",
      "0   HistGradientBoostingClassifier                                False   \n",
      "1   HistGradientBoostingClassifier                                 True   \n",
      "2   HistGradientBoostingClassifier                                False   \n",
      "3   HistGradientBoostingClassifier                                 True   \n",
      "4   HistGradientBoostingClassifier                                False   \n",
      "5   HistGradientBoostingClassifier                                 True   \n",
      "6   HistGradientBoostingClassifier                                False   \n",
      "7   HistGradientBoostingClassifier                                 True   \n",
      "8   HistGradientBoostingClassifier                                False   \n",
      "9   HistGradientBoostingClassifier                                 True   \n",
      "10  HistGradientBoostingClassifier                                False   \n",
      "11  HistGradientBoostingClassifier                                 True   \n",
      "12  HistGradientBoostingClassifier                                False   \n",
      "13  HistGradientBoostingClassifier                                 True   \n",
      "14  HistGradientBoostingClassifier                                False   \n",
      "15  HistGradientBoostingClassifier                                 True   \n",
      "16  HistGradientBoostingClassifier                                False   \n",
      "17  HistGradientBoostingClassifier                                 True   \n",
      "18  HistGradientBoostingClassifier                                False   \n",
      "19  HistGradientBoostingClassifier                                 True   \n",
      "20  HistGradientBoostingClassifier                                False   \n",
      "21  HistGradientBoostingClassifier                                 True   \n",
      "22  HistGradientBoostingClassifier                                False   \n",
      "23  HistGradientBoostingClassifier                                 True   \n",
      "24  HistGradientBoostingClassifier                                False   \n",
      "25  HistGradientBoostingClassifier                                 True   \n",
      "26  HistGradientBoostingClassifier                                False   \n",
      "27  HistGradientBoostingClassifier                                 True   \n",
      "\n",
      "    accuracies  \n",
      "0            7  \n",
      "1            7  \n",
      "2            7  \n",
      "3            7  \n",
      "4            7  \n",
      "5            7  \n",
      "6            7  \n",
      "7            7  \n",
      "8            7  \n",
      "9            7  \n",
      "10           7  \n",
      "11           7  \n",
      "12           7  \n",
      "13           7  \n",
      "14           7  \n",
      "15           7  \n",
      "16           7  \n",
      "17           7  \n",
      "18           7  \n",
      "19           7  \n",
      "20           7  \n",
      "21           7  \n",
      "22           7  \n",
      "23           7  \n",
      "24           7  \n",
      "25           7  \n",
      "26           7  \n",
      "27           7  \n",
      "(28, 4)\n"
     ]
    }
   ],
   "source": [
    "# filter for new_encoder_name openai__\n",
    "results = df[df.encoding == \"openai__\"]\n",
    "\n",
    "group_cols = ['dataset', 'model', \"no_interaction_between_enc_and_rest\"]\n",
    "# show counts per group\n",
    "print(results.groupby(group_cols)['accuracies'].count().reset_index())\n",
    "melted_results = results.groupby(group_cols)['accuracies'].mean().reset_index()\n",
    "print(melted_results.shape)"
   ]
  },
  {
   "cell_type": "code",
   "execution_count": 91,
   "metadata": {},
   "outputs": [
    {
     "data": {
      "application/vnd.plotly.v1+json": {
       "config": {
        "plotlyServerURL": "https://plot.ly"
       },
       "data": [
        {
         "alignmentgroup": "True",
         "boxpoints": "all",
         "fillcolor": "rgba(255,255,255,0)",
         "hoveron": "points",
         "hovertemplate": "no_interaction_between_enc_and_rest=False<br>dataset=%{x}<br>accuracies=%{y}<extra></extra>",
         "legendgroup": "False",
         "line": {
          "color": "rgba(255,255,255,0)"
         },
         "marker": {
          "color": "#636efa"
         },
         "name": "False",
         "offsetgroup": "False",
         "orientation": "v",
         "pointpos": 0,
         "showlegend": true,
         "type": "box",
         "x": [
          "bikewale",
          "clear_corpus",
          "company_employees",
          "employee-remuneration-and-expenses-earning-over-75000",
          "employee_salary",
          "goodreads",
          "journal_jcr_cls",
          "ramen_ratings",
          "spotify",
          "us_accidents_counts",
          "us_accidents_severity",
          "us_presidential",
          "wine_review",
          "zomato"
         ],
         "x0": " ",
         "xaxis": "x",
         "y": [
          0.8665714285714285,
          0.7714285714285715,
          0.5874285714285714,
          0.7960000000000002,
          0.9171428571428573,
          0.6294285714285716,
          0.5925714285714285,
          0.6348571428571429,
          0.8965714285714287,
          0.6637142857142858,
          0.6697142857142857,
          0.8145714285714284,
          0.7779999999999999,
          0.8385714285714286
         ],
         "y0": " ",
         "yaxis": "y"
        },
        {
         "alignmentgroup": "True",
         "boxpoints": "all",
         "fillcolor": "rgba(255,255,255,0)",
         "hoveron": "points",
         "hovertemplate": "no_interaction_between_enc_and_rest=True<br>dataset=%{x}<br>accuracies=%{y}<extra></extra>",
         "legendgroup": "True",
         "line": {
          "color": "rgba(255,255,255,0)"
         },
         "marker": {
          "color": "#EF553B"
         },
         "name": "True",
         "offsetgroup": "True",
         "orientation": "v",
         "pointpos": 0,
         "showlegend": true,
         "type": "box",
         "x": [
          "bikewale",
          "clear_corpus",
          "company_employees",
          "employee-remuneration-and-expenses-earning-over-75000",
          "employee_salary",
          "goodreads",
          "journal_jcr_cls",
          "ramen_ratings",
          "spotify",
          "us_accidents_counts",
          "us_accidents_severity",
          "us_presidential",
          "wine_review",
          "zomato"
         ],
         "x0": " ",
         "xaxis": "x",
         "y": [
          0.8548571428571429,
          0.766,
          0.6028571428571429,
          0.7914285714285715,
          0.905142857142857,
          0.6022857142857143,
          0.604,
          0.6488571428571428,
          0.8782857142857142,
          0.6831428571428572,
          0.6525714285714287,
          0.8157142857142857,
          0.7802857142857142,
          0.8282857142857142
         ],
         "y0": " ",
         "yaxis": "y"
        }
       ],
       "layout": {
        "boxmode": "group",
        "legend": {
         "title": {
          "text": "no_interaction_between_enc_and_rest"
         },
         "tracegroupgap": 0
        },
        "margin": {
         "t": 60
        },
        "template": {
         "data": {
          "bar": [
           {
            "error_x": {
             "color": "#2a3f5f"
            },
            "error_y": {
             "color": "#2a3f5f"
            },
            "marker": {
             "line": {
              "color": "#E5ECF6",
              "width": 0.5
             },
             "pattern": {
              "fillmode": "overlay",
              "size": 10,
              "solidity": 0.2
             }
            },
            "type": "bar"
           }
          ],
          "barpolar": [
           {
            "marker": {
             "line": {
              "color": "#E5ECF6",
              "width": 0.5
             },
             "pattern": {
              "fillmode": "overlay",
              "size": 10,
              "solidity": 0.2
             }
            },
            "type": "barpolar"
           }
          ],
          "carpet": [
           {
            "aaxis": {
             "endlinecolor": "#2a3f5f",
             "gridcolor": "white",
             "linecolor": "white",
             "minorgridcolor": "white",
             "startlinecolor": "#2a3f5f"
            },
            "baxis": {
             "endlinecolor": "#2a3f5f",
             "gridcolor": "white",
             "linecolor": "white",
             "minorgridcolor": "white",
             "startlinecolor": "#2a3f5f"
            },
            "type": "carpet"
           }
          ],
          "choropleth": [
           {
            "colorbar": {
             "outlinewidth": 0,
             "ticks": ""
            },
            "type": "choropleth"
           }
          ],
          "contour": [
           {
            "colorbar": {
             "outlinewidth": 0,
             "ticks": ""
            },
            "colorscale": [
             [
              0,
              "#0d0887"
             ],
             [
              0.1111111111111111,
              "#46039f"
             ],
             [
              0.2222222222222222,
              "#7201a8"
             ],
             [
              0.3333333333333333,
              "#9c179e"
             ],
             [
              0.4444444444444444,
              "#bd3786"
             ],
             [
              0.5555555555555556,
              "#d8576b"
             ],
             [
              0.6666666666666666,
              "#ed7953"
             ],
             [
              0.7777777777777778,
              "#fb9f3a"
             ],
             [
              0.8888888888888888,
              "#fdca26"
             ],
             [
              1,
              "#f0f921"
             ]
            ],
            "type": "contour"
           }
          ],
          "contourcarpet": [
           {
            "colorbar": {
             "outlinewidth": 0,
             "ticks": ""
            },
            "type": "contourcarpet"
           }
          ],
          "heatmap": [
           {
            "colorbar": {
             "outlinewidth": 0,
             "ticks": ""
            },
            "colorscale": [
             [
              0,
              "#0d0887"
             ],
             [
              0.1111111111111111,
              "#46039f"
             ],
             [
              0.2222222222222222,
              "#7201a8"
             ],
             [
              0.3333333333333333,
              "#9c179e"
             ],
             [
              0.4444444444444444,
              "#bd3786"
             ],
             [
              0.5555555555555556,
              "#d8576b"
             ],
             [
              0.6666666666666666,
              "#ed7953"
             ],
             [
              0.7777777777777778,
              "#fb9f3a"
             ],
             [
              0.8888888888888888,
              "#fdca26"
             ],
             [
              1,
              "#f0f921"
             ]
            ],
            "type": "heatmap"
           }
          ],
          "heatmapgl": [
           {
            "colorbar": {
             "outlinewidth": 0,
             "ticks": ""
            },
            "colorscale": [
             [
              0,
              "#0d0887"
             ],
             [
              0.1111111111111111,
              "#46039f"
             ],
             [
              0.2222222222222222,
              "#7201a8"
             ],
             [
              0.3333333333333333,
              "#9c179e"
             ],
             [
              0.4444444444444444,
              "#bd3786"
             ],
             [
              0.5555555555555556,
              "#d8576b"
             ],
             [
              0.6666666666666666,
              "#ed7953"
             ],
             [
              0.7777777777777778,
              "#fb9f3a"
             ],
             [
              0.8888888888888888,
              "#fdca26"
             ],
             [
              1,
              "#f0f921"
             ]
            ],
            "type": "heatmapgl"
           }
          ],
          "histogram": [
           {
            "marker": {
             "pattern": {
              "fillmode": "overlay",
              "size": 10,
              "solidity": 0.2
             }
            },
            "type": "histogram"
           }
          ],
          "histogram2d": [
           {
            "colorbar": {
             "outlinewidth": 0,
             "ticks": ""
            },
            "colorscale": [
             [
              0,
              "#0d0887"
             ],
             [
              0.1111111111111111,
              "#46039f"
             ],
             [
              0.2222222222222222,
              "#7201a8"
             ],
             [
              0.3333333333333333,
              "#9c179e"
             ],
             [
              0.4444444444444444,
              "#bd3786"
             ],
             [
              0.5555555555555556,
              "#d8576b"
             ],
             [
              0.6666666666666666,
              "#ed7953"
             ],
             [
              0.7777777777777778,
              "#fb9f3a"
             ],
             [
              0.8888888888888888,
              "#fdca26"
             ],
             [
              1,
              "#f0f921"
             ]
            ],
            "type": "histogram2d"
           }
          ],
          "histogram2dcontour": [
           {
            "colorbar": {
             "outlinewidth": 0,
             "ticks": ""
            },
            "colorscale": [
             [
              0,
              "#0d0887"
             ],
             [
              0.1111111111111111,
              "#46039f"
             ],
             [
              0.2222222222222222,
              "#7201a8"
             ],
             [
              0.3333333333333333,
              "#9c179e"
             ],
             [
              0.4444444444444444,
              "#bd3786"
             ],
             [
              0.5555555555555556,
              "#d8576b"
             ],
             [
              0.6666666666666666,
              "#ed7953"
             ],
             [
              0.7777777777777778,
              "#fb9f3a"
             ],
             [
              0.8888888888888888,
              "#fdca26"
             ],
             [
              1,
              "#f0f921"
             ]
            ],
            "type": "histogram2dcontour"
           }
          ],
          "mesh3d": [
           {
            "colorbar": {
             "outlinewidth": 0,
             "ticks": ""
            },
            "type": "mesh3d"
           }
          ],
          "parcoords": [
           {
            "line": {
             "colorbar": {
              "outlinewidth": 0,
              "ticks": ""
             }
            },
            "type": "parcoords"
           }
          ],
          "pie": [
           {
            "automargin": true,
            "type": "pie"
           }
          ],
          "scatter": [
           {
            "fillpattern": {
             "fillmode": "overlay",
             "size": 10,
             "solidity": 0.2
            },
            "type": "scatter"
           }
          ],
          "scatter3d": [
           {
            "line": {
             "colorbar": {
              "outlinewidth": 0,
              "ticks": ""
             }
            },
            "marker": {
             "colorbar": {
              "outlinewidth": 0,
              "ticks": ""
             }
            },
            "type": "scatter3d"
           }
          ],
          "scattercarpet": [
           {
            "marker": {
             "colorbar": {
              "outlinewidth": 0,
              "ticks": ""
             }
            },
            "type": "scattercarpet"
           }
          ],
          "scattergeo": [
           {
            "marker": {
             "colorbar": {
              "outlinewidth": 0,
              "ticks": ""
             }
            },
            "type": "scattergeo"
           }
          ],
          "scattergl": [
           {
            "marker": {
             "colorbar": {
              "outlinewidth": 0,
              "ticks": ""
             }
            },
            "type": "scattergl"
           }
          ],
          "scattermapbox": [
           {
            "marker": {
             "colorbar": {
              "outlinewidth": 0,
              "ticks": ""
             }
            },
            "type": "scattermapbox"
           }
          ],
          "scatterpolar": [
           {
            "marker": {
             "colorbar": {
              "outlinewidth": 0,
              "ticks": ""
             }
            },
            "type": "scatterpolar"
           }
          ],
          "scatterpolargl": [
           {
            "marker": {
             "colorbar": {
              "outlinewidth": 0,
              "ticks": ""
             }
            },
            "type": "scatterpolargl"
           }
          ],
          "scatterternary": [
           {
            "marker": {
             "colorbar": {
              "outlinewidth": 0,
              "ticks": ""
             }
            },
            "type": "scatterternary"
           }
          ],
          "surface": [
           {
            "colorbar": {
             "outlinewidth": 0,
             "ticks": ""
            },
            "colorscale": [
             [
              0,
              "#0d0887"
             ],
             [
              0.1111111111111111,
              "#46039f"
             ],
             [
              0.2222222222222222,
              "#7201a8"
             ],
             [
              0.3333333333333333,
              "#9c179e"
             ],
             [
              0.4444444444444444,
              "#bd3786"
             ],
             [
              0.5555555555555556,
              "#d8576b"
             ],
             [
              0.6666666666666666,
              "#ed7953"
             ],
             [
              0.7777777777777778,
              "#fb9f3a"
             ],
             [
              0.8888888888888888,
              "#fdca26"
             ],
             [
              1,
              "#f0f921"
             ]
            ],
            "type": "surface"
           }
          ],
          "table": [
           {
            "cells": {
             "fill": {
              "color": "#EBF0F8"
             },
             "line": {
              "color": "white"
             }
            },
            "header": {
             "fill": {
              "color": "#C8D4E3"
             },
             "line": {
              "color": "white"
             }
            },
            "type": "table"
           }
          ]
         },
         "layout": {
          "annotationdefaults": {
           "arrowcolor": "#2a3f5f",
           "arrowhead": 0,
           "arrowwidth": 1
          },
          "autotypenumbers": "strict",
          "coloraxis": {
           "colorbar": {
            "outlinewidth": 0,
            "ticks": ""
           }
          },
          "colorscale": {
           "diverging": [
            [
             0,
             "#8e0152"
            ],
            [
             0.1,
             "#c51b7d"
            ],
            [
             0.2,
             "#de77ae"
            ],
            [
             0.3,
             "#f1b6da"
            ],
            [
             0.4,
             "#fde0ef"
            ],
            [
             0.5,
             "#f7f7f7"
            ],
            [
             0.6,
             "#e6f5d0"
            ],
            [
             0.7,
             "#b8e186"
            ],
            [
             0.8,
             "#7fbc41"
            ],
            [
             0.9,
             "#4d9221"
            ],
            [
             1,
             "#276419"
            ]
           ],
           "sequential": [
            [
             0,
             "#0d0887"
            ],
            [
             0.1111111111111111,
             "#46039f"
            ],
            [
             0.2222222222222222,
             "#7201a8"
            ],
            [
             0.3333333333333333,
             "#9c179e"
            ],
            [
             0.4444444444444444,
             "#bd3786"
            ],
            [
             0.5555555555555556,
             "#d8576b"
            ],
            [
             0.6666666666666666,
             "#ed7953"
            ],
            [
             0.7777777777777778,
             "#fb9f3a"
            ],
            [
             0.8888888888888888,
             "#fdca26"
            ],
            [
             1,
             "#f0f921"
            ]
           ],
           "sequentialminus": [
            [
             0,
             "#0d0887"
            ],
            [
             0.1111111111111111,
             "#46039f"
            ],
            [
             0.2222222222222222,
             "#7201a8"
            ],
            [
             0.3333333333333333,
             "#9c179e"
            ],
            [
             0.4444444444444444,
             "#bd3786"
            ],
            [
             0.5555555555555556,
             "#d8576b"
            ],
            [
             0.6666666666666666,
             "#ed7953"
            ],
            [
             0.7777777777777778,
             "#fb9f3a"
            ],
            [
             0.8888888888888888,
             "#fdca26"
            ],
            [
             1,
             "#f0f921"
            ]
           ]
          },
          "colorway": [
           "#636efa",
           "#EF553B",
           "#00cc96",
           "#ab63fa",
           "#FFA15A",
           "#19d3f3",
           "#FF6692",
           "#B6E880",
           "#FF97FF",
           "#FECB52"
          ],
          "font": {
           "color": "#2a3f5f"
          },
          "geo": {
           "bgcolor": "white",
           "lakecolor": "white",
           "landcolor": "#E5ECF6",
           "showlakes": true,
           "showland": true,
           "subunitcolor": "white"
          },
          "hoverlabel": {
           "align": "left"
          },
          "hovermode": "closest",
          "mapbox": {
           "style": "light"
          },
          "paper_bgcolor": "white",
          "plot_bgcolor": "#E5ECF6",
          "polar": {
           "angularaxis": {
            "gridcolor": "white",
            "linecolor": "white",
            "ticks": ""
           },
           "bgcolor": "#E5ECF6",
           "radialaxis": {
            "gridcolor": "white",
            "linecolor": "white",
            "ticks": ""
           }
          },
          "scene": {
           "xaxis": {
            "backgroundcolor": "#E5ECF6",
            "gridcolor": "white",
            "gridwidth": 2,
            "linecolor": "white",
            "showbackground": true,
            "ticks": "",
            "zerolinecolor": "white"
           },
           "yaxis": {
            "backgroundcolor": "#E5ECF6",
            "gridcolor": "white",
            "gridwidth": 2,
            "linecolor": "white",
            "showbackground": true,
            "ticks": "",
            "zerolinecolor": "white"
           },
           "zaxis": {
            "backgroundcolor": "#E5ECF6",
            "gridcolor": "white",
            "gridwidth": 2,
            "linecolor": "white",
            "showbackground": true,
            "ticks": "",
            "zerolinecolor": "white"
           }
          },
          "shapedefaults": {
           "line": {
            "color": "#2a3f5f"
           }
          },
          "ternary": {
           "aaxis": {
            "gridcolor": "white",
            "linecolor": "white",
            "ticks": ""
           },
           "baxis": {
            "gridcolor": "white",
            "linecolor": "white",
            "ticks": ""
           },
           "bgcolor": "#E5ECF6",
           "caxis": {
            "gridcolor": "white",
            "linecolor": "white",
            "ticks": ""
           }
          },
          "title": {
           "x": 0.05
          },
          "xaxis": {
           "automargin": true,
           "gridcolor": "white",
           "linecolor": "white",
           "ticks": "",
           "title": {
            "standoff": 15
           },
           "zerolinecolor": "white",
           "zerolinewidth": 2
          },
          "yaxis": {
           "automargin": true,
           "gridcolor": "white",
           "linecolor": "white",
           "ticks": "",
           "title": {
            "standoff": 15
           },
           "zerolinecolor": "white",
           "zerolinewidth": 2
          }
         }
        },
        "xaxis": {
         "anchor": "y",
         "domain": [
          0,
          1
         ],
         "title": {
          "text": "dataset"
         }
        },
        "yaxis": {
         "anchor": "x",
         "domain": [
          0,
          1
         ],
         "title": {
          "text": "accuracies"
         }
        }
       }
      },
      "text/html": [
       "<div>                            <div id=\"426f2eb3-3508-4bfc-8fe6-0e767fa80351\" class=\"plotly-graph-div\" style=\"height:525px; width:100%;\"></div>            <script type=\"text/javascript\">                require([\"plotly\"], function(Plotly) {                    window.PLOTLYENV=window.PLOTLYENV || {};                                    if (document.getElementById(\"426f2eb3-3508-4bfc-8fe6-0e767fa80351\")) {                    Plotly.newPlot(                        \"426f2eb3-3508-4bfc-8fe6-0e767fa80351\",                        [{\"alignmentgroup\":\"True\",\"boxpoints\":\"all\",\"fillcolor\":\"rgba(255,255,255,0)\",\"hoveron\":\"points\",\"hovertemplate\":\"no_interaction_between_enc_and_rest=False\\u003cbr\\u003edataset=%{x}\\u003cbr\\u003eaccuracies=%{y}\\u003cextra\\u003e\\u003c\\u002fextra\\u003e\",\"legendgroup\":\"False\",\"line\":{\"color\":\"rgba(255,255,255,0)\"},\"marker\":{\"color\":\"#636efa\"},\"name\":\"False\",\"offsetgroup\":\"False\",\"orientation\":\"v\",\"pointpos\":0,\"showlegend\":true,\"x\":[\"bikewale\",\"clear_corpus\",\"company_employees\",\"employee-remuneration-and-expenses-earning-over-75000\",\"employee_salary\",\"goodreads\",\"journal_jcr_cls\",\"ramen_ratings\",\"spotify\",\"us_accidents_counts\",\"us_accidents_severity\",\"us_presidential\",\"wine_review\",\"zomato\"],\"x0\":\" \",\"xaxis\":\"x\",\"y\":[0.8665714285714285,0.7714285714285715,0.5874285714285714,0.7960000000000002,0.9171428571428573,0.6294285714285716,0.5925714285714285,0.6348571428571429,0.8965714285714287,0.6637142857142858,0.6697142857142857,0.8145714285714284,0.7779999999999999,0.8385714285714286],\"y0\":\" \",\"yaxis\":\"y\",\"type\":\"box\"},{\"alignmentgroup\":\"True\",\"boxpoints\":\"all\",\"fillcolor\":\"rgba(255,255,255,0)\",\"hoveron\":\"points\",\"hovertemplate\":\"no_interaction_between_enc_and_rest=True\\u003cbr\\u003edataset=%{x}\\u003cbr\\u003eaccuracies=%{y}\\u003cextra\\u003e\\u003c\\u002fextra\\u003e\",\"legendgroup\":\"True\",\"line\":{\"color\":\"rgba(255,255,255,0)\"},\"marker\":{\"color\":\"#EF553B\"},\"name\":\"True\",\"offsetgroup\":\"True\",\"orientation\":\"v\",\"pointpos\":0,\"showlegend\":true,\"x\":[\"bikewale\",\"clear_corpus\",\"company_employees\",\"employee-remuneration-and-expenses-earning-over-75000\",\"employee_salary\",\"goodreads\",\"journal_jcr_cls\",\"ramen_ratings\",\"spotify\",\"us_accidents_counts\",\"us_accidents_severity\",\"us_presidential\",\"wine_review\",\"zomato\"],\"x0\":\" \",\"xaxis\":\"x\",\"y\":[0.8548571428571429,0.766,0.6028571428571429,0.7914285714285715,0.905142857142857,0.6022857142857143,0.604,0.6488571428571428,0.8782857142857142,0.6831428571428572,0.6525714285714287,0.8157142857142857,0.7802857142857142,0.8282857142857142],\"y0\":\" \",\"yaxis\":\"y\",\"type\":\"box\"}],                        {\"template\":{\"data\":{\"histogram2dcontour\":[{\"type\":\"histogram2dcontour\",\"colorbar\":{\"outlinewidth\":0,\"ticks\":\"\"},\"colorscale\":[[0.0,\"#0d0887\"],[0.1111111111111111,\"#46039f\"],[0.2222222222222222,\"#7201a8\"],[0.3333333333333333,\"#9c179e\"],[0.4444444444444444,\"#bd3786\"],[0.5555555555555556,\"#d8576b\"],[0.6666666666666666,\"#ed7953\"],[0.7777777777777778,\"#fb9f3a\"],[0.8888888888888888,\"#fdca26\"],[1.0,\"#f0f921\"]]}],\"choropleth\":[{\"type\":\"choropleth\",\"colorbar\":{\"outlinewidth\":0,\"ticks\":\"\"}}],\"histogram2d\":[{\"type\":\"histogram2d\",\"colorbar\":{\"outlinewidth\":0,\"ticks\":\"\"},\"colorscale\":[[0.0,\"#0d0887\"],[0.1111111111111111,\"#46039f\"],[0.2222222222222222,\"#7201a8\"],[0.3333333333333333,\"#9c179e\"],[0.4444444444444444,\"#bd3786\"],[0.5555555555555556,\"#d8576b\"],[0.6666666666666666,\"#ed7953\"],[0.7777777777777778,\"#fb9f3a\"],[0.8888888888888888,\"#fdca26\"],[1.0,\"#f0f921\"]]}],\"heatmap\":[{\"type\":\"heatmap\",\"colorbar\":{\"outlinewidth\":0,\"ticks\":\"\"},\"colorscale\":[[0.0,\"#0d0887\"],[0.1111111111111111,\"#46039f\"],[0.2222222222222222,\"#7201a8\"],[0.3333333333333333,\"#9c179e\"],[0.4444444444444444,\"#bd3786\"],[0.5555555555555556,\"#d8576b\"],[0.6666666666666666,\"#ed7953\"],[0.7777777777777778,\"#fb9f3a\"],[0.8888888888888888,\"#fdca26\"],[1.0,\"#f0f921\"]]}],\"heatmapgl\":[{\"type\":\"heatmapgl\",\"colorbar\":{\"outlinewidth\":0,\"ticks\":\"\"},\"colorscale\":[[0.0,\"#0d0887\"],[0.1111111111111111,\"#46039f\"],[0.2222222222222222,\"#7201a8\"],[0.3333333333333333,\"#9c179e\"],[0.4444444444444444,\"#bd3786\"],[0.5555555555555556,\"#d8576b\"],[0.6666666666666666,\"#ed7953\"],[0.7777777777777778,\"#fb9f3a\"],[0.8888888888888888,\"#fdca26\"],[1.0,\"#f0f921\"]]}],\"contourcarpet\":[{\"type\":\"contourcarpet\",\"colorbar\":{\"outlinewidth\":0,\"ticks\":\"\"}}],\"contour\":[{\"type\":\"contour\",\"colorbar\":{\"outlinewidth\":0,\"ticks\":\"\"},\"colorscale\":[[0.0,\"#0d0887\"],[0.1111111111111111,\"#46039f\"],[0.2222222222222222,\"#7201a8\"],[0.3333333333333333,\"#9c179e\"],[0.4444444444444444,\"#bd3786\"],[0.5555555555555556,\"#d8576b\"],[0.6666666666666666,\"#ed7953\"],[0.7777777777777778,\"#fb9f3a\"],[0.8888888888888888,\"#fdca26\"],[1.0,\"#f0f921\"]]}],\"surface\":[{\"type\":\"surface\",\"colorbar\":{\"outlinewidth\":0,\"ticks\":\"\"},\"colorscale\":[[0.0,\"#0d0887\"],[0.1111111111111111,\"#46039f\"],[0.2222222222222222,\"#7201a8\"],[0.3333333333333333,\"#9c179e\"],[0.4444444444444444,\"#bd3786\"],[0.5555555555555556,\"#d8576b\"],[0.6666666666666666,\"#ed7953\"],[0.7777777777777778,\"#fb9f3a\"],[0.8888888888888888,\"#fdca26\"],[1.0,\"#f0f921\"]]}],\"mesh3d\":[{\"type\":\"mesh3d\",\"colorbar\":{\"outlinewidth\":0,\"ticks\":\"\"}}],\"scatter\":[{\"fillpattern\":{\"fillmode\":\"overlay\",\"size\":10,\"solidity\":0.2},\"type\":\"scatter\"}],\"parcoords\":[{\"type\":\"parcoords\",\"line\":{\"colorbar\":{\"outlinewidth\":0,\"ticks\":\"\"}}}],\"scatterpolargl\":[{\"type\":\"scatterpolargl\",\"marker\":{\"colorbar\":{\"outlinewidth\":0,\"ticks\":\"\"}}}],\"bar\":[{\"error_x\":{\"color\":\"#2a3f5f\"},\"error_y\":{\"color\":\"#2a3f5f\"},\"marker\":{\"line\":{\"color\":\"#E5ECF6\",\"width\":0.5},\"pattern\":{\"fillmode\":\"overlay\",\"size\":10,\"solidity\":0.2}},\"type\":\"bar\"}],\"scattergeo\":[{\"type\":\"scattergeo\",\"marker\":{\"colorbar\":{\"outlinewidth\":0,\"ticks\":\"\"}}}],\"scatterpolar\":[{\"type\":\"scatterpolar\",\"marker\":{\"colorbar\":{\"outlinewidth\":0,\"ticks\":\"\"}}}],\"histogram\":[{\"marker\":{\"pattern\":{\"fillmode\":\"overlay\",\"size\":10,\"solidity\":0.2}},\"type\":\"histogram\"}],\"scattergl\":[{\"type\":\"scattergl\",\"marker\":{\"colorbar\":{\"outlinewidth\":0,\"ticks\":\"\"}}}],\"scatter3d\":[{\"type\":\"scatter3d\",\"line\":{\"colorbar\":{\"outlinewidth\":0,\"ticks\":\"\"}},\"marker\":{\"colorbar\":{\"outlinewidth\":0,\"ticks\":\"\"}}}],\"scattermapbox\":[{\"type\":\"scattermapbox\",\"marker\":{\"colorbar\":{\"outlinewidth\":0,\"ticks\":\"\"}}}],\"scatterternary\":[{\"type\":\"scatterternary\",\"marker\":{\"colorbar\":{\"outlinewidth\":0,\"ticks\":\"\"}}}],\"scattercarpet\":[{\"type\":\"scattercarpet\",\"marker\":{\"colorbar\":{\"outlinewidth\":0,\"ticks\":\"\"}}}],\"carpet\":[{\"aaxis\":{\"endlinecolor\":\"#2a3f5f\",\"gridcolor\":\"white\",\"linecolor\":\"white\",\"minorgridcolor\":\"white\",\"startlinecolor\":\"#2a3f5f\"},\"baxis\":{\"endlinecolor\":\"#2a3f5f\",\"gridcolor\":\"white\",\"linecolor\":\"white\",\"minorgridcolor\":\"white\",\"startlinecolor\":\"#2a3f5f\"},\"type\":\"carpet\"}],\"table\":[{\"cells\":{\"fill\":{\"color\":\"#EBF0F8\"},\"line\":{\"color\":\"white\"}},\"header\":{\"fill\":{\"color\":\"#C8D4E3\"},\"line\":{\"color\":\"white\"}},\"type\":\"table\"}],\"barpolar\":[{\"marker\":{\"line\":{\"color\":\"#E5ECF6\",\"width\":0.5},\"pattern\":{\"fillmode\":\"overlay\",\"size\":10,\"solidity\":0.2}},\"type\":\"barpolar\"}],\"pie\":[{\"automargin\":true,\"type\":\"pie\"}]},\"layout\":{\"autotypenumbers\":\"strict\",\"colorway\":[\"#636efa\",\"#EF553B\",\"#00cc96\",\"#ab63fa\",\"#FFA15A\",\"#19d3f3\",\"#FF6692\",\"#B6E880\",\"#FF97FF\",\"#FECB52\"],\"font\":{\"color\":\"#2a3f5f\"},\"hovermode\":\"closest\",\"hoverlabel\":{\"align\":\"left\"},\"paper_bgcolor\":\"white\",\"plot_bgcolor\":\"#E5ECF6\",\"polar\":{\"bgcolor\":\"#E5ECF6\",\"angularaxis\":{\"gridcolor\":\"white\",\"linecolor\":\"white\",\"ticks\":\"\"},\"radialaxis\":{\"gridcolor\":\"white\",\"linecolor\":\"white\",\"ticks\":\"\"}},\"ternary\":{\"bgcolor\":\"#E5ECF6\",\"aaxis\":{\"gridcolor\":\"white\",\"linecolor\":\"white\",\"ticks\":\"\"},\"baxis\":{\"gridcolor\":\"white\",\"linecolor\":\"white\",\"ticks\":\"\"},\"caxis\":{\"gridcolor\":\"white\",\"linecolor\":\"white\",\"ticks\":\"\"}},\"coloraxis\":{\"colorbar\":{\"outlinewidth\":0,\"ticks\":\"\"}},\"colorscale\":{\"sequential\":[[0.0,\"#0d0887\"],[0.1111111111111111,\"#46039f\"],[0.2222222222222222,\"#7201a8\"],[0.3333333333333333,\"#9c179e\"],[0.4444444444444444,\"#bd3786\"],[0.5555555555555556,\"#d8576b\"],[0.6666666666666666,\"#ed7953\"],[0.7777777777777778,\"#fb9f3a\"],[0.8888888888888888,\"#fdca26\"],[1.0,\"#f0f921\"]],\"sequentialminus\":[[0.0,\"#0d0887\"],[0.1111111111111111,\"#46039f\"],[0.2222222222222222,\"#7201a8\"],[0.3333333333333333,\"#9c179e\"],[0.4444444444444444,\"#bd3786\"],[0.5555555555555556,\"#d8576b\"],[0.6666666666666666,\"#ed7953\"],[0.7777777777777778,\"#fb9f3a\"],[0.8888888888888888,\"#fdca26\"],[1.0,\"#f0f921\"]],\"diverging\":[[0,\"#8e0152\"],[0.1,\"#c51b7d\"],[0.2,\"#de77ae\"],[0.3,\"#f1b6da\"],[0.4,\"#fde0ef\"],[0.5,\"#f7f7f7\"],[0.6,\"#e6f5d0\"],[0.7,\"#b8e186\"],[0.8,\"#7fbc41\"],[0.9,\"#4d9221\"],[1,\"#276419\"]]},\"xaxis\":{\"gridcolor\":\"white\",\"linecolor\":\"white\",\"ticks\":\"\",\"title\":{\"standoff\":15},\"zerolinecolor\":\"white\",\"automargin\":true,\"zerolinewidth\":2},\"yaxis\":{\"gridcolor\":\"white\",\"linecolor\":\"white\",\"ticks\":\"\",\"title\":{\"standoff\":15},\"zerolinecolor\":\"white\",\"automargin\":true,\"zerolinewidth\":2},\"scene\":{\"xaxis\":{\"backgroundcolor\":\"#E5ECF6\",\"gridcolor\":\"white\",\"linecolor\":\"white\",\"showbackground\":true,\"ticks\":\"\",\"zerolinecolor\":\"white\",\"gridwidth\":2},\"yaxis\":{\"backgroundcolor\":\"#E5ECF6\",\"gridcolor\":\"white\",\"linecolor\":\"white\",\"showbackground\":true,\"ticks\":\"\",\"zerolinecolor\":\"white\",\"gridwidth\":2},\"zaxis\":{\"backgroundcolor\":\"#E5ECF6\",\"gridcolor\":\"white\",\"linecolor\":\"white\",\"showbackground\":true,\"ticks\":\"\",\"zerolinecolor\":\"white\",\"gridwidth\":2}},\"shapedefaults\":{\"line\":{\"color\":\"#2a3f5f\"}},\"annotationdefaults\":{\"arrowcolor\":\"#2a3f5f\",\"arrowhead\":0,\"arrowwidth\":1},\"geo\":{\"bgcolor\":\"white\",\"landcolor\":\"#E5ECF6\",\"subunitcolor\":\"white\",\"showland\":true,\"showlakes\":true,\"lakecolor\":\"white\"},\"title\":{\"x\":0.05},\"mapbox\":{\"style\":\"light\"}}},\"xaxis\":{\"anchor\":\"y\",\"domain\":[0.0,1.0],\"title\":{\"text\":\"dataset\"}},\"yaxis\":{\"anchor\":\"x\",\"domain\":[0.0,1.0],\"title\":{\"text\":\"accuracies\"}},\"legend\":{\"title\":{\"text\":\"no_interaction_between_enc_and_rest\"},\"tracegroupgap\":0},\"margin\":{\"t\":60},\"boxmode\":\"group\"},                        {\"responsive\": true}                    ).then(function(){\n",
       "                            \n",
       "var gd = document.getElementById('426f2eb3-3508-4bfc-8fe6-0e767fa80351');\n",
       "var x = new MutationObserver(function (mutations, observer) {{\n",
       "        var display = window.getComputedStyle(gd).display;\n",
       "        if (!display || display === 'none') {{\n",
       "            console.log([gd, 'removed!']);\n",
       "            Plotly.purge(gd);\n",
       "            observer.disconnect();\n",
       "        }}\n",
       "}});\n",
       "\n",
       "// Listen for the removal of the full notebook cells\n",
       "var notebookContainer = gd.closest('#notebook-container');\n",
       "if (notebookContainer) {{\n",
       "    x.observe(notebookContainer, {childList: true});\n",
       "}}\n",
       "\n",
       "// Listen for the clearing of the current output cell\n",
       "var outputEl = gd.closest('.output');\n",
       "if (outputEl) {{\n",
       "    x.observe(outputEl, {childList: true});\n",
       "}}\n",
       "\n",
       "                        })                };                });            </script>        </div>"
      ]
     },
     "metadata": {},
     "output_type": "display_data"
    }
   ],
   "source": [
    "import plotly.express as px\n",
    "fig = px.strip(\n",
    "    melted_results, x=\"dataset\", y=\"accuracies\", color=\"no_interaction_between_enc_and_rest\"\n",
    ")\n",
    "fig.show()"
   ]
  },
  {
   "cell_type": "code",
   "execution_count": 89,
   "metadata": {},
   "outputs": [
    {
     "data": {
      "text/html": [
       "<div>\n",
       "<style scoped>\n",
       "    .dataframe tbody tr th:only-of-type {\n",
       "        vertical-align: middle;\n",
       "    }\n",
       "\n",
       "    .dataframe tbody tr th {\n",
       "        vertical-align: top;\n",
       "    }\n",
       "\n",
       "    .dataframe thead th {\n",
       "        text-align: right;\n",
       "    }\n",
       "</style>\n",
       "<table border=\"1\" class=\"dataframe\">\n",
       "  <thead>\n",
       "    <tr style=\"text-align: right;\">\n",
       "      <th></th>\n",
       "      <th>dataset</th>\n",
       "      <th>model</th>\n",
       "      <th>no_interaction_between_enc_and_rest</th>\n",
       "      <th>roc_auc</th>\n",
       "    </tr>\n",
       "  </thead>\n",
       "  <tbody>\n",
       "    <tr>\n",
       "      <th>0</th>\n",
       "      <td>bikewale</td>\n",
       "      <td>HistGradientBoostingClassifier</td>\n",
       "      <td>False</td>\n",
       "      <td>0.865893</td>\n",
       "    </tr>\n",
       "    <tr>\n",
       "      <th>1</th>\n",
       "      <td>bikewale</td>\n",
       "      <td>HistGradientBoostingClassifier</td>\n",
       "      <td>True</td>\n",
       "      <td>0.854358</td>\n",
       "    </tr>\n",
       "    <tr>\n",
       "      <th>2</th>\n",
       "      <td>clear_corpus</td>\n",
       "      <td>HistGradientBoostingClassifier</td>\n",
       "      <td>False</td>\n",
       "      <td>0.771338</td>\n",
       "    </tr>\n",
       "    <tr>\n",
       "      <th>3</th>\n",
       "      <td>clear_corpus</td>\n",
       "      <td>HistGradientBoostingClassifier</td>\n",
       "      <td>True</td>\n",
       "      <td>0.766028</td>\n",
       "    </tr>\n",
       "    <tr>\n",
       "      <th>4</th>\n",
       "      <td>company_employees</td>\n",
       "      <td>HistGradientBoostingClassifier</td>\n",
       "      <td>False</td>\n",
       "      <td>0.588066</td>\n",
       "    </tr>\n",
       "    <tr>\n",
       "      <th>5</th>\n",
       "      <td>company_employees</td>\n",
       "      <td>HistGradientBoostingClassifier</td>\n",
       "      <td>True</td>\n",
       "      <td>0.603068</td>\n",
       "    </tr>\n",
       "    <tr>\n",
       "      <th>6</th>\n",
       "      <td>employee-remuneration-and-expenses-earning-ove...</td>\n",
       "      <td>HistGradientBoostingClassifier</td>\n",
       "      <td>False</td>\n",
       "      <td>0.79545</td>\n",
       "    </tr>\n",
       "    <tr>\n",
       "      <th>7</th>\n",
       "      <td>employee-remuneration-and-expenses-earning-ove...</td>\n",
       "      <td>HistGradientBoostingClassifier</td>\n",
       "      <td>True</td>\n",
       "      <td>0.791277</td>\n",
       "    </tr>\n",
       "    <tr>\n",
       "      <th>8</th>\n",
       "      <td>employee_salary</td>\n",
       "      <td>HistGradientBoostingClassifier</td>\n",
       "      <td>False</td>\n",
       "      <td>0.917534</td>\n",
       "    </tr>\n",
       "    <tr>\n",
       "      <th>9</th>\n",
       "      <td>employee_salary</td>\n",
       "      <td>HistGradientBoostingClassifier</td>\n",
       "      <td>True</td>\n",
       "      <td>0.905808</td>\n",
       "    </tr>\n",
       "    <tr>\n",
       "      <th>10</th>\n",
       "      <td>goodreads</td>\n",
       "      <td>HistGradientBoostingClassifier</td>\n",
       "      <td>False</td>\n",
       "      <td>0.628166</td>\n",
       "    </tr>\n",
       "    <tr>\n",
       "      <th>11</th>\n",
       "      <td>goodreads</td>\n",
       "      <td>HistGradientBoostingClassifier</td>\n",
       "      <td>True</td>\n",
       "      <td>0.605219</td>\n",
       "    </tr>\n",
       "    <tr>\n",
       "      <th>12</th>\n",
       "      <td>journal_jcr_cls</td>\n",
       "      <td>HistGradientBoostingClassifier</td>\n",
       "      <td>False</td>\n",
       "      <td>0.580972</td>\n",
       "    </tr>\n",
       "    <tr>\n",
       "      <th>13</th>\n",
       "      <td>journal_jcr_cls</td>\n",
       "      <td>HistGradientBoostingClassifier</td>\n",
       "      <td>True</td>\n",
       "      <td>0.593285</td>\n",
       "    </tr>\n",
       "    <tr>\n",
       "      <th>14</th>\n",
       "      <td>ramen_ratings</td>\n",
       "      <td>HistGradientBoostingClassifier</td>\n",
       "      <td>False</td>\n",
       "      <td>0.630569</td>\n",
       "    </tr>\n",
       "    <tr>\n",
       "      <th>15</th>\n",
       "      <td>ramen_ratings</td>\n",
       "      <td>HistGradientBoostingClassifier</td>\n",
       "      <td>True</td>\n",
       "      <td>0.644674</td>\n",
       "    </tr>\n",
       "    <tr>\n",
       "      <th>16</th>\n",
       "      <td>spotify</td>\n",
       "      <td>HistGradientBoostingClassifier</td>\n",
       "      <td>False</td>\n",
       "      <td>0.896327</td>\n",
       "    </tr>\n",
       "    <tr>\n",
       "      <th>17</th>\n",
       "      <td>spotify</td>\n",
       "      <td>HistGradientBoostingClassifier</td>\n",
       "      <td>True</td>\n",
       "      <td>0.877922</td>\n",
       "    </tr>\n",
       "    <tr>\n",
       "      <th>18</th>\n",
       "      <td>us_accidents_counts</td>\n",
       "      <td>HistGradientBoostingClassifier</td>\n",
       "      <td>False</td>\n",
       "      <td>0.662774</td>\n",
       "    </tr>\n",
       "    <tr>\n",
       "      <th>19</th>\n",
       "      <td>us_accidents_counts</td>\n",
       "      <td>HistGradientBoostingClassifier</td>\n",
       "      <td>True</td>\n",
       "      <td>0.682069</td>\n",
       "    </tr>\n",
       "    <tr>\n",
       "      <th>20</th>\n",
       "      <td>us_accidents_severity</td>\n",
       "      <td>HistGradientBoostingClassifier</td>\n",
       "      <td>False</td>\n",
       "      <td>0.669966</td>\n",
       "    </tr>\n",
       "    <tr>\n",
       "      <th>21</th>\n",
       "      <td>us_accidents_severity</td>\n",
       "      <td>HistGradientBoostingClassifier</td>\n",
       "      <td>True</td>\n",
       "      <td>0.652262</td>\n",
       "    </tr>\n",
       "    <tr>\n",
       "      <th>22</th>\n",
       "      <td>us_presidential</td>\n",
       "      <td>HistGradientBoostingClassifier</td>\n",
       "      <td>False</td>\n",
       "      <td>0.814313</td>\n",
       "    </tr>\n",
       "    <tr>\n",
       "      <th>23</th>\n",
       "      <td>us_presidential</td>\n",
       "      <td>HistGradientBoostingClassifier</td>\n",
       "      <td>True</td>\n",
       "      <td>0.816334</td>\n",
       "    </tr>\n",
       "    <tr>\n",
       "      <th>24</th>\n",
       "      <td>wine_review</td>\n",
       "      <td>HistGradientBoostingClassifier</td>\n",
       "      <td>False</td>\n",
       "      <td>0.77015</td>\n",
       "    </tr>\n",
       "    <tr>\n",
       "      <th>25</th>\n",
       "      <td>wine_review</td>\n",
       "      <td>HistGradientBoostingClassifier</td>\n",
       "      <td>True</td>\n",
       "      <td>0.769383</td>\n",
       "    </tr>\n",
       "    <tr>\n",
       "      <th>26</th>\n",
       "      <td>zomato</td>\n",
       "      <td>HistGradientBoostingClassifier</td>\n",
       "      <td>False</td>\n",
       "      <td>0.820872</td>\n",
       "    </tr>\n",
       "    <tr>\n",
       "      <th>27</th>\n",
       "      <td>zomato</td>\n",
       "      <td>HistGradientBoostingClassifier</td>\n",
       "      <td>True</td>\n",
       "      <td>0.807005</td>\n",
       "    </tr>\n",
       "  </tbody>\n",
       "</table>\n",
       "</div>"
      ],
      "text/plain": [
       "                                              dataset  \\\n",
       "0                                            bikewale   \n",
       "1                                            bikewale   \n",
       "2                                        clear_corpus   \n",
       "3                                        clear_corpus   \n",
       "4                                   company_employees   \n",
       "5                                   company_employees   \n",
       "6   employee-remuneration-and-expenses-earning-ove...   \n",
       "7   employee-remuneration-and-expenses-earning-ove...   \n",
       "8                                     employee_salary   \n",
       "9                                     employee_salary   \n",
       "10                                          goodreads   \n",
       "11                                          goodreads   \n",
       "12                                    journal_jcr_cls   \n",
       "13                                    journal_jcr_cls   \n",
       "14                                      ramen_ratings   \n",
       "15                                      ramen_ratings   \n",
       "16                                            spotify   \n",
       "17                                            spotify   \n",
       "18                                us_accidents_counts   \n",
       "19                                us_accidents_counts   \n",
       "20                              us_accidents_severity   \n",
       "21                              us_accidents_severity   \n",
       "22                                    us_presidential   \n",
       "23                                    us_presidential   \n",
       "24                                        wine_review   \n",
       "25                                        wine_review   \n",
       "26                                             zomato   \n",
       "27                                             zomato   \n",
       "\n",
       "                             model  no_interaction_between_enc_and_rest  \\\n",
       "0   HistGradientBoostingClassifier                                False   \n",
       "1   HistGradientBoostingClassifier                                 True   \n",
       "2   HistGradientBoostingClassifier                                False   \n",
       "3   HistGradientBoostingClassifier                                 True   \n",
       "4   HistGradientBoostingClassifier                                False   \n",
       "5   HistGradientBoostingClassifier                                 True   \n",
       "6   HistGradientBoostingClassifier                                False   \n",
       "7   HistGradientBoostingClassifier                                 True   \n",
       "8   HistGradientBoostingClassifier                                False   \n",
       "9   HistGradientBoostingClassifier                                 True   \n",
       "10  HistGradientBoostingClassifier                                False   \n",
       "11  HistGradientBoostingClassifier                                 True   \n",
       "12  HistGradientBoostingClassifier                                False   \n",
       "13  HistGradientBoostingClassifier                                 True   \n",
       "14  HistGradientBoostingClassifier                                False   \n",
       "15  HistGradientBoostingClassifier                                 True   \n",
       "16  HistGradientBoostingClassifier                                False   \n",
       "17  HistGradientBoostingClassifier                                 True   \n",
       "18  HistGradientBoostingClassifier                                False   \n",
       "19  HistGradientBoostingClassifier                                 True   \n",
       "20  HistGradientBoostingClassifier                                False   \n",
       "21  HistGradientBoostingClassifier                                 True   \n",
       "22  HistGradientBoostingClassifier                                False   \n",
       "23  HistGradientBoostingClassifier                                 True   \n",
       "24  HistGradientBoostingClassifier                                False   \n",
       "25  HistGradientBoostingClassifier                                 True   \n",
       "26  HistGradientBoostingClassifier                                False   \n",
       "27  HistGradientBoostingClassifier                                 True   \n",
       "\n",
       "     roc_auc  \n",
       "0   0.865893  \n",
       "1   0.854358  \n",
       "2   0.771338  \n",
       "3   0.766028  \n",
       "4   0.588066  \n",
       "5   0.603068  \n",
       "6    0.79545  \n",
       "7   0.791277  \n",
       "8   0.917534  \n",
       "9   0.905808  \n",
       "10  0.628166  \n",
       "11  0.605219  \n",
       "12  0.580972  \n",
       "13  0.593285  \n",
       "14  0.630569  \n",
       "15  0.644674  \n",
       "16  0.896327  \n",
       "17  0.877922  \n",
       "18  0.662774  \n",
       "19  0.682069  \n",
       "20  0.669966  \n",
       "21  0.652262  \n",
       "22  0.814313  \n",
       "23  0.816334  \n",
       "24   0.77015  \n",
       "25  0.769383  \n",
       "26  0.820872  \n",
       "27  0.807005  "
      ]
     },
     "execution_count": 89,
     "metadata": {},
     "output_type": "execute_result"
    }
   ],
   "source": [
    "melted_results"
   ]
  },
  {
   "cell_type": "code",
   "execution_count": null,
   "metadata": {},
   "outputs": [],
   "source": []
  }
 ],
 "metadata": {
  "kernelspec": {
   "display_name": "Python 3 (ipykernel)",
   "language": "python",
   "name": "python3"
  },
  "language_info": {
   "codemirror_mode": {
    "name": "ipython",
    "version": 3
   },
   "file_extension": ".py",
   "mimetype": "text/x-python",
   "name": "python",
   "nbconvert_exporter": "python",
   "pygments_lexer": "ipython3",
   "version": "3.10.12"
  }
 },
 "nbformat": 4,
 "nbformat_minor": 2
}
