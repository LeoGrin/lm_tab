{
 "cells": [
  {
   "cell_type": "code",
   "execution_count": 1,
   "metadata": {},
   "outputs": [
    {
     "name": "stdout",
     "output_type": "stream",
     "text": [
      "2\n"
     ]
    }
   ],
   "source": [
    "print(2)"
   ]
  },
  {
   "cell_type": "code",
   "execution_count": 6,
   "metadata": {},
   "outputs": [
    {
     "name": "stdout",
     "output_type": "stream",
     "text": [
      "/scratch/lgrinszt/lm_tab/data\n"
     ]
    }
   ],
   "source": [
    "!pwd"
   ]
  },
  {
   "cell_type": "code",
   "execution_count": 118,
   "metadata": {},
   "outputs": [],
   "source": [
    "import pandas as pd\n",
    "df = pd.read_csv(\"Movies_dataset.csv\")"
   ]
  },
  {
   "cell_type": "code",
   "execution_count": 119,
   "metadata": {},
   "outputs": [
    {
     "data": {
      "text/html": [
       "<div>\n",
       "<style scoped>\n",
       "    .dataframe tbody tr th:only-of-type {\n",
       "        vertical-align: middle;\n",
       "    }\n",
       "\n",
       "    .dataframe tbody tr th {\n",
       "        vertical-align: top;\n",
       "    }\n",
       "\n",
       "    .dataframe thead th {\n",
       "        text-align: right;\n",
       "    }\n",
       "</style>\n",
       "<table border=\"1\" class=\"dataframe\">\n",
       "  <thead>\n",
       "    <tr style=\"text-align: right;\">\n",
       "      <th></th>\n",
       "      <th>Movie_Name</th>\n",
       "      <th>Certification</th>\n",
       "      <th>Release_Date</th>\n",
       "      <th>Genres</th>\n",
       "      <th>Language</th>\n",
       "      <th>Budget</th>\n",
       "      <th>Revenue</th>\n",
       "      <th>Runtime</th>\n",
       "    </tr>\n",
       "  </thead>\n",
       "  <tbody>\n",
       "    <tr>\n",
       "      <th>0</th>\n",
       "      <td>Black Panther: Wakanda Forever</td>\n",
       "      <td>PG13</td>\n",
       "      <td>11/10/2022</td>\n",
       "      <td>['Action,', 'Adventure,', 'Science Fiction']</td>\n",
       "      <td>English</td>\n",
       "      <td>$250,000,000.00</td>\n",
       "      <td>$835,000,000.00</td>\n",
       "      <td>162.0</td>\n",
       "    </tr>\n",
       "    <tr>\n",
       "      <th>1</th>\n",
       "      <td>Puss in Boots: The Last Wish</td>\n",
       "      <td>PG</td>\n",
       "      <td>12/08/2022</td>\n",
       "      <td>['Animation,', 'Adventure,', 'Comedy,', 'Famil...</td>\n",
       "      <td>English</td>\n",
       "      <td>$90,000,000.00</td>\n",
       "      <td>$369,105,725.00</td>\n",
       "      <td>103.0</td>\n",
       "    </tr>\n",
       "    <tr>\n",
       "      <th>2</th>\n",
       "      <td>Shotgun Wedding</td>\n",
       "      <td>R</td>\n",
       "      <td>12/28/2022</td>\n",
       "      <td>['Action,', 'Romance,', 'Comedy']</td>\n",
       "      <td>English</td>\n",
       "      <td>-</td>\n",
       "      <td>$4,495,365.00</td>\n",
       "      <td>101.0</td>\n",
       "    </tr>\n",
       "    <tr>\n",
       "      <th>3</th>\n",
       "      <td>M3GAN</td>\n",
       "      <td>PG13</td>\n",
       "      <td>01/05/2023</td>\n",
       "      <td>['Science Fiction,', 'Horror,', 'Comedy']</td>\n",
       "      <td>English</td>\n",
       "      <td>$12,000,000.00</td>\n",
       "      <td>$158,000,000.00</td>\n",
       "      <td>102.0</td>\n",
       "    </tr>\n",
       "    <tr>\n",
       "      <th>4</th>\n",
       "      <td>Transfusion</td>\n",
       "      <td>MA15+</td>\n",
       "      <td>01/05/2023</td>\n",
       "      <td>['Crime,', 'Thriller,', 'Drama']</td>\n",
       "      <td>English</td>\n",
       "      <td>-</td>\n",
       "      <td>-</td>\n",
       "      <td>105.0</td>\n",
       "    </tr>\n",
       "    <tr>\n",
       "      <th>...</th>\n",
       "      <td>...</td>\n",
       "      <td>...</td>\n",
       "      <td>...</td>\n",
       "      <td>...</td>\n",
       "      <td>...</td>\n",
       "      <td>...</td>\n",
       "      <td>...</td>\n",
       "      <td>...</td>\n",
       "    </tr>\n",
       "    <tr>\n",
       "      <th>3961</th>\n",
       "      <td>The Watch</td>\n",
       "      <td>R</td>\n",
       "      <td>08/23/2012</td>\n",
       "      <td>['Comedy,', 'Action,', 'Science Fiction']</td>\n",
       "      <td>English</td>\n",
       "      <td>$68,000,000.00</td>\n",
       "      <td>$68,267,862.00</td>\n",
       "      <td>102.0</td>\n",
       "    </tr>\n",
       "    <tr>\n",
       "      <th>3962</th>\n",
       "      <td>Primeval</td>\n",
       "      <td>R</td>\n",
       "      <td>01/12/2007</td>\n",
       "      <td>['Adventure,', 'Horror']</td>\n",
       "      <td>English</td>\n",
       "      <td>-</td>\n",
       "      <td>$10,597,734.00</td>\n",
       "      <td>93.0</td>\n",
       "    </tr>\n",
       "    <tr>\n",
       "      <th>3963</th>\n",
       "      <td>The Girl in the Spider's Web</td>\n",
       "      <td>R</td>\n",
       "      <td>11/09/2018</td>\n",
       "      <td>['Action,', 'Crime,', 'Thriller,', 'Drama']</td>\n",
       "      <td>English</td>\n",
       "      <td>$43,000,000.00</td>\n",
       "      <td>$35,164,920.00</td>\n",
       "      <td>115.0</td>\n",
       "    </tr>\n",
       "    <tr>\n",
       "      <th>3964</th>\n",
       "      <td>Scooby-Doo on Zombie Island</td>\n",
       "      <td>PG</td>\n",
       "      <td>09/22/1998</td>\n",
       "      <td>['Animation,', 'Mystery,', 'Family,', 'Horror']</td>\n",
       "      <td>English</td>\n",
       "      <td>-</td>\n",
       "      <td>-</td>\n",
       "      <td>77.0</td>\n",
       "    </tr>\n",
       "    <tr>\n",
       "      <th>3965</th>\n",
       "      <td>Wu Kong</td>\n",
       "      <td>NaN</td>\n",
       "      <td>07/13/2017</td>\n",
       "      <td>['Fantasy,', 'Action,', 'Adventure']</td>\n",
       "      <td>Released</td>\n",
       "      <td>Language</td>\n",
       "      <td>-</td>\n",
       "      <td>130.0</td>\n",
       "    </tr>\n",
       "  </tbody>\n",
       "</table>\n",
       "<p>3966 rows × 8 columns</p>\n",
       "</div>"
      ],
      "text/plain": [
       "                          Movie_Name Certification Release_Date  \\\n",
       "0     Black Panther: Wakanda Forever          PG13   11/10/2022   \n",
       "1       Puss in Boots: The Last Wish            PG   12/08/2022   \n",
       "2                    Shotgun Wedding             R   12/28/2022   \n",
       "3                              M3GAN          PG13   01/05/2023   \n",
       "4                        Transfusion         MA15+   01/05/2023   \n",
       "...                              ...           ...          ...   \n",
       "3961                       The Watch             R   08/23/2012   \n",
       "3962                        Primeval             R   01/12/2007   \n",
       "3963    The Girl in the Spider's Web             R   11/09/2018   \n",
       "3964     Scooby-Doo on Zombie Island            PG   09/22/1998   \n",
       "3965                         Wu Kong           NaN   07/13/2017   \n",
       "\n",
       "                                                 Genres  Language  \\\n",
       "0          ['Action,', 'Adventure,', 'Science Fiction']   English   \n",
       "1     ['Animation,', 'Adventure,', 'Comedy,', 'Famil...   English   \n",
       "2                     ['Action,', 'Romance,', 'Comedy']   English   \n",
       "3             ['Science Fiction,', 'Horror,', 'Comedy']   English   \n",
       "4                      ['Crime,', 'Thriller,', 'Drama']   English   \n",
       "...                                                 ...       ...   \n",
       "3961          ['Comedy,', 'Action,', 'Science Fiction']   English   \n",
       "3962                           ['Adventure,', 'Horror']   English   \n",
       "3963        ['Action,', 'Crime,', 'Thriller,', 'Drama']   English   \n",
       "3964    ['Animation,', 'Mystery,', 'Family,', 'Horror']   English   \n",
       "3965               ['Fantasy,', 'Action,', 'Adventure']  Released   \n",
       "\n",
       "               Budget          Revenue  Runtime  \n",
       "0     $250,000,000.00  $835,000,000.00    162.0  \n",
       "1      $90,000,000.00  $369,105,725.00    103.0  \n",
       "2                   -    $4,495,365.00    101.0  \n",
       "3      $12,000,000.00  $158,000,000.00    102.0  \n",
       "4                   -                -    105.0  \n",
       "...               ...              ...      ...  \n",
       "3961   $68,000,000.00   $68,267,862.00    102.0  \n",
       "3962                -   $10,597,734.00     93.0  \n",
       "3963   $43,000,000.00   $35,164,920.00    115.0  \n",
       "3964                -                -     77.0  \n",
       "3965         Language                -    130.0  \n",
       "\n",
       "[3966 rows x 8 columns]"
      ]
     },
     "execution_count": 119,
     "metadata": {},
     "output_type": "execute_result"
    }
   ],
   "source": [
    "df"
   ]
  },
  {
   "cell_type": "code",
   "execution_count": 120,
   "metadata": {},
   "outputs": [],
   "source": [
    "import numpy as np\n",
    "# convert budget to numerical\n",
    "df['Revenue'] = df['Revenue'].replace('-', 'NaN')\n",
    "df['Revenue'] = df['Revenue'].replace('[\\$,]' , '', regex=True)\n",
    "df['Revenue'] = pd.to_numeric(df['Revenue'], errors='coerce')\n",
    "# log transform\n",
    "df['Revenue'] = np.log(df['Revenue'])"
   ]
  },
  {
   "cell_type": "code",
   "execution_count": 121,
   "metadata": {},
   "outputs": [],
   "source": [
    "# convert Release_Date to datetime\n",
    "df['Release_Date'] = pd.to_datetime(df['Release_Date'])"
   ]
  },
  {
   "cell_type": "code",
   "execution_count": 122,
   "metadata": {},
   "outputs": [],
   "source": [
    "df = df[[\"Movie_Name\", \"Certification\", \"Release_Date\", \"Language\", \"Revenue\", \"Runtime\"]]"
   ]
  },
  {
   "cell_type": "code",
   "execution_count": 123,
   "metadata": {},
   "outputs": [],
   "source": [
    "# drop nans in Revenue\n",
    "df = df.dropna(subset=['Revenue'])"
   ]
  },
  {
   "cell_type": "code",
   "execution_count": 124,
   "metadata": {},
   "outputs": [],
   "source": [
    "# rename Movie_Name to name\n",
    "df = df.rename(columns={\"Movie_Name\": \"name\", \"Revenue\":\"target\"})\n"
   ]
  },
  {
   "cell_type": "code",
   "execution_count": 125,
   "metadata": {},
   "outputs": [],
   "source": [
    "df.reset_index(drop=True, inplace=True)"
   ]
  },
  {
   "cell_type": "code",
   "execution_count": 126,
   "metadata": {},
   "outputs": [],
   "source": [
    "# export to parquet\n",
    "df.to_parquet(\"movies_2023.parquet\")"
   ]
  },
  {
   "cell_type": "code",
   "execution_count": 127,
   "metadata": {},
   "outputs": [
    {
     "data": {
      "text/html": [
       "<div>\n",
       "<style scoped>\n",
       "    .dataframe tbody tr th:only-of-type {\n",
       "        vertical-align: middle;\n",
       "    }\n",
       "\n",
       "    .dataframe tbody tr th {\n",
       "        vertical-align: top;\n",
       "    }\n",
       "\n",
       "    .dataframe thead th {\n",
       "        text-align: right;\n",
       "    }\n",
       "</style>\n",
       "<table border=\"1\" class=\"dataframe\">\n",
       "  <thead>\n",
       "    <tr style=\"text-align: right;\">\n",
       "      <th></th>\n",
       "      <th>name</th>\n",
       "      <th>Certification</th>\n",
       "      <th>Release_Date</th>\n",
       "      <th>Language</th>\n",
       "      <th>target</th>\n",
       "      <th>Runtime</th>\n",
       "    </tr>\n",
       "  </thead>\n",
       "  <tbody>\n",
       "    <tr>\n",
       "      <th>0</th>\n",
       "      <td>Black Panther: Wakanda Forever</td>\n",
       "      <td>PG13</td>\n",
       "      <td>2022-11-10</td>\n",
       "      <td>English</td>\n",
       "      <td>20.542942</td>\n",
       "      <td>162.0</td>\n",
       "    </tr>\n",
       "    <tr>\n",
       "      <th>1</th>\n",
       "      <td>Puss in Boots: The Last Wish</td>\n",
       "      <td>PG</td>\n",
       "      <td>2022-12-08</td>\n",
       "      <td>English</td>\n",
       "      <td>19.726594</td>\n",
       "      <td>103.0</td>\n",
       "    </tr>\n",
       "    <tr>\n",
       "      <th>2</th>\n",
       "      <td>Shotgun Wedding</td>\n",
       "      <td>R</td>\n",
       "      <td>2022-12-28</td>\n",
       "      <td>English</td>\n",
       "      <td>15.318557</td>\n",
       "      <td>101.0</td>\n",
       "    </tr>\n",
       "    <tr>\n",
       "      <th>3</th>\n",
       "      <td>M3GAN</td>\n",
       "      <td>PG13</td>\n",
       "      <td>2023-01-05</td>\n",
       "      <td>English</td>\n",
       "      <td>18.878106</td>\n",
       "      <td>102.0</td>\n",
       "    </tr>\n",
       "    <tr>\n",
       "      <th>4</th>\n",
       "      <td>Avatar: The Way of Water</td>\n",
       "      <td>PG13</td>\n",
       "      <td>2022-12-15</td>\n",
       "      <td>English</td>\n",
       "      <td>21.500754</td>\n",
       "      <td>192.0</td>\n",
       "    </tr>\n",
       "    <tr>\n",
       "      <th>...</th>\n",
       "      <td>...</td>\n",
       "      <td>...</td>\n",
       "      <td>...</td>\n",
       "      <td>...</td>\n",
       "      <td>...</td>\n",
       "      <td>...</td>\n",
       "    </tr>\n",
       "    <tr>\n",
       "      <th>2355</th>\n",
       "      <td>Psycho-Pass 3: First Inspector</td>\n",
       "      <td>16</td>\n",
       "      <td>2020-03-27</td>\n",
       "      <td>3</td>\n",
       "      <td>13.537245</td>\n",
       "      <td>137.0</td>\n",
       "    </tr>\n",
       "    <tr>\n",
       "      <th>2356</th>\n",
       "      <td>National Lampoon's European Vacation</td>\n",
       "      <td>PG-13</td>\n",
       "      <td>1985-07-25</td>\n",
       "      <td>English</td>\n",
       "      <td>17.714745</td>\n",
       "      <td>95.0</td>\n",
       "    </tr>\n",
       "    <tr>\n",
       "      <th>2357</th>\n",
       "      <td>The Watch</td>\n",
       "      <td>R</td>\n",
       "      <td>2012-08-23</td>\n",
       "      <td>English</td>\n",
       "      <td>18.038950</td>\n",
       "      <td>102.0</td>\n",
       "    </tr>\n",
       "    <tr>\n",
       "      <th>2358</th>\n",
       "      <td>Primeval</td>\n",
       "      <td>R</td>\n",
       "      <td>2007-01-12</td>\n",
       "      <td>English</td>\n",
       "      <td>16.176151</td>\n",
       "      <td>93.0</td>\n",
       "    </tr>\n",
       "    <tr>\n",
       "      <th>2359</th>\n",
       "      <td>The Girl in the Spider's Web</td>\n",
       "      <td>R</td>\n",
       "      <td>2018-11-09</td>\n",
       "      <td>English</td>\n",
       "      <td>17.375560</td>\n",
       "      <td>115.0</td>\n",
       "    </tr>\n",
       "  </tbody>\n",
       "</table>\n",
       "<p>2360 rows × 6 columns</p>\n",
       "</div>"
      ],
      "text/plain": [
       "                                      name Certification Release_Date  \\\n",
       "0           Black Panther: Wakanda Forever          PG13   2022-11-10   \n",
       "1             Puss in Boots: The Last Wish            PG   2022-12-08   \n",
       "2                          Shotgun Wedding             R   2022-12-28   \n",
       "3                                    M3GAN          PG13   2023-01-05   \n",
       "4                 Avatar: The Way of Water          PG13   2022-12-15   \n",
       "...                                    ...           ...          ...   \n",
       "2355        Psycho-Pass 3: First Inspector            16   2020-03-27   \n",
       "2356  National Lampoon's European Vacation         PG-13   1985-07-25   \n",
       "2357                             The Watch             R   2012-08-23   \n",
       "2358                              Primeval             R   2007-01-12   \n",
       "2359          The Girl in the Spider's Web             R   2018-11-09   \n",
       "\n",
       "     Language     target  Runtime  \n",
       "0     English  20.542942    162.0  \n",
       "1     English  19.726594    103.0  \n",
       "2     English  15.318557    101.0  \n",
       "3     English  18.878106    102.0  \n",
       "4     English  21.500754    192.0  \n",
       "...       ...        ...      ...  \n",
       "2355        3  13.537245    137.0  \n",
       "2356  English  17.714745     95.0  \n",
       "2357  English  18.038950    102.0  \n",
       "2358  English  16.176151     93.0  \n",
       "2359  English  17.375560    115.0  \n",
       "\n",
       "[2360 rows x 6 columns]"
      ]
     },
     "execution_count": 127,
     "metadata": {},
     "output_type": "execute_result"
    }
   ],
   "source": [
    "df"
   ]
  },
  {
   "cell_type": "code",
   "execution_count": 100,
   "metadata": {},
   "outputs": [],
   "source": [
    "df = pd.read_csv(\"https://raw.githubusercontent.com/wesg52/world-models/main/data/entity_datasets/us_place.csv\")\n",
    "df = df[[\"name\", \"state_id\", \"population\"]]\n"
   ]
  },
  {
   "cell_type": "code",
   "execution_count": 101,
   "metadata": {},
   "outputs": [],
   "source": [
    "df.dropna(inplace=True)"
   ]
  },
  {
   "cell_type": "code",
   "execution_count": 102,
   "metadata": {},
   "outputs": [],
   "source": [
    "# log transform the population\n",
    "df['population'] = np.log(df['population'])"
   ]
  },
  {
   "cell_type": "code",
   "execution_count": 103,
   "metadata": {},
   "outputs": [],
   "source": [
    "# rename population to target\n",
    "df = df.rename(columns={\"population\": \"target\"})"
   ]
  },
  {
   "cell_type": "code",
   "execution_count": null,
   "metadata": {},
   "outputs": [],
   "source": []
  },
  {
   "cell_type": "code",
   "execution_count": 104,
   "metadata": {},
   "outputs": [],
   "source": [
    "# find number in name\n",
    "num = pd.to_numeric(df['name'], errors='coerce')\n",
    "num_mask = num.notnull()"
   ]
  },
  {
   "cell_type": "code",
   "execution_count": 105,
   "metadata": {},
   "outputs": [],
   "source": [
    "# remove numbers from name\n",
    "df = df[~num_mask]"
   ]
  },
  {
   "cell_type": "code",
   "execution_count": 106,
   "metadata": {},
   "outputs": [],
   "source": [
    "# reset index\n",
    "df = df.reset_index(drop=True)"
   ]
  },
  {
   "cell_type": "code",
   "execution_count": 107,
   "metadata": {},
   "outputs": [],
   "source": [
    "df.to_parquet(\"us_place.parquet\")"
   ]
  },
  {
   "cell_type": "code",
   "execution_count": 129,
   "metadata": {},
   "outputs": [
    {
     "data": {
      "text/plain": [
       "<generator object _BaseKFold.split at 0x7f4ba459c3c0>"
      ]
     },
     "execution_count": 129,
     "metadata": {},
     "output_type": "execute_result"
    }
   ],
   "source": [
    "gkf.split(X, y, groups)"
   ]
  },
  {
   "cell_type": "code",
   "execution_count": 130,
   "metadata": {},
   "outputs": [
    {
     "name": "stdout",
     "output_type": "stream",
     "text": [
      "Cross-Validation scores:  [1. 1. 1. 1. 1.]\n"
     ]
    }
   ],
   "source": [
    "from sklearn.model_selection import cross_val_score, GroupKFold\n",
    "from sklearn.datasets import make_regression\n",
    "from sklearn.linear_model import LinearRegression\n",
    "\n",
    "# Create some sample data\n",
    "X, y = make_regression(n_samples=100, n_features=10, random_state=42)\n",
    "\n",
    "# Assume we have some group structure. In real use cases, these would be different for each sample.\n",
    "groups = [i // 10 for i in range(100)]\n",
    "\n",
    "gkf = GroupKFold(n_splits=5)\n",
    "\n",
    "model = LinearRegression()\n",
    "\n",
    "# Pass the GroupKFold splitter object as the cv parametera\n",
    "scores = cross_val_score(model, X, y, cv=list(gkf.split(X, y, groups)))\n",
    "\n",
    "print(\"Cross-Validation scores: \", scores)"
   ]
  },
  {
   "cell_type": "code",
   "execution_count": 5,
   "metadata": {},
   "outputs": [
    {
     "name": "stderr",
     "output_type": "stream",
     "text": [
      "Traceback (most recent call last):\n",
      "  File \"/scratch/lgrinszt/micromamba/envs/dpo/bin/kaggle\", line 5, in <module>\n",
      "    from kaggle.cli import main\n",
      "  File \"/scratch/lgrinszt/micromamba/envs/dpo/lib/python3.10/site-packages/kaggle/__init__.py\", line 23, in <module>\n",
      "    api.authenticate()\n",
      "  File \"/scratch/lgrinszt/micromamba/envs/dpo/lib/python3.10/site-packages/kaggle/api/kaggle_api_extended.py\", line 403, in authenticate\n",
      "    raise IOError('Could not find {}. Make sure it\\'s located in'\n",
      "OSError: Could not find kaggle.json. Make sure it's located in ~/.kaggle/kaggle.json. Or use the environment method.\n"
     ]
    },
    {
     "data": {
      "text/plain": [
       "256"
      ]
     },
     "execution_count": 5,
     "metadata": {},
     "output_type": "execute_result"
    }
   ],
   "source": [
    "import os\n",
    "\n",
    "# Make sure kaggle.json is in the location ~/.kaggle/kaggle.json\n",
    "os.environ['KAGGLE_CONFIG_DIR'] = '~/.kaggle/kaggle.json'\n",
    "\n",
    "# Change the current working directory\n",
    "os.chdir('../data')\n",
    "# Download the dataset\n",
    "os.system('kaggle datasets download -d singole/tmdb-1000-movie-dataset-2023-new-updated')"
   ]
  },
  {
   "cell_type": "code",
   "execution_count": 2,
   "metadata": {},
   "outputs": [
    {
     "name": "stdout",
     "output_type": "stream",
     "text": [
      "[Errno 2] No such file or directory: 'lm_tab/script'\n",
      "/scratch/lgrinszt\n"
     ]
    }
   ],
   "source": [
    "%cd lm_tab/script"
   ]
  },
  {
   "cell_type": "code",
   "execution_count": 3,
   "metadata": {},
   "outputs": [
    {
     "name": "stderr",
     "output_type": "stream",
     "text": [
      "/scratch/lgrinszt/micromamba/envs/dpo/lib/python3.10/site-packages/submitit/auto/auto.py:23: UserWarning: Setting 'exclude' is deprecated. Use 'slurm_exclude' instead.\n",
      "  warnings.warn(f\"Setting '{arg}' is deprecated. Use '{new_arg}' instead.\")\n",
      "sacct: error: slurm_persist_conn_open_without_init: failed to open persistent connection to host:localhost:6819: Connection refused\n",
      "sacct: error: Sending PersistInit msg: Connection refused\n",
      "sacct: error: Problem talking to the database: Connection refused\n",
      "submitit WARNING (2023-10-02 14:08:33,301) - Call #1 - Bypassing sacct error Command '['sacct', '-o', 'JobID,State,NodeList', '--parsable2', '-j', '1465312', '-j', '1465307', '-j', '1465310', '-j', '1465360', '-j', '1465385', '-j', '1465294', '-j', '1465338', '-j', '1465326', '-j', '1465325', '-j', '1465382', '-j', '1465348', '-j', '1465362', '-j', '1465335', '-j', '1465350', '-j', '1465314', '-j', '1465337', '-j', '1465305', '-j', '1465364', '-j', '1465390', '-j', '1465368', '-j', '1465296', '-j', '1465342', '-j', '1465320', '-j', '1465384', '-j', '1465344', '-j', '1465361', '-j', '1465363', '-j', '1465388', '-j', '1465341', '-j', '1465318', '-j', '1465302', '-j', '1465328', '-j', '1465392', '-j', '1465354', '-j', '1465297', '-j', '1465383', '-j', '1465366', '-j', '1465371', '-j', '1465372', '-j', '1465330', '-j', '1465306', '-j', '1465311', '-j', '1465377', '-j', '1465367', '-j', '1465327', '-j', '1465391', '-j', '1465359', '-j', '1465334', '-j', '1465317', '-j', '1465387', '-j', '1465332', '-j', '1465331', '-j', '1465380', '-j', '1465301', '-j', '1465370', '-j', '1465340', '-j', '1465336', '-j', '1465352', '-j', '1465355', '-j', '1465375', '-j', '1465298', '-j', '1465378', '-j', '1465316', '-j', '1465313', '-j', '1465304', '-j', '1465321', '-j', '1465343', '-j', '1465389', '-j', '1465374', '-j', '1465324', '-j', '1465329', '-j', '1465345', '-j', '1465349', '-j', '1465309', '-j', '1465376', '-j', '1465293', '-j', '1465386', '-j', '1465295', '-j', '1465339', '-j', '1465315', '-j', '1465322', '-j', '1465300', '-j', '1465347', '-j', '1465357', '-j', '1465356', '-j', '1465351', '-j', '1465353', '-j', '1465333', '-j', '1465358', '-j', '1465379', '-j', '1465346', '-j', '1465373', '-j', '1465319', '-j', '1465369', '-j', '1465365', '-j', '1465381', '-j', '1465308', '-j', '1465303', '-j', '1465299', '-j', '1465323']' returned non-zero exit status 1., status may be inaccurate.\n"
     ]
    },
    {
     "name": "stdout",
     "output_type": "stream",
     "text": [
      "submitit WARNING (2023-10-02 14:08:33,301) - Call #1 - Bypassing sacct error Command '['sacct', '-o', 'JobID,State,NodeList', '--parsable2', '-j', '1465312', '-j', '1465307', '-j', '1465310', '-j', '1465360', '-j', '1465385', '-j', '1465294', '-j', '1465338', '-j', '1465326', '-j', '1465325', '-j', '1465382', '-j', '1465348', '-j', '1465362', '-j', '1465335', '-j', '1465350', '-j', '1465314', '-j', '1465337', '-j', '1465305', '-j', '1465364', '-j', '1465390', '-j', '1465368', '-j', '1465296', '-j', '1465342', '-j', '1465320', '-j', '1465384', '-j', '1465344', '-j', '1465361', '-j', '1465363', '-j', '1465388', '-j', '1465341', '-j', '1465318', '-j', '1465302', '-j', '1465328', '-j', '1465392', '-j', '1465354', '-j', '1465297', '-j', '1465383', '-j', '1465366', '-j', '1465371', '-j', '1465372', '-j', '1465330', '-j', '1465306', '-j', '1465311', '-j', '1465377', '-j', '1465367', '-j', '1465327', '-j', '1465391', '-j', '1465359', '-j', '1465334', '-j', '1465317', '-j', '1465387', '-j', '1465332', '-j', '1465331', '-j', '1465380', '-j', '1465301', '-j', '1465370', '-j', '1465340', '-j', '1465336', '-j', '1465352', '-j', '1465355', '-j', '1465375', '-j', '1465298', '-j', '1465378', '-j', '1465316', '-j', '1465313', '-j', '1465304', '-j', '1465321', '-j', '1465343', '-j', '1465389', '-j', '1465374', '-j', '1465324', '-j', '1465329', '-j', '1465345', '-j', '1465349', '-j', '1465309', '-j', '1465376', '-j', '1465293', '-j', '1465386', '-j', '1465295', '-j', '1465339', '-j', '1465315', '-j', '1465322', '-j', '1465300', '-j', '1465347', '-j', '1465357', '-j', '1465356', '-j', '1465351', '-j', '1465353', '-j', '1465333', '-j', '1465358', '-j', '1465379', '-j', '1465346', '-j', '1465373', '-j', '1465319', '-j', '1465369', '-j', '1465365', '-j', '1465381', '-j', '1465308', '-j', '1465303', '-j', '1465299', '-j', '1465323']' returned non-zero exit status 1., status may be inaccurate.\n"
     ]
    },
    {
     "name": "stderr",
     "output_type": "stream",
     "text": [
      "sacct: error: slurm_persist_conn_open_without_init: failed to open persistent connection to host:localhost:6819: Connection refused\n",
      "sacct: error: Sending PersistInit msg: Connection refused\n",
      "sacct: error: Problem talking to the database: Connection refused\n",
      "submitit WARNING (2023-10-02 14:08:35,310) - Call #2 - Bypassing sacct error Command '['sacct', '-o', 'JobID,State,NodeList', '--parsable2', '-j', '1465312', '-j', '1465307', '-j', '1465310', '-j', '1465360', '-j', '1465385', '-j', '1465294', '-j', '1465338', '-j', '1465326', '-j', '1465325', '-j', '1465382', '-j', '1465348', '-j', '1465362', '-j', '1465335', '-j', '1465350', '-j', '1465314', '-j', '1465337', '-j', '1465305', '-j', '1465364', '-j', '1465390', '-j', '1465368', '-j', '1465296', '-j', '1465342', '-j', '1465320', '-j', '1465384', '-j', '1465344', '-j', '1465361', '-j', '1465363', '-j', '1465388', '-j', '1465341', '-j', '1465318', '-j', '1465302', '-j', '1465328', '-j', '1465392', '-j', '1465354', '-j', '1465297', '-j', '1465383', '-j', '1465366', '-j', '1465371', '-j', '1465372', '-j', '1465330', '-j', '1465306', '-j', '1465311', '-j', '1465377', '-j', '1465367', '-j', '1465327', '-j', '1465391', '-j', '1465359', '-j', '1465334', '-j', '1465317', '-j', '1465387', '-j', '1465332', '-j', '1465331', '-j', '1465380', '-j', '1465301', '-j', '1465370', '-j', '1465340', '-j', '1465336', '-j', '1465352', '-j', '1465355', '-j', '1465375', '-j', '1465298', '-j', '1465378', '-j', '1465316', '-j', '1465313', '-j', '1465304', '-j', '1465321', '-j', '1465343', '-j', '1465389', '-j', '1465374', '-j', '1465324', '-j', '1465329', '-j', '1465345', '-j', '1465349', '-j', '1465309', '-j', '1465376', '-j', '1465293', '-j', '1465386', '-j', '1465295', '-j', '1465339', '-j', '1465315', '-j', '1465322', '-j', '1465300', '-j', '1465347', '-j', '1465357', '-j', '1465356', '-j', '1465351', '-j', '1465353', '-j', '1465333', '-j', '1465358', '-j', '1465379', '-j', '1465346', '-j', '1465373', '-j', '1465319', '-j', '1465369', '-j', '1465365', '-j', '1465381', '-j', '1465308', '-j', '1465303', '-j', '1465299', '-j', '1465323']' returned non-zero exit status 1., status may be inaccurate.\n"
     ]
    },
    {
     "name": "stdout",
     "output_type": "stream",
     "text": [
      "submitit WARNING (2023-10-02 14:08:35,310) - Call #2 - Bypassing sacct error Command '['sacct', '-o', 'JobID,State,NodeList', '--parsable2', '-j', '1465312', '-j', '1465307', '-j', '1465310', '-j', '1465360', '-j', '1465385', '-j', '1465294', '-j', '1465338', '-j', '1465326', '-j', '1465325', '-j', '1465382', '-j', '1465348', '-j', '1465362', '-j', '1465335', '-j', '1465350', '-j', '1465314', '-j', '1465337', '-j', '1465305', '-j', '1465364', '-j', '1465390', '-j', '1465368', '-j', '1465296', '-j', '1465342', '-j', '1465320', '-j', '1465384', '-j', '1465344', '-j', '1465361', '-j', '1465363', '-j', '1465388', '-j', '1465341', '-j', '1465318', '-j', '1465302', '-j', '1465328', '-j', '1465392', '-j', '1465354', '-j', '1465297', '-j', '1465383', '-j', '1465366', '-j', '1465371', '-j', '1465372', '-j', '1465330', '-j', '1465306', '-j', '1465311', '-j', '1465377', '-j', '1465367', '-j', '1465327', '-j', '1465391', '-j', '1465359', '-j', '1465334', '-j', '1465317', '-j', '1465387', '-j', '1465332', '-j', '1465331', '-j', '1465380', '-j', '1465301', '-j', '1465370', '-j', '1465340', '-j', '1465336', '-j', '1465352', '-j', '1465355', '-j', '1465375', '-j', '1465298', '-j', '1465378', '-j', '1465316', '-j', '1465313', '-j', '1465304', '-j', '1465321', '-j', '1465343', '-j', '1465389', '-j', '1465374', '-j', '1465324', '-j', '1465329', '-j', '1465345', '-j', '1465349', '-j', '1465309', '-j', '1465376', '-j', '1465293', '-j', '1465386', '-j', '1465295', '-j', '1465339', '-j', '1465315', '-j', '1465322', '-j', '1465300', '-j', '1465347', '-j', '1465357', '-j', '1465356', '-j', '1465351', '-j', '1465353', '-j', '1465333', '-j', '1465358', '-j', '1465379', '-j', '1465346', '-j', '1465373', '-j', '1465319', '-j', '1465369', '-j', '1465365', '-j', '1465381', '-j', '1465308', '-j', '1465303', '-j', '1465299', '-j', '1465323']' returned non-zero exit status 1., status may be inaccurate.\n"
     ]
    },
    {
     "name": "stderr",
     "output_type": "stream",
     "text": [
      "sacct: error: slurm_persist_conn_open_without_init: failed to open persistent connection to host:localhost:6819: Connection refused\n",
      "sacct: error: Sending PersistInit msg: Connection refused\n",
      "sacct: error: Problem talking to the database: Connection refused\n",
      "submitit WARNING (2023-10-02 14:08:38,320) - Call #3 - Bypassing sacct error Command '['sacct', '-o', 'JobID,State,NodeList', '--parsable2', '-j', '1465312', '-j', '1465307', '-j', '1465310', '-j', '1465360', '-j', '1465385', '-j', '1465294', '-j', '1465338', '-j', '1465326', '-j', '1465325', '-j', '1465382', '-j', '1465348', '-j', '1465362', '-j', '1465335', '-j', '1465350', '-j', '1465314', '-j', '1465337', '-j', '1465305', '-j', '1465364', '-j', '1465390', '-j', '1465368', '-j', '1465296', '-j', '1465342', '-j', '1465320', '-j', '1465384', '-j', '1465344', '-j', '1465361', '-j', '1465363', '-j', '1465388', '-j', '1465341', '-j', '1465318', '-j', '1465302', '-j', '1465328', '-j', '1465392', '-j', '1465354', '-j', '1465297', '-j', '1465383', '-j', '1465366', '-j', '1465371', '-j', '1465372', '-j', '1465330', '-j', '1465306', '-j', '1465311', '-j', '1465377', '-j', '1465367', '-j', '1465327', '-j', '1465391', '-j', '1465359', '-j', '1465334', '-j', '1465317', '-j', '1465387', '-j', '1465332', '-j', '1465331', '-j', '1465380', '-j', '1465301', '-j', '1465370', '-j', '1465340', '-j', '1465336', '-j', '1465352', '-j', '1465355', '-j', '1465375', '-j', '1465298', '-j', '1465378', '-j', '1465316', '-j', '1465313', '-j', '1465304', '-j', '1465321', '-j', '1465343', '-j', '1465389', '-j', '1465374', '-j', '1465324', '-j', '1465329', '-j', '1465345', '-j', '1465349', '-j', '1465309', '-j', '1465376', '-j', '1465293', '-j', '1465386', '-j', '1465295', '-j', '1465339', '-j', '1465315', '-j', '1465322', '-j', '1465300', '-j', '1465347', '-j', '1465357', '-j', '1465356', '-j', '1465351', '-j', '1465353', '-j', '1465333', '-j', '1465358', '-j', '1465379', '-j', '1465346', '-j', '1465373', '-j', '1465319', '-j', '1465369', '-j', '1465365', '-j', '1465381', '-j', '1465308', '-j', '1465303', '-j', '1465299', '-j', '1465323']' returned non-zero exit status 1., status may be inaccurate.\n"
     ]
    },
    {
     "name": "stdout",
     "output_type": "stream",
     "text": [
      "submitit WARNING (2023-10-02 14:08:38,320) - Call #3 - Bypassing sacct error Command '['sacct', '-o', 'JobID,State,NodeList', '--parsable2', '-j', '1465312', '-j', '1465307', '-j', '1465310', '-j', '1465360', '-j', '1465385', '-j', '1465294', '-j', '1465338', '-j', '1465326', '-j', '1465325', '-j', '1465382', '-j', '1465348', '-j', '1465362', '-j', '1465335', '-j', '1465350', '-j', '1465314', '-j', '1465337', '-j', '1465305', '-j', '1465364', '-j', '1465390', '-j', '1465368', '-j', '1465296', '-j', '1465342', '-j', '1465320', '-j', '1465384', '-j', '1465344', '-j', '1465361', '-j', '1465363', '-j', '1465388', '-j', '1465341', '-j', '1465318', '-j', '1465302', '-j', '1465328', '-j', '1465392', '-j', '1465354', '-j', '1465297', '-j', '1465383', '-j', '1465366', '-j', '1465371', '-j', '1465372', '-j', '1465330', '-j', '1465306', '-j', '1465311', '-j', '1465377', '-j', '1465367', '-j', '1465327', '-j', '1465391', '-j', '1465359', '-j', '1465334', '-j', '1465317', '-j', '1465387', '-j', '1465332', '-j', '1465331', '-j', '1465380', '-j', '1465301', '-j', '1465370', '-j', '1465340', '-j', '1465336', '-j', '1465352', '-j', '1465355', '-j', '1465375', '-j', '1465298', '-j', '1465378', '-j', '1465316', '-j', '1465313', '-j', '1465304', '-j', '1465321', '-j', '1465343', '-j', '1465389', '-j', '1465374', '-j', '1465324', '-j', '1465329', '-j', '1465345', '-j', '1465349', '-j', '1465309', '-j', '1465376', '-j', '1465293', '-j', '1465386', '-j', '1465295', '-j', '1465339', '-j', '1465315', '-j', '1465322', '-j', '1465300', '-j', '1465347', '-j', '1465357', '-j', '1465356', '-j', '1465351', '-j', '1465353', '-j', '1465333', '-j', '1465358', '-j', '1465379', '-j', '1465346', '-j', '1465373', '-j', '1465319', '-j', '1465369', '-j', '1465365', '-j', '1465381', '-j', '1465308', '-j', '1465303', '-j', '1465299', '-j', '1465323']' returned non-zero exit status 1., status may be inaccurate.\n"
     ]
    },
    {
     "name": "stderr",
     "output_type": "stream",
     "text": [
      "sacct: error: slurm_persist_conn_open_without_init: failed to open persistent connection to host:localhost:6819: Connection refused\n",
      "sacct: error: Sending PersistInit msg: Connection refused\n",
      "sacct: error: Problem talking to the database: Connection refused\n",
      "submitit WARNING (2023-10-02 14:08:44,337) - Call #4 - Bypassing sacct error Command '['sacct', '-o', 'JobID,State,NodeList', '--parsable2', '-j', '1465312', '-j', '1465307', '-j', '1465310', '-j', '1465360', '-j', '1465385', '-j', '1465294', '-j', '1465338', '-j', '1465326', '-j', '1465325', '-j', '1465382', '-j', '1465348', '-j', '1465362', '-j', '1465335', '-j', '1465350', '-j', '1465314', '-j', '1465337', '-j', '1465305', '-j', '1465364', '-j', '1465390', '-j', '1465368', '-j', '1465296', '-j', '1465342', '-j', '1465320', '-j', '1465384', '-j', '1465344', '-j', '1465361', '-j', '1465363', '-j', '1465388', '-j', '1465341', '-j', '1465318', '-j', '1465302', '-j', '1465328', '-j', '1465392', '-j', '1465354', '-j', '1465297', '-j', '1465383', '-j', '1465366', '-j', '1465371', '-j', '1465372', '-j', '1465330', '-j', '1465306', '-j', '1465311', '-j', '1465377', '-j', '1465367', '-j', '1465327', '-j', '1465391', '-j', '1465359', '-j', '1465334', '-j', '1465317', '-j', '1465387', '-j', '1465332', '-j', '1465331', '-j', '1465380', '-j', '1465301', '-j', '1465370', '-j', '1465340', '-j', '1465336', '-j', '1465352', '-j', '1465355', '-j', '1465375', '-j', '1465298', '-j', '1465378', '-j', '1465316', '-j', '1465313', '-j', '1465304', '-j', '1465321', '-j', '1465343', '-j', '1465389', '-j', '1465374', '-j', '1465324', '-j', '1465329', '-j', '1465345', '-j', '1465349', '-j', '1465309', '-j', '1465376', '-j', '1465293', '-j', '1465386', '-j', '1465295', '-j', '1465339', '-j', '1465315', '-j', '1465322', '-j', '1465300', '-j', '1465347', '-j', '1465357', '-j', '1465356', '-j', '1465351', '-j', '1465353', '-j', '1465333', '-j', '1465358', '-j', '1465379', '-j', '1465346', '-j', '1465373', '-j', '1465319', '-j', '1465369', '-j', '1465365', '-j', '1465381', '-j', '1465308', '-j', '1465303', '-j', '1465299', '-j', '1465323']' returned non-zero exit status 1., status may be inaccurate.\n"
     ]
    },
    {
     "name": "stdout",
     "output_type": "stream",
     "text": [
      "submitit WARNING (2023-10-02 14:08:44,337) - Call #4 - Bypassing sacct error Command '['sacct', '-o', 'JobID,State,NodeList', '--parsable2', '-j', '1465312', '-j', '1465307', '-j', '1465310', '-j', '1465360', '-j', '1465385', '-j', '1465294', '-j', '1465338', '-j', '1465326', '-j', '1465325', '-j', '1465382', '-j', '1465348', '-j', '1465362', '-j', '1465335', '-j', '1465350', '-j', '1465314', '-j', '1465337', '-j', '1465305', '-j', '1465364', '-j', '1465390', '-j', '1465368', '-j', '1465296', '-j', '1465342', '-j', '1465320', '-j', '1465384', '-j', '1465344', '-j', '1465361', '-j', '1465363', '-j', '1465388', '-j', '1465341', '-j', '1465318', '-j', '1465302', '-j', '1465328', '-j', '1465392', '-j', '1465354', '-j', '1465297', '-j', '1465383', '-j', '1465366', '-j', '1465371', '-j', '1465372', '-j', '1465330', '-j', '1465306', '-j', '1465311', '-j', '1465377', '-j', '1465367', '-j', '1465327', '-j', '1465391', '-j', '1465359', '-j', '1465334', '-j', '1465317', '-j', '1465387', '-j', '1465332', '-j', '1465331', '-j', '1465380', '-j', '1465301', '-j', '1465370', '-j', '1465340', '-j', '1465336', '-j', '1465352', '-j', '1465355', '-j', '1465375', '-j', '1465298', '-j', '1465378', '-j', '1465316', '-j', '1465313', '-j', '1465304', '-j', '1465321', '-j', '1465343', '-j', '1465389', '-j', '1465374', '-j', '1465324', '-j', '1465329', '-j', '1465345', '-j', '1465349', '-j', '1465309', '-j', '1465376', '-j', '1465293', '-j', '1465386', '-j', '1465295', '-j', '1465339', '-j', '1465315', '-j', '1465322', '-j', '1465300', '-j', '1465347', '-j', '1465357', '-j', '1465356', '-j', '1465351', '-j', '1465353', '-j', '1465333', '-j', '1465358', '-j', '1465379', '-j', '1465346', '-j', '1465373', '-j', '1465319', '-j', '1465369', '-j', '1465365', '-j', '1465381', '-j', '1465308', '-j', '1465303', '-j', '1465299', '-j', '1465323']' returned non-zero exit status 1., status may be inaccurate.\n"
     ]
    },
    {
     "name": "stderr",
     "output_type": "stream",
     "text": [
      "sacct: error: slurm_persist_conn_open_without_init: failed to open persistent connection to host:localhost:6819: Connection refused\n",
      "sacct: error: Sending PersistInit msg: Connection refused\n",
      "sacct: error: Problem talking to the database: Connection refused\n",
      "submitit WARNING (2023-10-02 14:08:56,362) - Call #5 - Bypassing sacct error Command '['sacct', '-o', 'JobID,State,NodeList', '--parsable2', '-j', '1465312', '-j', '1465307', '-j', '1465310', '-j', '1465360', '-j', '1465385', '-j', '1465294', '-j', '1465338', '-j', '1465326', '-j', '1465325', '-j', '1465382', '-j', '1465348', '-j', '1465362', '-j', '1465335', '-j', '1465350', '-j', '1465314', '-j', '1465337', '-j', '1465305', '-j', '1465364', '-j', '1465390', '-j', '1465368', '-j', '1465296', '-j', '1465342', '-j', '1465320', '-j', '1465384', '-j', '1465344', '-j', '1465361', '-j', '1465363', '-j', '1465388', '-j', '1465341', '-j', '1465318', '-j', '1465302', '-j', '1465328', '-j', '1465392', '-j', '1465354', '-j', '1465297', '-j', '1465383', '-j', '1465366', '-j', '1465371', '-j', '1465372', '-j', '1465330', '-j', '1465306', '-j', '1465311', '-j', '1465377', '-j', '1465367', '-j', '1465327', '-j', '1465391', '-j', '1465359', '-j', '1465334', '-j', '1465317', '-j', '1465387', '-j', '1465332', '-j', '1465331', '-j', '1465380', '-j', '1465301', '-j', '1465370', '-j', '1465340', '-j', '1465336', '-j', '1465352', '-j', '1465355', '-j', '1465375', '-j', '1465298', '-j', '1465378', '-j', '1465316', '-j', '1465313', '-j', '1465304', '-j', '1465321', '-j', '1465343', '-j', '1465389', '-j', '1465374', '-j', '1465324', '-j', '1465329', '-j', '1465345', '-j', '1465349', '-j', '1465309', '-j', '1465376', '-j', '1465293', '-j', '1465386', '-j', '1465295', '-j', '1465339', '-j', '1465315', '-j', '1465322', '-j', '1465300', '-j', '1465347', '-j', '1465357', '-j', '1465356', '-j', '1465351', '-j', '1465353', '-j', '1465333', '-j', '1465358', '-j', '1465379', '-j', '1465346', '-j', '1465373', '-j', '1465319', '-j', '1465369', '-j', '1465365', '-j', '1465381', '-j', '1465308', '-j', '1465303', '-j', '1465299', '-j', '1465323']' returned non-zero exit status 1., status may be inaccurate.\n"
     ]
    },
    {
     "name": "stdout",
     "output_type": "stream",
     "text": [
      "submitit WARNING (2023-10-02 14:08:56,362) - Call #5 - Bypassing sacct error Command '['sacct', '-o', 'JobID,State,NodeList', '--parsable2', '-j', '1465312', '-j', '1465307', '-j', '1465310', '-j', '1465360', '-j', '1465385', '-j', '1465294', '-j', '1465338', '-j', '1465326', '-j', '1465325', '-j', '1465382', '-j', '1465348', '-j', '1465362', '-j', '1465335', '-j', '1465350', '-j', '1465314', '-j', '1465337', '-j', '1465305', '-j', '1465364', '-j', '1465390', '-j', '1465368', '-j', '1465296', '-j', '1465342', '-j', '1465320', '-j', '1465384', '-j', '1465344', '-j', '1465361', '-j', '1465363', '-j', '1465388', '-j', '1465341', '-j', '1465318', '-j', '1465302', '-j', '1465328', '-j', '1465392', '-j', '1465354', '-j', '1465297', '-j', '1465383', '-j', '1465366', '-j', '1465371', '-j', '1465372', '-j', '1465330', '-j', '1465306', '-j', '1465311', '-j', '1465377', '-j', '1465367', '-j', '1465327', '-j', '1465391', '-j', '1465359', '-j', '1465334', '-j', '1465317', '-j', '1465387', '-j', '1465332', '-j', '1465331', '-j', '1465380', '-j', '1465301', '-j', '1465370', '-j', '1465340', '-j', '1465336', '-j', '1465352', '-j', '1465355', '-j', '1465375', '-j', '1465298', '-j', '1465378', '-j', '1465316', '-j', '1465313', '-j', '1465304', '-j', '1465321', '-j', '1465343', '-j', '1465389', '-j', '1465374', '-j', '1465324', '-j', '1465329', '-j', '1465345', '-j', '1465349', '-j', '1465309', '-j', '1465376', '-j', '1465293', '-j', '1465386', '-j', '1465295', '-j', '1465339', '-j', '1465315', '-j', '1465322', '-j', '1465300', '-j', '1465347', '-j', '1465357', '-j', '1465356', '-j', '1465351', '-j', '1465353', '-j', '1465333', '-j', '1465358', '-j', '1465379', '-j', '1465346', '-j', '1465373', '-j', '1465319', '-j', '1465369', '-j', '1465365', '-j', '1465381', '-j', '1465308', '-j', '1465303', '-j', '1465299', '-j', '1465323']' returned non-zero exit status 1., status may be inaccurate.\n"
     ]
    },
    {
     "name": "stderr",
     "output_type": "stream",
     "text": [
      "sacct: error: slurm_persist_conn_open_without_init: failed to open persistent connection to host:localhost:6819: Connection refused\n",
      "sacct: error: Sending PersistInit msg: Connection refused\n",
      "sacct: error: Problem talking to the database: Connection refused\n",
      "submitit WARNING (2023-10-02 14:09:20,408) - Call #6 - Bypassing sacct error Command '['sacct', '-o', 'JobID,State,NodeList', '--parsable2', '-j', '1465312', '-j', '1465307', '-j', '1465310', '-j', '1465360', '-j', '1465385', '-j', '1465294', '-j', '1465338', '-j', '1465326', '-j', '1465325', '-j', '1465382', '-j', '1465348', '-j', '1465362', '-j', '1465335', '-j', '1465350', '-j', '1465314', '-j', '1465337', '-j', '1465305', '-j', '1465364', '-j', '1465390', '-j', '1465368', '-j', '1465296', '-j', '1465342', '-j', '1465320', '-j', '1465384', '-j', '1465344', '-j', '1465361', '-j', '1465363', '-j', '1465388', '-j', '1465341', '-j', '1465318', '-j', '1465302', '-j', '1465328', '-j', '1465392', '-j', '1465354', '-j', '1465297', '-j', '1465383', '-j', '1465366', '-j', '1465371', '-j', '1465372', '-j', '1465330', '-j', '1465306', '-j', '1465311', '-j', '1465377', '-j', '1465367', '-j', '1465327', '-j', '1465391', '-j', '1465359', '-j', '1465334', '-j', '1465317', '-j', '1465387', '-j', '1465332', '-j', '1465331', '-j', '1465380', '-j', '1465301', '-j', '1465370', '-j', '1465340', '-j', '1465336', '-j', '1465352', '-j', '1465355', '-j', '1465375', '-j', '1465298', '-j', '1465378', '-j', '1465316', '-j', '1465313', '-j', '1465304', '-j', '1465321', '-j', '1465343', '-j', '1465389', '-j', '1465374', '-j', '1465324', '-j', '1465329', '-j', '1465345', '-j', '1465349', '-j', '1465309', '-j', '1465376', '-j', '1465293', '-j', '1465386', '-j', '1465295', '-j', '1465339', '-j', '1465315', '-j', '1465322', '-j', '1465300', '-j', '1465347', '-j', '1465357', '-j', '1465356', '-j', '1465351', '-j', '1465353', '-j', '1465333', '-j', '1465358', '-j', '1465379', '-j', '1465346', '-j', '1465373', '-j', '1465319', '-j', '1465369', '-j', '1465365', '-j', '1465381', '-j', '1465308', '-j', '1465303', '-j', '1465299', '-j', '1465323']' returned non-zero exit status 1., status may be inaccurate.\n"
     ]
    },
    {
     "name": "stdout",
     "output_type": "stream",
     "text": [
      "submitit WARNING (2023-10-02 14:09:20,408) - Call #6 - Bypassing sacct error Command '['sacct', '-o', 'JobID,State,NodeList', '--parsable2', '-j', '1465312', '-j', '1465307', '-j', '1465310', '-j', '1465360', '-j', '1465385', '-j', '1465294', '-j', '1465338', '-j', '1465326', '-j', '1465325', '-j', '1465382', '-j', '1465348', '-j', '1465362', '-j', '1465335', '-j', '1465350', '-j', '1465314', '-j', '1465337', '-j', '1465305', '-j', '1465364', '-j', '1465390', '-j', '1465368', '-j', '1465296', '-j', '1465342', '-j', '1465320', '-j', '1465384', '-j', '1465344', '-j', '1465361', '-j', '1465363', '-j', '1465388', '-j', '1465341', '-j', '1465318', '-j', '1465302', '-j', '1465328', '-j', '1465392', '-j', '1465354', '-j', '1465297', '-j', '1465383', '-j', '1465366', '-j', '1465371', '-j', '1465372', '-j', '1465330', '-j', '1465306', '-j', '1465311', '-j', '1465377', '-j', '1465367', '-j', '1465327', '-j', '1465391', '-j', '1465359', '-j', '1465334', '-j', '1465317', '-j', '1465387', '-j', '1465332', '-j', '1465331', '-j', '1465380', '-j', '1465301', '-j', '1465370', '-j', '1465340', '-j', '1465336', '-j', '1465352', '-j', '1465355', '-j', '1465375', '-j', '1465298', '-j', '1465378', '-j', '1465316', '-j', '1465313', '-j', '1465304', '-j', '1465321', '-j', '1465343', '-j', '1465389', '-j', '1465374', '-j', '1465324', '-j', '1465329', '-j', '1465345', '-j', '1465349', '-j', '1465309', '-j', '1465376', '-j', '1465293', '-j', '1465386', '-j', '1465295', '-j', '1465339', '-j', '1465315', '-j', '1465322', '-j', '1465300', '-j', '1465347', '-j', '1465357', '-j', '1465356', '-j', '1465351', '-j', '1465353', '-j', '1465333', '-j', '1465358', '-j', '1465379', '-j', '1465346', '-j', '1465373', '-j', '1465319', '-j', '1465369', '-j', '1465365', '-j', '1465381', '-j', '1465308', '-j', '1465303', '-j', '1465299', '-j', '1465323']' returned non-zero exit status 1., status may be inaccurate.\n"
     ]
    },
    {
     "name": "stderr",
     "output_type": "stream",
     "text": [
      "sacct: error: slurm_persist_conn_open_without_init: failed to open persistent connection to host:localhost:6819: Connection refused\n",
      "sacct: error: Sending PersistInit msg: Connection refused\n",
      "sacct: error: Problem talking to the database: Connection refused\n",
      "submitit WARNING (2023-10-02 14:10:08,496) - Call #7 - Bypassing sacct error Command '['sacct', '-o', 'JobID,State,NodeList', '--parsable2', '-j', '1465312', '-j', '1465307', '-j', '1465310', '-j', '1465360', '-j', '1465385', '-j', '1465294', '-j', '1465338', '-j', '1465326', '-j', '1465325', '-j', '1465382', '-j', '1465348', '-j', '1465362', '-j', '1465335', '-j', '1465350', '-j', '1465314', '-j', '1465337', '-j', '1465305', '-j', '1465364', '-j', '1465390', '-j', '1465368', '-j', '1465296', '-j', '1465342', '-j', '1465320', '-j', '1465384', '-j', '1465344', '-j', '1465361', '-j', '1465363', '-j', '1465388', '-j', '1465341', '-j', '1465318', '-j', '1465302', '-j', '1465328', '-j', '1465392', '-j', '1465354', '-j', '1465297', '-j', '1465383', '-j', '1465366', '-j', '1465371', '-j', '1465372', '-j', '1465330', '-j', '1465306', '-j', '1465311', '-j', '1465377', '-j', '1465367', '-j', '1465327', '-j', '1465391', '-j', '1465359', '-j', '1465334', '-j', '1465317', '-j', '1465387', '-j', '1465332', '-j', '1465331', '-j', '1465380', '-j', '1465301', '-j', '1465370', '-j', '1465340', '-j', '1465336', '-j', '1465352', '-j', '1465355', '-j', '1465375', '-j', '1465298', '-j', '1465378', '-j', '1465316', '-j', '1465313', '-j', '1465304', '-j', '1465321', '-j', '1465343', '-j', '1465389', '-j', '1465374', '-j', '1465324', '-j', '1465329', '-j', '1465345', '-j', '1465349', '-j', '1465309', '-j', '1465376', '-j', '1465293', '-j', '1465386', '-j', '1465295', '-j', '1465339', '-j', '1465315', '-j', '1465322', '-j', '1465300', '-j', '1465347', '-j', '1465357', '-j', '1465356', '-j', '1465351', '-j', '1465353', '-j', '1465333', '-j', '1465358', '-j', '1465379', '-j', '1465346', '-j', '1465373', '-j', '1465319', '-j', '1465369', '-j', '1465365', '-j', '1465381', '-j', '1465308', '-j', '1465303', '-j', '1465299', '-j', '1465323']' returned non-zero exit status 1., status may be inaccurate.\n"
     ]
    },
    {
     "name": "stdout",
     "output_type": "stream",
     "text": [
      "submitit WARNING (2023-10-02 14:10:08,496) - Call #7 - Bypassing sacct error Command '['sacct', '-o', 'JobID,State,NodeList', '--parsable2', '-j', '1465312', '-j', '1465307', '-j', '1465310', '-j', '1465360', '-j', '1465385', '-j', '1465294', '-j', '1465338', '-j', '1465326', '-j', '1465325', '-j', '1465382', '-j', '1465348', '-j', '1465362', '-j', '1465335', '-j', '1465350', '-j', '1465314', '-j', '1465337', '-j', '1465305', '-j', '1465364', '-j', '1465390', '-j', '1465368', '-j', '1465296', '-j', '1465342', '-j', '1465320', '-j', '1465384', '-j', '1465344', '-j', '1465361', '-j', '1465363', '-j', '1465388', '-j', '1465341', '-j', '1465318', '-j', '1465302', '-j', '1465328', '-j', '1465392', '-j', '1465354', '-j', '1465297', '-j', '1465383', '-j', '1465366', '-j', '1465371', '-j', '1465372', '-j', '1465330', '-j', '1465306', '-j', '1465311', '-j', '1465377', '-j', '1465367', '-j', '1465327', '-j', '1465391', '-j', '1465359', '-j', '1465334', '-j', '1465317', '-j', '1465387', '-j', '1465332', '-j', '1465331', '-j', '1465380', '-j', '1465301', '-j', '1465370', '-j', '1465340', '-j', '1465336', '-j', '1465352', '-j', '1465355', '-j', '1465375', '-j', '1465298', '-j', '1465378', '-j', '1465316', '-j', '1465313', '-j', '1465304', '-j', '1465321', '-j', '1465343', '-j', '1465389', '-j', '1465374', '-j', '1465324', '-j', '1465329', '-j', '1465345', '-j', '1465349', '-j', '1465309', '-j', '1465376', '-j', '1465293', '-j', '1465386', '-j', '1465295', '-j', '1465339', '-j', '1465315', '-j', '1465322', '-j', '1465300', '-j', '1465347', '-j', '1465357', '-j', '1465356', '-j', '1465351', '-j', '1465353', '-j', '1465333', '-j', '1465358', '-j', '1465379', '-j', '1465346', '-j', '1465373', '-j', '1465319', '-j', '1465369', '-j', '1465365', '-j', '1465381', '-j', '1465308', '-j', '1465303', '-j', '1465299', '-j', '1465323']' returned non-zero exit status 1., status may be inaccurate.\n"
     ]
    },
    {
     "ename": "KeyboardInterrupt",
     "evalue": "",
     "output_type": "error",
     "traceback": [
      "\u001b[0;31m---------------------------------------------------------------------------\u001b[0m",
      "\u001b[0;31mKeyboardInterrupt\u001b[0m                         Traceback (most recent call last)",
      "\u001b[1;32m/Users/leo/VSCProjects/lm_tab/scripts/test_notebook.ipynb Cell 3\u001b[0m line \u001b[0;36m3\n\u001b[1;32m     <a href='vscode-notebook-cell:/Users/leo/VSCProjects/lm_tab/scripts/test_notebook.ipynb#W2sZmlsZQ%3D%3D?line=30'>31</a>\u001b[0m         jobs\u001b[39m.\u001b[39mappend(job)\n\u001b[1;32m     <a href='vscode-notebook-cell:/Users/leo/VSCProjects/lm_tab/scripts/test_notebook.ipynb#W2sZmlsZQ%3D%3D?line=32'>33</a>\u001b[0m \u001b[39mfor\u001b[39;00m job \u001b[39min\u001b[39;00m jobs:\n\u001b[0;32m---> <a href='vscode-notebook-cell:/Users/leo/VSCProjects/lm_tab/scripts/test_notebook.ipynb#W2sZmlsZQ%3D%3D?line=33'>34</a>\u001b[0m     \u001b[39mprint\u001b[39m(job\u001b[39m.\u001b[39;49mresult())\n\u001b[1;32m     <a href='vscode-notebook-cell:/Users/leo/VSCProjects/lm_tab/scripts/test_notebook.ipynb#W2sZmlsZQ%3D%3D?line=36'>37</a>\u001b[0m \u001b[39m# jobs = []\u001b[39;00m\n\u001b[1;32m     <a href='vscode-notebook-cell:/Users/leo/VSCProjects/lm_tab/scripts/test_notebook.ipynb#W2sZmlsZQ%3D%3D?line=37'>38</a>\u001b[0m \n\u001b[1;32m     <a href='vscode-notebook-cell:/Users/leo/VSCProjects/lm_tab/scripts/test_notebook.ipynb#W2sZmlsZQ%3D%3D?line=38'>39</a>\u001b[0m \u001b[39m# for dataset in tqdm(datasets):\u001b[39;00m\n\u001b[0;32m   (...)\u001b[0m\n\u001b[1;32m     <a href='vscode-notebook-cell:/Users/leo/VSCProjects/lm_tab/scripts/test_notebook.ipynb#W2sZmlsZQ%3D%3D?line=67'>68</a>\u001b[0m \u001b[39m#                 jobs.append(job)\u001b[39;00m\n\u001b[1;32m     <a href='vscode-notebook-cell:/Users/leo/VSCProjects/lm_tab/scripts/test_notebook.ipynb#W2sZmlsZQ%3D%3D?line=68'>69</a>\u001b[0m \u001b[39m#                 print(f\"Submitted job {job.job_id} to the cluster.\")\u001b[39;00m\n",
      "File \u001b[0;32m/scratch/lgrinszt/micromamba/envs/dpo/lib/python3.10/site-packages/submitit/core/core.py:266\u001b[0m, in \u001b[0;36mJob.result\u001b[0;34m(self)\u001b[0m\n\u001b[1;32m    265\u001b[0m \u001b[39mdef\u001b[39;00m \u001b[39mresult\u001b[39m(\u001b[39mself\u001b[39m) \u001b[39m-\u001b[39m\u001b[39m>\u001b[39m R:\n\u001b[0;32m--> 266\u001b[0m     r \u001b[39m=\u001b[39m \u001b[39mself\u001b[39;49m\u001b[39m.\u001b[39;49mresults()\n\u001b[1;32m    267\u001b[0m     \u001b[39massert\u001b[39;00m \u001b[39mnot\u001b[39;00m \u001b[39mself\u001b[39m\u001b[39m.\u001b[39m_sub_jobs, \u001b[39m\"\u001b[39m\u001b[39mYou should use `results()` if your job has subtasks.\u001b[39m\u001b[39m\"\u001b[39m\n\u001b[1;32m    268\u001b[0m     \u001b[39mreturn\u001b[39;00m r[\u001b[39m0\u001b[39m]\n",
      "File \u001b[0;32m/scratch/lgrinszt/micromamba/envs/dpo/lib/python3.10/site-packages/submitit/core/core.py:284\u001b[0m, in \u001b[0;36mJob.results\u001b[0;34m(self)\u001b[0m\n\u001b[1;32m    270\u001b[0m \u001b[39mdef\u001b[39;00m \u001b[39mresults\u001b[39m(\u001b[39mself\u001b[39m) \u001b[39m-\u001b[39m\u001b[39m>\u001b[39m tp\u001b[39m.\u001b[39mList[R]:\n\u001b[1;32m    271\u001b[0m \u001b[39m    \u001b[39m\u001b[39m\"\"\"Waits for and outputs the result of the submitted function\u001b[39;00m\n\u001b[1;32m    272\u001b[0m \n\u001b[1;32m    273\u001b[0m \u001b[39m    Returns\u001b[39;00m\n\u001b[0;32m   (...)\u001b[0m\n\u001b[1;32m    282\u001b[0m \u001b[39m        Any exception raised by the job\u001b[39;00m\n\u001b[1;32m    283\u001b[0m \u001b[39m    \"\"\"\u001b[39;00m\n\u001b[0;32m--> 284\u001b[0m     \u001b[39mself\u001b[39;49m\u001b[39m.\u001b[39;49mwait()\n\u001b[1;32m    286\u001b[0m     \u001b[39mif\u001b[39;00m \u001b[39mself\u001b[39m\u001b[39m.\u001b[39m_sub_jobs:\n\u001b[1;32m    287\u001b[0m         \u001b[39mreturn\u001b[39;00m [tp\u001b[39m.\u001b[39mcast(R, sub_job\u001b[39m.\u001b[39mresult()) \u001b[39mfor\u001b[39;00m sub_job \u001b[39min\u001b[39;00m \u001b[39mself\u001b[39m\u001b[39m.\u001b[39m_sub_jobs]\n",
      "File \u001b[0;32m/scratch/lgrinszt/micromamba/envs/dpo/lib/python3.10/site-packages/submitit/core/core.py:400\u001b[0m, in \u001b[0;36mJob.wait\u001b[0;34m(self)\u001b[0m\n\u001b[1;32m    394\u001b[0m \u001b[39m\u001b[39m\u001b[39m\"\"\"Wait while no result find is found and the state is\u001b[39;00m\n\u001b[1;32m    395\u001b[0m \u001b[39meither PENDING or RUNNING.\u001b[39;00m\n\u001b[1;32m    396\u001b[0m \u001b[39mThe state is checked from slurm at least every min and the result path\u001b[39;00m\n\u001b[1;32m    397\u001b[0m \u001b[39mevery second.\u001b[39;00m\n\u001b[1;32m    398\u001b[0m \u001b[39m\"\"\"\u001b[39;00m\n\u001b[1;32m    399\u001b[0m \u001b[39mwhile\u001b[39;00m \u001b[39mnot\u001b[39;00m \u001b[39mself\u001b[39m\u001b[39m.\u001b[39mdone():\n\u001b[0;32m--> 400\u001b[0m     _time\u001b[39m.\u001b[39;49msleep(\u001b[39m1\u001b[39;49m)\n",
      "\u001b[0;31mKeyboardInterrupt\u001b[0m: "
     ]
    }
   ],
   "source": [
    "import submitit\n",
    "from functools import partial\n",
    "# encodings = [\"skrub__minhash_10\", \"skrub__minhash_30\", \"lm__all-distilroberta-v1\", \"lm__all-mpnet-base-v2\"]\n",
    "\n",
    "# datasets = [\"journal_jcr_cls\", \"movies\", \"michelin\", \"spotify\", \"employee_salary\", \"museums\", \"fifa_footballplayers_22\", \"jp_anime\", \"clear_corpus\", \"company_employees\", \"us_presidential\", \"us_accidents_severity\", \"us_accidents_counts\"]\n",
    "\n",
    "# models = {\"LogisticRegression\": LogisticRegression(), \"GradientBoostingClassifier\": GradientBoostingClassifier(), \"TabPFNClassifier\": TabPFNClassifier(device=\"cpu\"),\n",
    "#         \"TabPFNClassifier_basic\": TabPFNClassifier(device=\"cpu\", N_ensemble_configurations=1, no_preprocess_mode=True)}\n",
    "\n",
    "# dim_reductions = {\"PCA_30\": PCA(n_components=30),\n",
    "#                   \"PCA_10\": PCA(n_components=10),\n",
    "#                    \"passthrough\": \"passthrough\"}\n",
    "\n",
    "# print(\"Number of iterations: \", len(datasets) * len(encodings) * len(dim_reductions) * len(models))\n",
    "\n",
    "#cv = FixedSizeSplit(n_splits=5, n_train=1000, n_test=2000, random_state=42)\n",
    "\n",
    "\n",
    "executor = submitit.AutoExecutor(folder=\"logs\")\n",
    "executor.update_parameters(timeout_min=1000, slurm_partition='parietal,normal', slurm_array_parallelism=200, cpus_per_task=2,\n",
    "                            exclude=\"margpu009\")\n",
    "\n",
    "def f(a, b):\n",
    "    print(a, b)\n",
    "    return a + b\n",
    "\n",
    "jobs = []\n",
    "for a in range(10):\n",
    "    for b in range(10):\n",
    "        job = executor.submit(f, a, b)\n",
    "        jobs.append(job)\n",
    "\n",
    "for job in jobs:\n",
    "    print(job.result())\n",
    "    \n",
    "\n",
    "# jobs = []\n",
    "\n",
    "# for dataset in tqdm(datasets):\n",
    "#     for encoding in tqdm(encodings, leave=False):\n",
    "#         print(f\"Dataset: {dataset}, Encoding: {encoding}\")\n",
    "#         X_text, X_rest, y = load_data(dataset, max_rows=10000, include_all_columns=True)\n",
    "#         X_enc = encode(X_text, encoding)\n",
    "\n",
    "#         for dim_reduction_name, dim_reduction in dim_reductions.items():\n",
    "#             for model_name, model in models.items():\n",
    "#                 job_func = partial(run_on_encoded_data, X_enc, X_rest, y, dim_reduction_name, dim_reduction, model_name, model, encoding, cv,\n",
    "#                                    dataset = dataset, features = \"all\")\n",
    "#                 job = executor.submit(job_func)\n",
    "#                 jobs.append(job)\n",
    "#                 print(f\"Submitted job {job.job_id} to the cluster.\")\n",
    "        \n",
    "#         #just X_enc\n",
    "#         for dim_reduction_name, dim_reduction in dim_reductions.items():\n",
    "#             for model_name, model in models.items():\n",
    "#                 job_func = partial(run_on_encoded_data, X_enc, None, y, dim_reduction_name, dim_reduction, model_name, model, encoding, cv,\n",
    "#                                    dataset = dataset, features = \"text_only\") #TODO use the features argument?\n",
    "#                 job = executor.submit(job_func)\n",
    "#                 jobs.append(job)\n",
    "#                 print(f\"Submitted job {job.job_id} to the cluster.\")\n",
    "        \n",
    "#         #just X_rest\n",
    "#         for dim_reduction_name, dim_reduction in dim_reductions.items():\n",
    "#             for model_name, model in models.items():\n",
    "#                 job_func = partial(run_on_encoded_data, None, X_rest, y, dim_reduction_name, dim_reduction, model_name, model, encoding, cv,\n",
    "#                                    dataset = dataset, features = \"rest_only\")\n",
    "#                 job = executor.submit(job_func)\n",
    "#                 jobs.append(job)\n",
    "#                 print(f\"Submitted job {job.job_id} to the cluster.\")\n"
   ]
  },
  {
   "cell_type": "code",
   "execution_count": null,
   "metadata": {},
   "outputs": [],
   "source": []
  }
 ],
 "metadata": {
  "kernelspec": {
   "display_name": "Python 3 (ipykernel)",
   "language": "python",
   "name": "python3"
  },
  "language_info": {
   "codemirror_mode": {
    "name": "ipython",
    "version": 3
   },
   "file_extension": ".py",
   "mimetype": "text/x-python",
   "name": "python",
   "nbconvert_exporter": "python",
   "pygments_lexer": "ipython3",
   "version": "3.10.12"
  }
 },
 "nbformat": 4,
 "nbformat_minor": 2
}
