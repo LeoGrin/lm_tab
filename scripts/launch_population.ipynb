{
 "cells": [
  {
   "cell_type": "code",
   "execution_count": 1,
   "metadata": {},
   "outputs": [],
   "source": [
    "%load_ext autoreload\n",
    "%autoreload 2"
   ]
  },
  {
   "cell_type": "code",
   "execution_count": 1,
   "metadata": {},
   "outputs": [],
   "source": [
    "from src.data_loading import load_data\n",
    "from skrub import MinHashEncoder\n",
    "from sklearn.decomposition import PCA\n",
    "from src.utils import FeaturesExtractor, FixedSizeSplit\n",
    "from sklearn.pipeline import Pipeline\n",
    "from sklearn.linear_model import LogisticRegression\n",
    "from sklearn.model_selection import cross_val_score"
   ]
  },
  {
   "cell_type": "code",
   "execution_count": 2,
   "metadata": {},
   "outputs": [],
   "source": [
    "from sklearn.metrics import accuracy_score\n",
    "from sklearn.ensemble import GradientBoostingClassifier\n",
    "from tabpfn import TabPFNClassifier\n",
    "import pandas as pd\n",
    "import numpy as np\n",
    "from tqdm import tqdm\n",
    "from joblib import Parallel, delayed\n",
    "import time\n",
    "from sentence_transformers import SentenceTransformer"
   ]
  },
  {
   "cell_type": "code",
   "execution_count": 3,
   "metadata": {},
   "outputs": [],
   "source": [
    "from src.encodings import encode, encode_high_cardinality_features\n",
    "from src.utils import run_on_encoded_data, FeaturesExtractor"
   ]
  },
  {
   "cell_type": "code",
   "execution_count": 4,
   "metadata": {},
   "outputs": [],
   "source": [
    "from skrub import TableVectorizer\n",
    "from sklearn.preprocessing import OrdinalEncoder, OneHotEncoder, StandardScaler\n",
    "from sklearn.compose import ColumnTransformer\n",
    "from sklearn.random_projection import GaussianRandomProjection"
   ]
  },
  {
   "cell_type": "code",
   "execution_count": 5,
   "metadata": {},
   "outputs": [],
   "source": [
    "import os\n",
    "os.environ[\"TOKENIZERS_PARALLELISM\"] = \"false\""
   ]
  },
  {
   "cell_type": "code",
   "execution_count": 6,
   "metadata": {},
   "outputs": [
    {
     "name": "stderr",
     "output_type": "stream",
     "text": [
      "/scratch/lgrinszt/micromamba/envs/dpo/lib/python3.10/site-packages/submitit/auto/auto.py:23: UserWarning: Setting 'exclude' is deprecated. Use 'slurm_exclude' instead.\n",
      "  warnings.warn(f\"Setting '{arg}' is deprecated. Use '{new_arg}' instead.\")\n"
     ]
    },
    {
     "name": "stdout",
     "output_type": "stream",
     "text": [
      "2\n"
     ]
    },
    {
     "name": "stderr",
     "output_type": "stream",
     "text": [
      "  0%|          | 0/2 [00:00<?, ?it/s]"
     ]
    },
    {
     "name": "stdout",
     "output_type": "stream",
     "text": [
      "european_cities_pop_log skrub__minhash_30\n",
      "european_cities_pop_log lm__all-distilroberta-v1\n",
      "european_cities_pop_log lm__all-mpnet-base-v2\n",
      "european_cities_pop_log openai__\n",
      "european_cities_pop_log lm__BAAI/bge-large-en-v1.5\n",
      "european_cities_pop_log lm__BAAI/bge-base-en-v1.5\n",
      "european_cities_pop_log lm__llmrails/ember-v1\n"
     ]
    },
    {
     "name": "stderr",
     "output_type": "stream",
     "text": [
      "100%|██████████| 2/2 [00:00<00:00, 138.89it/s]"
     ]
    },
    {
     "name": "stdout",
     "output_type": "stream",
     "text": [
      "all_cities_pop_log skrub__minhash_30\n",
      "all_cities_pop_log lm__all-distilroberta-v1\n",
      "all_cities_pop_log lm__all-mpnet-base-v2\n",
      "all_cities_pop_log openai__\n",
      "all_cities_pop_log lm__BAAI/bge-large-en-v1.5\n",
      "all_cities_pop_log lm__BAAI/bge-base-en-v1.5\n",
      "all_cities_pop_log lm__llmrails/ember-v1\n"
     ]
    },
    {
     "name": "stderr",
     "output_type": "stream",
     "text": [
      "\n"
     ]
    }
   ],
   "source": [
    "import submitit\n",
    "from functools import partial\n",
    "encodings = [\"skrub__minhash_30\", \"lm__all-distilroberta-v1\", \"lm__all-mpnet-base-v2\", \"openai__\"]\n",
    "#encodings = []\n",
    "model_names = [\n",
    "    \"BAAI/bge-large-en-v1.5\",\n",
    "    \"BAAI/bge-base-en-v1.5\",\n",
    "     \"llmrails/ember-v1\",\n",
    "    # \"thenlper/gte-large\",\n",
    "    # \"thenlper/gte-base\",\n",
    "    # \"intfloat/e5-large-v2\",\n",
    "    # \"BAAI/bge-small-en-v1.5\",\n",
    "    # \"hkunlp/instructor-xl\",\n",
    "    # \"hkunlp/instructor-large\",\n",
    "    # \"intfloat/e5-base-v2\",\n",
    "    # \"intfloat/multilingual-e5-large\",\n",
    "    # \"intfloat/e5-large\",\n",
    "    # \"thenlper/gte-small\",\n",
    "    # \"intfloat/e5-base\",\n",
    "    # \"intfloat/e5-small-v2\",\n",
    "    # \"hkunlp/instructor-base\",\n",
    "    # #\"sentence-t5-xxl\",\n",
    "    # \"intfloat/multilingual-e5-base\",\n",
    "    # #\"XLM-3B5-embedding\",\n",
    "    # #\"gtr-t5-xxl\",\n",
    "    # #\"SGPT-5.8B-weightedmean-msmarco-specb-bitfit\",\n",
    "    # \"intfloat/e5-small\",\n",
    "    # \"TaylorAI/gte-tiny\",\n",
    "    # #\"gtr-t5-xl\",\n",
    "    # \"gtr-t5-large\",\n",
    "    # #\"XLM-0B6-embedding\",\n",
    "    # \"intfloat/multilingual-e5-small\",\n",
    "    # #\"sentence-t5-xl\",\n",
    "    # \"all-mpnet-base-v2\",\n",
    "    # #\"sgpt-bloom-7b1-msmarco\",\n",
    "    # \"jinaai/jina-embedding-l-en-v1\",\n",
    "    # #\"SGPT-2.7B-weightedmean-msmarco-specb-bitfit\",\n",
    "    # \"sentence-t5-large\",\n",
    "    # #\"MegatronBert-1B3-embedding\",\n",
    "    # \"TaylorAI/bge-micro-v2\",\n",
    "    # \"all-MiniLM-L12-v2\",\n",
    "    # \"all-MiniLM-L6-v2\",\n",
    "    # \"jinaai/jina-embedding-b-en-v1\",\n",
    "    # #\"SGPT-1.3B-weightedmean-msmarco-specb-bitfit\",\n",
    "    # \"gtr-t5-base\",\n",
    "    # \"nthakur/contriever-base-msmarco\",\n",
    "    # \"TaylorAI/bge-micro\",\n",
    "    # \"sentence-t5-base\",\n",
    "    # \"paraphrase-multilingual-mpnet-base-v2\",\n",
    "    # \"Hum-Works/lodestone-base-4096-v1\",\n",
    "    # #\"SGPT-5.8B-weightedmean-nli-bitfit\",\n",
    "    # \"paraphrase-multilingual-MiniLM-L12-v2\",\n",
    "    # \"msmarco-bert-co-condensor\",\n",
    "    # \"jinaai/jina-embedding-s-en-v1\"\n",
    "]\n",
    "\n",
    "for model_name in model_names:\n",
    "    #if \"e5\" in model_name:\n",
    "    encodings.append(\"lm__\" + model_name)\n",
    "\n",
    "\n",
    "\n",
    "#encodings.extend([\"skrub__minhash_30_word_none\", \"skrub__minhash_30_tokenizer_gpt2\"])\n",
    "\n",
    "#encodings = [\"lm__all-distilroberta-v1\", \"lm__all-mpnet-base-v2\"]\n",
    "\n",
    "#datasets = [\"journal_jcr_cls\", \"movies\", \"michelin\", \"spotify\", \"employee_salary\", \"museums\", \"fifa_footballplayers_22\", \"jp_anime\", \"clear_corpus\", \"company_employees\", \"us_presidential\", \"us_accidents_severity\", \"us_accidents_counts\", \"wine_review\"]\n",
    "#datasets.extend([\"building_permits\", \"agora\", \"met_objects\", \"public\", \"kickstarter\", \"colleges\", \"drug_directory\", \"medical_charge\", \"traffic_violations\"])\n",
    "datasets = [\"european_cities_pop_log\"]\n",
    "#datasets = [\"drug_directory\", \"met_objects\"]\n",
    "print(len(datasets))\n",
    "\n",
    "executor = submitit.AutoExecutor(folder=\"logs\")\n",
    "executor.update_parameters(timeout_min=400, slurm_partition='parietal,normal', slurm_array_parallelism=300, cpus_per_task=2,\n",
    "                            exclude=\"margpu009\")\n",
    "\n",
    "def encoding_dataset(dataset, encoding):\n",
    "    X, y = load_data(dataset, max_rows=10000)\n",
    "    #X_enc = encode(X_text, encoding, dataset_name=dataset, override_cache=True)\n",
    "    X_enc, X_rest = encode_high_cardinality_features(X, encoding, dataset_name=dataset, override_cache=False, cardinality_threshold=30)#, fail_if_not_cached=True)\n",
    "\n",
    "    #return X_enc, X_rest, y\n",
    "    \n",
    "\n",
    "jobs = []\n",
    "\n",
    "with executor.batch():\n",
    "    for dataset in tqdm(datasets):\n",
    "        for encoding in tqdm(encodings, leave=False):\n",
    "            print(dataset, encoding)\n",
    "            job = executor.submit(encoding_dataset, dataset, encoding)\n",
    "            jobs.append(job)"
   ]
  },
  {
   "cell_type": "code",
   "execution_count": 8,
   "metadata": {},
   "outputs": [
    {
     "name": "stdout",
     "output_type": "stream",
     "text": [
      "Removed 1 columns with missing values on 10 columns\n",
      "Removed 24 rows with missing values on 10876 rows\n",
      "Removed 24 rows with missing values on 10852 rows\n",
      "Removed 1 columns with missing values on 8 columns\n",
      "New shape: (10852, 9)\n",
      "Original task: regression for european_cities_pop\n",
      "X shape: (10000, 9), y shape: (10000,)\n",
      "TRAIN: 8000 TEST: 2000\n",
      "TRAIN: 8000 TEST: 2000\n",
      "TRAIN: 8000 TEST: 2000\n",
      "TRAIN: 8000 TEST: 2000\n",
      "TRAIN: 8000 TEST: 2000\n",
      "TRAIN: 8000 TEST: 2000\n",
      "TRAIN: 7999 TEST: 2001\n",
      "TRAIN: 8000 TEST: 2000\n",
      "TRAIN: 8000 TEST: 2000\n",
      "TRAIN: 8001 TEST: 1999\n"
     ]
    }
   ],
   "source": [
    "dataset = \"european_cities_pop\"\n",
    "X, y = load_data(dataset, max_rows=10000, regression=True)\n",
    "cv_classic = 5\n",
    "cv_custom = GroupKFold(n_splits=5)\n",
    "cv_custom = list(cv_custom.split(X, groups=X[\"Country Code\"])) # list for pickle\n",
    "cvs = {\"classic\": cv_classic, \"custom\": cv_custom}\n",
    "\n",
    "# test expected behaviour\n",
    "# iterate on splits and print size\n",
    "from sklearn.model_selection import KFold\n",
    "# classic\n",
    "cross_val = KFold(n_splits=5)\n",
    "for train_index, test_index in cross_val.split(X):\n",
    "    print(\"TRAIN:\", len(train_index), \"TEST:\", len(test_index))\n",
    "# custom\n",
    "for train_index, test_index in cv_custom:\n",
    "    print(\"TRAIN:\", len(train_index), \"TEST:\", len(test_index))\n"
   ]
  },
  {
   "cell_type": "code",
   "execution_count": 22,
   "metadata": {},
   "outputs": [
    {
     "name": "stderr",
     "output_type": "stream",
     "text": [
      "/scratch/lgrinszt/micromamba/envs/dpo/lib/python3.10/site-packages/submitit/auto/auto.py:23: UserWarning:\n",
      "\n",
      "Setting 'exclude' is deprecated. Use 'slurm_exclude' instead.\n",
      "\n"
     ]
    },
    {
     "name": "stdout",
     "output_type": "stream",
     "text": [
      "1\n",
      "Number of iterations:  12\n"
     ]
    },
    {
     "name": "stderr",
     "output_type": "stream",
     "text": [
      "  0%|          | 0/1 [00:00<?, ?it/s]"
     ]
    },
    {
     "name": "stdout",
     "output_type": "stream",
     "text": [
      "Removed 1 columns with missing values on 10 columns\n",
      "Removed 24 rows with missing values on 10876 rows\n",
      "Removed 24 rows with missing values on 10852 rows\n",
      "Removed 1 columns with missing values on 8 columns\n",
      "New shape: (10852, 9)\n",
      "Original task: regression for european_cities_pop_log\n",
      "X shape: (10000, 9), y shape: (10000,)\n"
     ]
    },
    {
     "name": "stderr",
     "output_type": "stream",
     "text": []
    },
    {
     "name": "stdout",
     "output_type": "stream",
     "text": [
      "Dataset european_cities_pop_log\n",
      "Encoding skrub__minhash_100\n",
      "numeric ['DIgital Elevation Model', 'latitude', 'longitude']\n",
      "low_card_cat ['Feature Class', 'Feature Code']\n",
      "high_card_cat ['Name', 'Country Code', 'Country name EN', 'Timezone']\n",
      "High cardinality columns ['Name', 'Country Code', 'Country name EN', 'Timezone']\n",
      "working dir /scratch/lgrinszt/lm_tab/scripts\n",
      "Cache not found, computing\n",
      "Saving to cache\n",
      "working dir /scratch/lgrinszt/lm_tab/scripts\n",
      "Cache not found, computing\n",
      "Saving to cache\n",
      "working dir /scratch/lgrinszt/lm_tab/scripts\n",
      "Cache not found, computing\n",
      "Saving to cache\n",
      "working dir /scratch/lgrinszt/lm_tab/scripts\n",
      "Cache not found, computing\n",
      "Saving to cache\n",
      "Submitted job 1880651 to the cluster.\n",
      "Submitted job 1880652 to the cluster.\n",
      "Submitted job 1880653 to the cluster.\n",
      "Submitted job 1880654 to the cluster.\n",
      "Submitted job 1880655 to the cluster.\n",
      "Submitted job 1880656 to the cluster.\n",
      "Submitted job 1880657 to the cluster.\n",
      "Submitted job 1880658 to the cluster.\n",
      "Submitted job 1880659 to the cluster.\n",
      "Submitted job 1880660 to the cluster.\n",
      "Submitted job 1880661 to the cluster.\n"
     ]
    },
    {
     "name": "stderr",
     "output_type": "stream",
     "text": []
    },
    {
     "name": "stdout",
     "output_type": "stream",
     "text": [
      "Submitted job 1880662 to the cluster.\n",
      "Dataset european_cities_pop_log\n",
      "Encoding lm__all-mpnet-base-v2\n",
      "numeric ['DIgital Elevation Model', 'latitude', 'longitude']\n",
      "low_card_cat ['Feature Class', 'Feature Code']\n",
      "high_card_cat ['Name', 'Country Code', 'Country name EN', 'Timezone']\n",
      "High cardinality columns ['Name', 'Country Code', 'Country name EN', 'Timezone']\n",
      "working dir /scratch/lgrinszt/lm_tab/scripts\n",
      "Loaded from cache\n",
      "working dir /scratch/lgrinszt/lm_tab/scripts\n",
      "Loaded from cache\n",
      "working dir /scratch/lgrinszt/lm_tab/scripts\n",
      "Loaded from cache\n",
      "working dir /scratch/lgrinszt/lm_tab/scripts\n",
      "Loaded from cache\n",
      "Submitted job 1880663 to the cluster.\n",
      "Submitted job 1880664 to the cluster.\n",
      "Submitted job 1880665 to the cluster.\n",
      "Submitted job 1880666 to the cluster.\n",
      "Submitted job 1880667 to the cluster.\n",
      "Submitted job 1880668 to the cluster.\n",
      "Submitted job 1880669 to the cluster.\n",
      "Submitted job 1880670 to the cluster.\n",
      "Submitted job 1880671 to the cluster.\n",
      "Submitted job 1880672 to the cluster.\n",
      "Submitted job 1880673 to the cluster.\n"
     ]
    },
    {
     "name": "stderr",
     "output_type": "stream",
     "text": []
    },
    {
     "name": "stdout",
     "output_type": "stream",
     "text": [
      "Submitted job 1880674 to the cluster.\n",
      "Dataset european_cities_pop_log\n",
      "Encoding openai__\n",
      "numeric ['DIgital Elevation Model', 'latitude', 'longitude']\n",
      "low_card_cat ['Feature Class', 'Feature Code']\n",
      "high_card_cat ['Name', 'Country Code', 'Country name EN', 'Timezone']\n",
      "High cardinality columns ['Name', 'Country Code', 'Country name EN', 'Timezone']\n",
      "working dir /scratch/lgrinszt/lm_tab/scripts\n",
      "Loaded from cache\n",
      "working dir /scratch/lgrinszt/lm_tab/scripts\n",
      "Loaded from cache\n",
      "working dir /scratch/lgrinszt/lm_tab/scripts\n",
      "Loaded from cache\n",
      "working dir /scratch/lgrinszt/lm_tab/scripts\n",
      "Loaded from cache\n",
      "Submitted job 1880675 to the cluster.\n",
      "Submitted job 1880676 to the cluster.\n",
      "Submitted job 1880677 to the cluster.\n",
      "Submitted job 1880678 to the cluster.\n",
      "Submitted job 1880679 to the cluster.\n",
      "Submitted job 1880680 to the cluster.\n",
      "Submitted job 1880681 to the cluster.\n",
      "Submitted job 1880682 to the cluster.\n",
      "Submitted job 1880683 to the cluster.\n",
      "Submitted job 1880684 to the cluster.\n",
      "Submitted job 1880685 to the cluster.\n"
     ]
    },
    {
     "name": "stderr",
     "output_type": "stream",
     "text": []
    },
    {
     "name": "stdout",
     "output_type": "stream",
     "text": [
      "Submitted job 1880686 to the cluster.\n"
     ]
    },
    {
     "name": "stderr",
     "output_type": "stream",
     "text": []
    },
    {
     "name": "stdout",
     "output_type": "stream",
     "text": [
      "Dataset european_cities_pop_log\n",
      "Encoding skrub__minhash_100\n",
      "numeric ['DIgital Elevation Model', 'latitude', 'longitude']\n",
      "low_card_cat ['Feature Class', 'Feature Code']\n",
      "high_card_cat ['Name', 'Country Code', 'Country name EN', 'Timezone']\n",
      "High cardinality columns ['Name', 'Country Code', 'Country name EN', 'Timezone']\n",
      "working dir /scratch/lgrinszt/lm_tab/scripts\n",
      "Loaded from cache\n",
      "working dir /scratch/lgrinszt/lm_tab/scripts\n",
      "Loaded from cache\n",
      "working dir /scratch/lgrinszt/lm_tab/scripts\n",
      "Loaded from cache\n",
      "working dir /scratch/lgrinszt/lm_tab/scripts\n",
      "Loaded from cache\n",
      "Submitted job 1880687 to the cluster.\n",
      "Submitted job 1880688 to the cluster.\n",
      "Submitted job 1880689 to the cluster.\n",
      "Submitted job 1880690 to the cluster.\n",
      "Submitted job 1880691 to the cluster.\n",
      "Submitted job 1880692 to the cluster.\n",
      "Submitted job 1880693 to the cluster.\n",
      "Submitted job 1880694 to the cluster.\n",
      "Submitted job 1880695 to the cluster.\n",
      "Submitted job 1880696 to the cluster.\n",
      "Submitted job 1880697 to the cluster.\n"
     ]
    },
    {
     "name": "stderr",
     "output_type": "stream",
     "text": []
    },
    {
     "name": "stdout",
     "output_type": "stream",
     "text": [
      "Submitted job 1880698 to the cluster.\n",
      "Dataset european_cities_pop_log\n",
      "Encoding lm__all-mpnet-base-v2\n",
      "numeric ['DIgital Elevation Model', 'latitude', 'longitude']\n",
      "low_card_cat ['Feature Class', 'Feature Code']\n",
      "high_card_cat ['Name', 'Country Code', 'Country name EN', 'Timezone']\n",
      "High cardinality columns ['Name', 'Country Code', 'Country name EN', 'Timezone']\n",
      "working dir /scratch/lgrinszt/lm_tab/scripts\n",
      "Loaded from cache\n",
      "working dir /scratch/lgrinszt/lm_tab/scripts\n",
      "Loaded from cache\n",
      "working dir /scratch/lgrinszt/lm_tab/scripts\n",
      "Loaded from cache\n",
      "working dir /scratch/lgrinszt/lm_tab/scripts\n",
      "Loaded from cache\n",
      "Submitted job 1880699 to the cluster.\n",
      "Submitted job 1880700 to the cluster.\n",
      "Submitted job 1880701 to the cluster.\n",
      "Submitted job 1880702 to the cluster.\n",
      "Submitted job 1880703 to the cluster.\n",
      "Submitted job 1880704 to the cluster.\n",
      "Submitted job 1880705 to the cluster.\n",
      "Submitted job 1880706 to the cluster.\n",
      "Submitted job 1880707 to the cluster.\n",
      "Submitted job 1880708 to the cluster.\n",
      "Submitted job 1880709 to the cluster.\n"
     ]
    },
    {
     "name": "stderr",
     "output_type": "stream",
     "text": []
    },
    {
     "name": "stdout",
     "output_type": "stream",
     "text": [
      "Submitted job 1880710 to the cluster.\n",
      "Dataset european_cities_pop_log\n",
      "Encoding openai__\n",
      "numeric ['DIgital Elevation Model', 'latitude', 'longitude']\n",
      "low_card_cat ['Feature Class', 'Feature Code']\n",
      "high_card_cat ['Name', 'Country Code', 'Country name EN', 'Timezone']\n",
      "High cardinality columns ['Name', 'Country Code', 'Country name EN', 'Timezone']\n",
      "working dir /scratch/lgrinszt/lm_tab/scripts\n",
      "Loaded from cache\n",
      "working dir /scratch/lgrinszt/lm_tab/scripts\n",
      "Loaded from cache\n",
      "working dir /scratch/lgrinszt/lm_tab/scripts\n",
      "Loaded from cache\n",
      "working dir /scratch/lgrinszt/lm_tab/scripts\n",
      "Loaded from cache\n",
      "Submitted job 1880711 to the cluster.\n",
      "Submitted job 1880712 to the cluster.\n",
      "Submitted job 1880713 to the cluster.\n",
      "Submitted job 1880714 to the cluster.\n",
      "Submitted job 1880715 to the cluster.\n",
      "Submitted job 1880716 to the cluster.\n",
      "Submitted job 1880717 to the cluster.\n",
      "Submitted job 1880718 to the cluster.\n",
      "Submitted job 1880719 to the cluster.\n",
      "Submitted job 1880720 to the cluster.\n",
      "Submitted job 1880721 to the cluster.\n"
     ]
    },
    {
     "name": "stderr",
     "output_type": "stream",
     "text": [
      "100%|██████████| 1/1 [00:49<00:00, 49.25s/it]"
     ]
    },
    {
     "name": "stdout",
     "output_type": "stream",
     "text": [
      "Submitted job 1880722 to the cluster.\n"
     ]
    },
    {
     "name": "stderr",
     "output_type": "stream",
     "text": [
      "\n"
     ]
    }
   ],
   "source": [
    "import submitit\n",
    "from functools import partial\n",
    "import time\n",
    "from sklearn.model_selection import PredefinedSplit\n",
    "from sklearn.ensemble import GradientBoostingRegressor\n",
    "from sklearn.linear_model import LinearRegression\n",
    "from sklearn.model_selection import GroupKFold\n",
    "from src.encodings import encode_high_cardinality_features\n",
    "from sklearn.decomposition import PCA\n",
    "\n",
    "encodings = [\"skrub__minhash_100\", \"lm__all-mpnet-base-v2\", \"openai__\"]\n",
    "\n",
    "\n",
    "#encodings.extend([\"skrub__minhash_30_word_none\", \"skrub__minhash_30_tokenizer_gpt2\"])\n",
    "#encodings.extend([\"skrub__minhash_30_word_none\"])\n",
    "\n",
    "#encodings = [\"lm__all-distilroberta-v1\", \"lm__all-mpnet-base-v2\"]\n",
    "\n",
    "#datasets = [\"journal_jcr_cls\", \"movies\", \"michelin\", \"spotify\", \"employee_salary\", \"museums\", \"fifa_footballplayers_22\", \"jp_anime\", \"clear_corpus\", \"company_employees\", \"us_presidential\", \"us_accidents_severity\", \"us_accidents_counts\", \"wine_review\"]\n",
    "#datasets.extend([\"building_permits\", \"agora\", \"met_objects\", \"public\", \"kickstarter\", \"colleges\", \"drug_directory\", \"medical_charge\", \"traffic_violations\"])\n",
    "#datasets = [\"us_place\"]\n",
    "datasets = [\"european_cities_pop_log\"]\n",
    "#datasets = [\"drug_directory\", \"met_objects\"]\n",
    "print(len(datasets))\n",
    "models = {\"LinearRegression\": LinearRegression(), \"GradientBoostingRegressor\": GradientBoostingRegressor()}\n",
    "       # \"TabPFNClassifier_basic\": TabPFNClassifier(device=\"cpu\", N_ensemble_configurations=1, no_preprocess_mode=True)}\n",
    "\n",
    "dim_reductions = {\"PCA_100\": PCA(n_components=100),\n",
    "                  #\"PCA_10\": PCA(n_components=10),\n",
    "                   \"passthrough\": \"passthrough\"}\n",
    "\n",
    "print(\"Number of iterations: \", len(datasets) * len(encodings) * len(dim_reductions) * len(models))\n",
    "jobs = []\n",
    "\n",
    "executor = submitit.AutoExecutor(folder=\"logs\")\n",
    "executor.update_parameters(timeout_min=100, slurm_partition='parietal,normal', slurm_array_parallelism=300, cpus_per_task=2,\n",
    "                            exclude=\"margpu009\")\n",
    "\n",
    "\n",
    "#TODO: only keep the name\n",
    "\n",
    "\n",
    "for dataset in tqdm(datasets):\n",
    "    #print(f\"Dataset: {dataset}, Encoding: {encoding}\")\n",
    "    #TODO: maybe possible to do better with sklearn k fold but we never want the other group in the test\n",
    "    X, y = load_data(dataset, max_rows=10000, regression=True)\n",
    "    cv_classic = 5\n",
    "    cv_custom = GroupKFold(n_splits=5)\n",
    "    cv_custom = list(cv_custom.split(X, groups=X[\"Country Code\"])) # list for pickle\n",
    "    cvs = {\"classic\": cv_classic, \"custom\": cv_custom}\n",
    "    for cv_name, cv in cvs.items():\n",
    "        for encoding in tqdm(encodings, leave=False):\n",
    "            print(\"Dataset\", dataset)\n",
    "            print(\"Encoding\", encoding)\n",
    "            #if len(X_text) > n_train + n_test:\n",
    "            try:\n",
    "                #X_enc = encode(X_text, encoding, dataset_name=dataset)\n",
    "                X_enc, X_rest = encode_high_cardinality_features(X, encoding, dataset_name=dataset, override_cache=False, cardinality_threshold=30)#, fail_if_not_cached=True)\n",
    "            except:\n",
    "                print(f\"Encoding {encoding} failed for dataset {dataset}\")\n",
    "                continue\n",
    "                #n_test = 2000\n",
    "                #cv = FixedSizeSplit(n_splits=5, n_train=n_train, n_test=n_test, random_state=42)\n",
    "                # create a predifined split\n",
    "\n",
    "                # restrict train\n",
    "            for dim_reduction_name, dim_reduction in dim_reductions.items():\n",
    "                for model_name, model in models.items():\n",
    "                    job_func = partial(run_on_encoded_data, X_enc, X_rest, y, dim_reduction_name, dim_reduction, model_name, model, encoding, cv,\n",
    "                                    dataset = dataset, features = \"all\", regression=True, cv_name=cv_name)\n",
    "                    job = executor.submit(job_func)\n",
    "                    jobs.append(job)\n",
    "                    print(f\"Submitted job {job.job_id} to the cluster.\")\n",
    "            \n",
    "            #just X_enc\n",
    "            for dim_reduction_name, dim_reduction in dim_reductions.items():\n",
    "                for model_name, model in models.items():\n",
    "                    job_func = partial(run_on_encoded_data, X_enc, None, y, dim_reduction_name, dim_reduction, model_name, model, encoding, cv,\n",
    "                                    dataset = dataset, features = \"text_only\", regression=True, cv_name=cv_name) #TODO use the features argument?\n",
    "                    job = executor.submit(job_func)\n",
    "                    jobs.append(job)\n",
    "                    print(f\"Submitted job {job.job_id} to the cluster.\")\n",
    "            \n",
    "            #just X_rest\n",
    "            for dim_reduction_name, dim_reduction in dim_reductions.items():\n",
    "                for model_name, model in models.items():\n",
    "                    job_func = partial(run_on_encoded_data, None, X_rest, y, dim_reduction_name, dim_reduction, model_name, model, encoding, cv,\n",
    "                                    dataset = dataset, features = \"rest_only\", regression=True, cv_name=cv_name)\n",
    "                    job = executor.submit(job_func)\n",
    "                    jobs.append(job)\n",
    "                    print(f\"Submitted job {job.job_id} to the cluster.\")\n"
   ]
  },
  {
   "cell_type": "code",
   "execution_count": 23,
   "metadata": {},
   "outputs": [
    {
     "name": "stderr",
     "output_type": "stream",
     "text": [
      "sacct: error: slurm_persist_conn_open_without_init: failed to open persistent connection to host:localhost:6819: Connection refused\n",
      "sacct: error: Sending PersistInit msg: Connection refused\n",
      "sacct: error: Problem talking to the database: Connection refused\n",
      "submitit WARNING (2023-11-15 23:36:05,788) - Call #1 - Bypassing sacct error Command '['sacct', '-o', 'JobID,State,NodeList', '--parsable2', '-j', '1880628', '-j', '1880686', '-j', '1880630', '-j', '1880715', '-j', '1880687', '-j', '1880676', '-j', '1880638', '-j', '1880684', '-j', '1880677', '-j', '1880632', '-j', '1880661', '-j', '1880675', '-j', '1880646', '-j', '1880663', '-j', '1880721', '-j', '1880642', '-j', '1880650', '-j', '1880629', '-j', '1880667', '-j', '1880720', '-j', '1880634', '-j', '1880714', '-j', '1880641', '-j', '1880627', '-j', '1880631', '-j', '1880655', '-j', '1880656', '-j', '1880662', '-j', '1880640', '-j', '1880681', '-j', '1880659', '-j', '1880685', '-j', '1880719', '-j', '1880692', '-j', '1880688', '-j', '1880633', '-j', '1880635', '-j', '1880645', '-j', '1880694', '-j', '1880695', '-j', '1880665', '-j', '1880701', '-j', '1880651', '-j', '1880653', '-j', '1880709', '-j', '1880678', '-j', '1880704', '-j', '1880643', '-j', '1880673', '-j', '1880654', '-j', '1880636', '-j', '1880644', '-j', '1880689', '-j', '1880690', '-j', '1880710', '-j', '1880679', '-j', '1880682', '-j', '1880722', '-j', '1880693', '-j', '1880669', '-j', '1880660', '-j', '1880657', '-j', '1880705', '-j', '1880712', '-j', '1880647', '-j', '1880698', '-j', '1880649', '-j', '1880699', '-j', '1880664', '-j', '1880670', '-j', '1880708', '-j', '1880637', '-j', '1880648', '-j', '1880700', '-j', '1880639', '-j', '1880680', '-j', '1880671', '-j', '1880716', '-j', '1880717', '-j', '1880713', '-j', '1880672', '-j', '1880707', '-j', '1880711', '-j', '1880691', '-j', '1880658', '-j', '1880668', '-j', '1880706', '-j', '1880703', '-j', '1880697', '-j', '1880674', '-j', '1880666', '-j', '1880683', '-j', '1880696', '-j', '1880652', '-j', '1880702', '-j', '1880718']' returned non-zero exit status 1., status may be inaccurate.\n"
     ]
    },
    {
     "name": "stdout",
     "output_type": "stream",
     "text": [
      "submitit WARNING (2023-11-15 23:36:05,788) - Call #1 - Bypassing sacct error Command '['sacct', '-o', 'JobID,State,NodeList', '--parsable2', '-j', '1880628', '-j', '1880686', '-j', '1880630', '-j', '1880715', '-j', '1880687', '-j', '1880676', '-j', '1880638', '-j', '1880684', '-j', '1880677', '-j', '1880632', '-j', '1880661', '-j', '1880675', '-j', '1880646', '-j', '1880663', '-j', '1880721', '-j', '1880642', '-j', '1880650', '-j', '1880629', '-j', '1880667', '-j', '1880720', '-j', '1880634', '-j', '1880714', '-j', '1880641', '-j', '1880627', '-j', '1880631', '-j', '1880655', '-j', '1880656', '-j', '1880662', '-j', '1880640', '-j', '1880681', '-j', '1880659', '-j', '1880685', '-j', '1880719', '-j', '1880692', '-j', '1880688', '-j', '1880633', '-j', '1880635', '-j', '1880645', '-j', '1880694', '-j', '1880695', '-j', '1880665', '-j', '1880701', '-j', '1880651', '-j', '1880653', '-j', '1880709', '-j', '1880678', '-j', '1880704', '-j', '1880643', '-j', '1880673', '-j', '1880654', '-j', '1880636', '-j', '1880644', '-j', '1880689', '-j', '1880690', '-j', '1880710', '-j', '1880679', '-j', '1880682', '-j', '1880722', '-j', '1880693', '-j', '1880669', '-j', '1880660', '-j', '1880657', '-j', '1880705', '-j', '1880712', '-j', '1880647', '-j', '1880698', '-j', '1880649', '-j', '1880699', '-j', '1880664', '-j', '1880670', '-j', '1880708', '-j', '1880637', '-j', '1880648', '-j', '1880700', '-j', '1880639', '-j', '1880680', '-j', '1880671', '-j', '1880716', '-j', '1880717', '-j', '1880713', '-j', '1880672', '-j', '1880707', '-j', '1880711', '-j', '1880691', '-j', '1880658', '-j', '1880668', '-j', '1880706', '-j', '1880703', '-j', '1880697', '-j', '1880674', '-j', '1880666', '-j', '1880683', '-j', '1880696', '-j', '1880652', '-j', '1880702', '-j', '1880718']' returned non-zero exit status 1., status may be inaccurate.\n"
     ]
    },
    {
     "name": "stderr",
     "output_type": "stream",
     "text": [
      "sacct: error: slurm_persist_conn_open_without_init: failed to open persistent connection to host:localhost:6819: Connection refused\n",
      "sacct: error: Sending PersistInit msg: Connection refused\n",
      "sacct: error: Problem talking to the database: Connection refused\n",
      "submitit WARNING (2023-11-15 23:36:07,818) - Call #2 - Bypassing sacct error Command '['sacct', '-o', 'JobID,State,NodeList', '--parsable2', '-j', '1880628', '-j', '1880686', '-j', '1880630', '-j', '1880715', '-j', '1880687', '-j', '1880676', '-j', '1880638', '-j', '1880684', '-j', '1880677', '-j', '1880632', '-j', '1880661', '-j', '1880675', '-j', '1880646', '-j', '1880663', '-j', '1880721', '-j', '1880642', '-j', '1880650', '-j', '1880629', '-j', '1880667', '-j', '1880720', '-j', '1880634', '-j', '1880714', '-j', '1880641', '-j', '1880627', '-j', '1880631', '-j', '1880655', '-j', '1880656', '-j', '1880662', '-j', '1880640', '-j', '1880681', '-j', '1880659', '-j', '1880685', '-j', '1880719', '-j', '1880692', '-j', '1880688', '-j', '1880633', '-j', '1880635', '-j', '1880645', '-j', '1880694', '-j', '1880695', '-j', '1880665', '-j', '1880701', '-j', '1880651', '-j', '1880653', '-j', '1880709', '-j', '1880678', '-j', '1880704', '-j', '1880643', '-j', '1880673', '-j', '1880654', '-j', '1880636', '-j', '1880644', '-j', '1880689', '-j', '1880690', '-j', '1880710', '-j', '1880679', '-j', '1880682', '-j', '1880722', '-j', '1880693', '-j', '1880669', '-j', '1880660', '-j', '1880657', '-j', '1880705', '-j', '1880712', '-j', '1880647', '-j', '1880698', '-j', '1880649', '-j', '1880699', '-j', '1880664', '-j', '1880670', '-j', '1880708', '-j', '1880637', '-j', '1880648', '-j', '1880700', '-j', '1880639', '-j', '1880680', '-j', '1880671', '-j', '1880716', '-j', '1880717', '-j', '1880713', '-j', '1880672', '-j', '1880707', '-j', '1880711', '-j', '1880691', '-j', '1880658', '-j', '1880668', '-j', '1880706', '-j', '1880703', '-j', '1880697', '-j', '1880674', '-j', '1880666', '-j', '1880683', '-j', '1880696', '-j', '1880652', '-j', '1880702', '-j', '1880718']' returned non-zero exit status 1., status may be inaccurate.\n"
     ]
    },
    {
     "name": "stdout",
     "output_type": "stream",
     "text": [
      "submitit WARNING (2023-11-15 23:36:07,818) - Call #2 - Bypassing sacct error Command '['sacct', '-o', 'JobID,State,NodeList', '--parsable2', '-j', '1880628', '-j', '1880686', '-j', '1880630', '-j', '1880715', '-j', '1880687', '-j', '1880676', '-j', '1880638', '-j', '1880684', '-j', '1880677', '-j', '1880632', '-j', '1880661', '-j', '1880675', '-j', '1880646', '-j', '1880663', '-j', '1880721', '-j', '1880642', '-j', '1880650', '-j', '1880629', '-j', '1880667', '-j', '1880720', '-j', '1880634', '-j', '1880714', '-j', '1880641', '-j', '1880627', '-j', '1880631', '-j', '1880655', '-j', '1880656', '-j', '1880662', '-j', '1880640', '-j', '1880681', '-j', '1880659', '-j', '1880685', '-j', '1880719', '-j', '1880692', '-j', '1880688', '-j', '1880633', '-j', '1880635', '-j', '1880645', '-j', '1880694', '-j', '1880695', '-j', '1880665', '-j', '1880701', '-j', '1880651', '-j', '1880653', '-j', '1880709', '-j', '1880678', '-j', '1880704', '-j', '1880643', '-j', '1880673', '-j', '1880654', '-j', '1880636', '-j', '1880644', '-j', '1880689', '-j', '1880690', '-j', '1880710', '-j', '1880679', '-j', '1880682', '-j', '1880722', '-j', '1880693', '-j', '1880669', '-j', '1880660', '-j', '1880657', '-j', '1880705', '-j', '1880712', '-j', '1880647', '-j', '1880698', '-j', '1880649', '-j', '1880699', '-j', '1880664', '-j', '1880670', '-j', '1880708', '-j', '1880637', '-j', '1880648', '-j', '1880700', '-j', '1880639', '-j', '1880680', '-j', '1880671', '-j', '1880716', '-j', '1880717', '-j', '1880713', '-j', '1880672', '-j', '1880707', '-j', '1880711', '-j', '1880691', '-j', '1880658', '-j', '1880668', '-j', '1880706', '-j', '1880703', '-j', '1880697', '-j', '1880674', '-j', '1880666', '-j', '1880683', '-j', '1880696', '-j', '1880652', '-j', '1880702', '-j', '1880718']' returned non-zero exit status 1., status may be inaccurate.\n"
     ]
    },
    {
     "name": "stderr",
     "output_type": "stream",
     "text": [
      "sacct: error: slurm_persist_conn_open_without_init: failed to open persistent connection to host:localhost:6819: Connection refused\n",
      "sacct: error: Sending PersistInit msg: Connection refused\n",
      "sacct: error: Problem talking to the database: Connection refused\n",
      "submitit WARNING (2023-11-15 23:36:10,835) - Call #3 - Bypassing sacct error Command '['sacct', '-o', 'JobID,State,NodeList', '--parsable2', '-j', '1880628', '-j', '1880686', '-j', '1880630', '-j', '1880715', '-j', '1880687', '-j', '1880676', '-j', '1880638', '-j', '1880684', '-j', '1880677', '-j', '1880632', '-j', '1880661', '-j', '1880675', '-j', '1880646', '-j', '1880663', '-j', '1880721', '-j', '1880642', '-j', '1880650', '-j', '1880629', '-j', '1880667', '-j', '1880720', '-j', '1880634', '-j', '1880714', '-j', '1880641', '-j', '1880627', '-j', '1880631', '-j', '1880655', '-j', '1880656', '-j', '1880662', '-j', '1880640', '-j', '1880681', '-j', '1880659', '-j', '1880685', '-j', '1880719', '-j', '1880692', '-j', '1880688', '-j', '1880633', '-j', '1880635', '-j', '1880645', '-j', '1880694', '-j', '1880695', '-j', '1880665', '-j', '1880701', '-j', '1880651', '-j', '1880653', '-j', '1880709', '-j', '1880678', '-j', '1880704', '-j', '1880643', '-j', '1880673', '-j', '1880654', '-j', '1880636', '-j', '1880644', '-j', '1880689', '-j', '1880690', '-j', '1880710', '-j', '1880679', '-j', '1880682', '-j', '1880722', '-j', '1880693', '-j', '1880669', '-j', '1880660', '-j', '1880657', '-j', '1880705', '-j', '1880712', '-j', '1880647', '-j', '1880698', '-j', '1880649', '-j', '1880699', '-j', '1880664', '-j', '1880670', '-j', '1880708', '-j', '1880637', '-j', '1880648', '-j', '1880700', '-j', '1880639', '-j', '1880680', '-j', '1880671', '-j', '1880716', '-j', '1880717', '-j', '1880713', '-j', '1880672', '-j', '1880707', '-j', '1880711', '-j', '1880691', '-j', '1880658', '-j', '1880668', '-j', '1880706', '-j', '1880703', '-j', '1880697', '-j', '1880674', '-j', '1880666', '-j', '1880683', '-j', '1880696', '-j', '1880652', '-j', '1880702', '-j', '1880718']' returned non-zero exit status 1., status may be inaccurate.\n"
     ]
    },
    {
     "name": "stdout",
     "output_type": "stream",
     "text": [
      "submitit WARNING (2023-11-15 23:36:10,835) - Call #3 - Bypassing sacct error Command '['sacct', '-o', 'JobID,State,NodeList', '--parsable2', '-j', '1880628', '-j', '1880686', '-j', '1880630', '-j', '1880715', '-j', '1880687', '-j', '1880676', '-j', '1880638', '-j', '1880684', '-j', '1880677', '-j', '1880632', '-j', '1880661', '-j', '1880675', '-j', '1880646', '-j', '1880663', '-j', '1880721', '-j', '1880642', '-j', '1880650', '-j', '1880629', '-j', '1880667', '-j', '1880720', '-j', '1880634', '-j', '1880714', '-j', '1880641', '-j', '1880627', '-j', '1880631', '-j', '1880655', '-j', '1880656', '-j', '1880662', '-j', '1880640', '-j', '1880681', '-j', '1880659', '-j', '1880685', '-j', '1880719', '-j', '1880692', '-j', '1880688', '-j', '1880633', '-j', '1880635', '-j', '1880645', '-j', '1880694', '-j', '1880695', '-j', '1880665', '-j', '1880701', '-j', '1880651', '-j', '1880653', '-j', '1880709', '-j', '1880678', '-j', '1880704', '-j', '1880643', '-j', '1880673', '-j', '1880654', '-j', '1880636', '-j', '1880644', '-j', '1880689', '-j', '1880690', '-j', '1880710', '-j', '1880679', '-j', '1880682', '-j', '1880722', '-j', '1880693', '-j', '1880669', '-j', '1880660', '-j', '1880657', '-j', '1880705', '-j', '1880712', '-j', '1880647', '-j', '1880698', '-j', '1880649', '-j', '1880699', '-j', '1880664', '-j', '1880670', '-j', '1880708', '-j', '1880637', '-j', '1880648', '-j', '1880700', '-j', '1880639', '-j', '1880680', '-j', '1880671', '-j', '1880716', '-j', '1880717', '-j', '1880713', '-j', '1880672', '-j', '1880707', '-j', '1880711', '-j', '1880691', '-j', '1880658', '-j', '1880668', '-j', '1880706', '-j', '1880703', '-j', '1880697', '-j', '1880674', '-j', '1880666', '-j', '1880683', '-j', '1880696', '-j', '1880652', '-j', '1880702', '-j', '1880718']' returned non-zero exit status 1., status may be inaccurate.\n"
     ]
    },
    {
     "name": "stderr",
     "output_type": "stream",
     "text": [
      "sacct: error: slurm_persist_conn_open_without_init: failed to open persistent connection to host:localhost:6819: Connection refused\n",
      "sacct: error: Sending PersistInit msg: Connection refused\n",
      "sacct: error: Problem talking to the database: Connection refused\n",
      "submitit WARNING (2023-11-15 23:36:16,859) - Call #4 - Bypassing sacct error Command '['sacct', '-o', 'JobID,State,NodeList', '--parsable2', '-j', '1880628', '-j', '1880686', '-j', '1880630', '-j', '1880715', '-j', '1880687', '-j', '1880676', '-j', '1880638', '-j', '1880684', '-j', '1880677', '-j', '1880632', '-j', '1880661', '-j', '1880675', '-j', '1880646', '-j', '1880663', '-j', '1880721', '-j', '1880642', '-j', '1880650', '-j', '1880629', '-j', '1880667', '-j', '1880720', '-j', '1880634', '-j', '1880714', '-j', '1880641', '-j', '1880627', '-j', '1880631', '-j', '1880655', '-j', '1880656', '-j', '1880662', '-j', '1880640', '-j', '1880681', '-j', '1880659', '-j', '1880685', '-j', '1880719', '-j', '1880692', '-j', '1880688', '-j', '1880633', '-j', '1880635', '-j', '1880645', '-j', '1880694', '-j', '1880695', '-j', '1880665', '-j', '1880701', '-j', '1880651', '-j', '1880653', '-j', '1880709', '-j', '1880678', '-j', '1880704', '-j', '1880643', '-j', '1880673', '-j', '1880654', '-j', '1880636', '-j', '1880644', '-j', '1880689', '-j', '1880690', '-j', '1880710', '-j', '1880679', '-j', '1880682', '-j', '1880722', '-j', '1880693', '-j', '1880669', '-j', '1880660', '-j', '1880657', '-j', '1880705', '-j', '1880712', '-j', '1880647', '-j', '1880698', '-j', '1880649', '-j', '1880699', '-j', '1880664', '-j', '1880670', '-j', '1880708', '-j', '1880637', '-j', '1880648', '-j', '1880700', '-j', '1880639', '-j', '1880680', '-j', '1880671', '-j', '1880716', '-j', '1880717', '-j', '1880713', '-j', '1880672', '-j', '1880707', '-j', '1880711', '-j', '1880691', '-j', '1880658', '-j', '1880668', '-j', '1880706', '-j', '1880703', '-j', '1880697', '-j', '1880674', '-j', '1880666', '-j', '1880683', '-j', '1880696', '-j', '1880652', '-j', '1880702', '-j', '1880718']' returned non-zero exit status 1., status may be inaccurate.\n"
     ]
    },
    {
     "name": "stdout",
     "output_type": "stream",
     "text": [
      "submitit WARNING (2023-11-15 23:36:16,859) - Call #4 - Bypassing sacct error Command '['sacct', '-o', 'JobID,State,NodeList', '--parsable2', '-j', '1880628', '-j', '1880686', '-j', '1880630', '-j', '1880715', '-j', '1880687', '-j', '1880676', '-j', '1880638', '-j', '1880684', '-j', '1880677', '-j', '1880632', '-j', '1880661', '-j', '1880675', '-j', '1880646', '-j', '1880663', '-j', '1880721', '-j', '1880642', '-j', '1880650', '-j', '1880629', '-j', '1880667', '-j', '1880720', '-j', '1880634', '-j', '1880714', '-j', '1880641', '-j', '1880627', '-j', '1880631', '-j', '1880655', '-j', '1880656', '-j', '1880662', '-j', '1880640', '-j', '1880681', '-j', '1880659', '-j', '1880685', '-j', '1880719', '-j', '1880692', '-j', '1880688', '-j', '1880633', '-j', '1880635', '-j', '1880645', '-j', '1880694', '-j', '1880695', '-j', '1880665', '-j', '1880701', '-j', '1880651', '-j', '1880653', '-j', '1880709', '-j', '1880678', '-j', '1880704', '-j', '1880643', '-j', '1880673', '-j', '1880654', '-j', '1880636', '-j', '1880644', '-j', '1880689', '-j', '1880690', '-j', '1880710', '-j', '1880679', '-j', '1880682', '-j', '1880722', '-j', '1880693', '-j', '1880669', '-j', '1880660', '-j', '1880657', '-j', '1880705', '-j', '1880712', '-j', '1880647', '-j', '1880698', '-j', '1880649', '-j', '1880699', '-j', '1880664', '-j', '1880670', '-j', '1880708', '-j', '1880637', '-j', '1880648', '-j', '1880700', '-j', '1880639', '-j', '1880680', '-j', '1880671', '-j', '1880716', '-j', '1880717', '-j', '1880713', '-j', '1880672', '-j', '1880707', '-j', '1880711', '-j', '1880691', '-j', '1880658', '-j', '1880668', '-j', '1880706', '-j', '1880703', '-j', '1880697', '-j', '1880674', '-j', '1880666', '-j', '1880683', '-j', '1880696', '-j', '1880652', '-j', '1880702', '-j', '1880718']' returned non-zero exit status 1., status may be inaccurate.\n"
     ]
    },
    {
     "name": "stderr",
     "output_type": "stream",
     "text": [
      "sacct: error: slurm_persist_conn_open_without_init: failed to open persistent connection to host:localhost:6819: Connection refused\n",
      "sacct: error: Sending PersistInit msg: Connection refused\n",
      "sacct: error: Problem talking to the database: Connection refused\n",
      "submitit WARNING (2023-11-15 23:36:28,895) - Call #5 - Bypassing sacct error Command '['sacct', '-o', 'JobID,State,NodeList', '--parsable2', '-j', '1880628', '-j', '1880686', '-j', '1880630', '-j', '1880715', '-j', '1880687', '-j', '1880676', '-j', '1880638', '-j', '1880684', '-j', '1880677', '-j', '1880632', '-j', '1880661', '-j', '1880675', '-j', '1880646', '-j', '1880663', '-j', '1880721', '-j', '1880642', '-j', '1880650', '-j', '1880629', '-j', '1880667', '-j', '1880720', '-j', '1880634', '-j', '1880714', '-j', '1880641', '-j', '1880627', '-j', '1880631', '-j', '1880655', '-j', '1880656', '-j', '1880662', '-j', '1880640', '-j', '1880681', '-j', '1880659', '-j', '1880685', '-j', '1880719', '-j', '1880692', '-j', '1880688', '-j', '1880633', '-j', '1880635', '-j', '1880645', '-j', '1880694', '-j', '1880695', '-j', '1880665', '-j', '1880701', '-j', '1880651', '-j', '1880653', '-j', '1880709', '-j', '1880678', '-j', '1880704', '-j', '1880643', '-j', '1880673', '-j', '1880654', '-j', '1880636', '-j', '1880644', '-j', '1880689', '-j', '1880690', '-j', '1880710', '-j', '1880679', '-j', '1880682', '-j', '1880722', '-j', '1880693', '-j', '1880669', '-j', '1880660', '-j', '1880657', '-j', '1880705', '-j', '1880712', '-j', '1880647', '-j', '1880698', '-j', '1880649', '-j', '1880699', '-j', '1880664', '-j', '1880670', '-j', '1880708', '-j', '1880637', '-j', '1880648', '-j', '1880700', '-j', '1880639', '-j', '1880680', '-j', '1880671', '-j', '1880716', '-j', '1880717', '-j', '1880713', '-j', '1880672', '-j', '1880707', '-j', '1880711', '-j', '1880691', '-j', '1880658', '-j', '1880668', '-j', '1880706', '-j', '1880703', '-j', '1880697', '-j', '1880674', '-j', '1880666', '-j', '1880683', '-j', '1880696', '-j', '1880652', '-j', '1880702', '-j', '1880718']' returned non-zero exit status 1., status may be inaccurate.\n"
     ]
    },
    {
     "name": "stdout",
     "output_type": "stream",
     "text": [
      "submitit WARNING (2023-11-15 23:36:28,895) - Call #5 - Bypassing sacct error Command '['sacct', '-o', 'JobID,State,NodeList', '--parsable2', '-j', '1880628', '-j', '1880686', '-j', '1880630', '-j', '1880715', '-j', '1880687', '-j', '1880676', '-j', '1880638', '-j', '1880684', '-j', '1880677', '-j', '1880632', '-j', '1880661', '-j', '1880675', '-j', '1880646', '-j', '1880663', '-j', '1880721', '-j', '1880642', '-j', '1880650', '-j', '1880629', '-j', '1880667', '-j', '1880720', '-j', '1880634', '-j', '1880714', '-j', '1880641', '-j', '1880627', '-j', '1880631', '-j', '1880655', '-j', '1880656', '-j', '1880662', '-j', '1880640', '-j', '1880681', '-j', '1880659', '-j', '1880685', '-j', '1880719', '-j', '1880692', '-j', '1880688', '-j', '1880633', '-j', '1880635', '-j', '1880645', '-j', '1880694', '-j', '1880695', '-j', '1880665', '-j', '1880701', '-j', '1880651', '-j', '1880653', '-j', '1880709', '-j', '1880678', '-j', '1880704', '-j', '1880643', '-j', '1880673', '-j', '1880654', '-j', '1880636', '-j', '1880644', '-j', '1880689', '-j', '1880690', '-j', '1880710', '-j', '1880679', '-j', '1880682', '-j', '1880722', '-j', '1880693', '-j', '1880669', '-j', '1880660', '-j', '1880657', '-j', '1880705', '-j', '1880712', '-j', '1880647', '-j', '1880698', '-j', '1880649', '-j', '1880699', '-j', '1880664', '-j', '1880670', '-j', '1880708', '-j', '1880637', '-j', '1880648', '-j', '1880700', '-j', '1880639', '-j', '1880680', '-j', '1880671', '-j', '1880716', '-j', '1880717', '-j', '1880713', '-j', '1880672', '-j', '1880707', '-j', '1880711', '-j', '1880691', '-j', '1880658', '-j', '1880668', '-j', '1880706', '-j', '1880703', '-j', '1880697', '-j', '1880674', '-j', '1880666', '-j', '1880683', '-j', '1880696', '-j', '1880652', '-j', '1880702', '-j', '1880718']' returned non-zero exit status 1., status may be inaccurate.\n"
     ]
    },
    {
     "name": "stderr",
     "output_type": "stream",
     "text": [
      "sacct: error: slurm_persist_conn_open_without_init: failed to open persistent connection to host:localhost:6819: Connection refused\n",
      "sacct: error: Sending PersistInit msg: Connection refused\n",
      "sacct: error: Problem talking to the database: Connection refused\n",
      "submitit WARNING (2023-11-15 23:36:52,952) - Call #6 - Bypassing sacct error Command '['sacct', '-o', 'JobID,State,NodeList', '--parsable2', '-j', '1880628', '-j', '1880686', '-j', '1880630', '-j', '1880715', '-j', '1880687', '-j', '1880676', '-j', '1880638', '-j', '1880684', '-j', '1880677', '-j', '1880632', '-j', '1880661', '-j', '1880675', '-j', '1880646', '-j', '1880663', '-j', '1880721', '-j', '1880642', '-j', '1880650', '-j', '1880629', '-j', '1880667', '-j', '1880720', '-j', '1880634', '-j', '1880714', '-j', '1880641', '-j', '1880627', '-j', '1880631', '-j', '1880655', '-j', '1880656', '-j', '1880662', '-j', '1880640', '-j', '1880681', '-j', '1880659', '-j', '1880685', '-j', '1880719', '-j', '1880692', '-j', '1880688', '-j', '1880633', '-j', '1880635', '-j', '1880645', '-j', '1880694', '-j', '1880695', '-j', '1880665', '-j', '1880701', '-j', '1880651', '-j', '1880653', '-j', '1880709', '-j', '1880678', '-j', '1880704', '-j', '1880643', '-j', '1880673', '-j', '1880654', '-j', '1880636', '-j', '1880644', '-j', '1880689', '-j', '1880690', '-j', '1880710', '-j', '1880679', '-j', '1880682', '-j', '1880722', '-j', '1880693', '-j', '1880669', '-j', '1880660', '-j', '1880657', '-j', '1880705', '-j', '1880712', '-j', '1880647', '-j', '1880698', '-j', '1880649', '-j', '1880699', '-j', '1880664', '-j', '1880670', '-j', '1880708', '-j', '1880637', '-j', '1880648', '-j', '1880700', '-j', '1880639', '-j', '1880680', '-j', '1880671', '-j', '1880716', '-j', '1880717', '-j', '1880713', '-j', '1880672', '-j', '1880707', '-j', '1880711', '-j', '1880691', '-j', '1880658', '-j', '1880668', '-j', '1880706', '-j', '1880703', '-j', '1880697', '-j', '1880674', '-j', '1880666', '-j', '1880683', '-j', '1880696', '-j', '1880652', '-j', '1880702', '-j', '1880718']' returned non-zero exit status 1., status may be inaccurate.\n"
     ]
    },
    {
     "name": "stdout",
     "output_type": "stream",
     "text": [
      "submitit WARNING (2023-11-15 23:36:52,952) - Call #6 - Bypassing sacct error Command '['sacct', '-o', 'JobID,State,NodeList', '--parsable2', '-j', '1880628', '-j', '1880686', '-j', '1880630', '-j', '1880715', '-j', '1880687', '-j', '1880676', '-j', '1880638', '-j', '1880684', '-j', '1880677', '-j', '1880632', '-j', '1880661', '-j', '1880675', '-j', '1880646', '-j', '1880663', '-j', '1880721', '-j', '1880642', '-j', '1880650', '-j', '1880629', '-j', '1880667', '-j', '1880720', '-j', '1880634', '-j', '1880714', '-j', '1880641', '-j', '1880627', '-j', '1880631', '-j', '1880655', '-j', '1880656', '-j', '1880662', '-j', '1880640', '-j', '1880681', '-j', '1880659', '-j', '1880685', '-j', '1880719', '-j', '1880692', '-j', '1880688', '-j', '1880633', '-j', '1880635', '-j', '1880645', '-j', '1880694', '-j', '1880695', '-j', '1880665', '-j', '1880701', '-j', '1880651', '-j', '1880653', '-j', '1880709', '-j', '1880678', '-j', '1880704', '-j', '1880643', '-j', '1880673', '-j', '1880654', '-j', '1880636', '-j', '1880644', '-j', '1880689', '-j', '1880690', '-j', '1880710', '-j', '1880679', '-j', '1880682', '-j', '1880722', '-j', '1880693', '-j', '1880669', '-j', '1880660', '-j', '1880657', '-j', '1880705', '-j', '1880712', '-j', '1880647', '-j', '1880698', '-j', '1880649', '-j', '1880699', '-j', '1880664', '-j', '1880670', '-j', '1880708', '-j', '1880637', '-j', '1880648', '-j', '1880700', '-j', '1880639', '-j', '1880680', '-j', '1880671', '-j', '1880716', '-j', '1880717', '-j', '1880713', '-j', '1880672', '-j', '1880707', '-j', '1880711', '-j', '1880691', '-j', '1880658', '-j', '1880668', '-j', '1880706', '-j', '1880703', '-j', '1880697', '-j', '1880674', '-j', '1880666', '-j', '1880683', '-j', '1880696', '-j', '1880652', '-j', '1880702', '-j', '1880718']' returned non-zero exit status 1., status may be inaccurate.\n"
     ]
    },
    {
     "name": "stderr",
     "output_type": "stream",
     "text": [
      "sacct: error: slurm_persist_conn_open_without_init: failed to open persistent connection to host:localhost:6819: Connection refused\n",
      "sacct: error: Sending PersistInit msg: Connection refused\n",
      "sacct: error: Problem talking to the database: Connection refused\n",
      "submitit WARNING (2023-11-15 23:37:41,057) - Call #7 - Bypassing sacct error Command '['sacct', '-o', 'JobID,State,NodeList', '--parsable2', '-j', '1880628', '-j', '1880686', '-j', '1880630', '-j', '1880715', '-j', '1880687', '-j', '1880676', '-j', '1880638', '-j', '1880684', '-j', '1880677', '-j', '1880632', '-j', '1880661', '-j', '1880675', '-j', '1880646', '-j', '1880663', '-j', '1880721', '-j', '1880642', '-j', '1880650', '-j', '1880629', '-j', '1880667', '-j', '1880720', '-j', '1880634', '-j', '1880714', '-j', '1880641', '-j', '1880627', '-j', '1880631', '-j', '1880655', '-j', '1880656', '-j', '1880662', '-j', '1880640', '-j', '1880681', '-j', '1880659', '-j', '1880685', '-j', '1880719', '-j', '1880692', '-j', '1880688', '-j', '1880633', '-j', '1880635', '-j', '1880645', '-j', '1880694', '-j', '1880695', '-j', '1880665', '-j', '1880701', '-j', '1880651', '-j', '1880653', '-j', '1880709', '-j', '1880678', '-j', '1880704', '-j', '1880643', '-j', '1880673', '-j', '1880654', '-j', '1880636', '-j', '1880644', '-j', '1880689', '-j', '1880690', '-j', '1880710', '-j', '1880679', '-j', '1880682', '-j', '1880722', '-j', '1880693', '-j', '1880669', '-j', '1880660', '-j', '1880657', '-j', '1880705', '-j', '1880712', '-j', '1880647', '-j', '1880698', '-j', '1880649', '-j', '1880699', '-j', '1880664', '-j', '1880670', '-j', '1880708', '-j', '1880637', '-j', '1880648', '-j', '1880700', '-j', '1880639', '-j', '1880680', '-j', '1880671', '-j', '1880716', '-j', '1880717', '-j', '1880713', '-j', '1880672', '-j', '1880707', '-j', '1880711', '-j', '1880691', '-j', '1880658', '-j', '1880668', '-j', '1880706', '-j', '1880703', '-j', '1880697', '-j', '1880674', '-j', '1880666', '-j', '1880683', '-j', '1880696', '-j', '1880652', '-j', '1880702', '-j', '1880718']' returned non-zero exit status 1., status may be inaccurate.\n"
     ]
    },
    {
     "name": "stdout",
     "output_type": "stream",
     "text": [
      "submitit WARNING (2023-11-15 23:37:41,057) - Call #7 - Bypassing sacct error Command '['sacct', '-o', 'JobID,State,NodeList', '--parsable2', '-j', '1880628', '-j', '1880686', '-j', '1880630', '-j', '1880715', '-j', '1880687', '-j', '1880676', '-j', '1880638', '-j', '1880684', '-j', '1880677', '-j', '1880632', '-j', '1880661', '-j', '1880675', '-j', '1880646', '-j', '1880663', '-j', '1880721', '-j', '1880642', '-j', '1880650', '-j', '1880629', '-j', '1880667', '-j', '1880720', '-j', '1880634', '-j', '1880714', '-j', '1880641', '-j', '1880627', '-j', '1880631', '-j', '1880655', '-j', '1880656', '-j', '1880662', '-j', '1880640', '-j', '1880681', '-j', '1880659', '-j', '1880685', '-j', '1880719', '-j', '1880692', '-j', '1880688', '-j', '1880633', '-j', '1880635', '-j', '1880645', '-j', '1880694', '-j', '1880695', '-j', '1880665', '-j', '1880701', '-j', '1880651', '-j', '1880653', '-j', '1880709', '-j', '1880678', '-j', '1880704', '-j', '1880643', '-j', '1880673', '-j', '1880654', '-j', '1880636', '-j', '1880644', '-j', '1880689', '-j', '1880690', '-j', '1880710', '-j', '1880679', '-j', '1880682', '-j', '1880722', '-j', '1880693', '-j', '1880669', '-j', '1880660', '-j', '1880657', '-j', '1880705', '-j', '1880712', '-j', '1880647', '-j', '1880698', '-j', '1880649', '-j', '1880699', '-j', '1880664', '-j', '1880670', '-j', '1880708', '-j', '1880637', '-j', '1880648', '-j', '1880700', '-j', '1880639', '-j', '1880680', '-j', '1880671', '-j', '1880716', '-j', '1880717', '-j', '1880713', '-j', '1880672', '-j', '1880707', '-j', '1880711', '-j', '1880691', '-j', '1880658', '-j', '1880668', '-j', '1880706', '-j', '1880703', '-j', '1880697', '-j', '1880674', '-j', '1880666', '-j', '1880683', '-j', '1880696', '-j', '1880652', '-j', '1880702', '-j', '1880718']' returned non-zero exit status 1., status may be inaccurate.\n"
     ]
    },
    {
     "name": "stderr",
     "output_type": "stream",
     "text": [
      "sacct: error: slurm_persist_conn_open_without_init: failed to open persistent connection to host:localhost:6819: Connection refused\n",
      "sacct: error: Sending PersistInit msg: Connection refused\n",
      "sacct: error: Problem talking to the database: Connection refused\n",
      "submitit WARNING (2023-11-15 23:39:17,268) - Call #8 - Bypassing sacct error Command '['sacct', '-o', 'JobID,State,NodeList', '--parsable2', '-j', '1880628', '-j', '1880686', '-j', '1880630', '-j', '1880715', '-j', '1880687', '-j', '1880676', '-j', '1880638', '-j', '1880684', '-j', '1880677', '-j', '1880632', '-j', '1880661', '-j', '1880675', '-j', '1880646', '-j', '1880663', '-j', '1880721', '-j', '1880642', '-j', '1880650', '-j', '1880629', '-j', '1880667', '-j', '1880720', '-j', '1880634', '-j', '1880714', '-j', '1880641', '-j', '1880627', '-j', '1880631', '-j', '1880655', '-j', '1880656', '-j', '1880662', '-j', '1880640', '-j', '1880681', '-j', '1880659', '-j', '1880685', '-j', '1880719', '-j', '1880692', '-j', '1880688', '-j', '1880633', '-j', '1880635', '-j', '1880645', '-j', '1880694', '-j', '1880695', '-j', '1880665', '-j', '1880701', '-j', '1880651', '-j', '1880653', '-j', '1880709', '-j', '1880678', '-j', '1880704', '-j', '1880643', '-j', '1880673', '-j', '1880654', '-j', '1880636', '-j', '1880644', '-j', '1880689', '-j', '1880690', '-j', '1880710', '-j', '1880679', '-j', '1880682', '-j', '1880722', '-j', '1880693', '-j', '1880669', '-j', '1880660', '-j', '1880657', '-j', '1880705', '-j', '1880712', '-j', '1880647', '-j', '1880698', '-j', '1880649', '-j', '1880699', '-j', '1880664', '-j', '1880670', '-j', '1880708', '-j', '1880637', '-j', '1880648', '-j', '1880700', '-j', '1880639', '-j', '1880680', '-j', '1880671', '-j', '1880716', '-j', '1880717', '-j', '1880713', '-j', '1880672', '-j', '1880707', '-j', '1880711', '-j', '1880691', '-j', '1880658', '-j', '1880668', '-j', '1880706', '-j', '1880703', '-j', '1880697', '-j', '1880674', '-j', '1880666', '-j', '1880683', '-j', '1880696', '-j', '1880652', '-j', '1880702', '-j', '1880718']' returned non-zero exit status 1., status may be inaccurate.\n"
     ]
    },
    {
     "name": "stdout",
     "output_type": "stream",
     "text": [
      "submitit WARNING (2023-11-15 23:39:17,268) - Call #8 - Bypassing sacct error Command '['sacct', '-o', 'JobID,State,NodeList', '--parsable2', '-j', '1880628', '-j', '1880686', '-j', '1880630', '-j', '1880715', '-j', '1880687', '-j', '1880676', '-j', '1880638', '-j', '1880684', '-j', '1880677', '-j', '1880632', '-j', '1880661', '-j', '1880675', '-j', '1880646', '-j', '1880663', '-j', '1880721', '-j', '1880642', '-j', '1880650', '-j', '1880629', '-j', '1880667', '-j', '1880720', '-j', '1880634', '-j', '1880714', '-j', '1880641', '-j', '1880627', '-j', '1880631', '-j', '1880655', '-j', '1880656', '-j', '1880662', '-j', '1880640', '-j', '1880681', '-j', '1880659', '-j', '1880685', '-j', '1880719', '-j', '1880692', '-j', '1880688', '-j', '1880633', '-j', '1880635', '-j', '1880645', '-j', '1880694', '-j', '1880695', '-j', '1880665', '-j', '1880701', '-j', '1880651', '-j', '1880653', '-j', '1880709', '-j', '1880678', '-j', '1880704', '-j', '1880643', '-j', '1880673', '-j', '1880654', '-j', '1880636', '-j', '1880644', '-j', '1880689', '-j', '1880690', '-j', '1880710', '-j', '1880679', '-j', '1880682', '-j', '1880722', '-j', '1880693', '-j', '1880669', '-j', '1880660', '-j', '1880657', '-j', '1880705', '-j', '1880712', '-j', '1880647', '-j', '1880698', '-j', '1880649', '-j', '1880699', '-j', '1880664', '-j', '1880670', '-j', '1880708', '-j', '1880637', '-j', '1880648', '-j', '1880700', '-j', '1880639', '-j', '1880680', '-j', '1880671', '-j', '1880716', '-j', '1880717', '-j', '1880713', '-j', '1880672', '-j', '1880707', '-j', '1880711', '-j', '1880691', '-j', '1880658', '-j', '1880668', '-j', '1880706', '-j', '1880703', '-j', '1880697', '-j', '1880674', '-j', '1880666', '-j', '1880683', '-j', '1880696', '-j', '1880652', '-j', '1880702', '-j', '1880718']' returned non-zero exit status 1., status may be inaccurate.\n"
     ]
    },
    {
     "name": "stderr",
     "output_type": "stream",
     "text": [
      "sacct: error: slurm_persist_conn_open_without_init: failed to open persistent connection to host:localhost:6819: Connection refused\n",
      "sacct: error: Sending PersistInit msg: Connection refused\n",
      "sacct: error: Problem talking to the database: Connection refused\n",
      "submitit WARNING (2023-11-15 23:42:29,677) - Call #9 - Bypassing sacct error Command '['sacct', '-o', 'JobID,State,NodeList', '--parsable2', '-j', '1880628', '-j', '1880686', '-j', '1880630', '-j', '1880715', '-j', '1880687', '-j', '1880676', '-j', '1880638', '-j', '1880684', '-j', '1880677', '-j', '1880632', '-j', '1880661', '-j', '1880675', '-j', '1880646', '-j', '1880663', '-j', '1880721', '-j', '1880642', '-j', '1880650', '-j', '1880629', '-j', '1880667', '-j', '1880720', '-j', '1880634', '-j', '1880714', '-j', '1880641', '-j', '1880627', '-j', '1880631', '-j', '1880655', '-j', '1880656', '-j', '1880662', '-j', '1880640', '-j', '1880681', '-j', '1880659', '-j', '1880685', '-j', '1880719', '-j', '1880692', '-j', '1880688', '-j', '1880633', '-j', '1880635', '-j', '1880645', '-j', '1880694', '-j', '1880695', '-j', '1880665', '-j', '1880701', '-j', '1880651', '-j', '1880653', '-j', '1880709', '-j', '1880678', '-j', '1880704', '-j', '1880643', '-j', '1880673', '-j', '1880654', '-j', '1880636', '-j', '1880644', '-j', '1880689', '-j', '1880690', '-j', '1880710', '-j', '1880679', '-j', '1880682', '-j', '1880722', '-j', '1880693', '-j', '1880669', '-j', '1880660', '-j', '1880657', '-j', '1880705', '-j', '1880712', '-j', '1880647', '-j', '1880698', '-j', '1880649', '-j', '1880699', '-j', '1880664', '-j', '1880670', '-j', '1880708', '-j', '1880637', '-j', '1880648', '-j', '1880700', '-j', '1880639', '-j', '1880680', '-j', '1880671', '-j', '1880716', '-j', '1880717', '-j', '1880713', '-j', '1880672', '-j', '1880707', '-j', '1880711', '-j', '1880691', '-j', '1880658', '-j', '1880668', '-j', '1880706', '-j', '1880703', '-j', '1880697', '-j', '1880674', '-j', '1880666', '-j', '1880683', '-j', '1880696', '-j', '1880652', '-j', '1880702', '-j', '1880718']' returned non-zero exit status 1., status may be inaccurate.\n"
     ]
    },
    {
     "name": "stdout",
     "output_type": "stream",
     "text": [
      "submitit WARNING (2023-11-15 23:42:29,677) - Call #9 - Bypassing sacct error Command '['sacct', '-o', 'JobID,State,NodeList', '--parsable2', '-j', '1880628', '-j', '1880686', '-j', '1880630', '-j', '1880715', '-j', '1880687', '-j', '1880676', '-j', '1880638', '-j', '1880684', '-j', '1880677', '-j', '1880632', '-j', '1880661', '-j', '1880675', '-j', '1880646', '-j', '1880663', '-j', '1880721', '-j', '1880642', '-j', '1880650', '-j', '1880629', '-j', '1880667', '-j', '1880720', '-j', '1880634', '-j', '1880714', '-j', '1880641', '-j', '1880627', '-j', '1880631', '-j', '1880655', '-j', '1880656', '-j', '1880662', '-j', '1880640', '-j', '1880681', '-j', '1880659', '-j', '1880685', '-j', '1880719', '-j', '1880692', '-j', '1880688', '-j', '1880633', '-j', '1880635', '-j', '1880645', '-j', '1880694', '-j', '1880695', '-j', '1880665', '-j', '1880701', '-j', '1880651', '-j', '1880653', '-j', '1880709', '-j', '1880678', '-j', '1880704', '-j', '1880643', '-j', '1880673', '-j', '1880654', '-j', '1880636', '-j', '1880644', '-j', '1880689', '-j', '1880690', '-j', '1880710', '-j', '1880679', '-j', '1880682', '-j', '1880722', '-j', '1880693', '-j', '1880669', '-j', '1880660', '-j', '1880657', '-j', '1880705', '-j', '1880712', '-j', '1880647', '-j', '1880698', '-j', '1880649', '-j', '1880699', '-j', '1880664', '-j', '1880670', '-j', '1880708', '-j', '1880637', '-j', '1880648', '-j', '1880700', '-j', '1880639', '-j', '1880680', '-j', '1880671', '-j', '1880716', '-j', '1880717', '-j', '1880713', '-j', '1880672', '-j', '1880707', '-j', '1880711', '-j', '1880691', '-j', '1880658', '-j', '1880668', '-j', '1880706', '-j', '1880703', '-j', '1880697', '-j', '1880674', '-j', '1880666', '-j', '1880683', '-j', '1880696', '-j', '1880652', '-j', '1880702', '-j', '1880718']' returned non-zero exit status 1., status may be inaccurate.\n",
      "72\n",
      "48\n"
     ]
    }
   ],
   "source": [
    "results = []\n",
    "\n",
    "for job in jobs:\n",
    "    try:\n",
    "        result = job.result()\n",
    "        results.append(result)\n",
    "    except Exception as e:\n",
    "        print(f\"Job {job.job_id} failed with exception: {e}\")\n",
    "\n",
    "# remove None\n",
    "print(len(results))\n",
    "results = [r for r in results if r is not None]\n",
    "print(len(results))\n",
    "df = pd.DataFrame(results)\n",
    "melted_results = df.explode(['neg_mean_squared_error', \"r2\"])\n",
    "#melted_results = melted_results.drop(columns=[\"scores\"])\n",
    "#melted_results.to_csv(\"../results/results_all_01_10.csv\", index=False)\n",
    "#melted_results.to_csv(\"../results/results_all_02_10_bert_pooling.csv\", index=False)\n",
    "# append to \"../results/results_all_02_10_bert_pooling.csv\"\n",
    "#melted_results.to_csv(\"../results/results_all_04_10.csv\", index=False)\n",
    "#melted_results.to_csv(\"../results/results_movies_2023.csv\", index=False)"
   ]
  },
  {
   "cell_type": "code",
   "execution_count": 25,
   "metadata": {},
   "outputs": [],
   "source": [
    "# save to csv\n",
    "melted_results.to_csv(\"../results/results_all_cities_pop_log_100.csv\", index=False)"
   ]
  },
  {
   "cell_type": "code",
   "execution_count": 1,
   "metadata": {},
   "outputs": [],
   "source": [
    "import pandas as pd\n",
    "melted_results = pd.read_csv(\"../results/results_european_cities_pop_log.csv\")"
   ]
  },
  {
   "cell_type": "code",
   "execution_count": 24,
   "metadata": {},
   "outputs": [
    {
     "data": {
      "application/vnd.plotly.v1+json": {
       "config": {
        "plotlyServerURL": "https://plot.ly"
       },
       "data": [
        {
         "boxpoints": "outliers",
         "jitter": 0.5,
         "line": {
          "width": 1
         },
         "marker": {
          "color": "darkblue",
          "size": 2
         },
         "name": "MinHashEncoder",
         "type": "box",
         "whiskerwidth": 0.2,
         "x": [
          -0.0158818299841474,
          -0.0116450960793785,
          -0.0388902928935546,
          -0.0248759134433504,
          -0.0096479261008937
         ]
        },
        {
         "boxpoints": "outliers",
         "jitter": 0.5,
         "line": {
          "width": 1
         },
         "marker": {
          "color": "darkblue",
          "size": 2
         },
         "name": "OpenAI",
         "type": "box",
         "whiskerwidth": 0.2,
         "x": [
          0.0699892375059657,
          0.1432984946469174,
          0.0971428190432632,
          0.1371839693303347,
          0.0230020930887818
         ]
        }
       ],
       "layout": {
        "autosize": false,
        "font": {
         "color": "black",
         "family": "Arial, monospace",
         "size": 23
        },
        "height": 600,
        "margin": {
         "b": 100,
         "l": 50,
         "pad": 4,
         "r": 50,
         "t": 100
        },
        "paper_bgcolor": "white",
        "shapes": [
         {
          "line": {
           "color": "LightSeaGreen",
           "dash": "dash",
           "width": 1.5
          },
          "type": "line",
          "x0": 0,
          "x1": 0,
          "xref": "x",
          "y0": 0,
          "y1": 1,
          "yref": "paper"
         }
        ],
        "showlegend": false,
        "template": {
         "data": {
          "bar": [
           {
            "error_x": {
             "color": "rgb(36,36,36)"
            },
            "error_y": {
             "color": "rgb(36,36,36)"
            },
            "marker": {
             "line": {
              "color": "white",
              "width": 0.5
             },
             "pattern": {
              "fillmode": "overlay",
              "size": 10,
              "solidity": 0.2
             }
            },
            "type": "bar"
           }
          ],
          "barpolar": [
           {
            "marker": {
             "line": {
              "color": "white",
              "width": 0.5
             },
             "pattern": {
              "fillmode": "overlay",
              "size": 10,
              "solidity": 0.2
             }
            },
            "type": "barpolar"
           }
          ],
          "carpet": [
           {
            "aaxis": {
             "endlinecolor": "rgb(36,36,36)",
             "gridcolor": "white",
             "linecolor": "white",
             "minorgridcolor": "white",
             "startlinecolor": "rgb(36,36,36)"
            },
            "baxis": {
             "endlinecolor": "rgb(36,36,36)",
             "gridcolor": "white",
             "linecolor": "white",
             "minorgridcolor": "white",
             "startlinecolor": "rgb(36,36,36)"
            },
            "type": "carpet"
           }
          ],
          "choropleth": [
           {
            "colorbar": {
             "outlinewidth": 1,
             "tickcolor": "rgb(36,36,36)",
             "ticks": "outside"
            },
            "type": "choropleth"
           }
          ],
          "contour": [
           {
            "colorbar": {
             "outlinewidth": 1,
             "tickcolor": "rgb(36,36,36)",
             "ticks": "outside"
            },
            "colorscale": [
             [
              0,
              "#440154"
             ],
             [
              0.1111111111111111,
              "#482878"
             ],
             [
              0.2222222222222222,
              "#3e4989"
             ],
             [
              0.3333333333333333,
              "#31688e"
             ],
             [
              0.4444444444444444,
              "#26828e"
             ],
             [
              0.5555555555555556,
              "#1f9e89"
             ],
             [
              0.6666666666666666,
              "#35b779"
             ],
             [
              0.7777777777777778,
              "#6ece58"
             ],
             [
              0.8888888888888888,
              "#b5de2b"
             ],
             [
              1,
              "#fde725"
             ]
            ],
            "type": "contour"
           }
          ],
          "contourcarpet": [
           {
            "colorbar": {
             "outlinewidth": 1,
             "tickcolor": "rgb(36,36,36)",
             "ticks": "outside"
            },
            "type": "contourcarpet"
           }
          ],
          "heatmap": [
           {
            "colorbar": {
             "outlinewidth": 1,
             "tickcolor": "rgb(36,36,36)",
             "ticks": "outside"
            },
            "colorscale": [
             [
              0,
              "#440154"
             ],
             [
              0.1111111111111111,
              "#482878"
             ],
             [
              0.2222222222222222,
              "#3e4989"
             ],
             [
              0.3333333333333333,
              "#31688e"
             ],
             [
              0.4444444444444444,
              "#26828e"
             ],
             [
              0.5555555555555556,
              "#1f9e89"
             ],
             [
              0.6666666666666666,
              "#35b779"
             ],
             [
              0.7777777777777778,
              "#6ece58"
             ],
             [
              0.8888888888888888,
              "#b5de2b"
             ],
             [
              1,
              "#fde725"
             ]
            ],
            "type": "heatmap"
           }
          ],
          "heatmapgl": [
           {
            "colorbar": {
             "outlinewidth": 1,
             "tickcolor": "rgb(36,36,36)",
             "ticks": "outside"
            },
            "colorscale": [
             [
              0,
              "#440154"
             ],
             [
              0.1111111111111111,
              "#482878"
             ],
             [
              0.2222222222222222,
              "#3e4989"
             ],
             [
              0.3333333333333333,
              "#31688e"
             ],
             [
              0.4444444444444444,
              "#26828e"
             ],
             [
              0.5555555555555556,
              "#1f9e89"
             ],
             [
              0.6666666666666666,
              "#35b779"
             ],
             [
              0.7777777777777778,
              "#6ece58"
             ],
             [
              0.8888888888888888,
              "#b5de2b"
             ],
             [
              1,
              "#fde725"
             ]
            ],
            "type": "heatmapgl"
           }
          ],
          "histogram": [
           {
            "marker": {
             "line": {
              "color": "white",
              "width": 0.6
             }
            },
            "type": "histogram"
           }
          ],
          "histogram2d": [
           {
            "colorbar": {
             "outlinewidth": 1,
             "tickcolor": "rgb(36,36,36)",
             "ticks": "outside"
            },
            "colorscale": [
             [
              0,
              "#440154"
             ],
             [
              0.1111111111111111,
              "#482878"
             ],
             [
              0.2222222222222222,
              "#3e4989"
             ],
             [
              0.3333333333333333,
              "#31688e"
             ],
             [
              0.4444444444444444,
              "#26828e"
             ],
             [
              0.5555555555555556,
              "#1f9e89"
             ],
             [
              0.6666666666666666,
              "#35b779"
             ],
             [
              0.7777777777777778,
              "#6ece58"
             ],
             [
              0.8888888888888888,
              "#b5de2b"
             ],
             [
              1,
              "#fde725"
             ]
            ],
            "type": "histogram2d"
           }
          ],
          "histogram2dcontour": [
           {
            "colorbar": {
             "outlinewidth": 1,
             "tickcolor": "rgb(36,36,36)",
             "ticks": "outside"
            },
            "colorscale": [
             [
              0,
              "#440154"
             ],
             [
              0.1111111111111111,
              "#482878"
             ],
             [
              0.2222222222222222,
              "#3e4989"
             ],
             [
              0.3333333333333333,
              "#31688e"
             ],
             [
              0.4444444444444444,
              "#26828e"
             ],
             [
              0.5555555555555556,
              "#1f9e89"
             ],
             [
              0.6666666666666666,
              "#35b779"
             ],
             [
              0.7777777777777778,
              "#6ece58"
             ],
             [
              0.8888888888888888,
              "#b5de2b"
             ],
             [
              1,
              "#fde725"
             ]
            ],
            "type": "histogram2dcontour"
           }
          ],
          "mesh3d": [
           {
            "colorbar": {
             "outlinewidth": 1,
             "tickcolor": "rgb(36,36,36)",
             "ticks": "outside"
            },
            "type": "mesh3d"
           }
          ],
          "parcoords": [
           {
            "line": {
             "colorbar": {
              "outlinewidth": 1,
              "tickcolor": "rgb(36,36,36)",
              "ticks": "outside"
             }
            },
            "type": "parcoords"
           }
          ],
          "pie": [
           {
            "automargin": true,
            "type": "pie"
           }
          ],
          "scatter": [
           {
            "fillpattern": {
             "fillmode": "overlay",
             "size": 10,
             "solidity": 0.2
            },
            "type": "scatter"
           }
          ],
          "scatter3d": [
           {
            "line": {
             "colorbar": {
              "outlinewidth": 1,
              "tickcolor": "rgb(36,36,36)",
              "ticks": "outside"
             }
            },
            "marker": {
             "colorbar": {
              "outlinewidth": 1,
              "tickcolor": "rgb(36,36,36)",
              "ticks": "outside"
             }
            },
            "type": "scatter3d"
           }
          ],
          "scattercarpet": [
           {
            "marker": {
             "colorbar": {
              "outlinewidth": 1,
              "tickcolor": "rgb(36,36,36)",
              "ticks": "outside"
             }
            },
            "type": "scattercarpet"
           }
          ],
          "scattergeo": [
           {
            "marker": {
             "colorbar": {
              "outlinewidth": 1,
              "tickcolor": "rgb(36,36,36)",
              "ticks": "outside"
             }
            },
            "type": "scattergeo"
           }
          ],
          "scattergl": [
           {
            "marker": {
             "colorbar": {
              "outlinewidth": 1,
              "tickcolor": "rgb(36,36,36)",
              "ticks": "outside"
             }
            },
            "type": "scattergl"
           }
          ],
          "scattermapbox": [
           {
            "marker": {
             "colorbar": {
              "outlinewidth": 1,
              "tickcolor": "rgb(36,36,36)",
              "ticks": "outside"
             }
            },
            "type": "scattermapbox"
           }
          ],
          "scatterpolar": [
           {
            "marker": {
             "colorbar": {
              "outlinewidth": 1,
              "tickcolor": "rgb(36,36,36)",
              "ticks": "outside"
             }
            },
            "type": "scatterpolar"
           }
          ],
          "scatterpolargl": [
           {
            "marker": {
             "colorbar": {
              "outlinewidth": 1,
              "tickcolor": "rgb(36,36,36)",
              "ticks": "outside"
             }
            },
            "type": "scatterpolargl"
           }
          ],
          "scatterternary": [
           {
            "marker": {
             "colorbar": {
              "outlinewidth": 1,
              "tickcolor": "rgb(36,36,36)",
              "ticks": "outside"
             }
            },
            "type": "scatterternary"
           }
          ],
          "surface": [
           {
            "colorbar": {
             "outlinewidth": 1,
             "tickcolor": "rgb(36,36,36)",
             "ticks": "outside"
            },
            "colorscale": [
             [
              0,
              "#440154"
             ],
             [
              0.1111111111111111,
              "#482878"
             ],
             [
              0.2222222222222222,
              "#3e4989"
             ],
             [
              0.3333333333333333,
              "#31688e"
             ],
             [
              0.4444444444444444,
              "#26828e"
             ],
             [
              0.5555555555555556,
              "#1f9e89"
             ],
             [
              0.6666666666666666,
              "#35b779"
             ],
             [
              0.7777777777777778,
              "#6ece58"
             ],
             [
              0.8888888888888888,
              "#b5de2b"
             ],
             [
              1,
              "#fde725"
             ]
            ],
            "type": "surface"
           }
          ],
          "table": [
           {
            "cells": {
             "fill": {
              "color": "rgb(237,237,237)"
             },
             "line": {
              "color": "white"
             }
            },
            "header": {
             "fill": {
              "color": "rgb(217,217,217)"
             },
             "line": {
              "color": "white"
             }
            },
            "type": "table"
           }
          ]
         },
         "layout": {
          "annotationdefaults": {
           "arrowhead": 0,
           "arrowwidth": 1
          },
          "autotypenumbers": "strict",
          "coloraxis": {
           "colorbar": {
            "outlinewidth": 1,
            "tickcolor": "rgb(36,36,36)",
            "ticks": "outside"
           }
          },
          "colorscale": {
           "diverging": [
            [
             0,
             "rgb(103,0,31)"
            ],
            [
             0.1,
             "rgb(178,24,43)"
            ],
            [
             0.2,
             "rgb(214,96,77)"
            ],
            [
             0.3,
             "rgb(244,165,130)"
            ],
            [
             0.4,
             "rgb(253,219,199)"
            ],
            [
             0.5,
             "rgb(247,247,247)"
            ],
            [
             0.6,
             "rgb(209,229,240)"
            ],
            [
             0.7,
             "rgb(146,197,222)"
            ],
            [
             0.8,
             "rgb(67,147,195)"
            ],
            [
             0.9,
             "rgb(33,102,172)"
            ],
            [
             1,
             "rgb(5,48,97)"
            ]
           ],
           "sequential": [
            [
             0,
             "#440154"
            ],
            [
             0.1111111111111111,
             "#482878"
            ],
            [
             0.2222222222222222,
             "#3e4989"
            ],
            [
             0.3333333333333333,
             "#31688e"
            ],
            [
             0.4444444444444444,
             "#26828e"
            ],
            [
             0.5555555555555556,
             "#1f9e89"
            ],
            [
             0.6666666666666666,
             "#35b779"
            ],
            [
             0.7777777777777778,
             "#6ece58"
            ],
            [
             0.8888888888888888,
             "#b5de2b"
            ],
            [
             1,
             "#fde725"
            ]
           ],
           "sequentialminus": [
            [
             0,
             "#440154"
            ],
            [
             0.1111111111111111,
             "#482878"
            ],
            [
             0.2222222222222222,
             "#3e4989"
            ],
            [
             0.3333333333333333,
             "#31688e"
            ],
            [
             0.4444444444444444,
             "#26828e"
            ],
            [
             0.5555555555555556,
             "#1f9e89"
            ],
            [
             0.6666666666666666,
             "#35b779"
            ],
            [
             0.7777777777777778,
             "#6ece58"
            ],
            [
             0.8888888888888888,
             "#b5de2b"
            ],
            [
             1,
             "#fde725"
            ]
           ]
          },
          "colorway": [
           "#1F77B4",
           "#FF7F0E",
           "#2CA02C",
           "#D62728",
           "#9467BD",
           "#8C564B",
           "#E377C2",
           "#7F7F7F",
           "#BCBD22",
           "#17BECF"
          ],
          "font": {
           "color": "rgb(36,36,36)"
          },
          "geo": {
           "bgcolor": "white",
           "lakecolor": "white",
           "landcolor": "white",
           "showlakes": true,
           "showland": true,
           "subunitcolor": "white"
          },
          "hoverlabel": {
           "align": "left"
          },
          "hovermode": "closest",
          "mapbox": {
           "style": "light"
          },
          "paper_bgcolor": "white",
          "plot_bgcolor": "white",
          "polar": {
           "angularaxis": {
            "gridcolor": "rgb(232,232,232)",
            "linecolor": "rgb(36,36,36)",
            "showgrid": false,
            "showline": true,
            "ticks": "outside"
           },
           "bgcolor": "white",
           "radialaxis": {
            "gridcolor": "rgb(232,232,232)",
            "linecolor": "rgb(36,36,36)",
            "showgrid": false,
            "showline": true,
            "ticks": "outside"
           }
          },
          "scene": {
           "xaxis": {
            "backgroundcolor": "white",
            "gridcolor": "rgb(232,232,232)",
            "gridwidth": 2,
            "linecolor": "rgb(36,36,36)",
            "showbackground": true,
            "showgrid": false,
            "showline": true,
            "ticks": "outside",
            "zeroline": false,
            "zerolinecolor": "rgb(36,36,36)"
           },
           "yaxis": {
            "backgroundcolor": "white",
            "gridcolor": "rgb(232,232,232)",
            "gridwidth": 2,
            "linecolor": "rgb(36,36,36)",
            "showbackground": true,
            "showgrid": false,
            "showline": true,
            "ticks": "outside",
            "zeroline": false,
            "zerolinecolor": "rgb(36,36,36)"
           },
           "zaxis": {
            "backgroundcolor": "white",
            "gridcolor": "rgb(232,232,232)",
            "gridwidth": 2,
            "linecolor": "rgb(36,36,36)",
            "showbackground": true,
            "showgrid": false,
            "showline": true,
            "ticks": "outside",
            "zeroline": false,
            "zerolinecolor": "rgb(36,36,36)"
           }
          },
          "shapedefaults": {
           "fillcolor": "black",
           "line": {
            "width": 0
           },
           "opacity": 0.3
          },
          "ternary": {
           "aaxis": {
            "gridcolor": "rgb(232,232,232)",
            "linecolor": "rgb(36,36,36)",
            "showgrid": false,
            "showline": true,
            "ticks": "outside"
           },
           "baxis": {
            "gridcolor": "rgb(232,232,232)",
            "linecolor": "rgb(36,36,36)",
            "showgrid": false,
            "showline": true,
            "ticks": "outside"
           },
           "bgcolor": "white",
           "caxis": {
            "gridcolor": "rgb(232,232,232)",
            "linecolor": "rgb(36,36,36)",
            "showgrid": false,
            "showline": true,
            "ticks": "outside"
           }
          },
          "title": {
           "x": 0.05
          },
          "xaxis": {
           "automargin": true,
           "gridcolor": "rgb(232,232,232)",
           "linecolor": "rgb(36,36,36)",
           "showgrid": false,
           "showline": true,
           "ticks": "outside",
           "title": {
            "standoff": 15
           },
           "zeroline": false,
           "zerolinecolor": "rgb(36,36,36)"
          },
          "yaxis": {
           "automargin": true,
           "gridcolor": "rgb(232,232,232)",
           "linecolor": "rgb(36,36,36)",
           "showgrid": false,
           "showline": true,
           "ticks": "outside",
           "title": {
            "standoff": 15
           },
           "zeroline": false,
           "zerolinecolor": "rgb(36,36,36)"
          }
         }
        },
        "title": {
         "text": "R2 Score on European Cities' Population (log)"
        },
        "width": 800,
        "xaxis": {
         "title": {
          "text": "R2 Score"
         }
        },
        "yaxis": {
         "title": {
          "text": ""
         }
        }
       }
      }
     },
     "metadata": {},
     "output_type": "display_data"
    }
   ],
   "source": [
    "import plotly.graph_objects as go\n",
    "\n",
    "# Filter out the data\n",
    "res_filtered = res[res[\"cv_name\"] == \"custom\"]\n",
    "res_filtered = res_filtered[res_filtered[\"encoding\"].isin([\"openai__\", \"skrub__minhash_30\"])]\n",
    "\n",
    "# Rename the labels\n",
    "res_filtered['encoding'] = res_filtered['encoding'].replace('skrub__minhash_30', 'MinHashEncoder')\n",
    "res_filtered['encoding'] = res_filtered['encoding'].replace('openai__', 'OpenAI')\n",
    "\n",
    "# Create boxplot\n",
    "fig = go.Figure()\n",
    "\n",
    "# Add box traces\n",
    "for encoding in res_filtered['encoding'].unique():\n",
    "    fig.add_trace(go.Box(\n",
    "        x=res_filtered[res_filtered['encoding'] == encoding]['r2'],\n",
    "        name=encoding,\n",
    "        boxpoints='outliers', # show only outliers\n",
    "        jitter=0.5, # spread out data points for visibility\n",
    "        whiskerwidth=0.2, # reduce whisker width\n",
    "        #fillcolor='cls', # fill box with classification color\n",
    "        marker=dict(\n",
    "            size=2, # reduce marker size\n",
    "            color=\"darkblue\"\n",
    "        ),\n",
    "        line=dict(width=1), # reduce line width,\n",
    "    ))\n",
    "\n",
    "# Add vertical line at x=0\n",
    "fig.add_shape(type=\"line\",\n",
    "    xref=\"x\", yref=\"paper\",\n",
    "    x0=0, y0=0, x1=0, y1=1,\n",
    "    line=dict(\n",
    "        color=\"LightSeaGreen\",\n",
    "        width=1.5,\n",
    "        dash=\"dash\",\n",
    "    )\n",
    ")\n",
    "\n",
    "# Set plot title and axis labels\n",
    "fig.update_layout(\n",
    "    title=\"R2 Score on European Cities' Population (log)\",\n",
    "    yaxis_title='',\n",
    "    xaxis_title='R2 Score',\n",
    "    autosize=False,\n",
    "    width=800,\n",
    "    height=600,\n",
    "    margin=dict(\n",
    "        l=50,\n",
    "        r=50,\n",
    "        b=100,\n",
    "        t=100,\n",
    "        pad=4\n",
    "    ),\n",
    "    paper_bgcolor=\"white\",\n",
    "    font=dict(\n",
    "        family=\"Arial, monospace\",\n",
    "        size=23,\n",
    "        color=\"black\"\n",
    "    ),\n",
    "    showlegend=False,\n",
    "    template=\"simple_white\" # use the simple_white template\n",
    "\n",
    ")\n",
    "\n",
    "fig.show()\n",
    "\n",
    "# save as pdf\n",
    "fig.write_image(\"../figures/ood.pdf\")"
   ]
  }
 ],
 "metadata": {
  "kernelspec": {
   "display_name": "Python 3 (ipykernel)",
   "language": "python",
   "name": "python3"
  },
  "language_info": {
   "codemirror_mode": {
    "name": "ipython",
    "version": 3
   },
   "file_extension": ".py",
   "mimetype": "text/x-python",
   "name": "python",
   "nbconvert_exporter": "python",
   "pygments_lexer": "ipython3",
   "version": "3.10.11"
  }
 },
 "nbformat": 4,
 "nbformat_minor": 2
}
