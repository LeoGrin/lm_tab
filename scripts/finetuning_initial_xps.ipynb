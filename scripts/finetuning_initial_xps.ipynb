{
 "cells": [
  {
   "cell_type": "code",
   "execution_count": 1,
   "metadata": {},
   "outputs": [],
   "source": [
    "from dirty_cat.datasets import fetch_employee_salaries, fetch_drug_directory\n",
    "from transformers import BertTokenizer, BertModel\n",
    "import torch\n",
    "from tqdm import tqdm\n",
    "import numpy as np"
   ]
  },
  {
   "cell_type": "code",
   "execution_count": 2,
   "metadata": {},
   "outputs": [],
   "source": [
    "ds = fetch_employee_salaries()\n",
    "#ds = fetch_drug_directory()\n"
   ]
  },
  {
   "cell_type": "code",
   "execution_count": 3,
   "metadata": {},
   "outputs": [],
   "source": [
    "X_original, y_original = ds.X, ds.y\n",
    "# limit to 10K samples\n",
    "X_original = X_original[:10000]\n",
    "y_original = y_original[:10000]"
   ]
  },
  {
   "cell_type": "code",
   "execution_count": 4,
   "metadata": {},
   "outputs": [],
   "source": [
    "column_to_consider = \"employee_position_title\""
   ]
  },
  {
   "cell_type": "code",
   "execution_count": 5,
   "metadata": {},
   "outputs": [],
   "source": [
    "# Dropping NA rows in X_original based on specified columns\n",
    "#X_original = X_original.dropna(subset=[\"gender\", column_to_consider, \"year_first_hired\"])\n",
    "X_original, y_original = X_original.reset_index(drop=True), y_original.reset_index(drop=True)\n",
    "X_original = X_original.dropna(subset=[column_to_consider])\n",
    "\n",
    "# Keeping only the rows in y_original that correspond to the remaining rows in X_original\n",
    "y_original = y_original.loc[X_original.index]\n",
    "\n",
    "# label encoding\n",
    "#y_original = y_original.astype('category')\n",
    "#y_original = y_original.cat.codes\n",
    "y_original = y_original > np.median(y_original)\n",
    "\n",
    "# shuffle\n",
    "indices = np.arange(len(X_original))\n",
    "np.random.shuffle(indices)\n",
    "X_original = X_original.iloc[indices]\n",
    "y_original = y_original.iloc[indices]\n",
    "\n"
   ]
  },
  {
   "cell_type": "code",
   "execution_count": 6,
   "metadata": {},
   "outputs": [
    {
     "data": {
      "text/html": [
       "<div>\n",
       "<style scoped>\n",
       "    .dataframe tbody tr th:only-of-type {\n",
       "        vertical-align: middle;\n",
       "    }\n",
       "\n",
       "    .dataframe tbody tr th {\n",
       "        vertical-align: top;\n",
       "    }\n",
       "\n",
       "    .dataframe thead th {\n",
       "        text-align: right;\n",
       "    }\n",
       "</style>\n",
       "<table border=\"1\" class=\"dataframe\">\n",
       "  <thead>\n",
       "    <tr style=\"text-align: right;\">\n",
       "      <th></th>\n",
       "      <th>gender</th>\n",
       "      <th>department</th>\n",
       "      <th>department_name</th>\n",
       "      <th>division</th>\n",
       "      <th>assignment_category</th>\n",
       "      <th>employee_position_title</th>\n",
       "      <th>underfilled_job_title</th>\n",
       "      <th>date_first_hired</th>\n",
       "      <th>year_first_hired</th>\n",
       "    </tr>\n",
       "  </thead>\n",
       "  <tbody>\n",
       "    <tr>\n",
       "      <th>1234</th>\n",
       "      <td>M</td>\n",
       "      <td>POL</td>\n",
       "      <td>Department of Police</td>\n",
       "      <td>PSB 4th District Patrol</td>\n",
       "      <td>Fulltime-Regular</td>\n",
       "      <td>Police Officer III</td>\n",
       "      <td>NaN</td>\n",
       "      <td>01/14/2008</td>\n",
       "      <td>2008</td>\n",
       "    </tr>\n",
       "    <tr>\n",
       "      <th>7745</th>\n",
       "      <td>M</td>\n",
       "      <td>POL</td>\n",
       "      <td>Department of Police</td>\n",
       "      <td>MSB Training and Education Division</td>\n",
       "      <td>Fulltime-Regular</td>\n",
       "      <td>Police Officer Candidate</td>\n",
       "      <td>NaN</td>\n",
       "      <td>07/11/2016</td>\n",
       "      <td>2016</td>\n",
       "    </tr>\n",
       "    <tr>\n",
       "      <th>2978</th>\n",
       "      <td>M</td>\n",
       "      <td>DGS</td>\n",
       "      <td>Department of General Services</td>\n",
       "      <td>Fleet Management Administration</td>\n",
       "      <td>Fulltime-Regular</td>\n",
       "      <td>Equipment Services Coordinator</td>\n",
       "      <td>NaN</td>\n",
       "      <td>05/31/2005</td>\n",
       "      <td>2005</td>\n",
       "    </tr>\n",
       "    <tr>\n",
       "      <th>285</th>\n",
       "      <td>M</td>\n",
       "      <td>POL</td>\n",
       "      <td>Department of Police</td>\n",
       "      <td>PSB 3rd District Patrol</td>\n",
       "      <td>Fulltime-Regular</td>\n",
       "      <td>Police Officer III</td>\n",
       "      <td>NaN</td>\n",
       "      <td>07/12/2010</td>\n",
       "      <td>2010</td>\n",
       "    </tr>\n",
       "    <tr>\n",
       "      <th>8928</th>\n",
       "      <td>M</td>\n",
       "      <td>DLC</td>\n",
       "      <td>Department of Liquor Control</td>\n",
       "      <td>Beer Delivery Operations</td>\n",
       "      <td>Fulltime-Regular</td>\n",
       "      <td>Truck Driver Helper/Warehouse Worker</td>\n",
       "      <td>NaN</td>\n",
       "      <td>08/31/2005</td>\n",
       "      <td>2005</td>\n",
       "    </tr>\n",
       "    <tr>\n",
       "      <th>...</th>\n",
       "      <td>...</td>\n",
       "      <td>...</td>\n",
       "      <td>...</td>\n",
       "      <td>...</td>\n",
       "      <td>...</td>\n",
       "      <td>...</td>\n",
       "      <td>...</td>\n",
       "      <td>...</td>\n",
       "      <td>...</td>\n",
       "    </tr>\n",
       "    <tr>\n",
       "      <th>338</th>\n",
       "      <td>F</td>\n",
       "      <td>HHS</td>\n",
       "      <td>Department of Health and Human Services</td>\n",
       "      <td>Contract Team</td>\n",
       "      <td>Fulltime-Regular</td>\n",
       "      <td>Office Services Coordinator</td>\n",
       "      <td>NaN</td>\n",
       "      <td>10/17/1994</td>\n",
       "      <td>1994</td>\n",
       "    </tr>\n",
       "    <tr>\n",
       "      <th>7131</th>\n",
       "      <td>M</td>\n",
       "      <td>DOT</td>\n",
       "      <td>Department of Transportation</td>\n",
       "      <td>Transit Silver Spring Ride On</td>\n",
       "      <td>Fulltime-Regular</td>\n",
       "      <td>Bus Operator</td>\n",
       "      <td>NaN</td>\n",
       "      <td>04/04/2016</td>\n",
       "      <td>2016</td>\n",
       "    </tr>\n",
       "    <tr>\n",
       "      <th>7205</th>\n",
       "      <td>F</td>\n",
       "      <td>DLC</td>\n",
       "      <td>Department of Liquor Control</td>\n",
       "      <td>Licensure, Regulation and Education</td>\n",
       "      <td>Fulltime-Regular</td>\n",
       "      <td>Program Manager II</td>\n",
       "      <td>NaN</td>\n",
       "      <td>11/09/2009</td>\n",
       "      <td>2009</td>\n",
       "    </tr>\n",
       "    <tr>\n",
       "      <th>5089</th>\n",
       "      <td>F</td>\n",
       "      <td>HHS</td>\n",
       "      <td>Department of Health and Human Services</td>\n",
       "      <td>Care Coordination</td>\n",
       "      <td>Fulltime-Regular</td>\n",
       "      <td>Community Health Nurse II</td>\n",
       "      <td>NaN</td>\n",
       "      <td>06/13/2005</td>\n",
       "      <td>2005</td>\n",
       "    </tr>\n",
       "    <tr>\n",
       "      <th>3938</th>\n",
       "      <td>F</td>\n",
       "      <td>POL</td>\n",
       "      <td>Department of Police</td>\n",
       "      <td>PSB 6th District Station</td>\n",
       "      <td>Fulltime-Regular</td>\n",
       "      <td>Police Lieutenant</td>\n",
       "      <td>NaN</td>\n",
       "      <td>07/12/1982</td>\n",
       "      <td>1982</td>\n",
       "    </tr>\n",
       "  </tbody>\n",
       "</table>\n",
       "<p>9228 rows × 9 columns</p>\n",
       "</div>"
      ],
      "text/plain": [
       "     gender department                          department_name  \\\n",
       "1234      M        POL                     Department of Police   \n",
       "7745      M        POL                     Department of Police   \n",
       "2978      M        DGS           Department of General Services   \n",
       "285       M        POL                     Department of Police   \n",
       "8928      M        DLC             Department of Liquor Control   \n",
       "...     ...        ...                                      ...   \n",
       "338       F        HHS  Department of Health and Human Services   \n",
       "7131      M        DOT             Department of Transportation   \n",
       "7205      F        DLC             Department of Liquor Control   \n",
       "5089      F        HHS  Department of Health and Human Services   \n",
       "3938      F        POL                     Department of Police   \n",
       "\n",
       "                                 division assignment_category  \\\n",
       "1234              PSB 4th District Patrol    Fulltime-Regular   \n",
       "7745  MSB Training and Education Division    Fulltime-Regular   \n",
       "2978      Fleet Management Administration    Fulltime-Regular   \n",
       "285               PSB 3rd District Patrol    Fulltime-Regular   \n",
       "8928             Beer Delivery Operations    Fulltime-Regular   \n",
       "...                                   ...                 ...   \n",
       "338                         Contract Team    Fulltime-Regular   \n",
       "7131        Transit Silver Spring Ride On    Fulltime-Regular   \n",
       "7205  Licensure, Regulation and Education    Fulltime-Regular   \n",
       "5089                    Care Coordination    Fulltime-Regular   \n",
       "3938             PSB 6th District Station    Fulltime-Regular   \n",
       "\n",
       "                   employee_position_title underfilled_job_title  \\\n",
       "1234                    Police Officer III                   NaN   \n",
       "7745              Police Officer Candidate                   NaN   \n",
       "2978        Equipment Services Coordinator                   NaN   \n",
       "285                     Police Officer III                   NaN   \n",
       "8928  Truck Driver Helper/Warehouse Worker                   NaN   \n",
       "...                                    ...                   ...   \n",
       "338            Office Services Coordinator                   NaN   \n",
       "7131                          Bus Operator                   NaN   \n",
       "7205                    Program Manager II                   NaN   \n",
       "5089             Community Health Nurse II                   NaN   \n",
       "3938                     Police Lieutenant                   NaN   \n",
       "\n",
       "     date_first_hired  year_first_hired  \n",
       "1234       01/14/2008              2008  \n",
       "7745       07/11/2016              2016  \n",
       "2978       05/31/2005              2005  \n",
       "285        07/12/2010              2010  \n",
       "8928       08/31/2005              2005  \n",
       "...               ...               ...  \n",
       "338        10/17/1994              1994  \n",
       "7131       04/04/2016              2016  \n",
       "7205       11/09/2009              2009  \n",
       "5089       06/13/2005              2005  \n",
       "3938       07/12/1982              1982  \n",
       "\n",
       "[9228 rows x 9 columns]"
      ]
     },
     "execution_count": 6,
     "metadata": {},
     "output_type": "execute_result"
    }
   ],
   "source": [
    "X_original"
   ]
  },
  {
   "cell_type": "code",
   "execution_count": 7,
   "metadata": {},
   "outputs": [
    {
     "name": "stdout",
     "output_type": "stream",
     "text": [
      "Fri Sep 29 16:28:03 2023       \n",
      "+-----------------------------------------------------------------------------+\n",
      "| NVIDIA-SMI 515.48.07    Driver Version: 515.48.07    CUDA Version: 11.7     |\n",
      "|-------------------------------+----------------------+----------------------+\n",
      "| GPU  Name        Persistence-M| Bus-Id        Disp.A | Volatile Uncorr. ECC |\n",
      "| Fan  Temp  Perf  Pwr:Usage/Cap|         Memory-Usage | GPU-Util  Compute M. |\n",
      "|                               |                      |               MIG M. |\n",
      "|===============================+======================+======================|\n",
      "|   0  NVIDIA A100-PCI...  On   | 00000000:C3:00.0 Off |                    0 |\n",
      "| N/A   41C    P0    36W / 250W |   1941MiB / 40960MiB |      0%      Default |\n",
      "|                               |                      |             Disabled |\n",
      "+-------------------------------+----------------------+----------------------+\n",
      "                                                                               \n",
      "+-----------------------------------------------------------------------------+\n",
      "| Processes:                                                                  |\n",
      "|  GPU   GI   CI        PID   Type   Process name                  GPU Memory |\n",
      "|        ID   ID                                                   Usage      |\n",
      "|=============================================================================|\n",
      "|    0   N/A  N/A     26545      C   ...a/envs/dpo/bin/python3.10     1939MiB |\n",
      "+-----------------------------------------------------------------------------+\n"
     ]
    }
   ],
   "source": [
    "!nvidia-smi"
   ]
  },
  {
   "cell_type": "code",
   "execution_count": 8,
   "metadata": {},
   "outputs": [
    {
     "name": "stderr",
     "output_type": "stream",
     "text": [
      "100%|██████████| 289/289 [00:03<00:00, 76.70it/s]\n"
     ]
    }
   ],
   "source": [
    "from transformers import BertTokenizer, BertModel\n",
    "import torch\n",
    "from tqdm import tqdm\n",
    "import numpy as np\n",
    "\n",
    "# Initialize BERT tokenizer and model\n",
    "tokenizer = BertTokenizer.from_pretrained('bert-base-uncased')\n",
    "model = BertModel.from_pretrained('bert-base-uncased')\n",
    "\n",
    "# Move the model to GPU\n",
    "model.to('cuda')\n",
    "\n",
    "# Sample data: list of column_to_consider\n",
    "employee_position_titles = X_original[column_to_consider].tolist()\n",
    "\n",
    "# Function to get BERT embeddings\n",
    "def get_bert_embedding(sentences):\n",
    "    inputs = tokenizer(sentences, padding=True, truncation=True, return_tensors=\"pt\", max_length=128)\n",
    "    \n",
    "    # Move the inputs to GPU\n",
    "    inputs = {name: tensor.to('cuda') for name, tensor in inputs.items()}\n",
    "    \n",
    "    with torch.no_grad():  # Deactivates autograd, reducing memory usage and speeding up computations\n",
    "        outputs = model(**inputs)\n",
    "        \n",
    "    # Using the [CLS] token embedding as sentence embedding\n",
    "    sentence_embeddings = outputs.last_hidden_state[:, 0, :].cpu().detach().numpy()\n",
    "    return sentence_embeddings\n",
    "\n",
    "# Batch the titles (you can adjust the batch size based on your GPU's capabilities)\n",
    "batch_size = 32  # Batch size of 2 as an example\n",
    "batches = [employee_position_titles[i:i + batch_size] for i in range(0, len(employee_position_titles), batch_size)]\n",
    "\n",
    "# Process the batches\n",
    "all_embeddings = []\n",
    "for batch in tqdm(batches):\n",
    "    batch_embeddings = get_bert_embedding(batch)\n",
    "    all_embeddings.append(batch_embeddings)\n",
    "\n",
    "# Combine the batches back into a single array\n",
    "final_embeddings = np.vstack(all_embeddings)\n"
   ]
  },
  {
   "cell_type": "code",
   "execution_count": 39,
   "metadata": {},
   "outputs": [
    {
     "data": {
      "application/vnd.jupyter.widget-view+json": {
       "model_id": "2bcd21ea8ef7457097cf66e72feae8ba",
       "version_major": 2,
       "version_minor": 0
      },
      "text/plain": [
       "Downloading (…)40076/.gitattributes:   0%|          | 0.00/491 [00:00<?, ?B/s]"
      ]
     },
     "metadata": {},
     "output_type": "display_data"
    },
    {
     "data": {
      "application/vnd.jupyter.widget-view+json": {
       "model_id": "743f904c761c47108504852f25470114",
       "version_major": 2,
       "version_minor": 0
      },
      "text/plain": [
       "Downloading (…)eb64c8a40076/LICENSE:   0%|          | 0.00/11.4k [00:00<?, ?B/s]"
      ]
     },
     "metadata": {},
     "output_type": "display_data"
    },
    {
     "data": {
      "application/vnd.jupyter.widget-view+json": {
       "model_id": "e35c2a45f49b4c5189af7b4294e800b0",
       "version_major": 2,
       "version_minor": 0
      },
      "text/plain": [
       "Downloading (…)64c8a40076/README.md:   0%|          | 0.00/10.5k [00:00<?, ?B/s]"
      ]
     },
     "metadata": {},
     "output_type": "display_data"
    },
    {
     "data": {
      "application/vnd.jupyter.widget-view+json": {
       "model_id": "1e899a4f7b2e4f9f8eefd351cff24521",
       "version_major": 2,
       "version_minor": 0
      },
      "text/plain": [
       "Downloading (…)c8a40076/config.json:   0%|          | 0.00/570 [00:00<?, ?B/s]"
      ]
     },
     "metadata": {},
     "output_type": "display_data"
    },
    {
     "data": {
      "application/vnd.jupyter.widget-view+json": {
       "model_id": "f516ad9b85e2485babeb35329a94f4b2",
       "version_major": 2,
       "version_minor": 0
      },
      "text/plain": [
       "Downloading (…)CoreML/model.mlmodel:   0%|          | 0.00/165k [00:00<?, ?B/s]"
      ]
     },
     "metadata": {},
     "output_type": "display_data"
    },
    {
     "data": {
      "application/vnd.jupyter.widget-view+json": {
       "model_id": "afb90647cd004481915e3008e8138983",
       "version_major": 2,
       "version_minor": 0
      },
      "text/plain": [
       "Downloading weight.bin:   0%|          | 0.00/532M [00:00<?, ?B/s]"
      ]
     },
     "metadata": {},
     "output_type": "display_data"
    },
    {
     "data": {
      "application/vnd.jupyter.widget-view+json": {
       "model_id": "30e170853f2c45f8aec5de079b68eef3",
       "version_major": 2,
       "version_minor": 0
      },
      "text/plain": [
       "Downloading (…)ackage/Manifest.json:   0%|          | 0.00/617 [00:00<?, ?B/s]"
      ]
     },
     "metadata": {},
     "output_type": "display_data"
    },
    {
     "data": {
      "application/vnd.jupyter.widget-view+json": {
       "model_id": "b05972b7ae7a46368b79fcd46857a2de",
       "version_major": 2,
       "version_minor": 0
      },
      "text/plain": [
       "Downloading model.onnx:   0%|          | 0.00/532M [00:00<?, ?B/s]"
      ]
     },
     "metadata": {},
     "output_type": "display_data"
    },
    {
     "data": {
      "application/vnd.jupyter.widget-view+json": {
       "model_id": "0dd00ec185db4f30a0d5e12187e76170",
       "version_major": 2,
       "version_minor": 0
      },
      "text/plain": [
       "Downloading model.safetensors:   0%|          | 0.00/440M [00:00<?, ?B/s]"
      ]
     },
     "metadata": {},
     "output_type": "display_data"
    },
    {
     "data": {
      "application/vnd.jupyter.widget-view+json": {
       "model_id": "d98fe29b25ce4eb9a26aba3593f2c976",
       "version_major": 2,
       "version_minor": 0
      },
      "text/plain": [
       "Downloading pytorch_model.bin:   0%|          | 0.00/440M [00:00<?, ?B/s]"
      ]
     },
     "metadata": {},
     "output_type": "display_data"
    },
    {
     "data": {
      "application/vnd.jupyter.widget-view+json": {
       "model_id": "55f05dd4c1d44f2daa02c206e0aef8c5",
       "version_major": 2,
       "version_minor": 0
      },
      "text/plain": [
       "Downloading (…)40076/tokenizer.json:   0%|          | 0.00/466k [00:00<?, ?B/s]"
      ]
     },
     "metadata": {},
     "output_type": "display_data"
    },
    {
     "data": {
      "application/vnd.jupyter.widget-view+json": {
       "model_id": "313b65fd50c448efbefd2a158884c34d",
       "version_major": 2,
       "version_minor": 0
      },
      "text/plain": [
       "Downloading (…)okenizer_config.json:   0%|          | 0.00/28.0 [00:00<?, ?B/s]"
      ]
     },
     "metadata": {},
     "output_type": "display_data"
    },
    {
     "data": {
      "application/vnd.jupyter.widget-view+json": {
       "model_id": "59ef340abe7641739c865f47af0a5084",
       "version_major": 2,
       "version_minor": 0
      },
      "text/plain": [
       "Downloading (…)64c8a40076/vocab.txt:   0%|          | 0.00/232k [00:00<?, ?B/s]"
      ]
     },
     "metadata": {},
     "output_type": "display_data"
    },
    {
     "name": "stderr",
     "output_type": "stream",
     "text": [
      "No sentence-transformers model found with name /home/soda/lgrinszt/.cache/torch/sentence_transformers/bert-base-uncased. Creating a new one with MEAN pooling.\n"
     ]
    },
    {
     "data": {
      "application/vnd.jupyter.widget-view+json": {
       "model_id": "7dc0fbb2fb5f4ff49768d5fe7d31c267",
       "version_major": 2,
       "version_minor": 0
      },
      "text/plain": [
       "Batches:   0%|          | 0/289 [00:00<?, ?it/s]"
      ]
     },
     "metadata": {},
     "output_type": "display_data"
    }
   ],
   "source": [
    "from sentence_transformers import SentenceTransformer\n",
    "model = SentenceTransformer('bert-base-uncased')\n",
    "final_embeddings = model.encode(employee_position_titles, show_progress_bar=True)"
   ]
  },
  {
   "cell_type": "code",
   "execution_count": 40,
   "metadata": {},
   "outputs": [],
   "source": [
    "from sklearn.base import BaseEstimator, TransformerMixin\n",
    "class FirstNFeaturesExtractor(BaseEstimator, TransformerMixin):\n",
    "    def __init__(self, n_features=1):\n",
    "        self.n_features = n_features\n",
    "\n",
    "    def fit(self, X, y=None):\n",
    "        return self  # Nothing to fit, so return self\n",
    "\n",
    "    def transform(self, X):\n",
    "        # Extract the first n_features\n",
    "        return X[:, :self.n_features]"
   ]
  },
  {
   "cell_type": "code",
   "execution_count": 41,
   "metadata": {},
   "outputs": [],
   "source": [
    "from sklearn.model_selection import BaseCrossValidator\n",
    "from sklearn.utils import indexable\n",
    "from sklearn.utils.validation import _num_samples\n",
    "import numpy as np\n",
    "\n",
    "from sklearn.model_selection import BaseCrossValidator\n",
    "from sklearn.utils import indexable\n",
    "from sklearn.utils.validation import _num_samples\n",
    "import numpy as np\n",
    "import time\n",
    "\n",
    "class FixedSizeSplit(BaseCrossValidator):\n",
    "    \"\"\"Cross-validator providing train/test indices to split data in train/test sets.\n",
    "    \n",
    "    Parameters:\n",
    "    -----------\n",
    "    n_train : int\n",
    "        Number of samples to include in each training set.\n",
    "    n_splits : int, optional (default=5)\n",
    "        Number of splitting iterations.\n",
    "    random_state : int, RandomState instance, default=None\n",
    "        Random state for shuffling the data before splitting.\n",
    "    \"\"\"\n",
    "    \n",
    "    def __init__(self, n_train: int, n_splits: int = 5, random_state: int = None) -> None:\n",
    "        self.n_train = n_train\n",
    "        self.n_splits = n_splits\n",
    "        self.random_state = random_state\n",
    "\n",
    "    def get_n_splits(self, X=None, y=None, groups=None) -> int:\n",
    "        return self.n_splits\n",
    "\n",
    "    def split(self, X, y=None, groups=None):\n",
    "        X, y, groups = indexable(X, y, groups)\n",
    "        n_samples = _num_samples(X)\n",
    "        \n",
    "        if self.n_train > n_samples:\n",
    "            raise ValueError(f\"Cannot set n_train={self.n_train} greater than the\"\n",
    "                             f\" number of samples: {n_samples}.\")\n",
    "\n",
    "        n_test = n_samples - self.n_train\n",
    "\n",
    "        indices = np.arange(n_samples)\n",
    "        \n",
    "        rng = np.random.default_rng(self.random_state)\n",
    "        \n",
    "        for i in range(self.n_splits):\n",
    "            indices_copy = indices.copy()\n",
    "            rng.shuffle(indices)\n",
    "            \n",
    "            # Create train and test based on shuffled indices\n",
    "            train = indices_copy[:self.n_train]\n",
    "            test = indices_copy[self.n_train:]\n",
    "            \n",
    "            yield train, test\n"
   ]
  },
  {
   "cell_type": "code",
   "execution_count": 42,
   "metadata": {},
   "outputs": [
    {
     "name": "stdout",
     "output_type": "stream",
     "text": [
      "Loading model that can be used for inference only\n",
      "Using a Transformer with 25.82 M parameters\n"
     ]
    },
    {
     "name": "stderr",
     "output_type": "stream",
     "text": [
      "0it [00:00, ?it/s][Parallel(n_jobs=5)]: Using backend LokyBackend with 5 concurrent workers.\n"
     ]
    },
    {
     "name": "stdout",
     "output_type": "stream",
     "text": [
      "huggingface/tokenizers: The current process just got forked, after parallelism has already been used. Disabling parallelism to avoid deadlocks...\n",
      "To disable this warning, you can either:\n",
      "\t- Avoid using `tokenizers` before the fork if possible\n",
      "\t- Explicitly set the environment variable TOKENIZERS_PARALLELISM=(true | false)\n",
      "huggingface/tokenizers: The current process just got forked, after parallelism has already been used. Disabling parallelism to avoid deadlocks...\n",
      "To disable this warning, you can either:\n",
      "\t- Avoid using `tokenizers` before the fork if possible\n",
      "\t- Explicitly set the environment variable TOKENIZERS_PARALLELISM=(true | false)\n",
      "huggingface/tokenizers: The current process just got forked, after parallelism has already been used. Disabling parallelism to avoid deadlocks...\n",
      "To disable this warning, you can either:\n",
      "\t- Avoid using `tokenizers` before the fork if possible\n",
      "\t- Explicitly set the environment variable TOKENIZERS_PARALLELISM=(true | false)\n",
      "huggingface/tokenizers: The current process just got forked, after parallelism has already been used. Disabling parallelism to avoid deadlocks...\n",
      "To disable this warning, you can either:\n",
      "\t- Avoid using `tokenizers` before the fork if possible\n",
      "\t- Explicitly set the environment variable TOKENIZERS_PARALLELISM=(true | false)\n",
      "huggingface/tokenizers: The current process just got forked, after parallelism has already been used. Disabling parallelism to avoid deadlocks...\n",
      "To disable this warning, you can either:\n",
      "\t- Avoid using `tokenizers` before the fork if possible\n",
      "\t- Explicitly set the environment variable TOKENIZERS_PARALLELISM=(true | false)\n"
     ]
    },
    {
     "name": "stderr",
     "output_type": "stream",
     "text": [
      "[Parallel(n_jobs=5)]: Done   2 out of   5 | elapsed:    1.9s remaining:    2.8s\n",
      "[Parallel(n_jobs=5)]: Done   5 out of   5 | elapsed:    1.9s finished\n",
      "[Parallel(n_jobs=5)]: Using backend LokyBackend with 5 concurrent workers.\n"
     ]
    },
    {
     "name": "stdout",
     "output_type": "stream",
     "text": [
      "{'fit_time': array([0.0269289 , 0.02137542, 0.01541901, 0.01462841, 0.01315641]), 'score_time': array([0.00360727, 0.0026269 , 0.00218391, 0.00223923, 0.00167847]), 'test_score': array([0.63150219, 0.61533787, 0.65082645, 0.63684978, 0.63770053])}\n",
      "LogisticRegression / extractor: 0.6344433641225085\n"
     ]
    },
    {
     "name": "stderr",
     "output_type": "stream",
     "text": [
      "[Parallel(n_jobs=5)]: Done   2 out of   5 | elapsed:    0.2s remaining:    0.3s\n",
      "[Parallel(n_jobs=5)]: Done   5 out of   5 | elapsed:    0.2s finished\n",
      "[Parallel(n_jobs=5)]: Using backend LokyBackend with 5 concurrent workers.\n"
     ]
    },
    {
     "name": "stdout",
     "output_type": "stream",
     "text": [
      "{'fit_time': array([0.08231664, 0.10161376, 0.03669953, 0.10465312, 0.06897902]), 'score_time': array([0.03439307, 0.03434038, 0.02091384, 0.02084112, 0.03851318]), 'test_score': array([0.62019932, 0.67805056, 0.63125912, 0.60792416, 0.65374332])}\n",
      "LogisticRegression / pca: 0.638235294117647\n"
     ]
    },
    {
     "name": "stderr",
     "output_type": "stream",
     "text": [
      "/scratch/lgrinszt/micromamba/envs/dpo/lib/python3.10/site-packages/sklearn/linear_model/_logistic.py:460: ConvergenceWarning: lbfgs failed to converge (status=1):\n",
      "STOP: TOTAL NO. of ITERATIONS REACHED LIMIT.\n",
      "\n",
      "Increase the number of iterations (max_iter) or scale the data as shown in:\n",
      "    https://scikit-learn.org/stable/modules/preprocessing.html\n",
      "Please also refer to the documentation for alternative solver options:\n",
      "    https://scikit-learn.org/stable/modules/linear_model.html#logistic-regression\n",
      "  n_iter_i = _check_optimize_result(\n",
      "/scratch/lgrinszt/micromamba/envs/dpo/lib/python3.10/site-packages/sklearn/linear_model/_logistic.py:460: ConvergenceWarning: lbfgs failed to converge (status=1):\n",
      "STOP: TOTAL NO. of ITERATIONS REACHED LIMIT.\n",
      "\n",
      "Increase the number of iterations (max_iter) or scale the data as shown in:\n",
      "    https://scikit-learn.org/stable/modules/preprocessing.html\n",
      "Please also refer to the documentation for alternative solver options:\n",
      "    https://scikit-learn.org/stable/modules/linear_model.html#logistic-regression\n",
      "  n_iter_i = _check_optimize_result(\n",
      "/scratch/lgrinszt/micromamba/envs/dpo/lib/python3.10/site-packages/sklearn/linear_model/_logistic.py:460: ConvergenceWarning: lbfgs failed to converge (status=1):\n",
      "STOP: TOTAL NO. of ITERATIONS REACHED LIMIT.\n",
      "\n",
      "Increase the number of iterations (max_iter) or scale the data as shown in:\n",
      "    https://scikit-learn.org/stable/modules/preprocessing.html\n",
      "Please also refer to the documentation for alternative solver options:\n",
      "    https://scikit-learn.org/stable/modules/linear_model.html#logistic-regression\n",
      "  n_iter_i = _check_optimize_result(\n",
      "/scratch/lgrinszt/micromamba/envs/dpo/lib/python3.10/site-packages/sklearn/linear_model/_logistic.py:460: ConvergenceWarning: lbfgs failed to converge (status=1):\n",
      "STOP: TOTAL NO. of ITERATIONS REACHED LIMIT.\n",
      "\n",
      "Increase the number of iterations (max_iter) or scale the data as shown in:\n",
      "    https://scikit-learn.org/stable/modules/preprocessing.html\n",
      "Please also refer to the documentation for alternative solver options:\n",
      "    https://scikit-learn.org/stable/modules/linear_model.html#logistic-regression\n",
      "  n_iter_i = _check_optimize_result(\n",
      "[Parallel(n_jobs=5)]: Done   2 out of   5 | elapsed:    0.1s remaining:    0.2s\n",
      "/scratch/lgrinszt/micromamba/envs/dpo/lib/python3.10/site-packages/sklearn/linear_model/_logistic.py:460: ConvergenceWarning: lbfgs failed to converge (status=1):\n",
      "STOP: TOTAL NO. of ITERATIONS REACHED LIMIT.\n",
      "\n",
      "Increase the number of iterations (max_iter) or scale the data as shown in:\n",
      "    https://scikit-learn.org/stable/modules/preprocessing.html\n",
      "Please also refer to the documentation for alternative solver options:\n",
      "    https://scikit-learn.org/stable/modules/linear_model.html#logistic-regression\n",
      "  n_iter_i = _check_optimize_result(\n",
      "[Parallel(n_jobs=5)]: Done   5 out of   5 | elapsed:    0.2s finished\n",
      "3it [00:02,  1.21it/s]\n",
      "1it [00:02,  2.49s/it]"
     ]
    },
    {
     "name": "stdout",
     "output_type": "stream",
     "text": [
      "{'fit_time': array([0.07453012, 0.10928869, 0.08258939, 0.09981871, 0.11018658]), 'score_time': array([0.01858425, 0.01937985, 0.02544498, 0.01928639, 0.02230453]), 'test_score': array([0.82073408, 0.82061254, 0.82474477, 0.82486631, 0.82875547])}\n",
      "LogisticRegression / passthrough: 0.8239426349052017\n"
     ]
    },
    {
     "name": "stderr",
     "output_type": "stream",
     "text": [
      "[Parallel(n_jobs=5)]: Using backend LokyBackend with 5 concurrent workers.\n",
      "[Parallel(n_jobs=5)]: Done   2 out of   5 | elapsed:    0.7s remaining:    1.0s\n",
      "[Parallel(n_jobs=5)]: Done   5 out of   5 | elapsed:    0.7s finished\n",
      "[Parallel(n_jobs=5)]: Using backend LokyBackend with 5 concurrent workers.\n"
     ]
    },
    {
     "name": "stdout",
     "output_type": "stream",
     "text": [
      "{'fit_time': array([0.21062875, 0.26373291, 0.26775551, 0.22090697, 0.21559763]), 'score_time': array([0.01058054, 0.01116824, 0.01165152, 0.01067066, 0.01053309]), 'test_score': array([0.81599417, 0.80979582, 0.82049101, 0.81234808, 0.8117404 ])}\n",
      "GradientBoostingClassifier / extractor: 0.814073894020418\n"
     ]
    },
    {
     "name": "stderr",
     "output_type": "stream",
     "text": [
      "[Parallel(n_jobs=5)]: Done   2 out of   5 | elapsed:    0.3s remaining:    0.4s\n",
      "[Parallel(n_jobs=5)]: Done   5 out of   5 | elapsed:    0.4s finished\n",
      "3it [00:01,  2.27it/s]\n",
      "2it [00:03,  1.80s/it]"
     ]
    },
    {
     "name": "stdout",
     "output_type": "stream",
     "text": [
      "{'fit_time': array([0.22523975, 0.29053521, 0.28044295, 0.24014425, 0.33064508]), 'score_time': array([0.02632046, 0.03348637, 0.0307343 , 0.0285902 , 0.03016973]), 'test_score': array([0.78597472, 0.80238211, 0.8174526 , 0.81344191, 0.80566359])}\n",
      "GradientBoostingClassifier / pca: 0.804982984929509\n"
     ]
    },
    {
     "name": "stderr",
     "output_type": "stream",
     "text": []
    },
    {
     "name": "stdout",
     "output_type": "stream",
     "text": [
      "Loading model that can be used for inference only\n"
     ]
    },
    {
     "name": "stderr",
     "output_type": "stream",
     "text": [
      "[Parallel(n_jobs=5)]: Using backend LokyBackend with 5 concurrent workers.\n"
     ]
    },
    {
     "name": "stdout",
     "output_type": "stream",
     "text": [
      "Using a Transformer with 25.82 M parameters\n",
      "Loading model that can be used for inference only\n",
      "Using a Transformer with 25.82 M parameters\n",
      "Loading model that can be used for inference only\n",
      "Using a Transformer with 25.82 M parameters\n",
      "Loading model that can be used for inference only\n",
      "Using a Transformer with 25.82 M parameters\n",
      "Loading model that can be used for inference only\n",
      "Using a Transformer with 25.82 M parameters\n"
     ]
    },
    {
     "name": "stderr",
     "output_type": "stream",
     "text": [
      "[Parallel(n_jobs=5)]: Done   2 out of   5 | elapsed:   28.5s remaining:   42.7s\n",
      "[Parallel(n_jobs=5)]: Done   5 out of   5 | elapsed:   29.5s finished\n",
      "[Parallel(n_jobs=5)]: Using backend LokyBackend with 5 concurrent workers.\n"
     ]
    },
    {
     "name": "stdout",
     "output_type": "stream",
     "text": [
      "{'fit_time': array([0.01054192, 0.00854945, 0.00861955, 0.00823069, 0.00848413]), 'score_time': array([21.15604949, 19.06405044, 21.53134584, 21.55733156, 21.21239161]), 'test_score': array([0.81368498, 0.80712202, 0.81806028, 0.81806028, 0.81234808])}\n",
      "TabPFNClassifier / extractor: 0.8138551288283908\n",
      "Loading model that can be used for inference only\n",
      "Using a Transformer with 25.82 M parameters\n",
      "Loading model that can be used for inference only\n",
      "Using a Transformer with 25.82 M parameters\n",
      "Loading model that can be used for inference only\n",
      "Using a Transformer with 25.82 M parameters\n",
      "Loading model that can be used for inference only\n",
      "Using a Transformer with 25.82 M parameters\n",
      "Loading model that can be used for inference only\n",
      "Using a Transformer with 25.82 M parameters\n",
      "huggingface/tokenizers: The current process just got forked, after parallelism has already been used. Disabling parallelism to avoid deadlocks...\n",
      "To disable this warning, you can either:\n",
      "\t- Avoid using `tokenizers` before the fork if possible\n",
      "\t- Explicitly set the environment variable TOKENIZERS_PARALLELISM=(true | false)\n",
      "huggingface/tokenizers: The current process just got forked, after parallelism has already been used. Disabling parallelism to avoid deadlocks...\n",
      "To disable this warning, you can either:\n",
      "\t- Avoid using `tokenizers` before the fork if possible\n",
      "\t- Explicitly set the environment variable TOKENIZERS_PARALLELISM=(true | false)\n",
      "huggingface/tokenizers: The current process just got forked, after parallelism has already been used. Disabling parallelism to avoid deadlocks...\n",
      "To disable this warning, you can either:\n",
      "\t- Avoid using `tokenizers` before the fork if possible\n",
      "\t- Explicitly set the environment variable TOKENIZERS_PARALLELISM=(true | false)\n",
      "huggingface/tokenizers: The current process just got forked, after parallelism has already been used. Disabling parallelism to avoid deadlocks...\n",
      "To disable this warning, you can either:\n",
      "\t- Avoid using `tokenizers` before the fork if possible\n",
      "\t- Explicitly set the environment variable TOKENIZERS_PARALLELISM=(true | false)\n",
      "huggingface/tokenizers: The current process just got forked, after parallelism has already been used. Disabling parallelism to avoid deadlocks...\n",
      "To disable this warning, you can either:\n",
      "\t- Avoid using `tokenizers` before the fork if possible\n",
      "\t- Explicitly set the environment variable TOKENIZERS_PARALLELISM=(true | false)\n"
     ]
    },
    {
     "name": "stderr",
     "output_type": "stream",
     "text": [
      "[Parallel(n_jobs=5)]: Done   2 out of   5 | elapsed:   24.2s remaining:   36.4s\n",
      "[Parallel(n_jobs=5)]: Done   5 out of   5 | elapsed:   26.9s finished\n",
      "3it [00:56, 18.89s/it]\n",
      "3it [01:00, 20.16s/it]\n",
      "[Parallel(n_jobs=5)]: Using backend LokyBackend with 5 concurrent workers.\n",
      "/scratch/lgrinszt/micromamba/envs/dpo/lib/python3.10/site-packages/dirty_cat/_check_dependencies.py:1: DeprecationWarning: pkg_resources is deprecated as an API. See https://setuptools.pypa.io/en/latest/pkg_resources.html\n",
      "  import pkg_resources\n",
      "/scratch/lgrinszt/micromamba/envs/dpo/lib/python3.10/site-packages/dirty_cat/_check_dependencies.py:1: DeprecationWarning: pkg_resources is deprecated as an API. See https://setuptools.pypa.io/en/latest/pkg_resources.html\n",
      "  import pkg_resources\n",
      "/scratch/lgrinszt/micromamba/envs/dpo/lib/python3.10/site-packages/dirty_cat/_check_dependencies.py:1: DeprecationWarning: pkg_resources is deprecated as an API. See https://setuptools.pypa.io/en/latest/pkg_resources.html\n",
      "  import pkg_resources\n",
      "/scratch/lgrinszt/micromamba/envs/dpo/lib/python3.10/site-packages/dirty_cat/_check_dependencies.py:1: DeprecationWarning: pkg_resources is deprecated as an API. See https://setuptools.pypa.io/en/latest/pkg_resources.html\n",
      "  import pkg_resources\n",
      "/scratch/lgrinszt/micromamba/envs/dpo/lib/python3.10/site-packages/dirty_cat/_check_dependencies.py:1: DeprecationWarning: pkg_resources is deprecated as an API. See https://setuptools.pypa.io/en/latest/pkg_resources.html\n",
      "  import pkg_resources\n"
     ]
    },
    {
     "name": "stdout",
     "output_type": "stream",
     "text": [
      "{'fit_time': array([0.04567003, 0.04112315, 0.08541679, 0.05270815, 0.08857322]), 'score_time': array([19.78196359, 19.69462132, 21.97305131, 20.18543434, 20.44229078]), 'test_score': array([0.82255712, 0.82231405, 0.81125425, 0.80213904, 0.82365095])}\n",
      "TabPFNClassifier / pca: 0.8163830821584833\n"
     ]
    },
    {
     "name": "stderr",
     "output_type": "stream",
     "text": [
      "/scratch/lgrinszt/micromamba/envs/dpo/lib/python3.10/site-packages/pkg_resources/__init__.py:2871: DeprecationWarning: Deprecated call to `pkg_resources.declare_namespace('mpl_toolkits')`.\n",
      "Implementing implicit namespace packages (as specified in PEP 420) is preferred to `pkg_resources.declare_namespace`. See https://setuptools.pypa.io/en/latest/references/keywords.html#keyword-namespace-packages\n",
      "  declare_namespace(pkg)\n",
      "/scratch/lgrinszt/micromamba/envs/dpo/lib/python3.10/site-packages/pkg_resources/__init__.py:2871: DeprecationWarning: Deprecated call to `pkg_resources.declare_namespace('mpl_toolkits')`.\n",
      "Implementing implicit namespace packages (as specified in PEP 420) is preferred to `pkg_resources.declare_namespace`. See https://setuptools.pypa.io/en/latest/references/keywords.html#keyword-namespace-packages\n",
      "  declare_namespace(pkg)\n",
      "/scratch/lgrinszt/micromamba/envs/dpo/lib/python3.10/site-packages/pkg_resources/__init__.py:2871: DeprecationWarning: Deprecated call to `pkg_resources.declare_namespace('mpl_toolkits')`.\n",
      "Implementing implicit namespace packages (as specified in PEP 420) is preferred to `pkg_resources.declare_namespace`. See https://setuptools.pypa.io/en/latest/references/keywords.html#keyword-namespace-packages\n",
      "  declare_namespace(pkg)\n",
      "/scratch/lgrinszt/micromamba/envs/dpo/lib/python3.10/site-packages/pkg_resources/__init__.py:2871: DeprecationWarning: Deprecated call to `pkg_resources.declare_namespace('mpl_toolkits')`.\n",
      "Implementing implicit namespace packages (as specified in PEP 420) is preferred to `pkg_resources.declare_namespace`. See https://setuptools.pypa.io/en/latest/references/keywords.html#keyword-namespace-packages\n",
      "  declare_namespace(pkg)\n",
      "/scratch/lgrinszt/micromamba/envs/dpo/lib/python3.10/site-packages/pkg_resources/__init__.py:2871: DeprecationWarning: Deprecated call to `pkg_resources.declare_namespace('mpl_toolkits')`.\n",
      "Implementing implicit namespace packages (as specified in PEP 420) is preferred to `pkg_resources.declare_namespace`. See https://setuptools.pypa.io/en/latest/references/keywords.html#keyword-namespace-packages\n",
      "  declare_namespace(pkg)\n",
      "/scratch/lgrinszt/micromamba/envs/dpo/lib/python3.10/site-packages/sklearn/linear_model/_logistic.py:460: ConvergenceWarning: lbfgs failed to converge (status=1):\n",
      "STOP: TOTAL NO. of ITERATIONS REACHED LIMIT.\n",
      "\n",
      "Increase the number of iterations (max_iter) or scale the data as shown in:\n",
      "    https://scikit-learn.org/stable/modules/preprocessing.html\n",
      "Please also refer to the documentation for alternative solver options:\n",
      "    https://scikit-learn.org/stable/modules/linear_model.html#logistic-regression\n",
      "  n_iter_i = _check_optimize_result(\n",
      "/scratch/lgrinszt/micromamba/envs/dpo/lib/python3.10/site-packages/sklearn/linear_model/_logistic.py:460: ConvergenceWarning: lbfgs failed to converge (status=1):\n",
      "STOP: TOTAL NO. of ITERATIONS REACHED LIMIT.\n",
      "\n",
      "Increase the number of iterations (max_iter) or scale the data as shown in:\n",
      "    https://scikit-learn.org/stable/modules/preprocessing.html\n",
      "Please also refer to the documentation for alternative solver options:\n",
      "    https://scikit-learn.org/stable/modules/linear_model.html#logistic-regression\n",
      "  n_iter_i = _check_optimize_result(\n",
      "/scratch/lgrinszt/micromamba/envs/dpo/lib/python3.10/site-packages/sklearn/linear_model/_logistic.py:460: ConvergenceWarning: lbfgs failed to converge (status=1):\n",
      "STOP: TOTAL NO. of ITERATIONS REACHED LIMIT.\n",
      "\n",
      "Increase the number of iterations (max_iter) or scale the data as shown in:\n",
      "    https://scikit-learn.org/stable/modules/preprocessing.html\n",
      "Please also refer to the documentation for alternative solver options:\n",
      "    https://scikit-learn.org/stable/modules/linear_model.html#logistic-regression\n",
      "  n_iter_i = _check_optimize_result(\n",
      "[Parallel(n_jobs=5)]: Done   2 out of   5 | elapsed:    0.7s remaining:    1.1s\n",
      "[Parallel(n_jobs=5)]: Done   5 out of   5 | elapsed:    0.8s finished\n",
      "[Parallel(n_jobs=5)]: Using backend LokyBackend with 5 concurrent workers.\n"
     ]
    },
    {
     "name": "stdout",
     "output_type": "stream",
     "text": [
      "LogisticRegression / minhash: 0.7422216820612542\n"
     ]
    },
    {
     "name": "stderr",
     "output_type": "stream",
     "text": [
      "[Parallel(n_jobs=5)]: Done   2 out of   5 | elapsed:    0.4s remaining:    0.6s\n",
      "[Parallel(n_jobs=5)]: Done   5 out of   5 | elapsed:    0.6s finished\n",
      "[Parallel(n_jobs=5)]: Using backend LokyBackend with 5 concurrent workers.\n"
     ]
    },
    {
     "name": "stdout",
     "output_type": "stream",
     "text": [
      "GradientBoostingClassifier / minhash: 0.8143655809431211\n",
      "Loading model that can be used for inference only\n",
      "Using a Transformer with 25.82 M parameters\n",
      "Loading model that can be used for inference only\n",
      "Using a Transformer with 25.82 M parameters\n",
      "Loading model that can be used for inference only\n",
      "Using a Transformer with 25.82 M parameters\n",
      "Loading model that can be used for inference only\n",
      "Using a Transformer with 25.82 M parameters\n",
      "Loading model that can be used for inference only\n",
      "Using a Transformer with 25.82 M parameters\n"
     ]
    },
    {
     "name": "stderr",
     "output_type": "stream",
     "text": [
      "[Parallel(n_jobs=5)]: Done   2 out of   5 | elapsed:   21.4s remaining:   32.1s\n"
     ]
    },
    {
     "name": "stdout",
     "output_type": "stream",
     "text": [
      "TabPFNClassifier / minhash: 0.8174039863879436\n"
     ]
    },
    {
     "name": "stderr",
     "output_type": "stream",
     "text": [
      "[Parallel(n_jobs=5)]: Done   5 out of   5 | elapsed:   23.7s finished\n"
     ]
    }
   ],
   "source": [
    "#### PCA ####\n",
    "from sklearn.decomposition import PCA\n",
    "from sklearn.pipeline import Pipeline\n",
    "from sklearn.linear_model import LogisticRegression\n",
    "from sklearn.ensemble import GradientBoostingClassifier, HistGradientBoostingClassifier\n",
    "from sklearn.model_selection import cross_validate\n",
    "from sklearn.metrics import balanced_accuracy_score\n",
    "from sklearn.preprocessing import StandardScaler\n",
    "from dirty_cat import MinHashEncoder\n",
    "from tabpfn import TabPFNClassifier\n",
    "from tqdm import tqdm\n",
    "pca = PCA(n_components=10)\n",
    "# create a transformer which takes the first n dimensions of a vector\n",
    "extractor = FirstNFeaturesExtractor(n_features=10)\n",
    "preprocessings = [extractor, pca, \"passthrough\"]\n",
    "preprocessings_names = [\"extractor\", \"pca\", \"passthrough\"]\n",
    "\n",
    "\n",
    "models = [LogisticRegression(), GradientBoostingClassifier(), TabPFNClassifier()]\n",
    "model_names = [\"LogisticRegression\", \"GradientBoostingClassifier\", \"TabPFNClassifier\"]\n",
    "\n",
    "results = {}\n",
    "\n",
    "for model, model_name in tqdm(zip(models, model_names)):\n",
    "    for preprocessing, preprocessing_name in tqdm(zip(preprocessings, preprocessings_names)):\n",
    "        if preprocessing_name == \"passthrough\" and model_name != \"LogisticRegression\":\n",
    "            continue\n",
    "        pipe = Pipeline(steps=[('preprocessing', preprocessing), ('model', model)])\n",
    "        cv = FixedSizeSplit(n_train=1000, n_splits=5)\n",
    "        scores = cross_validate(pipe, final_embeddings, y_original, cv=cv, scoring='accuracy', n_jobs=5, verbose=1)\n",
    "        print(scores)\n",
    "        print(f\"{model_name} / {preprocessing_name}: {np.mean(scores['test_score'])}\")\n",
    "        results[f\"{model_name} / {preprocessing_name}\"] = scores['test_score']\n",
    "\n",
    "minhash = MinHashEncoder()\n",
    "\n",
    "for model, model_name in zip(models, model_names):\n",
    "    pipe = Pipeline(steps=[('preprocessing', minhash), ('model', model)])\n",
    "    cv = FixedSizeSplit(n_train=1000, n_splits=5)\n",
    "    scores = cross_validate(pipe, np.array(X_original[column_to_consider]).reshape(-1, 1), y_original, cv=cv, scoring='accuracy', n_jobs=5, verbose=1)\n",
    "    print(f\"{model_name} / minhash: {np.mean(scores['test_score'])}\")\n",
    "    results[f\"{model_name} / minhash\"] = scores['test_score']\n"
   ]
  },
  {
   "cell_type": "code",
   "execution_count": 43,
   "metadata": {},
   "outputs": [
    {
     "data": {
      "image/png": "[encoded data removed]",
      "text/plain": [
       "<Figure size 1400x1000 with 1 Axes>"
      ]
     },
     "metadata": {},
     "output_type": "display_data"
    }
   ],
   "source": [
    "import seaborn as sns\n",
    "import pandas as pd\n",
    "import matplotlib.pyplot as plt\n",
    "\n",
    "# Your existing code for generating results\n",
    "# ...\n",
    "\n",
    "# Prepare data for plotting\n",
    "labels = []\n",
    "acc_values = []\n",
    "\n",
    "for key, values in results.items():\n",
    "    for value in values:\n",
    "        labels.append(key)\n",
    "        acc_values.append(value)\n",
    "\n",
    "# Create a DataFrame\n",
    "df = pd.DataFrame({\n",
    "    'Model and Preprocessing': labels,\n",
    "    'Balanced Accuracy': acc_values,\n",
    "    \"Preprocessing\": [e.split(\" / \")[1] for e in labels]\n",
    "})\n",
    "\n",
    "# Create the plot\n",
    "plt.figure(figsize=(14, 10))\n",
    "sns.swarmplot(x='Balanced Accuracy', y='Model and Preprocessing', hue=\"Preprocessing\", data=df)\n",
    "#horizontal lines for each model\n",
    "for i in range(len(np.unique(labels))):\n",
    "    plt.axhline(i - 0.5, color='black', linestyle='--')\n",
    "\n",
    "plt.title('Comparing Predictive Performance with Variations')\n",
    "plt.show()\n"
   ]
  },
  {
   "cell_type": "code",
   "execution_count": 15,
   "metadata": {},
   "outputs": [
    {
     "data": {
      "text/plain": [
       "{'HistGradientBoostingClassifier / extractor': array([0.58768682, 0.58768682, 0.58768682, 0.58768682, 0.58768682]),\n",
       " 'HistGradientBoostingClassifier / pca': array([0.57122423, 0.57153275, 0.5724028 , 0.57013824, 0.56824601]),\n",
       " 'LogisticRegression / extractor': array([0.30883481, 0.30883481, 0.30883481, 0.30883481, 0.30883481]),\n",
       " 'LogisticRegression / pca': array([0.24360904, 0.24360904, 0.24236198, 0.24444041, 0.24360904]),\n",
       " 'LogisticRegression / passthrough': array([0.43465766, 0.43465766, 0.43465766, 0.43465766, 0.43465766]),\n",
       " 'GradientBoostingClassifier / extractor': array([0.46485279, 0.47189143, 0.46619167, 0.46582523, 0.4659076 ]),\n",
       " 'GradientBoostingClassifier / pca': array([0.3830631 , 0.43083913, 0.39122908, 0.46216488, 0.38801575]),\n",
       " 'TabPFNClassifier / extractor': array([0.46672189, 0.46672189, 0.46672189, 0.46672189, 0.46672189]),\n",
       " 'TabPFNClassifier / pca': array([0.25772344, 0.25772344, 0.25772344, 0.25772344, 0.25772344]),\n",
       " 'HistGradientBoostingClassifier / minhash': array([0.43739453, 0.43739453, 0.43739453, 0.43739453, 0.43739453]),\n",
       " 'LogisticRegression / minhash': array([0.19554648, 0.19554648, 0.19554648, 0.19554648, 0.19554648]),\n",
       " 'GradientBoostingClassifier / minhash': array([0.51842924, 0.5204085 , 0.52188852, 0.52378292, 0.50921774]),\n",
       " 'TabPFNClassifier / minhash': array([0.32440848, 0.32440848, 0.32440848, 0.32440848, 0.32440848])}"
      ]
     },
     "execution_count": 15,
     "metadata": {},
     "output_type": "execute_result"
    }
   ],
   "source": [
    "results"
   ]
  },
  {
   "cell_type": "markdown",
   "metadata": {},
   "source": [
    "## Directly finetune Bert"
   ]
  },
  {
   "cell_type": "code",
   "execution_count": 19,
   "metadata": {},
   "outputs": [
    {
     "name": "stderr",
     "output_type": "stream",
     "text": [
      "Some weights of BertForSequenceClassification were not initialized from the model checkpoint at bert-base-uncased and are newly initialized: ['classifier.weight', 'classifier.bias']\n",
      "You should probably TRAIN this model on a down-stream task to be able to use it for predictions and inference.\n",
      "/scratch/lgrinszt/micromamba/envs/dpo/lib/python3.10/site-packages/transformers/optimization.py:411: FutureWarning: This implementation of AdamW is deprecated and will be removed in a future version. Use the PyTorch implementation torch.optim.AdamW instead, or set `no_deprecation_warning=True` to disable this warning\n",
      "  warnings.warn(\n",
      "\u001b[34m\u001b[1mwandb\u001b[0m: Currently logged in as: \u001b[33mleogrin\u001b[0m. Use \u001b[1m`wandb login --relogin`\u001b[0m to force relogin\n"
     ]
    },
    {
     "data": {
      "text/html": [
       "wandb version 0.15.11 is available!  To upgrade, please run:\n",
       " $ pip install wandb --upgrade"
      ],
      "text/plain": [
       "<IPython.core.display.HTML object>"
      ]
     },
     "metadata": {},
     "output_type": "display_data"
    },
    {
     "data": {
      "text/html": [
       "Tracking run with wandb version 0.15.3"
      ],
      "text/plain": [
       "<IPython.core.display.HTML object>"
      ]
     },
     "metadata": {},
     "output_type": "display_data"
    },
    {
     "data": {
      "text/html": [
       "Run data is saved locally in <code>/scratch/lgrinszt/differentiable_in_context/finetuning/wandb/run-20230929_164106-ijbj3eoh</code>"
      ],
      "text/plain": [
       "<IPython.core.display.HTML object>"
      ]
     },
     "metadata": {},
     "output_type": "display_data"
    },
    {
     "data": {
      "text/html": [
       "Syncing run <strong><a href='https://wandb.ai/leogrin/huggingface/runs/ijbj3eoh' target=\"_blank\">still-elevator-13</a></strong> to <a href='https://wandb.ai/leogrin/huggingface' target=\"_blank\">Weights & Biases</a> (<a href='https://wandb.me/run' target=\"_blank\">docs</a>)<br/>"
      ],
      "text/plain": [
       "<IPython.core.display.HTML object>"
      ]
     },
     "metadata": {},
     "output_type": "display_data"
    },
    {
     "data": {
      "text/html": [
       " View project at <a href='https://wandb.ai/leogrin/huggingface' target=\"_blank\">https://wandb.ai/leogrin/huggingface</a>"
      ],
      "text/plain": [
       "<IPython.core.display.HTML object>"
      ]
     },
     "metadata": {},
     "output_type": "display_data"
    },
    {
     "data": {
      "text/html": [
       " View run at <a href='https://wandb.ai/leogrin/huggingface/runs/ijbj3eoh' target=\"_blank\">https://wandb.ai/leogrin/huggingface/runs/ijbj3eoh</a>"
      ],
      "text/plain": [
       "<IPython.core.display.HTML object>"
      ]
     },
     "metadata": {},
     "output_type": "display_data"
    },
    {
     "data": {
      "text/html": [
       "\n",
       "    <div>\n",
       "      \n",
       "      <progress value='1250' max='1250' style='width:300px; height:20px; vertical-align: middle;'></progress>\n",
       "      [1250/1250 02:27, Epoch 10/10]\n",
       "    </div>\n",
       "    <table border=\"1\" class=\"dataframe\">\n",
       "  <thead>\n",
       " <tr style=\"text-align: left;\">\n",
       "      <th>Step</th>\n",
       "      <th>Training Loss</th>\n",
       "      <th>Validation Loss</th>\n",
       "      <th>Accuracy</th>\n",
       "    </tr>\n",
       "  </thead>\n",
       "  <tbody>\n",
       "    <tr>\n",
       "      <td>100</td>\n",
       "      <td>0.779600</td>\n",
       "      <td>0.430642</td>\n",
       "      <td>0.799708</td>\n",
       "    </tr>\n",
       "    <tr>\n",
       "      <td>200</td>\n",
       "      <td>0.494200</td>\n",
       "      <td>0.555901</td>\n",
       "      <td>0.776616</td>\n",
       "    </tr>\n",
       "    <tr>\n",
       "      <td>300</td>\n",
       "      <td>0.416100</td>\n",
       "      <td>0.391750</td>\n",
       "      <td>0.789742</td>\n",
       "    </tr>\n",
       "    <tr>\n",
       "      <td>400</td>\n",
       "      <td>0.411600</td>\n",
       "      <td>0.469391</td>\n",
       "      <td>0.809553</td>\n",
       "    </tr>\n",
       "    <tr>\n",
       "      <td>500</td>\n",
       "      <td>0.425600</td>\n",
       "      <td>0.372725</td>\n",
       "      <td>0.816845</td>\n",
       "    </tr>\n",
       "    <tr>\n",
       "      <td>600</td>\n",
       "      <td>0.365900</td>\n",
       "      <td>0.456947</td>\n",
       "      <td>0.809431</td>\n",
       "    </tr>\n",
       "    <tr>\n",
       "      <td>700</td>\n",
       "      <td>0.379700</td>\n",
       "      <td>0.398222</td>\n",
       "      <td>0.823043</td>\n",
       "    </tr>\n",
       "    <tr>\n",
       "      <td>800</td>\n",
       "      <td>0.345500</td>\n",
       "      <td>0.406939</td>\n",
       "      <td>0.783179</td>\n",
       "    </tr>\n",
       "    <tr>\n",
       "      <td>900</td>\n",
       "      <td>0.337200</td>\n",
       "      <td>0.409160</td>\n",
       "      <td>0.826568</td>\n",
       "    </tr>\n",
       "    <tr>\n",
       "      <td>1000</td>\n",
       "      <td>0.326200</td>\n",
       "      <td>0.399998</td>\n",
       "      <td>0.823408</td>\n",
       "    </tr>\n",
       "    <tr>\n",
       "      <td>1100</td>\n",
       "      <td>0.305800</td>\n",
       "      <td>0.421663</td>\n",
       "      <td>0.824380</td>\n",
       "    </tr>\n",
       "    <tr>\n",
       "      <td>1200</td>\n",
       "      <td>0.335300</td>\n",
       "      <td>0.412828</td>\n",
       "      <td>0.824623</td>\n",
       "    </tr>\n",
       "  </tbody>\n",
       "</table><p>"
      ],
      "text/plain": [
       "<IPython.core.display.HTML object>"
      ]
     },
     "metadata": {},
     "output_type": "display_data"
    },
    {
     "data": {
      "text/plain": [
       "TrainOutput(global_step=1250, training_loss=0.40563882904052734, metrics={'train_runtime': 167.1088, 'train_samples_per_second': 59.841, 'train_steps_per_second': 7.48, 'total_flos': 61669422000000.0, 'train_loss': 0.40563882904052734, 'epoch': 10.0})"
      ]
     },
     "execution_count": 19,
     "metadata": {},
     "output_type": "execute_result"
    }
   ],
   "source": [
    "from transformers import BertForSequenceClassification, BertTokenizer, Trainer, TrainingArguments\n",
    "import torch\n",
    "from torch.utils.data import DataLoader, TensorDataset\n",
    "from sklearn.model_selection import train_test_split\n",
    "import numpy as np\n",
    "\n",
    "from sklearn.metrics import accuracy_score\n",
    "from transformers import TrainingArguments, Trainer\n",
    "\n",
    "def compute_metrics(eval_pred):\n",
    "    logits, labels = eval_pred\n",
    "    predictions = np.argmax(logits, axis=-1)\n",
    "    return {'accuracy': accuracy_score(labels, predictions)}\n",
    "\n",
    "# Initialize tokenizer\n",
    "tokenizer = BertTokenizer.from_pretrained(\"bert-base-uncased\")\n",
    "\n",
    "# Your text data and labels (replace these with your actual data and labels)\n",
    "texts = X_original[column_to_consider].tolist()\n",
    "#labels = (y_original > np.median(y_original)).tolist()\n",
    "labels = y_original.tolist()\n",
    "\n",
    "# Tokenize the text data\n",
    "encoding = tokenizer(texts, padding=True, truncation=True, return_tensors=\"pt\")\n",
    "\n",
    "from torch.utils.data import Dataset\n",
    "\n",
    "class CustomDataset(Dataset):\n",
    "    def __init__(self, encodings, labels):\n",
    "        self.encodings = encodings\n",
    "        self.labels = labels\n",
    "\n",
    "    def __getitem__(self, idx):\n",
    "        item = {\n",
    "            'input_ids': self.encodings['input_ids'][idx],\n",
    "            'attention_mask': self.encodings['attention_mask'][idx],\n",
    "            'labels': self.labels[idx]\n",
    "        }\n",
    "        return item\n",
    "\n",
    "    def __len__(self):\n",
    "        return len(self.labels)\n",
    "\n",
    "#dataset = CustomDataset(encoding, torch.tensor(labels).long().reshape(-1, 1))\n",
    "\n",
    "# Split dataset\n",
    "train_size = 1000#int(0.8 * len(dataset))\n",
    "#val_size = len(dataset) - train_size\n",
    "train_dataset = CustomDataset(encoding[:1000], torch.tensor(labels).long().reshape(-1, 1)[:1000])\n",
    "val_dataset = CustomDataset(encoding[1000:], torch.tensor(labels).long().reshape(-1, 1)[1000:])\n",
    "#train_dataset, val_dataset = torch.utils.data.random_split(dataset, [train_size, val_size])\n",
    "\n",
    "# Initialize model\n",
    "model = BertForSequenceClassification.from_pretrained(\"bert-base-uncased\", num_labels=7)\n",
    "\n",
    "# Training arguments\n",
    "training_args = TrainingArguments(\n",
    "    per_device_train_batch_size=8,\n",
    "    num_train_epochs=10,\n",
    "    logging_steps=100,\n",
    "    logging_dir=\"./logs\",\n",
    "    output_dir=\"./results\",\n",
    "    evaluation_strategy=\"steps\",\n",
    ")\n",
    "\n",
    "# Initialize trainer\n",
    "trainer = Trainer(\n",
    "    model=model,\n",
    "    args=training_args,\n",
    "    train_dataset=train_dataset,\n",
    "    eval_dataset=val_dataset,\n",
    "    compute_metrics=compute_metrics\n",
    ")\n",
    "\n",
    "# Fine-tune the model\n",
    "trainer.train()\n",
    "\n",
    "# Save the fine-tuned model\n",
    "#model.save_pretrained(\"./fine_tuned_bert\")\n",
    "\n",
    "# Now you can use this fine-tuned model for your specific tasks\n"
   ]
  },
  {
   "cell_type": "markdown",
   "metadata": {},
   "source": []
  },
  {
   "cell_type": "code",
   "execution_count": null,
   "metadata": {},
   "outputs": [],
   "source": [
    "from dirty_cat import MinHashEncoder\n",
    "from sklearn.ensemble import HistGradientBoostingClassifier\n",
    "\n",
    "# Initialize MinHashEncoder\n",
    "encoder = MinHashEncoder()\n",
    "\n",
    "X_enc = encoder.fit_transform(np.array(X_original[column_to_consider]).reshape(-1, 1))\n",
    "#y = np.array((y_original > np.median(y_original))).astype(int)\n",
    "y = y_original\n",
    "print(X_enc.shape)\n",
    "print(y.shape)\n",
    "X_train, y_train = X_enc[:1000], y[:1000]\n",
    "X_test, y_test = X_enc[1000:], y[1000:]\n",
    "\n",
    "# Initialize HistGradientBoostingClassifier\n",
    "model = HistGradientBoostingClassifier()\n",
    "\n",
    "# Train the model\n",
    "model.fit(X_train, y_train)\n",
    "\n",
    "# Evaluate the model\n",
    "model.score(X_test, y_test)\n"
   ]
  },
  {
   "cell_type": "code",
   "execution_count": null,
   "metadata": {},
   "outputs": [],
   "source": []
  },
  {
   "cell_type": "markdown",
   "metadata": {},
   "source": [
    "## Finetune Bert with TabPFN on top"
   ]
  },
  {
   "cell_type": "code",
   "execution_count": null,
   "metadata": {},
   "outputs": [],
   "source": [
    "# create a new model\n",
    "import torch.nn as nn\n",
    "import torch\n",
    "from tabpfn import TabPFNClassifier\n",
    "# import Bert small model\n",
    "from transformers import AutoModel\n",
    "class BertAndTabPFN(nn.Module):\n",
    "    def __init__(self, linear_translator=False, dim_tabpfn=100, preprocess_before_tabpfn=False):\n",
    "        super().__init__()\n",
    "        #self.bert = BertModel.from_pretrained('bert-base-uncased')\n",
    "        self.bert = AutoModel.from_pretrained(\"prajjwal1/bert-tiny\")\n",
    "        self.tabpfn = TabPFNClassifier().model[2]\n",
    "        # no requires_grad for the tabpfn\n",
    "        for param in self.tabpfn.parameters():\n",
    "            param.requires_grad = False\n",
    "        self.dim_tabpfn = dim_tabpfn\n",
    "        self.preprocess_before_tabpfn = preprocess_before_tabpfn\n",
    "        if linear_translator:\n",
    "            self.linear_translator = nn.Linear(768, dim_tabpfn)\n",
    "    \n",
    "    def forward(self, input_ids, attention_mask, y, tabular_data=None, single_eval_pos=100):\n",
    "        bert_outputs = self.bert(input_ids, attention_mask=attention_mask)\n",
    "        bert_embeddings = bert_outputs.last_hidden_state[:, 0, :]\n",
    "        if hasattr(self, 'linear_translator'):\n",
    "            tabpfn_input = self.linear_translator(bert_embeddings)\n",
    "        else:\n",
    "            tabpfn_input = bert_embeddings[:, :self.dim_tabpfn]\n",
    "        tabpfn_input = tabpfn_input.reshape(tabpfn_input.shape[0], 1, tabpfn_input.shape[1])\n",
    "        if self.preprocess_before_tabpfn:\n",
    "            tabpfn_input = preprocess_input(tabpfn_input, y, single_eval_pos, preprocess_transform=\"none\", device=input_ids.device)\n",
    "        tabpfn_outputs = self.tabpfn((tabpfn_input, y), single_eval_pos=single_eval_pos)\n",
    "        return tabpfn_outputs\n",
    "    \n",
    "\n",
    "\n"
   ]
  },
  {
   "cell_type": "code",
   "execution_count": null,
   "metadata": {},
   "outputs": [],
   "source": [
    "texts = X_original[column_to_consider].tolist()[:200]\n",
    "#y = torch.tensor((y_original > np.median(y_original)).tolist()[:200]).reshape(-1, 1).float()\n",
    "y = torch.tensor(y_original.tolist()[:200]).reshape(-1, 1).float()\n",
    "tokenizer = BertTokenizer.from_pretrained('bert-base-uncased')\n",
    "input_ids, attention_mask = tokenizer(texts, padding=True, truncation=True, return_tensors=\"pt\")['input_ids'], tokenizer(texts, padding=True, truncation=True, return_tensors=\"pt\")['attention_mask']\n",
    "input_ids = input_ids.to('cuda')\n",
    "attention_mask = attention_mask.to('cuda')\n",
    "y = y.to('cuda')\n",
    "model = BertAndTabPFN().to('cuda')\n",
    "model(input_ids, attention_mask, y=y, single_eval_pos=50)"
   ]
  },
  {
   "cell_type": "code",
   "execution_count": null,
   "metadata": {},
   "outputs": [],
   "source": []
  },
  {
   "cell_type": "code",
   "execution_count": null,
   "metadata": {},
   "outputs": [],
   "source": [
    "from transformers import BertForSequenceClassification, BertTokenizer\n",
    "import torch\n",
    "import torch.nn as nn\n",
    "import torch.optim as optim\n",
    "from torch.utils.data import DataLoader, random_split\n",
    "import numpy as np\n",
    "from sklearn.metrics import accuracy_score\n",
    "from utils import preprocess_input\n",
    "\n",
    "# Initialize tokenizer\n",
    "tokenizer = BertTokenizer.from_pretrained(\"bert-base-uncased\")\n",
    "\n",
    "# Your text data and labels (replace these with your actual data and labels)\n",
    "# Your text data and labels (replace these with your actual data and labels)\n",
    "texts = X_original[column_to_consider].tolist()\n",
    "#labels = (y_original > np.median(y_original)).tolist()\n",
    "labels = y_original.tolist()\n",
    "\n",
    "# Tokenize the text data\n",
    "encoding = tokenizer(texts, padding=True, truncation=True, return_tensors=\"pt\")\n",
    "\n",
    "# Create a custom dataset\n",
    "class CustomDataset(torch.utils.data.Dataset):\n",
    "    def __init__(self, encodings, labels):\n",
    "        self.encodings = encodings\n",
    "        self.labels = labels\n",
    "\n",
    "    def __getitem__(self, idx):\n",
    "        item = {\n",
    "            'input_ids': self.encodings['input_ids'][idx],\n",
    "            'attention_mask': self.encodings['attention_mask'][idx],\n",
    "            'labels': self.labels[idx]\n",
    "        }\n",
    "        return item\n",
    "\n",
    "    def __len__(self):\n",
    "        return len(self.labels)\n",
    "\n",
    "# Create dataset and dataloaders\n",
    "#dataset = CustomDataset(encoding, torch.tensor(labels).float().reshape(-1, 1))\n",
    "#print(f\"Dataset size: {len(dataset)}\")\n",
    "train_size = 1000\n",
    "val_size = 1000 #TODO\n",
    "#test_size = len(dataset) - train_size - val_size\n",
    "#print(f\"Train size: {train_size}, Val size: {val_size}, Test size: {test_size}\")\n",
    "#train_dataset, val_dataset, test_dataset = random_split(dataset, [train_size, val_size, test_size])\n",
    "#train_loader = DataLoader(train_dataset, batch_size=len(train_dataset), shuffle=True)\n",
    "#val_loader = DataLoader(val_dataset, batch_size=len(val_dataset), shuffle=False)\n",
    "#test_loader = DataLoader(test_dataset, batch_size=len(test_dataset), shuffle=False)\n",
    "train_dataset = CustomDataset(encoding[:train_size], torch.tensor(labels).float().reshape(-1, 1)[:train_size])\n",
    "val_dataset = CustomDataset(encoding[train_size:train_size+val_size], torch.tensor(labels).float().reshape(-1, 1)[train_size:train_size+val_size])\n",
    "test_dataset = CustomDataset(encoding[train_size+val_size:], torch.tensor(labels).float().reshape(-1, 1)[train_size+val_size:])\n",
    "train_loader = DataLoader(train_dataset, batch_size=len(train_dataset), shuffle=True)\n",
    "val_loader = DataLoader(val_dataset, batch_size=len(val_dataset), shuffle=False)\n",
    "test_loader = DataLoader(test_dataset, batch_size=len(test_dataset), shuffle=False)\n",
    "\n",
    "# Initialize model and optimizer\n",
    "#model = BertForSequenceClassification.from_pretrained(\"bert-base-uncased\", num_labels=2)\n",
    "model = BertAndTabPFN(preprocess_before_tabpfn=True, linear_translator=False).to('cuda')\n",
    "optimizer = optim.AdamW(model.parameters(), lr=1e-4)\n",
    "\n",
    "# Training loop\n",
    "num_epochs = 20\n",
    "for epoch in range(num_epochs):\n",
    "    ###########\n",
    "    # Train loop\n",
    "    model.train()\n",
    "    for batch in train_loader:\n",
    "        input_ids_train = batch['input_ids']\n",
    "        attention_mask_train = batch['attention_mask']\n",
    "        labels_train = batch['labels']\n",
    "        # move the inputs to GPU\n",
    "        input_ids_train = input_ids_train.to('cuda')\n",
    "        attention_mask_train = attention_mask_train.to('cuda')\n",
    "        labels_train = labels_train.to('cuda')\n",
    "        single_eval_pos = 500\n",
    "        output = model(input_ids_train, attention_mask=attention_mask_train, y=labels_train, single_eval_pos=single_eval_pos).squeeze()\n",
    "        loss = nn.CrossEntropyLoss()(output, labels_train[single_eval_pos:].long().reshape(-1))\n",
    "        if epoch > 0:\n",
    "            loss.backward()\n",
    "            optimizer.step()\n",
    "            optimizer.zero_grad()\n",
    "        # compute train accuracy\n",
    "        preds = torch.argmax(output, axis=-1).cpu().detach().numpy()\n",
    "        train_accuracy = accuracy_score(labels_train[single_eval_pos:].cpu().detach().numpy().reshape(-1), preds)\n",
    "        print(f\"Epoch {epoch + 1} - Training loss: {loss}, Training accuracy: {train_accuracy}\")\n",
    "    # Validation loop\n",
    "    model.eval()\n",
    "    val_preds, val_labels, val_losses = [], [], []\n",
    "    best_val_loss = np.inf\n",
    "    with torch.no_grad():\n",
    "        for batch in val_loader: #TODO: remove the useless for loop\n",
    "            input_ids_val = batch['input_ids']\n",
    "            attention_mask_val = batch['attention_mask']\n",
    "            labels_val = batch['labels']\n",
    "            # move the inputs to GPU\n",
    "            input_ids_val = input_ids_val.to('cuda')\n",
    "            attention_mask_val = attention_mask_val.to('cuda')\n",
    "            labels_val = labels_val.to('cuda')\n",
    "            # concatenate train and val\n",
    "            #TODO: make sure this is correct, no leak etc\n",
    "            # maybe safer to create a TabPFNClassifier with the same parameters as the one in BertAndTabPFN\n",
    "            input_ids = torch.cat((input_ids_train, input_ids_val), axis=0)\n",
    "            attention_mask = torch.cat((attention_mask_train, attention_mask_val), axis=0)\n",
    "            labels = torch.cat((labels_train, labels_val), axis=0)\n",
    "            single_eval_pos = 1000\n",
    "            output = model(input_ids, attention_mask=attention_mask, y=labels, single_eval_pos=single_eval_pos).squeeze()\n",
    "            val_loss = nn.CrossEntropyLoss()(output, labels[single_eval_pos:].long().reshape(-1))\n",
    "            if val_loss < best_val_loss:\n",
    "                print(f\"New best validation loss: {val_loss}\")\n",
    "                best_val_loss = val_loss\n",
    "                # save the model\n",
    "                torch.save(model.state_dict(), \"checkpoints/model.pt\")\n",
    "                # save input_ids_train, attention_mask_train, labels_train\n",
    "                torch.save(input_ids_train, \"checkpoints/input_ids_train.pt\")\n",
    "                torch.save(attention_mask_train, \"checkpoints/attention_mask_train.pt\")\n",
    "                torch.save(labels_train, \"checkpoints/labels_train.pt\")\n",
    "\n",
    "\n",
    "            val_losses.append(val_loss.cpu())\n",
    "            preds = torch.argmax(output, axis=-1).cpu().detach().numpy()\n",
    "            val_preds.append(preds)\n",
    "            val_labels.append(labels[single_eval_pos:].cpu().detach().numpy().reshape(-1))\n",
    "    val_preds = np.concatenate(val_preds)\n",
    "    val_labels = np.concatenate(val_labels)\n",
    "    val_losses = np.mean(val_losses)\n",
    "    print(f\"Epoch {epoch + 1} - Validation loss: {val_losses}\")\n",
    "    # Compute accuracy\n",
    "    val_accuracy = accuracy_score(val_labels, val_preds)\n",
    "    print(f\"Epoch {epoch + 1} - Validation accuracy: {val_accuracy}\")\n",
    "\n",
    "# Load the best model\n",
    "model.load_state_dict(torch.load(\"checkpoints/model.pt\"))\n",
    "input_ids_train = torch.load(\"checkpoints/input_ids_train.pt\")\n",
    "attention_mask_train = torch.load(\"checkpoints/attention_mask_train.pt\")\n",
    "labels_train = torch.load(\"checkpoints/labels_train.pt\")\n",
    "\n",
    "# Test loop\n",
    "model.eval()\n",
    "test_preds, test_labels, test_losses = [], [], []\n",
    "with torch.no_grad():\n",
    "    for batch in test_loader:\n",
    "        input_ids_test = batch['input_ids']\n",
    "        attention_mask_test = batch['attention_mask']\n",
    "        labels_test = batch['labels']\n",
    "        # move the inputs to GPU\n",
    "        input_ids_test = input_ids_test.to('cuda')\n",
    "        attention_mask_test = attention_mask_test.to('cuda')\n",
    "        labels_test = labels_test.to('cuda')\n",
    "        # concatenate train and val\n",
    "        #TODO put this back\n",
    "        #input_ids = torch.cat((input_ids_train, input_ids_test), axis=0)\n",
    "        #attention_mask = torch.cat((attention_mask_train, attention_mask_test), axis=0)\n",
    "        #labels = torch.cat((labels_train, labels_test), axis=0)\n",
    "        single_eval_pos = 1000\n",
    "\n",
    "        output = model(input_ids_test, attention_mask=attention_mask_test, y=labels_test, single_eval_pos=single_eval_pos).squeeze()\n",
    "        test_loss = nn.CrossEntropyLoss()(output, labels_test[single_eval_pos:].long().reshape(-1))\n",
    "        test_losses.append(test_loss.cpu())\n",
    "        preds = torch.argmax(output, axis=-1).cpu().detach().numpy()\n",
    "        test_preds.append(preds)\n",
    "        test_labels.append(labels_test[single_eval_pos:].cpu().detach().numpy().reshape(-1))\n",
    "\n",
    "test_preds = np.concatenate(test_preds)\n",
    "test_labels = np.concatenate(test_labels)\n",
    "test_losses = np.mean(test_losses)\n",
    "print(f\"Test loss: {test_losses}\")\n",
    "print(f\"Test accuracy: {accuracy_score(test_labels, test_preds)}\")\n",
    "\n",
    "# Save the model\n",
    "# model.save_pretrained(\"./fine_tuned_bert\")\n"
   ]
  },
  {
   "cell_type": "code",
   "execution_count": null,
   "metadata": {},
   "outputs": [],
   "source": [
    "np.unique(test_labels, return_counts=True)"
   ]
  },
  {
   "cell_type": "code",
   "execution_count": null,
   "metadata": {},
   "outputs": [],
   "source": [
    "np.unique(test_preds, return_counts=True)"
   ]
  },
  {
   "cell_type": "code",
   "execution_count": null,
   "metadata": {},
   "outputs": [],
   "source": []
  }
 ],
 "metadata": {
  "kernelspec": {
   "display_name": "Python 3 (ipykernel)",
   "language": "python",
   "name": "python3"
  },
  "language_info": {
   "codemirror_mode": {
    "name": "ipython",
    "version": 3
   },
   "file_extension": ".py",
   "mimetype": "text/x-python",
   "name": "python",
   "nbconvert_exporter": "python",
   "pygments_lexer": "ipython3",
   "version": "3.10.12"
  }
 },
 "nbformat": 4,
 "nbformat_minor": 2
}
