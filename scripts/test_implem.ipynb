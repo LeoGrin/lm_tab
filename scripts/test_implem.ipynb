{
 "cells": [
  {
   "cell_type": "code",
   "execution_count": 1,
   "metadata": {},
   "outputs": [
    {
     "name": "stdout",
     "output_type": "stream",
     "text": [
      "/scratch/lgrinszt/lm_tab/scripts\n"
     ]
    }
   ],
   "source": [
    "!pwd"
   ]
  },
  {
   "cell_type": "code",
   "execution_count": 2,
   "metadata": {},
   "outputs": [],
   "source": [
    "%load_ext autoreload\n",
    "%autoreload 2"
   ]
  },
  {
   "cell_type": "code",
   "execution_count": 1,
   "metadata": {},
   "outputs": [],
   "source": [
    "from src.data_loading import load_data\n",
    "from src.utils import FeaturesExtractor, FixedSizeSplit\n",
    "from src.encodings import encode, encode_high_cardinality_features\n",
    "from sklearn.decomposition import PCA\n",
    "from sklearn.pipeline import Pipeline\n",
    "from sklearn.linear_model import LogisticRegression\n",
    "from sklearn.model_selection import cross_val_score"
   ]
  },
  {
   "cell_type": "code",
   "execution_count": 3,
   "metadata": {},
   "outputs": [
    {
     "name": "stderr",
     "output_type": "stream",
     "text": [
      "/scratch/lgrinszt/micromamba/envs/dpo/lib/python3.10/site-packages/submitit/auto/auto.py:23: UserWarning: Setting 'exclude' is deprecated. Use 'slurm_exclude' instead.\n",
      "  warnings.warn(f\"Setting '{arg}' is deprecated. Use '{new_arg}' instead.\")\n",
      "  0%|          | 0/1 [00:00<?, ?it/s]"
     ]
    },
    {
     "name": "stdout",
     "output_type": "stream",
     "text": [
      "Removed 1 columns with missing values on 8 columns\n",
      "Removed 37355 rows with missing values on 85572 rows\n",
      "Removed 37355 rows with missing values on 48217 rows\n",
      "Removed 1 columns with missing values on 6 columns\n",
      "New shape: (48217, 7)\n",
      "Original task: regression for agora\n",
      "Converting to binary classification\n",
      "Classes (array([0, 1]), array([24113, 24104]))\n",
      "X shape: (10000, 7), y shape: (10000,)\n"
     ]
    },
    {
     "name": "stderr",
     "output_type": "stream",
     "text": [
      "100%|██████████| 1/1 [00:01<00:00,  1.40s/it]"
     ]
    },
    {
     "name": "stdout",
     "output_type": "stream",
     "text": [
      "numeric ['Price']\n",
      "high_card_cat ['Vendor', 'Category', 'Item', 'Origin', 'Destination', 'name']\n",
      "High cardinality columns ['Vendor', 'Category', 'Item', 'Origin', 'Destination', 'name']\n",
      "working dir /scratch/lgrinszt/lm_tab/scripts\n",
      "Loaded from cache\n",
      "working dir /scratch/lgrinszt/lm_tab/scripts\n",
      "Loaded from cache\n",
      "working dir /scratch/lgrinszt/lm_tab/scripts\n",
      "Loaded from cache\n",
      "working dir /scratch/lgrinszt/lm_tab/scripts\n",
      "Loaded from cache\n",
      "working dir /scratch/lgrinszt/lm_tab/scripts\n",
      "Loaded from cache\n",
      "working dir /scratch/lgrinszt/lm_tab/scripts\n",
      "Loaded from cache\n"
     ]
    },
    {
     "name": "stderr",
     "output_type": "stream",
     "text": [
      "\n"
     ]
    }
   ],
   "source": [
    "import submitit\n",
    "from functools import partial\n",
    "from tqdm import tqdm\n",
    "encodings = [\"skrub__minhash_30\"]#, \"lm__all-distilroberta-v1\", \"lm__all-mpnet-base-v2\", \"openai__\"]\n",
    "#encodings = [\"lm__all-distilroberta-v1\"]\n",
    "\n",
    "# model_names = [\n",
    "#     \"BAAI/bge-large-en-v1.5\",\n",
    "#     \"BAAI/bge-base-en-v1.5\",\n",
    "#     \"llmrails/ember-v1\",\n",
    "#     \"thenlper/gte-large\",\n",
    "#     \"thenlper/gte-base\",\n",
    "#     \"intfloat/e5-large-v2\",\n",
    "#     \"BAAI/bge-small-en-v1.5\",\n",
    "#     \"hkunlp/instructor-xl\",\n",
    "#     \"hkunlp/instructor-large\",\n",
    "#     \"intfloat/e5-base-v2\",\n",
    "#     \"intfloat/multilingual-e5-large\",\n",
    "#     \"intfloat/e5-large\",\n",
    "#     \"thenlper/gte-small\",\n",
    "#     \"intfloat/e5-base\",\n",
    "#     \"intfloat/e5-small-v2\",\n",
    "#     \"hkunlp/instructor-base\",\n",
    "#     \"sentence-t5-xxl\",\n",
    "#     \"intfloat/multilingual-e5-base\",\n",
    "#     #\"XLM-3B5-embedding\",\n",
    "#     \"gtr-t5-xxl\",\n",
    "#     #\"SGPT-5.8B-weightedmean-msmarco-specb-bitfit\",\n",
    "#     \"intfloat/e5-small\",\n",
    "#     \"TaylorAI/gte-tiny\",\n",
    "#     \"gtr-t5-xl\",\n",
    "#     \"gtr-t5-large\",\n",
    "#     #\"XLM-0B6-embedding\",\n",
    "#     \"intfloat/multilingual-e5-small\",\n",
    "#     \"sentence-t5-xl\",\n",
    "#     \"all-mpnet-base-v2\",\n",
    "#     #\"sgpt-bloom-7b1-msmarco\",\n",
    "#     \"jinaai/jina-embedding-l-en-v1\",\n",
    "#     #\"SGPT-2.7B-weightedmean-msmarco-specb-bitfit\",\n",
    "#     \"sentence-t5-large\",\n",
    "#     #\"MegatronBert-1B3-embedding\",\n",
    "#     \"TaylorAI/bge-micro-v2\",\n",
    "#     \"all-MiniLM-L12-v2\",\n",
    "#     \"all-MiniLM-L6-v2\",\n",
    "#     \"jinaai/jina-embedding-b-en-v1\",\n",
    "#     #\"SGPT-1.3B-weightedmean-msmarco-specb-bitfit\",\n",
    "#     \"gtr-t5-base\",\n",
    "#     \"nthakur/contriever-base-msmarco\",\n",
    "#     \"TaylorAI/bge-micro\",\n",
    "#     \"sentence-t5-base\",\n",
    "#     \"paraphrase-multilingual-mpnet-base-v2\",\n",
    "#     \"Hum-Works/lodestone-base-4096-v1\",\n",
    "#     #\"SGPT-5.8B-weightedmean-nli-bitfit\",\n",
    "#     \"paraphrase-multilingual-MiniLM-L12-v2\",\n",
    "#     \"msmarco-bert-co-condensor\",\n",
    "#     \"jinaai/jina-embedding-s-en-v1\"\n",
    "# ]\n",
    "# for model_name in model_names:\n",
    "#     encodings.append(f\"lm__{model_name}\")\n",
    "\n",
    "\n",
    "# encodings.extend([\"skrub__minhash_30_word_none\", \"skrub__minhash_30_tokenizer_gpt2\"])\n",
    "\n",
    "#encodings = [\"lm__all-distilroberta-v1\", \"lm__all-mpnet-base-v2\"]\n",
    "\n",
    "#datasets = [\"journal_jcr_cls\", \"movies\", \"michelin\", \"spotify\", \"employee_salary\", \"museums\", \"fifa_footballplayers_22\", \"jp_anime\", \"clear_corpus\", \"company_employees\", \"us_presidential\", \"us_accidents_severity\", \"us_accidents_counts\", \"wine_review\"]\n",
    "#datasets.extend([\"building_permits\", \"agora\", \"met_objects\", \"public\", \"kickstarter\", \"colleges\", \"drug_directory\", \"medical_charge\", \"traffic_violations\"])\n",
    "#datasets = [\"drug_directory\", \"met_objects\"]\n",
    "datasets = [\"agora\"]\n",
    "\n",
    "\n",
    "executor = submitit.AutoExecutor(folder=\"logs\")\n",
    "executor.update_parameters(timeout_min=400, slurm_partition='parietal,normal', slurm_array_parallelism=300, cpus_per_task=2,\n",
    "                            exclude=\"margpu009\")\n",
    "\n",
    "\n",
    "jobs = []\n",
    "\n",
    "for dataset in tqdm(datasets):\n",
    "    for encoding in tqdm(encodings, leave=False):\n",
    "        X, y = load_data(dataset, max_rows=10000)\n",
    "        #X_enc = encode(X_text, encoding, dataset_name=dataset, override_cache=False)\n",
    "        X_enc, X_rest = encode_high_cardinality_features(X, encoding, dataset_name=dataset, override_cache=False, cardinality_threshold=30)"
   ]
  },
  {
   "cell_type": "code",
   "execution_count": 75,
   "metadata": {},
   "outputs": [
    {
     "name": "stdout",
     "output_type": "stream",
     "text": [
      "Vendor: 1422\n",
      "Category: 93\n",
      "Item: 9988\n",
      "Price: 9884\n",
      "Origin: 186\n",
      "Destination: 532\n",
      "name: 9988\n"
     ]
    }
   ],
   "source": [
    "# compute number of unique elements per column\n",
    "for col in X.columns:\n",
    "    print(f\"{col}: {len(X[col].unique())}\")"
   ]
  },
  {
   "cell_type": "code",
   "execution_count": 4,
   "metadata": {},
   "outputs": [
    {
     "data": {
      "text/html": [
       "<div>\n",
       "<style scoped>\n",
       "    .dataframe tbody tr th:only-of-type {\n",
       "        vertical-align: middle;\n",
       "    }\n",
       "\n",
       "    .dataframe tbody tr th {\n",
       "        vertical-align: top;\n",
       "    }\n",
       "\n",
       "    .dataframe thead th {\n",
       "        text-align: right;\n",
       "    }\n",
       "</style>\n",
       "<table border=\"1\" class=\"dataframe\">\n",
       "  <thead>\n",
       "    <tr style=\"text-align: right;\">\n",
       "      <th></th>\n",
       "      <th>Vendor__0</th>\n",
       "      <th>Vendor__1</th>\n",
       "      <th>Vendor__2</th>\n",
       "      <th>Vendor__3</th>\n",
       "      <th>Vendor__4</th>\n",
       "      <th>Vendor__5</th>\n",
       "      <th>Vendor__6</th>\n",
       "      <th>Vendor__7</th>\n",
       "      <th>Vendor__8</th>\n",
       "      <th>Vendor__9</th>\n",
       "      <th>...</th>\n",
       "      <th>name__20</th>\n",
       "      <th>name__21</th>\n",
       "      <th>name__22</th>\n",
       "      <th>name__23</th>\n",
       "      <th>name__24</th>\n",
       "      <th>name__25</th>\n",
       "      <th>name__26</th>\n",
       "      <th>name__27</th>\n",
       "      <th>name__28</th>\n",
       "      <th>name__29</th>\n",
       "    </tr>\n",
       "  </thead>\n",
       "  <tbody>\n",
       "    <tr>\n",
       "      <th>0</th>\n",
       "      <td>-2.126502e+09</td>\n",
       "      <td>-1.950527e+09</td>\n",
       "      <td>-1.928854e+09</td>\n",
       "      <td>-2.130174e+09</td>\n",
       "      <td>-1.956612e+09</td>\n",
       "      <td>-1.930518e+09</td>\n",
       "      <td>-2.084143e+09</td>\n",
       "      <td>-2.131721e+09</td>\n",
       "      <td>-2.096258e+09</td>\n",
       "      <td>-2.087500e+09</td>\n",
       "      <td>...</td>\n",
       "      <td>-2.100470e+09</td>\n",
       "      <td>-2.112149e+09</td>\n",
       "      <td>-2.105834e+09</td>\n",
       "      <td>-2.125058e+09</td>\n",
       "      <td>-2.139867e+09</td>\n",
       "      <td>-1.897039e+09</td>\n",
       "      <td>-1.982875e+09</td>\n",
       "      <td>-2.136507e+09</td>\n",
       "      <td>-2.121027e+09</td>\n",
       "      <td>-2.013919e+09</td>\n",
       "    </tr>\n",
       "    <tr>\n",
       "      <th>1</th>\n",
       "      <td>-1.287892e+09</td>\n",
       "      <td>-2.106274e+09</td>\n",
       "      <td>-3.778202e+08</td>\n",
       "      <td>-1.258231e+09</td>\n",
       "      <td>-1.537158e+09</td>\n",
       "      <td>-1.228189e+09</td>\n",
       "      <td>-1.777688e+09</td>\n",
       "      <td>-1.864403e+09</td>\n",
       "      <td>-1.518832e+09</td>\n",
       "      <td>-9.232291e+08</td>\n",
       "      <td>...</td>\n",
       "      <td>-2.139064e+09</td>\n",
       "      <td>-2.134909e+09</td>\n",
       "      <td>-1.969169e+09</td>\n",
       "      <td>-1.920846e+09</td>\n",
       "      <td>-1.719875e+09</td>\n",
       "      <td>-2.081191e+09</td>\n",
       "      <td>-2.106766e+09</td>\n",
       "      <td>-2.129676e+09</td>\n",
       "      <td>-1.812853e+09</td>\n",
       "      <td>-2.089781e+09</td>\n",
       "    </tr>\n",
       "    <tr>\n",
       "      <th>2</th>\n",
       "      <td>-1.021094e+09</td>\n",
       "      <td>-2.110522e+09</td>\n",
       "      <td>-2.097152e+09</td>\n",
       "      <td>-1.434570e+09</td>\n",
       "      <td>-1.891845e+09</td>\n",
       "      <td>-1.000239e+09</td>\n",
       "      <td>-2.000371e+09</td>\n",
       "      <td>-2.101812e+09</td>\n",
       "      <td>-1.465632e+09</td>\n",
       "      <td>-2.122120e+09</td>\n",
       "      <td>...</td>\n",
       "      <td>-2.111383e+09</td>\n",
       "      <td>-2.143950e+09</td>\n",
       "      <td>-2.139554e+09</td>\n",
       "      <td>-2.129652e+09</td>\n",
       "      <td>-2.086118e+09</td>\n",
       "      <td>-2.021854e+09</td>\n",
       "      <td>-2.117788e+09</td>\n",
       "      <td>-2.071402e+09</td>\n",
       "      <td>-1.902590e+09</td>\n",
       "      <td>-2.133570e+09</td>\n",
       "    </tr>\n",
       "    <tr>\n",
       "      <th>3</th>\n",
       "      <td>-2.085421e+09</td>\n",
       "      <td>-2.106274e+09</td>\n",
       "      <td>-2.042901e+09</td>\n",
       "      <td>-1.864994e+09</td>\n",
       "      <td>-1.983355e+09</td>\n",
       "      <td>-1.818518e+09</td>\n",
       "      <td>-1.808833e+09</td>\n",
       "      <td>-2.098677e+09</td>\n",
       "      <td>-2.065360e+09</td>\n",
       "      <td>-1.966892e+09</td>\n",
       "      <td>...</td>\n",
       "      <td>-2.039056e+09</td>\n",
       "      <td>-2.146975e+09</td>\n",
       "      <td>-2.056534e+09</td>\n",
       "      <td>-1.934834e+09</td>\n",
       "      <td>-2.131045e+09</td>\n",
       "      <td>-2.072786e+09</td>\n",
       "      <td>-2.136662e+09</td>\n",
       "      <td>-2.091219e+09</td>\n",
       "      <td>-2.137393e+09</td>\n",
       "      <td>-2.113143e+09</td>\n",
       "    </tr>\n",
       "    <tr>\n",
       "      <th>4</th>\n",
       "      <td>-2.008292e+09</td>\n",
       "      <td>-1.877980e+09</td>\n",
       "      <td>-1.989600e+09</td>\n",
       "      <td>-1.899041e+09</td>\n",
       "      <td>-2.052206e+09</td>\n",
       "      <td>-1.876049e+09</td>\n",
       "      <td>-1.985287e+09</td>\n",
       "      <td>-1.918418e+09</td>\n",
       "      <td>-2.110388e+09</td>\n",
       "      <td>-2.090792e+09</td>\n",
       "      <td>...</td>\n",
       "      <td>-2.115323e+09</td>\n",
       "      <td>-2.112149e+09</td>\n",
       "      <td>-2.095156e+09</td>\n",
       "      <td>-2.074471e+09</td>\n",
       "      <td>-2.139867e+09</td>\n",
       "      <td>-2.103609e+09</td>\n",
       "      <td>-2.107688e+09</td>\n",
       "      <td>-2.125669e+09</td>\n",
       "      <td>-2.073335e+09</td>\n",
       "      <td>-2.099509e+09</td>\n",
       "    </tr>\n",
       "    <tr>\n",
       "      <th>...</th>\n",
       "      <td>...</td>\n",
       "      <td>...</td>\n",
       "      <td>...</td>\n",
       "      <td>...</td>\n",
       "      <td>...</td>\n",
       "      <td>...</td>\n",
       "      <td>...</td>\n",
       "      <td>...</td>\n",
       "      <td>...</td>\n",
       "      <td>...</td>\n",
       "      <td>...</td>\n",
       "      <td>...</td>\n",
       "      <td>...</td>\n",
       "      <td>...</td>\n",
       "      <td>...</td>\n",
       "      <td>...</td>\n",
       "      <td>...</td>\n",
       "      <td>...</td>\n",
       "      <td>...</td>\n",
       "      <td>...</td>\n",
       "      <td>...</td>\n",
       "    </tr>\n",
       "    <tr>\n",
       "      <th>9995</th>\n",
       "      <td>-1.967212e+09</td>\n",
       "      <td>-2.137638e+09</td>\n",
       "      <td>-1.786618e+09</td>\n",
       "      <td>-1.998618e+09</td>\n",
       "      <td>-1.860407e+09</td>\n",
       "      <td>-1.799890e+09</td>\n",
       "      <td>-1.461668e+09</td>\n",
       "      <td>-1.418325e+09</td>\n",
       "      <td>-2.000461e+09</td>\n",
       "      <td>-1.689187e+09</td>\n",
       "      <td>...</td>\n",
       "      <td>-2.114070e+09</td>\n",
       "      <td>-2.129906e+09</td>\n",
       "      <td>-2.134135e+09</td>\n",
       "      <td>-2.124372e+09</td>\n",
       "      <td>-2.071324e+09</td>\n",
       "      <td>-2.111948e+09</td>\n",
       "      <td>-2.063745e+09</td>\n",
       "      <td>-2.114560e+09</td>\n",
       "      <td>-2.103723e+09</td>\n",
       "      <td>-2.070772e+09</td>\n",
       "    </tr>\n",
       "    <tr>\n",
       "      <th>9996</th>\n",
       "      <td>-1.737019e+09</td>\n",
       "      <td>-1.933067e+09</td>\n",
       "      <td>-1.986280e+09</td>\n",
       "      <td>-2.097068e+09</td>\n",
       "      <td>-1.854814e+09</td>\n",
       "      <td>-2.027841e+09</td>\n",
       "      <td>-2.134156e+09</td>\n",
       "      <td>-2.063007e+09</td>\n",
       "      <td>-1.995449e+09</td>\n",
       "      <td>-1.745134e+09</td>\n",
       "      <td>...</td>\n",
       "      <td>-2.137358e+09</td>\n",
       "      <td>-2.143422e+09</td>\n",
       "      <td>-2.118717e+09</td>\n",
       "      <td>-2.129652e+09</td>\n",
       "      <td>-2.111954e+09</td>\n",
       "      <td>-2.080744e+09</td>\n",
       "      <td>-2.105423e+09</td>\n",
       "      <td>-2.077050e+09</td>\n",
       "      <td>-2.140568e+09</td>\n",
       "      <td>-2.082163e+09</td>\n",
       "    </tr>\n",
       "    <tr>\n",
       "      <th>9997</th>\n",
       "      <td>-2.029614e+09</td>\n",
       "      <td>-1.241393e+09</td>\n",
       "      <td>-1.915339e+09</td>\n",
       "      <td>-1.304476e+09</td>\n",
       "      <td>-1.953826e+09</td>\n",
       "      <td>-1.976031e+09</td>\n",
       "      <td>-1.723939e+09</td>\n",
       "      <td>-1.635422e+09</td>\n",
       "      <td>-1.833757e+09</td>\n",
       "      <td>-1.896639e+09</td>\n",
       "      <td>...</td>\n",
       "      <td>-2.080987e+09</td>\n",
       "      <td>-2.143422e+09</td>\n",
       "      <td>-2.140968e+09</td>\n",
       "      <td>-2.146928e+09</td>\n",
       "      <td>-2.131331e+09</td>\n",
       "      <td>-2.130327e+09</td>\n",
       "      <td>-2.122076e+09</td>\n",
       "      <td>-2.109461e+09</td>\n",
       "      <td>-2.065652e+09</td>\n",
       "      <td>-2.109453e+09</td>\n",
       "    </tr>\n",
       "    <tr>\n",
       "      <th>9998</th>\n",
       "      <td>-2.141150e+09</td>\n",
       "      <td>-1.421928e+09</td>\n",
       "      <td>-2.049156e+09</td>\n",
       "      <td>-2.075022e+09</td>\n",
       "      <td>-1.860407e+09</td>\n",
       "      <td>-1.705955e+09</td>\n",
       "      <td>-2.126412e+09</td>\n",
       "      <td>-1.796863e+09</td>\n",
       "      <td>-1.775558e+09</td>\n",
       "      <td>-1.137585e+09</td>\n",
       "      <td>...</td>\n",
       "      <td>-2.126585e+09</td>\n",
       "      <td>-2.112149e+09</td>\n",
       "      <td>-2.092722e+09</td>\n",
       "      <td>-2.129652e+09</td>\n",
       "      <td>-2.137029e+09</td>\n",
       "      <td>-2.077397e+09</td>\n",
       "      <td>-1.886511e+09</td>\n",
       "      <td>-2.057681e+09</td>\n",
       "      <td>-1.640868e+09</td>\n",
       "      <td>-1.992615e+09</td>\n",
       "    </tr>\n",
       "    <tr>\n",
       "      <th>9999</th>\n",
       "      <td>-2.078530e+09</td>\n",
       "      <td>-1.752634e+09</td>\n",
       "      <td>-2.005282e+09</td>\n",
       "      <td>-1.801729e+09</td>\n",
       "      <td>-2.116927e+09</td>\n",
       "      <td>-1.734980e+09</td>\n",
       "      <td>-2.033929e+09</td>\n",
       "      <td>-1.749762e+09</td>\n",
       "      <td>-1.888666e+09</td>\n",
       "      <td>-1.956527e+09</td>\n",
       "      <td>...</td>\n",
       "      <td>-1.877857e+09</td>\n",
       "      <td>-2.063191e+09</td>\n",
       "      <td>-2.119325e+09</td>\n",
       "      <td>-2.137675e+09</td>\n",
       "      <td>-2.028934e+09</td>\n",
       "      <td>-2.110381e+09</td>\n",
       "      <td>-2.076022e+09</td>\n",
       "      <td>-2.142164e+09</td>\n",
       "      <td>-2.062138e+09</td>\n",
       "      <td>-2.145432e+09</td>\n",
       "    </tr>\n",
       "  </tbody>\n",
       "</table>\n",
       "<p>10000 rows × 180 columns</p>\n",
       "</div>"
      ],
      "text/plain": [
       "         Vendor__0     Vendor__1     Vendor__2     Vendor__3     Vendor__4  \\\n",
       "0    -2.126502e+09 -1.950527e+09 -1.928854e+09 -2.130174e+09 -1.956612e+09   \n",
       "1    -1.287892e+09 -2.106274e+09 -3.778202e+08 -1.258231e+09 -1.537158e+09   \n",
       "2    -1.021094e+09 -2.110522e+09 -2.097152e+09 -1.434570e+09 -1.891845e+09   \n",
       "3    -2.085421e+09 -2.106274e+09 -2.042901e+09 -1.864994e+09 -1.983355e+09   \n",
       "4    -2.008292e+09 -1.877980e+09 -1.989600e+09 -1.899041e+09 -2.052206e+09   \n",
       "...            ...           ...           ...           ...           ...   \n",
       "9995 -1.967212e+09 -2.137638e+09 -1.786618e+09 -1.998618e+09 -1.860407e+09   \n",
       "9996 -1.737019e+09 -1.933067e+09 -1.986280e+09 -2.097068e+09 -1.854814e+09   \n",
       "9997 -2.029614e+09 -1.241393e+09 -1.915339e+09 -1.304476e+09 -1.953826e+09   \n",
       "9998 -2.141150e+09 -1.421928e+09 -2.049156e+09 -2.075022e+09 -1.860407e+09   \n",
       "9999 -2.078530e+09 -1.752634e+09 -2.005282e+09 -1.801729e+09 -2.116927e+09   \n",
       "\n",
       "         Vendor__5     Vendor__6     Vendor__7     Vendor__8     Vendor__9  \\\n",
       "0    -1.930518e+09 -2.084143e+09 -2.131721e+09 -2.096258e+09 -2.087500e+09   \n",
       "1    -1.228189e+09 -1.777688e+09 -1.864403e+09 -1.518832e+09 -9.232291e+08   \n",
       "2    -1.000239e+09 -2.000371e+09 -2.101812e+09 -1.465632e+09 -2.122120e+09   \n",
       "3    -1.818518e+09 -1.808833e+09 -2.098677e+09 -2.065360e+09 -1.966892e+09   \n",
       "4    -1.876049e+09 -1.985287e+09 -1.918418e+09 -2.110388e+09 -2.090792e+09   \n",
       "...            ...           ...           ...           ...           ...   \n",
       "9995 -1.799890e+09 -1.461668e+09 -1.418325e+09 -2.000461e+09 -1.689187e+09   \n",
       "9996 -2.027841e+09 -2.134156e+09 -2.063007e+09 -1.995449e+09 -1.745134e+09   \n",
       "9997 -1.976031e+09 -1.723939e+09 -1.635422e+09 -1.833757e+09 -1.896639e+09   \n",
       "9998 -1.705955e+09 -2.126412e+09 -1.796863e+09 -1.775558e+09 -1.137585e+09   \n",
       "9999 -1.734980e+09 -2.033929e+09 -1.749762e+09 -1.888666e+09 -1.956527e+09   \n",
       "\n",
       "      ...      name__20      name__21      name__22      name__23  \\\n",
       "0     ... -2.100470e+09 -2.112149e+09 -2.105834e+09 -2.125058e+09   \n",
       "1     ... -2.139064e+09 -2.134909e+09 -1.969169e+09 -1.920846e+09   \n",
       "2     ... -2.111383e+09 -2.143950e+09 -2.139554e+09 -2.129652e+09   \n",
       "3     ... -2.039056e+09 -2.146975e+09 -2.056534e+09 -1.934834e+09   \n",
       "4     ... -2.115323e+09 -2.112149e+09 -2.095156e+09 -2.074471e+09   \n",
       "...   ...           ...           ...           ...           ...   \n",
       "9995  ... -2.114070e+09 -2.129906e+09 -2.134135e+09 -2.124372e+09   \n",
       "9996  ... -2.137358e+09 -2.143422e+09 -2.118717e+09 -2.129652e+09   \n",
       "9997  ... -2.080987e+09 -2.143422e+09 -2.140968e+09 -2.146928e+09   \n",
       "9998  ... -2.126585e+09 -2.112149e+09 -2.092722e+09 -2.129652e+09   \n",
       "9999  ... -1.877857e+09 -2.063191e+09 -2.119325e+09 -2.137675e+09   \n",
       "\n",
       "          name__24      name__25      name__26      name__27      name__28  \\\n",
       "0    -2.139867e+09 -1.897039e+09 -1.982875e+09 -2.136507e+09 -2.121027e+09   \n",
       "1    -1.719875e+09 -2.081191e+09 -2.106766e+09 -2.129676e+09 -1.812853e+09   \n",
       "2    -2.086118e+09 -2.021854e+09 -2.117788e+09 -2.071402e+09 -1.902590e+09   \n",
       "3    -2.131045e+09 -2.072786e+09 -2.136662e+09 -2.091219e+09 -2.137393e+09   \n",
       "4    -2.139867e+09 -2.103609e+09 -2.107688e+09 -2.125669e+09 -2.073335e+09   \n",
       "...            ...           ...           ...           ...           ...   \n",
       "9995 -2.071324e+09 -2.111948e+09 -2.063745e+09 -2.114560e+09 -2.103723e+09   \n",
       "9996 -2.111954e+09 -2.080744e+09 -2.105423e+09 -2.077050e+09 -2.140568e+09   \n",
       "9997 -2.131331e+09 -2.130327e+09 -2.122076e+09 -2.109461e+09 -2.065652e+09   \n",
       "9998 -2.137029e+09 -2.077397e+09 -1.886511e+09 -2.057681e+09 -1.640868e+09   \n",
       "9999 -2.028934e+09 -2.110381e+09 -2.076022e+09 -2.142164e+09 -2.062138e+09   \n",
       "\n",
       "          name__29  \n",
       "0    -2.013919e+09  \n",
       "1    -2.089781e+09  \n",
       "2    -2.133570e+09  \n",
       "3    -2.113143e+09  \n",
       "4    -2.099509e+09  \n",
       "...            ...  \n",
       "9995 -2.070772e+09  \n",
       "9996 -2.082163e+09  \n",
       "9997 -2.109453e+09  \n",
       "9998 -1.992615e+09  \n",
       "9999 -2.145432e+09  \n",
       "\n",
       "[10000 rows x 180 columns]"
      ]
     },
     "execution_count": 4,
     "metadata": {},
     "output_type": "execute_result"
    }
   ],
   "source": [
    "X_enc"
   ]
  },
  {
   "cell_type": "code",
   "execution_count": 5,
   "metadata": {},
   "outputs": [
    {
     "data": {
      "text/html": [
       "<div>\n",
       "<style scoped>\n",
       "    .dataframe tbody tr th:only-of-type {\n",
       "        vertical-align: middle;\n",
       "    }\n",
       "\n",
       "    .dataframe tbody tr th {\n",
       "        vertical-align: top;\n",
       "    }\n",
       "\n",
       "    .dataframe thead th {\n",
       "        text-align: right;\n",
       "    }\n",
       "</style>\n",
       "<table border=\"1\" class=\"dataframe\">\n",
       "  <thead>\n",
       "    <tr style=\"text-align: right;\">\n",
       "      <th></th>\n",
       "      <th>Price</th>\n",
       "    </tr>\n",
       "  </thead>\n",
       "  <tbody>\n",
       "    <tr>\n",
       "      <th>47119</th>\n",
       "      <td>0.524476</td>\n",
       "    </tr>\n",
       "    <tr>\n",
       "      <th>14481</th>\n",
       "      <td>0.354743</td>\n",
       "    </tr>\n",
       "    <tr>\n",
       "      <th>4413</th>\n",
       "      <td>0.166647</td>\n",
       "    </tr>\n",
       "    <tr>\n",
       "      <th>38609</th>\n",
       "      <td>0.590000</td>\n",
       "    </tr>\n",
       "    <tr>\n",
       "      <th>11032</th>\n",
       "      <td>0.082615</td>\n",
       "    </tr>\n",
       "    <tr>\n",
       "      <th>...</th>\n",
       "      <td>...</td>\n",
       "    </tr>\n",
       "    <tr>\n",
       "      <th>26561</th>\n",
       "      <td>0.292267</td>\n",
       "    </tr>\n",
       "    <tr>\n",
       "      <th>12375</th>\n",
       "      <td>0.300355</td>\n",
       "    </tr>\n",
       "    <tr>\n",
       "      <th>9288</th>\n",
       "      <td>0.648855</td>\n",
       "    </tr>\n",
       "    <tr>\n",
       "      <th>17884</th>\n",
       "      <td>0.176550</td>\n",
       "    </tr>\n",
       "    <tr>\n",
       "      <th>37159</th>\n",
       "      <td>0.089027</td>\n",
       "    </tr>\n",
       "  </tbody>\n",
       "</table>\n",
       "<p>10000 rows × 1 columns</p>\n",
       "</div>"
      ],
      "text/plain": [
       "          Price\n",
       "47119  0.524476\n",
       "14481  0.354743\n",
       "4413   0.166647\n",
       "38609  0.590000\n",
       "11032  0.082615\n",
       "...         ...\n",
       "26561  0.292267\n",
       "12375  0.300355\n",
       "9288   0.648855\n",
       "17884  0.176550\n",
       "37159  0.089027\n",
       "\n",
       "[10000 rows x 1 columns]"
      ]
     },
     "execution_count": 5,
     "metadata": {},
     "output_type": "execute_result"
    }
   ],
   "source": [
    "X_rest"
   ]
  },
  {
   "cell_type": "code",
   "execution_count": 6,
   "metadata": {},
   "outputs": [
    {
     "name": "stdout",
     "output_type": "stream",
     "text": [
      "Running GradientBoostingClassifier with passthrough and skrub__minhash_30\n",
      "[[30, 31, 32, 33, 34, 35, 36, 37, 38, 39, 40, 41, 42, 43, 44, 45, 46, 47, 48, 49, 50, 51, 52, 53, 54, 55, 56, 57, 58, 59], [120, 121, 122, 123, 124, 125, 126, 127, 128, 129, 130, 131, 132, 133, 134, 135, 136, 137, 138, 139, 140, 141, 142, 143, 144, 145, 146, 147, 148, 149], [60, 61, 62, 63, 64, 65, 66, 67, 68, 69, 70, 71, 72, 73, 74, 75, 76, 77, 78, 79, 80, 81, 82, 83, 84, 85, 86, 87, 88, 89], [90, 91, 92, 93, 94, 95, 96, 97, 98, 99, 100, 101, 102, 103, 104, 105, 106, 107, 108, 109, 110, 111, 112, 113, 114, 115, 116, 117, 118, 119], [0, 1, 2, 3, 4, 5, 6, 7, 8, 9, 10, 11, 12, 13, 14, 15, 16, 17, 18, 19, 20, 21, 22, 23, 24, 25, 26, 27, 28, 29], [150, 151, 152, 153, 154, 155, 156, 157, 158, 159, 160, 161, 162, 163, 164, 165, 166, 167, 168, 169, 170, 171, 172, 173, 174, 175, 176, 177, 178, 179]]\n",
      "6\n",
      "(10000, 180) (10000, 1) (10000, 181)\n",
      "(10000, 181)\n"
     ]
    },
    {
     "data": {
      "text/plain": [
       "{'encoding': 'skrub__minhash_30',\n",
       " 'dim_reduction': 'passthrough',\n",
       " 'model': 'GradientBoostingClassifier',\n",
       " 'n_train': 1000,\n",
       " 'n_test': 2000,\n",
       " 'accuracies': array([0.6805, 0.686 , 0.6795, 0.6805, 0.687 ]),\n",
       " 'roc_auc': array([0.74877154, 0.73975849, 0.73994224, 0.75409691, 0.74829533])}"
      ]
     },
     "execution_count": 6,
     "metadata": {},
     "output_type": "execute_result"
    }
   ],
   "source": [
    "from src.utils import run_on_encoded_data\n",
    "from sklearn.ensemble import GradientBoostingClassifier\n",
    "cv = FixedSizeSplit(n_splits=5, n_train=1000, n_test=2000, random_state=42)\n",
    "run_on_encoded_data(X_enc, X_rest, y, \"passthrough\", \"passthrough\", \"GradientBoostingClassifier\", GradientBoostingClassifier(), encoding,\n",
    "                        cv, regression=False)"
   ]
  },
  {
   "cell_type": "code",
   "execution_count": 80,
   "metadata": {},
   "outputs": [
    {
     "data": {
      "text/html": [
       "<div>\n",
       "<style scoped>\n",
       "    .dataframe tbody tr th:only-of-type {\n",
       "        vertical-align: middle;\n",
       "    }\n",
       "\n",
       "    .dataframe tbody tr th {\n",
       "        vertical-align: top;\n",
       "    }\n",
       "\n",
       "    .dataframe thead th {\n",
       "        text-align: right;\n",
       "    }\n",
       "</style>\n",
       "<table border=\"1\" class=\"dataframe\">\n",
       "  <thead>\n",
       "    <tr style=\"text-align: right;\">\n",
       "      <th></th>\n",
       "      <th>Price</th>\n",
       "    </tr>\n",
       "  </thead>\n",
       "  <tbody>\n",
       "    <tr>\n",
       "      <th>47119</th>\n",
       "      <td>0.524476</td>\n",
       "    </tr>\n",
       "    <tr>\n",
       "      <th>14481</th>\n",
       "      <td>0.354743</td>\n",
       "    </tr>\n",
       "    <tr>\n",
       "      <th>4413</th>\n",
       "      <td>0.166647</td>\n",
       "    </tr>\n",
       "    <tr>\n",
       "      <th>38609</th>\n",
       "      <td>0.590000</td>\n",
       "    </tr>\n",
       "    <tr>\n",
       "      <th>11032</th>\n",
       "      <td>0.082615</td>\n",
       "    </tr>\n",
       "    <tr>\n",
       "      <th>...</th>\n",
       "      <td>...</td>\n",
       "    </tr>\n",
       "    <tr>\n",
       "      <th>26561</th>\n",
       "      <td>0.292267</td>\n",
       "    </tr>\n",
       "    <tr>\n",
       "      <th>12375</th>\n",
       "      <td>0.300355</td>\n",
       "    </tr>\n",
       "    <tr>\n",
       "      <th>9288</th>\n",
       "      <td>0.648855</td>\n",
       "    </tr>\n",
       "    <tr>\n",
       "      <th>17884</th>\n",
       "      <td>0.176550</td>\n",
       "    </tr>\n",
       "    <tr>\n",
       "      <th>37159</th>\n",
       "      <td>0.089027</td>\n",
       "    </tr>\n",
       "  </tbody>\n",
       "</table>\n",
       "<p>10000 rows × 1 columns</p>\n",
       "</div>"
      ],
      "text/plain": [
       "          Price\n",
       "47119  0.524476\n",
       "14481  0.354743\n",
       "4413   0.166647\n",
       "38609  0.590000\n",
       "11032  0.082615\n",
       "...         ...\n",
       "26561  0.292267\n",
       "12375  0.300355\n",
       "9288   0.648855\n",
       "17884  0.176550\n",
       "37159  0.089027\n",
       "\n",
       "[10000 rows x 1 columns]"
      ]
     },
     "execution_count": 80,
     "metadata": {},
     "output_type": "execute_result"
    }
   ],
   "source": [
    "X_rest"
   ]
  },
  {
   "cell_type": "code",
   "execution_count": 22,
   "metadata": {},
   "outputs": [
    {
     "data": {
      "text/plain": [
       "150"
      ]
     },
     "execution_count": 22,
     "metadata": {},
     "output_type": "execute_result"
    }
   ],
   "source": [
    "5 * 30"
   ]
  },
  {
   "cell_type": "code",
   "execution_count": 71,
   "metadata": {},
   "outputs": [],
   "source": [
    "import seaborn as sns\n",
    "import matplotlib.pyplot as plt\n",
    "import plotly.express as px\n",
    "import pandas as pd\n",
    "\n",
    "#previous_results = pd.read_csv(\"../results/results_all_01_10.csv\")\n",
    "#new_results = pd.read_csv(\"../results/results_all_openai.csv\")\n",
    "#skrub_results = pd.read_csv(\"../results/results_all_skrub.csv\")\n",
    "#melted_results = pd.concat([previous_results, new_results, skrub_results])\n",
    "#melted_results = pd.read_csv(\"../results/results_all_04_10.csv\")\n",
    "#melted_results = pd.read_csv(\"../results/results_all_04_10_5000.csv\")\n",
    "#melted_results[\"accuracy\"] = melted_results[\"roc_auc\"]\n",
    "melted_results = pd.read_csv(\"../results/results_18_10.csv\")"
   ]
  },
  {
   "cell_type": "code",
   "execution_count": 62,
   "metadata": {},
   "outputs": [
    {
     "data": {
      "text/html": [
       "<div>\n",
       "<style scoped>\n",
       "    .dataframe tbody tr th:only-of-type {\n",
       "        vertical-align: middle;\n",
       "    }\n",
       "\n",
       "    .dataframe tbody tr th {\n",
       "        vertical-align: top;\n",
       "    }\n",
       "\n",
       "    .dataframe thead th {\n",
       "        text-align: right;\n",
       "    }\n",
       "</style>\n",
       "<table border=\"1\" class=\"dataframe\">\n",
       "  <thead>\n",
       "    <tr style=\"text-align: right;\">\n",
       "      <th></th>\n",
       "      <th>encoding</th>\n",
       "      <th>dim_reduction</th>\n",
       "      <th>model</th>\n",
       "      <th>accuracies</th>\n",
       "      <th>roc_auc</th>\n",
       "      <th>n_train</th>\n",
       "      <th>n_test</th>\n",
       "      <th>dataset</th>\n",
       "      <th>features</th>\n",
       "    </tr>\n",
       "  </thead>\n",
       "  <tbody>\n",
       "    <tr>\n",
       "      <th>105305</th>\n",
       "      <td>skrub__minhash_30</td>\n",
       "      <td>passthrough</td>\n",
       "      <td>GradientBoostingClassifier</td>\n",
       "      <td>0.6380</td>\n",
       "      <td>0.686041</td>\n",
       "      <td>1000</td>\n",
       "      <td>2000</td>\n",
       "      <td>agora</td>\n",
       "      <td>all</td>\n",
       "    </tr>\n",
       "    <tr>\n",
       "      <th>105306</th>\n",
       "      <td>skrub__minhash_30</td>\n",
       "      <td>passthrough</td>\n",
       "      <td>GradientBoostingClassifier</td>\n",
       "      <td>0.6265</td>\n",
       "      <td>0.685233</td>\n",
       "      <td>1000</td>\n",
       "      <td>2000</td>\n",
       "      <td>agora</td>\n",
       "      <td>all</td>\n",
       "    </tr>\n",
       "    <tr>\n",
       "      <th>105307</th>\n",
       "      <td>skrub__minhash_30</td>\n",
       "      <td>passthrough</td>\n",
       "      <td>GradientBoostingClassifier</td>\n",
       "      <td>0.6460</td>\n",
       "      <td>0.701745</td>\n",
       "      <td>1000</td>\n",
       "      <td>2000</td>\n",
       "      <td>agora</td>\n",
       "      <td>all</td>\n",
       "    </tr>\n",
       "    <tr>\n",
       "      <th>105308</th>\n",
       "      <td>skrub__minhash_30</td>\n",
       "      <td>passthrough</td>\n",
       "      <td>GradientBoostingClassifier</td>\n",
       "      <td>0.6425</td>\n",
       "      <td>0.696278</td>\n",
       "      <td>1000</td>\n",
       "      <td>2000</td>\n",
       "      <td>agora</td>\n",
       "      <td>all</td>\n",
       "    </tr>\n",
       "    <tr>\n",
       "      <th>105309</th>\n",
       "      <td>skrub__minhash_30</td>\n",
       "      <td>passthrough</td>\n",
       "      <td>GradientBoostingClassifier</td>\n",
       "      <td>0.6395</td>\n",
       "      <td>0.685612</td>\n",
       "      <td>1000</td>\n",
       "      <td>2000</td>\n",
       "      <td>agora</td>\n",
       "      <td>all</td>\n",
       "    </tr>\n",
       "    <tr>\n",
       "      <th>105335</th>\n",
       "      <td>skrub__minhash_30</td>\n",
       "      <td>passthrough</td>\n",
       "      <td>GradientBoostingClassifier</td>\n",
       "      <td>0.6765</td>\n",
       "      <td>0.733275</td>\n",
       "      <td>2000</td>\n",
       "      <td>2000</td>\n",
       "      <td>agora</td>\n",
       "      <td>all</td>\n",
       "    </tr>\n",
       "    <tr>\n",
       "      <th>105336</th>\n",
       "      <td>skrub__minhash_30</td>\n",
       "      <td>passthrough</td>\n",
       "      <td>GradientBoostingClassifier</td>\n",
       "      <td>0.6795</td>\n",
       "      <td>0.747361</td>\n",
       "      <td>2000</td>\n",
       "      <td>2000</td>\n",
       "      <td>agora</td>\n",
       "      <td>all</td>\n",
       "    </tr>\n",
       "    <tr>\n",
       "      <th>105337</th>\n",
       "      <td>skrub__minhash_30</td>\n",
       "      <td>passthrough</td>\n",
       "      <td>GradientBoostingClassifier</td>\n",
       "      <td>0.6910</td>\n",
       "      <td>0.764034</td>\n",
       "      <td>2000</td>\n",
       "      <td>2000</td>\n",
       "      <td>agora</td>\n",
       "      <td>all</td>\n",
       "    </tr>\n",
       "    <tr>\n",
       "      <th>105338</th>\n",
       "      <td>skrub__minhash_30</td>\n",
       "      <td>passthrough</td>\n",
       "      <td>GradientBoostingClassifier</td>\n",
       "      <td>0.6880</td>\n",
       "      <td>0.763236</td>\n",
       "      <td>2000</td>\n",
       "      <td>2000</td>\n",
       "      <td>agora</td>\n",
       "      <td>all</td>\n",
       "    </tr>\n",
       "    <tr>\n",
       "      <th>105339</th>\n",
       "      <td>skrub__minhash_30</td>\n",
       "      <td>passthrough</td>\n",
       "      <td>GradientBoostingClassifier</td>\n",
       "      <td>0.6940</td>\n",
       "      <td>0.747164</td>\n",
       "      <td>2000</td>\n",
       "      <td>2000</td>\n",
       "      <td>agora</td>\n",
       "      <td>all</td>\n",
       "    </tr>\n",
       "    <tr>\n",
       "      <th>105365</th>\n",
       "      <td>skrub__minhash_30</td>\n",
       "      <td>passthrough</td>\n",
       "      <td>GradientBoostingClassifier</td>\n",
       "      <td>0.6995</td>\n",
       "      <td>0.779720</td>\n",
       "      <td>3000</td>\n",
       "      <td>2000</td>\n",
       "      <td>agora</td>\n",
       "      <td>all</td>\n",
       "    </tr>\n",
       "    <tr>\n",
       "      <th>105366</th>\n",
       "      <td>skrub__minhash_30</td>\n",
       "      <td>passthrough</td>\n",
       "      <td>GradientBoostingClassifier</td>\n",
       "      <td>0.7120</td>\n",
       "      <td>0.788868</td>\n",
       "      <td>3000</td>\n",
       "      <td>2000</td>\n",
       "      <td>agora</td>\n",
       "      <td>all</td>\n",
       "    </tr>\n",
       "    <tr>\n",
       "      <th>105367</th>\n",
       "      <td>skrub__minhash_30</td>\n",
       "      <td>passthrough</td>\n",
       "      <td>GradientBoostingClassifier</td>\n",
       "      <td>0.7150</td>\n",
       "      <td>0.800204</td>\n",
       "      <td>3000</td>\n",
       "      <td>2000</td>\n",
       "      <td>agora</td>\n",
       "      <td>all</td>\n",
       "    </tr>\n",
       "    <tr>\n",
       "      <th>105368</th>\n",
       "      <td>skrub__minhash_30</td>\n",
       "      <td>passthrough</td>\n",
       "      <td>GradientBoostingClassifier</td>\n",
       "      <td>0.7005</td>\n",
       "      <td>0.780195</td>\n",
       "      <td>3000</td>\n",
       "      <td>2000</td>\n",
       "      <td>agora</td>\n",
       "      <td>all</td>\n",
       "    </tr>\n",
       "    <tr>\n",
       "      <th>105369</th>\n",
       "      <td>skrub__minhash_30</td>\n",
       "      <td>passthrough</td>\n",
       "      <td>GradientBoostingClassifier</td>\n",
       "      <td>0.7050</td>\n",
       "      <td>0.769906</td>\n",
       "      <td>3000</td>\n",
       "      <td>2000</td>\n",
       "      <td>agora</td>\n",
       "      <td>all</td>\n",
       "    </tr>\n",
       "    <tr>\n",
       "      <th>105395</th>\n",
       "      <td>skrub__minhash_30</td>\n",
       "      <td>passthrough</td>\n",
       "      <td>GradientBoostingClassifier</td>\n",
       "      <td>0.7280</td>\n",
       "      <td>0.805384</td>\n",
       "      <td>4000</td>\n",
       "      <td>2000</td>\n",
       "      <td>agora</td>\n",
       "      <td>all</td>\n",
       "    </tr>\n",
       "    <tr>\n",
       "      <th>105396</th>\n",
       "      <td>skrub__minhash_30</td>\n",
       "      <td>passthrough</td>\n",
       "      <td>GradientBoostingClassifier</td>\n",
       "      <td>0.7045</td>\n",
       "      <td>0.784132</td>\n",
       "      <td>4000</td>\n",
       "      <td>2000</td>\n",
       "      <td>agora</td>\n",
       "      <td>all</td>\n",
       "    </tr>\n",
       "    <tr>\n",
       "      <th>105397</th>\n",
       "      <td>skrub__minhash_30</td>\n",
       "      <td>passthrough</td>\n",
       "      <td>GradientBoostingClassifier</td>\n",
       "      <td>0.7250</td>\n",
       "      <td>0.807357</td>\n",
       "      <td>4000</td>\n",
       "      <td>2000</td>\n",
       "      <td>agora</td>\n",
       "      <td>all</td>\n",
       "    </tr>\n",
       "    <tr>\n",
       "      <th>105398</th>\n",
       "      <td>skrub__minhash_30</td>\n",
       "      <td>passthrough</td>\n",
       "      <td>GradientBoostingClassifier</td>\n",
       "      <td>0.7050</td>\n",
       "      <td>0.783525</td>\n",
       "      <td>4000</td>\n",
       "      <td>2000</td>\n",
       "      <td>agora</td>\n",
       "      <td>all</td>\n",
       "    </tr>\n",
       "    <tr>\n",
       "      <th>105399</th>\n",
       "      <td>skrub__minhash_30</td>\n",
       "      <td>passthrough</td>\n",
       "      <td>GradientBoostingClassifier</td>\n",
       "      <td>0.7195</td>\n",
       "      <td>0.793794</td>\n",
       "      <td>4000</td>\n",
       "      <td>2000</td>\n",
       "      <td>agora</td>\n",
       "      <td>all</td>\n",
       "    </tr>\n",
       "    <tr>\n",
       "      <th>105425</th>\n",
       "      <td>skrub__minhash_30</td>\n",
       "      <td>passthrough</td>\n",
       "      <td>GradientBoostingClassifier</td>\n",
       "      <td>0.7340</td>\n",
       "      <td>0.802539</td>\n",
       "      <td>5000</td>\n",
       "      <td>2000</td>\n",
       "      <td>agora</td>\n",
       "      <td>all</td>\n",
       "    </tr>\n",
       "    <tr>\n",
       "      <th>105426</th>\n",
       "      <td>skrub__minhash_30</td>\n",
       "      <td>passthrough</td>\n",
       "      <td>GradientBoostingClassifier</td>\n",
       "      <td>0.7065</td>\n",
       "      <td>0.793114</td>\n",
       "      <td>5000</td>\n",
       "      <td>2000</td>\n",
       "      <td>agora</td>\n",
       "      <td>all</td>\n",
       "    </tr>\n",
       "    <tr>\n",
       "      <th>105427</th>\n",
       "      <td>skrub__minhash_30</td>\n",
       "      <td>passthrough</td>\n",
       "      <td>GradientBoostingClassifier</td>\n",
       "      <td>0.7080</td>\n",
       "      <td>0.786436</td>\n",
       "      <td>5000</td>\n",
       "      <td>2000</td>\n",
       "      <td>agora</td>\n",
       "      <td>all</td>\n",
       "    </tr>\n",
       "    <tr>\n",
       "      <th>105428</th>\n",
       "      <td>skrub__minhash_30</td>\n",
       "      <td>passthrough</td>\n",
       "      <td>GradientBoostingClassifier</td>\n",
       "      <td>0.7220</td>\n",
       "      <td>0.797338</td>\n",
       "      <td>5000</td>\n",
       "      <td>2000</td>\n",
       "      <td>agora</td>\n",
       "      <td>all</td>\n",
       "    </tr>\n",
       "    <tr>\n",
       "      <th>105429</th>\n",
       "      <td>skrub__minhash_30</td>\n",
       "      <td>passthrough</td>\n",
       "      <td>GradientBoostingClassifier</td>\n",
       "      <td>0.7235</td>\n",
       "      <td>0.807748</td>\n",
       "      <td>5000</td>\n",
       "      <td>2000</td>\n",
       "      <td>agora</td>\n",
       "      <td>all</td>\n",
       "    </tr>\n",
       "  </tbody>\n",
       "</table>\n",
       "</div>"
      ],
      "text/plain": [
       "                 encoding dim_reduction                       model  \\\n",
       "105305  skrub__minhash_30   passthrough  GradientBoostingClassifier   \n",
       "105306  skrub__minhash_30   passthrough  GradientBoostingClassifier   \n",
       "105307  skrub__minhash_30   passthrough  GradientBoostingClassifier   \n",
       "105308  skrub__minhash_30   passthrough  GradientBoostingClassifier   \n",
       "105309  skrub__minhash_30   passthrough  GradientBoostingClassifier   \n",
       "105335  skrub__minhash_30   passthrough  GradientBoostingClassifier   \n",
       "105336  skrub__minhash_30   passthrough  GradientBoostingClassifier   \n",
       "105337  skrub__minhash_30   passthrough  GradientBoostingClassifier   \n",
       "105338  skrub__minhash_30   passthrough  GradientBoostingClassifier   \n",
       "105339  skrub__minhash_30   passthrough  GradientBoostingClassifier   \n",
       "105365  skrub__minhash_30   passthrough  GradientBoostingClassifier   \n",
       "105366  skrub__minhash_30   passthrough  GradientBoostingClassifier   \n",
       "105367  skrub__minhash_30   passthrough  GradientBoostingClassifier   \n",
       "105368  skrub__minhash_30   passthrough  GradientBoostingClassifier   \n",
       "105369  skrub__minhash_30   passthrough  GradientBoostingClassifier   \n",
       "105395  skrub__minhash_30   passthrough  GradientBoostingClassifier   \n",
       "105396  skrub__minhash_30   passthrough  GradientBoostingClassifier   \n",
       "105397  skrub__minhash_30   passthrough  GradientBoostingClassifier   \n",
       "105398  skrub__minhash_30   passthrough  GradientBoostingClassifier   \n",
       "105399  skrub__minhash_30   passthrough  GradientBoostingClassifier   \n",
       "105425  skrub__minhash_30   passthrough  GradientBoostingClassifier   \n",
       "105426  skrub__minhash_30   passthrough  GradientBoostingClassifier   \n",
       "105427  skrub__minhash_30   passthrough  GradientBoostingClassifier   \n",
       "105428  skrub__minhash_30   passthrough  GradientBoostingClassifier   \n",
       "105429  skrub__minhash_30   passthrough  GradientBoostingClassifier   \n",
       "\n",
       "        accuracies   roc_auc  n_train  n_test dataset features  \n",
       "105305      0.6380  0.686041     1000    2000   agora      all  \n",
       "105306      0.6265  0.685233     1000    2000   agora      all  \n",
       "105307      0.6460  0.701745     1000    2000   agora      all  \n",
       "105308      0.6425  0.696278     1000    2000   agora      all  \n",
       "105309      0.6395  0.685612     1000    2000   agora      all  \n",
       "105335      0.6765  0.733275     2000    2000   agora      all  \n",
       "105336      0.6795  0.747361     2000    2000   agora      all  \n",
       "105337      0.6910  0.764034     2000    2000   agora      all  \n",
       "105338      0.6880  0.763236     2000    2000   agora      all  \n",
       "105339      0.6940  0.747164     2000    2000   agora      all  \n",
       "105365      0.6995  0.779720     3000    2000   agora      all  \n",
       "105366      0.7120  0.788868     3000    2000   agora      all  \n",
       "105367      0.7150  0.800204     3000    2000   agora      all  \n",
       "105368      0.7005  0.780195     3000    2000   agora      all  \n",
       "105369      0.7050  0.769906     3000    2000   agora      all  \n",
       "105395      0.7280  0.805384     4000    2000   agora      all  \n",
       "105396      0.7045  0.784132     4000    2000   agora      all  \n",
       "105397      0.7250  0.807357     4000    2000   agora      all  \n",
       "105398      0.7050  0.783525     4000    2000   agora      all  \n",
       "105399      0.7195  0.793794     4000    2000   agora      all  \n",
       "105425      0.7340  0.802539     5000    2000   agora      all  \n",
       "105426      0.7065  0.793114     5000    2000   agora      all  \n",
       "105427      0.7080  0.786436     5000    2000   agora      all  \n",
       "105428      0.7220  0.797338     5000    2000   agora      all  \n",
       "105429      0.7235  0.807748     5000    2000   agora      all  "
      ]
     },
     "execution_count": 62,
     "metadata": {},
     "output_type": "execute_result"
    }
   ],
   "source": [
    "melted_results[(melted_results[\"dataset\"] == \"agora\") & (melted_results[\"encoding\"] == \"skrub__minhash_30\") & (melted_results[\"model\"] == \"GradientBoostingClassifier\") &  (melted_results[\"features\"] == \"all\")]"
   ]
  },
  {
   "cell_type": "code",
   "execution_count": 72,
   "metadata": {},
   "outputs": [],
   "source": [
    "melted_results[\"accuracy\"] = melted_results[\"accuracies\"]"
   ]
  },
  {
   "cell_type": "code",
   "execution_count": 73,
   "metadata": {},
   "outputs": [
    {
     "name": "stdout",
     "output_type": "stream",
     "text": [
      "                                                                                      accuracies  \\\n",
      "dataset model                      dim_reduction encoding          features  n_train               \n",
      "agora   GradientBoostingClassifier passthrough   skrub__minhash_30 all       1000              5   \n",
      "                                                                             2000              5   \n",
      "                                                                             3000              5   \n",
      "                                                                             4000              5   \n",
      "                                                                             5000              5   \n",
      "                                                                   rest_only 1000              5   \n",
      "                                                                             2000              5   \n",
      "                                                                             3000              5   \n",
      "                                                                             4000              5   \n",
      "                                                                             5000              5   \n",
      "                                                                   text_only 1000              5   \n",
      "                                                                             2000              5   \n",
      "                                                                             3000              5   \n",
      "                                                                             4000              5   \n",
      "                                                                             5000              5   \n",
      "\n",
      "                                                                                      roc_auc  \\\n",
      "dataset model                      dim_reduction encoding          features  n_train            \n",
      "agora   GradientBoostingClassifier passthrough   skrub__minhash_30 all       1000           5   \n",
      "                                                                             2000           5   \n",
      "                                                                             3000           5   \n",
      "                                                                             4000           5   \n",
      "                                                                             5000           5   \n",
      "                                                                   rest_only 1000           5   \n",
      "                                                                             2000           5   \n",
      "                                                                             3000           5   \n",
      "                                                                             4000           5   \n",
      "                                                                             5000           5   \n",
      "                                                                   text_only 1000           5   \n",
      "                                                                             2000           5   \n",
      "                                                                             3000           5   \n",
      "                                                                             4000           5   \n",
      "                                                                             5000           5   \n",
      "\n",
      "                                                                                      n_test  \\\n",
      "dataset model                      dim_reduction encoding          features  n_train           \n",
      "agora   GradientBoostingClassifier passthrough   skrub__minhash_30 all       1000          5   \n",
      "                                                                             2000          5   \n",
      "                                                                             3000          5   \n",
      "                                                                             4000          5   \n",
      "                                                                             5000          5   \n",
      "                                                                   rest_only 1000          5   \n",
      "                                                                             2000          5   \n",
      "                                                                             3000          5   \n",
      "                                                                             4000          5   \n",
      "                                                                             5000          5   \n",
      "                                                                   text_only 1000          5   \n",
      "                                                                             2000          5   \n",
      "                                                                             3000          5   \n",
      "                                                                             4000          5   \n",
      "                                                                             5000          5   \n",
      "\n",
      "                                                                                      accuracy  \n",
      "dataset model                      dim_reduction encoding          features  n_train            \n",
      "agora   GradientBoostingClassifier passthrough   skrub__minhash_30 all       1000            5  \n",
      "                                                                             2000            5  \n",
      "                                                                             3000            5  \n",
      "                                                                             4000            5  \n",
      "                                                                             5000            5  \n",
      "                                                                   rest_only 1000            5  \n",
      "                                                                             2000            5  \n",
      "                                                                             3000            5  \n",
      "                                                                             4000            5  \n",
      "                                                                             5000            5  \n",
      "                                                                   text_only 1000            5  \n",
      "                                                                             2000            5  \n",
      "                                                                             3000            5  \n",
      "                                                                             4000            5  \n",
      "                                                                             5000            5  \n",
      "(15, 10)\n"
     ]
    },
    {
     "data": {
      "application/vnd.plotly.v1+json": {
       "config": {
        "plotlyServerURL": "https://plot.ly"
       },
       "data": [
        {
         "alignmentgroup": "True",
         "boxpoints": "all",
         "customdata": [
          [
           "GradientBoostingClassifier",
           "passthrough",
           "skrub__minhash_30",
           "all",
           1000,
           0.6385,
           0.6909817083088944,
           2000
          ]
         ],
         "fillcolor": "rgba(255,255,255,0)",
         "hoveron": "points",
         "hovertemplate": "n_train=%{customdata[4]}<br>features=%{customdata[3]}<br>Accuracy=%{x}<br>Dataset=%{y}<br>Model=%{customdata[0]}<br>dim_reduction=%{customdata[1]}<br>encoding=%{customdata[2]}<br>accuracies=%{customdata[5]}<br>roc_auc=%{customdata[6]}<br>n_test=%{customdata[7]}<extra></extra>",
         "legendgroup": "1000",
         "line": {
          "color": "rgba(255,255,255,0)"
         },
         "marker": {
          "color": "#636efa"
         },
         "name": "1000",
         "offsetgroup": "1000",
         "orientation": "h",
         "pointpos": 0,
         "showlegend": true,
         "type": "box",
         "x": [
          0.6385
         ],
         "x0": " ",
         "xaxis": "x3",
         "y": [
          "agora"
         ],
         "y0": " ",
         "yaxis": "y3"
        },
        {
         "alignmentgroup": "True",
         "boxpoints": "all",
         "customdata": [
          [
           "GradientBoostingClassifier",
           "passthrough",
           "skrub__minhash_30",
           "rest_only",
           1000,
           0.6597999999999999,
           0.7171639170500997,
           2000
          ]
         ],
         "fillcolor": "rgba(255,255,255,0)",
         "hoveron": "points",
         "hovertemplate": "n_train=%{customdata[4]}<br>features=%{customdata[3]}<br>Accuracy=%{x}<br>Dataset=%{y}<br>Model=%{customdata[0]}<br>dim_reduction=%{customdata[1]}<br>encoding=%{customdata[2]}<br>accuracies=%{customdata[5]}<br>roc_auc=%{customdata[6]}<br>n_test=%{customdata[7]}<extra></extra>",
         "legendgroup": "1000",
         "line": {
          "color": "rgba(255,255,255,0)"
         },
         "marker": {
          "color": "#636efa"
         },
         "name": "1000",
         "offsetgroup": "1000",
         "orientation": "h",
         "pointpos": 0,
         "showlegend": false,
         "type": "box",
         "x": [
          0.6597999999999999
         ],
         "x0": " ",
         "xaxis": "x2",
         "y": [
          "agora"
         ],
         "y0": " ",
         "yaxis": "y2"
        },
        {
         "alignmentgroup": "True",
         "boxpoints": "all",
         "customdata": [
          [
           "GradientBoostingClassifier",
           "passthrough",
           "skrub__minhash_30",
           "text_only",
           1000,
           0.5477000000000001,
           0.5644382251694695,
           2000
          ]
         ],
         "fillcolor": "rgba(255,255,255,0)",
         "hoveron": "points",
         "hovertemplate": "n_train=%{customdata[4]}<br>features=%{customdata[3]}<br>Accuracy=%{x}<br>Dataset=%{y}<br>Model=%{customdata[0]}<br>dim_reduction=%{customdata[1]}<br>encoding=%{customdata[2]}<br>accuracies=%{customdata[5]}<br>roc_auc=%{customdata[6]}<br>n_test=%{customdata[7]}<extra></extra>",
         "legendgroup": "1000",
         "line": {
          "color": "rgba(255,255,255,0)"
         },
         "marker": {
          "color": "#636efa"
         },
         "name": "1000",
         "offsetgroup": "1000",
         "orientation": "h",
         "pointpos": 0,
         "showlegend": false,
         "type": "box",
         "x": [
          0.5477000000000001
         ],
         "x0": " ",
         "xaxis": "x",
         "y": [
          "agora"
         ],
         "y0": " ",
         "yaxis": "y"
        },
        {
         "alignmentgroup": "True",
         "boxpoints": "all",
         "customdata": [
          [
           "GradientBoostingClassifier",
           "passthrough",
           "skrub__minhash_30",
           "all",
           2000,
           0.6858,
           0.7510140956237877,
           2000
          ]
         ],
         "fillcolor": "rgba(255,255,255,0)",
         "hoveron": "points",
         "hovertemplate": "n_train=%{customdata[4]}<br>features=%{customdata[3]}<br>Accuracy=%{x}<br>Dataset=%{y}<br>Model=%{customdata[0]}<br>dim_reduction=%{customdata[1]}<br>encoding=%{customdata[2]}<br>accuracies=%{customdata[5]}<br>roc_auc=%{customdata[6]}<br>n_test=%{customdata[7]}<extra></extra>",
         "legendgroup": "2000",
         "line": {
          "color": "rgba(255,255,255,0)"
         },
         "marker": {
          "color": "#EF553B"
         },
         "name": "2000",
         "offsetgroup": "2000",
         "orientation": "h",
         "pointpos": 0,
         "showlegend": true,
         "type": "box",
         "x": [
          0.6858
         ],
         "x0": " ",
         "xaxis": "x3",
         "y": [
          "agora"
         ],
         "y0": " ",
         "yaxis": "y3"
        },
        {
         "alignmentgroup": "True",
         "boxpoints": "all",
         "customdata": [
          [
           "GradientBoostingClassifier",
           "passthrough",
           "skrub__minhash_30",
           "rest_only",
           2000,
           0.689,
           0.7600279828661055,
           2000
          ]
         ],
         "fillcolor": "rgba(255,255,255,0)",
         "hoveron": "points",
         "hovertemplate": "n_train=%{customdata[4]}<br>features=%{customdata[3]}<br>Accuracy=%{x}<br>Dataset=%{y}<br>Model=%{customdata[0]}<br>dim_reduction=%{customdata[1]}<br>encoding=%{customdata[2]}<br>accuracies=%{customdata[5]}<br>roc_auc=%{customdata[6]}<br>n_test=%{customdata[7]}<extra></extra>",
         "legendgroup": "2000",
         "line": {
          "color": "rgba(255,255,255,0)"
         },
         "marker": {
          "color": "#EF553B"
         },
         "name": "2000",
         "offsetgroup": "2000",
         "orientation": "h",
         "pointpos": 0,
         "showlegend": false,
         "type": "box",
         "x": [
          0.689
         ],
         "x0": " ",
         "xaxis": "x2",
         "y": [
          "agora"
         ],
         "y0": " ",
         "yaxis": "y2"
        },
        {
         "alignmentgroup": "True",
         "boxpoints": "all",
         "customdata": [
          [
           "GradientBoostingClassifier",
           "passthrough",
           "skrub__minhash_30",
           "text_only",
           2000,
           0.5700000000000001,
           0.6033260413872872,
           2000
          ]
         ],
         "fillcolor": "rgba(255,255,255,0)",
         "hoveron": "points",
         "hovertemplate": "n_train=%{customdata[4]}<br>features=%{customdata[3]}<br>Accuracy=%{x}<br>Dataset=%{y}<br>Model=%{customdata[0]}<br>dim_reduction=%{customdata[1]}<br>encoding=%{customdata[2]}<br>accuracies=%{customdata[5]}<br>roc_auc=%{customdata[6]}<br>n_test=%{customdata[7]}<extra></extra>",
         "legendgroup": "2000",
         "line": {
          "color": "rgba(255,255,255,0)"
         },
         "marker": {
          "color": "#EF553B"
         },
         "name": "2000",
         "offsetgroup": "2000",
         "orientation": "h",
         "pointpos": 0,
         "showlegend": false,
         "type": "box",
         "x": [
          0.5700000000000001
         ],
         "x0": " ",
         "xaxis": "x",
         "y": [
          "agora"
         ],
         "y0": " ",
         "yaxis": "y"
        },
        {
         "alignmentgroup": "True",
         "boxpoints": "all",
         "customdata": [
          [
           "GradientBoostingClassifier",
           "passthrough",
           "skrub__minhash_30",
           "all",
           3000,
           0.7064,
           0.7837785963818543,
           2000
          ]
         ],
         "fillcolor": "rgba(255,255,255,0)",
         "hoveron": "points",
         "hovertemplate": "n_train=%{customdata[4]}<br>features=%{customdata[3]}<br>Accuracy=%{x}<br>Dataset=%{y}<br>Model=%{customdata[0]}<br>dim_reduction=%{customdata[1]}<br>encoding=%{customdata[2]}<br>accuracies=%{customdata[5]}<br>roc_auc=%{customdata[6]}<br>n_test=%{customdata[7]}<extra></extra>",
         "legendgroup": "3000",
         "line": {
          "color": "rgba(255,255,255,0)"
         },
         "marker": {
          "color": "#00cc96"
         },
         "name": "3000",
         "offsetgroup": "3000",
         "orientation": "h",
         "pointpos": 0,
         "showlegend": true,
         "type": "box",
         "x": [
          0.7064
         ],
         "x0": " ",
         "xaxis": "x3",
         "y": [
          "agora"
         ],
         "y0": " ",
         "yaxis": "y3"
        },
        {
         "alignmentgroup": "True",
         "boxpoints": "all",
         "customdata": [
          [
           "GradientBoostingClassifier",
           "passthrough",
           "skrub__minhash_30",
           "rest_only",
           3000,
           0.7143,
           0.7893729036916872,
           2000
          ]
         ],
         "fillcolor": "rgba(255,255,255,0)",
         "hoveron": "points",
         "hovertemplate": "n_train=%{customdata[4]}<br>features=%{customdata[3]}<br>Accuracy=%{x}<br>Dataset=%{y}<br>Model=%{customdata[0]}<br>dim_reduction=%{customdata[1]}<br>encoding=%{customdata[2]}<br>accuracies=%{customdata[5]}<br>roc_auc=%{customdata[6]}<br>n_test=%{customdata[7]}<extra></extra>",
         "legendgroup": "3000",
         "line": {
          "color": "rgba(255,255,255,0)"
         },
         "marker": {
          "color": "#00cc96"
         },
         "name": "3000",
         "offsetgroup": "3000",
         "orientation": "h",
         "pointpos": 0,
         "showlegend": false,
         "type": "box",
         "x": [
          0.7143
         ],
         "x0": " ",
         "xaxis": "x2",
         "y": [
          "agora"
         ],
         "y0": " ",
         "yaxis": "y2"
        },
        {
         "alignmentgroup": "True",
         "boxpoints": "all",
         "customdata": [
          [
           "GradientBoostingClassifier",
           "passthrough",
           "skrub__minhash_30",
           "text_only",
           3000,
           0.5805,
           0.6179589048035514,
           2000
          ]
         ],
         "fillcolor": "rgba(255,255,255,0)",
         "hoveron": "points",
         "hovertemplate": "n_train=%{customdata[4]}<br>features=%{customdata[3]}<br>Accuracy=%{x}<br>Dataset=%{y}<br>Model=%{customdata[0]}<br>dim_reduction=%{customdata[1]}<br>encoding=%{customdata[2]}<br>accuracies=%{customdata[5]}<br>roc_auc=%{customdata[6]}<br>n_test=%{customdata[7]}<extra></extra>",
         "legendgroup": "3000",
         "line": {
          "color": "rgba(255,255,255,0)"
         },
         "marker": {
          "color": "#00cc96"
         },
         "name": "3000",
         "offsetgroup": "3000",
         "orientation": "h",
         "pointpos": 0,
         "showlegend": false,
         "type": "box",
         "x": [
          0.5805
         ],
         "x0": " ",
         "xaxis": "x",
         "y": [
          "agora"
         ],
         "y0": " ",
         "yaxis": "y"
        },
        {
         "alignmentgroup": "True",
         "boxpoints": "all",
         "customdata": [
          [
           "GradientBoostingClassifier",
           "passthrough",
           "skrub__minhash_30",
           "all",
           4000,
           0.7163999999999999,
           0.7948385036832203,
           2000
          ]
         ],
         "fillcolor": "rgba(255,255,255,0)",
         "hoveron": "points",
         "hovertemplate": "n_train=%{customdata[4]}<br>features=%{customdata[3]}<br>Accuracy=%{x}<br>Dataset=%{y}<br>Model=%{customdata[0]}<br>dim_reduction=%{customdata[1]}<br>encoding=%{customdata[2]}<br>accuracies=%{customdata[5]}<br>roc_auc=%{customdata[6]}<br>n_test=%{customdata[7]}<extra></extra>",
         "legendgroup": "4000",
         "line": {
          "color": "rgba(255,255,255,0)"
         },
         "marker": {
          "color": "#ab63fa"
         },
         "name": "4000",
         "offsetgroup": "4000",
         "orientation": "h",
         "pointpos": 0,
         "showlegend": true,
         "type": "box",
         "x": [
          0.7163999999999999
         ],
         "x0": " ",
         "xaxis": "x3",
         "y": [
          "agora"
         ],
         "y0": " ",
         "yaxis": "y3"
        },
        {
         "alignmentgroup": "True",
         "boxpoints": "all",
         "customdata": [
          [
           "GradientBoostingClassifier",
           "passthrough",
           "skrub__minhash_30",
           "rest_only",
           4000,
           0.7235,
           0.8028412794695754,
           2000
          ]
         ],
         "fillcolor": "rgba(255,255,255,0)",
         "hoveron": "points",
         "hovertemplate": "n_train=%{customdata[4]}<br>features=%{customdata[3]}<br>Accuracy=%{x}<br>Dataset=%{y}<br>Model=%{customdata[0]}<br>dim_reduction=%{customdata[1]}<br>encoding=%{customdata[2]}<br>accuracies=%{customdata[5]}<br>roc_auc=%{customdata[6]}<br>n_test=%{customdata[7]}<extra></extra>",
         "legendgroup": "4000",
         "line": {
          "color": "rgba(255,255,255,0)"
         },
         "marker": {
          "color": "#ab63fa"
         },
         "name": "4000",
         "offsetgroup": "4000",
         "orientation": "h",
         "pointpos": 0,
         "showlegend": false,
         "type": "box",
         "x": [
          0.7235
         ],
         "x0": " ",
         "xaxis": "x2",
         "y": [
          "agora"
         ],
         "y0": " ",
         "yaxis": "y2"
        },
        {
         "alignmentgroup": "True",
         "boxpoints": "all",
         "customdata": [
          [
           "GradientBoostingClassifier",
           "passthrough",
           "skrub__minhash_30",
           "text_only",
           4000,
           0.5827,
           0.6186688748217192,
           2000
          ]
         ],
         "fillcolor": "rgba(255,255,255,0)",
         "hoveron": "points",
         "hovertemplate": "n_train=%{customdata[4]}<br>features=%{customdata[3]}<br>Accuracy=%{x}<br>Dataset=%{y}<br>Model=%{customdata[0]}<br>dim_reduction=%{customdata[1]}<br>encoding=%{customdata[2]}<br>accuracies=%{customdata[5]}<br>roc_auc=%{customdata[6]}<br>n_test=%{customdata[7]}<extra></extra>",
         "legendgroup": "4000",
         "line": {
          "color": "rgba(255,255,255,0)"
         },
         "marker": {
          "color": "#ab63fa"
         },
         "name": "4000",
         "offsetgroup": "4000",
         "orientation": "h",
         "pointpos": 0,
         "showlegend": false,
         "type": "box",
         "x": [
          0.5827
         ],
         "x0": " ",
         "xaxis": "x",
         "y": [
          "agora"
         ],
         "y0": " ",
         "yaxis": "y"
        },
        {
         "alignmentgroup": "True",
         "boxpoints": "all",
         "customdata": [
          [
           "GradientBoostingClassifier",
           "passthrough",
           "skrub__minhash_30",
           "all",
           5000,
           0.7188,
           0.7974350842778255,
           2000
          ]
         ],
         "fillcolor": "rgba(255,255,255,0)",
         "hoveron": "points",
         "hovertemplate": "n_train=%{customdata[4]}<br>features=%{customdata[3]}<br>Accuracy=%{x}<br>Dataset=%{y}<br>Model=%{customdata[0]}<br>dim_reduction=%{customdata[1]}<br>encoding=%{customdata[2]}<br>accuracies=%{customdata[5]}<br>roc_auc=%{customdata[6]}<br>n_test=%{customdata[7]}<extra></extra>",
         "legendgroup": "5000",
         "line": {
          "color": "rgba(255,255,255,0)"
         },
         "marker": {
          "color": "#FFA15A"
         },
         "name": "5000",
         "offsetgroup": "5000",
         "orientation": "h",
         "pointpos": 0,
         "showlegend": true,
         "type": "box",
         "x": [
          0.7188
         ],
         "x0": " ",
         "xaxis": "x3",
         "y": [
          "agora"
         ],
         "y0": " ",
         "yaxis": "y3"
        },
        {
         "alignmentgroup": "True",
         "boxpoints": "all",
         "customdata": [
          [
           "GradientBoostingClassifier",
           "passthrough",
           "skrub__minhash_30",
           "rest_only",
           5000,
           0.728,
           0.8040651937139882,
           2000
          ]
         ],
         "fillcolor": "rgba(255,255,255,0)",
         "hoveron": "points",
         "hovertemplate": "n_train=%{customdata[4]}<br>features=%{customdata[3]}<br>Accuracy=%{x}<br>Dataset=%{y}<br>Model=%{customdata[0]}<br>dim_reduction=%{customdata[1]}<br>encoding=%{customdata[2]}<br>accuracies=%{customdata[5]}<br>roc_auc=%{customdata[6]}<br>n_test=%{customdata[7]}<extra></extra>",
         "legendgroup": "5000",
         "line": {
          "color": "rgba(255,255,255,0)"
         },
         "marker": {
          "color": "#FFA15A"
         },
         "name": "5000",
         "offsetgroup": "5000",
         "orientation": "h",
         "pointpos": 0,
         "showlegend": false,
         "type": "box",
         "x": [
          0.728
         ],
         "x0": " ",
         "xaxis": "x2",
         "y": [
          "agora"
         ],
         "y0": " ",
         "yaxis": "y2"
        },
        {
         "alignmentgroup": "True",
         "boxpoints": "all",
         "customdata": [
          [
           "GradientBoostingClassifier",
           "passthrough",
           "skrub__minhash_30",
           "text_only",
           5000,
           0.5964,
           0.6346911704153342,
           2000
          ]
         ],
         "fillcolor": "rgba(255,255,255,0)",
         "hoveron": "points",
         "hovertemplate": "n_train=%{customdata[4]}<br>features=%{customdata[3]}<br>Accuracy=%{x}<br>Dataset=%{y}<br>Model=%{customdata[0]}<br>dim_reduction=%{customdata[1]}<br>encoding=%{customdata[2]}<br>accuracies=%{customdata[5]}<br>roc_auc=%{customdata[6]}<br>n_test=%{customdata[7]}<extra></extra>",
         "legendgroup": "5000",
         "line": {
          "color": "rgba(255,255,255,0)"
         },
         "marker": {
          "color": "#FFA15A"
         },
         "name": "5000",
         "offsetgroup": "5000",
         "orientation": "h",
         "pointpos": 0,
         "showlegend": false,
         "type": "box",
         "x": [
          0.5964
         ],
         "x0": " ",
         "xaxis": "x",
         "y": [
          "agora"
         ],
         "y0": " ",
         "yaxis": "y"
        }
       ],
       "layout": {
        "annotations": [
         {
          "font": {},
          "showarrow": false,
          "text": "features=text_only",
          "textangle": 90,
          "x": 0.98,
          "xanchor": "left",
          "xref": "paper",
          "y": 0.15666666666666665,
          "yanchor": "middle",
          "yref": "paper"
         },
         {
          "font": {},
          "showarrow": false,
          "text": "features=rest_only",
          "textangle": 90,
          "x": 0.98,
          "xanchor": "left",
          "xref": "paper",
          "y": 0.4999999999999999,
          "yanchor": "middle",
          "yref": "paper"
         },
         {
          "font": {},
          "showarrow": false,
          "text": "features=all",
          "textangle": 90,
          "x": 0.98,
          "xanchor": "left",
          "xref": "paper",
          "y": 0.8433333333333332,
          "yanchor": "middle",
          "yref": "paper"
         }
        ],
        "boxmode": "group",
        "height": 1200,
        "legend": {
         "title": {
          "text": "n_train"
         },
         "tracegroupgap": 0
        },
        "template": {
         "data": {
          "bar": [
           {
            "error_x": {
             "color": "#2a3f5f"
            },
            "error_y": {
             "color": "#2a3f5f"
            },
            "marker": {
             "line": {
              "color": "#E5ECF6",
              "width": 0.5
             },
             "pattern": {
              "fillmode": "overlay",
              "size": 10,
              "solidity": 0.2
             }
            },
            "type": "bar"
           }
          ],
          "barpolar": [
           {
            "marker": {
             "line": {
              "color": "#E5ECF6",
              "width": 0.5
             },
             "pattern": {
              "fillmode": "overlay",
              "size": 10,
              "solidity": 0.2
             }
            },
            "type": "barpolar"
           }
          ],
          "carpet": [
           {
            "aaxis": {
             "endlinecolor": "#2a3f5f",
             "gridcolor": "white",
             "linecolor": "white",
             "minorgridcolor": "white",
             "startlinecolor": "#2a3f5f"
            },
            "baxis": {
             "endlinecolor": "#2a3f5f",
             "gridcolor": "white",
             "linecolor": "white",
             "minorgridcolor": "white",
             "startlinecolor": "#2a3f5f"
            },
            "type": "carpet"
           }
          ],
          "choropleth": [
           {
            "colorbar": {
             "outlinewidth": 0,
             "ticks": ""
            },
            "type": "choropleth"
           }
          ],
          "contour": [
           {
            "colorbar": {
             "outlinewidth": 0,
             "ticks": ""
            },
            "colorscale": [
             [
              0,
              "#0d0887"
             ],
             [
              0.1111111111111111,
              "#46039f"
             ],
             [
              0.2222222222222222,
              "#7201a8"
             ],
             [
              0.3333333333333333,
              "#9c179e"
             ],
             [
              0.4444444444444444,
              "#bd3786"
             ],
             [
              0.5555555555555556,
              "#d8576b"
             ],
             [
              0.6666666666666666,
              "#ed7953"
             ],
             [
              0.7777777777777778,
              "#fb9f3a"
             ],
             [
              0.8888888888888888,
              "#fdca26"
             ],
             [
              1,
              "#f0f921"
             ]
            ],
            "type": "contour"
           }
          ],
          "contourcarpet": [
           {
            "colorbar": {
             "outlinewidth": 0,
             "ticks": ""
            },
            "type": "contourcarpet"
           }
          ],
          "heatmap": [
           {
            "colorbar": {
             "outlinewidth": 0,
             "ticks": ""
            },
            "colorscale": [
             [
              0,
              "#0d0887"
             ],
             [
              0.1111111111111111,
              "#46039f"
             ],
             [
              0.2222222222222222,
              "#7201a8"
             ],
             [
              0.3333333333333333,
              "#9c179e"
             ],
             [
              0.4444444444444444,
              "#bd3786"
             ],
             [
              0.5555555555555556,
              "#d8576b"
             ],
             [
              0.6666666666666666,
              "#ed7953"
             ],
             [
              0.7777777777777778,
              "#fb9f3a"
             ],
             [
              0.8888888888888888,
              "#fdca26"
             ],
             [
              1,
              "#f0f921"
             ]
            ],
            "type": "heatmap"
           }
          ],
          "heatmapgl": [
           {
            "colorbar": {
             "outlinewidth": 0,
             "ticks": ""
            },
            "colorscale": [
             [
              0,
              "#0d0887"
             ],
             [
              0.1111111111111111,
              "#46039f"
             ],
             [
              0.2222222222222222,
              "#7201a8"
             ],
             [
              0.3333333333333333,
              "#9c179e"
             ],
             [
              0.4444444444444444,
              "#bd3786"
             ],
             [
              0.5555555555555556,
              "#d8576b"
             ],
             [
              0.6666666666666666,
              "#ed7953"
             ],
             [
              0.7777777777777778,
              "#fb9f3a"
             ],
             [
              0.8888888888888888,
              "#fdca26"
             ],
             [
              1,
              "#f0f921"
             ]
            ],
            "type": "heatmapgl"
           }
          ],
          "histogram": [
           {
            "marker": {
             "pattern": {
              "fillmode": "overlay",
              "size": 10,
              "solidity": 0.2
             }
            },
            "type": "histogram"
           }
          ],
          "histogram2d": [
           {
            "colorbar": {
             "outlinewidth": 0,
             "ticks": ""
            },
            "colorscale": [
             [
              0,
              "#0d0887"
             ],
             [
              0.1111111111111111,
              "#46039f"
             ],
             [
              0.2222222222222222,
              "#7201a8"
             ],
             [
              0.3333333333333333,
              "#9c179e"
             ],
             [
              0.4444444444444444,
              "#bd3786"
             ],
             [
              0.5555555555555556,
              "#d8576b"
             ],
             [
              0.6666666666666666,
              "#ed7953"
             ],
             [
              0.7777777777777778,
              "#fb9f3a"
             ],
             [
              0.8888888888888888,
              "#fdca26"
             ],
             [
              1,
              "#f0f921"
             ]
            ],
            "type": "histogram2d"
           }
          ],
          "histogram2dcontour": [
           {
            "colorbar": {
             "outlinewidth": 0,
             "ticks": ""
            },
            "colorscale": [
             [
              0,
              "#0d0887"
             ],
             [
              0.1111111111111111,
              "#46039f"
             ],
             [
              0.2222222222222222,
              "#7201a8"
             ],
             [
              0.3333333333333333,
              "#9c179e"
             ],
             [
              0.4444444444444444,
              "#bd3786"
             ],
             [
              0.5555555555555556,
              "#d8576b"
             ],
             [
              0.6666666666666666,
              "#ed7953"
             ],
             [
              0.7777777777777778,
              "#fb9f3a"
             ],
             [
              0.8888888888888888,
              "#fdca26"
             ],
             [
              1,
              "#f0f921"
             ]
            ],
            "type": "histogram2dcontour"
           }
          ],
          "mesh3d": [
           {
            "colorbar": {
             "outlinewidth": 0,
             "ticks": ""
            },
            "type": "mesh3d"
           }
          ],
          "parcoords": [
           {
            "line": {
             "colorbar": {
              "outlinewidth": 0,
              "ticks": ""
             }
            },
            "type": "parcoords"
           }
          ],
          "pie": [
           {
            "automargin": true,
            "type": "pie"
           }
          ],
          "scatter": [
           {
            "fillpattern": {
             "fillmode": "overlay",
             "size": 10,
             "solidity": 0.2
            },
            "type": "scatter"
           }
          ],
          "scatter3d": [
           {
            "line": {
             "colorbar": {
              "outlinewidth": 0,
              "ticks": ""
             }
            },
            "marker": {
             "colorbar": {
              "outlinewidth": 0,
              "ticks": ""
             }
            },
            "type": "scatter3d"
           }
          ],
          "scattercarpet": [
           {
            "marker": {
             "colorbar": {
              "outlinewidth": 0,
              "ticks": ""
             }
            },
            "type": "scattercarpet"
           }
          ],
          "scattergeo": [
           {
            "marker": {
             "colorbar": {
              "outlinewidth": 0,
              "ticks": ""
             }
            },
            "type": "scattergeo"
           }
          ],
          "scattergl": [
           {
            "marker": {
             "colorbar": {
              "outlinewidth": 0,
              "ticks": ""
             }
            },
            "type": "scattergl"
           }
          ],
          "scattermapbox": [
           {
            "marker": {
             "colorbar": {
              "outlinewidth": 0,
              "ticks": ""
             }
            },
            "type": "scattermapbox"
           }
          ],
          "scatterpolar": [
           {
            "marker": {
             "colorbar": {
              "outlinewidth": 0,
              "ticks": ""
             }
            },
            "type": "scatterpolar"
           }
          ],
          "scatterpolargl": [
           {
            "marker": {
             "colorbar": {
              "outlinewidth": 0,
              "ticks": ""
             }
            },
            "type": "scatterpolargl"
           }
          ],
          "scatterternary": [
           {
            "marker": {
             "colorbar": {
              "outlinewidth": 0,
              "ticks": ""
             }
            },
            "type": "scatterternary"
           }
          ],
          "surface": [
           {
            "colorbar": {
             "outlinewidth": 0,
             "ticks": ""
            },
            "colorscale": [
             [
              0,
              "#0d0887"
             ],
             [
              0.1111111111111111,
              "#46039f"
             ],
             [
              0.2222222222222222,
              "#7201a8"
             ],
             [
              0.3333333333333333,
              "#9c179e"
             ],
             [
              0.4444444444444444,
              "#bd3786"
             ],
             [
              0.5555555555555556,
              "#d8576b"
             ],
             [
              0.6666666666666666,
              "#ed7953"
             ],
             [
              0.7777777777777778,
              "#fb9f3a"
             ],
             [
              0.8888888888888888,
              "#fdca26"
             ],
             [
              1,
              "#f0f921"
             ]
            ],
            "type": "surface"
           }
          ],
          "table": [
           {
            "cells": {
             "fill": {
              "color": "#EBF0F8"
             },
             "line": {
              "color": "white"
             }
            },
            "header": {
             "fill": {
              "color": "#C8D4E3"
             },
             "line": {
              "color": "white"
             }
            },
            "type": "table"
           }
          ]
         },
         "layout": {
          "annotationdefaults": {
           "arrowcolor": "#2a3f5f",
           "arrowhead": 0,
           "arrowwidth": 1
          },
          "autotypenumbers": "strict",
          "coloraxis": {
           "colorbar": {
            "outlinewidth": 0,
            "ticks": ""
           }
          },
          "colorscale": {
           "diverging": [
            [
             0,
             "#8e0152"
            ],
            [
             0.1,
             "#c51b7d"
            ],
            [
             0.2,
             "#de77ae"
            ],
            [
             0.3,
             "#f1b6da"
            ],
            [
             0.4,
             "#fde0ef"
            ],
            [
             0.5,
             "#f7f7f7"
            ],
            [
             0.6,
             "#e6f5d0"
            ],
            [
             0.7,
             "#b8e186"
            ],
            [
             0.8,
             "#7fbc41"
            ],
            [
             0.9,
             "#4d9221"
            ],
            [
             1,
             "#276419"
            ]
           ],
           "sequential": [
            [
             0,
             "#0d0887"
            ],
            [
             0.1111111111111111,
             "#46039f"
            ],
            [
             0.2222222222222222,
             "#7201a8"
            ],
            [
             0.3333333333333333,
             "#9c179e"
            ],
            [
             0.4444444444444444,
             "#bd3786"
            ],
            [
             0.5555555555555556,
             "#d8576b"
            ],
            [
             0.6666666666666666,
             "#ed7953"
            ],
            [
             0.7777777777777778,
             "#fb9f3a"
            ],
            [
             0.8888888888888888,
             "#fdca26"
            ],
            [
             1,
             "#f0f921"
            ]
           ],
           "sequentialminus": [
            [
             0,
             "#0d0887"
            ],
            [
             0.1111111111111111,
             "#46039f"
            ],
            [
             0.2222222222222222,
             "#7201a8"
            ],
            [
             0.3333333333333333,
             "#9c179e"
            ],
            [
             0.4444444444444444,
             "#bd3786"
            ],
            [
             0.5555555555555556,
             "#d8576b"
            ],
            [
             0.6666666666666666,
             "#ed7953"
            ],
            [
             0.7777777777777778,
             "#fb9f3a"
            ],
            [
             0.8888888888888888,
             "#fdca26"
            ],
            [
             1,
             "#f0f921"
            ]
           ]
          },
          "colorway": [
           "#636efa",
           "#EF553B",
           "#00cc96",
           "#ab63fa",
           "#FFA15A",
           "#19d3f3",
           "#FF6692",
           "#B6E880",
           "#FF97FF",
           "#FECB52"
          ],
          "font": {
           "color": "#2a3f5f"
          },
          "geo": {
           "bgcolor": "white",
           "lakecolor": "white",
           "landcolor": "#E5ECF6",
           "showlakes": true,
           "showland": true,
           "subunitcolor": "white"
          },
          "hoverlabel": {
           "align": "left"
          },
          "hovermode": "closest",
          "mapbox": {
           "style": "light"
          },
          "paper_bgcolor": "white",
          "plot_bgcolor": "#E5ECF6",
          "polar": {
           "angularaxis": {
            "gridcolor": "white",
            "linecolor": "white",
            "ticks": ""
           },
           "bgcolor": "#E5ECF6",
           "radialaxis": {
            "gridcolor": "white",
            "linecolor": "white",
            "ticks": ""
           }
          },
          "scene": {
           "xaxis": {
            "backgroundcolor": "#E5ECF6",
            "gridcolor": "white",
            "gridwidth": 2,
            "linecolor": "white",
            "showbackground": true,
            "ticks": "",
            "zerolinecolor": "white"
           },
           "yaxis": {
            "backgroundcolor": "#E5ECF6",
            "gridcolor": "white",
            "gridwidth": 2,
            "linecolor": "white",
            "showbackground": true,
            "ticks": "",
            "zerolinecolor": "white"
           },
           "zaxis": {
            "backgroundcolor": "#E5ECF6",
            "gridcolor": "white",
            "gridwidth": 2,
            "linecolor": "white",
            "showbackground": true,
            "ticks": "",
            "zerolinecolor": "white"
           }
          },
          "shapedefaults": {
           "line": {
            "color": "#2a3f5f"
           }
          },
          "ternary": {
           "aaxis": {
            "gridcolor": "white",
            "linecolor": "white",
            "ticks": ""
           },
           "baxis": {
            "gridcolor": "white",
            "linecolor": "white",
            "ticks": ""
           },
           "bgcolor": "#E5ECF6",
           "caxis": {
            "gridcolor": "white",
            "linecolor": "white",
            "ticks": ""
           }
          },
          "title": {
           "x": 0.05
          },
          "xaxis": {
           "automargin": true,
           "gridcolor": "white",
           "linecolor": "white",
           "ticks": "",
           "title": {
            "standoff": 15
           },
           "zerolinecolor": "white",
           "zerolinewidth": 2
          },
          "yaxis": {
           "automargin": true,
           "gridcolor": "white",
           "linecolor": "white",
           "ticks": "",
           "title": {
            "standoff": 15
           },
           "zerolinecolor": "white",
           "zerolinewidth": 2
          }
         }
        },
        "title": {
         "text": "Normalized accuracy across datasets"
        },
        "width": 900,
        "xaxis": {
         "anchor": "y",
         "domain": [
          0,
          0.98
         ],
         "title": {
          "text": "Accuracy"
         }
        },
        "xaxis2": {
         "anchor": "y2",
         "domain": [
          0,
          0.98
         ],
         "matches": "x",
         "showticklabels": false
        },
        "xaxis3": {
         "anchor": "y3",
         "domain": [
          0,
          0.98
         ],
         "matches": "x",
         "showticklabels": false
        },
        "yaxis": {
         "anchor": "x",
         "domain": [
          0,
          0.3133333333333333
         ],
         "title": {
          "text": "Dataset"
         }
        },
        "yaxis2": {
         "anchor": "x2",
         "domain": [
          0.34333333333333327,
          0.6566666666666665
         ],
         "matches": "y",
         "title": {
          "text": "Dataset"
         }
        },
        "yaxis3": {
         "anchor": "x3",
         "domain": [
          0.6866666666666665,
          0.9999999999999998
         ],
         "matches": "y",
         "title": {
          "text": "Dataset"
         }
        }
       }
      },
      "text/html": [
       "<div>                            <div id=\"518eccc0-3d0b-41eb-8b37-ab05a3e665c4\" class=\"plotly-graph-div\" style=\"height:1200px; width:900px;\"></div>            <script type=\"text/javascript\">                require([\"plotly\"], function(Plotly) {                    window.PLOTLYENV=window.PLOTLYENV || {};                                    if (document.getElementById(\"518eccc0-3d0b-41eb-8b37-ab05a3e665c4\")) {                    Plotly.newPlot(                        \"518eccc0-3d0b-41eb-8b37-ab05a3e665c4\",                        [{\"alignmentgroup\":\"True\",\"boxpoints\":\"all\",\"customdata\":[[\"GradientBoostingClassifier\",\"passthrough\",\"skrub__minhash_30\",\"all\",1000,0.6385,0.6909817083088944,2000.0]],\"fillcolor\":\"rgba(255,255,255,0)\",\"hoveron\":\"points\",\"hovertemplate\":\"n_train=%{customdata[4]}\\u003cbr\\u003efeatures=%{customdata[3]}\\u003cbr\\u003eAccuracy=%{x}\\u003cbr\\u003eDataset=%{y}\\u003cbr\\u003eModel=%{customdata[0]}\\u003cbr\\u003edim_reduction=%{customdata[1]}\\u003cbr\\u003eencoding=%{customdata[2]}\\u003cbr\\u003eaccuracies=%{customdata[5]}\\u003cbr\\u003eroc_auc=%{customdata[6]}\\u003cbr\\u003en_test=%{customdata[7]}\\u003cextra\\u003e\\u003c\\u002fextra\\u003e\",\"legendgroup\":\"1000\",\"line\":{\"color\":\"rgba(255,255,255,0)\"},\"marker\":{\"color\":\"#636efa\"},\"name\":\"1000\",\"offsetgroup\":\"1000\",\"orientation\":\"h\",\"pointpos\":0,\"showlegend\":true,\"x\":[0.6385],\"x0\":\" \",\"xaxis\":\"x3\",\"y\":[\"agora\"],\"y0\":\" \",\"yaxis\":\"y3\",\"type\":\"box\"},{\"alignmentgroup\":\"True\",\"boxpoints\":\"all\",\"customdata\":[[\"GradientBoostingClassifier\",\"passthrough\",\"skrub__minhash_30\",\"rest_only\",1000,0.6597999999999999,0.7171639170500997,2000.0]],\"fillcolor\":\"rgba(255,255,255,0)\",\"hoveron\":\"points\",\"hovertemplate\":\"n_train=%{customdata[4]}\\u003cbr\\u003efeatures=%{customdata[3]}\\u003cbr\\u003eAccuracy=%{x}\\u003cbr\\u003eDataset=%{y}\\u003cbr\\u003eModel=%{customdata[0]}\\u003cbr\\u003edim_reduction=%{customdata[1]}\\u003cbr\\u003eencoding=%{customdata[2]}\\u003cbr\\u003eaccuracies=%{customdata[5]}\\u003cbr\\u003eroc_auc=%{customdata[6]}\\u003cbr\\u003en_test=%{customdata[7]}\\u003cextra\\u003e\\u003c\\u002fextra\\u003e\",\"legendgroup\":\"1000\",\"line\":{\"color\":\"rgba(255,255,255,0)\"},\"marker\":{\"color\":\"#636efa\"},\"name\":\"1000\",\"offsetgroup\":\"1000\",\"orientation\":\"h\",\"pointpos\":0,\"showlegend\":false,\"x\":[0.6597999999999999],\"x0\":\" \",\"xaxis\":\"x2\",\"y\":[\"agora\"],\"y0\":\" \",\"yaxis\":\"y2\",\"type\":\"box\"},{\"alignmentgroup\":\"True\",\"boxpoints\":\"all\",\"customdata\":[[\"GradientBoostingClassifier\",\"passthrough\",\"skrub__minhash_30\",\"text_only\",1000,0.5477000000000001,0.5644382251694695,2000.0]],\"fillcolor\":\"rgba(255,255,255,0)\",\"hoveron\":\"points\",\"hovertemplate\":\"n_train=%{customdata[4]}\\u003cbr\\u003efeatures=%{customdata[3]}\\u003cbr\\u003eAccuracy=%{x}\\u003cbr\\u003eDataset=%{y}\\u003cbr\\u003eModel=%{customdata[0]}\\u003cbr\\u003edim_reduction=%{customdata[1]}\\u003cbr\\u003eencoding=%{customdata[2]}\\u003cbr\\u003eaccuracies=%{customdata[5]}\\u003cbr\\u003eroc_auc=%{customdata[6]}\\u003cbr\\u003en_test=%{customdata[7]}\\u003cextra\\u003e\\u003c\\u002fextra\\u003e\",\"legendgroup\":\"1000\",\"line\":{\"color\":\"rgba(255,255,255,0)\"},\"marker\":{\"color\":\"#636efa\"},\"name\":\"1000\",\"offsetgroup\":\"1000\",\"orientation\":\"h\",\"pointpos\":0,\"showlegend\":false,\"x\":[0.5477000000000001],\"x0\":\" \",\"xaxis\":\"x\",\"y\":[\"agora\"],\"y0\":\" \",\"yaxis\":\"y\",\"type\":\"box\"},{\"alignmentgroup\":\"True\",\"boxpoints\":\"all\",\"customdata\":[[\"GradientBoostingClassifier\",\"passthrough\",\"skrub__minhash_30\",\"all\",2000,0.6858,0.7510140956237877,2000.0]],\"fillcolor\":\"rgba(255,255,255,0)\",\"hoveron\":\"points\",\"hovertemplate\":\"n_train=%{customdata[4]}\\u003cbr\\u003efeatures=%{customdata[3]}\\u003cbr\\u003eAccuracy=%{x}\\u003cbr\\u003eDataset=%{y}\\u003cbr\\u003eModel=%{customdata[0]}\\u003cbr\\u003edim_reduction=%{customdata[1]}\\u003cbr\\u003eencoding=%{customdata[2]}\\u003cbr\\u003eaccuracies=%{customdata[5]}\\u003cbr\\u003eroc_auc=%{customdata[6]}\\u003cbr\\u003en_test=%{customdata[7]}\\u003cextra\\u003e\\u003c\\u002fextra\\u003e\",\"legendgroup\":\"2000\",\"line\":{\"color\":\"rgba(255,255,255,0)\"},\"marker\":{\"color\":\"#EF553B\"},\"name\":\"2000\",\"offsetgroup\":\"2000\",\"orientation\":\"h\",\"pointpos\":0,\"showlegend\":true,\"x\":[0.6858],\"x0\":\" \",\"xaxis\":\"x3\",\"y\":[\"agora\"],\"y0\":\" \",\"yaxis\":\"y3\",\"type\":\"box\"},{\"alignmentgroup\":\"True\",\"boxpoints\":\"all\",\"customdata\":[[\"GradientBoostingClassifier\",\"passthrough\",\"skrub__minhash_30\",\"rest_only\",2000,0.689,0.7600279828661055,2000.0]],\"fillcolor\":\"rgba(255,255,255,0)\",\"hoveron\":\"points\",\"hovertemplate\":\"n_train=%{customdata[4]}\\u003cbr\\u003efeatures=%{customdata[3]}\\u003cbr\\u003eAccuracy=%{x}\\u003cbr\\u003eDataset=%{y}\\u003cbr\\u003eModel=%{customdata[0]}\\u003cbr\\u003edim_reduction=%{customdata[1]}\\u003cbr\\u003eencoding=%{customdata[2]}\\u003cbr\\u003eaccuracies=%{customdata[5]}\\u003cbr\\u003eroc_auc=%{customdata[6]}\\u003cbr\\u003en_test=%{customdata[7]}\\u003cextra\\u003e\\u003c\\u002fextra\\u003e\",\"legendgroup\":\"2000\",\"line\":{\"color\":\"rgba(255,255,255,0)\"},\"marker\":{\"color\":\"#EF553B\"},\"name\":\"2000\",\"offsetgroup\":\"2000\",\"orientation\":\"h\",\"pointpos\":0,\"showlegend\":false,\"x\":[0.689],\"x0\":\" \",\"xaxis\":\"x2\",\"y\":[\"agora\"],\"y0\":\" \",\"yaxis\":\"y2\",\"type\":\"box\"},{\"alignmentgroup\":\"True\",\"boxpoints\":\"all\",\"customdata\":[[\"GradientBoostingClassifier\",\"passthrough\",\"skrub__minhash_30\",\"text_only\",2000,0.5700000000000001,0.6033260413872872,2000.0]],\"fillcolor\":\"rgba(255,255,255,0)\",\"hoveron\":\"points\",\"hovertemplate\":\"n_train=%{customdata[4]}\\u003cbr\\u003efeatures=%{customdata[3]}\\u003cbr\\u003eAccuracy=%{x}\\u003cbr\\u003eDataset=%{y}\\u003cbr\\u003eModel=%{customdata[0]}\\u003cbr\\u003edim_reduction=%{customdata[1]}\\u003cbr\\u003eencoding=%{customdata[2]}\\u003cbr\\u003eaccuracies=%{customdata[5]}\\u003cbr\\u003eroc_auc=%{customdata[6]}\\u003cbr\\u003en_test=%{customdata[7]}\\u003cextra\\u003e\\u003c\\u002fextra\\u003e\",\"legendgroup\":\"2000\",\"line\":{\"color\":\"rgba(255,255,255,0)\"},\"marker\":{\"color\":\"#EF553B\"},\"name\":\"2000\",\"offsetgroup\":\"2000\",\"orientation\":\"h\",\"pointpos\":0,\"showlegend\":false,\"x\":[0.5700000000000001],\"x0\":\" \",\"xaxis\":\"x\",\"y\":[\"agora\"],\"y0\":\" \",\"yaxis\":\"y\",\"type\":\"box\"},{\"alignmentgroup\":\"True\",\"boxpoints\":\"all\",\"customdata\":[[\"GradientBoostingClassifier\",\"passthrough\",\"skrub__minhash_30\",\"all\",3000,0.7064,0.7837785963818543,2000.0]],\"fillcolor\":\"rgba(255,255,255,0)\",\"hoveron\":\"points\",\"hovertemplate\":\"n_train=%{customdata[4]}\\u003cbr\\u003efeatures=%{customdata[3]}\\u003cbr\\u003eAccuracy=%{x}\\u003cbr\\u003eDataset=%{y}\\u003cbr\\u003eModel=%{customdata[0]}\\u003cbr\\u003edim_reduction=%{customdata[1]}\\u003cbr\\u003eencoding=%{customdata[2]}\\u003cbr\\u003eaccuracies=%{customdata[5]}\\u003cbr\\u003eroc_auc=%{customdata[6]}\\u003cbr\\u003en_test=%{customdata[7]}\\u003cextra\\u003e\\u003c\\u002fextra\\u003e\",\"legendgroup\":\"3000\",\"line\":{\"color\":\"rgba(255,255,255,0)\"},\"marker\":{\"color\":\"#00cc96\"},\"name\":\"3000\",\"offsetgroup\":\"3000\",\"orientation\":\"h\",\"pointpos\":0,\"showlegend\":true,\"x\":[0.7064],\"x0\":\" \",\"xaxis\":\"x3\",\"y\":[\"agora\"],\"y0\":\" \",\"yaxis\":\"y3\",\"type\":\"box\"},{\"alignmentgroup\":\"True\",\"boxpoints\":\"all\",\"customdata\":[[\"GradientBoostingClassifier\",\"passthrough\",\"skrub__minhash_30\",\"rest_only\",3000,0.7143,0.7893729036916872,2000.0]],\"fillcolor\":\"rgba(255,255,255,0)\",\"hoveron\":\"points\",\"hovertemplate\":\"n_train=%{customdata[4]}\\u003cbr\\u003efeatures=%{customdata[3]}\\u003cbr\\u003eAccuracy=%{x}\\u003cbr\\u003eDataset=%{y}\\u003cbr\\u003eModel=%{customdata[0]}\\u003cbr\\u003edim_reduction=%{customdata[1]}\\u003cbr\\u003eencoding=%{customdata[2]}\\u003cbr\\u003eaccuracies=%{customdata[5]}\\u003cbr\\u003eroc_auc=%{customdata[6]}\\u003cbr\\u003en_test=%{customdata[7]}\\u003cextra\\u003e\\u003c\\u002fextra\\u003e\",\"legendgroup\":\"3000\",\"line\":{\"color\":\"rgba(255,255,255,0)\"},\"marker\":{\"color\":\"#00cc96\"},\"name\":\"3000\",\"offsetgroup\":\"3000\",\"orientation\":\"h\",\"pointpos\":0,\"showlegend\":false,\"x\":[0.7143],\"x0\":\" \",\"xaxis\":\"x2\",\"y\":[\"agora\"],\"y0\":\" \",\"yaxis\":\"y2\",\"type\":\"box\"},{\"alignmentgroup\":\"True\",\"boxpoints\":\"all\",\"customdata\":[[\"GradientBoostingClassifier\",\"passthrough\",\"skrub__minhash_30\",\"text_only\",3000,0.5805,0.6179589048035514,2000.0]],\"fillcolor\":\"rgba(255,255,255,0)\",\"hoveron\":\"points\",\"hovertemplate\":\"n_train=%{customdata[4]}\\u003cbr\\u003efeatures=%{customdata[3]}\\u003cbr\\u003eAccuracy=%{x}\\u003cbr\\u003eDataset=%{y}\\u003cbr\\u003eModel=%{customdata[0]}\\u003cbr\\u003edim_reduction=%{customdata[1]}\\u003cbr\\u003eencoding=%{customdata[2]}\\u003cbr\\u003eaccuracies=%{customdata[5]}\\u003cbr\\u003eroc_auc=%{customdata[6]}\\u003cbr\\u003en_test=%{customdata[7]}\\u003cextra\\u003e\\u003c\\u002fextra\\u003e\",\"legendgroup\":\"3000\",\"line\":{\"color\":\"rgba(255,255,255,0)\"},\"marker\":{\"color\":\"#00cc96\"},\"name\":\"3000\",\"offsetgroup\":\"3000\",\"orientation\":\"h\",\"pointpos\":0,\"showlegend\":false,\"x\":[0.5805],\"x0\":\" \",\"xaxis\":\"x\",\"y\":[\"agora\"],\"y0\":\" \",\"yaxis\":\"y\",\"type\":\"box\"},{\"alignmentgroup\":\"True\",\"boxpoints\":\"all\",\"customdata\":[[\"GradientBoostingClassifier\",\"passthrough\",\"skrub__minhash_30\",\"all\",4000,0.7163999999999999,0.7948385036832203,2000.0]],\"fillcolor\":\"rgba(255,255,255,0)\",\"hoveron\":\"points\",\"hovertemplate\":\"n_train=%{customdata[4]}\\u003cbr\\u003efeatures=%{customdata[3]}\\u003cbr\\u003eAccuracy=%{x}\\u003cbr\\u003eDataset=%{y}\\u003cbr\\u003eModel=%{customdata[0]}\\u003cbr\\u003edim_reduction=%{customdata[1]}\\u003cbr\\u003eencoding=%{customdata[2]}\\u003cbr\\u003eaccuracies=%{customdata[5]}\\u003cbr\\u003eroc_auc=%{customdata[6]}\\u003cbr\\u003en_test=%{customdata[7]}\\u003cextra\\u003e\\u003c\\u002fextra\\u003e\",\"legendgroup\":\"4000\",\"line\":{\"color\":\"rgba(255,255,255,0)\"},\"marker\":{\"color\":\"#ab63fa\"},\"name\":\"4000\",\"offsetgroup\":\"4000\",\"orientation\":\"h\",\"pointpos\":0,\"showlegend\":true,\"x\":[0.7163999999999999],\"x0\":\" \",\"xaxis\":\"x3\",\"y\":[\"agora\"],\"y0\":\" \",\"yaxis\":\"y3\",\"type\":\"box\"},{\"alignmentgroup\":\"True\",\"boxpoints\":\"all\",\"customdata\":[[\"GradientBoostingClassifier\",\"passthrough\",\"skrub__minhash_30\",\"rest_only\",4000,0.7235,0.8028412794695754,2000.0]],\"fillcolor\":\"rgba(255,255,255,0)\",\"hoveron\":\"points\",\"hovertemplate\":\"n_train=%{customdata[4]}\\u003cbr\\u003efeatures=%{customdata[3]}\\u003cbr\\u003eAccuracy=%{x}\\u003cbr\\u003eDataset=%{y}\\u003cbr\\u003eModel=%{customdata[0]}\\u003cbr\\u003edim_reduction=%{customdata[1]}\\u003cbr\\u003eencoding=%{customdata[2]}\\u003cbr\\u003eaccuracies=%{customdata[5]}\\u003cbr\\u003eroc_auc=%{customdata[6]}\\u003cbr\\u003en_test=%{customdata[7]}\\u003cextra\\u003e\\u003c\\u002fextra\\u003e\",\"legendgroup\":\"4000\",\"line\":{\"color\":\"rgba(255,255,255,0)\"},\"marker\":{\"color\":\"#ab63fa\"},\"name\":\"4000\",\"offsetgroup\":\"4000\",\"orientation\":\"h\",\"pointpos\":0,\"showlegend\":false,\"x\":[0.7235],\"x0\":\" \",\"xaxis\":\"x2\",\"y\":[\"agora\"],\"y0\":\" \",\"yaxis\":\"y2\",\"type\":\"box\"},{\"alignmentgroup\":\"True\",\"boxpoints\":\"all\",\"customdata\":[[\"GradientBoostingClassifier\",\"passthrough\",\"skrub__minhash_30\",\"text_only\",4000,0.5827,0.6186688748217192,2000.0]],\"fillcolor\":\"rgba(255,255,255,0)\",\"hoveron\":\"points\",\"hovertemplate\":\"n_train=%{customdata[4]}\\u003cbr\\u003efeatures=%{customdata[3]}\\u003cbr\\u003eAccuracy=%{x}\\u003cbr\\u003eDataset=%{y}\\u003cbr\\u003eModel=%{customdata[0]}\\u003cbr\\u003edim_reduction=%{customdata[1]}\\u003cbr\\u003eencoding=%{customdata[2]}\\u003cbr\\u003eaccuracies=%{customdata[5]}\\u003cbr\\u003eroc_auc=%{customdata[6]}\\u003cbr\\u003en_test=%{customdata[7]}\\u003cextra\\u003e\\u003c\\u002fextra\\u003e\",\"legendgroup\":\"4000\",\"line\":{\"color\":\"rgba(255,255,255,0)\"},\"marker\":{\"color\":\"#ab63fa\"},\"name\":\"4000\",\"offsetgroup\":\"4000\",\"orientation\":\"h\",\"pointpos\":0,\"showlegend\":false,\"x\":[0.5827],\"x0\":\" \",\"xaxis\":\"x\",\"y\":[\"agora\"],\"y0\":\" \",\"yaxis\":\"y\",\"type\":\"box\"},{\"alignmentgroup\":\"True\",\"boxpoints\":\"all\",\"customdata\":[[\"GradientBoostingClassifier\",\"passthrough\",\"skrub__minhash_30\",\"all\",5000,0.7188,0.7974350842778255,2000.0]],\"fillcolor\":\"rgba(255,255,255,0)\",\"hoveron\":\"points\",\"hovertemplate\":\"n_train=%{customdata[4]}\\u003cbr\\u003efeatures=%{customdata[3]}\\u003cbr\\u003eAccuracy=%{x}\\u003cbr\\u003eDataset=%{y}\\u003cbr\\u003eModel=%{customdata[0]}\\u003cbr\\u003edim_reduction=%{customdata[1]}\\u003cbr\\u003eencoding=%{customdata[2]}\\u003cbr\\u003eaccuracies=%{customdata[5]}\\u003cbr\\u003eroc_auc=%{customdata[6]}\\u003cbr\\u003en_test=%{customdata[7]}\\u003cextra\\u003e\\u003c\\u002fextra\\u003e\",\"legendgroup\":\"5000\",\"line\":{\"color\":\"rgba(255,255,255,0)\"},\"marker\":{\"color\":\"#FFA15A\"},\"name\":\"5000\",\"offsetgroup\":\"5000\",\"orientation\":\"h\",\"pointpos\":0,\"showlegend\":true,\"x\":[0.7188],\"x0\":\" \",\"xaxis\":\"x3\",\"y\":[\"agora\"],\"y0\":\" \",\"yaxis\":\"y3\",\"type\":\"box\"},{\"alignmentgroup\":\"True\",\"boxpoints\":\"all\",\"customdata\":[[\"GradientBoostingClassifier\",\"passthrough\",\"skrub__minhash_30\",\"rest_only\",5000,0.728,0.8040651937139882,2000.0]],\"fillcolor\":\"rgba(255,255,255,0)\",\"hoveron\":\"points\",\"hovertemplate\":\"n_train=%{customdata[4]}\\u003cbr\\u003efeatures=%{customdata[3]}\\u003cbr\\u003eAccuracy=%{x}\\u003cbr\\u003eDataset=%{y}\\u003cbr\\u003eModel=%{customdata[0]}\\u003cbr\\u003edim_reduction=%{customdata[1]}\\u003cbr\\u003eencoding=%{customdata[2]}\\u003cbr\\u003eaccuracies=%{customdata[5]}\\u003cbr\\u003eroc_auc=%{customdata[6]}\\u003cbr\\u003en_test=%{customdata[7]}\\u003cextra\\u003e\\u003c\\u002fextra\\u003e\",\"legendgroup\":\"5000\",\"line\":{\"color\":\"rgba(255,255,255,0)\"},\"marker\":{\"color\":\"#FFA15A\"},\"name\":\"5000\",\"offsetgroup\":\"5000\",\"orientation\":\"h\",\"pointpos\":0,\"showlegend\":false,\"x\":[0.728],\"x0\":\" \",\"xaxis\":\"x2\",\"y\":[\"agora\"],\"y0\":\" \",\"yaxis\":\"y2\",\"type\":\"box\"},{\"alignmentgroup\":\"True\",\"boxpoints\":\"all\",\"customdata\":[[\"GradientBoostingClassifier\",\"passthrough\",\"skrub__minhash_30\",\"text_only\",5000,0.5964,0.6346911704153342,2000.0]],\"fillcolor\":\"rgba(255,255,255,0)\",\"hoveron\":\"points\",\"hovertemplate\":\"n_train=%{customdata[4]}\\u003cbr\\u003efeatures=%{customdata[3]}\\u003cbr\\u003eAccuracy=%{x}\\u003cbr\\u003eDataset=%{y}\\u003cbr\\u003eModel=%{customdata[0]}\\u003cbr\\u003edim_reduction=%{customdata[1]}\\u003cbr\\u003eencoding=%{customdata[2]}\\u003cbr\\u003eaccuracies=%{customdata[5]}\\u003cbr\\u003eroc_auc=%{customdata[6]}\\u003cbr\\u003en_test=%{customdata[7]}\\u003cextra\\u003e\\u003c\\u002fextra\\u003e\",\"legendgroup\":\"5000\",\"line\":{\"color\":\"rgba(255,255,255,0)\"},\"marker\":{\"color\":\"#FFA15A\"},\"name\":\"5000\",\"offsetgroup\":\"5000\",\"orientation\":\"h\",\"pointpos\":0,\"showlegend\":false,\"x\":[0.5964],\"x0\":\" \",\"xaxis\":\"x\",\"y\":[\"agora\"],\"y0\":\" \",\"yaxis\":\"y\",\"type\":\"box\"}],                        {\"template\":{\"data\":{\"histogram2dcontour\":[{\"type\":\"histogram2dcontour\",\"colorbar\":{\"outlinewidth\":0,\"ticks\":\"\"},\"colorscale\":[[0.0,\"#0d0887\"],[0.1111111111111111,\"#46039f\"],[0.2222222222222222,\"#7201a8\"],[0.3333333333333333,\"#9c179e\"],[0.4444444444444444,\"#bd3786\"],[0.5555555555555556,\"#d8576b\"],[0.6666666666666666,\"#ed7953\"],[0.7777777777777778,\"#fb9f3a\"],[0.8888888888888888,\"#fdca26\"],[1.0,\"#f0f921\"]]}],\"choropleth\":[{\"type\":\"choropleth\",\"colorbar\":{\"outlinewidth\":0,\"ticks\":\"\"}}],\"histogram2d\":[{\"type\":\"histogram2d\",\"colorbar\":{\"outlinewidth\":0,\"ticks\":\"\"},\"colorscale\":[[0.0,\"#0d0887\"],[0.1111111111111111,\"#46039f\"],[0.2222222222222222,\"#7201a8\"],[0.3333333333333333,\"#9c179e\"],[0.4444444444444444,\"#bd3786\"],[0.5555555555555556,\"#d8576b\"],[0.6666666666666666,\"#ed7953\"],[0.7777777777777778,\"#fb9f3a\"],[0.8888888888888888,\"#fdca26\"],[1.0,\"#f0f921\"]]}],\"heatmap\":[{\"type\":\"heatmap\",\"colorbar\":{\"outlinewidth\":0,\"ticks\":\"\"},\"colorscale\":[[0.0,\"#0d0887\"],[0.1111111111111111,\"#46039f\"],[0.2222222222222222,\"#7201a8\"],[0.3333333333333333,\"#9c179e\"],[0.4444444444444444,\"#bd3786\"],[0.5555555555555556,\"#d8576b\"],[0.6666666666666666,\"#ed7953\"],[0.7777777777777778,\"#fb9f3a\"],[0.8888888888888888,\"#fdca26\"],[1.0,\"#f0f921\"]]}],\"heatmapgl\":[{\"type\":\"heatmapgl\",\"colorbar\":{\"outlinewidth\":0,\"ticks\":\"\"},\"colorscale\":[[0.0,\"#0d0887\"],[0.1111111111111111,\"#46039f\"],[0.2222222222222222,\"#7201a8\"],[0.3333333333333333,\"#9c179e\"],[0.4444444444444444,\"#bd3786\"],[0.5555555555555556,\"#d8576b\"],[0.6666666666666666,\"#ed7953\"],[0.7777777777777778,\"#fb9f3a\"],[0.8888888888888888,\"#fdca26\"],[1.0,\"#f0f921\"]]}],\"contourcarpet\":[{\"type\":\"contourcarpet\",\"colorbar\":{\"outlinewidth\":0,\"ticks\":\"\"}}],\"contour\":[{\"type\":\"contour\",\"colorbar\":{\"outlinewidth\":0,\"ticks\":\"\"},\"colorscale\":[[0.0,\"#0d0887\"],[0.1111111111111111,\"#46039f\"],[0.2222222222222222,\"#7201a8\"],[0.3333333333333333,\"#9c179e\"],[0.4444444444444444,\"#bd3786\"],[0.5555555555555556,\"#d8576b\"],[0.6666666666666666,\"#ed7953\"],[0.7777777777777778,\"#fb9f3a\"],[0.8888888888888888,\"#fdca26\"],[1.0,\"#f0f921\"]]}],\"surface\":[{\"type\":\"surface\",\"colorbar\":{\"outlinewidth\":0,\"ticks\":\"\"},\"colorscale\":[[0.0,\"#0d0887\"],[0.1111111111111111,\"#46039f\"],[0.2222222222222222,\"#7201a8\"],[0.3333333333333333,\"#9c179e\"],[0.4444444444444444,\"#bd3786\"],[0.5555555555555556,\"#d8576b\"],[0.6666666666666666,\"#ed7953\"],[0.7777777777777778,\"#fb9f3a\"],[0.8888888888888888,\"#fdca26\"],[1.0,\"#f0f921\"]]}],\"mesh3d\":[{\"type\":\"mesh3d\",\"colorbar\":{\"outlinewidth\":0,\"ticks\":\"\"}}],\"scatter\":[{\"fillpattern\":{\"fillmode\":\"overlay\",\"size\":10,\"solidity\":0.2},\"type\":\"scatter\"}],\"parcoords\":[{\"type\":\"parcoords\",\"line\":{\"colorbar\":{\"outlinewidth\":0,\"ticks\":\"\"}}}],\"scatterpolargl\":[{\"type\":\"scatterpolargl\",\"marker\":{\"colorbar\":{\"outlinewidth\":0,\"ticks\":\"\"}}}],\"bar\":[{\"error_x\":{\"color\":\"#2a3f5f\"},\"error_y\":{\"color\":\"#2a3f5f\"},\"marker\":{\"line\":{\"color\":\"#E5ECF6\",\"width\":0.5},\"pattern\":{\"fillmode\":\"overlay\",\"size\":10,\"solidity\":0.2}},\"type\":\"bar\"}],\"scattergeo\":[{\"type\":\"scattergeo\",\"marker\":{\"colorbar\":{\"outlinewidth\":0,\"ticks\":\"\"}}}],\"scatterpolar\":[{\"type\":\"scatterpolar\",\"marker\":{\"colorbar\":{\"outlinewidth\":0,\"ticks\":\"\"}}}],\"histogram\":[{\"marker\":{\"pattern\":{\"fillmode\":\"overlay\",\"size\":10,\"solidity\":0.2}},\"type\":\"histogram\"}],\"scattergl\":[{\"type\":\"scattergl\",\"marker\":{\"colorbar\":{\"outlinewidth\":0,\"ticks\":\"\"}}}],\"scatter3d\":[{\"type\":\"scatter3d\",\"line\":{\"colorbar\":{\"outlinewidth\":0,\"ticks\":\"\"}},\"marker\":{\"colorbar\":{\"outlinewidth\":0,\"ticks\":\"\"}}}],\"scattermapbox\":[{\"type\":\"scattermapbox\",\"marker\":{\"colorbar\":{\"outlinewidth\":0,\"ticks\":\"\"}}}],\"scatterternary\":[{\"type\":\"scatterternary\",\"marker\":{\"colorbar\":{\"outlinewidth\":0,\"ticks\":\"\"}}}],\"scattercarpet\":[{\"type\":\"scattercarpet\",\"marker\":{\"colorbar\":{\"outlinewidth\":0,\"ticks\":\"\"}}}],\"carpet\":[{\"aaxis\":{\"endlinecolor\":\"#2a3f5f\",\"gridcolor\":\"white\",\"linecolor\":\"white\",\"minorgridcolor\":\"white\",\"startlinecolor\":\"#2a3f5f\"},\"baxis\":{\"endlinecolor\":\"#2a3f5f\",\"gridcolor\":\"white\",\"linecolor\":\"white\",\"minorgridcolor\":\"white\",\"startlinecolor\":\"#2a3f5f\"},\"type\":\"carpet\"}],\"table\":[{\"cells\":{\"fill\":{\"color\":\"#EBF0F8\"},\"line\":{\"color\":\"white\"}},\"header\":{\"fill\":{\"color\":\"#C8D4E3\"},\"line\":{\"color\":\"white\"}},\"type\":\"table\"}],\"barpolar\":[{\"marker\":{\"line\":{\"color\":\"#E5ECF6\",\"width\":0.5},\"pattern\":{\"fillmode\":\"overlay\",\"size\":10,\"solidity\":0.2}},\"type\":\"barpolar\"}],\"pie\":[{\"automargin\":true,\"type\":\"pie\"}]},\"layout\":{\"autotypenumbers\":\"strict\",\"colorway\":[\"#636efa\",\"#EF553B\",\"#00cc96\",\"#ab63fa\",\"#FFA15A\",\"#19d3f3\",\"#FF6692\",\"#B6E880\",\"#FF97FF\",\"#FECB52\"],\"font\":{\"color\":\"#2a3f5f\"},\"hovermode\":\"closest\",\"hoverlabel\":{\"align\":\"left\"},\"paper_bgcolor\":\"white\",\"plot_bgcolor\":\"#E5ECF6\",\"polar\":{\"bgcolor\":\"#E5ECF6\",\"angularaxis\":{\"gridcolor\":\"white\",\"linecolor\":\"white\",\"ticks\":\"\"},\"radialaxis\":{\"gridcolor\":\"white\",\"linecolor\":\"white\",\"ticks\":\"\"}},\"ternary\":{\"bgcolor\":\"#E5ECF6\",\"aaxis\":{\"gridcolor\":\"white\",\"linecolor\":\"white\",\"ticks\":\"\"},\"baxis\":{\"gridcolor\":\"white\",\"linecolor\":\"white\",\"ticks\":\"\"},\"caxis\":{\"gridcolor\":\"white\",\"linecolor\":\"white\",\"ticks\":\"\"}},\"coloraxis\":{\"colorbar\":{\"outlinewidth\":0,\"ticks\":\"\"}},\"colorscale\":{\"sequential\":[[0.0,\"#0d0887\"],[0.1111111111111111,\"#46039f\"],[0.2222222222222222,\"#7201a8\"],[0.3333333333333333,\"#9c179e\"],[0.4444444444444444,\"#bd3786\"],[0.5555555555555556,\"#d8576b\"],[0.6666666666666666,\"#ed7953\"],[0.7777777777777778,\"#fb9f3a\"],[0.8888888888888888,\"#fdca26\"],[1.0,\"#f0f921\"]],\"sequentialminus\":[[0.0,\"#0d0887\"],[0.1111111111111111,\"#46039f\"],[0.2222222222222222,\"#7201a8\"],[0.3333333333333333,\"#9c179e\"],[0.4444444444444444,\"#bd3786\"],[0.5555555555555556,\"#d8576b\"],[0.6666666666666666,\"#ed7953\"],[0.7777777777777778,\"#fb9f3a\"],[0.8888888888888888,\"#fdca26\"],[1.0,\"#f0f921\"]],\"diverging\":[[0,\"#8e0152\"],[0.1,\"#c51b7d\"],[0.2,\"#de77ae\"],[0.3,\"#f1b6da\"],[0.4,\"#fde0ef\"],[0.5,\"#f7f7f7\"],[0.6,\"#e6f5d0\"],[0.7,\"#b8e186\"],[0.8,\"#7fbc41\"],[0.9,\"#4d9221\"],[1,\"#276419\"]]},\"xaxis\":{\"gridcolor\":\"white\",\"linecolor\":\"white\",\"ticks\":\"\",\"title\":{\"standoff\":15},\"zerolinecolor\":\"white\",\"automargin\":true,\"zerolinewidth\":2},\"yaxis\":{\"gridcolor\":\"white\",\"linecolor\":\"white\",\"ticks\":\"\",\"title\":{\"standoff\":15},\"zerolinecolor\":\"white\",\"automargin\":true,\"zerolinewidth\":2},\"scene\":{\"xaxis\":{\"backgroundcolor\":\"#E5ECF6\",\"gridcolor\":\"white\",\"linecolor\":\"white\",\"showbackground\":true,\"ticks\":\"\",\"zerolinecolor\":\"white\",\"gridwidth\":2},\"yaxis\":{\"backgroundcolor\":\"#E5ECF6\",\"gridcolor\":\"white\",\"linecolor\":\"white\",\"showbackground\":true,\"ticks\":\"\",\"zerolinecolor\":\"white\",\"gridwidth\":2},\"zaxis\":{\"backgroundcolor\":\"#E5ECF6\",\"gridcolor\":\"white\",\"linecolor\":\"white\",\"showbackground\":true,\"ticks\":\"\",\"zerolinecolor\":\"white\",\"gridwidth\":2}},\"shapedefaults\":{\"line\":{\"color\":\"#2a3f5f\"}},\"annotationdefaults\":{\"arrowcolor\":\"#2a3f5f\",\"arrowhead\":0,\"arrowwidth\":1},\"geo\":{\"bgcolor\":\"white\",\"landcolor\":\"#E5ECF6\",\"subunitcolor\":\"white\",\"showland\":true,\"showlakes\":true,\"lakecolor\":\"white\"},\"title\":{\"x\":0.05},\"mapbox\":{\"style\":\"light\"}}},\"xaxis\":{\"anchor\":\"y\",\"domain\":[0.0,0.98],\"title\":{\"text\":\"Accuracy\"}},\"yaxis\":{\"anchor\":\"x\",\"domain\":[0.0,0.3133333333333333],\"title\":{\"text\":\"Dataset\"}},\"xaxis2\":{\"anchor\":\"y2\",\"domain\":[0.0,0.98],\"matches\":\"x\",\"showticklabels\":false},\"yaxis2\":{\"anchor\":\"x2\",\"domain\":[0.34333333333333327,0.6566666666666665],\"matches\":\"y\",\"title\":{\"text\":\"Dataset\"}},\"xaxis3\":{\"anchor\":\"y3\",\"domain\":[0.0,0.98],\"matches\":\"x\",\"showticklabels\":false},\"yaxis3\":{\"anchor\":\"x3\",\"domain\":[0.6866666666666665,0.9999999999999998],\"matches\":\"y\",\"title\":{\"text\":\"Dataset\"}},\"annotations\":[{\"font\":{},\"showarrow\":false,\"text\":\"features=text_only\",\"textangle\":90,\"x\":0.98,\"xanchor\":\"left\",\"xref\":\"paper\",\"y\":0.15666666666666665,\"yanchor\":\"middle\",\"yref\":\"paper\"},{\"font\":{},\"showarrow\":false,\"text\":\"features=rest_only\",\"textangle\":90,\"x\":0.98,\"xanchor\":\"left\",\"xref\":\"paper\",\"y\":0.4999999999999999,\"yanchor\":\"middle\",\"yref\":\"paper\"},{\"font\":{},\"showarrow\":false,\"text\":\"features=all\",\"textangle\":90,\"x\":0.98,\"xanchor\":\"left\",\"xref\":\"paper\",\"y\":0.8433333333333332,\"yanchor\":\"middle\",\"yref\":\"paper\"}],\"legend\":{\"title\":{\"text\":\"n_train\"},\"tracegroupgap\":0},\"title\":{\"text\":\"Normalized accuracy across datasets\"},\"boxmode\":\"group\",\"height\":1200,\"width\":900},                        {\"responsive\": true}                    ).then(function(){\n",
       "                            \n",
       "var gd = document.getElementById('518eccc0-3d0b-41eb-8b37-ab05a3e665c4');\n",
       "var x = new MutationObserver(function (mutations, observer) {{\n",
       "        var display = window.getComputedStyle(gd).display;\n",
       "        if (!display || display === 'none') {{\n",
       "            console.log([gd, 'removed!']);\n",
       "            Plotly.purge(gd);\n",
       "            observer.disconnect();\n",
       "        }}\n",
       "}});\n",
       "\n",
       "// Listen for the removal of the full notebook cells\n",
       "var notebookContainer = gd.closest('#notebook-container');\n",
       "if (notebookContainer) {{\n",
       "    x.observe(notebookContainer, {childList: true});\n",
       "}}\n",
       "\n",
       "// Listen for the clearing of the current output cell\n",
       "var outputEl = gd.closest('.output');\n",
       "if (outputEl) {{\n",
       "    x.observe(outputEl, {childList: true});\n",
       "}}\n",
       "\n",
       "                        })                };                });            </script>        </div>"
      ]
     },
     "metadata": {},
     "output_type": "display_data"
    }
   ],
   "source": [
    "import plotly.express as px\n",
    "\n",
    "# filter for models starting by \"skrub\" or openai or \"lm__all-distilroberta-v1\", \"lm__all-mpnet-base-v2\"\n",
    "melted_results = melted_results[(melted_results[\"dataset\"] == \"agora\") & (melted_results[\"encoding\"] == \"skrub__minhash_30\") & (melted_results[\"model\"] == \"GradientBoostingClassifier\")]\n",
    "group_cols = ['dataset', 'model', 'dim_reduction', 'encoding', \"features\", \"n_train\"]\n",
    "# show counts per group\n",
    "print(melted_results.groupby(group_cols).count())\n",
    "melted_results = melted_results.groupby(group_cols).mean().reset_index()\n",
    "print(melted_results.shape)\n",
    "\n",
    "\n",
    "\n",
    "\n",
    "# # Create the plot\n",
    "fig = px.strip(\n",
    "    data_frame=melted_results,\n",
    "    x=\"accuracy\",\n",
    "    y=\"dataset\",\n",
    "    color=\"n_train\",\n",
    "    #color=\"dim_reduction\",\n",
    "    facet_row = \"features\",\n",
    "    category_orders={\"model\": ['TabPFNClassifier', 'GradientBoostingClassifier', 'LogisticRegression']},\n",
    "    title=\"Normalized accuracy across datasets\",\n",
    "    hover_data=melted_results.columns,\n",
    "    labels={\"accuracy\": \"Accuracy\", \"dataset\": \"Dataset\", \"model\": \"Model\"},\n",
    "    height=1200,\n",
    "    width=900,\n",
    ")\n",
    "\n",
    "# Show the figure\n",
    "fig.show()\n"
   ]
  },
  {
   "cell_type": "code",
   "execution_count": null,
   "metadata": {},
   "outputs": [],
   "source": []
  }
 ],
 "metadata": {
  "kernelspec": {
   "display_name": "Python 3 (ipykernel)",
   "language": "python",
   "name": "python3"
  },
  "language_info": {
   "codemirror_mode": {
    "name": "ipython",
    "version": 3
   },
   "file_extension": ".py",
   "mimetype": "text/x-python",
   "name": "python",
   "nbconvert_exporter": "python",
   "pygments_lexer": "ipython3",
   "version": "3.10.12"
  }
 },
 "nbformat": 4,
 "nbformat_minor": 2
}
