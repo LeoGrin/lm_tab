{
 "cells": [
  {
   "cell_type": "code",
   "execution_count": 1,
   "metadata": {},
   "outputs": [
    {
     "name": "stdout",
     "output_type": "stream",
     "text": [
      "/scratch/lgrinszt/lm_tab/scripts\n"
     ]
    }
   ],
   "source": [
    "%cd lm_tab/scripts"
   ]
  },
  {
   "cell_type": "code",
   "execution_count": 2,
   "metadata": {},
   "outputs": [],
   "source": [
    "import pandas as pd\n",
    "cities = pd.read_csv(\"../data/cities.csv\")"
   ]
  },
  {
   "cell_type": "code",
   "execution_count": 3,
   "metadata": {},
   "outputs": [],
   "source": [
    "# rename columns\n",
    "cities = cities.rename(columns={\"Official est. GDP\\nup to date\\n(billion US$)\": \"gdp\", \"Metropolitan population\": \"pop\", \"Official est. GDP per capita\": \"gdp_capita\",\n",
    "                                \"City proper/metropolitan area\": \"city\", \"Country/region\": \"country\"})\n",
    "cities = cities.drop(columns=[\"Rank\"])"
   ]
  },
  {
   "cell_type": "code",
   "execution_count": 4,
   "metadata": {},
   "outputs": [
    {
     "data": {
      "text/html": [
       "<div>\n",
       "<style scoped>\n",
       "    .dataframe tbody tr th:only-of-type {\n",
       "        vertical-align: middle;\n",
       "    }\n",
       "\n",
       "    .dataframe tbody tr th {\n",
       "        vertical-align: top;\n",
       "    }\n",
       "\n",
       "    .dataframe thead th {\n",
       "        text-align: right;\n",
       "    }\n",
       "</style>\n",
       "<table border=\"1\" class=\"dataframe\">\n",
       "  <thead>\n",
       "    <tr style=\"text-align: right;\">\n",
       "      <th></th>\n",
       "      <th>city</th>\n",
       "      <th>country</th>\n",
       "      <th>gdp</th>\n",
       "      <th>pop</th>\n",
       "      <th>gdp_capita</th>\n",
       "    </tr>\n",
       "  </thead>\n",
       "  <tbody>\n",
       "    <tr>\n",
       "      <th>0</th>\n",
       "      <td>Abbotsford, British Columbia</td>\n",
       "      <td>Canada</td>\n",
       "      <td>6.141 (2019)</td>\n",
       "      <td>202,497 (2019)</td>\n",
       "      <td>30,321.44</td>\n",
       "    </tr>\n",
       "    <tr>\n",
       "      <th>1</th>\n",
       "      <td>Aberdeen</td>\n",
       "      <td>United Kingdom</td>\n",
       "      <td>23.0 (2020)</td>\n",
       "      <td>489,840 (2020)</td>\n",
       "      <td>46,957.94</td>\n",
       "    </tr>\n",
       "    <tr>\n",
       "      <th>2</th>\n",
       "      <td>Abidjan</td>\n",
       "      <td>Ivory Coast</td>\n",
       "      <td>27 (2017)</td>\n",
       "      <td>5,950,000 (2022)</td>\n",
       "      <td>4,537.82</td>\n",
       "    </tr>\n",
       "    <tr>\n",
       "      <th>3</th>\n",
       "      <td>Abu Dhabi</td>\n",
       "      <td>United Arab Emirates</td>\n",
       "      <td>119 (2015)</td>\n",
       "      <td>1,660,000 (2022)</td>\n",
       "      <td>71,686.75</td>\n",
       "    </tr>\n",
       "    <tr>\n",
       "      <th>4</th>\n",
       "      <td>Adelaide</td>\n",
       "      <td>Australia</td>\n",
       "      <td>64.461 (2018–19)</td>\n",
       "      <td>1,380,000 (2022)</td>\n",
       "      <td>46,710.87</td>\n",
       "    </tr>\n",
       "    <tr>\n",
       "      <th>...</th>\n",
       "      <td>...</td>\n",
       "      <td>...</td>\n",
       "      <td>...</td>\n",
       "      <td>...</td>\n",
       "      <td>...</td>\n",
       "    </tr>\n",
       "    <tr>\n",
       "      <th>714</th>\n",
       "      <td>Padua–Treviso–Venice metropolitan area</td>\n",
       "      <td>Italy</td>\n",
       "      <td>34.837 (2020)</td>\n",
       "      <td>2,748,420 (2020)</td>\n",
       "      <td>12,676.37</td>\n",
       "    </tr>\n",
       "    <tr>\n",
       "      <th>715</th>\n",
       "      <td>Verona metropolitan area</td>\n",
       "      <td>Italy</td>\n",
       "      <td>34.152 (2020)</td>\n",
       "      <td>915,975 (2020)</td>\n",
       "      <td>37,282.68</td>\n",
       "    </tr>\n",
       "    <tr>\n",
       "      <th>716</th>\n",
       "      <td>Heidelberg</td>\n",
       "      <td>Germany</td>\n",
       "      <td>34.038 (2020)</td>\n",
       "      <td>1,544,830 (2020)</td>\n",
       "      <td>22,034.79</td>\n",
       "    </tr>\n",
       "    <tr>\n",
       "      <th>717</th>\n",
       "      <td>Murcia</td>\n",
       "      <td>Spain</td>\n",
       "      <td>33.923 (2020)</td>\n",
       "      <td>1,528,828 (2020)</td>\n",
       "      <td>22,186.93</td>\n",
       "    </tr>\n",
       "    <tr>\n",
       "      <th>718</th>\n",
       "      <td>Zürich</td>\n",
       "      <td>Switzerland</td>\n",
       "      <td>NaN</td>\n",
       "      <td>1,470,000 (2022)</td>\n",
       "      <td>74,193.88</td>\n",
       "    </tr>\n",
       "  </tbody>\n",
       "</table>\n",
       "<p>719 rows × 5 columns</p>\n",
       "</div>"
      ],
      "text/plain": [
       "                                       city               country  \\\n",
       "0              Abbotsford, British Columbia                Canada   \n",
       "1                                  Aberdeen        United Kingdom   \n",
       "2                                   Abidjan           Ivory Coast   \n",
       "3                                 Abu Dhabi  United Arab Emirates   \n",
       "4                                  Adelaide             Australia   \n",
       "..                                      ...                   ...   \n",
       "714  Padua–Treviso–Venice metropolitan area                 Italy   \n",
       "715                Verona metropolitan area                 Italy   \n",
       "716                              Heidelberg               Germany   \n",
       "717                                  Murcia                 Spain   \n",
       "718                                  Zürich           Switzerland   \n",
       "\n",
       "                  gdp               pop gdp_capita  \n",
       "0        6.141 (2019)    202,497 (2019)  30,321.44  \n",
       "1         23.0 (2020)    489,840 (2020)  46,957.94  \n",
       "2           27 (2017)  5,950,000 (2022)   4,537.82  \n",
       "3          119 (2015)  1,660,000 (2022)  71,686.75  \n",
       "4    64.461 (2018–19)  1,380,000 (2022)  46,710.87  \n",
       "..                ...               ...        ...  \n",
       "714     34.837 (2020)  2,748,420 (2020)  12,676.37  \n",
       "715     34.152 (2020)    915,975 (2020)  37,282.68  \n",
       "716     34.038 (2020)  1,544,830 (2020)  22,034.79  \n",
       "717     33.923 (2020)  1,528,828 (2020)  22,186.93  \n",
       "718               NaN  1,470,000 (2022)  74,193.88  \n",
       "\n",
       "[719 rows x 5 columns]"
      ]
     },
     "execution_count": 4,
     "metadata": {},
     "output_type": "execute_result"
    }
   ],
   "source": [
    "cities"
   ]
  },
  {
   "cell_type": "code",
   "execution_count": 5,
   "metadata": {},
   "outputs": [
    {
     "name": "stdout",
     "output_type": "stream",
     "text": [
      "Could not convert 300+,168 (2021), cleaned_str: 300+168\n",
      "Could not convert 300+,851 (2021), cleaned_str: 300+851\n",
      "Could not convert 300+,789 (2021), cleaned_str: 300+789\n"
     ]
    },
    {
     "data": {
      "text/html": [
       "<div>\n",
       "<style scoped>\n",
       "    .dataframe tbody tr th:only-of-type {\n",
       "        vertical-align: middle;\n",
       "    }\n",
       "\n",
       "    .dataframe tbody tr th {\n",
       "        vertical-align: top;\n",
       "    }\n",
       "\n",
       "    .dataframe thead th {\n",
       "        text-align: right;\n",
       "    }\n",
       "</style>\n",
       "<table border=\"1\" class=\"dataframe\">\n",
       "  <thead>\n",
       "    <tr style=\"text-align: right;\">\n",
       "      <th></th>\n",
       "      <th>city</th>\n",
       "      <th>country</th>\n",
       "      <th>gdp</th>\n",
       "      <th>pop</th>\n",
       "      <th>gdp_capita</th>\n",
       "    </tr>\n",
       "  </thead>\n",
       "  <tbody>\n",
       "    <tr>\n",
       "      <th>0</th>\n",
       "      <td>Abbotsford, British Columbia</td>\n",
       "      <td>Canada</td>\n",
       "      <td>6.141</td>\n",
       "      <td>202497.0</td>\n",
       "      <td>30321.44</td>\n",
       "    </tr>\n",
       "    <tr>\n",
       "      <th>1</th>\n",
       "      <td>Aberdeen</td>\n",
       "      <td>United Kingdom</td>\n",
       "      <td>23.000</td>\n",
       "      <td>489840.0</td>\n",
       "      <td>46957.94</td>\n",
       "    </tr>\n",
       "    <tr>\n",
       "      <th>2</th>\n",
       "      <td>Abidjan</td>\n",
       "      <td>Ivory Coast</td>\n",
       "      <td>27.000</td>\n",
       "      <td>5950000.0</td>\n",
       "      <td>4537.82</td>\n",
       "    </tr>\n",
       "    <tr>\n",
       "      <th>3</th>\n",
       "      <td>Abu Dhabi</td>\n",
       "      <td>United Arab Emirates</td>\n",
       "      <td>119.000</td>\n",
       "      <td>1660000.0</td>\n",
       "      <td>71686.75</td>\n",
       "    </tr>\n",
       "    <tr>\n",
       "      <th>4</th>\n",
       "      <td>Adelaide</td>\n",
       "      <td>Australia</td>\n",
       "      <td>64.461</td>\n",
       "      <td>1380000.0</td>\n",
       "      <td>46710.87</td>\n",
       "    </tr>\n",
       "    <tr>\n",
       "      <th>...</th>\n",
       "      <td>...</td>\n",
       "      <td>...</td>\n",
       "      <td>...</td>\n",
       "      <td>...</td>\n",
       "      <td>...</td>\n",
       "    </tr>\n",
       "    <tr>\n",
       "      <th>713</th>\n",
       "      <td>Ingolstadt</td>\n",
       "      <td>Germany</td>\n",
       "      <td>35.637</td>\n",
       "      <td>197560.0</td>\n",
       "      <td>180400.89</td>\n",
       "    </tr>\n",
       "    <tr>\n",
       "      <th>714</th>\n",
       "      <td>Padua–Treviso–Venice metropolitan area</td>\n",
       "      <td>Italy</td>\n",
       "      <td>34.837</td>\n",
       "      <td>2748420.0</td>\n",
       "      <td>12676.37</td>\n",
       "    </tr>\n",
       "    <tr>\n",
       "      <th>715</th>\n",
       "      <td>Verona metropolitan area</td>\n",
       "      <td>Italy</td>\n",
       "      <td>34.152</td>\n",
       "      <td>915975.0</td>\n",
       "      <td>37282.68</td>\n",
       "    </tr>\n",
       "    <tr>\n",
       "      <th>716</th>\n",
       "      <td>Heidelberg</td>\n",
       "      <td>Germany</td>\n",
       "      <td>34.038</td>\n",
       "      <td>1544830.0</td>\n",
       "      <td>22034.79</td>\n",
       "    </tr>\n",
       "    <tr>\n",
       "      <th>717</th>\n",
       "      <td>Murcia</td>\n",
       "      <td>Spain</td>\n",
       "      <td>33.923</td>\n",
       "      <td>1528828.0</td>\n",
       "      <td>22186.93</td>\n",
       "    </tr>\n",
       "  </tbody>\n",
       "</table>\n",
       "<p>682 rows × 5 columns</p>\n",
       "</div>"
      ],
      "text/plain": [
       "                                       city               country      gdp  \\\n",
       "0              Abbotsford, British Columbia                Canada    6.141   \n",
       "1                                  Aberdeen        United Kingdom   23.000   \n",
       "2                                   Abidjan           Ivory Coast   27.000   \n",
       "3                                 Abu Dhabi  United Arab Emirates  119.000   \n",
       "4                                  Adelaide             Australia   64.461   \n",
       "..                                      ...                   ...      ...   \n",
       "713                              Ingolstadt               Germany   35.637   \n",
       "714  Padua–Treviso–Venice metropolitan area                 Italy   34.837   \n",
       "715                Verona metropolitan area                 Italy   34.152   \n",
       "716                              Heidelberg               Germany   34.038   \n",
       "717                                  Murcia                 Spain   33.923   \n",
       "\n",
       "           pop  gdp_capita  \n",
       "0     202497.0    30321.44  \n",
       "1     489840.0    46957.94  \n",
       "2    5950000.0     4537.82  \n",
       "3    1660000.0    71686.75  \n",
       "4    1380000.0    46710.87  \n",
       "..         ...         ...  \n",
       "713   197560.0   180400.89  \n",
       "714  2748420.0    12676.37  \n",
       "715   915975.0    37282.68  \n",
       "716  1544830.0    22034.79  \n",
       "717  1528828.0    22186.93  \n",
       "\n",
       "[682 rows x 5 columns]"
      ]
     },
     "execution_count": 5,
     "metadata": {},
     "output_type": "execute_result"
    }
   ],
   "source": [
    "# Function to clean the data\n",
    "import numpy as np\n",
    "def clean_numeric_data(value):\n",
    "    if isinstance(value, str):\n",
    "        cleaned_str = value.split('(')[0].replace(',', '').replace(\" \", \"\")\n",
    "        try:\n",
    "            return float(cleaned_str)\n",
    "        except:\n",
    "            print(f\"Could not convert {value}, cleaned_str: {cleaned_str}\")\n",
    "            return np.nan\n",
    "    return value\n",
    "\n",
    "# Apply the function to the relevant columns\n",
    "for col in ['gdp', 'pop', 'gdp_capita']:\n",
    "    cities[col] = cities[col].apply(clean_numeric_data)\n",
    "\n",
    "# drop rows with NaN values\n",
    "cities = cities.dropna()\n",
    "\n",
    "# Show the cleaned DataFrame\n",
    "cities"
   ]
  },
  {
   "cell_type": "code",
   "execution_count": 6,
   "metadata": {},
   "outputs": [
    {
     "name": "stderr",
     "output_type": "stream",
     "text": [
      "/tmp/ipykernel_27811/4036247595.py:1: SettingWithCopyWarning: \n",
      "A value is trying to be set on a copy of a slice from a DataFrame.\n",
      "Try using .loc[row_indexer,col_indexer] = value instead\n",
      "\n",
      "See the caveats in the documentation: https://pandas.pydata.org/pandas-docs/stable/user_guide/indexing.html#returning-a-view-versus-a-copy\n",
      "  cities[\"name\"] = cities[\"city\"] + \", \" + cities[\"country\"]\n",
      "/tmp/ipykernel_27811/4036247595.py:2: SettingWithCopyWarning: \n",
      "A value is trying to be set on a copy of a slice from a DataFrame.\n",
      "Try using .loc[row_indexer,col_indexer] = value instead\n",
      "\n",
      "See the caveats in the documentation: https://pandas.pydata.org/pandas-docs/stable/user_guide/indexing.html#returning-a-view-versus-a-copy\n",
      "  cities[\"name_sentence\"] = cities[\"city\"] + \" is a city in \" + cities[\"country\"] + \".\"\n"
     ]
    }
   ],
   "source": [
    "cities[\"name\"] = cities[\"city\"] + \", \" + cities[\"country\"]\n",
    "cities[\"name_sentence\"] = cities[\"city\"] + \" is a city in \" + cities[\"country\"] + \".\""
   ]
  },
  {
   "cell_type": "code",
   "execution_count": 7,
   "metadata": {},
   "outputs": [
    {
     "data": {
      "text/html": [
       "<div>\n",
       "<style scoped>\n",
       "    .dataframe tbody tr th:only-of-type {\n",
       "        vertical-align: middle;\n",
       "    }\n",
       "\n",
       "    .dataframe tbody tr th {\n",
       "        vertical-align: top;\n",
       "    }\n",
       "\n",
       "    .dataframe thead th {\n",
       "        text-align: right;\n",
       "    }\n",
       "</style>\n",
       "<table border=\"1\" class=\"dataframe\">\n",
       "  <thead>\n",
       "    <tr style=\"text-align: right;\">\n",
       "      <th></th>\n",
       "      <th>city</th>\n",
       "      <th>country</th>\n",
       "      <th>gdp</th>\n",
       "      <th>pop</th>\n",
       "      <th>gdp_capita</th>\n",
       "      <th>name</th>\n",
       "      <th>name_sentence</th>\n",
       "    </tr>\n",
       "  </thead>\n",
       "  <tbody>\n",
       "    <tr>\n",
       "      <th>0</th>\n",
       "      <td>Abbotsford, British Columbia</td>\n",
       "      <td>Canada</td>\n",
       "      <td>6.141</td>\n",
       "      <td>202497.0</td>\n",
       "      <td>30321.44</td>\n",
       "      <td>Abbotsford, British Columbia, Canada</td>\n",
       "      <td>Abbotsford, British Columbia is a city in Canada.</td>\n",
       "    </tr>\n",
       "    <tr>\n",
       "      <th>1</th>\n",
       "      <td>Aberdeen</td>\n",
       "      <td>United Kingdom</td>\n",
       "      <td>23.000</td>\n",
       "      <td>489840.0</td>\n",
       "      <td>46957.94</td>\n",
       "      <td>Aberdeen, United Kingdom</td>\n",
       "      <td>Aberdeen is a city in United Kingdom.</td>\n",
       "    </tr>\n",
       "    <tr>\n",
       "      <th>2</th>\n",
       "      <td>Abidjan</td>\n",
       "      <td>Ivory Coast</td>\n",
       "      <td>27.000</td>\n",
       "      <td>5950000.0</td>\n",
       "      <td>4537.82</td>\n",
       "      <td>Abidjan, Ivory Coast</td>\n",
       "      <td>Abidjan is a city in Ivory Coast.</td>\n",
       "    </tr>\n",
       "    <tr>\n",
       "      <th>3</th>\n",
       "      <td>Abu Dhabi</td>\n",
       "      <td>United Arab Emirates</td>\n",
       "      <td>119.000</td>\n",
       "      <td>1660000.0</td>\n",
       "      <td>71686.75</td>\n",
       "      <td>Abu Dhabi, United Arab Emirates</td>\n",
       "      <td>Abu Dhabi is a city in United Arab Emirates.</td>\n",
       "    </tr>\n",
       "    <tr>\n",
       "      <th>4</th>\n",
       "      <td>Adelaide</td>\n",
       "      <td>Australia</td>\n",
       "      <td>64.461</td>\n",
       "      <td>1380000.0</td>\n",
       "      <td>46710.87</td>\n",
       "      <td>Adelaide, Australia</td>\n",
       "      <td>Adelaide is a city in Australia.</td>\n",
       "    </tr>\n",
       "    <tr>\n",
       "      <th>...</th>\n",
       "      <td>...</td>\n",
       "      <td>...</td>\n",
       "      <td>...</td>\n",
       "      <td>...</td>\n",
       "      <td>...</td>\n",
       "      <td>...</td>\n",
       "      <td>...</td>\n",
       "    </tr>\n",
       "    <tr>\n",
       "      <th>713</th>\n",
       "      <td>Ingolstadt</td>\n",
       "      <td>Germany</td>\n",
       "      <td>35.637</td>\n",
       "      <td>197560.0</td>\n",
       "      <td>180400.89</td>\n",
       "      <td>Ingolstadt, Germany</td>\n",
       "      <td>Ingolstadt is a city in Germany.</td>\n",
       "    </tr>\n",
       "    <tr>\n",
       "      <th>714</th>\n",
       "      <td>Padua–Treviso–Venice metropolitan area</td>\n",
       "      <td>Italy</td>\n",
       "      <td>34.837</td>\n",
       "      <td>2748420.0</td>\n",
       "      <td>12676.37</td>\n",
       "      <td>Padua–Treviso–Venice metropolitan area, Italy</td>\n",
       "      <td>Padua–Treviso–Venice metropolitan area is a ci...</td>\n",
       "    </tr>\n",
       "    <tr>\n",
       "      <th>715</th>\n",
       "      <td>Verona metropolitan area</td>\n",
       "      <td>Italy</td>\n",
       "      <td>34.152</td>\n",
       "      <td>915975.0</td>\n",
       "      <td>37282.68</td>\n",
       "      <td>Verona metropolitan area, Italy</td>\n",
       "      <td>Verona metropolitan area is a city in Italy.</td>\n",
       "    </tr>\n",
       "    <tr>\n",
       "      <th>716</th>\n",
       "      <td>Heidelberg</td>\n",
       "      <td>Germany</td>\n",
       "      <td>34.038</td>\n",
       "      <td>1544830.0</td>\n",
       "      <td>22034.79</td>\n",
       "      <td>Heidelberg, Germany</td>\n",
       "      <td>Heidelberg is a city in Germany.</td>\n",
       "    </tr>\n",
       "    <tr>\n",
       "      <th>717</th>\n",
       "      <td>Murcia</td>\n",
       "      <td>Spain</td>\n",
       "      <td>33.923</td>\n",
       "      <td>1528828.0</td>\n",
       "      <td>22186.93</td>\n",
       "      <td>Murcia, Spain</td>\n",
       "      <td>Murcia is a city in Spain.</td>\n",
       "    </tr>\n",
       "  </tbody>\n",
       "</table>\n",
       "<p>682 rows × 7 columns</p>\n",
       "</div>"
      ],
      "text/plain": [
       "                                       city               country      gdp  \\\n",
       "0              Abbotsford, British Columbia                Canada    6.141   \n",
       "1                                  Aberdeen        United Kingdom   23.000   \n",
       "2                                   Abidjan           Ivory Coast   27.000   \n",
       "3                                 Abu Dhabi  United Arab Emirates  119.000   \n",
       "4                                  Adelaide             Australia   64.461   \n",
       "..                                      ...                   ...      ...   \n",
       "713                              Ingolstadt               Germany   35.637   \n",
       "714  Padua–Treviso–Venice metropolitan area                 Italy   34.837   \n",
       "715                Verona metropolitan area                 Italy   34.152   \n",
       "716                              Heidelberg               Germany   34.038   \n",
       "717                                  Murcia                 Spain   33.923   \n",
       "\n",
       "           pop  gdp_capita                                           name  \\\n",
       "0     202497.0    30321.44           Abbotsford, British Columbia, Canada   \n",
       "1     489840.0    46957.94                       Aberdeen, United Kingdom   \n",
       "2    5950000.0     4537.82                           Abidjan, Ivory Coast   \n",
       "3    1660000.0    71686.75                Abu Dhabi, United Arab Emirates   \n",
       "4    1380000.0    46710.87                            Adelaide, Australia   \n",
       "..         ...         ...                                            ...   \n",
       "713   197560.0   180400.89                            Ingolstadt, Germany   \n",
       "714  2748420.0    12676.37  Padua–Treviso–Venice metropolitan area, Italy   \n",
       "715   915975.0    37282.68                Verona metropolitan area, Italy   \n",
       "716  1544830.0    22034.79                            Heidelberg, Germany   \n",
       "717  1528828.0    22186.93                                  Murcia, Spain   \n",
       "\n",
       "                                         name_sentence  \n",
       "0    Abbotsford, British Columbia is a city in Canada.  \n",
       "1                Aberdeen is a city in United Kingdom.  \n",
       "2                    Abidjan is a city in Ivory Coast.  \n",
       "3         Abu Dhabi is a city in United Arab Emirates.  \n",
       "4                     Adelaide is a city in Australia.  \n",
       "..                                                 ...  \n",
       "713                   Ingolstadt is a city in Germany.  \n",
       "714  Padua–Treviso–Venice metropolitan area is a ci...  \n",
       "715       Verona metropolitan area is a city in Italy.  \n",
       "716                   Heidelberg is a city in Germany.  \n",
       "717                         Murcia is a city in Spain.  \n",
       "\n",
       "[682 rows x 7 columns]"
      ]
     },
     "execution_count": 7,
     "metadata": {},
     "output_type": "execute_result"
    }
   ],
   "source": [
    "cities"
   ]
  },
  {
   "cell_type": "code",
   "execution_count": 115,
   "metadata": {},
   "outputs": [
    {
     "ename": "SyntaxError",
     "evalue": "invalid syntax (1763543092.py, line 1)",
     "output_type": "error",
     "traceback": [
      "\u001b[0;36m  Cell \u001b[0;32mIn[115], line 1\u001b[0;36m\u001b[0m\n\u001b[0;31m    from\u001b[0m\n\u001b[0m        ^\u001b[0m\n\u001b[0;31mSyntaxError\u001b[0m\u001b[0;31m:\u001b[0m invalid syntax\n"
     ]
    }
   ],
   "source": [
    "from"
   ]
  },
  {
   "cell_type": "code",
   "execution_count": 8,
   "metadata": {},
   "outputs": [],
   "source": [
    "from src.data_loading import load_data\n",
    "from skrub import MinHashEncoder\n",
    "from sklearn.decomposition import PCA\n",
    "from src.utils import FeaturesExtractor, FixedSizeSplit\n",
    "from sklearn.pipeline import Pipeline\n",
    "from sklearn.linear_model import LogisticRegression\n",
    "from sklearn.model_selection import cross_val_score\n",
    "from sklearn.metrics import accuracy_score\n",
    "from sklearn.ensemble import GradientBoostingClassifier\n",
    "from tabpfn import TabPFNClassifier\n",
    "import pandas as pd\n",
    "import numpy as np\n",
    "from tqdm import tqdm\n",
    "from joblib import Parallel, delayed\n",
    "import time\n",
    "from sentence_transformers import SentenceTransformer\n",
    "\n",
    "from sklearn.base import BaseEstimator, TransformerMixin\n"
   ]
  },
  {
   "cell_type": "code",
   "execution_count": 156,
   "metadata": {},
   "outputs": [],
   "source": [
    "import pandas as pd\n",
    "import numpy as np\n",
    "df = pd.read_csv(\"../data/name.basics.tsv\", sep=\"\\t\")\n",
    "#replace \\N with NaN\n",
    "df = df.replace(\"\\\\N\", np.nan)\n",
    "df.dropna(inplace=True)"
   ]
  },
  {
   "cell_type": "code",
   "execution_count": 157,
   "metadata": {},
   "outputs": [
    {
     "data": {
      "text/html": [
       "<div>\n",
       "<style scoped>\n",
       "    .dataframe tbody tr th:only-of-type {\n",
       "        vertical-align: middle;\n",
       "    }\n",
       "\n",
       "    .dataframe tbody tr th {\n",
       "        vertical-align: top;\n",
       "    }\n",
       "\n",
       "    .dataframe thead th {\n",
       "        text-align: right;\n",
       "    }\n",
       "</style>\n",
       "<table border=\"1\" class=\"dataframe\">\n",
       "  <thead>\n",
       "    <tr style=\"text-align: right;\">\n",
       "      <th></th>\n",
       "      <th>nconst</th>\n",
       "      <th>primaryName</th>\n",
       "      <th>birthYear</th>\n",
       "      <th>deathYear</th>\n",
       "      <th>primaryProfession</th>\n",
       "      <th>knownForTitles</th>\n",
       "    </tr>\n",
       "  </thead>\n",
       "  <tbody>\n",
       "    <tr>\n",
       "      <th>0</th>\n",
       "      <td>nm0000001</td>\n",
       "      <td>Fred Astaire</td>\n",
       "      <td>1899</td>\n",
       "      <td>1987</td>\n",
       "      <td>soundtrack,actor,miscellaneous</td>\n",
       "      <td>tt0031983,tt0050419,tt0053137,tt0072308</td>\n",
       "    </tr>\n",
       "    <tr>\n",
       "      <th>1</th>\n",
       "      <td>nm0000002</td>\n",
       "      <td>Lauren Bacall</td>\n",
       "      <td>1924</td>\n",
       "      <td>2014</td>\n",
       "      <td>actress,soundtrack</td>\n",
       "      <td>tt0038355,tt0117057,tt0075213,tt0037382</td>\n",
       "    </tr>\n",
       "    <tr>\n",
       "      <th>3</th>\n",
       "      <td>nm0000004</td>\n",
       "      <td>John Belushi</td>\n",
       "      <td>1949</td>\n",
       "      <td>1982</td>\n",
       "      <td>actor,soundtrack,writer</td>\n",
       "      <td>tt0080455,tt0072562,tt0077975,tt0078723</td>\n",
       "    </tr>\n",
       "    <tr>\n",
       "      <th>4</th>\n",
       "      <td>nm0000005</td>\n",
       "      <td>Ingmar Bergman</td>\n",
       "      <td>1918</td>\n",
       "      <td>2007</td>\n",
       "      <td>writer,director,actor</td>\n",
       "      <td>tt0083922,tt0069467,tt0050986,tt0050976</td>\n",
       "    </tr>\n",
       "    <tr>\n",
       "      <th>5</th>\n",
       "      <td>nm0000006</td>\n",
       "      <td>Ingrid Bergman</td>\n",
       "      <td>1915</td>\n",
       "      <td>1982</td>\n",
       "      <td>actress,soundtrack,producer</td>\n",
       "      <td>tt0036855,tt0034583,tt0038109,tt0038787</td>\n",
       "    </tr>\n",
       "    <tr>\n",
       "      <th>...</th>\n",
       "      <td>...</td>\n",
       "      <td>...</td>\n",
       "      <td>...</td>\n",
       "      <td>...</td>\n",
       "      <td>...</td>\n",
       "      <td>...</td>\n",
       "    </tr>\n",
       "    <tr>\n",
       "      <th>12888718</th>\n",
       "      <td>nm9990009</td>\n",
       "      <td>Francisco Braga</td>\n",
       "      <td>1868</td>\n",
       "      <td>1945</td>\n",
       "      <td>composer</td>\n",
       "      <td>tt8735938</td>\n",
       "    </tr>\n",
       "    <tr>\n",
       "      <th>12889433</th>\n",
       "      <td>nm9990804</td>\n",
       "      <td>Gilbert Lascault</td>\n",
       "      <td>1934</td>\n",
       "      <td>2022</td>\n",
       "      <td>writer</td>\n",
       "      <td>tt12423242,tt2314629,tt2073912,tt12276534</td>\n",
       "    </tr>\n",
       "    <tr>\n",
       "      <th>12890084</th>\n",
       "      <td>nm9991745</td>\n",
       "      <td>Dorothy Dorow</td>\n",
       "      <td>1931</td>\n",
       "      <td>2018</td>\n",
       "      <td>music_department</td>\n",
       "      <td>tt0179586,tt2265239,tt26921560,tt10250040</td>\n",
       "    </tr>\n",
       "    <tr>\n",
       "      <th>12891428</th>\n",
       "      <td>nm9993435</td>\n",
       "      <td>William Riva</td>\n",
       "      <td>1919</td>\n",
       "      <td>1999</td>\n",
       "      <td>set_decorator</td>\n",
       "      <td>tt0300836,tt0189339</td>\n",
       "    </tr>\n",
       "    <tr>\n",
       "      <th>12891429</th>\n",
       "      <td>nm9993436</td>\n",
       "      <td>Frank J. Gaily</td>\n",
       "      <td>1915</td>\n",
       "      <td>2008</td>\n",
       "      <td>sound_department</td>\n",
       "      <td>tt0189339</td>\n",
       "    </tr>\n",
       "  </tbody>\n",
       "</table>\n",
       "<p>178793 rows × 6 columns</p>\n",
       "</div>"
      ],
      "text/plain": [
       "             nconst       primaryName birthYear deathYear  \\\n",
       "0         nm0000001      Fred Astaire      1899      1987   \n",
       "1         nm0000002     Lauren Bacall      1924      2014   \n",
       "3         nm0000004      John Belushi      1949      1982   \n",
       "4         nm0000005    Ingmar Bergman      1918      2007   \n",
       "5         nm0000006    Ingrid Bergman      1915      1982   \n",
       "...             ...               ...       ...       ...   \n",
       "12888718  nm9990009   Francisco Braga      1868      1945   \n",
       "12889433  nm9990804  Gilbert Lascault      1934      2022   \n",
       "12890084  nm9991745     Dorothy Dorow      1931      2018   \n",
       "12891428  nm9993435      William Riva      1919      1999   \n",
       "12891429  nm9993436    Frank J. Gaily      1915      2008   \n",
       "\n",
       "                       primaryProfession  \\\n",
       "0         soundtrack,actor,miscellaneous   \n",
       "1                     actress,soundtrack   \n",
       "3                actor,soundtrack,writer   \n",
       "4                  writer,director,actor   \n",
       "5            actress,soundtrack,producer   \n",
       "...                                  ...   \n",
       "12888718                        composer   \n",
       "12889433                          writer   \n",
       "12890084                music_department   \n",
       "12891428                   set_decorator   \n",
       "12891429                sound_department   \n",
       "\n",
       "                                     knownForTitles  \n",
       "0           tt0031983,tt0050419,tt0053137,tt0072308  \n",
       "1           tt0038355,tt0117057,tt0075213,tt0037382  \n",
       "3           tt0080455,tt0072562,tt0077975,tt0078723  \n",
       "4           tt0083922,tt0069467,tt0050986,tt0050976  \n",
       "5           tt0036855,tt0034583,tt0038109,tt0038787  \n",
       "...                                             ...  \n",
       "12888718                                  tt8735938  \n",
       "12889433  tt12423242,tt2314629,tt2073912,tt12276534  \n",
       "12890084  tt0179586,tt2265239,tt26921560,tt10250040  \n",
       "12891428                        tt0300836,tt0189339  \n",
       "12891429                                  tt0189339  \n",
       "\n",
       "[178793 rows x 6 columns]"
      ]
     },
     "execution_count": 157,
     "metadata": {},
     "output_type": "execute_result"
    }
   ],
   "source": [
    "df"
   ]
  },
  {
   "cell_type": "markdown",
   "metadata": {},
   "source": [
    "# How much different lm embeddings can predict the population?"
   ]
  },
  {
   "cell_type": "code",
   "execution_count": 9,
   "metadata": {},
   "outputs": [],
   "source": [
    "from src.utils import run_on_encoded_data\n",
    "from src.encodings import encode\n",
    "# disable tokenizer parallelism\n",
    "import os\n",
    "os.environ[\"TOKENIZERS_PARALLELISM\"] = \"false\""
   ]
  },
  {
   "cell_type": "code",
   "execution_count": null,
   "metadata": {},
   "outputs": [],
   "source": []
  },
  {
   "cell_type": "code",
   "execution_count": 123,
   "metadata": {},
   "outputs": [
    {
     "data": {
      "text/plain": [
       "(array(['Aarhus, Denmark', 'Abbotsford, British Columbia, Canada',\n",
       "        'Aberdeen, United Kingdom', 'Abidjan, Ivory Coast',\n",
       "        'Abilene, TX MSA, United States',\n",
       "        'Abu Dhabi, United Arab Emirates', 'Adelaide, Australia',\n",
       "        'Ahmedabad, India', 'Aix-Marseille-Provence Metropolis, France',\n",
       "        'Akron, OH MSA, United States', 'Albany, GA MSA, United States',\n",
       "        'Albany-Lebanon, OR MSA, United States',\n",
       "        'Albany-Schenectady-Troy, NY MSA, United States',\n",
       "        'Albuquerque, NM MSA, United States',\n",
       "        'Alexandria, LA MSA, United States',\n",
       "        'Alicante metropolitan area, Spain',\n",
       "        'Allentown-Bethlehem-Easton, PA-NJ MSA, United States',\n",
       "        'Almaty, Kazakhstan', 'Altoona, PA MSA, United States',\n",
       "        'Amarillo, TX MSA, United States', 'Ames, IA MSA, United States',\n",
       "        'Amsterdam metropolitan area, Netherlands',\n",
       "        'Anchorage, AK MSA, United States', 'Ankara, Turkey',\n",
       "        'Ann Arbor, MI MSA, United States',\n",
       "        'Anniston-Oxford, AL MSA, United States',\n",
       "        'Antwerp metropolitan area, Belgium', 'Anápolis, Brazil',\n",
       "        'Appleton, Wisconsin metropolitan area, United States',\n",
       "        'Asheville, NC MSA, United States',\n",
       "        'Athens Metropolitan Area, Greece',\n",
       "        'Athens-Clarke County, GA MSA, United States',\n",
       "        'Atlanta-Sandy Springs-Alpharetta, GA MSA, United States',\n",
       "        'Atlantic City-Hammonton, NJ MSA, United States',\n",
       "        'Auburn-Opelika, AL MSA, United States', 'Auckland, New Zealand',\n",
       "        'Augusta-Richmond County, GA-SC MSA, United States',\n",
       "        'Austin-Round Rock-Georgetown, TX MSA, United States',\n",
       "        'Bakersfield, CA MSA, United States', 'Ballarat, Australia',\n",
       "        'Baltimore-Columbia-Towson, MD MSA, United States',\n",
       "        'Bandung, Indonesia', 'Bangkok, Thailand',\n",
       "        'Bangor, ME MSA, United States', 'Baotou, China',\n",
       "        'Barcelona metropolitan area, Spain',\n",
       "        'Barnstable Town, MA MSA, United States', 'Barrie, Canada',\n",
       "        'Batam, Indonesia', 'Baton Rouge, LA MSA, United States',\n",
       "        'Battle Creek, MI MSA, United States',\n",
       "        'Bay City, MI MSA, United States',\n",
       "        'Beaumont-Port Arthur, TX MSA, United States',\n",
       "        'Beckley, WV MSA, United States', 'Beijing, China',\n",
       "        'Belfast, United Kingdom', 'Belgrade, Serbia',\n",
       "        'Belleville, Ontario, Canada', 'Bellingham, WA MSA, United States',\n",
       "        'Belo Horizonte, Brazil', 'Bend, OR MSA, United States',\n",
       "        'Bendigo, Australia', 'Bengaluru, India',\n",
       "        'Bergamo metropolitan area, Italy',\n",
       "        'Berlin Metropolitan Region, Germany', 'Bhopal, India',\n",
       "        'Bilbao metropolitan area, Spain',\n",
       "        'Billings, MT MSA, United States',\n",
       "        'Binghamton, NY MSA, United States', 'Birmingham, United Kingdom',\n",
       "        'Birmingham-Hoover, AL MSA, United States',\n",
       "        'Bismarck, ND MSA, United States',\n",
       "        'Blacksburg-Christiansburg, VA MSA, United States',\n",
       "        'Bloomington, IL MSA, United States',\n",
       "        'Bloomington, IN MSA, United States',\n",
       "        'Bloomsburg-Berwick, PA MSA, United States',\n",
       "        'Boise, ID MSA, United States', 'Bologna metropolitan area, Italy',\n",
       "        'Bordeaux, France',\n",
       "        'Boston-Cambridge-Newton, MA-NH MSA, United States',\n",
       "        'Boulder, CO MSA, United States',\n",
       "        'Bowling Green, KY MSA, United States', 'Brantford, Canada',\n",
       "        'Brasília, Brazil', 'Bremen, Germany',\n",
       "        'Bremerton-Silverdale-Port Orchard, WA MSA, United States',\n",
       "        'Brescia metropolitan area, Italy',\n",
       "        'Bridgeport-Stamford-Norwalk, CT MSA, United States',\n",
       "        'Brisbane, Australia', 'Bristol, United Kingdom',\n",
       "        'Brownsville-Harlingen, TX MSA, United States',\n",
       "        'Brunswick, GA MSA, United States',\n",
       "        'Brussels Capital Region, Belgium',\n",
       "        'Bucharest Metropolitan Area, Romania',\n",
       "        'Budapest metropolitan area, Hungary', 'Buenos Aires, Argentina',\n",
       "        'Buffalo-Niagara Falls, NY MSA, United States',\n",
       "        'Burlington, NC MSA, United States',\n",
       "        'Burlington-South Burlington, VT MSA, United States',\n",
       "        'Busan-Gyeongnam Area, South Korea', 'Cairns, Australia',\n",
       "        'Calgary, Canada',\n",
       "        'California-Lexington Park, MD MSA, United States',\n",
       "        'Campinas, Brazil', 'Campo Grande, Brazil',\n",
       "        'Campos dos Goytacazes, Brazil', 'Canberra, Australia',\n",
       "        'Canton-Massillon, OH MSA, United States',\n",
       "        'Cape Coral-Fort Myers, FL MSA, United States',\n",
       "        'Cape Girardeau, MO-IL MSA, United States', 'Caracas, Venezuela',\n",
       "        'Carbondale-Marion, IL MSA, United States',\n",
       "        'Cardiff-Newport, United Kingdom',\n",
       "        'Carson City, NV MSA, United States',\n",
       "        'Casper, WY MSA, United States',\n",
       "        'Cedar Rapids, IA MSA, United States',\n",
       "        'Chambersburg-Waynesboro, PA MSA, United States',\n",
       "        'Champaign-Urbana, IL MSA, United States', 'Chandigarh, India',\n",
       "        'Changchun, China', 'Changsha, China', 'Changzhou, China',\n",
       "        'Charleston, WV MSA, United States',\n",
       "        'Charleston-North Charleston, SC MSA, United States',\n",
       "        'Charlotte-Concord-Gastonia, NC-SC MSA, United States',\n",
       "        'Charlottesville, VA MSA, United States',\n",
       "        'Chattanooga, TN-GA MSA, United States', 'Chengdu, China',\n",
       "        'Chennai, India', 'Cheyenne, WY MSA, United States',\n",
       "        'Chicago-Naperville-Elgin, IL-IN-WI MSA, United States',\n",
       "        'Chico, CA MSA, United States', 'Chittagong, Bangladesh',\n",
       "        'Chongqing, China', 'Cincinnati, OH-KY-IN MSA, United States',\n",
       "        'Clarksville, TN-KY MSA, United States',\n",
       "        'Cleveland, TN MSA, United States',\n",
       "        'Cleveland-Elyria, OH MSA, United States',\n",
       "        'Cocos (Keeling) Islands, Cocos (Keeling) Islands',\n",
       "        'Coimbatore, India',\n",
       "        'College Station-Bryan, TX MSA, United States',\n",
       "        'Cologne Bonn Region, Germany',\n",
       "        'Colorado Springs, CO MSA, United States',\n",
       "        'Columbia, MO MSA, United States',\n",
       "        'Columbia, SC MSA, United States',\n",
       "        'Columbus, GA-AL MSA, United States',\n",
       "        'Columbus, IN MSA, United States',\n",
       "        'Columbus, OH MSA, United States',\n",
       "        'Corpus Christi, TX MSA, United States',\n",
       "        'Corvallis, OR MSA, United States', 'Coventry, United Kingdom',\n",
       "        'Crestview-Fort Walton Beach-Destin, FL MSA, United States',\n",
       "        'Cumberland, MD-WV MSA, United States', 'Curitiba, Brazil',\n",
       "        'Dalian, China',\n",
       "        'Dallas-Fort Worth-Arlington, TX MSA, United States',\n",
       "        'Dalton, GA MSA, United States', 'Danville, IL MSA, United States',\n",
       "        'Daphne-Fairhope-Foley, AL MSA, United States', 'Daqing, China',\n",
       "        'Dar es Salaam, Tanzania',\n",
       "        'Davenport-Moline-Rock Island, IA-IL MSA, United States',\n",
       "        'Dayton, OH MSA, United States', 'Decatur, AL MSA, United States',\n",
       "        'Decatur, IL MSA, United States',\n",
       "        'Deltona-Daytona Beach-Ormond Beach, FL MSA, United States',\n",
       "        'Denver-Aurora-Lakewood, CO MSA, United States',\n",
       "        'Des Moines-West Des Moines, IA MSA, United States',\n",
       "        'Detroit-Warren-Dearborn, MI Metropolitan Statistical Area, United States',\n",
       "        'Dhaka, Bangladesh', 'Dongguan, China', 'Dongying, China',\n",
       "        'Dothan, AL MSA, United States', 'Dover, DE MSA, United States',\n",
       "        'Dresden, Germany', 'Dubai, United Arab Emirates',\n",
       "        'Dubuque, IA MSA, United States',\n",
       "        'Duluth, MN-WI MSA, United States',\n",
       "        'Durham-Chapel Hill, NC MSA, United States', 'Düsseldorf, Germany',\n",
       "        'East Stroudsburg, PA MSA, United States',\n",
       "        'Eau Claire, WI MSA, United States', 'Edinburgh, United Kingdom',\n",
       "        'Edmonton, Canada', 'Eindhoven, Netherlands',\n",
       "        'El Paso, TX MSA, United States',\n",
       "        'Elizabethtown-Fort Knox, KY MSA, United States',\n",
       "        'Elkhart-Goshen, IN MSA, United States',\n",
       "        'Elmira, NY MSA, United States', 'Enid, OK MSA, United States',\n",
       "        'Erie, PA MSA, United States',\n",
       "        'Eugene-Springfield, OR MSA, United States',\n",
       "        'European Metropolis of Lille, France',\n",
       "        'Evansville, IN-KY MSA, United States',\n",
       "        'Fairbanks, AK MSA, United States', 'Faisalabad, Pakistan',\n",
       "        'Fargo, ND-MN MSA, United States',\n",
       "        'Farmington, NM MSA, United States',\n",
       "        'Fayetteville, NC MSA, United States',\n",
       "        'Fayetteville-Springdale-Rogers, AR MSA, United States',\n",
       "        'Flagstaff, AZ MSA, United States', 'Flint, MI MSA, United States',\n",
       "        'Florence, SC MSA, United States',\n",
       "        'Florence-Muscle Shoals, AL MSA, United States',\n",
       "        'Fond du Lac, WI MSA, United States',\n",
       "        'Fort Collins, CO MSA, United States',\n",
       "        'Fort Smith, AR-OK MSA, United States',\n",
       "        'Fort Wayne, IN MSA, United States', 'Fortaleza, Brazil',\n",
       "        'Foshan, China', 'Frankfurt/Rhine-Main, Germany',\n",
       "        'Fresno, CA MSA, United States', 'Fukuoka–Kitakyushu, Japan',\n",
       "        'Fuzhou, China', 'Gadsden, AL MSA, United States',\n",
       "        'Gainesville, FL MSA, United States',\n",
       "        'Gainesville, GA MSA, United States', 'Geelong, Australia',\n",
       "        'Gettysburg, PA MSA, United States',\n",
       "        'Ghent metropolitan area, Belgium', 'Gibraltar, Gibraltar',\n",
       "        'Gladstone, Australia', 'Glasgow, United Kingdom',\n",
       "        'Glens Falls, NY MSA, United States', 'Goiânia, Brazil',\n",
       "        'Gold Coast, Australia', 'Goldsboro, NC MSA, United States',\n",
       "        'Gothenburg, Sweden', 'Grand Forks, ND-MN MSA, United States',\n",
       "        'Grand Island, NE MSA, United States',\n",
       "        'Grand Junction, CO MSA, United States',\n",
       "        'Grand Rapids-Kentwood, MI MSA, United States',\n",
       "        'Grants Pass, OR MSA, United States',\n",
       "        'Great Falls, MT MSA, United States',\n",
       "        'Greater Copenhagen, Denmark', 'Greater Dublin Area, Ireland',\n",
       "        'Greater Helsinki, Finland', 'Greater Sudbury, Canada',\n",
       "        'Greeley, CO MSA, United States',\n",
       "        'Green Bay, WI MSA, United States',\n",
       "        'Greensboro-High Point, NC MSA, United States',\n",
       "        'Greenville, NC MSA, United States',\n",
       "        'Greenville-Anderson, SC MSA, United States',\n",
       "        'Grenoble metropolitan area, France', 'Guangzhou, China',\n",
       "        'Guelph, Canada', 'Gujranwala, Pakistan',\n",
       "        'Gulfport-Biloxi, MS MSA, United States',\n",
       "        'Hagerstown-Martinsburg, MD-WV MSA, United States',\n",
       "        'Halifax, Nova Scotia, Canada', 'Hamamatsu, Japan',\n",
       "        'Hamburg Metropolitan Region, Germany',\n",
       "        'Hamilton, Ontario, Canada', 'Hammond, LA MSA, United States',\n",
       "        'Hanford-Corcoran, CA MSA, United States', 'Hangzhou, China',\n",
       "        'Hannover, Germany', 'Hanoi, Vietnam', 'Harbin, China',\n",
       "        'Harrisburg-Carlisle, PA MSA, United States',\n",
       "        'Harrisonburg, VA MSA, United States',\n",
       "        'Hartford-East Hartford-Middletown, CT MSA, United States',\n",
       "        'Hattiesburg, MS MSA, United States', 'Hefei, China',\n",
       "        'Heidelberg, Germany',\n",
       "        'Hickory-Lenoir-Morganton, NC MSA, United States',\n",
       "        'Hilton Head Island-Bluffton, SC MSA, United States',\n",
       "        'Hinesville, GA MSA, United States', 'Hiroshima, Japan',\n",
       "        'Ho Chi Minh City, Vietnam', 'Hobart, Australia',\n",
       "        'Homosassa Springs, FL MSA, United States', 'Hong Kong, Hong Kong',\n",
       "        'Hot Springs, AR MSA, United States',\n",
       "        'Houma-Thibodaux, LA MSA, United States',\n",
       "        'Houston-The Woodlands-Sugar Land, TX MSA, United States',\n",
       "        'Huhehaote, China',\n",
       "        'Huntington-Ashland, WV-KY-OH MSA, United States',\n",
       "        'Huntsville, AL MSA, United States', 'Hyderabad, India',\n",
       "        'Idaho Falls, ID MSA, United States',\n",
       "        'Indianapolis-Carmel-Anderson, IN MSA, United States',\n",
       "        'Indore, India', 'Ingolstadt, Germany',\n",
       "        'Iowa City, IA MSA, United States', 'Istanbul, Turkey',\n",
       "        'Ithaca, NY MSA, United States', 'Jackson, MI MSA, United States',\n",
       "        'Jackson, MS MSA, United States', 'Jackson, TN MSA, United States',\n",
       "        'Jacksonville, FL MSA, United States',\n",
       "        'Jacksonville, NC MSA, United States', 'Jaipur, India',\n",
       "        'Jakarta, Indonesia', 'Janesville-Beloit, WI MSA, United States',\n",
       "        'Jefferson City, MO MSA, United States', 'Jerusalem, Israel',\n",
       "        'Jinan, China', 'Johannesburg, South Africa',\n",
       "        'Johnson City, TN MSA, United States',\n",
       "        'Johnstown, PA MSA, United States',\n",
       "        'Jonesboro, AR MSA, United States',\n",
       "        'Joplin, MO MSA, United States', 'Jundiaí, Brazil',\n",
       "        'Kabul, Afghanistan',\n",
       "        'Kahului-Wailuku-Lahaina, HI MSA, United States',\n",
       "        'Kalamazoo-Portage, MI MSA, United States',\n",
       "        'Kankakee, IL MSA, United States',\n",
       "        'Kansas City, MO-KS MSA, United States', 'Karachi, Pakistan',\n",
       "        'Karlsruhe, Germany', 'Katowice metropolitan area, Poland',\n",
       "        'Kelowna, Canada', 'Kennewick-Richland, WA MSA, United States',\n",
       "        'Killeen-Temple, TX MSA, United States',\n",
       "        'Kingsport-Bristol, TN-VA MSA, United States',\n",
       "        'Kingston, NY MSA, United States', 'Kingston, Ontario, Canada',\n",
       "        'Kitchener, Ontario, Canada', 'Knoxville, TN MSA, United States',\n",
       "        'Kokomo, IN MSA, United States', 'Kuala Lumpur, Malaysia',\n",
       "        'Kumamoto, Japan', 'Kunming, China', 'Kyiv, Ukraine',\n",
       "        'La Crosse-Onalaska, WI-MN MSA, United States',\n",
       "        'Lafayette, LA MSA, United States',\n",
       "        'Lafayette-West Lafayette, IN MSA, United States',\n",
       "        'Lagos, Nigeria', 'Lahore, Pakistan',\n",
       "        'Lake Charles, LA MSA, United States',\n",
       "        'Lake Havasu City-Kingman, AZ MSA, United States',\n",
       "        'Lakeland-Winter Haven, FL MSA, United States',\n",
       "        'Lancaster, PA MSA, United States',\n",
       "        'Lansing-East Lansing, MI MSA, United States',\n",
       "        'Laredo, TX MSA, United States',\n",
       "        'Las Cruces, NM MSA, United States',\n",
       "        'Las Vegas-Henderson-Paradise, NV MSA, United States',\n",
       "        'Launceston, Australia', 'Lawrence, KS MSA, United States',\n",
       "        'Lawton, OK MSA, United States', 'Lebanon, PA MSA, United States',\n",
       "        'Leeds, United Kingdom', 'Leipzig, Germany', 'Lethbridge, Canada',\n",
       "        'Lewiston, ID-WA MSA, United States',\n",
       "        'Lewiston-Auburn, ME MSA, United States',\n",
       "        'Lexington-Fayette, KY MSA, United States',\n",
       "        'Lima, OH MSA, United States', 'Lincoln, NE MSA, United States',\n",
       "        'Linz, Austria', 'Lisbon metropolitan area, Portugal',\n",
       "        'Little Rock-North Little Rock-Conway, AR MSA, United States',\n",
       "        'Liverpool, United Kingdom', 'Logan, UT-ID MSA, United States',\n",
       "        'London, Ontario, Canada', 'London, United Kingdom',\n",
       "        'Longview, TX MSA, United States',\n",
       "        'Longview, WA MSA, United States',\n",
       "        'Los Angeles-Long Beach-Anaheim, CA MSA, United States',\n",
       "        'Louisville/Jefferson County, KY-IN MSA, United States',\n",
       "        'Lubbock, TX MSA, United States', 'Lucknow, India',\n",
       "        'Luxembourg metropolitan area, Luxembourg',\n",
       "        'Lynchburg, VA MSA, United States', 'Lyon, France', 'Macau, Macau',\n",
       "        'Mackay, Australia', 'Macon-Bibb County, GA MSA, United States',\n",
       "        'Madera, CA MSA, United States', 'Madison, WI MSA, United States',\n",
       "        'Madrid Metropolitan Area, Spain', 'Malmö, Sweden',\n",
       "        'Manaus, Brazil', 'Manchester, United Kingdom',\n",
       "        'Manchester-Nashua, NH MSA, United States',\n",
       "        'Manhattan, KS MSA, United States', 'Manila, Philippines',\n",
       "        'Mankato, MN MSA, United States',\n",
       "        'Mansfield, OH MSA, United States',\n",
       "        'McAllen-Edinburg-Mission, TX MSA, United States',\n",
       "        'Medan, Indonesia', 'Medford, OR MSA, United States',\n",
       "        'Melbourne, Australia', 'Memphis, TN-MS-AR MSA, United States',\n",
       "        'Merced, CA MSA, United States',\n",
       "        'Metropolitan City of Florence, Italy',\n",
       "        'Metropolitan Cork, Ireland', 'Mexico City, Mexico',\n",
       "        'Miami-Fort Lauderdale-Pompano Beach, FL MSA, United States',\n",
       "        'Michigan City-La Porte, IN MSA, United States',\n",
       "        'Midland, MI MSA, United States', 'Midland, TX MSA, United States',\n",
       "        'Milan metropolitan area, Italy',\n",
       "        'Milwaukee-Waukesha, WI MSA, United States',\n",
       "        'Minneapolis-St. Paul-Bloomington, MN-WI MSA, United States',\n",
       "        'Minsk, Belarus', 'Missoula, MT MSA, United States',\n",
       "        'Mobile, AL MSA, United States', 'Modesto, CA MSA, United States',\n",
       "        'Monaco, Monaco', 'Moncton, Canada',\n",
       "        'Monroe, LA MSA, United States', 'Monroe, MI MSA, United States',\n",
       "        'Monterrey, Mexico', 'Montevideo, Uruguay',\n",
       "        'Montgomery, AL MSA, United States',\n",
       "        'Montpellier Méditerranée Métropole, France', 'Montreal, Canada',\n",
       "        'Morgantown, WV MSA, United States',\n",
       "        'Morristown, TN MSA, United States', 'Moscow, Russia',\n",
       "        'Mount Vernon-Anacortes, WA MSA, United States', 'Mumbai, India',\n",
       "        'Muncie, IN MSA, United States',\n",
       "        'Munich Metropolitan Region, Germany', 'Murcia, Spain',\n",
       "        'Muskegon, MI MSA, United States',\n",
       "        'Myrtle Beach-Conway-North Myrtle Beach, SC-NC MSA, United States',\n",
       "        \"Métropole Nice Côte d'Azur, France\",\n",
       "        'Métropole Rouen Normandie, France', 'Nagoya, Japan',\n",
       "        'Nagpur, India', 'Nairobi, Kenya', 'Nanchang, China',\n",
       "        'Nanjing, China', 'Nanning, China', 'Nantes, France',\n",
       "        'Nantong, China', 'Napa, CA MSA, United States',\n",
       "        'Naples metropolitan area, Italy',\n",
       "        'Naples-Marco Island, FL MSA, United States',\n",
       "        'Nashville-Davidson–Murfreesboro–Franklin, TN MSA, United States',\n",
       "        'National Capital Region (India), India',\n",
       "        'New Bern, NC MSA, United States',\n",
       "        'New Haven-Milford, CT MSA, United States',\n",
       "        'New Orleans-Metairie, LA MSA, United States',\n",
       "        'New York-Newark-Jersey City, NY-NJ-PA Metropolitan Statistical Area, United States',\n",
       "        'Newcastle, Australia', 'Niigata, Japan',\n",
       "        'Niles, MI MSA, United States', 'Ningbo, China',\n",
       "        'North Port-Sarasota-Bradenton, FL MSA, United States',\n",
       "        'Norwich-New London, CT MSA, United States',\n",
       "        'Nuremberg Metropolitan Region, Germany',\n",
       "        'Ocala, FL MSA, United States',\n",
       "        'Ocean City, NJ MSA, United States',\n",
       "        'Odessa, TX MSA, United States',\n",
       "        'Ogden-Clearfield, UT MSA, United States', 'Okayama, Japan',\n",
       "        'Oklahoma City, OK MSA, United States',\n",
       "        'Olympia-Lacey-Tumwater, WA MSA, United States',\n",
       "        'Omaha-Council Bluffs, NE-IA MSA, United States',\n",
       "        'Orange, Australia',\n",
       "        'Orlando-Kissimmee-Sanford, FL MSA, United States',\n",
       "        'Osaka–Kobe, Japan', 'Oshawa, Canada',\n",
       "        'Oshkosh-Neenah, WI MSA, United States', 'Oslo, Norway',\n",
       "        'Ottawa, Canada', 'Owensboro, KY MSA, United States',\n",
       "        'Oxnard-Thousand Oaks-Ventura, CA MSA, United States',\n",
       "        'Padua–Treviso–Venice metropolitan area, Italy',\n",
       "        'Palembang, Indonesia',\n",
       "        'Palm Bay-Melbourne-Titusville, FL MSA, United States',\n",
       "        'Paris metropolitan area, France',\n",
       "        'Parkersburg-Vienna, WV MSA, United States', 'Patna, India',\n",
       "        'Pensacola-Ferry Pass-Brent, FL MSA, United States',\n",
       "        'Peoria, IL MSA, United States', 'Perth, Australia',\n",
       "        'Peterborough, Ontario, Canada',\n",
       "        'Philadelphia-Camden-Wilmington, PA-NJ-DE-MD MSA, United States',\n",
       "        'Phoenix-Mesa-Chandler, AZ MSA, United States',\n",
       "        'Pine Bluff, AR MSA, United States',\n",
       "        'Pittsburgh, PA MSA, United States',\n",
       "        'Pittsfield, MA MSA, United States',\n",
       "        'Pocatello, ID MSA, United States',\n",
       "        'Port St. Lucie, FL MSA, United States',\n",
       "        'Portland-South Portland, ME MSA, United States',\n",
       "        'Portland-Vancouver-Hillsboro, OR-WA MSA, United States',\n",
       "        'Porto Alegre, Brazil', 'Porto metropolitan area, Portugal',\n",
       "        'Prague metropolitan area, Czech Republic',\n",
       "        'Providence-Warwick, RI-MA MSA, United States',\n",
       "        'Provo-Orem, UT MSA, United States', 'Puebla, Mexico',\n",
       "        'Pueblo, CO MSA, United States', 'Pune, India',\n",
       "        'Punta Gorda, FL MSA, United States', 'Qingdao, China',\n",
       "        'Quebec City, Canada', 'Racine, WI MSA, United States',\n",
       "        'Raleigh-Cary, NC MSA, United States',\n",
       "        'Rapid City, SD MSA, United States',\n",
       "        'Reading, PA MSA, United States', 'Recife, Brazil',\n",
       "        'Redding, CA MSA, United States', 'Regina, Saskatchewan, Canada',\n",
       "        'Region Braunschweig, Germany', 'Rennes Métropole, France',\n",
       "        'Reno, NV MSA, United States', 'Rhine-Neckar, Germany',\n",
       "        'Richmond, VA MSA, United States', 'Rio de Janeiro, Brazil',\n",
       "        'Riverside-San Bernardino-Ontario, CA MSA, United States',\n",
       "        'Roanoke, VA MSA, United States',\n",
       "        'Rochester, MN MSA, United States',\n",
       "        'Rochester, NY MSA, United States',\n",
       "        'Rockford, IL MSA, United States', 'Rockhampton, Australia',\n",
       "        'Rocky Mount, NC MSA, United States',\n",
       "        'Rome metropolitan area, Italy', 'Rome, GA MSA, United States',\n",
       "        'Rotterdam, Netherlands', 'Ruhr Area, Germany',\n",
       "        'Sacramento-Roseville-Folsom, CA MSA, United States',\n",
       "        'Saginaw, MI MSA, United States', 'Saguenay, Quebec, Canada',\n",
       "        'Saint John, New Brunswick, Canada', 'Saint Petersburg, Russia',\n",
       "        'Salem, OR MSA, United States', 'Salinas, CA MSA, United States',\n",
       "        'Salisbury, MD-DE MSA, United States',\n",
       "        'Salt Lake City, UT MSA, United States', 'Salvador, Brazil',\n",
       "        'San Angelo, TX MSA, United States',\n",
       "        'San Antonio-New Braunfels, TX MSA, United States',\n",
       "        'San Diego-Chula Vista-Carlsbad, CA MSA, United States',\n",
       "        'San Francisco-Oakland-Berkeley, CA MSA, United States',\n",
       "        'San Jose-Sunnyvale-Santa Clara, CA MSA, United States',\n",
       "        'San Luis Obispo-Paso Robles, CA MSA, United States',\n",
       "        'San Marino, San Marino',\n",
       "        'Santa Cruz-Watsonville, CA MSA, United States',\n",
       "        'Santa Fe, NM MSA, United States',\n",
       "        'Santa Maria-Santa Barbara, CA MSA, United States',\n",
       "        'Santa Rosa-Petaluma, CA MSA, United States', 'Santiago, Chile',\n",
       "        'Santos, Brazil', 'Sapporo, Japan', 'Saskatoon, Canada',\n",
       "        'Savannah, GA MSA, United States',\n",
       "        'Scranton–Wilkes-Barre, PA MSA, United States',\n",
       "        'Seattle-Tacoma-Bellevue, WA MSA, United States',\n",
       "        'Sebastian-Vero Beach, FL MSA, United States',\n",
       "        'Sebring-Avon Park, FL MSA, United States', 'Semarang, Indonesia',\n",
       "        'Sendai, Japan', 'Seoul, South Korea', 'Seville, Spain',\n",
       "        'Shanghai, China', 'Shantou, China',\n",
       "        'Sharjah, United Arab Emirates',\n",
       "        'Sheboygan, WI MSA, United States', 'Sheffield, United Kingdom',\n",
       "        'Shenyang, China', 'Shenzhen, China', 'Sherbrooke, Canada',\n",
       "        'Sherman-Denison, TX MSA, United States', 'Shijiazhuang, China',\n",
       "        'Shizuoka, Japan',\n",
       "        'Shreveport-Bossier City, LA MSA, United States',\n",
       "        'Sierra Vista-Douglas, AZ MSA, United States',\n",
       "        'Singapore, Singapore', 'Sioux City, IA-NE-SD MSA, United States',\n",
       "        'Sioux Falls, SD MSA, United States', 'Sorocaba, Brazil',\n",
       "        'South Bend-Mishawaka, IN-MI MSA, United States',\n",
       "        'Spartanburg, SC MSA, United States',\n",
       "        'Spokane-Spokane Valley, WA MSA, United States',\n",
       "        'Springfield, IL MSA, United States',\n",
       "        'Springfield, MA MSA, United States',\n",
       "        'Springfield, MO MSA, United States',\n",
       "        'Springfield, OH MSA, United States',\n",
       "        'St. Catharines–Niagara Falls, Canada',\n",
       "        'St. Cloud, MN MSA, United States',\n",
       "        'St. George, UT MSA, United States',\n",
       "        \"St. John's, Newfoundland and Labrador, Canada\",\n",
       "        'St. Joseph, MO-KS MSA, United States',\n",
       "        'St. Louis, MO-IL MSA, United States',\n",
       "        'State College, PA MSA, United States',\n",
       "        'Staunton, VA MSA, United States',\n",
       "        'Stockholm metropolitan area, Sweden',\n",
       "        'Stockton, CA MSA, United States', 'Strasbourg, France',\n",
       "        'Stuttgart Metropolitan Region, Germany',\n",
       "        'Sumter, SC MSA, United States', 'Sunshine Coast, Australia',\n",
       "        'Surabaya, Indonesia', 'Surat, India', 'Suzhou, China',\n",
       "        'Sydney, Australia', 'Syracuse, NY MSA, United States',\n",
       "        'São José dos Campos, Brazil', 'São José dos Pinhais, Brazil',\n",
       "        'São Paulo, Brazil', 'Taipei, Taiwan',\n",
       "        'Tallahassee, FL MSA, United States',\n",
       "        'Tampa-St. Petersburg-Clearwater, FL MSA, United States',\n",
       "        'Tangerang, Indonesia', 'Tangshan, China', 'Tbilisi, Georgia',\n",
       "        'Tel Aviv, Israel', 'Terre Haute, IN MSA, United States',\n",
       "        'Texarkana, TX-AR MSA, United States', 'The Hague, Netherlands',\n",
       "        'The Villages, FL MSA, United States', 'Thunder Bay, Canada',\n",
       "        'Tianjin, China', 'Tokelau, Tokelau', 'Tokyo, Japan',\n",
       "        'Toledo, OH MSA, United States', 'Toowoomba, Australia',\n",
       "        'Topeka, KS MSA, United States', 'Toronto, Canada',\n",
       "        'Toulouse Métropole, France', 'Townsville, Australia',\n",
       "        'Trenton-Princeton, NJ MSA, United States',\n",
       "        'Trois-Rivières, Canada', 'Tucson, AZ MSA, United States',\n",
       "        'Tulsa, OK MSA, United States', 'Turin metropolitan area, Italy',\n",
       "        'Tuscaloosa, AL MSA, United States',\n",
       "        'Twin Falls, Idaho, United States', 'Tyler, TX MSA, United States',\n",
       "        'Uberlandia, Brazil', 'Urban Honolulu, HI MSA, United States',\n",
       "        'Utica-Rome, NY MSA, United States', 'Utrecht, Netherlands',\n",
       "        'Valdosta, GA MSA, United States', 'Valencia, Spain',\n",
       "        'Vallejo, CA MSA, United States', 'Vancouver, Canada',\n",
       "        'Verona metropolitan area, Italy',\n",
       "        'Victoria, British Columbia, Canada',\n",
       "        'Victoria, TX MSA, United States', 'Vienna, Austria',\n",
       "        'Vineland-Bridgeton, NJ MSA, United States',\n",
       "        'Virginia Beach-Norfolk-Newport News, VA-NC MSA, United States',\n",
       "        'Visalia, CA MSA, United States', 'Vishakhapatnam, India',\n",
       "        'Vitória, Brazil', 'Waco, TX MSA, United States',\n",
       "        'Wagga Wagga, Australia', 'Walla Walla, WA MSA, United States',\n",
       "        'Warner Robins, GA MSA, United States',\n",
       "        'Warsaw metropolitan area, Poland',\n",
       "        'Washington-Arlington-Alexandria, DC-VA-MD-WV MSA, United States',\n",
       "        'Waterloo-Cedar Falls, IA MSA, United States',\n",
       "        'Watertown-Fort Drum, NY MSA, United States',\n",
       "        'Wausau-Weston, WI MSA, United States',\n",
       "        'Weirton-Steubenville, WV-OH MSA, United States',\n",
       "        'Wenatchee, WA MSA, United States', 'Wenzhou, China',\n",
       "        'Wheeling, WV-OH MSA, United States',\n",
       "        'Wichita Falls, TX MSA, United States',\n",
       "        'Wichita, KS MSA, United States',\n",
       "        'Williamsport, PA MSA, United States',\n",
       "        'Wilmington, NC MSA, United States',\n",
       "        'Winchester, VA-WV MSA, United States', 'Windsor, Ontario, Canada',\n",
       "        'Winnipeg, Canada', 'Winston-Salem, NC MSA, United States',\n",
       "        'Wollongong, Australia', 'Worcester, MA-CT MSA, United States',\n",
       "        'Wuhan, China', 'Wulumuqi, China', 'Wuxi, China', 'Xiamen, China',\n",
       "        'Xian, China', 'Xuzhou, China', 'Yakima, WA MSA, United States',\n",
       "        'Yantai, China', 'Yerevan, Armenia',\n",
       "        'York-Hanover, PA MSA, United States',\n",
       "        'Youngstown-Warren-Boardman, OH-PA MSA, United States',\n",
       "        'Yuba City, CA MSA, United States', 'Yuma, AZ MSA, United States',\n",
       "        'Zhengzhou, China', 'Zhongshan, China', 'Zhuhai, China',\n",
       "        'Zibo, China'], dtype=object),\n",
       " array([1, 1, 1, 1, 1, 1, 1, 1, 1, 1, 1, 1, 1, 1, 1, 1, 1, 1, 1, 1, 1, 1,\n",
       "        1, 1, 1, 1, 1, 1, 1, 1, 1, 1, 1, 1, 1, 1, 1, 1, 1, 1, 1, 1, 1, 1,\n",
       "        1, 1, 1, 1, 1, 1, 1, 1, 1, 1, 1, 1, 1, 1, 1, 1, 1, 1, 1, 1, 1, 1,\n",
       "        1, 1, 1, 1, 1, 1, 1, 1, 1, 1, 1, 1, 1, 1, 1, 1, 1, 1, 1, 1, 1, 1,\n",
       "        1, 1, 1, 1, 1, 1, 1, 1, 1, 1, 1, 1, 1, 1, 1, 1, 1, 1, 1, 1, 1, 1,\n",
       "        1, 1, 1, 1, 1, 1, 1, 1, 1, 1, 1, 1, 1, 1, 1, 1, 1, 1, 1, 1, 1, 1,\n",
       "        1, 1, 1, 1, 1, 1, 1, 1, 1, 1, 1, 1, 1, 1, 1, 1, 1, 1, 1, 1, 1, 1,\n",
       "        1, 1, 1, 1, 1, 1, 1, 1, 1, 1, 1, 1, 1, 1, 1, 1, 1, 1, 1, 1, 1, 1,\n",
       "        1, 1, 1, 1, 1, 1, 1, 1, 1, 1, 1, 1, 1, 1, 1, 1, 1, 1, 1, 1, 1, 1,\n",
       "        1, 1, 1, 1, 1, 1, 1, 1, 1, 1, 1, 1, 1, 1, 1, 1, 1, 1, 1, 1, 1, 1,\n",
       "        1, 1, 1, 1, 1, 1, 1, 1, 1, 1, 1, 1, 1, 1, 1, 1, 1, 1, 1, 1, 1, 1,\n",
       "        1, 1, 1, 1, 1, 1, 1, 1, 1, 1, 1, 1, 1, 1, 1, 1, 1, 1, 1, 1, 1, 1,\n",
       "        1, 1, 1, 1, 1, 1, 1, 1, 1, 1, 1, 1, 1, 1, 1, 1, 1, 1, 1, 1, 1, 1,\n",
       "        1, 1, 1, 1, 1, 1, 1, 1, 1, 1, 1, 1, 1, 1, 1, 1, 1, 1, 1, 1, 1, 1,\n",
       "        1, 1, 1, 1, 1, 1, 1, 1, 1, 1, 1, 1, 1, 1, 1, 1, 1, 1, 1, 1, 1, 1,\n",
       "        1, 1, 1, 1, 1, 1, 1, 1, 1, 1, 1, 1, 1, 1, 1, 1, 1, 1, 1, 1, 1, 1,\n",
       "        1, 1, 1, 1, 1, 1, 1, 1, 1, 1, 1, 1, 1, 1, 1, 1, 1, 1, 1, 1, 1, 1,\n",
       "        1, 1, 1, 1, 1, 1, 1, 1, 1, 1, 1, 1, 1, 1, 1, 1, 1, 1, 1, 1, 1, 1,\n",
       "        1, 1, 1, 1, 1, 1, 1, 1, 1, 1, 1, 1, 1, 1, 1, 1, 1, 1, 1, 1, 1, 1,\n",
       "        1, 1, 1, 1, 1, 1, 1, 1, 1, 1, 1, 1, 1, 1, 1, 1, 1, 1, 1, 1, 1, 1,\n",
       "        1, 1, 1, 1, 1, 1, 1, 1, 1, 1, 1, 1, 1, 1, 1, 1, 1, 1, 1, 1, 1, 1,\n",
       "        1, 1, 1, 1, 1, 1, 1, 1, 1, 1, 1, 1, 1, 1, 1, 1, 1, 1, 1, 1, 1, 1,\n",
       "        1, 1, 1, 1, 1, 1, 1, 1, 1, 1, 1, 1, 1, 1, 1, 1, 1, 1, 1, 1, 1, 1,\n",
       "        1, 1, 1, 1, 1, 1, 1, 1, 1, 1, 1, 1, 1, 1, 1, 1, 1, 1, 1, 1, 1, 1,\n",
       "        1, 1, 1, 1, 1, 1, 1, 1, 1, 1, 1, 1, 1, 1, 1, 1, 1, 1, 1, 1, 1, 1,\n",
       "        1, 1, 1, 1, 1, 1, 1, 1, 1, 1, 1, 1, 1, 1, 1, 1, 1, 1, 1, 1, 1, 1,\n",
       "        1, 1, 1, 1, 1, 1, 1, 1, 1, 1, 1, 1, 1, 1, 1, 1, 1, 1, 1, 1, 1, 1,\n",
       "        1, 1, 1, 1, 1, 1, 1, 1, 1, 1, 1, 1, 1, 1, 1, 1, 1, 1, 1, 1, 1, 1,\n",
       "        1, 1, 1, 1, 1, 1, 1, 1, 1, 1, 1, 1, 1, 1, 1, 1, 1, 1, 1, 1, 1, 1,\n",
       "        1, 1, 1, 1, 1, 1, 1, 1, 1, 1, 1, 1, 1, 1, 1, 1, 1, 1, 1, 1, 1, 1,\n",
       "        1, 1, 1, 1, 1, 1, 1, 1, 1, 1, 1, 1, 1, 1, 1, 1, 1, 1, 1, 1, 1, 1]))"
      ]
     },
     "execution_count": 123,
     "metadata": {},
     "output_type": "execute_result"
    }
   ],
   "source": [
    "np.unique(X_text, return_counts=True)"
   ]
  },
  {
   "cell_type": "code",
   "execution_count": 138,
   "metadata": {},
   "outputs": [
    {
     "data": {
      "text/plain": [
       "0               Abbotsford, British Columbia, Canada\n",
       "1                           Aberdeen, United Kingdom\n",
       "2                               Abidjan, Ivory Coast\n",
       "3                    Abu Dhabi, United Arab Emirates\n",
       "4                                Adelaide, Australia\n",
       "                           ...                      \n",
       "713                              Ingolstadt, Germany\n",
       "714    Padua–Treviso–Venice metropolitan area, Italy\n",
       "715                  Verona metropolitan area, Italy\n",
       "716                              Heidelberg, Germany\n",
       "717                                    Murcia, Spain\n",
       "Name: name, Length: 682, dtype: object"
      ]
     },
     "execution_count": 138,
     "metadata": {},
     "output_type": "execute_result"
    }
   ],
   "source": [
    "X_text"
   ]
  },
  {
   "cell_type": "code",
   "execution_count": 150,
   "metadata": {},
   "outputs": [
    {
     "data": {
      "text/plain": [
       "['aarhus, norwalk, norway']"
      ]
     },
     "execution_count": 150,
     "metadata": {},
     "output_type": "execute_result"
    }
   ],
   "source": [
    "encoder.get_feature_names_out()"
   ]
  },
  {
   "cell_type": "code",
   "execution_count": 168,
   "metadata": {},
   "outputs": [
    {
     "data": {
      "text/plain": [
       "['vyalikova, kríziková, zhukovskaya',\n",
       " 'pinhão, xinmin, yunupingu',\n",
       " 'parker, odekerken, jetsy',\n",
       " 'williams, william, billy',\n",
       " 'adriana, adrian, dragoljub',\n",
       " 'immanuel, emmanuel, katzman',\n",
       " 'aleksander, alexander, aleksandr',\n",
       " 'clarence, lawrence, malmgren',\n",
       " 'townsend, david, tüfekçi',\n",
       " 'charles, françois, carlyle',\n",
       " 'broxup, buxton, brooke',\n",
       " 'herbert, alberti, roberti',\n",
       " 'johnny, scott, johnnie',\n",
       " 'whipple, dhirubhai, yôjirô',\n",
       " 'robinson, higginson, robson',\n",
       " 'raymond, lamond, edmonds',\n",
       " 'hämäläinen, eugène, neusser',\n",
       " 'holzki, sjøholm, hollibaugh',\n",
       " 'gheorghe, george, georgi',\n",
       " 'barbara, edwards, leonard',\n",
       " 'böszörményi, kløverfeldt, bángyörgyi',\n",
       " 'grahame, hammer, marmer',\n",
       " 'foucaud, pierre, ferrer',\n",
       " 'stanislawski, mieczyslaw, stanislaw',\n",
       " 'vladimír, frédéric, vladimir',\n",
       " 'elizabeth, elisabeth, walther',\n",
       " 'pellegrini, öllegård, marios',\n",
       " 'jacques, långbacka, macquoid',\n",
       " 'sylwester, sylvester, hellsten',\n",
       " 'novruzov, puzyryov, ruanova']"
      ]
     },
     "execution_count": 168,
     "metadata": {},
     "output_type": "execute_result"
    }
   ],
   "source": [
    "encoder.get_feature_names_out()"
   ]
  },
  {
   "cell_type": "code",
   "execution_count": 175,
   "metadata": {},
   "outputs": [
    {
     "data": {
      "text/plain": [
       "0       202497.0\n",
       "1       489840.0\n",
       "2      5950000.0\n",
       "3      1660000.0\n",
       "4      1380000.0\n",
       "         ...    \n",
       "713     197560.0\n",
       "714    2748420.0\n",
       "715     915975.0\n",
       "716    1544830.0\n",
       "717    1528828.0\n",
       "Name: pop, Length: 682, dtype: float64"
      ]
     },
     "execution_count": 175,
     "metadata": {},
     "output_type": "execute_result"
    }
   ],
   "source": [
    "y"
   ]
  },
  {
   "cell_type": "code",
   "execution_count": 190,
   "metadata": {},
   "outputs": [
    {
     "data": {
      "text/plain": [
       "(-0.1602613287644561, 27.83837443232352)"
      ]
     },
     "execution_count": 190,
     "metadata": {},
     "output_type": "execute_result"
    }
   ],
   "source": [
    "from sklearn.model_selection import train_test_split\n",
    "from sklearn.preprocessing import OrdinalEncoder\n",
    "from skrub import GapEncoder\n",
    "from sklearn.linear_model import LinearRegression\n",
    "# import r2 and mse\n",
    "from sklearn.metrics import r2_score, mean_squared_error\n",
    "model = GradientBoostingRegressor()\n",
    "# \n",
    "#X_text = df[\"primaryName\"]#cities[\"name\"]\n",
    "#y = df[\"birthYear\"]\n",
    "#y = pd.to_numeric(y)\n",
    "#y = y > y.median()\n",
    "X_text = cities[\"name\"]\n",
    "y = cities[\"pop\"] / 1e6\n",
    "# shuffle and take 10_000\n",
    "##indices = np.arange(len(X_text))\n",
    "#np.random.shuffle(indices)\n",
    "#X_enc = encode(np.array(X_text).reshape(-1), \"lm__all-mpnet-base-v2\", dataset_name=\"pop_cities\")\n",
    "# make a PCA\n",
    "#pca = PCA(n_components=30)\n",
    "#X_enc = pca.fit_transform(X_enc)\n",
    "minhash = MinHashEncoder(n_components=30)\n",
    "X_enc = minhash.fit_transform(np.array(X_text).reshape(-1, 1))\n",
    "#X_text = X_text.iloc[indices[:10_000]]\n",
    "#y = y.iloc[indices[:10_000]]\n",
    "# shuffle X_enc\n",
    "X_train, X_test, y_train, y_test = train_test_split(X_enc, y, test_size=0.2)\n",
    "# fit a MinHashEncoder on the training data\n",
    "#encoder = GapEncoder(n_components=30)\n",
    "#encoder = GapEncoder(n_components=30)\n",
    "#encoder = OrdinalEncoder()\n",
    "model = LinearRegression()\n",
    "model.fit(X_train, y_train)\n",
    "# predict on the test data\n",
    "y_pred = model.predict(X_test)\n",
    "# calculate r2 and mse\n",
    "r2_score(y_test, y_pred), mean_squared_error(y_test, y_pred)\n",
    "\n"
   ]
  },
  {
   "cell_type": "code",
   "execution_count": 65,
   "metadata": {},
   "outputs": [
    {
     "data": {
      "text/plain": [
       "(array([False,  True]), array([341, 341]))"
      ]
     },
     "execution_count": 65,
     "metadata": {},
     "output_type": "execute_result"
    }
   ],
   "source": [
    "np.unique(y, return_counts=True)"
   ]
  },
  {
   "cell_type": "code",
   "execution_count": 10,
   "metadata": {},
   "outputs": [],
   "source": [
    "from sklearn.base import BaseEstimator, TransformerMixin\n",
    "import numpy as np\n",
    "from tabpfn import TabPFNClassifier\n",
    "from tabpfn.utils import normalize_data, to_ranking_low_mem, remove_outliers\n",
    "from tabpfn.utils import NOP, normalize_by_used_features_f\n",
    "from sklearn.preprocessing import PowerTransformer, QuantileTransformer, RobustScaler, StandardScaler, OrdinalEncoder, OneHotEncoder\n",
    "from sklearn.compose import ColumnTransformer\n",
    "from sklearn.pipeline import Pipeline\n",
    "from sklearn.model_selection import cross_val_score, cross_validate\n",
    "import torch\n",
    "from skrub import TableVectorizer, MinHashEncoder\n",
    "def run_on_encoded_data_reg(X_enc, X_rest, y, dim_reduction_name, dim_reduction, model_name, model, encoding,\n",
    "                        cv, **kwargs):\n",
    "    \"\"\"\n",
    "    X_enc: np array of shape (n_samples, embedding_dim), the embedded texts\n",
    "    X_rest: np array of shape (n_samples, n_features), additional tabular data\n",
    "    y: np array of shape (n_samples,), the classifcation target\n",
    "    dim_reduction_name: str, the name of the dim reduction method\n",
    "    dim_reduction: sklearn transformer, the dim reduction method\n",
    "    model_name: str, the name of the model\n",
    "    model: sklearn model, the model\n",
    "    encoding: str, the name of the encoding which was used to create X_enc\n",
    "    cv: sklearn cross validator, the cross validator to use\n",
    "    \"\"\"\n",
    "    #assert model_name in [\"TabPFNClassifier\", \"TabPFNClassifier_basic\", \"LogisticRegression\", \"GradientBoostingClassifier\"]\n",
    "    assert encoding.startswith(\"lm__\") or encoding.startswith(\"skrub__\") or encoding.startswith(\"bert_custom__\") or encoding.startswith(\"openai__\") or encoding.startswith(\"bert_custom_pooling__\")\n",
    "    #TODO: make this cleaner\n",
    "    # we want to eliminate certain combinations\n",
    "    # passthrough and lm__ means taking the full lm embedding, which is slow if the model is not LogisticRegression\n",
    "    # for skrub encodings, we don't want to use passthrough\n",
    "    if dim_reduction_name == \"passthrough\" and model_name != \"LogisticRegression\" and not encoding.startswith(\"skrub\"):\n",
    "        print(\"Skipping {} with {} and {}\".format(model_name, dim_reduction_name, encoding))\n",
    "        return None\n",
    "    if dim_reduction_name != \"passthrough\" and encoding.startswith(\"skrub\"):\n",
    "        print(\"Skipping {} with {} and {}\".format(model_name, dim_reduction_name, encoding))\n",
    "        return None\n",
    "    print(\"Running {} with {} and {}\".format(model_name, dim_reduction_name, encoding))\n",
    "    if X_rest is not None:\n",
    "        # encode X_rest with the TableVectorizer\n",
    "        if model_name.startswith(\"TabPFNClassifier\"):\n",
    "            # ordinal encoding for low_cardinality columns\n",
    "            low_card_cat_transformer = OrdinalEncoder(handle_unknown=\"use_encoded_value\", unknown_value=-1)\n",
    "        else:\n",
    "            low_card_cat_transformer = OneHotEncoder(handle_unknown=\"ignore\")\n",
    "        if model_name.startswith(\"LogisticRegression\"):\n",
    "            numerical_transformer = StandardScaler()\n",
    "        else:\n",
    "            numerical_transformer = \"passthrough\"\n",
    "        \n",
    "        rest_trans = TableVectorizer(high_card_cat_transformer = MinHashEncoder(n_components=10),\n",
    "                                    low_card_cat_transformer = low_card_cat_transformer,\n",
    "                                    numerical_transformer=numerical_transformer,\n",
    "                                    cardinality_threshold=10)\n",
    "    if X_rest is not None and X_enc is not None:\n",
    "        \n",
    "        # Assuming X_enc and X_rest are numpy arrays, you can get their shapes\n",
    "        n_enc_columns = X_enc.shape[1]\n",
    "        n_rest_columns = X_rest.shape[1]\n",
    "\n",
    "        # Create column indices for X_enc and X_rest\n",
    "        enc_indices = np.arange(n_enc_columns)\n",
    "        rest_indices = np.arange(n_enc_columns, n_enc_columns + n_rest_columns)\n",
    "\n",
    "        # Create the ColumnTransformer\n",
    "        complete_trans = ColumnTransformer(\n",
    "            transformers=[\n",
    "                ('dim_reduction', dim_reduction, enc_indices),  # Apply dimensionality reduction to X_enc\n",
    "                ('rest_trans', rest_trans, rest_indices)  # Apply TableVectorizer to X_rest\n",
    "            ])\n",
    "        \n",
    "\n",
    "        full_X = np.concatenate([X_enc, X_rest], axis=1)\n",
    "        print(X_enc.shape, X_rest.shape, full_X.shape)\n",
    "        print(complete_trans.fit_transform(full_X).shape)\n",
    "    elif X_rest is not None:\n",
    "        complete_trans = rest_trans\n",
    "        full_X = X_rest\n",
    "    else:\n",
    "        complete_trans = dim_reduction\n",
    "        full_X = X_enc\n",
    "\n",
    "\n",
    "    pipeline = Pipeline([(\"encoding\", complete_trans), (\"model\", model)])\n",
    "    #scores = cross_val_score(pipeline, full_X, y, scoring=\"accuracy\", cv=cv)\n",
    "    # report both accuracy and roc_auc\n",
    "    scores = cross_validate(pipeline, full_X, y, scoring=[\"neg_mean_squared_error\", \"r2\"], cv=cv)\n",
    "    return {\n",
    "        'encoding': encoding,\n",
    "        'dim_reduction': dim_reduction_name,\n",
    "        'model': model_name,\n",
    "        **scores,\n",
    "        'n_train': cv.n_train,\n",
    "        'n_test': cv.n_test,\n",
    "        **kwargs\n",
    "    }\n"
   ]
  },
  {
   "cell_type": "code",
   "execution_count": 16,
   "metadata": {},
   "outputs": [
    {
     "name": "stdout",
     "output_type": "stream",
     "text": [
      "working dir /scratch/lgrinszt/lm_tab/scripts\n",
      "Loaded from cache\n"
     ]
    },
    {
     "name": "stdout",
     "output_type": "stream",
     "text": [
      "working dir /scratch/lgrinszt/lm_tab/scripts\n",
      "Loaded from cache\n",
      "working dir /scratch/lgrinszt/lm_tab/scripts\n",
      "Loaded from cache\n",
      "working dir /scratch/lgrinszt/lm_tab/scripts\n",
      "Loaded from cache\n"
     ]
    }
   ],
   "source": [
    "from sklearn.ensemble import GradientBoostingRegressor\n",
    "encodings = [\"lm__all-distilroberta-v1\", \"lm__all-mpnet-base-v2\", \"openai__\", \"skrub__minhash_30\"]\n",
    "#encodings = [\"skrub__minhash_1\"]\n",
    "models = {\"GradientBoostingClassifier\": GradientBoostingRegressor()}\n",
    "dim_reductions = {#\"subset_30\": FeaturesExtractor(method=\"first\", n_features=30),\n",
    "                 # \"PCA_5\": PCA(n_components=5),\n",
    "                  \"PCA_30\": PCA(n_components=30), \"passthrough\": \"passthrough\"}\n",
    "                 #   \"PCA_90\": PCA(n_components=90),\n",
    "                    #\"subset_90\": FeaturesExtractor(method=\"first\", n_features=90),\n",
    "\n",
    "\n",
    "results_pop = pd.DataFrame(columns=[\"dataset\", \"encoding\", \"dim_reduction\", \"model\", \"accuracy\", \"features\"])\n",
    "\n",
    "cv = FixedSizeSplit(n_splits=10, n_train=580, n_test=100, random_state=42)\n",
    "#cv = FixedSizeSplit(n_splits=5, n_train=1000, n_test=2000, random_state=42)\n",
    "\n",
    "dataset = \"pop_cities\"\n",
    "#dataset = \"actors\"\n",
    "X_text = cities[\"name\"]\n",
    "y = cities[\"pop\"] / 1e5\n",
    "#indices = np.arange(len(df))\n",
    "#rng = np.random.default_rng(42)\n",
    "#rng.shuffle(indices)\n",
    "#df = df.iloc[indices]\n",
    "# take 10000 samples\n",
    "#actors = df.iloc[:10000]\n",
    "#X_text = actors[\"primaryName\"]\n",
    "#y = actors[\"birthYear\"].astype(int)\n",
    "y = y > y.median()\n",
    "X_rest = None\n",
    "\n",
    "for encoding in encodings:\n",
    "    X_enc = encode(np.array(X_text).reshape(-1), encoding, dataset_name=dataset)\n",
    "    # # run with joblib\n",
    "    results_data_enc = Parallel(n_jobs=-1)(delayed(run_on_encoded_data_reg)(X_enc, X_rest, y, dim_reduction_name, dim_reduction,model_name, model, encoding, cv) for (dim_reduction_name, dim_reduction) in dim_reductions.items() for (model_name, model) in models.items())\n",
    "    for dim_reduction_name, dim_reduction in dim_reductions.items():\n",
    "        for model_name, model in models.items():\n",
    "            scores = results_data_enc.pop(0)\n",
    "            if scores is None:\n",
    "                continue\n",
    "            results_pop = pd.concat([results_pop, pd.DataFrame({\"dataset\": dataset, \"encoding\": encoding, \"dim_reduction\": dim_reduction_name, \"model\": model_name, **scores, \"features\": \"all\"})])\n",
    "\n",
    "results_pop.to_csv(\"results_pop_reg.csv\")"
   ]
  },
  {
   "cell_type": "code",
   "execution_count": 17,
   "metadata": {},
   "outputs": [
    {
     "data": {
      "text/html": [
       "<div>\n",
       "<style scoped>\n",
       "    .dataframe tbody tr th:only-of-type {\n",
       "        vertical-align: middle;\n",
       "    }\n",
       "\n",
       "    .dataframe tbody tr th {\n",
       "        vertical-align: top;\n",
       "    }\n",
       "\n",
       "    .dataframe thead th {\n",
       "        text-align: right;\n",
       "    }\n",
       "</style>\n",
       "<table border=\"1\" class=\"dataframe\">\n",
       "  <thead>\n",
       "    <tr style=\"text-align: right;\">\n",
       "      <th></th>\n",
       "      <th>dataset</th>\n",
       "      <th>encoding</th>\n",
       "      <th>dim_reduction</th>\n",
       "      <th>model</th>\n",
       "      <th>accuracy</th>\n",
       "      <th>features</th>\n",
       "      <th>fit_time</th>\n",
       "      <th>score_time</th>\n",
       "      <th>test_neg_mean_squared_error</th>\n",
       "      <th>test_r2</th>\n",
       "      <th>n_train</th>\n",
       "      <th>n_test</th>\n",
       "    </tr>\n",
       "  </thead>\n",
       "  <tbody>\n",
       "    <tr>\n",
       "      <th>0</th>\n",
       "      <td>pop_cities</td>\n",
       "      <td>lm__all-distilroberta-v1</td>\n",
       "      <td>PCA_30</td>\n",
       "      <td>GradientBoostingClassifier</td>\n",
       "      <td>NaN</td>\n",
       "      <td>all</td>\n",
       "      <td>0.753764</td>\n",
       "      <td>0.004522</td>\n",
       "      <td>-0.145792</td>\n",
       "      <td>0.397306</td>\n",
       "      <td>580.0</td>\n",
       "      <td>100.0</td>\n",
       "    </tr>\n",
       "    <tr>\n",
       "      <th>1</th>\n",
       "      <td>pop_cities</td>\n",
       "      <td>lm__all-distilroberta-v1</td>\n",
       "      <td>PCA_30</td>\n",
       "      <td>GradientBoostingClassifier</td>\n",
       "      <td>NaN</td>\n",
       "      <td>all</td>\n",
       "      <td>0.727564</td>\n",
       "      <td>0.003545</td>\n",
       "      <td>-0.160929</td>\n",
       "      <td>0.343414</td>\n",
       "      <td>580.0</td>\n",
       "      <td>100.0</td>\n",
       "    </tr>\n",
       "    <tr>\n",
       "      <th>2</th>\n",
       "      <td>pop_cities</td>\n",
       "      <td>lm__all-distilroberta-v1</td>\n",
       "      <td>PCA_30</td>\n",
       "      <td>GradientBoostingClassifier</td>\n",
       "      <td>NaN</td>\n",
       "      <td>all</td>\n",
       "      <td>0.739464</td>\n",
       "      <td>0.004662</td>\n",
       "      <td>-0.153874</td>\n",
       "      <td>0.384257</td>\n",
       "      <td>580.0</td>\n",
       "      <td>100.0</td>\n",
       "    </tr>\n",
       "    <tr>\n",
       "      <th>3</th>\n",
       "      <td>pop_cities</td>\n",
       "      <td>lm__all-distilroberta-v1</td>\n",
       "      <td>PCA_30</td>\n",
       "      <td>GradientBoostingClassifier</td>\n",
       "      <td>NaN</td>\n",
       "      <td>all</td>\n",
       "      <td>0.733813</td>\n",
       "      <td>0.003137</td>\n",
       "      <td>-0.140066</td>\n",
       "      <td>0.439511</td>\n",
       "      <td>580.0</td>\n",
       "      <td>100.0</td>\n",
       "    </tr>\n",
       "    <tr>\n",
       "      <th>4</th>\n",
       "      <td>pop_cities</td>\n",
       "      <td>lm__all-distilroberta-v1</td>\n",
       "      <td>PCA_30</td>\n",
       "      <td>GradientBoostingClassifier</td>\n",
       "      <td>NaN</td>\n",
       "      <td>all</td>\n",
       "      <td>0.732857</td>\n",
       "      <td>0.002805</td>\n",
       "      <td>-0.134251</td>\n",
       "      <td>0.461055</td>\n",
       "      <td>580.0</td>\n",
       "      <td>100.0</td>\n",
       "    </tr>\n",
       "    <tr>\n",
       "      <th>5</th>\n",
       "      <td>pop_cities</td>\n",
       "      <td>lm__all-distilroberta-v1</td>\n",
       "      <td>PCA_30</td>\n",
       "      <td>GradientBoostingClassifier</td>\n",
       "      <td>NaN</td>\n",
       "      <td>all</td>\n",
       "      <td>0.745245</td>\n",
       "      <td>0.002825</td>\n",
       "      <td>-0.112165</td>\n",
       "      <td>0.549717</td>\n",
       "      <td>580.0</td>\n",
       "      <td>100.0</td>\n",
       "    </tr>\n",
       "    <tr>\n",
       "      <th>6</th>\n",
       "      <td>pop_cities</td>\n",
       "      <td>lm__all-distilroberta-v1</td>\n",
       "      <td>PCA_30</td>\n",
       "      <td>GradientBoostingClassifier</td>\n",
       "      <td>NaN</td>\n",
       "      <td>all</td>\n",
       "      <td>0.741714</td>\n",
       "      <td>0.004231</td>\n",
       "      <td>-0.167654</td>\n",
       "      <td>0.329114</td>\n",
       "      <td>580.0</td>\n",
       "      <td>100.0</td>\n",
       "    </tr>\n",
       "    <tr>\n",
       "      <th>7</th>\n",
       "      <td>pop_cities</td>\n",
       "      <td>lm__all-distilroberta-v1</td>\n",
       "      <td>PCA_30</td>\n",
       "      <td>GradientBoostingClassifier</td>\n",
       "      <td>NaN</td>\n",
       "      <td>all</td>\n",
       "      <td>0.737885</td>\n",
       "      <td>0.002717</td>\n",
       "      <td>-0.164744</td>\n",
       "      <td>0.340760</td>\n",
       "      <td>580.0</td>\n",
       "      <td>100.0</td>\n",
       "    </tr>\n",
       "    <tr>\n",
       "      <th>8</th>\n",
       "      <td>pop_cities</td>\n",
       "      <td>lm__all-distilroberta-v1</td>\n",
       "      <td>PCA_30</td>\n",
       "      <td>GradientBoostingClassifier</td>\n",
       "      <td>NaN</td>\n",
       "      <td>all</td>\n",
       "      <td>0.729321</td>\n",
       "      <td>0.003387</td>\n",
       "      <td>-0.177024</td>\n",
       "      <td>0.289346</td>\n",
       "      <td>580.0</td>\n",
       "      <td>100.0</td>\n",
       "    </tr>\n",
       "    <tr>\n",
       "      <th>9</th>\n",
       "      <td>pop_cities</td>\n",
       "      <td>lm__all-distilroberta-v1</td>\n",
       "      <td>PCA_30</td>\n",
       "      <td>GradientBoostingClassifier</td>\n",
       "      <td>NaN</td>\n",
       "      <td>all</td>\n",
       "      <td>0.716069</td>\n",
       "      <td>0.003236</td>\n",
       "      <td>-0.122770</td>\n",
       "      <td>0.507145</td>\n",
       "      <td>580.0</td>\n",
       "      <td>100.0</td>\n",
       "    </tr>\n",
       "    <tr>\n",
       "      <th>0</th>\n",
       "      <td>pop_cities</td>\n",
       "      <td>lm__all-mpnet-base-v2</td>\n",
       "      <td>PCA_30</td>\n",
       "      <td>GradientBoostingClassifier</td>\n",
       "      <td>NaN</td>\n",
       "      <td>all</td>\n",
       "      <td>0.731728</td>\n",
       "      <td>0.003962</td>\n",
       "      <td>-0.136928</td>\n",
       "      <td>0.433947</td>\n",
       "      <td>580.0</td>\n",
       "      <td>100.0</td>\n",
       "    </tr>\n",
       "    <tr>\n",
       "      <th>1</th>\n",
       "      <td>pop_cities</td>\n",
       "      <td>lm__all-mpnet-base-v2</td>\n",
       "      <td>PCA_30</td>\n",
       "      <td>GradientBoostingClassifier</td>\n",
       "      <td>NaN</td>\n",
       "      <td>all</td>\n",
       "      <td>0.737123</td>\n",
       "      <td>0.003216</td>\n",
       "      <td>-0.138080</td>\n",
       "      <td>0.436638</td>\n",
       "      <td>580.0</td>\n",
       "      <td>100.0</td>\n",
       "    </tr>\n",
       "    <tr>\n",
       "      <th>2</th>\n",
       "      <td>pop_cities</td>\n",
       "      <td>lm__all-mpnet-base-v2</td>\n",
       "      <td>PCA_30</td>\n",
       "      <td>GradientBoostingClassifier</td>\n",
       "      <td>NaN</td>\n",
       "      <td>all</td>\n",
       "      <td>0.720591</td>\n",
       "      <td>0.002910</td>\n",
       "      <td>-0.131955</td>\n",
       "      <td>0.471969</td>\n",
       "      <td>580.0</td>\n",
       "      <td>100.0</td>\n",
       "    </tr>\n",
       "    <tr>\n",
       "      <th>3</th>\n",
       "      <td>pop_cities</td>\n",
       "      <td>lm__all-mpnet-base-v2</td>\n",
       "      <td>PCA_30</td>\n",
       "      <td>GradientBoostingClassifier</td>\n",
       "      <td>NaN</td>\n",
       "      <td>all</td>\n",
       "      <td>0.718921</td>\n",
       "      <td>0.003958</td>\n",
       "      <td>-0.091500</td>\n",
       "      <td>0.633853</td>\n",
       "      <td>580.0</td>\n",
       "      <td>100.0</td>\n",
       "    </tr>\n",
       "    <tr>\n",
       "      <th>4</th>\n",
       "      <td>pop_cities</td>\n",
       "      <td>lm__all-mpnet-base-v2</td>\n",
       "      <td>PCA_30</td>\n",
       "      <td>GradientBoostingClassifier</td>\n",
       "      <td>NaN</td>\n",
       "      <td>all</td>\n",
       "      <td>0.718902</td>\n",
       "      <td>0.003028</td>\n",
       "      <td>-0.124495</td>\n",
       "      <td>0.500221</td>\n",
       "      <td>580.0</td>\n",
       "      <td>100.0</td>\n",
       "    </tr>\n",
       "    <tr>\n",
       "      <th>5</th>\n",
       "      <td>pop_cities</td>\n",
       "      <td>lm__all-mpnet-base-v2</td>\n",
       "      <td>PCA_30</td>\n",
       "      <td>GradientBoostingClassifier</td>\n",
       "      <td>NaN</td>\n",
       "      <td>all</td>\n",
       "      <td>0.715718</td>\n",
       "      <td>0.003371</td>\n",
       "      <td>-0.116037</td>\n",
       "      <td>0.534176</td>\n",
       "      <td>580.0</td>\n",
       "      <td>100.0</td>\n",
       "    </tr>\n",
       "    <tr>\n",
       "      <th>6</th>\n",
       "      <td>pop_cities</td>\n",
       "      <td>lm__all-mpnet-base-v2</td>\n",
       "      <td>PCA_30</td>\n",
       "      <td>GradientBoostingClassifier</td>\n",
       "      <td>NaN</td>\n",
       "      <td>all</td>\n",
       "      <td>0.738563</td>\n",
       "      <td>0.005051</td>\n",
       "      <td>-0.146483</td>\n",
       "      <td>0.413834</td>\n",
       "      <td>580.0</td>\n",
       "      <td>100.0</td>\n",
       "    </tr>\n",
       "    <tr>\n",
       "      <th>7</th>\n",
       "      <td>pop_cities</td>\n",
       "      <td>lm__all-mpnet-base-v2</td>\n",
       "      <td>PCA_30</td>\n",
       "      <td>GradientBoostingClassifier</td>\n",
       "      <td>NaN</td>\n",
       "      <td>all</td>\n",
       "      <td>0.730989</td>\n",
       "      <td>0.003150</td>\n",
       "      <td>-0.130084</td>\n",
       "      <td>0.479457</td>\n",
       "      <td>580.0</td>\n",
       "      <td>100.0</td>\n",
       "    </tr>\n",
       "    <tr>\n",
       "      <th>8</th>\n",
       "      <td>pop_cities</td>\n",
       "      <td>lm__all-mpnet-base-v2</td>\n",
       "      <td>PCA_30</td>\n",
       "      <td>GradientBoostingClassifier</td>\n",
       "      <td>NaN</td>\n",
       "      <td>all</td>\n",
       "      <td>0.731162</td>\n",
       "      <td>0.002954</td>\n",
       "      <td>-0.158391</td>\n",
       "      <td>0.364148</td>\n",
       "      <td>580.0</td>\n",
       "      <td>100.0</td>\n",
       "    </tr>\n",
       "    <tr>\n",
       "      <th>9</th>\n",
       "      <td>pop_cities</td>\n",
       "      <td>lm__all-mpnet-base-v2</td>\n",
       "      <td>PCA_30</td>\n",
       "      <td>GradientBoostingClassifier</td>\n",
       "      <td>NaN</td>\n",
       "      <td>all</td>\n",
       "      <td>0.733560</td>\n",
       "      <td>0.003860</td>\n",
       "      <td>-0.126338</td>\n",
       "      <td>0.492820</td>\n",
       "      <td>580.0</td>\n",
       "      <td>100.0</td>\n",
       "    </tr>\n",
       "    <tr>\n",
       "      <th>0</th>\n",
       "      <td>pop_cities</td>\n",
       "      <td>openai__</td>\n",
       "      <td>PCA_30</td>\n",
       "      <td>GradientBoostingClassifier</td>\n",
       "      <td>NaN</td>\n",
       "      <td>all</td>\n",
       "      <td>0.816690</td>\n",
       "      <td>0.005965</td>\n",
       "      <td>-0.154909</td>\n",
       "      <td>0.359614</td>\n",
       "      <td>580.0</td>\n",
       "      <td>100.0</td>\n",
       "    </tr>\n",
       "    <tr>\n",
       "      <th>1</th>\n",
       "      <td>pop_cities</td>\n",
       "      <td>openai__</td>\n",
       "      <td>PCA_30</td>\n",
       "      <td>GradientBoostingClassifier</td>\n",
       "      <td>NaN</td>\n",
       "      <td>all</td>\n",
       "      <td>0.809376</td>\n",
       "      <td>0.007772</td>\n",
       "      <td>-0.144373</td>\n",
       "      <td>0.410963</td>\n",
       "      <td>580.0</td>\n",
       "      <td>100.0</td>\n",
       "    </tr>\n",
       "    <tr>\n",
       "      <th>2</th>\n",
       "      <td>pop_cities</td>\n",
       "      <td>openai__</td>\n",
       "      <td>PCA_30</td>\n",
       "      <td>GradientBoostingClassifier</td>\n",
       "      <td>NaN</td>\n",
       "      <td>all</td>\n",
       "      <td>0.815415</td>\n",
       "      <td>0.006878</td>\n",
       "      <td>-0.138694</td>\n",
       "      <td>0.445004</td>\n",
       "      <td>580.0</td>\n",
       "      <td>100.0</td>\n",
       "    </tr>\n",
       "    <tr>\n",
       "      <th>3</th>\n",
       "      <td>pop_cities</td>\n",
       "      <td>openai__</td>\n",
       "      <td>PCA_30</td>\n",
       "      <td>GradientBoostingClassifier</td>\n",
       "      <td>NaN</td>\n",
       "      <td>all</td>\n",
       "      <td>0.808267</td>\n",
       "      <td>0.004793</td>\n",
       "      <td>-0.157642</td>\n",
       "      <td>0.369178</td>\n",
       "      <td>580.0</td>\n",
       "      <td>100.0</td>\n",
       "    </tr>\n",
       "    <tr>\n",
       "      <th>4</th>\n",
       "      <td>pop_cities</td>\n",
       "      <td>openai__</td>\n",
       "      <td>PCA_30</td>\n",
       "      <td>GradientBoostingClassifier</td>\n",
       "      <td>NaN</td>\n",
       "      <td>all</td>\n",
       "      <td>0.802977</td>\n",
       "      <td>0.004623</td>\n",
       "      <td>-0.144336</td>\n",
       "      <td>0.420571</td>\n",
       "      <td>580.0</td>\n",
       "      <td>100.0</td>\n",
       "    </tr>\n",
       "    <tr>\n",
       "      <th>5</th>\n",
       "      <td>pop_cities</td>\n",
       "      <td>openai__</td>\n",
       "      <td>PCA_30</td>\n",
       "      <td>GradientBoostingClassifier</td>\n",
       "      <td>NaN</td>\n",
       "      <td>all</td>\n",
       "      <td>0.804930</td>\n",
       "      <td>0.006512</td>\n",
       "      <td>-0.139588</td>\n",
       "      <td>0.439632</td>\n",
       "      <td>580.0</td>\n",
       "      <td>100.0</td>\n",
       "    </tr>\n",
       "    <tr>\n",
       "      <th>6</th>\n",
       "      <td>pop_cities</td>\n",
       "      <td>openai__</td>\n",
       "      <td>PCA_30</td>\n",
       "      <td>GradientBoostingClassifier</td>\n",
       "      <td>NaN</td>\n",
       "      <td>all</td>\n",
       "      <td>0.822437</td>\n",
       "      <td>0.004728</td>\n",
       "      <td>-0.176951</td>\n",
       "      <td>0.291914</td>\n",
       "      <td>580.0</td>\n",
       "      <td>100.0</td>\n",
       "    </tr>\n",
       "    <tr>\n",
       "      <th>7</th>\n",
       "      <td>pop_cities</td>\n",
       "      <td>openai__</td>\n",
       "      <td>PCA_30</td>\n",
       "      <td>GradientBoostingClassifier</td>\n",
       "      <td>NaN</td>\n",
       "      <td>all</td>\n",
       "      <td>0.817625</td>\n",
       "      <td>0.004929</td>\n",
       "      <td>-0.144048</td>\n",
       "      <td>0.423578</td>\n",
       "      <td>580.0</td>\n",
       "      <td>100.0</td>\n",
       "    </tr>\n",
       "    <tr>\n",
       "      <th>8</th>\n",
       "      <td>pop_cities</td>\n",
       "      <td>openai__</td>\n",
       "      <td>PCA_30</td>\n",
       "      <td>GradientBoostingClassifier</td>\n",
       "      <td>NaN</td>\n",
       "      <td>all</td>\n",
       "      <td>0.814184</td>\n",
       "      <td>0.005072</td>\n",
       "      <td>-0.155721</td>\n",
       "      <td>0.374866</td>\n",
       "      <td>580.0</td>\n",
       "      <td>100.0</td>\n",
       "    </tr>\n",
       "    <tr>\n",
       "      <th>9</th>\n",
       "      <td>pop_cities</td>\n",
       "      <td>openai__</td>\n",
       "      <td>PCA_30</td>\n",
       "      <td>GradientBoostingClassifier</td>\n",
       "      <td>NaN</td>\n",
       "      <td>all</td>\n",
       "      <td>0.814661</td>\n",
       "      <td>0.006521</td>\n",
       "      <td>-0.134269</td>\n",
       "      <td>0.460982</td>\n",
       "      <td>580.0</td>\n",
       "      <td>100.0</td>\n",
       "    </tr>\n",
       "    <tr>\n",
       "      <th>0</th>\n",
       "      <td>pop_cities</td>\n",
       "      <td>skrub__minhash_30</td>\n",
       "      <td>passthrough</td>\n",
       "      <td>GradientBoostingClassifier</td>\n",
       "      <td>NaN</td>\n",
       "      <td>all</td>\n",
       "      <td>0.412449</td>\n",
       "      <td>0.003171</td>\n",
       "      <td>-0.168693</td>\n",
       "      <td>0.302632</td>\n",
       "      <td>580.0</td>\n",
       "      <td>100.0</td>\n",
       "    </tr>\n",
       "    <tr>\n",
       "      <th>1</th>\n",
       "      <td>pop_cities</td>\n",
       "      <td>skrub__minhash_30</td>\n",
       "      <td>passthrough</td>\n",
       "      <td>GradientBoostingClassifier</td>\n",
       "      <td>NaN</td>\n",
       "      <td>all</td>\n",
       "      <td>0.345913</td>\n",
       "      <td>0.003055</td>\n",
       "      <td>-0.171183</td>\n",
       "      <td>0.301579</td>\n",
       "      <td>580.0</td>\n",
       "      <td>100.0</td>\n",
       "    </tr>\n",
       "    <tr>\n",
       "      <th>2</th>\n",
       "      <td>pop_cities</td>\n",
       "      <td>skrub__minhash_30</td>\n",
       "      <td>passthrough</td>\n",
       "      <td>GradientBoostingClassifier</td>\n",
       "      <td>NaN</td>\n",
       "      <td>all</td>\n",
       "      <td>0.349522</td>\n",
       "      <td>0.002784</td>\n",
       "      <td>-0.186006</td>\n",
       "      <td>0.255678</td>\n",
       "      <td>580.0</td>\n",
       "      <td>100.0</td>\n",
       "    </tr>\n",
       "    <tr>\n",
       "      <th>3</th>\n",
       "      <td>pop_cities</td>\n",
       "      <td>skrub__minhash_30</td>\n",
       "      <td>passthrough</td>\n",
       "      <td>GradientBoostingClassifier</td>\n",
       "      <td>NaN</td>\n",
       "      <td>all</td>\n",
       "      <td>0.337868</td>\n",
       "      <td>0.002712</td>\n",
       "      <td>-0.156768</td>\n",
       "      <td>0.372677</td>\n",
       "      <td>580.0</td>\n",
       "      <td>100.0</td>\n",
       "    </tr>\n",
       "    <tr>\n",
       "      <th>4</th>\n",
       "      <td>pop_cities</td>\n",
       "      <td>skrub__minhash_30</td>\n",
       "      <td>passthrough</td>\n",
       "      <td>GradientBoostingClassifier</td>\n",
       "      <td>NaN</td>\n",
       "      <td>all</td>\n",
       "      <td>0.334376</td>\n",
       "      <td>0.002777</td>\n",
       "      <td>-0.156993</td>\n",
       "      <td>0.369758</td>\n",
       "      <td>580.0</td>\n",
       "      <td>100.0</td>\n",
       "    </tr>\n",
       "    <tr>\n",
       "      <th>5</th>\n",
       "      <td>pop_cities</td>\n",
       "      <td>skrub__minhash_30</td>\n",
       "      <td>passthrough</td>\n",
       "      <td>GradientBoostingClassifier</td>\n",
       "      <td>NaN</td>\n",
       "      <td>all</td>\n",
       "      <td>0.337067</td>\n",
       "      <td>0.002496</td>\n",
       "      <td>-0.152140</td>\n",
       "      <td>0.389240</td>\n",
       "      <td>580.0</td>\n",
       "      <td>100.0</td>\n",
       "    </tr>\n",
       "    <tr>\n",
       "      <th>6</th>\n",
       "      <td>pop_cities</td>\n",
       "      <td>skrub__minhash_30</td>\n",
       "      <td>passthrough</td>\n",
       "      <td>GradientBoostingClassifier</td>\n",
       "      <td>NaN</td>\n",
       "      <td>all</td>\n",
       "      <td>0.347861</td>\n",
       "      <td>0.003686</td>\n",
       "      <td>-0.184284</td>\n",
       "      <td>0.262571</td>\n",
       "      <td>580.0</td>\n",
       "      <td>100.0</td>\n",
       "    </tr>\n",
       "    <tr>\n",
       "      <th>7</th>\n",
       "      <td>pop_cities</td>\n",
       "      <td>skrub__minhash_30</td>\n",
       "      <td>passthrough</td>\n",
       "      <td>GradientBoostingClassifier</td>\n",
       "      <td>NaN</td>\n",
       "      <td>all</td>\n",
       "      <td>0.339421</td>\n",
       "      <td>0.003142</td>\n",
       "      <td>-0.186120</td>\n",
       "      <td>0.255223</td>\n",
       "      <td>580.0</td>\n",
       "      <td>100.0</td>\n",
       "    </tr>\n",
       "    <tr>\n",
       "      <th>8</th>\n",
       "      <td>pop_cities</td>\n",
       "      <td>skrub__minhash_30</td>\n",
       "      <td>passthrough</td>\n",
       "      <td>GradientBoostingClassifier</td>\n",
       "      <td>NaN</td>\n",
       "      <td>all</td>\n",
       "      <td>0.342511</td>\n",
       "      <td>0.002485</td>\n",
       "      <td>-0.191059</td>\n",
       "      <td>0.233004</td>\n",
       "      <td>580.0</td>\n",
       "      <td>100.0</td>\n",
       "    </tr>\n",
       "    <tr>\n",
       "      <th>9</th>\n",
       "      <td>pop_cities</td>\n",
       "      <td>skrub__minhash_30</td>\n",
       "      <td>passthrough</td>\n",
       "      <td>GradientBoostingClassifier</td>\n",
       "      <td>NaN</td>\n",
       "      <td>all</td>\n",
       "      <td>0.338220</td>\n",
       "      <td>0.002532</td>\n",
       "      <td>-0.181140</td>\n",
       "      <td>0.272821</td>\n",
       "      <td>580.0</td>\n",
       "      <td>100.0</td>\n",
       "    </tr>\n",
       "  </tbody>\n",
       "</table>\n",
       "</div>"
      ],
      "text/plain": [
       "      dataset                  encoding dim_reduction  \\\n",
       "0  pop_cities  lm__all-distilroberta-v1        PCA_30   \n",
       "1  pop_cities  lm__all-distilroberta-v1        PCA_30   \n",
       "2  pop_cities  lm__all-distilroberta-v1        PCA_30   \n",
       "3  pop_cities  lm__all-distilroberta-v1        PCA_30   \n",
       "4  pop_cities  lm__all-distilroberta-v1        PCA_30   \n",
       "5  pop_cities  lm__all-distilroberta-v1        PCA_30   \n",
       "6  pop_cities  lm__all-distilroberta-v1        PCA_30   \n",
       "7  pop_cities  lm__all-distilroberta-v1        PCA_30   \n",
       "8  pop_cities  lm__all-distilroberta-v1        PCA_30   \n",
       "9  pop_cities  lm__all-distilroberta-v1        PCA_30   \n",
       "0  pop_cities     lm__all-mpnet-base-v2        PCA_30   \n",
       "1  pop_cities     lm__all-mpnet-base-v2        PCA_30   \n",
       "2  pop_cities     lm__all-mpnet-base-v2        PCA_30   \n",
       "3  pop_cities     lm__all-mpnet-base-v2        PCA_30   \n",
       "4  pop_cities     lm__all-mpnet-base-v2        PCA_30   \n",
       "5  pop_cities     lm__all-mpnet-base-v2        PCA_30   \n",
       "6  pop_cities     lm__all-mpnet-base-v2        PCA_30   \n",
       "7  pop_cities     lm__all-mpnet-base-v2        PCA_30   \n",
       "8  pop_cities     lm__all-mpnet-base-v2        PCA_30   \n",
       "9  pop_cities     lm__all-mpnet-base-v2        PCA_30   \n",
       "0  pop_cities                  openai__        PCA_30   \n",
       "1  pop_cities                  openai__        PCA_30   \n",
       "2  pop_cities                  openai__        PCA_30   \n",
       "3  pop_cities                  openai__        PCA_30   \n",
       "4  pop_cities                  openai__        PCA_30   \n",
       "5  pop_cities                  openai__        PCA_30   \n",
       "6  pop_cities                  openai__        PCA_30   \n",
       "7  pop_cities                  openai__        PCA_30   \n",
       "8  pop_cities                  openai__        PCA_30   \n",
       "9  pop_cities                  openai__        PCA_30   \n",
       "0  pop_cities         skrub__minhash_30   passthrough   \n",
       "1  pop_cities         skrub__minhash_30   passthrough   \n",
       "2  pop_cities         skrub__minhash_30   passthrough   \n",
       "3  pop_cities         skrub__minhash_30   passthrough   \n",
       "4  pop_cities         skrub__minhash_30   passthrough   \n",
       "5  pop_cities         skrub__minhash_30   passthrough   \n",
       "6  pop_cities         skrub__minhash_30   passthrough   \n",
       "7  pop_cities         skrub__minhash_30   passthrough   \n",
       "8  pop_cities         skrub__minhash_30   passthrough   \n",
       "9  pop_cities         skrub__minhash_30   passthrough   \n",
       "\n",
       "                        model accuracy features  fit_time  score_time  \\\n",
       "0  GradientBoostingClassifier      NaN      all  0.753764    0.004522   \n",
       "1  GradientBoostingClassifier      NaN      all  0.727564    0.003545   \n",
       "2  GradientBoostingClassifier      NaN      all  0.739464    0.004662   \n",
       "3  GradientBoostingClassifier      NaN      all  0.733813    0.003137   \n",
       "4  GradientBoostingClassifier      NaN      all  0.732857    0.002805   \n",
       "5  GradientBoostingClassifier      NaN      all  0.745245    0.002825   \n",
       "6  GradientBoostingClassifier      NaN      all  0.741714    0.004231   \n",
       "7  GradientBoostingClassifier      NaN      all  0.737885    0.002717   \n",
       "8  GradientBoostingClassifier      NaN      all  0.729321    0.003387   \n",
       "9  GradientBoostingClassifier      NaN      all  0.716069    0.003236   \n",
       "0  GradientBoostingClassifier      NaN      all  0.731728    0.003962   \n",
       "1  GradientBoostingClassifier      NaN      all  0.737123    0.003216   \n",
       "2  GradientBoostingClassifier      NaN      all  0.720591    0.002910   \n",
       "3  GradientBoostingClassifier      NaN      all  0.718921    0.003958   \n",
       "4  GradientBoostingClassifier      NaN      all  0.718902    0.003028   \n",
       "5  GradientBoostingClassifier      NaN      all  0.715718    0.003371   \n",
       "6  GradientBoostingClassifier      NaN      all  0.738563    0.005051   \n",
       "7  GradientBoostingClassifier      NaN      all  0.730989    0.003150   \n",
       "8  GradientBoostingClassifier      NaN      all  0.731162    0.002954   \n",
       "9  GradientBoostingClassifier      NaN      all  0.733560    0.003860   \n",
       "0  GradientBoostingClassifier      NaN      all  0.816690    0.005965   \n",
       "1  GradientBoostingClassifier      NaN      all  0.809376    0.007772   \n",
       "2  GradientBoostingClassifier      NaN      all  0.815415    0.006878   \n",
       "3  GradientBoostingClassifier      NaN      all  0.808267    0.004793   \n",
       "4  GradientBoostingClassifier      NaN      all  0.802977    0.004623   \n",
       "5  GradientBoostingClassifier      NaN      all  0.804930    0.006512   \n",
       "6  GradientBoostingClassifier      NaN      all  0.822437    0.004728   \n",
       "7  GradientBoostingClassifier      NaN      all  0.817625    0.004929   \n",
       "8  GradientBoostingClassifier      NaN      all  0.814184    0.005072   \n",
       "9  GradientBoostingClassifier      NaN      all  0.814661    0.006521   \n",
       "0  GradientBoostingClassifier      NaN      all  0.412449    0.003171   \n",
       "1  GradientBoostingClassifier      NaN      all  0.345913    0.003055   \n",
       "2  GradientBoostingClassifier      NaN      all  0.349522    0.002784   \n",
       "3  GradientBoostingClassifier      NaN      all  0.337868    0.002712   \n",
       "4  GradientBoostingClassifier      NaN      all  0.334376    0.002777   \n",
       "5  GradientBoostingClassifier      NaN      all  0.337067    0.002496   \n",
       "6  GradientBoostingClassifier      NaN      all  0.347861    0.003686   \n",
       "7  GradientBoostingClassifier      NaN      all  0.339421    0.003142   \n",
       "8  GradientBoostingClassifier      NaN      all  0.342511    0.002485   \n",
       "9  GradientBoostingClassifier      NaN      all  0.338220    0.002532   \n",
       "\n",
       "   test_neg_mean_squared_error   test_r2  n_train  n_test  \n",
       "0                    -0.145792  0.397306    580.0   100.0  \n",
       "1                    -0.160929  0.343414    580.0   100.0  \n",
       "2                    -0.153874  0.384257    580.0   100.0  \n",
       "3                    -0.140066  0.439511    580.0   100.0  \n",
       "4                    -0.134251  0.461055    580.0   100.0  \n",
       "5                    -0.112165  0.549717    580.0   100.0  \n",
       "6                    -0.167654  0.329114    580.0   100.0  \n",
       "7                    -0.164744  0.340760    580.0   100.0  \n",
       "8                    -0.177024  0.289346    580.0   100.0  \n",
       "9                    -0.122770  0.507145    580.0   100.0  \n",
       "0                    -0.136928  0.433947    580.0   100.0  \n",
       "1                    -0.138080  0.436638    580.0   100.0  \n",
       "2                    -0.131955  0.471969    580.0   100.0  \n",
       "3                    -0.091500  0.633853    580.0   100.0  \n",
       "4                    -0.124495  0.500221    580.0   100.0  \n",
       "5                    -0.116037  0.534176    580.0   100.0  \n",
       "6                    -0.146483  0.413834    580.0   100.0  \n",
       "7                    -0.130084  0.479457    580.0   100.0  \n",
       "8                    -0.158391  0.364148    580.0   100.0  \n",
       "9                    -0.126338  0.492820    580.0   100.0  \n",
       "0                    -0.154909  0.359614    580.0   100.0  \n",
       "1                    -0.144373  0.410963    580.0   100.0  \n",
       "2                    -0.138694  0.445004    580.0   100.0  \n",
       "3                    -0.157642  0.369178    580.0   100.0  \n",
       "4                    -0.144336  0.420571    580.0   100.0  \n",
       "5                    -0.139588  0.439632    580.0   100.0  \n",
       "6                    -0.176951  0.291914    580.0   100.0  \n",
       "7                    -0.144048  0.423578    580.0   100.0  \n",
       "8                    -0.155721  0.374866    580.0   100.0  \n",
       "9                    -0.134269  0.460982    580.0   100.0  \n",
       "0                    -0.168693  0.302632    580.0   100.0  \n",
       "1                    -0.171183  0.301579    580.0   100.0  \n",
       "2                    -0.186006  0.255678    580.0   100.0  \n",
       "3                    -0.156768  0.372677    580.0   100.0  \n",
       "4                    -0.156993  0.369758    580.0   100.0  \n",
       "5                    -0.152140  0.389240    580.0   100.0  \n",
       "6                    -0.184284  0.262571    580.0   100.0  \n",
       "7                    -0.186120  0.255223    580.0   100.0  \n",
       "8                    -0.191059  0.233004    580.0   100.0  \n",
       "9                    -0.181140  0.272821    580.0   100.0  "
      ]
     },
     "execution_count": 17,
     "metadata": {},
     "output_type": "execute_result"
    }
   ],
   "source": [
    "results_pop"
   ]
  },
  {
   "cell_type": "code",
   "execution_count": null,
   "metadata": {},
   "outputs": [],
   "source": [
    "print(2)"
   ]
  },
  {
   "cell_type": "code",
   "execution_count": 2,
   "metadata": {},
   "outputs": [
    {
     "name": "stdout",
     "output_type": "stream",
     "text": [
      "/scratch/lgrinszt/lm_tab/scripts\n"
     ]
    }
   ],
   "source": [
    "%cd lm_tab/scripts"
   ]
  },
  {
   "cell_type": "code",
   "execution_count": 19,
   "metadata": {},
   "outputs": [
    {
     "data": {
      "text/html": [
       "<div>\n",
       "<style scoped>\n",
       "    .dataframe tbody tr th:only-of-type {\n",
       "        vertical-align: middle;\n",
       "    }\n",
       "\n",
       "    .dataframe tbody tr th {\n",
       "        vertical-align: top;\n",
       "    }\n",
       "\n",
       "    .dataframe thead th {\n",
       "        text-align: right;\n",
       "    }\n",
       "</style>\n",
       "<table border=\"1\" class=\"dataframe\">\n",
       "  <thead>\n",
       "    <tr style=\"text-align: right;\">\n",
       "      <th></th>\n",
       "      <th>Unnamed: 0</th>\n",
       "      <th>dataset</th>\n",
       "      <th>encoding</th>\n",
       "      <th>dim_reduction</th>\n",
       "      <th>model</th>\n",
       "      <th>accuracy</th>\n",
       "      <th>features</th>\n",
       "    </tr>\n",
       "  </thead>\n",
       "  <tbody>\n",
       "    <tr>\n",
       "      <th>0</th>\n",
       "      <td>0</td>\n",
       "      <td>pop_cities</td>\n",
       "      <td>lm__all-distilroberta-v1</td>\n",
       "      <td>PCA_5</td>\n",
       "      <td>TabPFNClassifier</td>\n",
       "      <td>0.763333</td>\n",
       "      <td>all</td>\n",
       "    </tr>\n",
       "    <tr>\n",
       "      <th>1</th>\n",
       "      <td>1</td>\n",
       "      <td>pop_cities</td>\n",
       "      <td>lm__all-distilroberta-v1</td>\n",
       "      <td>PCA_5</td>\n",
       "      <td>TabPFNClassifier</td>\n",
       "      <td>0.796667</td>\n",
       "      <td>all</td>\n",
       "    </tr>\n",
       "    <tr>\n",
       "      <th>2</th>\n",
       "      <td>2</td>\n",
       "      <td>pop_cities</td>\n",
       "      <td>lm__all-distilroberta-v1</td>\n",
       "      <td>PCA_5</td>\n",
       "      <td>TabPFNClassifier</td>\n",
       "      <td>0.793333</td>\n",
       "      <td>all</td>\n",
       "    </tr>\n",
       "    <tr>\n",
       "      <th>3</th>\n",
       "      <td>3</td>\n",
       "      <td>pop_cities</td>\n",
       "      <td>lm__all-distilroberta-v1</td>\n",
       "      <td>PCA_5</td>\n",
       "      <td>TabPFNClassifier</td>\n",
       "      <td>0.806667</td>\n",
       "      <td>all</td>\n",
       "    </tr>\n",
       "    <tr>\n",
       "      <th>4</th>\n",
       "      <td>4</td>\n",
       "      <td>pop_cities</td>\n",
       "      <td>lm__all-distilroberta-v1</td>\n",
       "      <td>PCA_5</td>\n",
       "      <td>TabPFNClassifier</td>\n",
       "      <td>0.813333</td>\n",
       "      <td>all</td>\n",
       "    </tr>\n",
       "    <tr>\n",
       "      <th>...</th>\n",
       "      <td>...</td>\n",
       "      <td>...</td>\n",
       "      <td>...</td>\n",
       "      <td>...</td>\n",
       "      <td>...</td>\n",
       "      <td>...</td>\n",
       "      <td>...</td>\n",
       "    </tr>\n",
       "    <tr>\n",
       "      <th>255</th>\n",
       "      <td>0</td>\n",
       "      <td>pop_cities</td>\n",
       "      <td>openai__</td>\n",
       "      <td>passthrough</td>\n",
       "      <td>LogisticRegression</td>\n",
       "      <td>0.756667</td>\n",
       "      <td>all</td>\n",
       "    </tr>\n",
       "    <tr>\n",
       "      <th>256</th>\n",
       "      <td>1</td>\n",
       "      <td>pop_cities</td>\n",
       "      <td>openai__</td>\n",
       "      <td>passthrough</td>\n",
       "      <td>LogisticRegression</td>\n",
       "      <td>0.760000</td>\n",
       "      <td>all</td>\n",
       "    </tr>\n",
       "    <tr>\n",
       "      <th>257</th>\n",
       "      <td>2</td>\n",
       "      <td>pop_cities</td>\n",
       "      <td>openai__</td>\n",
       "      <td>passthrough</td>\n",
       "      <td>LogisticRegression</td>\n",
       "      <td>0.756667</td>\n",
       "      <td>all</td>\n",
       "    </tr>\n",
       "    <tr>\n",
       "      <th>258</th>\n",
       "      <td>3</td>\n",
       "      <td>pop_cities</td>\n",
       "      <td>openai__</td>\n",
       "      <td>passthrough</td>\n",
       "      <td>LogisticRegression</td>\n",
       "      <td>0.756667</td>\n",
       "      <td>all</td>\n",
       "    </tr>\n",
       "    <tr>\n",
       "      <th>259</th>\n",
       "      <td>4</td>\n",
       "      <td>pop_cities</td>\n",
       "      <td>openai__</td>\n",
       "      <td>passthrough</td>\n",
       "      <td>LogisticRegression</td>\n",
       "      <td>0.763333</td>\n",
       "      <td>all</td>\n",
       "    </tr>\n",
       "  </tbody>\n",
       "</table>\n",
       "<p>260 rows × 7 columns</p>\n",
       "</div>"
      ],
      "text/plain": [
       "     Unnamed: 0     dataset                  encoding dim_reduction  \\\n",
       "0             0  pop_cities  lm__all-distilroberta-v1         PCA_5   \n",
       "1             1  pop_cities  lm__all-distilroberta-v1         PCA_5   \n",
       "2             2  pop_cities  lm__all-distilroberta-v1         PCA_5   \n",
       "3             3  pop_cities  lm__all-distilroberta-v1         PCA_5   \n",
       "4             4  pop_cities  lm__all-distilroberta-v1         PCA_5   \n",
       "..          ...         ...                       ...           ...   \n",
       "255           0  pop_cities                  openai__   passthrough   \n",
       "256           1  pop_cities                  openai__   passthrough   \n",
       "257           2  pop_cities                  openai__   passthrough   \n",
       "258           3  pop_cities                  openai__   passthrough   \n",
       "259           4  pop_cities                  openai__   passthrough   \n",
       "\n",
       "                  model  accuracy features  \n",
       "0      TabPFNClassifier  0.763333      all  \n",
       "1      TabPFNClassifier  0.796667      all  \n",
       "2      TabPFNClassifier  0.793333      all  \n",
       "3      TabPFNClassifier  0.806667      all  \n",
       "4      TabPFNClassifier  0.813333      all  \n",
       "..                  ...       ...      ...  \n",
       "255  LogisticRegression  0.756667      all  \n",
       "256  LogisticRegression  0.760000      all  \n",
       "257  LogisticRegression  0.756667      all  \n",
       "258  LogisticRegression  0.756667      all  \n",
       "259  LogisticRegression  0.763333      all  \n",
       "\n",
       "[260 rows x 7 columns]"
      ]
     },
     "execution_count": 19,
     "metadata": {},
     "output_type": "execute_result"
    }
   ],
   "source": [
    "df_pop"
   ]
  },
  {
   "cell_type": "code",
   "execution_count": 21,
   "metadata": {},
   "outputs": [
    {
     "data": {
      "text/html": [
       "<div>\n",
       "<style scoped>\n",
       "    .dataframe tbody tr th:only-of-type {\n",
       "        vertical-align: middle;\n",
       "    }\n",
       "\n",
       "    .dataframe tbody tr th {\n",
       "        vertical-align: top;\n",
       "    }\n",
       "\n",
       "    .dataframe thead th {\n",
       "        text-align: right;\n",
       "    }\n",
       "</style>\n",
       "<table border=\"1\" class=\"dataframe\">\n",
       "  <thead>\n",
       "    <tr style=\"text-align: right;\">\n",
       "      <th></th>\n",
       "      <th>Unnamed: 0</th>\n",
       "      <th>dataset</th>\n",
       "      <th>encoding</th>\n",
       "      <th>dim_reduction</th>\n",
       "      <th>model</th>\n",
       "      <th>accuracy</th>\n",
       "      <th>features</th>\n",
       "    </tr>\n",
       "  </thead>\n",
       "  <tbody>\n",
       "    <tr>\n",
       "      <th>60</th>\n",
       "      <td>0</td>\n",
       "      <td>pop_cities</td>\n",
       "      <td>lm__all-distilroberta-v1</td>\n",
       "      <td>passthrough</td>\n",
       "      <td>LogisticRegression</td>\n",
       "      <td>0.773333</td>\n",
       "      <td>all</td>\n",
       "    </tr>\n",
       "    <tr>\n",
       "      <th>61</th>\n",
       "      <td>1</td>\n",
       "      <td>pop_cities</td>\n",
       "      <td>lm__all-distilroberta-v1</td>\n",
       "      <td>passthrough</td>\n",
       "      <td>LogisticRegression</td>\n",
       "      <td>0.780000</td>\n",
       "      <td>all</td>\n",
       "    </tr>\n",
       "    <tr>\n",
       "      <th>62</th>\n",
       "      <td>2</td>\n",
       "      <td>pop_cities</td>\n",
       "      <td>lm__all-distilroberta-v1</td>\n",
       "      <td>passthrough</td>\n",
       "      <td>LogisticRegression</td>\n",
       "      <td>0.793333</td>\n",
       "      <td>all</td>\n",
       "    </tr>\n",
       "    <tr>\n",
       "      <th>63</th>\n",
       "      <td>3</td>\n",
       "      <td>pop_cities</td>\n",
       "      <td>lm__all-distilroberta-v1</td>\n",
       "      <td>passthrough</td>\n",
       "      <td>LogisticRegression</td>\n",
       "      <td>0.780000</td>\n",
       "      <td>all</td>\n",
       "    </tr>\n",
       "    <tr>\n",
       "      <th>64</th>\n",
       "      <td>4</td>\n",
       "      <td>pop_cities</td>\n",
       "      <td>lm__all-distilroberta-v1</td>\n",
       "      <td>passthrough</td>\n",
       "      <td>LogisticRegression</td>\n",
       "      <td>0.796667</td>\n",
       "      <td>all</td>\n",
       "    </tr>\n",
       "    <tr>\n",
       "      <th>125</th>\n",
       "      <td>0</td>\n",
       "      <td>pop_cities</td>\n",
       "      <td>lm__all-mpnet-base-v2</td>\n",
       "      <td>passthrough</td>\n",
       "      <td>LogisticRegression</td>\n",
       "      <td>0.820000</td>\n",
       "      <td>all</td>\n",
       "    </tr>\n",
       "    <tr>\n",
       "      <th>126</th>\n",
       "      <td>1</td>\n",
       "      <td>pop_cities</td>\n",
       "      <td>lm__all-mpnet-base-v2</td>\n",
       "      <td>passthrough</td>\n",
       "      <td>LogisticRegression</td>\n",
       "      <td>0.820000</td>\n",
       "      <td>all</td>\n",
       "    </tr>\n",
       "    <tr>\n",
       "      <th>127</th>\n",
       "      <td>2</td>\n",
       "      <td>pop_cities</td>\n",
       "      <td>lm__all-mpnet-base-v2</td>\n",
       "      <td>passthrough</td>\n",
       "      <td>LogisticRegression</td>\n",
       "      <td>0.843333</td>\n",
       "      <td>all</td>\n",
       "    </tr>\n",
       "    <tr>\n",
       "      <th>128</th>\n",
       "      <td>3</td>\n",
       "      <td>pop_cities</td>\n",
       "      <td>lm__all-mpnet-base-v2</td>\n",
       "      <td>passthrough</td>\n",
       "      <td>LogisticRegression</td>\n",
       "      <td>0.843333</td>\n",
       "      <td>all</td>\n",
       "    </tr>\n",
       "    <tr>\n",
       "      <th>129</th>\n",
       "      <td>4</td>\n",
       "      <td>pop_cities</td>\n",
       "      <td>lm__all-mpnet-base-v2</td>\n",
       "      <td>passthrough</td>\n",
       "      <td>LogisticRegression</td>\n",
       "      <td>0.830000</td>\n",
       "      <td>all</td>\n",
       "    </tr>\n",
       "    <tr>\n",
       "      <th>190</th>\n",
       "      <td>0</td>\n",
       "      <td>pop_cities</td>\n",
       "      <td>lm__multi-qa-mpnet-base-dot-v1</td>\n",
       "      <td>passthrough</td>\n",
       "      <td>LogisticRegression</td>\n",
       "      <td>0.826667</td>\n",
       "      <td>all</td>\n",
       "    </tr>\n",
       "    <tr>\n",
       "      <th>191</th>\n",
       "      <td>1</td>\n",
       "      <td>pop_cities</td>\n",
       "      <td>lm__multi-qa-mpnet-base-dot-v1</td>\n",
       "      <td>passthrough</td>\n",
       "      <td>LogisticRegression</td>\n",
       "      <td>0.850000</td>\n",
       "      <td>all</td>\n",
       "    </tr>\n",
       "    <tr>\n",
       "      <th>192</th>\n",
       "      <td>2</td>\n",
       "      <td>pop_cities</td>\n",
       "      <td>lm__multi-qa-mpnet-base-dot-v1</td>\n",
       "      <td>passthrough</td>\n",
       "      <td>LogisticRegression</td>\n",
       "      <td>0.806667</td>\n",
       "      <td>all</td>\n",
       "    </tr>\n",
       "    <tr>\n",
       "      <th>193</th>\n",
       "      <td>3</td>\n",
       "      <td>pop_cities</td>\n",
       "      <td>lm__multi-qa-mpnet-base-dot-v1</td>\n",
       "      <td>passthrough</td>\n",
       "      <td>LogisticRegression</td>\n",
       "      <td>0.843333</td>\n",
       "      <td>all</td>\n",
       "    </tr>\n",
       "    <tr>\n",
       "      <th>194</th>\n",
       "      <td>4</td>\n",
       "      <td>pop_cities</td>\n",
       "      <td>lm__multi-qa-mpnet-base-dot-v1</td>\n",
       "      <td>passthrough</td>\n",
       "      <td>LogisticRegression</td>\n",
       "      <td>0.843333</td>\n",
       "      <td>all</td>\n",
       "    </tr>\n",
       "    <tr>\n",
       "      <th>255</th>\n",
       "      <td>0</td>\n",
       "      <td>pop_cities</td>\n",
       "      <td>openai__</td>\n",
       "      <td>passthrough</td>\n",
       "      <td>LogisticRegression</td>\n",
       "      <td>0.756667</td>\n",
       "      <td>all</td>\n",
       "    </tr>\n",
       "    <tr>\n",
       "      <th>256</th>\n",
       "      <td>1</td>\n",
       "      <td>pop_cities</td>\n",
       "      <td>openai__</td>\n",
       "      <td>passthrough</td>\n",
       "      <td>LogisticRegression</td>\n",
       "      <td>0.760000</td>\n",
       "      <td>all</td>\n",
       "    </tr>\n",
       "    <tr>\n",
       "      <th>257</th>\n",
       "      <td>2</td>\n",
       "      <td>pop_cities</td>\n",
       "      <td>openai__</td>\n",
       "      <td>passthrough</td>\n",
       "      <td>LogisticRegression</td>\n",
       "      <td>0.756667</td>\n",
       "      <td>all</td>\n",
       "    </tr>\n",
       "    <tr>\n",
       "      <th>258</th>\n",
       "      <td>3</td>\n",
       "      <td>pop_cities</td>\n",
       "      <td>openai__</td>\n",
       "      <td>passthrough</td>\n",
       "      <td>LogisticRegression</td>\n",
       "      <td>0.756667</td>\n",
       "      <td>all</td>\n",
       "    </tr>\n",
       "    <tr>\n",
       "      <th>259</th>\n",
       "      <td>4</td>\n",
       "      <td>pop_cities</td>\n",
       "      <td>openai__</td>\n",
       "      <td>passthrough</td>\n",
       "      <td>LogisticRegression</td>\n",
       "      <td>0.763333</td>\n",
       "      <td>all</td>\n",
       "    </tr>\n",
       "  </tbody>\n",
       "</table>\n",
       "</div>"
      ],
      "text/plain": [
       "     Unnamed: 0     dataset                        encoding dim_reduction  \\\n",
       "60            0  pop_cities        lm__all-distilroberta-v1   passthrough   \n",
       "61            1  pop_cities        lm__all-distilroberta-v1   passthrough   \n",
       "62            2  pop_cities        lm__all-distilroberta-v1   passthrough   \n",
       "63            3  pop_cities        lm__all-distilroberta-v1   passthrough   \n",
       "64            4  pop_cities        lm__all-distilroberta-v1   passthrough   \n",
       "125           0  pop_cities           lm__all-mpnet-base-v2   passthrough   \n",
       "126           1  pop_cities           lm__all-mpnet-base-v2   passthrough   \n",
       "127           2  pop_cities           lm__all-mpnet-base-v2   passthrough   \n",
       "128           3  pop_cities           lm__all-mpnet-base-v2   passthrough   \n",
       "129           4  pop_cities           lm__all-mpnet-base-v2   passthrough   \n",
       "190           0  pop_cities  lm__multi-qa-mpnet-base-dot-v1   passthrough   \n",
       "191           1  pop_cities  lm__multi-qa-mpnet-base-dot-v1   passthrough   \n",
       "192           2  pop_cities  lm__multi-qa-mpnet-base-dot-v1   passthrough   \n",
       "193           3  pop_cities  lm__multi-qa-mpnet-base-dot-v1   passthrough   \n",
       "194           4  pop_cities  lm__multi-qa-mpnet-base-dot-v1   passthrough   \n",
       "255           0  pop_cities                        openai__   passthrough   \n",
       "256           1  pop_cities                        openai__   passthrough   \n",
       "257           2  pop_cities                        openai__   passthrough   \n",
       "258           3  pop_cities                        openai__   passthrough   \n",
       "259           4  pop_cities                        openai__   passthrough   \n",
       "\n",
       "                  model  accuracy features  \n",
       "60   LogisticRegression  0.773333      all  \n",
       "61   LogisticRegression  0.780000      all  \n",
       "62   LogisticRegression  0.793333      all  \n",
       "63   LogisticRegression  0.780000      all  \n",
       "64   LogisticRegression  0.796667      all  \n",
       "125  LogisticRegression  0.820000      all  \n",
       "126  LogisticRegression  0.820000      all  \n",
       "127  LogisticRegression  0.843333      all  \n",
       "128  LogisticRegression  0.843333      all  \n",
       "129  LogisticRegression  0.830000      all  \n",
       "190  LogisticRegression  0.826667      all  \n",
       "191  LogisticRegression  0.850000      all  \n",
       "192  LogisticRegression  0.806667      all  \n",
       "193  LogisticRegression  0.843333      all  \n",
       "194  LogisticRegression  0.843333      all  \n",
       "255  LogisticRegression  0.756667      all  \n",
       "256  LogisticRegression  0.760000      all  \n",
       "257  LogisticRegression  0.756667      all  \n",
       "258  LogisticRegression  0.756667      all  \n",
       "259  LogisticRegression  0.763333      all  "
      ]
     },
     "execution_count": 21,
     "metadata": {},
     "output_type": "execute_result"
    }
   ],
   "source": [
    "df"
   ]
  },
  {
   "cell_type": "code",
   "execution_count": 31,
   "metadata": {},
   "outputs": [
    {
     "data": {
      "text/plain": [
       "Unnamed: 0       0\n",
       "dataset          0\n",
       "encoding         0\n",
       "dim_reduction    0\n",
       "model            0\n",
       "accuracy         0\n",
       "features         0\n",
       "dtype: int64"
      ]
     },
     "execution_count": 31,
     "metadata": {},
     "output_type": "execute_result"
    }
   ],
   "source": [
    "pd.isnull(df_actors).sum()"
   ]
  },
  {
   "cell_type": "code",
   "execution_count": 4,
   "metadata": {},
   "outputs": [
    {
     "data": {
      "text/plain": [
       "array(['lm__all-distilroberta-v1', 'lm__all-mpnet-base-v2',\n",
       "       'lm__multi-qa-mpnet-base-dot-v1', 'openai__'], dtype=object)"
      ]
     },
     "execution_count": 4,
     "metadata": {},
     "output_type": "execute_result"
    }
   ],
   "source": [
    " pd.read_csv(\"results_pop.csv\")[\"encoding\"].unique()"
   ]
  },
  {
   "cell_type": "code",
   "execution_count": 22,
   "metadata": {},
   "outputs": [
    {
     "data": {
      "image/png": "[encoded data removed]",
      "text/plain": [
       "<Figure size 500x500 with 1 Axes>"
      ]
     },
     "metadata": {},
     "output_type": "display_data"
    }
   ],
   "source": [
    "# plot results\n",
    "import seaborn as sns\n",
    "import matplotlib.pyplot as plt\n",
    "import pandas as pd\n",
    "import plotly.express as px\n",
    "\n",
    "#df = pd.read_csv(\"results_pop.csv\")\n",
    "#results_new = pd.read_csv(\"results_pop_openai.csv\")\n",
    "#melted_results = pd.concat([results_old, results_new])\n",
    "#melted_results = results_pop\n",
    "#df_actors = pd.read_csv(\"results_actors.csv\")\n",
    "df = pd.read_csv(\"results_pop_reg.csv\")\n",
    "#df = pd.concat([df_actors, df_pop])\n",
    "#df = results_pop\n",
    "#df = df_po\n",
    "#df = df[df[\"model\"] == \"LogisticRegression\"]\n",
    "#df = df[df[\"dim_reduction\"] == \"passthrough\"]\n",
    "#df = df[df[\"model\"] == \"LogisticRegression\"]\n",
    "#melted_results = results_pop.groupby(['dataset', 'model', 'dim_reduction', 'encoding', \"features\"]).mean().reset_index()\n",
    "# filter encoding\n",
    "#melted_results = melted_results[melted_results[\"encoding\"] == \"lm__all-mpnet-base-v2\"]\n",
    "df['encoding'] = df['encoding'].replace('openai__','OpenAI')\n",
    "# replace \"lm__\" by \"SentenceTransformer_\" as prefix\n",
    "df['encoding'] = df['encoding'].replace('lm__all-distilroberta-v1', 'all-distilroberta-v1')\n",
    "df['encoding'] = df['encoding'].replace('lm__all-mpnet-base-v2', 'all-mpnet-base-v2')\n",
    "df[\"encoding\"] = df[\"encoding\"].replace(\"skrub__minhash_30\", \"MinHashEncoder (Skrub)\")\n",
    "# only these encodings\n",
    "df = df[df['encoding'].isin(['all-distilroberta-v1', 'all-mpnet-base-v2', 'OpenAI', \"MinHashEncoder (Skrub)\"])]\n",
    "\n",
    "# # Create the plot\n",
    "# fig = px.box(\n",
    "#     data_frame=df,\n",
    "#     x=\"accuracy\",\n",
    "#     #color=\"model\",\n",
    "#     y=\"encoding\",\n",
    "#     #shape=\"model\",\n",
    "#     #color=\"dim_reduction\",\n",
    "#     #hover_data=[\"model\", \"dim_reduction\", \"encoding\", \"features\"],\n",
    "#     #labels={\"accuracy\": \"Accuracy\", \"dataset\": \"Dataset\", \"model\": \"Model\"},\n",
    "#     labels={\"accuracy\": \"Accuracy\", \"encoding\": \"\"},\n",
    "#     height=600,\n",
    "#     width=700,\n",
    "# )\n",
    "# # bigger font\n",
    "# fig.update_layout(font=dict(size=20))\n",
    "# # vertical line for random guessing\n",
    "# fig.add_vline(x=0.5, line_width=3, line_dash=\"dash\", line_color=\"black\")\n",
    "# # start x at 0.5\n",
    "# fig.update_xaxes(range=[0.45, 0.90])\n",
    "# fig.show()\n",
    "\n",
    "# use seaborn\n",
    "sns.set_theme(style=\"whitegrid\")\n",
    "# layout paper\n",
    "sns.set_context(\"paper\")\n",
    "sns.set(font_scale=1.5)\n",
    "\n",
    "# Create the plot\n",
    "fig, ax = plt.subplots(figsize=(5, 5))\n",
    "sns.boxplot(x=\"test_neg_mean_squared_error\", y=\"encoding\", data=df, ax=ax, palette=\"Set2\")\n",
    "# bigger font\n",
    "# scale 1.5\n",
    "ax.set_xlabel(\"Accuracy\")\n",
    "ax.set_ylabel(\"\")\n",
    "# vertical line for random guessing\n",
    "#ax.axvline(x=0.5, linestyle=\"--\", color=\"black\")\n",
    "\n",
    "# save plot\n",
    "fig.savefig(\"../figures/results_pop.pdf\", bbox_inches='tight')\n",
    "# save plot\n",
    "#fig.write_image(\"../figures/results_pop_pred.pdf\")"
   ]
  },
  {
   "cell_type": "code",
   "execution_count": 16,
   "metadata": {},
   "outputs": [
    {
     "name": "stdout",
     "output_type": "stream",
     "text": [
      "520\n"
     ]
    },
    {
     "data": {
      "application/vnd.plotly.v1+json": {
       "config": {
        "plotlyServerURL": "https://plot.ly"
       },
       "data": [
        {
         "alignmentgroup": "True",
         "boxpoints": "all",
         "customdata": [
          [
           "TabPFNClassifier",
           "PCA_5",
           "lm__all-distilroberta-v1",
           true
          ],
          [
           "TabPFNClassifier",
           "PCA_5",
           "lm__all-distilroberta-v1",
           true
          ],
          [
           "TabPFNClassifier",
           "PCA_5",
           "lm__all-distilroberta-v1",
           true
          ],
          [
           "TabPFNClassifier",
           "PCA_5",
           "lm__all-distilroberta-v1",
           true
          ],
          [
           "TabPFNClassifier",
           "PCA_5",
           "lm__all-distilroberta-v1",
           true
          ],
          [
           "TabPFNClassifier",
           "PCA_30",
           "lm__all-distilroberta-v1",
           true
          ],
          [
           "TabPFNClassifier",
           "PCA_30",
           "lm__all-distilroberta-v1",
           true
          ],
          [
           "TabPFNClassifier",
           "PCA_30",
           "lm__all-distilroberta-v1",
           true
          ],
          [
           "TabPFNClassifier",
           "PCA_30",
           "lm__all-distilroberta-v1",
           true
          ],
          [
           "TabPFNClassifier",
           "PCA_30",
           "lm__all-distilroberta-v1",
           true
          ],
          [
           "TabPFNClassifier",
           "PCA_90",
           "lm__all-distilroberta-v1",
           true
          ],
          [
           "TabPFNClassifier",
           "PCA_90",
           "lm__all-distilroberta-v1",
           true
          ],
          [
           "TabPFNClassifier",
           "PCA_90",
           "lm__all-distilroberta-v1",
           true
          ],
          [
           "TabPFNClassifier",
           "PCA_90",
           "lm__all-distilroberta-v1",
           true
          ],
          [
           "TabPFNClassifier",
           "PCA_90",
           "lm__all-distilroberta-v1",
           true
          ],
          [
           "TabPFNClassifier",
           "subset_90",
           "lm__all-distilroberta-v1",
           true
          ],
          [
           "TabPFNClassifier",
           "subset_90",
           "lm__all-distilroberta-v1",
           true
          ],
          [
           "TabPFNClassifier",
           "subset_90",
           "lm__all-distilroberta-v1",
           true
          ],
          [
           "TabPFNClassifier",
           "subset_90",
           "lm__all-distilroberta-v1",
           true
          ],
          [
           "TabPFNClassifier",
           "subset_90",
           "lm__all-distilroberta-v1",
           true
          ],
          [
           "TabPFNClassifier",
           "PCA_5",
           "lm__all-mpnet-base-v2",
           true
          ],
          [
           "TabPFNClassifier",
           "PCA_5",
           "lm__all-mpnet-base-v2",
           true
          ],
          [
           "TabPFNClassifier",
           "PCA_5",
           "lm__all-mpnet-base-v2",
           true
          ],
          [
           "TabPFNClassifier",
           "PCA_5",
           "lm__all-mpnet-base-v2",
           true
          ],
          [
           "TabPFNClassifier",
           "PCA_5",
           "lm__all-mpnet-base-v2",
           true
          ],
          [
           "TabPFNClassifier",
           "PCA_30",
           "lm__all-mpnet-base-v2",
           true
          ],
          [
           "TabPFNClassifier",
           "PCA_30",
           "lm__all-mpnet-base-v2",
           true
          ],
          [
           "TabPFNClassifier",
           "PCA_30",
           "lm__all-mpnet-base-v2",
           true
          ],
          [
           "TabPFNClassifier",
           "PCA_30",
           "lm__all-mpnet-base-v2",
           true
          ],
          [
           "TabPFNClassifier",
           "PCA_30",
           "lm__all-mpnet-base-v2",
           true
          ],
          [
           "TabPFNClassifier",
           "PCA_90",
           "lm__all-mpnet-base-v2",
           true
          ],
          [
           "TabPFNClassifier",
           "PCA_90",
           "lm__all-mpnet-base-v2",
           true
          ],
          [
           "TabPFNClassifier",
           "PCA_90",
           "lm__all-mpnet-base-v2",
           true
          ],
          [
           "TabPFNClassifier",
           "PCA_90",
           "lm__all-mpnet-base-v2",
           true
          ],
          [
           "TabPFNClassifier",
           "PCA_90",
           "lm__all-mpnet-base-v2",
           true
          ],
          [
           "TabPFNClassifier",
           "subset_90",
           "lm__all-mpnet-base-v2",
           true
          ],
          [
           "TabPFNClassifier",
           "subset_90",
           "lm__all-mpnet-base-v2",
           true
          ],
          [
           "TabPFNClassifier",
           "subset_90",
           "lm__all-mpnet-base-v2",
           true
          ],
          [
           "TabPFNClassifier",
           "subset_90",
           "lm__all-mpnet-base-v2",
           true
          ],
          [
           "TabPFNClassifier",
           "subset_90",
           "lm__all-mpnet-base-v2",
           true
          ],
          [
           "TabPFNClassifier",
           "PCA_5",
           "lm__multi-qa-mpnet-base-dot-v1",
           true
          ],
          [
           "TabPFNClassifier",
           "PCA_5",
           "lm__multi-qa-mpnet-base-dot-v1",
           true
          ],
          [
           "TabPFNClassifier",
           "PCA_5",
           "lm__multi-qa-mpnet-base-dot-v1",
           true
          ],
          [
           "TabPFNClassifier",
           "PCA_5",
           "lm__multi-qa-mpnet-base-dot-v1",
           true
          ],
          [
           "TabPFNClassifier",
           "PCA_5",
           "lm__multi-qa-mpnet-base-dot-v1",
           true
          ],
          [
           "TabPFNClassifier",
           "PCA_30",
           "lm__multi-qa-mpnet-base-dot-v1",
           true
          ],
          [
           "TabPFNClassifier",
           "PCA_30",
           "lm__multi-qa-mpnet-base-dot-v1",
           true
          ],
          [
           "TabPFNClassifier",
           "PCA_30",
           "lm__multi-qa-mpnet-base-dot-v1",
           true
          ],
          [
           "TabPFNClassifier",
           "PCA_30",
           "lm__multi-qa-mpnet-base-dot-v1",
           true
          ],
          [
           "TabPFNClassifier",
           "PCA_30",
           "lm__multi-qa-mpnet-base-dot-v1",
           true
          ],
          [
           "TabPFNClassifier",
           "PCA_90",
           "lm__multi-qa-mpnet-base-dot-v1",
           true
          ],
          [
           "TabPFNClassifier",
           "PCA_90",
           "lm__multi-qa-mpnet-base-dot-v1",
           true
          ],
          [
           "TabPFNClassifier",
           "PCA_90",
           "lm__multi-qa-mpnet-base-dot-v1",
           true
          ],
          [
           "TabPFNClassifier",
           "PCA_90",
           "lm__multi-qa-mpnet-base-dot-v1",
           true
          ],
          [
           "TabPFNClassifier",
           "PCA_90",
           "lm__multi-qa-mpnet-base-dot-v1",
           true
          ],
          [
           "TabPFNClassifier",
           "subset_90",
           "lm__multi-qa-mpnet-base-dot-v1",
           true
          ],
          [
           "TabPFNClassifier",
           "subset_90",
           "lm__multi-qa-mpnet-base-dot-v1",
           true
          ],
          [
           "TabPFNClassifier",
           "subset_90",
           "lm__multi-qa-mpnet-base-dot-v1",
           true
          ],
          [
           "TabPFNClassifier",
           "subset_90",
           "lm__multi-qa-mpnet-base-dot-v1",
           true
          ],
          [
           "TabPFNClassifier",
           "subset_90",
           "lm__multi-qa-mpnet-base-dot-v1",
           true
          ],
          [
           "TabPFNClassifier",
           "PCA_5",
           "openai__",
           true
          ],
          [
           "TabPFNClassifier",
           "PCA_5",
           "openai__",
           true
          ],
          [
           "TabPFNClassifier",
           "PCA_5",
           "openai__",
           true
          ],
          [
           "TabPFNClassifier",
           "PCA_5",
           "openai__",
           true
          ],
          [
           "TabPFNClassifier",
           "PCA_5",
           "openai__",
           true
          ],
          [
           "TabPFNClassifier",
           "PCA_30",
           "openai__",
           true
          ],
          [
           "TabPFNClassifier",
           "PCA_30",
           "openai__",
           true
          ],
          [
           "TabPFNClassifier",
           "PCA_30",
           "openai__",
           true
          ],
          [
           "TabPFNClassifier",
           "PCA_30",
           "openai__",
           true
          ],
          [
           "TabPFNClassifier",
           "PCA_30",
           "openai__",
           true
          ],
          [
           "TabPFNClassifier",
           "PCA_90",
           "openai__",
           true
          ],
          [
           "TabPFNClassifier",
           "PCA_90",
           "openai__",
           true
          ],
          [
           "TabPFNClassifier",
           "PCA_90",
           "openai__",
           true
          ],
          [
           "TabPFNClassifier",
           "PCA_90",
           "openai__",
           true
          ],
          [
           "TabPFNClassifier",
           "PCA_90",
           "openai__",
           true
          ],
          [
           "TabPFNClassifier",
           "subset_90",
           "openai__",
           true
          ],
          [
           "TabPFNClassifier",
           "subset_90",
           "openai__",
           true
          ],
          [
           "TabPFNClassifier",
           "subset_90",
           "openai__",
           true
          ],
          [
           "TabPFNClassifier",
           "subset_90",
           "openai__",
           true
          ],
          [
           "TabPFNClassifier",
           "subset_90",
           "openai__",
           true
          ]
         ],
         "fillcolor": "rgba(255,255,255,0)",
         "hoveron": "points",
         "hovertemplate": "sentences=%{customdata[3]}<br>Model=%{customdata[0]}<br>Accuracy=%{x}<br>features=%{y}<br>dim_reduction=%{customdata[1]}<br>encoding=%{customdata[2]}<extra></extra>",
         "legendgroup": "True",
         "line": {
          "color": "rgba(255,255,255,0)"
         },
         "marker": {
          "color": "#636efa"
         },
         "name": "True",
         "offsetgroup": "True",
         "orientation": "h",
         "pointpos": 0,
         "showlegend": true,
         "type": "box",
         "x": [
          0.7566666666666667,
          0.7466666666666667,
          0.7466666666666667,
          0.7766666666666666,
          0.77,
          0.7533333333333333,
          0.7466666666666667,
          0.79,
          0.7533333333333333,
          0.7766666666666666,
          0.75,
          0.7866666666666666,
          0.7766666666666666,
          0.75,
          0.78,
          0.77,
          0.7966666666666666,
          0.8,
          0.7633333333333333,
          0.8,
          0.7633333333333333,
          0.7466666666666667,
          0.7533333333333333,
          0.78,
          0.7766666666666666,
          0.78,
          0.7666666666666667,
          0.79,
          0.7833333333333333,
          0.7766666666666666,
          0.8066666666666666,
          0.8133333333333334,
          0.8033333333333333,
          0.77,
          0.7766666666666666,
          0.79,
          0.7866666666666666,
          0.79,
          0.7966666666666666,
          0.7966666666666666,
          0.7766666666666666,
          0.7466666666666667,
          0.7566666666666667,
          0.7533333333333333,
          0.7866666666666666,
          0.77,
          0.7633333333333333,
          0.78,
          0.7733333333333333,
          0.79,
          0.76,
          0.78,
          0.79,
          0.7866666666666666,
          0.8,
          0.7733333333333333,
          0.7666666666666667,
          0.7833333333333333,
          0.78,
          0.7833333333333333,
          0.77,
          0.77,
          0.7533333333333333,
          0.7966666666666666,
          0.7933333333333333,
          0.79,
          0.79,
          0.7833333333333333,
          0.82,
          0.8133333333333334,
          0.8066666666666666,
          0.8166666666666667,
          0.81,
          0.7966666666666666,
          0.8066666666666666,
          0.7833333333333333,
          0.78,
          0.78,
          0.7633333333333333,
          0.7866666666666666
         ],
         "x0": " ",
         "xaxis": "x3",
         "y": [
          "all",
          "all",
          "all",
          "all",
          "all",
          "all",
          "all",
          "all",
          "all",
          "all",
          "all",
          "all",
          "all",
          "all",
          "all",
          "all",
          "all",
          "all",
          "all",
          "all",
          "all",
          "all",
          "all",
          "all",
          "all",
          "all",
          "all",
          "all",
          "all",
          "all",
          "all",
          "all",
          "all",
          "all",
          "all",
          "all",
          "all",
          "all",
          "all",
          "all",
          "all",
          "all",
          "all",
          "all",
          "all",
          "all",
          "all",
          "all",
          "all",
          "all",
          "all",
          "all",
          "all",
          "all",
          "all",
          "all",
          "all",
          "all",
          "all",
          "all",
          "all",
          "all",
          "all",
          "all",
          "all",
          "all",
          "all",
          "all",
          "all",
          "all",
          "all",
          "all",
          "all",
          "all",
          "all",
          "all",
          "all",
          "all",
          "all",
          "all"
         ],
         "y0": " ",
         "yaxis": "y3"
        },
        {
         "alignmentgroup": "True",
         "boxpoints": "all",
         "customdata": [
          [
           "GradientBoostingClassifier",
           "PCA_5",
           "lm__all-distilroberta-v1",
           true
          ],
          [
           "GradientBoostingClassifier",
           "PCA_5",
           "lm__all-distilroberta-v1",
           true
          ],
          [
           "GradientBoostingClassifier",
           "PCA_5",
           "lm__all-distilroberta-v1",
           true
          ],
          [
           "GradientBoostingClassifier",
           "PCA_5",
           "lm__all-distilroberta-v1",
           true
          ],
          [
           "GradientBoostingClassifier",
           "PCA_5",
           "lm__all-distilroberta-v1",
           true
          ],
          [
           "GradientBoostingClassifier",
           "PCA_30",
           "lm__all-distilroberta-v1",
           true
          ],
          [
           "GradientBoostingClassifier",
           "PCA_30",
           "lm__all-distilroberta-v1",
           true
          ],
          [
           "GradientBoostingClassifier",
           "PCA_30",
           "lm__all-distilroberta-v1",
           true
          ],
          [
           "GradientBoostingClassifier",
           "PCA_30",
           "lm__all-distilroberta-v1",
           true
          ],
          [
           "GradientBoostingClassifier",
           "PCA_30",
           "lm__all-distilroberta-v1",
           true
          ],
          [
           "GradientBoostingClassifier",
           "PCA_90",
           "lm__all-distilroberta-v1",
           true
          ],
          [
           "GradientBoostingClassifier",
           "PCA_90",
           "lm__all-distilroberta-v1",
           true
          ],
          [
           "GradientBoostingClassifier",
           "PCA_90",
           "lm__all-distilroberta-v1",
           true
          ],
          [
           "GradientBoostingClassifier",
           "PCA_90",
           "lm__all-distilroberta-v1",
           true
          ],
          [
           "GradientBoostingClassifier",
           "PCA_90",
           "lm__all-distilroberta-v1",
           true
          ],
          [
           "GradientBoostingClassifier",
           "subset_90",
           "lm__all-distilroberta-v1",
           true
          ],
          [
           "GradientBoostingClassifier",
           "subset_90",
           "lm__all-distilroberta-v1",
           true
          ],
          [
           "GradientBoostingClassifier",
           "subset_90",
           "lm__all-distilroberta-v1",
           true
          ],
          [
           "GradientBoostingClassifier",
           "subset_90",
           "lm__all-distilroberta-v1",
           true
          ],
          [
           "GradientBoostingClassifier",
           "subset_90",
           "lm__all-distilroberta-v1",
           true
          ],
          [
           "GradientBoostingClassifier",
           "PCA_5",
           "lm__all-mpnet-base-v2",
           true
          ],
          [
           "GradientBoostingClassifier",
           "PCA_5",
           "lm__all-mpnet-base-v2",
           true
          ],
          [
           "GradientBoostingClassifier",
           "PCA_5",
           "lm__all-mpnet-base-v2",
           true
          ],
          [
           "GradientBoostingClassifier",
           "PCA_5",
           "lm__all-mpnet-base-v2",
           true
          ],
          [
           "GradientBoostingClassifier",
           "PCA_5",
           "lm__all-mpnet-base-v2",
           true
          ],
          [
           "GradientBoostingClassifier",
           "PCA_30",
           "lm__all-mpnet-base-v2",
           true
          ],
          [
           "GradientBoostingClassifier",
           "PCA_30",
           "lm__all-mpnet-base-v2",
           true
          ],
          [
           "GradientBoostingClassifier",
           "PCA_30",
           "lm__all-mpnet-base-v2",
           true
          ],
          [
           "GradientBoostingClassifier",
           "PCA_30",
           "lm__all-mpnet-base-v2",
           true
          ],
          [
           "GradientBoostingClassifier",
           "PCA_30",
           "lm__all-mpnet-base-v2",
           true
          ],
          [
           "GradientBoostingClassifier",
           "PCA_90",
           "lm__all-mpnet-base-v2",
           true
          ],
          [
           "GradientBoostingClassifier",
           "PCA_90",
           "lm__all-mpnet-base-v2",
           true
          ],
          [
           "GradientBoostingClassifier",
           "PCA_90",
           "lm__all-mpnet-base-v2",
           true
          ],
          [
           "GradientBoostingClassifier",
           "PCA_90",
           "lm__all-mpnet-base-v2",
           true
          ],
          [
           "GradientBoostingClassifier",
           "PCA_90",
           "lm__all-mpnet-base-v2",
           true
          ],
          [
           "GradientBoostingClassifier",
           "subset_90",
           "lm__all-mpnet-base-v2",
           true
          ],
          [
           "GradientBoostingClassifier",
           "subset_90",
           "lm__all-mpnet-base-v2",
           true
          ],
          [
           "GradientBoostingClassifier",
           "subset_90",
           "lm__all-mpnet-base-v2",
           true
          ],
          [
           "GradientBoostingClassifier",
           "subset_90",
           "lm__all-mpnet-base-v2",
           true
          ],
          [
           "GradientBoostingClassifier",
           "subset_90",
           "lm__all-mpnet-base-v2",
           true
          ],
          [
           "GradientBoostingClassifier",
           "PCA_5",
           "lm__multi-qa-mpnet-base-dot-v1",
           true
          ],
          [
           "GradientBoostingClassifier",
           "PCA_5",
           "lm__multi-qa-mpnet-base-dot-v1",
           true
          ],
          [
           "GradientBoostingClassifier",
           "PCA_5",
           "lm__multi-qa-mpnet-base-dot-v1",
           true
          ],
          [
           "GradientBoostingClassifier",
           "PCA_5",
           "lm__multi-qa-mpnet-base-dot-v1",
           true
          ],
          [
           "GradientBoostingClassifier",
           "PCA_5",
           "lm__multi-qa-mpnet-base-dot-v1",
           true
          ],
          [
           "GradientBoostingClassifier",
           "PCA_30",
           "lm__multi-qa-mpnet-base-dot-v1",
           true
          ],
          [
           "GradientBoostingClassifier",
           "PCA_30",
           "lm__multi-qa-mpnet-base-dot-v1",
           true
          ],
          [
           "GradientBoostingClassifier",
           "PCA_30",
           "lm__multi-qa-mpnet-base-dot-v1",
           true
          ],
          [
           "GradientBoostingClassifier",
           "PCA_30",
           "lm__multi-qa-mpnet-base-dot-v1",
           true
          ],
          [
           "GradientBoostingClassifier",
           "PCA_30",
           "lm__multi-qa-mpnet-base-dot-v1",
           true
          ],
          [
           "GradientBoostingClassifier",
           "PCA_90",
           "lm__multi-qa-mpnet-base-dot-v1",
           true
          ],
          [
           "GradientBoostingClassifier",
           "PCA_90",
           "lm__multi-qa-mpnet-base-dot-v1",
           true
          ],
          [
           "GradientBoostingClassifier",
           "PCA_90",
           "lm__multi-qa-mpnet-base-dot-v1",
           true
          ],
          [
           "GradientBoostingClassifier",
           "PCA_90",
           "lm__multi-qa-mpnet-base-dot-v1",
           true
          ],
          [
           "GradientBoostingClassifier",
           "PCA_90",
           "lm__multi-qa-mpnet-base-dot-v1",
           true
          ],
          [
           "GradientBoostingClassifier",
           "subset_90",
           "lm__multi-qa-mpnet-base-dot-v1",
           true
          ],
          [
           "GradientBoostingClassifier",
           "subset_90",
           "lm__multi-qa-mpnet-base-dot-v1",
           true
          ],
          [
           "GradientBoostingClassifier",
           "subset_90",
           "lm__multi-qa-mpnet-base-dot-v1",
           true
          ],
          [
           "GradientBoostingClassifier",
           "subset_90",
           "lm__multi-qa-mpnet-base-dot-v1",
           true
          ],
          [
           "GradientBoostingClassifier",
           "subset_90",
           "lm__multi-qa-mpnet-base-dot-v1",
           true
          ],
          [
           "GradientBoostingClassifier",
           "PCA_5",
           "openai__",
           true
          ],
          [
           "GradientBoostingClassifier",
           "PCA_5",
           "openai__",
           true
          ],
          [
           "GradientBoostingClassifier",
           "PCA_5",
           "openai__",
           true
          ],
          [
           "GradientBoostingClassifier",
           "PCA_5",
           "openai__",
           true
          ],
          [
           "GradientBoostingClassifier",
           "PCA_5",
           "openai__",
           true
          ],
          [
           "GradientBoostingClassifier",
           "PCA_30",
           "openai__",
           true
          ],
          [
           "GradientBoostingClassifier",
           "PCA_30",
           "openai__",
           true
          ],
          [
           "GradientBoostingClassifier",
           "PCA_30",
           "openai__",
           true
          ],
          [
           "GradientBoostingClassifier",
           "PCA_30",
           "openai__",
           true
          ],
          [
           "GradientBoostingClassifier",
           "PCA_30",
           "openai__",
           true
          ],
          [
           "GradientBoostingClassifier",
           "PCA_90",
           "openai__",
           true
          ],
          [
           "GradientBoostingClassifier",
           "PCA_90",
           "openai__",
           true
          ],
          [
           "GradientBoostingClassifier",
           "PCA_90",
           "openai__",
           true
          ],
          [
           "GradientBoostingClassifier",
           "PCA_90",
           "openai__",
           true
          ],
          [
           "GradientBoostingClassifier",
           "PCA_90",
           "openai__",
           true
          ],
          [
           "GradientBoostingClassifier",
           "subset_90",
           "openai__",
           true
          ],
          [
           "GradientBoostingClassifier",
           "subset_90",
           "openai__",
           true
          ],
          [
           "GradientBoostingClassifier",
           "subset_90",
           "openai__",
           true
          ],
          [
           "GradientBoostingClassifier",
           "subset_90",
           "openai__",
           true
          ],
          [
           "GradientBoostingClassifier",
           "subset_90",
           "openai__",
           true
          ]
         ],
         "fillcolor": "rgba(255,255,255,0)",
         "hoveron": "points",
         "hovertemplate": "sentences=%{customdata[3]}<br>Model=%{customdata[0]}<br>Accuracy=%{x}<br>features=%{y}<br>dim_reduction=%{customdata[1]}<br>encoding=%{customdata[2]}<extra></extra>",
         "legendgroup": "True",
         "line": {
          "color": "rgba(255,255,255,0)"
         },
         "marker": {
          "color": "#636efa"
         },
         "name": "True",
         "offsetgroup": "True",
         "orientation": "h",
         "pointpos": 0,
         "showlegend": false,
         "type": "box",
         "x": [
          0.7566666666666667,
          0.75,
          0.7066666666666667,
          0.74,
          0.7133333333333334,
          0.7633333333333333,
          0.7633333333333333,
          0.77,
          0.7333333333333333,
          0.7566666666666667,
          0.75,
          0.7833333333333333,
          0.7833333333333333,
          0.7733333333333333,
          0.7833333333333333,
          0.75,
          0.78,
          0.77,
          0.7566666666666667,
          0.77,
          0.7233333333333334,
          0.7266666666666667,
          0.7133333333333334,
          0.7433333333333333,
          0.73,
          0.7633333333333333,
          0.7833333333333333,
          0.7733333333333333,
          0.7566666666666667,
          0.7633333333333333,
          0.7766666666666666,
          0.7933333333333333,
          0.77,
          0.75,
          0.7833333333333333,
          0.7333333333333333,
          0.76,
          0.7533333333333333,
          0.7566666666666667,
          0.7733333333333333,
          0.7133333333333334,
          0.7366666666666667,
          0.7233333333333334,
          0.7433333333333333,
          0.77,
          0.7533333333333333,
          0.7266666666666667,
          0.74,
          0.77,
          0.7533333333333333,
          0.7133333333333334,
          0.78,
          0.77,
          0.7933333333333333,
          0.7866666666666666,
          0.7266666666666667,
          0.7533333333333333,
          0.7366666666666667,
          0.77,
          0.7433333333333333,
          0.7166666666666667,
          0.7566666666666667,
          0.7566666666666667,
          0.7666666666666667,
          0.7666666666666667,
          0.7566666666666667,
          0.76,
          0.7866666666666666,
          0.79,
          0.79,
          0.77,
          0.77,
          0.7766666666666666,
          0.8133333333333334,
          0.7733333333333333,
          0.7566666666666667,
          0.7633333333333333,
          0.73,
          0.7333333333333333,
          0.79
         ],
         "x0": " ",
         "xaxis": "x2",
         "y": [
          "all",
          "all",
          "all",
          "all",
          "all",
          "all",
          "all",
          "all",
          "all",
          "all",
          "all",
          "all",
          "all",
          "all",
          "all",
          "all",
          "all",
          "all",
          "all",
          "all",
          "all",
          "all",
          "all",
          "all",
          "all",
          "all",
          "all",
          "all",
          "all",
          "all",
          "all",
          "all",
          "all",
          "all",
          "all",
          "all",
          "all",
          "all",
          "all",
          "all",
          "all",
          "all",
          "all",
          "all",
          "all",
          "all",
          "all",
          "all",
          "all",
          "all",
          "all",
          "all",
          "all",
          "all",
          "all",
          "all",
          "all",
          "all",
          "all",
          "all",
          "all",
          "all",
          "all",
          "all",
          "all",
          "all",
          "all",
          "all",
          "all",
          "all",
          "all",
          "all",
          "all",
          "all",
          "all",
          "all",
          "all",
          "all",
          "all",
          "all"
         ],
         "y0": " ",
         "yaxis": "y2"
        },
        {
         "alignmentgroup": "True",
         "boxpoints": "all",
         "customdata": [
          [
           "LogisticRegression",
           "PCA_5",
           "lm__all-distilroberta-v1",
           true
          ],
          [
           "LogisticRegression",
           "PCA_5",
           "lm__all-distilroberta-v1",
           true
          ],
          [
           "LogisticRegression",
           "PCA_5",
           "lm__all-distilroberta-v1",
           true
          ],
          [
           "LogisticRegression",
           "PCA_5",
           "lm__all-distilroberta-v1",
           true
          ],
          [
           "LogisticRegression",
           "PCA_5",
           "lm__all-distilroberta-v1",
           true
          ],
          [
           "LogisticRegression",
           "PCA_30",
           "lm__all-distilroberta-v1",
           true
          ],
          [
           "LogisticRegression",
           "PCA_30",
           "lm__all-distilroberta-v1",
           true
          ],
          [
           "LogisticRegression",
           "PCA_30",
           "lm__all-distilroberta-v1",
           true
          ],
          [
           "LogisticRegression",
           "PCA_30",
           "lm__all-distilroberta-v1",
           true
          ],
          [
           "LogisticRegression",
           "PCA_30",
           "lm__all-distilroberta-v1",
           true
          ],
          [
           "LogisticRegression",
           "PCA_90",
           "lm__all-distilroberta-v1",
           true
          ],
          [
           "LogisticRegression",
           "PCA_90",
           "lm__all-distilroberta-v1",
           true
          ],
          [
           "LogisticRegression",
           "PCA_90",
           "lm__all-distilroberta-v1",
           true
          ],
          [
           "LogisticRegression",
           "PCA_90",
           "lm__all-distilroberta-v1",
           true
          ],
          [
           "LogisticRegression",
           "PCA_90",
           "lm__all-distilroberta-v1",
           true
          ],
          [
           "LogisticRegression",
           "subset_90",
           "lm__all-distilroberta-v1",
           true
          ],
          [
           "LogisticRegression",
           "subset_90",
           "lm__all-distilroberta-v1",
           true
          ],
          [
           "LogisticRegression",
           "subset_90",
           "lm__all-distilroberta-v1",
           true
          ],
          [
           "LogisticRegression",
           "subset_90",
           "lm__all-distilroberta-v1",
           true
          ],
          [
           "LogisticRegression",
           "subset_90",
           "lm__all-distilroberta-v1",
           true
          ],
          [
           "LogisticRegression",
           "passthrough",
           "lm__all-distilroberta-v1",
           true
          ],
          [
           "LogisticRegression",
           "passthrough",
           "lm__all-distilroberta-v1",
           true
          ],
          [
           "LogisticRegression",
           "passthrough",
           "lm__all-distilroberta-v1",
           true
          ],
          [
           "LogisticRegression",
           "passthrough",
           "lm__all-distilroberta-v1",
           true
          ],
          [
           "LogisticRegression",
           "passthrough",
           "lm__all-distilroberta-v1",
           true
          ],
          [
           "LogisticRegression",
           "PCA_5",
           "lm__all-mpnet-base-v2",
           true
          ],
          [
           "LogisticRegression",
           "PCA_5",
           "lm__all-mpnet-base-v2",
           true
          ],
          [
           "LogisticRegression",
           "PCA_5",
           "lm__all-mpnet-base-v2",
           true
          ],
          [
           "LogisticRegression",
           "PCA_5",
           "lm__all-mpnet-base-v2",
           true
          ],
          [
           "LogisticRegression",
           "PCA_5",
           "lm__all-mpnet-base-v2",
           true
          ],
          [
           "LogisticRegression",
           "PCA_30",
           "lm__all-mpnet-base-v2",
           true
          ],
          [
           "LogisticRegression",
           "PCA_30",
           "lm__all-mpnet-base-v2",
           true
          ],
          [
           "LogisticRegression",
           "PCA_30",
           "lm__all-mpnet-base-v2",
           true
          ],
          [
           "LogisticRegression",
           "PCA_30",
           "lm__all-mpnet-base-v2",
           true
          ],
          [
           "LogisticRegression",
           "PCA_30",
           "lm__all-mpnet-base-v2",
           true
          ],
          [
           "LogisticRegression",
           "PCA_90",
           "lm__all-mpnet-base-v2",
           true
          ],
          [
           "LogisticRegression",
           "PCA_90",
           "lm__all-mpnet-base-v2",
           true
          ],
          [
           "LogisticRegression",
           "PCA_90",
           "lm__all-mpnet-base-v2",
           true
          ],
          [
           "LogisticRegression",
           "PCA_90",
           "lm__all-mpnet-base-v2",
           true
          ],
          [
           "LogisticRegression",
           "PCA_90",
           "lm__all-mpnet-base-v2",
           true
          ],
          [
           "LogisticRegression",
           "subset_90",
           "lm__all-mpnet-base-v2",
           true
          ],
          [
           "LogisticRegression",
           "subset_90",
           "lm__all-mpnet-base-v2",
           true
          ],
          [
           "LogisticRegression",
           "subset_90",
           "lm__all-mpnet-base-v2",
           true
          ],
          [
           "LogisticRegression",
           "subset_90",
           "lm__all-mpnet-base-v2",
           true
          ],
          [
           "LogisticRegression",
           "subset_90",
           "lm__all-mpnet-base-v2",
           true
          ],
          [
           "LogisticRegression",
           "passthrough",
           "lm__all-mpnet-base-v2",
           true
          ],
          [
           "LogisticRegression",
           "passthrough",
           "lm__all-mpnet-base-v2",
           true
          ],
          [
           "LogisticRegression",
           "passthrough",
           "lm__all-mpnet-base-v2",
           true
          ],
          [
           "LogisticRegression",
           "passthrough",
           "lm__all-mpnet-base-v2",
           true
          ],
          [
           "LogisticRegression",
           "passthrough",
           "lm__all-mpnet-base-v2",
           true
          ],
          [
           "LogisticRegression",
           "PCA_5",
           "lm__multi-qa-mpnet-base-dot-v1",
           true
          ],
          [
           "LogisticRegression",
           "PCA_5",
           "lm__multi-qa-mpnet-base-dot-v1",
           true
          ],
          [
           "LogisticRegression",
           "PCA_5",
           "lm__multi-qa-mpnet-base-dot-v1",
           true
          ],
          [
           "LogisticRegression",
           "PCA_5",
           "lm__multi-qa-mpnet-base-dot-v1",
           true
          ],
          [
           "LogisticRegression",
           "PCA_5",
           "lm__multi-qa-mpnet-base-dot-v1",
           true
          ],
          [
           "LogisticRegression",
           "PCA_30",
           "lm__multi-qa-mpnet-base-dot-v1",
           true
          ],
          [
           "LogisticRegression",
           "PCA_30",
           "lm__multi-qa-mpnet-base-dot-v1",
           true
          ],
          [
           "LogisticRegression",
           "PCA_30",
           "lm__multi-qa-mpnet-base-dot-v1",
           true
          ],
          [
           "LogisticRegression",
           "PCA_30",
           "lm__multi-qa-mpnet-base-dot-v1",
           true
          ],
          [
           "LogisticRegression",
           "PCA_30",
           "lm__multi-qa-mpnet-base-dot-v1",
           true
          ],
          [
           "LogisticRegression",
           "PCA_90",
           "lm__multi-qa-mpnet-base-dot-v1",
           true
          ],
          [
           "LogisticRegression",
           "PCA_90",
           "lm__multi-qa-mpnet-base-dot-v1",
           true
          ],
          [
           "LogisticRegression",
           "PCA_90",
           "lm__multi-qa-mpnet-base-dot-v1",
           true
          ],
          [
           "LogisticRegression",
           "PCA_90",
           "lm__multi-qa-mpnet-base-dot-v1",
           true
          ],
          [
           "LogisticRegression",
           "PCA_90",
           "lm__multi-qa-mpnet-base-dot-v1",
           true
          ],
          [
           "LogisticRegression",
           "subset_90",
           "lm__multi-qa-mpnet-base-dot-v1",
           true
          ],
          [
           "LogisticRegression",
           "subset_90",
           "lm__multi-qa-mpnet-base-dot-v1",
           true
          ],
          [
           "LogisticRegression",
           "subset_90",
           "lm__multi-qa-mpnet-base-dot-v1",
           true
          ],
          [
           "LogisticRegression",
           "subset_90",
           "lm__multi-qa-mpnet-base-dot-v1",
           true
          ],
          [
           "LogisticRegression",
           "subset_90",
           "lm__multi-qa-mpnet-base-dot-v1",
           true
          ],
          [
           "LogisticRegression",
           "passthrough",
           "lm__multi-qa-mpnet-base-dot-v1",
           true
          ],
          [
           "LogisticRegression",
           "passthrough",
           "lm__multi-qa-mpnet-base-dot-v1",
           true
          ],
          [
           "LogisticRegression",
           "passthrough",
           "lm__multi-qa-mpnet-base-dot-v1",
           true
          ],
          [
           "LogisticRegression",
           "passthrough",
           "lm__multi-qa-mpnet-base-dot-v1",
           true
          ],
          [
           "LogisticRegression",
           "passthrough",
           "lm__multi-qa-mpnet-base-dot-v1",
           true
          ],
          [
           "LogisticRegression",
           "PCA_5",
           "openai__",
           true
          ],
          [
           "LogisticRegression",
           "PCA_5",
           "openai__",
           true
          ],
          [
           "LogisticRegression",
           "PCA_5",
           "openai__",
           true
          ],
          [
           "LogisticRegression",
           "PCA_5",
           "openai__",
           true
          ],
          [
           "LogisticRegression",
           "PCA_5",
           "openai__",
           true
          ],
          [
           "LogisticRegression",
           "PCA_30",
           "openai__",
           true
          ],
          [
           "LogisticRegression",
           "PCA_30",
           "openai__",
           true
          ],
          [
           "LogisticRegression",
           "PCA_30",
           "openai__",
           true
          ],
          [
           "LogisticRegression",
           "PCA_30",
           "openai__",
           true
          ],
          [
           "LogisticRegression",
           "PCA_30",
           "openai__",
           true
          ],
          [
           "LogisticRegression",
           "PCA_90",
           "openai__",
           true
          ],
          [
           "LogisticRegression",
           "PCA_90",
           "openai__",
           true
          ],
          [
           "LogisticRegression",
           "PCA_90",
           "openai__",
           true
          ],
          [
           "LogisticRegression",
           "PCA_90",
           "openai__",
           true
          ],
          [
           "LogisticRegression",
           "PCA_90",
           "openai__",
           true
          ],
          [
           "LogisticRegression",
           "subset_90",
           "openai__",
           true
          ],
          [
           "LogisticRegression",
           "subset_90",
           "openai__",
           true
          ],
          [
           "LogisticRegression",
           "subset_90",
           "openai__",
           true
          ],
          [
           "LogisticRegression",
           "subset_90",
           "openai__",
           true
          ],
          [
           "LogisticRegression",
           "subset_90",
           "openai__",
           true
          ],
          [
           "LogisticRegression",
           "passthrough",
           "openai__",
           true
          ],
          [
           "LogisticRegression",
           "passthrough",
           "openai__",
           true
          ],
          [
           "LogisticRegression",
           "passthrough",
           "openai__",
           true
          ],
          [
           "LogisticRegression",
           "passthrough",
           "openai__",
           true
          ],
          [
           "LogisticRegression",
           "passthrough",
           "openai__",
           true
          ]
         ],
         "fillcolor": "rgba(255,255,255,0)",
         "hoveron": "points",
         "hovertemplate": "sentences=%{customdata[3]}<br>Model=%{customdata[0]}<br>Accuracy=%{x}<br>features=%{y}<br>dim_reduction=%{customdata[1]}<br>encoding=%{customdata[2]}<extra></extra>",
         "legendgroup": "True",
         "line": {
          "color": "rgba(255,255,255,0)"
         },
         "marker": {
          "color": "#636efa"
         },
         "name": "True",
         "offsetgroup": "True",
         "orientation": "h",
         "pointpos": 0,
         "showlegend": false,
         "type": "box",
         "x": [
          0.76,
          0.7566666666666667,
          0.7633333333333333,
          0.76,
          0.7666666666666667,
          0.7533333333333333,
          0.7733333333333333,
          0.7766666666666666,
          0.7633333333333333,
          0.7733333333333333,
          0.7733333333333333,
          0.7733333333333333,
          0.7833333333333333,
          0.7733333333333333,
          0.7733333333333333,
          0.74,
          0.75,
          0.7533333333333333,
          0.7366666666666667,
          0.7566666666666667,
          0.7766666666666666,
          0.7766666666666666,
          0.7833333333333333,
          0.7766666666666666,
          0.7733333333333333,
          0.73,
          0.75,
          0.7566666666666667,
          0.7466666666666667,
          0.77,
          0.76,
          0.77,
          0.7933333333333333,
          0.7866666666666666,
          0.7733333333333333,
          0.7933333333333333,
          0.7733333333333333,
          0.8,
          0.7833333333333333,
          0.78,
          0.74,
          0.7633333333333333,
          0.75,
          0.7566666666666667,
          0.7666666666666667,
          0.7966666666666666,
          0.7833333333333333,
          0.81,
          0.8,
          0.7833333333333333,
          0.73,
          0.75,
          0.7366666666666667,
          0.7433333333333333,
          0.7833333333333333,
          0.7533333333333333,
          0.7433333333333333,
          0.8033333333333333,
          0.7833333333333333,
          0.76,
          0.7766666666666666,
          0.7833333333333333,
          0.7833333333333333,
          0.7966666666666666,
          0.7933333333333333,
          0.7666666666666667,
          0.7566666666666667,
          0.7566666666666667,
          0.7633333333333333,
          0.7533333333333333,
          0.78,
          0.81,
          0.8133333333333334,
          0.81,
          0.7933333333333333,
          0.75,
          0.7566666666666667,
          0.7433333333333333,
          0.75,
          0.77,
          0.75,
          0.76,
          0.76,
          0.7533333333333333,
          0.7633333333333333,
          0.7566666666666667,
          0.76,
          0.7633333333333333,
          0.7566666666666667,
          0.7666666666666667,
          0.5,
          0.64,
          0.7533333333333333,
          0.73,
          0.7666666666666667,
          0.7566666666666667,
          0.7633333333333333,
          0.7633333333333333,
          0.7566666666666667,
          0.7666666666666667
         ],
         "x0": " ",
         "xaxis": "x",
         "y": [
          "all",
          "all",
          "all",
          "all",
          "all",
          "all",
          "all",
          "all",
          "all",
          "all",
          "all",
          "all",
          "all",
          "all",
          "all",
          "all",
          "all",
          "all",
          "all",
          "all",
          "all",
          "all",
          "all",
          "all",
          "all",
          "all",
          "all",
          "all",
          "all",
          "all",
          "all",
          "all",
          "all",
          "all",
          "all",
          "all",
          "all",
          "all",
          "all",
          "all",
          "all",
          "all",
          "all",
          "all",
          "all",
          "all",
          "all",
          "all",
          "all",
          "all",
          "all",
          "all",
          "all",
          "all",
          "all",
          "all",
          "all",
          "all",
          "all",
          "all",
          "all",
          "all",
          "all",
          "all",
          "all",
          "all",
          "all",
          "all",
          "all",
          "all",
          "all",
          "all",
          "all",
          "all",
          "all",
          "all",
          "all",
          "all",
          "all",
          "all",
          "all",
          "all",
          "all",
          "all",
          "all",
          "all",
          "all",
          "all",
          "all",
          "all",
          "all",
          "all",
          "all",
          "all",
          "all",
          "all",
          "all",
          "all",
          "all",
          "all"
         ],
         "y0": " ",
         "yaxis": "y"
        },
        {
         "alignmentgroup": "True",
         "boxpoints": "all",
         "customdata": [
          [
           "TabPFNClassifier",
           "PCA_5",
           "lm__all-distilroberta-v1",
           false
          ],
          [
           "TabPFNClassifier",
           "PCA_5",
           "lm__all-distilroberta-v1",
           false
          ],
          [
           "TabPFNClassifier",
           "PCA_5",
           "lm__all-distilroberta-v1",
           false
          ],
          [
           "TabPFNClassifier",
           "PCA_5",
           "lm__all-distilroberta-v1",
           false
          ],
          [
           "TabPFNClassifier",
           "PCA_5",
           "lm__all-distilroberta-v1",
           false
          ],
          [
           "TabPFNClassifier",
           "PCA_30",
           "lm__all-distilroberta-v1",
           false
          ],
          [
           "TabPFNClassifier",
           "PCA_30",
           "lm__all-distilroberta-v1",
           false
          ],
          [
           "TabPFNClassifier",
           "PCA_30",
           "lm__all-distilroberta-v1",
           false
          ],
          [
           "TabPFNClassifier",
           "PCA_30",
           "lm__all-distilroberta-v1",
           false
          ],
          [
           "TabPFNClassifier",
           "PCA_30",
           "lm__all-distilroberta-v1",
           false
          ],
          [
           "TabPFNClassifier",
           "PCA_90",
           "lm__all-distilroberta-v1",
           false
          ],
          [
           "TabPFNClassifier",
           "PCA_90",
           "lm__all-distilroberta-v1",
           false
          ],
          [
           "TabPFNClassifier",
           "PCA_90",
           "lm__all-distilroberta-v1",
           false
          ],
          [
           "TabPFNClassifier",
           "PCA_90",
           "lm__all-distilroberta-v1",
           false
          ],
          [
           "TabPFNClassifier",
           "PCA_90",
           "lm__all-distilroberta-v1",
           false
          ],
          [
           "TabPFNClassifier",
           "subset_90",
           "lm__all-distilroberta-v1",
           false
          ],
          [
           "TabPFNClassifier",
           "subset_90",
           "lm__all-distilroberta-v1",
           false
          ],
          [
           "TabPFNClassifier",
           "subset_90",
           "lm__all-distilroberta-v1",
           false
          ],
          [
           "TabPFNClassifier",
           "subset_90",
           "lm__all-distilroberta-v1",
           false
          ],
          [
           "TabPFNClassifier",
           "subset_90",
           "lm__all-distilroberta-v1",
           false
          ],
          [
           "TabPFNClassifier",
           "PCA_5",
           "lm__all-mpnet-base-v2",
           false
          ],
          [
           "TabPFNClassifier",
           "PCA_5",
           "lm__all-mpnet-base-v2",
           false
          ],
          [
           "TabPFNClassifier",
           "PCA_5",
           "lm__all-mpnet-base-v2",
           false
          ],
          [
           "TabPFNClassifier",
           "PCA_5",
           "lm__all-mpnet-base-v2",
           false
          ],
          [
           "TabPFNClassifier",
           "PCA_5",
           "lm__all-mpnet-base-v2",
           false
          ],
          [
           "TabPFNClassifier",
           "PCA_30",
           "lm__all-mpnet-base-v2",
           false
          ],
          [
           "TabPFNClassifier",
           "PCA_30",
           "lm__all-mpnet-base-v2",
           false
          ],
          [
           "TabPFNClassifier",
           "PCA_30",
           "lm__all-mpnet-base-v2",
           false
          ],
          [
           "TabPFNClassifier",
           "PCA_30",
           "lm__all-mpnet-base-v2",
           false
          ],
          [
           "TabPFNClassifier",
           "PCA_30",
           "lm__all-mpnet-base-v2",
           false
          ],
          [
           "TabPFNClassifier",
           "PCA_90",
           "lm__all-mpnet-base-v2",
           false
          ],
          [
           "TabPFNClassifier",
           "PCA_90",
           "lm__all-mpnet-base-v2",
           false
          ],
          [
           "TabPFNClassifier",
           "PCA_90",
           "lm__all-mpnet-base-v2",
           false
          ],
          [
           "TabPFNClassifier",
           "PCA_90",
           "lm__all-mpnet-base-v2",
           false
          ],
          [
           "TabPFNClassifier",
           "PCA_90",
           "lm__all-mpnet-base-v2",
           false
          ],
          [
           "TabPFNClassifier",
           "subset_90",
           "lm__all-mpnet-base-v2",
           false
          ],
          [
           "TabPFNClassifier",
           "subset_90",
           "lm__all-mpnet-base-v2",
           false
          ],
          [
           "TabPFNClassifier",
           "subset_90",
           "lm__all-mpnet-base-v2",
           false
          ],
          [
           "TabPFNClassifier",
           "subset_90",
           "lm__all-mpnet-base-v2",
           false
          ],
          [
           "TabPFNClassifier",
           "subset_90",
           "lm__all-mpnet-base-v2",
           false
          ],
          [
           "TabPFNClassifier",
           "PCA_5",
           "lm__multi-qa-mpnet-base-dot-v1",
           false
          ],
          [
           "TabPFNClassifier",
           "PCA_5",
           "lm__multi-qa-mpnet-base-dot-v1",
           false
          ],
          [
           "TabPFNClassifier",
           "PCA_5",
           "lm__multi-qa-mpnet-base-dot-v1",
           false
          ],
          [
           "TabPFNClassifier",
           "PCA_5",
           "lm__multi-qa-mpnet-base-dot-v1",
           false
          ],
          [
           "TabPFNClassifier",
           "PCA_5",
           "lm__multi-qa-mpnet-base-dot-v1",
           false
          ],
          [
           "TabPFNClassifier",
           "PCA_30",
           "lm__multi-qa-mpnet-base-dot-v1",
           false
          ],
          [
           "TabPFNClassifier",
           "PCA_30",
           "lm__multi-qa-mpnet-base-dot-v1",
           false
          ],
          [
           "TabPFNClassifier",
           "PCA_30",
           "lm__multi-qa-mpnet-base-dot-v1",
           false
          ],
          [
           "TabPFNClassifier",
           "PCA_30",
           "lm__multi-qa-mpnet-base-dot-v1",
           false
          ],
          [
           "TabPFNClassifier",
           "PCA_30",
           "lm__multi-qa-mpnet-base-dot-v1",
           false
          ],
          [
           "TabPFNClassifier",
           "PCA_90",
           "lm__multi-qa-mpnet-base-dot-v1",
           false
          ],
          [
           "TabPFNClassifier",
           "PCA_90",
           "lm__multi-qa-mpnet-base-dot-v1",
           false
          ],
          [
           "TabPFNClassifier",
           "PCA_90",
           "lm__multi-qa-mpnet-base-dot-v1",
           false
          ],
          [
           "TabPFNClassifier",
           "PCA_90",
           "lm__multi-qa-mpnet-base-dot-v1",
           false
          ],
          [
           "TabPFNClassifier",
           "PCA_90",
           "lm__multi-qa-mpnet-base-dot-v1",
           false
          ],
          [
           "TabPFNClassifier",
           "subset_90",
           "lm__multi-qa-mpnet-base-dot-v1",
           false
          ],
          [
           "TabPFNClassifier",
           "subset_90",
           "lm__multi-qa-mpnet-base-dot-v1",
           false
          ],
          [
           "TabPFNClassifier",
           "subset_90",
           "lm__multi-qa-mpnet-base-dot-v1",
           false
          ],
          [
           "TabPFNClassifier",
           "subset_90",
           "lm__multi-qa-mpnet-base-dot-v1",
           false
          ],
          [
           "TabPFNClassifier",
           "subset_90",
           "lm__multi-qa-mpnet-base-dot-v1",
           false
          ],
          [
           "TabPFNClassifier",
           "PCA_5",
           "openai__",
           false
          ],
          [
           "TabPFNClassifier",
           "PCA_5",
           "openai__",
           false
          ],
          [
           "TabPFNClassifier",
           "PCA_5",
           "openai__",
           false
          ],
          [
           "TabPFNClassifier",
           "PCA_5",
           "openai__",
           false
          ],
          [
           "TabPFNClassifier",
           "PCA_5",
           "openai__",
           false
          ],
          [
           "TabPFNClassifier",
           "PCA_30",
           "openai__",
           false
          ],
          [
           "TabPFNClassifier",
           "PCA_30",
           "openai__",
           false
          ],
          [
           "TabPFNClassifier",
           "PCA_30",
           "openai__",
           false
          ],
          [
           "TabPFNClassifier",
           "PCA_30",
           "openai__",
           false
          ],
          [
           "TabPFNClassifier",
           "PCA_30",
           "openai__",
           false
          ],
          [
           "TabPFNClassifier",
           "PCA_90",
           "openai__",
           false
          ],
          [
           "TabPFNClassifier",
           "PCA_90",
           "openai__",
           false
          ],
          [
           "TabPFNClassifier",
           "PCA_90",
           "openai__",
           false
          ],
          [
           "TabPFNClassifier",
           "PCA_90",
           "openai__",
           false
          ],
          [
           "TabPFNClassifier",
           "PCA_90",
           "openai__",
           false
          ],
          [
           "TabPFNClassifier",
           "subset_90",
           "openai__",
           false
          ],
          [
           "TabPFNClassifier",
           "subset_90",
           "openai__",
           false
          ],
          [
           "TabPFNClassifier",
           "subset_90",
           "openai__",
           false
          ],
          [
           "TabPFNClassifier",
           "subset_90",
           "openai__",
           false
          ],
          [
           "TabPFNClassifier",
           "subset_90",
           "openai__",
           false
          ]
         ],
         "fillcolor": "rgba(255,255,255,0)",
         "hoveron": "points",
         "hovertemplate": "sentences=%{customdata[3]}<br>Model=%{customdata[0]}<br>Accuracy=%{x}<br>features=%{y}<br>dim_reduction=%{customdata[1]}<br>encoding=%{customdata[2]}<extra></extra>",
         "legendgroup": "False",
         "line": {
          "color": "rgba(255,255,255,0)"
         },
         "marker": {
          "color": "#EF553B"
         },
         "name": "False",
         "offsetgroup": "False",
         "orientation": "h",
         "pointpos": 0,
         "showlegend": true,
         "type": "box",
         "x": [
          0.7633333333333333,
          0.7966666666666666,
          0.7933333333333333,
          0.8066666666666666,
          0.8133333333333334,
          0.8033333333333333,
          0.7933333333333333,
          0.81,
          0.7966666666666666,
          0.7866666666666666,
          0.7733333333333333,
          0.7633333333333333,
          0.7866666666666666,
          0.7833333333333333,
          0.7933333333333333,
          0.7733333333333333,
          0.7966666666666666,
          0.7966666666666666,
          0.78,
          0.7966666666666666,
          0.8,
          0.8266666666666667,
          0.82,
          0.8133333333333334,
          0.8466666666666667,
          0.8466666666666667,
          0.8633333333333333,
          0.85,
          0.84,
          0.8466666666666667,
          0.8433333333333334,
          0.8466666666666667,
          0.8333333333333334,
          0.8066666666666666,
          0.8333333333333334,
          0.8266666666666667,
          0.85,
          0.84,
          0.8366666666666667,
          0.85,
          0.7866666666666666,
          0.8,
          0.8033333333333333,
          0.8066666666666666,
          0.8166666666666667,
          0.83,
          0.8466666666666667,
          0.8433333333333334,
          0.82,
          0.84,
          0.8166666666666667,
          0.8333333333333334,
          0.8266666666666667,
          0.7966666666666666,
          0.8066666666666666,
          0.8333333333333334,
          0.8066666666666666,
          0.8133333333333334,
          0.8166666666666667,
          0.8266666666666667,
          0.79,
          0.7766666666666666,
          0.77,
          0.82,
          0.81,
          0.8,
          0.81,
          0.83,
          0.8266666666666667,
          0.8133333333333334,
          0.8166666666666667,
          0.83,
          0.8433333333333334,
          0.83,
          0.81,
          0.7833333333333333,
          0.79,
          0.78,
          0.77,
          0.7966666666666666
         ],
         "x0": " ",
         "xaxis": "x3",
         "y": [
          "all",
          "all",
          "all",
          "all",
          "all",
          "all",
          "all",
          "all",
          "all",
          "all",
          "all",
          "all",
          "all",
          "all",
          "all",
          "all",
          "all",
          "all",
          "all",
          "all",
          "all",
          "all",
          "all",
          "all",
          "all",
          "all",
          "all",
          "all",
          "all",
          "all",
          "all",
          "all",
          "all",
          "all",
          "all",
          "all",
          "all",
          "all",
          "all",
          "all",
          "all",
          "all",
          "all",
          "all",
          "all",
          "all",
          "all",
          "all",
          "all",
          "all",
          "all",
          "all",
          "all",
          "all",
          "all",
          "all",
          "all",
          "all",
          "all",
          "all",
          "all",
          "all",
          "all",
          "all",
          "all",
          "all",
          "all",
          "all",
          "all",
          "all",
          "all",
          "all",
          "all",
          "all",
          "all",
          "all",
          "all",
          "all",
          "all",
          "all"
         ],
         "y0": " ",
         "yaxis": "y3"
        },
        {
         "alignmentgroup": "True",
         "boxpoints": "all",
         "customdata": [
          [
           "GradientBoostingClassifier",
           "PCA_5",
           "lm__all-distilroberta-v1",
           false
          ],
          [
           "GradientBoostingClassifier",
           "PCA_5",
           "lm__all-distilroberta-v1",
           false
          ],
          [
           "GradientBoostingClassifier",
           "PCA_5",
           "lm__all-distilroberta-v1",
           false
          ],
          [
           "GradientBoostingClassifier",
           "PCA_5",
           "lm__all-distilroberta-v1",
           false
          ],
          [
           "GradientBoostingClassifier",
           "PCA_5",
           "lm__all-distilroberta-v1",
           false
          ],
          [
           "GradientBoostingClassifier",
           "PCA_30",
           "lm__all-distilroberta-v1",
           false
          ],
          [
           "GradientBoostingClassifier",
           "PCA_30",
           "lm__all-distilroberta-v1",
           false
          ],
          [
           "GradientBoostingClassifier",
           "PCA_30",
           "lm__all-distilroberta-v1",
           false
          ],
          [
           "GradientBoostingClassifier",
           "PCA_30",
           "lm__all-distilroberta-v1",
           false
          ],
          [
           "GradientBoostingClassifier",
           "PCA_30",
           "lm__all-distilroberta-v1",
           false
          ],
          [
           "GradientBoostingClassifier",
           "PCA_90",
           "lm__all-distilroberta-v1",
           false
          ],
          [
           "GradientBoostingClassifier",
           "PCA_90",
           "lm__all-distilroberta-v1",
           false
          ],
          [
           "GradientBoostingClassifier",
           "PCA_90",
           "lm__all-distilroberta-v1",
           false
          ],
          [
           "GradientBoostingClassifier",
           "PCA_90",
           "lm__all-distilroberta-v1",
           false
          ],
          [
           "GradientBoostingClassifier",
           "PCA_90",
           "lm__all-distilroberta-v1",
           false
          ],
          [
           "GradientBoostingClassifier",
           "subset_90",
           "lm__all-distilroberta-v1",
           false
          ],
          [
           "GradientBoostingClassifier",
           "subset_90",
           "lm__all-distilroberta-v1",
           false
          ],
          [
           "GradientBoostingClassifier",
           "subset_90",
           "lm__all-distilroberta-v1",
           false
          ],
          [
           "GradientBoostingClassifier",
           "subset_90",
           "lm__all-distilroberta-v1",
           false
          ],
          [
           "GradientBoostingClassifier",
           "subset_90",
           "lm__all-distilroberta-v1",
           false
          ],
          [
           "GradientBoostingClassifier",
           "PCA_5",
           "lm__all-mpnet-base-v2",
           false
          ],
          [
           "GradientBoostingClassifier",
           "PCA_5",
           "lm__all-mpnet-base-v2",
           false
          ],
          [
           "GradientBoostingClassifier",
           "PCA_5",
           "lm__all-mpnet-base-v2",
           false
          ],
          [
           "GradientBoostingClassifier",
           "PCA_5",
           "lm__all-mpnet-base-v2",
           false
          ],
          [
           "GradientBoostingClassifier",
           "PCA_5",
           "lm__all-mpnet-base-v2",
           false
          ],
          [
           "GradientBoostingClassifier",
           "PCA_30",
           "lm__all-mpnet-base-v2",
           false
          ],
          [
           "GradientBoostingClassifier",
           "PCA_30",
           "lm__all-mpnet-base-v2",
           false
          ],
          [
           "GradientBoostingClassifier",
           "PCA_30",
           "lm__all-mpnet-base-v2",
           false
          ],
          [
           "GradientBoostingClassifier",
           "PCA_30",
           "lm__all-mpnet-base-v2",
           false
          ],
          [
           "GradientBoostingClassifier",
           "PCA_30",
           "lm__all-mpnet-base-v2",
           false
          ],
          [
           "GradientBoostingClassifier",
           "PCA_90",
           "lm__all-mpnet-base-v2",
           false
          ],
          [
           "GradientBoostingClassifier",
           "PCA_90",
           "lm__all-mpnet-base-v2",
           false
          ],
          [
           "GradientBoostingClassifier",
           "PCA_90",
           "lm__all-mpnet-base-v2",
           false
          ],
          [
           "GradientBoostingClassifier",
           "PCA_90",
           "lm__all-mpnet-base-v2",
           false
          ],
          [
           "GradientBoostingClassifier",
           "PCA_90",
           "lm__all-mpnet-base-v2",
           false
          ],
          [
           "GradientBoostingClassifier",
           "subset_90",
           "lm__all-mpnet-base-v2",
           false
          ],
          [
           "GradientBoostingClassifier",
           "subset_90",
           "lm__all-mpnet-base-v2",
           false
          ],
          [
           "GradientBoostingClassifier",
           "subset_90",
           "lm__all-mpnet-base-v2",
           false
          ],
          [
           "GradientBoostingClassifier",
           "subset_90",
           "lm__all-mpnet-base-v2",
           false
          ],
          [
           "GradientBoostingClassifier",
           "subset_90",
           "lm__all-mpnet-base-v2",
           false
          ],
          [
           "GradientBoostingClassifier",
           "PCA_5",
           "lm__multi-qa-mpnet-base-dot-v1",
           false
          ],
          [
           "GradientBoostingClassifier",
           "PCA_5",
           "lm__multi-qa-mpnet-base-dot-v1",
           false
          ],
          [
           "GradientBoostingClassifier",
           "PCA_5",
           "lm__multi-qa-mpnet-base-dot-v1",
           false
          ],
          [
           "GradientBoostingClassifier",
           "PCA_5",
           "lm__multi-qa-mpnet-base-dot-v1",
           false
          ],
          [
           "GradientBoostingClassifier",
           "PCA_5",
           "lm__multi-qa-mpnet-base-dot-v1",
           false
          ],
          [
           "GradientBoostingClassifier",
           "PCA_30",
           "lm__multi-qa-mpnet-base-dot-v1",
           false
          ],
          [
           "GradientBoostingClassifier",
           "PCA_30",
           "lm__multi-qa-mpnet-base-dot-v1",
           false
          ],
          [
           "GradientBoostingClassifier",
           "PCA_30",
           "lm__multi-qa-mpnet-base-dot-v1",
           false
          ],
          [
           "GradientBoostingClassifier",
           "PCA_30",
           "lm__multi-qa-mpnet-base-dot-v1",
           false
          ],
          [
           "GradientBoostingClassifier",
           "PCA_30",
           "lm__multi-qa-mpnet-base-dot-v1",
           false
          ],
          [
           "GradientBoostingClassifier",
           "PCA_90",
           "lm__multi-qa-mpnet-base-dot-v1",
           false
          ],
          [
           "GradientBoostingClassifier",
           "PCA_90",
           "lm__multi-qa-mpnet-base-dot-v1",
           false
          ],
          [
           "GradientBoostingClassifier",
           "PCA_90",
           "lm__multi-qa-mpnet-base-dot-v1",
           false
          ],
          [
           "GradientBoostingClassifier",
           "PCA_90",
           "lm__multi-qa-mpnet-base-dot-v1",
           false
          ],
          [
           "GradientBoostingClassifier",
           "PCA_90",
           "lm__multi-qa-mpnet-base-dot-v1",
           false
          ],
          [
           "GradientBoostingClassifier",
           "subset_90",
           "lm__multi-qa-mpnet-base-dot-v1",
           false
          ],
          [
           "GradientBoostingClassifier",
           "subset_90",
           "lm__multi-qa-mpnet-base-dot-v1",
           false
          ],
          [
           "GradientBoostingClassifier",
           "subset_90",
           "lm__multi-qa-mpnet-base-dot-v1",
           false
          ],
          [
           "GradientBoostingClassifier",
           "subset_90",
           "lm__multi-qa-mpnet-base-dot-v1",
           false
          ],
          [
           "GradientBoostingClassifier",
           "subset_90",
           "lm__multi-qa-mpnet-base-dot-v1",
           false
          ],
          [
           "GradientBoostingClassifier",
           "PCA_5",
           "openai__",
           false
          ],
          [
           "GradientBoostingClassifier",
           "PCA_5",
           "openai__",
           false
          ],
          [
           "GradientBoostingClassifier",
           "PCA_5",
           "openai__",
           false
          ],
          [
           "GradientBoostingClassifier",
           "PCA_5",
           "openai__",
           false
          ],
          [
           "GradientBoostingClassifier",
           "PCA_5",
           "openai__",
           false
          ],
          [
           "GradientBoostingClassifier",
           "PCA_30",
           "openai__",
           false
          ],
          [
           "GradientBoostingClassifier",
           "PCA_30",
           "openai__",
           false
          ],
          [
           "GradientBoostingClassifier",
           "PCA_30",
           "openai__",
           false
          ],
          [
           "GradientBoostingClassifier",
           "PCA_30",
           "openai__",
           false
          ],
          [
           "GradientBoostingClassifier",
           "PCA_30",
           "openai__",
           false
          ],
          [
           "GradientBoostingClassifier",
           "PCA_90",
           "openai__",
           false
          ],
          [
           "GradientBoostingClassifier",
           "PCA_90",
           "openai__",
           false
          ],
          [
           "GradientBoostingClassifier",
           "PCA_90",
           "openai__",
           false
          ],
          [
           "GradientBoostingClassifier",
           "PCA_90",
           "openai__",
           false
          ],
          [
           "GradientBoostingClassifier",
           "PCA_90",
           "openai__",
           false
          ],
          [
           "GradientBoostingClassifier",
           "subset_90",
           "openai__",
           false
          ],
          [
           "GradientBoostingClassifier",
           "subset_90",
           "openai__",
           false
          ],
          [
           "GradientBoostingClassifier",
           "subset_90",
           "openai__",
           false
          ],
          [
           "GradientBoostingClassifier",
           "subset_90",
           "openai__",
           false
          ],
          [
           "GradientBoostingClassifier",
           "subset_90",
           "openai__",
           false
          ]
         ],
         "fillcolor": "rgba(255,255,255,0)",
         "hoveron": "points",
         "hovertemplate": "sentences=%{customdata[3]}<br>Model=%{customdata[0]}<br>Accuracy=%{x}<br>features=%{y}<br>dim_reduction=%{customdata[1]}<br>encoding=%{customdata[2]}<extra></extra>",
         "legendgroup": "False",
         "line": {
          "color": "rgba(255,255,255,0)"
         },
         "marker": {
          "color": "#EF553B"
         },
         "name": "False",
         "offsetgroup": "False",
         "orientation": "h",
         "pointpos": 0,
         "showlegend": false,
         "type": "box",
         "x": [
          0.7533333333333333,
          0.76,
          0.75,
          0.7833333333333333,
          0.8033333333333333,
          0.7766666666666666,
          0.7666666666666667,
          0.8033333333333333,
          0.7866666666666666,
          0.8,
          0.79,
          0.7666666666666667,
          0.7966666666666666,
          0.7833333333333333,
          0.7933333333333333,
          0.74,
          0.7966666666666666,
          0.76,
          0.7533333333333333,
          0.7666666666666667,
          0.79,
          0.8,
          0.8233333333333334,
          0.7866666666666666,
          0.8133333333333334,
          0.81,
          0.8233333333333334,
          0.8166666666666667,
          0.83,
          0.8066666666666666,
          0.79,
          0.8133333333333334,
          0.8333333333333334,
          0.83,
          0.82,
          0.7766666666666666,
          0.8,
          0.7966666666666666,
          0.7933333333333333,
          0.8066666666666666,
          0.78,
          0.7766666666666666,
          0.8066666666666666,
          0.8066666666666666,
          0.8,
          0.7766666666666666,
          0.8133333333333334,
          0.8066666666666666,
          0.7833333333333333,
          0.8066666666666666,
          0.7933333333333333,
          0.7933333333333333,
          0.7966666666666666,
          0.81,
          0.8033333333333333,
          0.78,
          0.7933333333333333,
          0.7833333333333333,
          0.79,
          0.79,
          0.7566666666666667,
          0.7833333333333333,
          0.76,
          0.78,
          0.7766666666666666,
          0.7833333333333333,
          0.7933333333333333,
          0.7866666666666666,
          0.83,
          0.81,
          0.7866666666666666,
          0.8033333333333333,
          0.77,
          0.83,
          0.8,
          0.7866666666666666,
          0.7566666666666667,
          0.7433333333333333,
          0.7666666666666667,
          0.7866666666666666
         ],
         "x0": " ",
         "xaxis": "x2",
         "y": [
          "all",
          "all",
          "all",
          "all",
          "all",
          "all",
          "all",
          "all",
          "all",
          "all",
          "all",
          "all",
          "all",
          "all",
          "all",
          "all",
          "all",
          "all",
          "all",
          "all",
          "all",
          "all",
          "all",
          "all",
          "all",
          "all",
          "all",
          "all",
          "all",
          "all",
          "all",
          "all",
          "all",
          "all",
          "all",
          "all",
          "all",
          "all",
          "all",
          "all",
          "all",
          "all",
          "all",
          "all",
          "all",
          "all",
          "all",
          "all",
          "all",
          "all",
          "all",
          "all",
          "all",
          "all",
          "all",
          "all",
          "all",
          "all",
          "all",
          "all",
          "all",
          "all",
          "all",
          "all",
          "all",
          "all",
          "all",
          "all",
          "all",
          "all",
          "all",
          "all",
          "all",
          "all",
          "all",
          "all",
          "all",
          "all",
          "all",
          "all"
         ],
         "y0": " ",
         "yaxis": "y2"
        },
        {
         "alignmentgroup": "True",
         "boxpoints": "all",
         "customdata": [
          [
           "LogisticRegression",
           "PCA_5",
           "lm__all-distilroberta-v1",
           false
          ],
          [
           "LogisticRegression",
           "PCA_5",
           "lm__all-distilroberta-v1",
           false
          ],
          [
           "LogisticRegression",
           "PCA_5",
           "lm__all-distilroberta-v1",
           false
          ],
          [
           "LogisticRegression",
           "PCA_5",
           "lm__all-distilroberta-v1",
           false
          ],
          [
           "LogisticRegression",
           "PCA_5",
           "lm__all-distilroberta-v1",
           false
          ],
          [
           "LogisticRegression",
           "PCA_30",
           "lm__all-distilroberta-v1",
           false
          ],
          [
           "LogisticRegression",
           "PCA_30",
           "lm__all-distilroberta-v1",
           false
          ],
          [
           "LogisticRegression",
           "PCA_30",
           "lm__all-distilroberta-v1",
           false
          ],
          [
           "LogisticRegression",
           "PCA_30",
           "lm__all-distilroberta-v1",
           false
          ],
          [
           "LogisticRegression",
           "PCA_30",
           "lm__all-distilroberta-v1",
           false
          ],
          [
           "LogisticRegression",
           "PCA_90",
           "lm__all-distilroberta-v1",
           false
          ],
          [
           "LogisticRegression",
           "PCA_90",
           "lm__all-distilroberta-v1",
           false
          ],
          [
           "LogisticRegression",
           "PCA_90",
           "lm__all-distilroberta-v1",
           false
          ],
          [
           "LogisticRegression",
           "PCA_90",
           "lm__all-distilroberta-v1",
           false
          ],
          [
           "LogisticRegression",
           "PCA_90",
           "lm__all-distilroberta-v1",
           false
          ],
          [
           "LogisticRegression",
           "subset_90",
           "lm__all-distilroberta-v1",
           false
          ],
          [
           "LogisticRegression",
           "subset_90",
           "lm__all-distilroberta-v1",
           false
          ],
          [
           "LogisticRegression",
           "subset_90",
           "lm__all-distilroberta-v1",
           false
          ],
          [
           "LogisticRegression",
           "subset_90",
           "lm__all-distilroberta-v1",
           false
          ],
          [
           "LogisticRegression",
           "subset_90",
           "lm__all-distilroberta-v1",
           false
          ],
          [
           "LogisticRegression",
           "passthrough",
           "lm__all-distilroberta-v1",
           false
          ],
          [
           "LogisticRegression",
           "passthrough",
           "lm__all-distilroberta-v1",
           false
          ],
          [
           "LogisticRegression",
           "passthrough",
           "lm__all-distilroberta-v1",
           false
          ],
          [
           "LogisticRegression",
           "passthrough",
           "lm__all-distilroberta-v1",
           false
          ],
          [
           "LogisticRegression",
           "passthrough",
           "lm__all-distilroberta-v1",
           false
          ],
          [
           "LogisticRegression",
           "PCA_5",
           "lm__all-mpnet-base-v2",
           false
          ],
          [
           "LogisticRegression",
           "PCA_5",
           "lm__all-mpnet-base-v2",
           false
          ],
          [
           "LogisticRegression",
           "PCA_5",
           "lm__all-mpnet-base-v2",
           false
          ],
          [
           "LogisticRegression",
           "PCA_5",
           "lm__all-mpnet-base-v2",
           false
          ],
          [
           "LogisticRegression",
           "PCA_5",
           "lm__all-mpnet-base-v2",
           false
          ],
          [
           "LogisticRegression",
           "PCA_30",
           "lm__all-mpnet-base-v2",
           false
          ],
          [
           "LogisticRegression",
           "PCA_30",
           "lm__all-mpnet-base-v2",
           false
          ],
          [
           "LogisticRegression",
           "PCA_30",
           "lm__all-mpnet-base-v2",
           false
          ],
          [
           "LogisticRegression",
           "PCA_30",
           "lm__all-mpnet-base-v2",
           false
          ],
          [
           "LogisticRegression",
           "PCA_30",
           "lm__all-mpnet-base-v2",
           false
          ],
          [
           "LogisticRegression",
           "PCA_90",
           "lm__all-mpnet-base-v2",
           false
          ],
          [
           "LogisticRegression",
           "PCA_90",
           "lm__all-mpnet-base-v2",
           false
          ],
          [
           "LogisticRegression",
           "PCA_90",
           "lm__all-mpnet-base-v2",
           false
          ],
          [
           "LogisticRegression",
           "PCA_90",
           "lm__all-mpnet-base-v2",
           false
          ],
          [
           "LogisticRegression",
           "PCA_90",
           "lm__all-mpnet-base-v2",
           false
          ],
          [
           "LogisticRegression",
           "subset_90",
           "lm__all-mpnet-base-v2",
           false
          ],
          [
           "LogisticRegression",
           "subset_90",
           "lm__all-mpnet-base-v2",
           false
          ],
          [
           "LogisticRegression",
           "subset_90",
           "lm__all-mpnet-base-v2",
           false
          ],
          [
           "LogisticRegression",
           "subset_90",
           "lm__all-mpnet-base-v2",
           false
          ],
          [
           "LogisticRegression",
           "subset_90",
           "lm__all-mpnet-base-v2",
           false
          ],
          [
           "LogisticRegression",
           "passthrough",
           "lm__all-mpnet-base-v2",
           false
          ],
          [
           "LogisticRegression",
           "passthrough",
           "lm__all-mpnet-base-v2",
           false
          ],
          [
           "LogisticRegression",
           "passthrough",
           "lm__all-mpnet-base-v2",
           false
          ],
          [
           "LogisticRegression",
           "passthrough",
           "lm__all-mpnet-base-v2",
           false
          ],
          [
           "LogisticRegression",
           "passthrough",
           "lm__all-mpnet-base-v2",
           false
          ],
          [
           "LogisticRegression",
           "PCA_5",
           "lm__multi-qa-mpnet-base-dot-v1",
           false
          ],
          [
           "LogisticRegression",
           "PCA_5",
           "lm__multi-qa-mpnet-base-dot-v1",
           false
          ],
          [
           "LogisticRegression",
           "PCA_5",
           "lm__multi-qa-mpnet-base-dot-v1",
           false
          ],
          [
           "LogisticRegression",
           "PCA_5",
           "lm__multi-qa-mpnet-base-dot-v1",
           false
          ],
          [
           "LogisticRegression",
           "PCA_5",
           "lm__multi-qa-mpnet-base-dot-v1",
           false
          ],
          [
           "LogisticRegression",
           "PCA_30",
           "lm__multi-qa-mpnet-base-dot-v1",
           false
          ],
          [
           "LogisticRegression",
           "PCA_30",
           "lm__multi-qa-mpnet-base-dot-v1",
           false
          ],
          [
           "LogisticRegression",
           "PCA_30",
           "lm__multi-qa-mpnet-base-dot-v1",
           false
          ],
          [
           "LogisticRegression",
           "PCA_30",
           "lm__multi-qa-mpnet-base-dot-v1",
           false
          ],
          [
           "LogisticRegression",
           "PCA_30",
           "lm__multi-qa-mpnet-base-dot-v1",
           false
          ],
          [
           "LogisticRegression",
           "PCA_90",
           "lm__multi-qa-mpnet-base-dot-v1",
           false
          ],
          [
           "LogisticRegression",
           "PCA_90",
           "lm__multi-qa-mpnet-base-dot-v1",
           false
          ],
          [
           "LogisticRegression",
           "PCA_90",
           "lm__multi-qa-mpnet-base-dot-v1",
           false
          ],
          [
           "LogisticRegression",
           "PCA_90",
           "lm__multi-qa-mpnet-base-dot-v1",
           false
          ],
          [
           "LogisticRegression",
           "PCA_90",
           "lm__multi-qa-mpnet-base-dot-v1",
           false
          ],
          [
           "LogisticRegression",
           "subset_90",
           "lm__multi-qa-mpnet-base-dot-v1",
           false
          ],
          [
           "LogisticRegression",
           "subset_90",
           "lm__multi-qa-mpnet-base-dot-v1",
           false
          ],
          [
           "LogisticRegression",
           "subset_90",
           "lm__multi-qa-mpnet-base-dot-v1",
           false
          ],
          [
           "LogisticRegression",
           "subset_90",
           "lm__multi-qa-mpnet-base-dot-v1",
           false
          ],
          [
           "LogisticRegression",
           "subset_90",
           "lm__multi-qa-mpnet-base-dot-v1",
           false
          ],
          [
           "LogisticRegression",
           "passthrough",
           "lm__multi-qa-mpnet-base-dot-v1",
           false
          ],
          [
           "LogisticRegression",
           "passthrough",
           "lm__multi-qa-mpnet-base-dot-v1",
           false
          ],
          [
           "LogisticRegression",
           "passthrough",
           "lm__multi-qa-mpnet-base-dot-v1",
           false
          ],
          [
           "LogisticRegression",
           "passthrough",
           "lm__multi-qa-mpnet-base-dot-v1",
           false
          ],
          [
           "LogisticRegression",
           "passthrough",
           "lm__multi-qa-mpnet-base-dot-v1",
           false
          ],
          [
           "LogisticRegression",
           "PCA_5",
           "openai__",
           false
          ],
          [
           "LogisticRegression",
           "PCA_5",
           "openai__",
           false
          ],
          [
           "LogisticRegression",
           "PCA_5",
           "openai__",
           false
          ],
          [
           "LogisticRegression",
           "PCA_5",
           "openai__",
           false
          ],
          [
           "LogisticRegression",
           "PCA_5",
           "openai__",
           false
          ],
          [
           "LogisticRegression",
           "PCA_30",
           "openai__",
           false
          ],
          [
           "LogisticRegression",
           "PCA_30",
           "openai__",
           false
          ],
          [
           "LogisticRegression",
           "PCA_30",
           "openai__",
           false
          ],
          [
           "LogisticRegression",
           "PCA_30",
           "openai__",
           false
          ],
          [
           "LogisticRegression",
           "PCA_30",
           "openai__",
           false
          ],
          [
           "LogisticRegression",
           "PCA_90",
           "openai__",
           false
          ],
          [
           "LogisticRegression",
           "PCA_90",
           "openai__",
           false
          ],
          [
           "LogisticRegression",
           "PCA_90",
           "openai__",
           false
          ],
          [
           "LogisticRegression",
           "PCA_90",
           "openai__",
           false
          ],
          [
           "LogisticRegression",
           "PCA_90",
           "openai__",
           false
          ],
          [
           "LogisticRegression",
           "subset_90",
           "openai__",
           false
          ],
          [
           "LogisticRegression",
           "subset_90",
           "openai__",
           false
          ],
          [
           "LogisticRegression",
           "subset_90",
           "openai__",
           false
          ],
          [
           "LogisticRegression",
           "subset_90",
           "openai__",
           false
          ],
          [
           "LogisticRegression",
           "subset_90",
           "openai__",
           false
          ],
          [
           "LogisticRegression",
           "passthrough",
           "openai__",
           false
          ],
          [
           "LogisticRegression",
           "passthrough",
           "openai__",
           false
          ],
          [
           "LogisticRegression",
           "passthrough",
           "openai__",
           false
          ],
          [
           "LogisticRegression",
           "passthrough",
           "openai__",
           false
          ],
          [
           "LogisticRegression",
           "passthrough",
           "openai__",
           false
          ]
         ],
         "fillcolor": "rgba(255,255,255,0)",
         "hoveron": "points",
         "hovertemplate": "sentences=%{customdata[3]}<br>Model=%{customdata[0]}<br>Accuracy=%{x}<br>features=%{y}<br>dim_reduction=%{customdata[1]}<br>encoding=%{customdata[2]}<extra></extra>",
         "legendgroup": "False",
         "line": {
          "color": "rgba(255,255,255,0)"
         },
         "marker": {
          "color": "#EF553B"
         },
         "name": "False",
         "offsetgroup": "False",
         "orientation": "h",
         "pointpos": 0,
         "showlegend": false,
         "type": "box",
         "x": [
          0.7666666666666667,
          0.7666666666666667,
          0.7666666666666667,
          0.7766666666666666,
          0.7733333333333333,
          0.7666666666666667,
          0.7666666666666667,
          0.7866666666666666,
          0.7666666666666667,
          0.7933333333333333,
          0.7733333333333333,
          0.78,
          0.79,
          0.78,
          0.7866666666666666,
          0.7166666666666667,
          0.7533333333333333,
          0.7666666666666667,
          0.74,
          0.77,
          0.7733333333333333,
          0.78,
          0.7933333333333333,
          0.78,
          0.7966666666666666,
          0.79,
          0.7466666666666667,
          0.8066666666666666,
          0.8,
          0.8066666666666666,
          0.8233333333333334,
          0.8133333333333334,
          0.8333333333333334,
          0.84,
          0.8233333333333334,
          0.8166666666666667,
          0.82,
          0.84,
          0.8366666666666667,
          0.8266666666666667,
          0.7433333333333333,
          0.7633333333333333,
          0.7666666666666667,
          0.7733333333333333,
          0.78,
          0.82,
          0.82,
          0.8433333333333334,
          0.8433333333333334,
          0.83,
          0.78,
          0.77,
          0.8066666666666666,
          0.7766666666666666,
          0.8166666666666667,
          0.82,
          0.8333333333333334,
          0.84,
          0.8266666666666667,
          0.8366666666666667,
          0.8366666666666667,
          0.85,
          0.83,
          0.8233333333333334,
          0.83,
          0.8066666666666666,
          0.8033333333333333,
          0.7866666666666666,
          0.8066666666666666,
          0.8033333333333333,
          0.8266666666666667,
          0.85,
          0.8066666666666666,
          0.8433333333333334,
          0.8433333333333334,
          0.75,
          0.76,
          0.7466666666666667,
          0.7466666666666667,
          0.76,
          0.75,
          0.76,
          0.7533333333333333,
          0.75,
          0.76,
          0.7566666666666667,
          0.7633333333333333,
          0.7566666666666667,
          0.7566666666666667,
          0.7633333333333333,
          0.4866666666666667,
          0.6233333333333333,
          0.7566666666666667,
          0.73,
          0.7666666666666667,
          0.7566666666666667,
          0.76,
          0.7566666666666667,
          0.7566666666666667,
          0.7633333333333333
         ],
         "x0": " ",
         "xaxis": "x",
         "y": [
          "all",
          "all",
          "all",
          "all",
          "all",
          "all",
          "all",
          "all",
          "all",
          "all",
          "all",
          "all",
          "all",
          "all",
          "all",
          "all",
          "all",
          "all",
          "all",
          "all",
          "all",
          "all",
          "all",
          "all",
          "all",
          "all",
          "all",
          "all",
          "all",
          "all",
          "all",
          "all",
          "all",
          "all",
          "all",
          "all",
          "all",
          "all",
          "all",
          "all",
          "all",
          "all",
          "all",
          "all",
          "all",
          "all",
          "all",
          "all",
          "all",
          "all",
          "all",
          "all",
          "all",
          "all",
          "all",
          "all",
          "all",
          "all",
          "all",
          "all",
          "all",
          "all",
          "all",
          "all",
          "all",
          "all",
          "all",
          "all",
          "all",
          "all",
          "all",
          "all",
          "all",
          "all",
          "all",
          "all",
          "all",
          "all",
          "all",
          "all",
          "all",
          "all",
          "all",
          "all",
          "all",
          "all",
          "all",
          "all",
          "all",
          "all",
          "all",
          "all",
          "all",
          "all",
          "all",
          "all",
          "all",
          "all",
          "all",
          "all"
         ],
         "y0": " ",
         "yaxis": "y"
        }
       ],
       "layout": {
        "annotations": [
         {
          "font": {},
          "showarrow": false,
          "text": "Model=LogisticRegression",
          "textangle": 90,
          "x": 0.98,
          "xanchor": "left",
          "xref": "paper",
          "y": 0.15666666666666665,
          "yanchor": "middle",
          "yref": "paper"
         },
         {
          "font": {},
          "showarrow": false,
          "text": "Model=GradientBoostingClassifier",
          "textangle": 90,
          "x": 0.98,
          "xanchor": "left",
          "xref": "paper",
          "y": 0.4999999999999999,
          "yanchor": "middle",
          "yref": "paper"
         },
         {
          "font": {},
          "showarrow": false,
          "text": "Model=TabPFNClassifier",
          "textangle": 90,
          "x": 0.98,
          "xanchor": "left",
          "xref": "paper",
          "y": 0.8433333333333332,
          "yanchor": "middle",
          "yref": "paper"
         }
        ],
        "boxmode": "group",
        "height": 700,
        "legend": {
         "title": {
          "text": "sentences"
         },
         "tracegroupgap": 0
        },
        "template": {
         "data": {
          "bar": [
           {
            "error_x": {
             "color": "#2a3f5f"
            },
            "error_y": {
             "color": "#2a3f5f"
            },
            "marker": {
             "line": {
              "color": "#E5ECF6",
              "width": 0.5
             },
             "pattern": {
              "fillmode": "overlay",
              "size": 10,
              "solidity": 0.2
             }
            },
            "type": "bar"
           }
          ],
          "barpolar": [
           {
            "marker": {
             "line": {
              "color": "#E5ECF6",
              "width": 0.5
             },
             "pattern": {
              "fillmode": "overlay",
              "size": 10,
              "solidity": 0.2
             }
            },
            "type": "barpolar"
           }
          ],
          "carpet": [
           {
            "aaxis": {
             "endlinecolor": "#2a3f5f",
             "gridcolor": "white",
             "linecolor": "white",
             "minorgridcolor": "white",
             "startlinecolor": "#2a3f5f"
            },
            "baxis": {
             "endlinecolor": "#2a3f5f",
             "gridcolor": "white",
             "linecolor": "white",
             "minorgridcolor": "white",
             "startlinecolor": "#2a3f5f"
            },
            "type": "carpet"
           }
          ],
          "choropleth": [
           {
            "colorbar": {
             "outlinewidth": 0,
             "ticks": ""
            },
            "type": "choropleth"
           }
          ],
          "contour": [
           {
            "colorbar": {
             "outlinewidth": 0,
             "ticks": ""
            },
            "colorscale": [
             [
              0,
              "#0d0887"
             ],
             [
              0.1111111111111111,
              "#46039f"
             ],
             [
              0.2222222222222222,
              "#7201a8"
             ],
             [
              0.3333333333333333,
              "#9c179e"
             ],
             [
              0.4444444444444444,
              "#bd3786"
             ],
             [
              0.5555555555555556,
              "#d8576b"
             ],
             [
              0.6666666666666666,
              "#ed7953"
             ],
             [
              0.7777777777777778,
              "#fb9f3a"
             ],
             [
              0.8888888888888888,
              "#fdca26"
             ],
             [
              1,
              "#f0f921"
             ]
            ],
            "type": "contour"
           }
          ],
          "contourcarpet": [
           {
            "colorbar": {
             "outlinewidth": 0,
             "ticks": ""
            },
            "type": "contourcarpet"
           }
          ],
          "heatmap": [
           {
            "colorbar": {
             "outlinewidth": 0,
             "ticks": ""
            },
            "colorscale": [
             [
              0,
              "#0d0887"
             ],
             [
              0.1111111111111111,
              "#46039f"
             ],
             [
              0.2222222222222222,
              "#7201a8"
             ],
             [
              0.3333333333333333,
              "#9c179e"
             ],
             [
              0.4444444444444444,
              "#bd3786"
             ],
             [
              0.5555555555555556,
              "#d8576b"
             ],
             [
              0.6666666666666666,
              "#ed7953"
             ],
             [
              0.7777777777777778,
              "#fb9f3a"
             ],
             [
              0.8888888888888888,
              "#fdca26"
             ],
             [
              1,
              "#f0f921"
             ]
            ],
            "type": "heatmap"
           }
          ],
          "heatmapgl": [
           {
            "colorbar": {
             "outlinewidth": 0,
             "ticks": ""
            },
            "colorscale": [
             [
              0,
              "#0d0887"
             ],
             [
              0.1111111111111111,
              "#46039f"
             ],
             [
              0.2222222222222222,
              "#7201a8"
             ],
             [
              0.3333333333333333,
              "#9c179e"
             ],
             [
              0.4444444444444444,
              "#bd3786"
             ],
             [
              0.5555555555555556,
              "#d8576b"
             ],
             [
              0.6666666666666666,
              "#ed7953"
             ],
             [
              0.7777777777777778,
              "#fb9f3a"
             ],
             [
              0.8888888888888888,
              "#fdca26"
             ],
             [
              1,
              "#f0f921"
             ]
            ],
            "type": "heatmapgl"
           }
          ],
          "histogram": [
           {
            "marker": {
             "pattern": {
              "fillmode": "overlay",
              "size": 10,
              "solidity": 0.2
             }
            },
            "type": "histogram"
           }
          ],
          "histogram2d": [
           {
            "colorbar": {
             "outlinewidth": 0,
             "ticks": ""
            },
            "colorscale": [
             [
              0,
              "#0d0887"
             ],
             [
              0.1111111111111111,
              "#46039f"
             ],
             [
              0.2222222222222222,
              "#7201a8"
             ],
             [
              0.3333333333333333,
              "#9c179e"
             ],
             [
              0.4444444444444444,
              "#bd3786"
             ],
             [
              0.5555555555555556,
              "#d8576b"
             ],
             [
              0.6666666666666666,
              "#ed7953"
             ],
             [
              0.7777777777777778,
              "#fb9f3a"
             ],
             [
              0.8888888888888888,
              "#fdca26"
             ],
             [
              1,
              "#f0f921"
             ]
            ],
            "type": "histogram2d"
           }
          ],
          "histogram2dcontour": [
           {
            "colorbar": {
             "outlinewidth": 0,
             "ticks": ""
            },
            "colorscale": [
             [
              0,
              "#0d0887"
             ],
             [
              0.1111111111111111,
              "#46039f"
             ],
             [
              0.2222222222222222,
              "#7201a8"
             ],
             [
              0.3333333333333333,
              "#9c179e"
             ],
             [
              0.4444444444444444,
              "#bd3786"
             ],
             [
              0.5555555555555556,
              "#d8576b"
             ],
             [
              0.6666666666666666,
              "#ed7953"
             ],
             [
              0.7777777777777778,
              "#fb9f3a"
             ],
             [
              0.8888888888888888,
              "#fdca26"
             ],
             [
              1,
              "#f0f921"
             ]
            ],
            "type": "histogram2dcontour"
           }
          ],
          "mesh3d": [
           {
            "colorbar": {
             "outlinewidth": 0,
             "ticks": ""
            },
            "type": "mesh3d"
           }
          ],
          "parcoords": [
           {
            "line": {
             "colorbar": {
              "outlinewidth": 0,
              "ticks": ""
             }
            },
            "type": "parcoords"
           }
          ],
          "pie": [
           {
            "automargin": true,
            "type": "pie"
           }
          ],
          "scatter": [
           {
            "fillpattern": {
             "fillmode": "overlay",
             "size": 10,
             "solidity": 0.2
            },
            "type": "scatter"
           }
          ],
          "scatter3d": [
           {
            "line": {
             "colorbar": {
              "outlinewidth": 0,
              "ticks": ""
             }
            },
            "marker": {
             "colorbar": {
              "outlinewidth": 0,
              "ticks": ""
             }
            },
            "type": "scatter3d"
           }
          ],
          "scattercarpet": [
           {
            "marker": {
             "colorbar": {
              "outlinewidth": 0,
              "ticks": ""
             }
            },
            "type": "scattercarpet"
           }
          ],
          "scattergeo": [
           {
            "marker": {
             "colorbar": {
              "outlinewidth": 0,
              "ticks": ""
             }
            },
            "type": "scattergeo"
           }
          ],
          "scattergl": [
           {
            "marker": {
             "colorbar": {
              "outlinewidth": 0,
              "ticks": ""
             }
            },
            "type": "scattergl"
           }
          ],
          "scattermapbox": [
           {
            "marker": {
             "colorbar": {
              "outlinewidth": 0,
              "ticks": ""
             }
            },
            "type": "scattermapbox"
           }
          ],
          "scatterpolar": [
           {
            "marker": {
             "colorbar": {
              "outlinewidth": 0,
              "ticks": ""
             }
            },
            "type": "scatterpolar"
           }
          ],
          "scatterpolargl": [
           {
            "marker": {
             "colorbar": {
              "outlinewidth": 0,
              "ticks": ""
             }
            },
            "type": "scatterpolargl"
           }
          ],
          "scatterternary": [
           {
            "marker": {
             "colorbar": {
              "outlinewidth": 0,
              "ticks": ""
             }
            },
            "type": "scatterternary"
           }
          ],
          "surface": [
           {
            "colorbar": {
             "outlinewidth": 0,
             "ticks": ""
            },
            "colorscale": [
             [
              0,
              "#0d0887"
             ],
             [
              0.1111111111111111,
              "#46039f"
             ],
             [
              0.2222222222222222,
              "#7201a8"
             ],
             [
              0.3333333333333333,
              "#9c179e"
             ],
             [
              0.4444444444444444,
              "#bd3786"
             ],
             [
              0.5555555555555556,
              "#d8576b"
             ],
             [
              0.6666666666666666,
              "#ed7953"
             ],
             [
              0.7777777777777778,
              "#fb9f3a"
             ],
             [
              0.8888888888888888,
              "#fdca26"
             ],
             [
              1,
              "#f0f921"
             ]
            ],
            "type": "surface"
           }
          ],
          "table": [
           {
            "cells": {
             "fill": {
              "color": "#EBF0F8"
             },
             "line": {
              "color": "white"
             }
            },
            "header": {
             "fill": {
              "color": "#C8D4E3"
             },
             "line": {
              "color": "white"
             }
            },
            "type": "table"
           }
          ]
         },
         "layout": {
          "annotationdefaults": {
           "arrowcolor": "#2a3f5f",
           "arrowhead": 0,
           "arrowwidth": 1
          },
          "autotypenumbers": "strict",
          "coloraxis": {
           "colorbar": {
            "outlinewidth": 0,
            "ticks": ""
           }
          },
          "colorscale": {
           "diverging": [
            [
             0,
             "#8e0152"
            ],
            [
             0.1,
             "#c51b7d"
            ],
            [
             0.2,
             "#de77ae"
            ],
            [
             0.3,
             "#f1b6da"
            ],
            [
             0.4,
             "#fde0ef"
            ],
            [
             0.5,
             "#f7f7f7"
            ],
            [
             0.6,
             "#e6f5d0"
            ],
            [
             0.7,
             "#b8e186"
            ],
            [
             0.8,
             "#7fbc41"
            ],
            [
             0.9,
             "#4d9221"
            ],
            [
             1,
             "#276419"
            ]
           ],
           "sequential": [
            [
             0,
             "#0d0887"
            ],
            [
             0.1111111111111111,
             "#46039f"
            ],
            [
             0.2222222222222222,
             "#7201a8"
            ],
            [
             0.3333333333333333,
             "#9c179e"
            ],
            [
             0.4444444444444444,
             "#bd3786"
            ],
            [
             0.5555555555555556,
             "#d8576b"
            ],
            [
             0.6666666666666666,
             "#ed7953"
            ],
            [
             0.7777777777777778,
             "#fb9f3a"
            ],
            [
             0.8888888888888888,
             "#fdca26"
            ],
            [
             1,
             "#f0f921"
            ]
           ],
           "sequentialminus": [
            [
             0,
             "#0d0887"
            ],
            [
             0.1111111111111111,
             "#46039f"
            ],
            [
             0.2222222222222222,
             "#7201a8"
            ],
            [
             0.3333333333333333,
             "#9c179e"
            ],
            [
             0.4444444444444444,
             "#bd3786"
            ],
            [
             0.5555555555555556,
             "#d8576b"
            ],
            [
             0.6666666666666666,
             "#ed7953"
            ],
            [
             0.7777777777777778,
             "#fb9f3a"
            ],
            [
             0.8888888888888888,
             "#fdca26"
            ],
            [
             1,
             "#f0f921"
            ]
           ]
          },
          "colorway": [
           "#636efa",
           "#EF553B",
           "#00cc96",
           "#ab63fa",
           "#FFA15A",
           "#19d3f3",
           "#FF6692",
           "#B6E880",
           "#FF97FF",
           "#FECB52"
          ],
          "font": {
           "color": "#2a3f5f"
          },
          "geo": {
           "bgcolor": "white",
           "lakecolor": "white",
           "landcolor": "#E5ECF6",
           "showlakes": true,
           "showland": true,
           "subunitcolor": "white"
          },
          "hoverlabel": {
           "align": "left"
          },
          "hovermode": "closest",
          "mapbox": {
           "style": "light"
          },
          "paper_bgcolor": "white",
          "plot_bgcolor": "#E5ECF6",
          "polar": {
           "angularaxis": {
            "gridcolor": "white",
            "linecolor": "white",
            "ticks": ""
           },
           "bgcolor": "#E5ECF6",
           "radialaxis": {
            "gridcolor": "white",
            "linecolor": "white",
            "ticks": ""
           }
          },
          "scene": {
           "xaxis": {
            "backgroundcolor": "#E5ECF6",
            "gridcolor": "white",
            "gridwidth": 2,
            "linecolor": "white",
            "showbackground": true,
            "ticks": "",
            "zerolinecolor": "white"
           },
           "yaxis": {
            "backgroundcolor": "#E5ECF6",
            "gridcolor": "white",
            "gridwidth": 2,
            "linecolor": "white",
            "showbackground": true,
            "ticks": "",
            "zerolinecolor": "white"
           },
           "zaxis": {
            "backgroundcolor": "#E5ECF6",
            "gridcolor": "white",
            "gridwidth": 2,
            "linecolor": "white",
            "showbackground": true,
            "ticks": "",
            "zerolinecolor": "white"
           }
          },
          "shapedefaults": {
           "line": {
            "color": "#2a3f5f"
           }
          },
          "ternary": {
           "aaxis": {
            "gridcolor": "white",
            "linecolor": "white",
            "ticks": ""
           },
           "baxis": {
            "gridcolor": "white",
            "linecolor": "white",
            "ticks": ""
           },
           "bgcolor": "#E5ECF6",
           "caxis": {
            "gridcolor": "white",
            "linecolor": "white",
            "ticks": ""
           }
          },
          "title": {
           "x": 0.05
          },
          "xaxis": {
           "automargin": true,
           "gridcolor": "white",
           "linecolor": "white",
           "ticks": "",
           "title": {
            "standoff": 15
           },
           "zerolinecolor": "white",
           "zerolinewidth": 2
          },
          "yaxis": {
           "automargin": true,
           "gridcolor": "white",
           "linecolor": "white",
           "ticks": "",
           "title": {
            "standoff": 15
           },
           "zerolinecolor": "white",
           "zerolinewidth": 2
          }
         }
        },
        "title": {
         "text": "Swarm Plot of Model Accuracies Across Datasets"
        },
        "width": 900,
        "xaxis": {
         "anchor": "y",
         "domain": [
          0,
          0.98
         ],
         "title": {
          "text": "Accuracy"
         }
        },
        "xaxis2": {
         "anchor": "y2",
         "domain": [
          0,
          0.98
         ],
         "matches": "x",
         "showticklabels": false
        },
        "xaxis3": {
         "anchor": "y3",
         "domain": [
          0,
          0.98
         ],
         "matches": "x",
         "showticklabels": false
        },
        "yaxis": {
         "anchor": "x",
         "domain": [
          0,
          0.3133333333333333
         ],
         "title": {
          "text": "features"
         }
        },
        "yaxis2": {
         "anchor": "x2",
         "domain": [
          0.34333333333333327,
          0.6566666666666665
         ],
         "matches": "y",
         "title": {
          "text": "features"
         }
        },
        "yaxis3": {
         "anchor": "x3",
         "domain": [
          0.6866666666666665,
          0.9999999999999998
         ],
         "matches": "y",
         "title": {
          "text": "features"
         }
        }
       }
      },
      "text/html": [
       "<div>                            <div id=\"6a0ef433-742e-4d60-9605-b51554ecbf6b\" class=\"plotly-graph-div\" style=\"height:700px; width:900px;\"></div>            <script type=\"text/javascript\">                require([\"plotly\"], function(Plotly) {                    window.PLOTLYENV=window.PLOTLYENV || {};                                    if (document.getElementById(\"6a0ef433-742e-4d60-9605-b51554ecbf6b\")) {                    Plotly.newPlot(                        \"6a0ef433-742e-4d60-9605-b51554ecbf6b\",                        [{\"alignmentgroup\":\"True\",\"boxpoints\":\"all\",\"customdata\":[[\"TabPFNClassifier\",\"PCA_5\",\"lm__all-distilroberta-v1\",true],[\"TabPFNClassifier\",\"PCA_5\",\"lm__all-distilroberta-v1\",true],[\"TabPFNClassifier\",\"PCA_5\",\"lm__all-distilroberta-v1\",true],[\"TabPFNClassifier\",\"PCA_5\",\"lm__all-distilroberta-v1\",true],[\"TabPFNClassifier\",\"PCA_5\",\"lm__all-distilroberta-v1\",true],[\"TabPFNClassifier\",\"PCA_30\",\"lm__all-distilroberta-v1\",true],[\"TabPFNClassifier\",\"PCA_30\",\"lm__all-distilroberta-v1\",true],[\"TabPFNClassifier\",\"PCA_30\",\"lm__all-distilroberta-v1\",true],[\"TabPFNClassifier\",\"PCA_30\",\"lm__all-distilroberta-v1\",true],[\"TabPFNClassifier\",\"PCA_30\",\"lm__all-distilroberta-v1\",true],[\"TabPFNClassifier\",\"PCA_90\",\"lm__all-distilroberta-v1\",true],[\"TabPFNClassifier\",\"PCA_90\",\"lm__all-distilroberta-v1\",true],[\"TabPFNClassifier\",\"PCA_90\",\"lm__all-distilroberta-v1\",true],[\"TabPFNClassifier\",\"PCA_90\",\"lm__all-distilroberta-v1\",true],[\"TabPFNClassifier\",\"PCA_90\",\"lm__all-distilroberta-v1\",true],[\"TabPFNClassifier\",\"subset_90\",\"lm__all-distilroberta-v1\",true],[\"TabPFNClassifier\",\"subset_90\",\"lm__all-distilroberta-v1\",true],[\"TabPFNClassifier\",\"subset_90\",\"lm__all-distilroberta-v1\",true],[\"TabPFNClassifier\",\"subset_90\",\"lm__all-distilroberta-v1\",true],[\"TabPFNClassifier\",\"subset_90\",\"lm__all-distilroberta-v1\",true],[\"TabPFNClassifier\",\"PCA_5\",\"lm__all-mpnet-base-v2\",true],[\"TabPFNClassifier\",\"PCA_5\",\"lm__all-mpnet-base-v2\",true],[\"TabPFNClassifier\",\"PCA_5\",\"lm__all-mpnet-base-v2\",true],[\"TabPFNClassifier\",\"PCA_5\",\"lm__all-mpnet-base-v2\",true],[\"TabPFNClassifier\",\"PCA_5\",\"lm__all-mpnet-base-v2\",true],[\"TabPFNClassifier\",\"PCA_30\",\"lm__all-mpnet-base-v2\",true],[\"TabPFNClassifier\",\"PCA_30\",\"lm__all-mpnet-base-v2\",true],[\"TabPFNClassifier\",\"PCA_30\",\"lm__all-mpnet-base-v2\",true],[\"TabPFNClassifier\",\"PCA_30\",\"lm__all-mpnet-base-v2\",true],[\"TabPFNClassifier\",\"PCA_30\",\"lm__all-mpnet-base-v2\",true],[\"TabPFNClassifier\",\"PCA_90\",\"lm__all-mpnet-base-v2\",true],[\"TabPFNClassifier\",\"PCA_90\",\"lm__all-mpnet-base-v2\",true],[\"TabPFNClassifier\",\"PCA_90\",\"lm__all-mpnet-base-v2\",true],[\"TabPFNClassifier\",\"PCA_90\",\"lm__all-mpnet-base-v2\",true],[\"TabPFNClassifier\",\"PCA_90\",\"lm__all-mpnet-base-v2\",true],[\"TabPFNClassifier\",\"subset_90\",\"lm__all-mpnet-base-v2\",true],[\"TabPFNClassifier\",\"subset_90\",\"lm__all-mpnet-base-v2\",true],[\"TabPFNClassifier\",\"subset_90\",\"lm__all-mpnet-base-v2\",true],[\"TabPFNClassifier\",\"subset_90\",\"lm__all-mpnet-base-v2\",true],[\"TabPFNClassifier\",\"subset_90\",\"lm__all-mpnet-base-v2\",true],[\"TabPFNClassifier\",\"PCA_5\",\"lm__multi-qa-mpnet-base-dot-v1\",true],[\"TabPFNClassifier\",\"PCA_5\",\"lm__multi-qa-mpnet-base-dot-v1\",true],[\"TabPFNClassifier\",\"PCA_5\",\"lm__multi-qa-mpnet-base-dot-v1\",true],[\"TabPFNClassifier\",\"PCA_5\",\"lm__multi-qa-mpnet-base-dot-v1\",true],[\"TabPFNClassifier\",\"PCA_5\",\"lm__multi-qa-mpnet-base-dot-v1\",true],[\"TabPFNClassifier\",\"PCA_30\",\"lm__multi-qa-mpnet-base-dot-v1\",true],[\"TabPFNClassifier\",\"PCA_30\",\"lm__multi-qa-mpnet-base-dot-v1\",true],[\"TabPFNClassifier\",\"PCA_30\",\"lm__multi-qa-mpnet-base-dot-v1\",true],[\"TabPFNClassifier\",\"PCA_30\",\"lm__multi-qa-mpnet-base-dot-v1\",true],[\"TabPFNClassifier\",\"PCA_30\",\"lm__multi-qa-mpnet-base-dot-v1\",true],[\"TabPFNClassifier\",\"PCA_90\",\"lm__multi-qa-mpnet-base-dot-v1\",true],[\"TabPFNClassifier\",\"PCA_90\",\"lm__multi-qa-mpnet-base-dot-v1\",true],[\"TabPFNClassifier\",\"PCA_90\",\"lm__multi-qa-mpnet-base-dot-v1\",true],[\"TabPFNClassifier\",\"PCA_90\",\"lm__multi-qa-mpnet-base-dot-v1\",true],[\"TabPFNClassifier\",\"PCA_90\",\"lm__multi-qa-mpnet-base-dot-v1\",true],[\"TabPFNClassifier\",\"subset_90\",\"lm__multi-qa-mpnet-base-dot-v1\",true],[\"TabPFNClassifier\",\"subset_90\",\"lm__multi-qa-mpnet-base-dot-v1\",true],[\"TabPFNClassifier\",\"subset_90\",\"lm__multi-qa-mpnet-base-dot-v1\",true],[\"TabPFNClassifier\",\"subset_90\",\"lm__multi-qa-mpnet-base-dot-v1\",true],[\"TabPFNClassifier\",\"subset_90\",\"lm__multi-qa-mpnet-base-dot-v1\",true],[\"TabPFNClassifier\",\"PCA_5\",\"openai__\",true],[\"TabPFNClassifier\",\"PCA_5\",\"openai__\",true],[\"TabPFNClassifier\",\"PCA_5\",\"openai__\",true],[\"TabPFNClassifier\",\"PCA_5\",\"openai__\",true],[\"TabPFNClassifier\",\"PCA_5\",\"openai__\",true],[\"TabPFNClassifier\",\"PCA_30\",\"openai__\",true],[\"TabPFNClassifier\",\"PCA_30\",\"openai__\",true],[\"TabPFNClassifier\",\"PCA_30\",\"openai__\",true],[\"TabPFNClassifier\",\"PCA_30\",\"openai__\",true],[\"TabPFNClassifier\",\"PCA_30\",\"openai__\",true],[\"TabPFNClassifier\",\"PCA_90\",\"openai__\",true],[\"TabPFNClassifier\",\"PCA_90\",\"openai__\",true],[\"TabPFNClassifier\",\"PCA_90\",\"openai__\",true],[\"TabPFNClassifier\",\"PCA_90\",\"openai__\",true],[\"TabPFNClassifier\",\"PCA_90\",\"openai__\",true],[\"TabPFNClassifier\",\"subset_90\",\"openai__\",true],[\"TabPFNClassifier\",\"subset_90\",\"openai__\",true],[\"TabPFNClassifier\",\"subset_90\",\"openai__\",true],[\"TabPFNClassifier\",\"subset_90\",\"openai__\",true],[\"TabPFNClassifier\",\"subset_90\",\"openai__\",true]],\"fillcolor\":\"rgba(255,255,255,0)\",\"hoveron\":\"points\",\"hovertemplate\":\"sentences=%{customdata[3]}\\u003cbr\\u003eModel=%{customdata[0]}\\u003cbr\\u003eAccuracy=%{x}\\u003cbr\\u003efeatures=%{y}\\u003cbr\\u003edim_reduction=%{customdata[1]}\\u003cbr\\u003eencoding=%{customdata[2]}\\u003cextra\\u003e\\u003c\\u002fextra\\u003e\",\"legendgroup\":\"True\",\"line\":{\"color\":\"rgba(255,255,255,0)\"},\"marker\":{\"color\":\"#636efa\"},\"name\":\"True\",\"offsetgroup\":\"True\",\"orientation\":\"h\",\"pointpos\":0,\"showlegend\":true,\"x\":[0.7566666666666667,0.7466666666666667,0.7466666666666667,0.7766666666666666,0.77,0.7533333333333333,0.7466666666666667,0.79,0.7533333333333333,0.7766666666666666,0.75,0.7866666666666666,0.7766666666666666,0.75,0.78,0.77,0.7966666666666666,0.8,0.7633333333333333,0.8,0.7633333333333333,0.7466666666666667,0.7533333333333333,0.78,0.7766666666666666,0.78,0.7666666666666667,0.79,0.7833333333333333,0.7766666666666666,0.8066666666666666,0.8133333333333334,0.8033333333333333,0.77,0.7766666666666666,0.79,0.7866666666666666,0.79,0.7966666666666666,0.7966666666666666,0.7766666666666666,0.7466666666666667,0.7566666666666667,0.7533333333333333,0.7866666666666666,0.77,0.7633333333333333,0.78,0.7733333333333333,0.79,0.76,0.78,0.79,0.7866666666666666,0.8,0.7733333333333333,0.7666666666666667,0.7833333333333333,0.78,0.7833333333333333,0.77,0.77,0.7533333333333333,0.7966666666666666,0.7933333333333333,0.79,0.79,0.7833333333333333,0.82,0.8133333333333334,0.8066666666666666,0.8166666666666667,0.81,0.7966666666666666,0.8066666666666666,0.7833333333333333,0.78,0.78,0.7633333333333333,0.7866666666666666],\"x0\":\" \",\"xaxis\":\"x3\",\"y\":[\"all\",\"all\",\"all\",\"all\",\"all\",\"all\",\"all\",\"all\",\"all\",\"all\",\"all\",\"all\",\"all\",\"all\",\"all\",\"all\",\"all\",\"all\",\"all\",\"all\",\"all\",\"all\",\"all\",\"all\",\"all\",\"all\",\"all\",\"all\",\"all\",\"all\",\"all\",\"all\",\"all\",\"all\",\"all\",\"all\",\"all\",\"all\",\"all\",\"all\",\"all\",\"all\",\"all\",\"all\",\"all\",\"all\",\"all\",\"all\",\"all\",\"all\",\"all\",\"all\",\"all\",\"all\",\"all\",\"all\",\"all\",\"all\",\"all\",\"all\",\"all\",\"all\",\"all\",\"all\",\"all\",\"all\",\"all\",\"all\",\"all\",\"all\",\"all\",\"all\",\"all\",\"all\",\"all\",\"all\",\"all\",\"all\",\"all\",\"all\"],\"y0\":\" \",\"yaxis\":\"y3\",\"type\":\"box\"},{\"alignmentgroup\":\"True\",\"boxpoints\":\"all\",\"customdata\":[[\"GradientBoostingClassifier\",\"PCA_5\",\"lm__all-distilroberta-v1\",true],[\"GradientBoostingClassifier\",\"PCA_5\",\"lm__all-distilroberta-v1\",true],[\"GradientBoostingClassifier\",\"PCA_5\",\"lm__all-distilroberta-v1\",true],[\"GradientBoostingClassifier\",\"PCA_5\",\"lm__all-distilroberta-v1\",true],[\"GradientBoostingClassifier\",\"PCA_5\",\"lm__all-distilroberta-v1\",true],[\"GradientBoostingClassifier\",\"PCA_30\",\"lm__all-distilroberta-v1\",true],[\"GradientBoostingClassifier\",\"PCA_30\",\"lm__all-distilroberta-v1\",true],[\"GradientBoostingClassifier\",\"PCA_30\",\"lm__all-distilroberta-v1\",true],[\"GradientBoostingClassifier\",\"PCA_30\",\"lm__all-distilroberta-v1\",true],[\"GradientBoostingClassifier\",\"PCA_30\",\"lm__all-distilroberta-v1\",true],[\"GradientBoostingClassifier\",\"PCA_90\",\"lm__all-distilroberta-v1\",true],[\"GradientBoostingClassifier\",\"PCA_90\",\"lm__all-distilroberta-v1\",true],[\"GradientBoostingClassifier\",\"PCA_90\",\"lm__all-distilroberta-v1\",true],[\"GradientBoostingClassifier\",\"PCA_90\",\"lm__all-distilroberta-v1\",true],[\"GradientBoostingClassifier\",\"PCA_90\",\"lm__all-distilroberta-v1\",true],[\"GradientBoostingClassifier\",\"subset_90\",\"lm__all-distilroberta-v1\",true],[\"GradientBoostingClassifier\",\"subset_90\",\"lm__all-distilroberta-v1\",true],[\"GradientBoostingClassifier\",\"subset_90\",\"lm__all-distilroberta-v1\",true],[\"GradientBoostingClassifier\",\"subset_90\",\"lm__all-distilroberta-v1\",true],[\"GradientBoostingClassifier\",\"subset_90\",\"lm__all-distilroberta-v1\",true],[\"GradientBoostingClassifier\",\"PCA_5\",\"lm__all-mpnet-base-v2\",true],[\"GradientBoostingClassifier\",\"PCA_5\",\"lm__all-mpnet-base-v2\",true],[\"GradientBoostingClassifier\",\"PCA_5\",\"lm__all-mpnet-base-v2\",true],[\"GradientBoostingClassifier\",\"PCA_5\",\"lm__all-mpnet-base-v2\",true],[\"GradientBoostingClassifier\",\"PCA_5\",\"lm__all-mpnet-base-v2\",true],[\"GradientBoostingClassifier\",\"PCA_30\",\"lm__all-mpnet-base-v2\",true],[\"GradientBoostingClassifier\",\"PCA_30\",\"lm__all-mpnet-base-v2\",true],[\"GradientBoostingClassifier\",\"PCA_30\",\"lm__all-mpnet-base-v2\",true],[\"GradientBoostingClassifier\",\"PCA_30\",\"lm__all-mpnet-base-v2\",true],[\"GradientBoostingClassifier\",\"PCA_30\",\"lm__all-mpnet-base-v2\",true],[\"GradientBoostingClassifier\",\"PCA_90\",\"lm__all-mpnet-base-v2\",true],[\"GradientBoostingClassifier\",\"PCA_90\",\"lm__all-mpnet-base-v2\",true],[\"GradientBoostingClassifier\",\"PCA_90\",\"lm__all-mpnet-base-v2\",true],[\"GradientBoostingClassifier\",\"PCA_90\",\"lm__all-mpnet-base-v2\",true],[\"GradientBoostingClassifier\",\"PCA_90\",\"lm__all-mpnet-base-v2\",true],[\"GradientBoostingClassifier\",\"subset_90\",\"lm__all-mpnet-base-v2\",true],[\"GradientBoostingClassifier\",\"subset_90\",\"lm__all-mpnet-base-v2\",true],[\"GradientBoostingClassifier\",\"subset_90\",\"lm__all-mpnet-base-v2\",true],[\"GradientBoostingClassifier\",\"subset_90\",\"lm__all-mpnet-base-v2\",true],[\"GradientBoostingClassifier\",\"subset_90\",\"lm__all-mpnet-base-v2\",true],[\"GradientBoostingClassifier\",\"PCA_5\",\"lm__multi-qa-mpnet-base-dot-v1\",true],[\"GradientBoostingClassifier\",\"PCA_5\",\"lm__multi-qa-mpnet-base-dot-v1\",true],[\"GradientBoostingClassifier\",\"PCA_5\",\"lm__multi-qa-mpnet-base-dot-v1\",true],[\"GradientBoostingClassifier\",\"PCA_5\",\"lm__multi-qa-mpnet-base-dot-v1\",true],[\"GradientBoostingClassifier\",\"PCA_5\",\"lm__multi-qa-mpnet-base-dot-v1\",true],[\"GradientBoostingClassifier\",\"PCA_30\",\"lm__multi-qa-mpnet-base-dot-v1\",true],[\"GradientBoostingClassifier\",\"PCA_30\",\"lm__multi-qa-mpnet-base-dot-v1\",true],[\"GradientBoostingClassifier\",\"PCA_30\",\"lm__multi-qa-mpnet-base-dot-v1\",true],[\"GradientBoostingClassifier\",\"PCA_30\",\"lm__multi-qa-mpnet-base-dot-v1\",true],[\"GradientBoostingClassifier\",\"PCA_30\",\"lm__multi-qa-mpnet-base-dot-v1\",true],[\"GradientBoostingClassifier\",\"PCA_90\",\"lm__multi-qa-mpnet-base-dot-v1\",true],[\"GradientBoostingClassifier\",\"PCA_90\",\"lm__multi-qa-mpnet-base-dot-v1\",true],[\"GradientBoostingClassifier\",\"PCA_90\",\"lm__multi-qa-mpnet-base-dot-v1\",true],[\"GradientBoostingClassifier\",\"PCA_90\",\"lm__multi-qa-mpnet-base-dot-v1\",true],[\"GradientBoostingClassifier\",\"PCA_90\",\"lm__multi-qa-mpnet-base-dot-v1\",true],[\"GradientBoostingClassifier\",\"subset_90\",\"lm__multi-qa-mpnet-base-dot-v1\",true],[\"GradientBoostingClassifier\",\"subset_90\",\"lm__multi-qa-mpnet-base-dot-v1\",true],[\"GradientBoostingClassifier\",\"subset_90\",\"lm__multi-qa-mpnet-base-dot-v1\",true],[\"GradientBoostingClassifier\",\"subset_90\",\"lm__multi-qa-mpnet-base-dot-v1\",true],[\"GradientBoostingClassifier\",\"subset_90\",\"lm__multi-qa-mpnet-base-dot-v1\",true],[\"GradientBoostingClassifier\",\"PCA_5\",\"openai__\",true],[\"GradientBoostingClassifier\",\"PCA_5\",\"openai__\",true],[\"GradientBoostingClassifier\",\"PCA_5\",\"openai__\",true],[\"GradientBoostingClassifier\",\"PCA_5\",\"openai__\",true],[\"GradientBoostingClassifier\",\"PCA_5\",\"openai__\",true],[\"GradientBoostingClassifier\",\"PCA_30\",\"openai__\",true],[\"GradientBoostingClassifier\",\"PCA_30\",\"openai__\",true],[\"GradientBoostingClassifier\",\"PCA_30\",\"openai__\",true],[\"GradientBoostingClassifier\",\"PCA_30\",\"openai__\",true],[\"GradientBoostingClassifier\",\"PCA_30\",\"openai__\",true],[\"GradientBoostingClassifier\",\"PCA_90\",\"openai__\",true],[\"GradientBoostingClassifier\",\"PCA_90\",\"openai__\",true],[\"GradientBoostingClassifier\",\"PCA_90\",\"openai__\",true],[\"GradientBoostingClassifier\",\"PCA_90\",\"openai__\",true],[\"GradientBoostingClassifier\",\"PCA_90\",\"openai__\",true],[\"GradientBoostingClassifier\",\"subset_90\",\"openai__\",true],[\"GradientBoostingClassifier\",\"subset_90\",\"openai__\",true],[\"GradientBoostingClassifier\",\"subset_90\",\"openai__\",true],[\"GradientBoostingClassifier\",\"subset_90\",\"openai__\",true],[\"GradientBoostingClassifier\",\"subset_90\",\"openai__\",true]],\"fillcolor\":\"rgba(255,255,255,0)\",\"hoveron\":\"points\",\"hovertemplate\":\"sentences=%{customdata[3]}\\u003cbr\\u003eModel=%{customdata[0]}\\u003cbr\\u003eAccuracy=%{x}\\u003cbr\\u003efeatures=%{y}\\u003cbr\\u003edim_reduction=%{customdata[1]}\\u003cbr\\u003eencoding=%{customdata[2]}\\u003cextra\\u003e\\u003c\\u002fextra\\u003e\",\"legendgroup\":\"True\",\"line\":{\"color\":\"rgba(255,255,255,0)\"},\"marker\":{\"color\":\"#636efa\"},\"name\":\"True\",\"offsetgroup\":\"True\",\"orientation\":\"h\",\"pointpos\":0,\"showlegend\":false,\"x\":[0.7566666666666667,0.75,0.7066666666666667,0.74,0.7133333333333334,0.7633333333333333,0.7633333333333333,0.77,0.7333333333333333,0.7566666666666667,0.75,0.7833333333333333,0.7833333333333333,0.7733333333333333,0.7833333333333333,0.75,0.78,0.77,0.7566666666666667,0.77,0.7233333333333334,0.7266666666666667,0.7133333333333334,0.7433333333333333,0.73,0.7633333333333333,0.7833333333333333,0.7733333333333333,0.7566666666666667,0.7633333333333333,0.7766666666666666,0.7933333333333333,0.77,0.75,0.7833333333333333,0.7333333333333333,0.76,0.7533333333333333,0.7566666666666667,0.7733333333333333,0.7133333333333334,0.7366666666666667,0.7233333333333334,0.7433333333333333,0.77,0.7533333333333333,0.7266666666666667,0.74,0.77,0.7533333333333333,0.7133333333333334,0.78,0.77,0.7933333333333333,0.7866666666666666,0.7266666666666667,0.7533333333333333,0.7366666666666667,0.77,0.7433333333333333,0.7166666666666667,0.7566666666666667,0.7566666666666667,0.7666666666666667,0.7666666666666667,0.7566666666666667,0.76,0.7866666666666666,0.79,0.79,0.77,0.77,0.7766666666666666,0.8133333333333334,0.7733333333333333,0.7566666666666667,0.7633333333333333,0.73,0.7333333333333333,0.79],\"x0\":\" \",\"xaxis\":\"x2\",\"y\":[\"all\",\"all\",\"all\",\"all\",\"all\",\"all\",\"all\",\"all\",\"all\",\"all\",\"all\",\"all\",\"all\",\"all\",\"all\",\"all\",\"all\",\"all\",\"all\",\"all\",\"all\",\"all\",\"all\",\"all\",\"all\",\"all\",\"all\",\"all\",\"all\",\"all\",\"all\",\"all\",\"all\",\"all\",\"all\",\"all\",\"all\",\"all\",\"all\",\"all\",\"all\",\"all\",\"all\",\"all\",\"all\",\"all\",\"all\",\"all\",\"all\",\"all\",\"all\",\"all\",\"all\",\"all\",\"all\",\"all\",\"all\",\"all\",\"all\",\"all\",\"all\",\"all\",\"all\",\"all\",\"all\",\"all\",\"all\",\"all\",\"all\",\"all\",\"all\",\"all\",\"all\",\"all\",\"all\",\"all\",\"all\",\"all\",\"all\",\"all\"],\"y0\":\" \",\"yaxis\":\"y2\",\"type\":\"box\"},{\"alignmentgroup\":\"True\",\"boxpoints\":\"all\",\"customdata\":[[\"LogisticRegression\",\"PCA_5\",\"lm__all-distilroberta-v1\",true],[\"LogisticRegression\",\"PCA_5\",\"lm__all-distilroberta-v1\",true],[\"LogisticRegression\",\"PCA_5\",\"lm__all-distilroberta-v1\",true],[\"LogisticRegression\",\"PCA_5\",\"lm__all-distilroberta-v1\",true],[\"LogisticRegression\",\"PCA_5\",\"lm__all-distilroberta-v1\",true],[\"LogisticRegression\",\"PCA_30\",\"lm__all-distilroberta-v1\",true],[\"LogisticRegression\",\"PCA_30\",\"lm__all-distilroberta-v1\",true],[\"LogisticRegression\",\"PCA_30\",\"lm__all-distilroberta-v1\",true],[\"LogisticRegression\",\"PCA_30\",\"lm__all-distilroberta-v1\",true],[\"LogisticRegression\",\"PCA_30\",\"lm__all-distilroberta-v1\",true],[\"LogisticRegression\",\"PCA_90\",\"lm__all-distilroberta-v1\",true],[\"LogisticRegression\",\"PCA_90\",\"lm__all-distilroberta-v1\",true],[\"LogisticRegression\",\"PCA_90\",\"lm__all-distilroberta-v1\",true],[\"LogisticRegression\",\"PCA_90\",\"lm__all-distilroberta-v1\",true],[\"LogisticRegression\",\"PCA_90\",\"lm__all-distilroberta-v1\",true],[\"LogisticRegression\",\"subset_90\",\"lm__all-distilroberta-v1\",true],[\"LogisticRegression\",\"subset_90\",\"lm__all-distilroberta-v1\",true],[\"LogisticRegression\",\"subset_90\",\"lm__all-distilroberta-v1\",true],[\"LogisticRegression\",\"subset_90\",\"lm__all-distilroberta-v1\",true],[\"LogisticRegression\",\"subset_90\",\"lm__all-distilroberta-v1\",true],[\"LogisticRegression\",\"passthrough\",\"lm__all-distilroberta-v1\",true],[\"LogisticRegression\",\"passthrough\",\"lm__all-distilroberta-v1\",true],[\"LogisticRegression\",\"passthrough\",\"lm__all-distilroberta-v1\",true],[\"LogisticRegression\",\"passthrough\",\"lm__all-distilroberta-v1\",true],[\"LogisticRegression\",\"passthrough\",\"lm__all-distilroberta-v1\",true],[\"LogisticRegression\",\"PCA_5\",\"lm__all-mpnet-base-v2\",true],[\"LogisticRegression\",\"PCA_5\",\"lm__all-mpnet-base-v2\",true],[\"LogisticRegression\",\"PCA_5\",\"lm__all-mpnet-base-v2\",true],[\"LogisticRegression\",\"PCA_5\",\"lm__all-mpnet-base-v2\",true],[\"LogisticRegression\",\"PCA_5\",\"lm__all-mpnet-base-v2\",true],[\"LogisticRegression\",\"PCA_30\",\"lm__all-mpnet-base-v2\",true],[\"LogisticRegression\",\"PCA_30\",\"lm__all-mpnet-base-v2\",true],[\"LogisticRegression\",\"PCA_30\",\"lm__all-mpnet-base-v2\",true],[\"LogisticRegression\",\"PCA_30\",\"lm__all-mpnet-base-v2\",true],[\"LogisticRegression\",\"PCA_30\",\"lm__all-mpnet-base-v2\",true],[\"LogisticRegression\",\"PCA_90\",\"lm__all-mpnet-base-v2\",true],[\"LogisticRegression\",\"PCA_90\",\"lm__all-mpnet-base-v2\",true],[\"LogisticRegression\",\"PCA_90\",\"lm__all-mpnet-base-v2\",true],[\"LogisticRegression\",\"PCA_90\",\"lm__all-mpnet-base-v2\",true],[\"LogisticRegression\",\"PCA_90\",\"lm__all-mpnet-base-v2\",true],[\"LogisticRegression\",\"subset_90\",\"lm__all-mpnet-base-v2\",true],[\"LogisticRegression\",\"subset_90\",\"lm__all-mpnet-base-v2\",true],[\"LogisticRegression\",\"subset_90\",\"lm__all-mpnet-base-v2\",true],[\"LogisticRegression\",\"subset_90\",\"lm__all-mpnet-base-v2\",true],[\"LogisticRegression\",\"subset_90\",\"lm__all-mpnet-base-v2\",true],[\"LogisticRegression\",\"passthrough\",\"lm__all-mpnet-base-v2\",true],[\"LogisticRegression\",\"passthrough\",\"lm__all-mpnet-base-v2\",true],[\"LogisticRegression\",\"passthrough\",\"lm__all-mpnet-base-v2\",true],[\"LogisticRegression\",\"passthrough\",\"lm__all-mpnet-base-v2\",true],[\"LogisticRegression\",\"passthrough\",\"lm__all-mpnet-base-v2\",true],[\"LogisticRegression\",\"PCA_5\",\"lm__multi-qa-mpnet-base-dot-v1\",true],[\"LogisticRegression\",\"PCA_5\",\"lm__multi-qa-mpnet-base-dot-v1\",true],[\"LogisticRegression\",\"PCA_5\",\"lm__multi-qa-mpnet-base-dot-v1\",true],[\"LogisticRegression\",\"PCA_5\",\"lm__multi-qa-mpnet-base-dot-v1\",true],[\"LogisticRegression\",\"PCA_5\",\"lm__multi-qa-mpnet-base-dot-v1\",true],[\"LogisticRegression\",\"PCA_30\",\"lm__multi-qa-mpnet-base-dot-v1\",true],[\"LogisticRegression\",\"PCA_30\",\"lm__multi-qa-mpnet-base-dot-v1\",true],[\"LogisticRegression\",\"PCA_30\",\"lm__multi-qa-mpnet-base-dot-v1\",true],[\"LogisticRegression\",\"PCA_30\",\"lm__multi-qa-mpnet-base-dot-v1\",true],[\"LogisticRegression\",\"PCA_30\",\"lm__multi-qa-mpnet-base-dot-v1\",true],[\"LogisticRegression\",\"PCA_90\",\"lm__multi-qa-mpnet-base-dot-v1\",true],[\"LogisticRegression\",\"PCA_90\",\"lm__multi-qa-mpnet-base-dot-v1\",true],[\"LogisticRegression\",\"PCA_90\",\"lm__multi-qa-mpnet-base-dot-v1\",true],[\"LogisticRegression\",\"PCA_90\",\"lm__multi-qa-mpnet-base-dot-v1\",true],[\"LogisticRegression\",\"PCA_90\",\"lm__multi-qa-mpnet-base-dot-v1\",true],[\"LogisticRegression\",\"subset_90\",\"lm__multi-qa-mpnet-base-dot-v1\",true],[\"LogisticRegression\",\"subset_90\",\"lm__multi-qa-mpnet-base-dot-v1\",true],[\"LogisticRegression\",\"subset_90\",\"lm__multi-qa-mpnet-base-dot-v1\",true],[\"LogisticRegression\",\"subset_90\",\"lm__multi-qa-mpnet-base-dot-v1\",true],[\"LogisticRegression\",\"subset_90\",\"lm__multi-qa-mpnet-base-dot-v1\",true],[\"LogisticRegression\",\"passthrough\",\"lm__multi-qa-mpnet-base-dot-v1\",true],[\"LogisticRegression\",\"passthrough\",\"lm__multi-qa-mpnet-base-dot-v1\",true],[\"LogisticRegression\",\"passthrough\",\"lm__multi-qa-mpnet-base-dot-v1\",true],[\"LogisticRegression\",\"passthrough\",\"lm__multi-qa-mpnet-base-dot-v1\",true],[\"LogisticRegression\",\"passthrough\",\"lm__multi-qa-mpnet-base-dot-v1\",true],[\"LogisticRegression\",\"PCA_5\",\"openai__\",true],[\"LogisticRegression\",\"PCA_5\",\"openai__\",true],[\"LogisticRegression\",\"PCA_5\",\"openai__\",true],[\"LogisticRegression\",\"PCA_5\",\"openai__\",true],[\"LogisticRegression\",\"PCA_5\",\"openai__\",true],[\"LogisticRegression\",\"PCA_30\",\"openai__\",true],[\"LogisticRegression\",\"PCA_30\",\"openai__\",true],[\"LogisticRegression\",\"PCA_30\",\"openai__\",true],[\"LogisticRegression\",\"PCA_30\",\"openai__\",true],[\"LogisticRegression\",\"PCA_30\",\"openai__\",true],[\"LogisticRegression\",\"PCA_90\",\"openai__\",true],[\"LogisticRegression\",\"PCA_90\",\"openai__\",true],[\"LogisticRegression\",\"PCA_90\",\"openai__\",true],[\"LogisticRegression\",\"PCA_90\",\"openai__\",true],[\"LogisticRegression\",\"PCA_90\",\"openai__\",true],[\"LogisticRegression\",\"subset_90\",\"openai__\",true],[\"LogisticRegression\",\"subset_90\",\"openai__\",true],[\"LogisticRegression\",\"subset_90\",\"openai__\",true],[\"LogisticRegression\",\"subset_90\",\"openai__\",true],[\"LogisticRegression\",\"subset_90\",\"openai__\",true],[\"LogisticRegression\",\"passthrough\",\"openai__\",true],[\"LogisticRegression\",\"passthrough\",\"openai__\",true],[\"LogisticRegression\",\"passthrough\",\"openai__\",true],[\"LogisticRegression\",\"passthrough\",\"openai__\",true],[\"LogisticRegression\",\"passthrough\",\"openai__\",true]],\"fillcolor\":\"rgba(255,255,255,0)\",\"hoveron\":\"points\",\"hovertemplate\":\"sentences=%{customdata[3]}\\u003cbr\\u003eModel=%{customdata[0]}\\u003cbr\\u003eAccuracy=%{x}\\u003cbr\\u003efeatures=%{y}\\u003cbr\\u003edim_reduction=%{customdata[1]}\\u003cbr\\u003eencoding=%{customdata[2]}\\u003cextra\\u003e\\u003c\\u002fextra\\u003e\",\"legendgroup\":\"True\",\"line\":{\"color\":\"rgba(255,255,255,0)\"},\"marker\":{\"color\":\"#636efa\"},\"name\":\"True\",\"offsetgroup\":\"True\",\"orientation\":\"h\",\"pointpos\":0,\"showlegend\":false,\"x\":[0.76,0.7566666666666667,0.7633333333333333,0.76,0.7666666666666667,0.7533333333333333,0.7733333333333333,0.7766666666666666,0.7633333333333333,0.7733333333333333,0.7733333333333333,0.7733333333333333,0.7833333333333333,0.7733333333333333,0.7733333333333333,0.74,0.75,0.7533333333333333,0.7366666666666667,0.7566666666666667,0.7766666666666666,0.7766666666666666,0.7833333333333333,0.7766666666666666,0.7733333333333333,0.73,0.75,0.7566666666666667,0.7466666666666667,0.77,0.76,0.77,0.7933333333333333,0.7866666666666666,0.7733333333333333,0.7933333333333333,0.7733333333333333,0.8,0.7833333333333333,0.78,0.74,0.7633333333333333,0.75,0.7566666666666667,0.7666666666666667,0.7966666666666666,0.7833333333333333,0.81,0.8,0.7833333333333333,0.73,0.75,0.7366666666666667,0.7433333333333333,0.7833333333333333,0.7533333333333333,0.7433333333333333,0.8033333333333333,0.7833333333333333,0.76,0.7766666666666666,0.7833333333333333,0.7833333333333333,0.7966666666666666,0.7933333333333333,0.7666666666666667,0.7566666666666667,0.7566666666666667,0.7633333333333333,0.7533333333333333,0.78,0.81,0.8133333333333334,0.81,0.7933333333333333,0.75,0.7566666666666667,0.7433333333333333,0.75,0.77,0.75,0.76,0.76,0.7533333333333333,0.7633333333333333,0.7566666666666667,0.76,0.7633333333333333,0.7566666666666667,0.7666666666666667,0.5,0.64,0.7533333333333333,0.73,0.7666666666666667,0.7566666666666667,0.7633333333333333,0.7633333333333333,0.7566666666666667,0.7666666666666667],\"x0\":\" \",\"xaxis\":\"x\",\"y\":[\"all\",\"all\",\"all\",\"all\",\"all\",\"all\",\"all\",\"all\",\"all\",\"all\",\"all\",\"all\",\"all\",\"all\",\"all\",\"all\",\"all\",\"all\",\"all\",\"all\",\"all\",\"all\",\"all\",\"all\",\"all\",\"all\",\"all\",\"all\",\"all\",\"all\",\"all\",\"all\",\"all\",\"all\",\"all\",\"all\",\"all\",\"all\",\"all\",\"all\",\"all\",\"all\",\"all\",\"all\",\"all\",\"all\",\"all\",\"all\",\"all\",\"all\",\"all\",\"all\",\"all\",\"all\",\"all\",\"all\",\"all\",\"all\",\"all\",\"all\",\"all\",\"all\",\"all\",\"all\",\"all\",\"all\",\"all\",\"all\",\"all\",\"all\",\"all\",\"all\",\"all\",\"all\",\"all\",\"all\",\"all\",\"all\",\"all\",\"all\",\"all\",\"all\",\"all\",\"all\",\"all\",\"all\",\"all\",\"all\",\"all\",\"all\",\"all\",\"all\",\"all\",\"all\",\"all\",\"all\",\"all\",\"all\",\"all\",\"all\"],\"y0\":\" \",\"yaxis\":\"y\",\"type\":\"box\"},{\"alignmentgroup\":\"True\",\"boxpoints\":\"all\",\"customdata\":[[\"TabPFNClassifier\",\"PCA_5\",\"lm__all-distilroberta-v1\",false],[\"TabPFNClassifier\",\"PCA_5\",\"lm__all-distilroberta-v1\",false],[\"TabPFNClassifier\",\"PCA_5\",\"lm__all-distilroberta-v1\",false],[\"TabPFNClassifier\",\"PCA_5\",\"lm__all-distilroberta-v1\",false],[\"TabPFNClassifier\",\"PCA_5\",\"lm__all-distilroberta-v1\",false],[\"TabPFNClassifier\",\"PCA_30\",\"lm__all-distilroberta-v1\",false],[\"TabPFNClassifier\",\"PCA_30\",\"lm__all-distilroberta-v1\",false],[\"TabPFNClassifier\",\"PCA_30\",\"lm__all-distilroberta-v1\",false],[\"TabPFNClassifier\",\"PCA_30\",\"lm__all-distilroberta-v1\",false],[\"TabPFNClassifier\",\"PCA_30\",\"lm__all-distilroberta-v1\",false],[\"TabPFNClassifier\",\"PCA_90\",\"lm__all-distilroberta-v1\",false],[\"TabPFNClassifier\",\"PCA_90\",\"lm__all-distilroberta-v1\",false],[\"TabPFNClassifier\",\"PCA_90\",\"lm__all-distilroberta-v1\",false],[\"TabPFNClassifier\",\"PCA_90\",\"lm__all-distilroberta-v1\",false],[\"TabPFNClassifier\",\"PCA_90\",\"lm__all-distilroberta-v1\",false],[\"TabPFNClassifier\",\"subset_90\",\"lm__all-distilroberta-v1\",false],[\"TabPFNClassifier\",\"subset_90\",\"lm__all-distilroberta-v1\",false],[\"TabPFNClassifier\",\"subset_90\",\"lm__all-distilroberta-v1\",false],[\"TabPFNClassifier\",\"subset_90\",\"lm__all-distilroberta-v1\",false],[\"TabPFNClassifier\",\"subset_90\",\"lm__all-distilroberta-v1\",false],[\"TabPFNClassifier\",\"PCA_5\",\"lm__all-mpnet-base-v2\",false],[\"TabPFNClassifier\",\"PCA_5\",\"lm__all-mpnet-base-v2\",false],[\"TabPFNClassifier\",\"PCA_5\",\"lm__all-mpnet-base-v2\",false],[\"TabPFNClassifier\",\"PCA_5\",\"lm__all-mpnet-base-v2\",false],[\"TabPFNClassifier\",\"PCA_5\",\"lm__all-mpnet-base-v2\",false],[\"TabPFNClassifier\",\"PCA_30\",\"lm__all-mpnet-base-v2\",false],[\"TabPFNClassifier\",\"PCA_30\",\"lm__all-mpnet-base-v2\",false],[\"TabPFNClassifier\",\"PCA_30\",\"lm__all-mpnet-base-v2\",false],[\"TabPFNClassifier\",\"PCA_30\",\"lm__all-mpnet-base-v2\",false],[\"TabPFNClassifier\",\"PCA_30\",\"lm__all-mpnet-base-v2\",false],[\"TabPFNClassifier\",\"PCA_90\",\"lm__all-mpnet-base-v2\",false],[\"TabPFNClassifier\",\"PCA_90\",\"lm__all-mpnet-base-v2\",false],[\"TabPFNClassifier\",\"PCA_90\",\"lm__all-mpnet-base-v2\",false],[\"TabPFNClassifier\",\"PCA_90\",\"lm__all-mpnet-base-v2\",false],[\"TabPFNClassifier\",\"PCA_90\",\"lm__all-mpnet-base-v2\",false],[\"TabPFNClassifier\",\"subset_90\",\"lm__all-mpnet-base-v2\",false],[\"TabPFNClassifier\",\"subset_90\",\"lm__all-mpnet-base-v2\",false],[\"TabPFNClassifier\",\"subset_90\",\"lm__all-mpnet-base-v2\",false],[\"TabPFNClassifier\",\"subset_90\",\"lm__all-mpnet-base-v2\",false],[\"TabPFNClassifier\",\"subset_90\",\"lm__all-mpnet-base-v2\",false],[\"TabPFNClassifier\",\"PCA_5\",\"lm__multi-qa-mpnet-base-dot-v1\",false],[\"TabPFNClassifier\",\"PCA_5\",\"lm__multi-qa-mpnet-base-dot-v1\",false],[\"TabPFNClassifier\",\"PCA_5\",\"lm__multi-qa-mpnet-base-dot-v1\",false],[\"TabPFNClassifier\",\"PCA_5\",\"lm__multi-qa-mpnet-base-dot-v1\",false],[\"TabPFNClassifier\",\"PCA_5\",\"lm__multi-qa-mpnet-base-dot-v1\",false],[\"TabPFNClassifier\",\"PCA_30\",\"lm__multi-qa-mpnet-base-dot-v1\",false],[\"TabPFNClassifier\",\"PCA_30\",\"lm__multi-qa-mpnet-base-dot-v1\",false],[\"TabPFNClassifier\",\"PCA_30\",\"lm__multi-qa-mpnet-base-dot-v1\",false],[\"TabPFNClassifier\",\"PCA_30\",\"lm__multi-qa-mpnet-base-dot-v1\",false],[\"TabPFNClassifier\",\"PCA_30\",\"lm__multi-qa-mpnet-base-dot-v1\",false],[\"TabPFNClassifier\",\"PCA_90\",\"lm__multi-qa-mpnet-base-dot-v1\",false],[\"TabPFNClassifier\",\"PCA_90\",\"lm__multi-qa-mpnet-base-dot-v1\",false],[\"TabPFNClassifier\",\"PCA_90\",\"lm__multi-qa-mpnet-base-dot-v1\",false],[\"TabPFNClassifier\",\"PCA_90\",\"lm__multi-qa-mpnet-base-dot-v1\",false],[\"TabPFNClassifier\",\"PCA_90\",\"lm__multi-qa-mpnet-base-dot-v1\",false],[\"TabPFNClassifier\",\"subset_90\",\"lm__multi-qa-mpnet-base-dot-v1\",false],[\"TabPFNClassifier\",\"subset_90\",\"lm__multi-qa-mpnet-base-dot-v1\",false],[\"TabPFNClassifier\",\"subset_90\",\"lm__multi-qa-mpnet-base-dot-v1\",false],[\"TabPFNClassifier\",\"subset_90\",\"lm__multi-qa-mpnet-base-dot-v1\",false],[\"TabPFNClassifier\",\"subset_90\",\"lm__multi-qa-mpnet-base-dot-v1\",false],[\"TabPFNClassifier\",\"PCA_5\",\"openai__\",false],[\"TabPFNClassifier\",\"PCA_5\",\"openai__\",false],[\"TabPFNClassifier\",\"PCA_5\",\"openai__\",false],[\"TabPFNClassifier\",\"PCA_5\",\"openai__\",false],[\"TabPFNClassifier\",\"PCA_5\",\"openai__\",false],[\"TabPFNClassifier\",\"PCA_30\",\"openai__\",false],[\"TabPFNClassifier\",\"PCA_30\",\"openai__\",false],[\"TabPFNClassifier\",\"PCA_30\",\"openai__\",false],[\"TabPFNClassifier\",\"PCA_30\",\"openai__\",false],[\"TabPFNClassifier\",\"PCA_30\",\"openai__\",false],[\"TabPFNClassifier\",\"PCA_90\",\"openai__\",false],[\"TabPFNClassifier\",\"PCA_90\",\"openai__\",false],[\"TabPFNClassifier\",\"PCA_90\",\"openai__\",false],[\"TabPFNClassifier\",\"PCA_90\",\"openai__\",false],[\"TabPFNClassifier\",\"PCA_90\",\"openai__\",false],[\"TabPFNClassifier\",\"subset_90\",\"openai__\",false],[\"TabPFNClassifier\",\"subset_90\",\"openai__\",false],[\"TabPFNClassifier\",\"subset_90\",\"openai__\",false],[\"TabPFNClassifier\",\"subset_90\",\"openai__\",false],[\"TabPFNClassifier\",\"subset_90\",\"openai__\",false]],\"fillcolor\":\"rgba(255,255,255,0)\",\"hoveron\":\"points\",\"hovertemplate\":\"sentences=%{customdata[3]}\\u003cbr\\u003eModel=%{customdata[0]}\\u003cbr\\u003eAccuracy=%{x}\\u003cbr\\u003efeatures=%{y}\\u003cbr\\u003edim_reduction=%{customdata[1]}\\u003cbr\\u003eencoding=%{customdata[2]}\\u003cextra\\u003e\\u003c\\u002fextra\\u003e\",\"legendgroup\":\"False\",\"line\":{\"color\":\"rgba(255,255,255,0)\"},\"marker\":{\"color\":\"#EF553B\"},\"name\":\"False\",\"offsetgroup\":\"False\",\"orientation\":\"h\",\"pointpos\":0,\"showlegend\":true,\"x\":[0.7633333333333333,0.7966666666666666,0.7933333333333333,0.8066666666666666,0.8133333333333334,0.8033333333333333,0.7933333333333333,0.81,0.7966666666666666,0.7866666666666666,0.7733333333333333,0.7633333333333333,0.7866666666666666,0.7833333333333333,0.7933333333333333,0.7733333333333333,0.7966666666666666,0.7966666666666666,0.78,0.7966666666666666,0.8,0.8266666666666667,0.82,0.8133333333333334,0.8466666666666667,0.8466666666666667,0.8633333333333333,0.85,0.84,0.8466666666666667,0.8433333333333334,0.8466666666666667,0.8333333333333334,0.8066666666666666,0.8333333333333334,0.8266666666666667,0.85,0.84,0.8366666666666667,0.85,0.7866666666666666,0.8,0.8033333333333333,0.8066666666666666,0.8166666666666667,0.83,0.8466666666666667,0.8433333333333334,0.82,0.84,0.8166666666666667,0.8333333333333334,0.8266666666666667,0.7966666666666666,0.8066666666666666,0.8333333333333334,0.8066666666666666,0.8133333333333334,0.8166666666666667,0.8266666666666667,0.79,0.7766666666666666,0.77,0.82,0.81,0.8,0.81,0.83,0.8266666666666667,0.8133333333333334,0.8166666666666667,0.83,0.8433333333333334,0.83,0.81,0.7833333333333333,0.79,0.78,0.77,0.7966666666666666],\"x0\":\" \",\"xaxis\":\"x3\",\"y\":[\"all\",\"all\",\"all\",\"all\",\"all\",\"all\",\"all\",\"all\",\"all\",\"all\",\"all\",\"all\",\"all\",\"all\",\"all\",\"all\",\"all\",\"all\",\"all\",\"all\",\"all\",\"all\",\"all\",\"all\",\"all\",\"all\",\"all\",\"all\",\"all\",\"all\",\"all\",\"all\",\"all\",\"all\",\"all\",\"all\",\"all\",\"all\",\"all\",\"all\",\"all\",\"all\",\"all\",\"all\",\"all\",\"all\",\"all\",\"all\",\"all\",\"all\",\"all\",\"all\",\"all\",\"all\",\"all\",\"all\",\"all\",\"all\",\"all\",\"all\",\"all\",\"all\",\"all\",\"all\",\"all\",\"all\",\"all\",\"all\",\"all\",\"all\",\"all\",\"all\",\"all\",\"all\",\"all\",\"all\",\"all\",\"all\",\"all\",\"all\"],\"y0\":\" \",\"yaxis\":\"y3\",\"type\":\"box\"},{\"alignmentgroup\":\"True\",\"boxpoints\":\"all\",\"customdata\":[[\"GradientBoostingClassifier\",\"PCA_5\",\"lm__all-distilroberta-v1\",false],[\"GradientBoostingClassifier\",\"PCA_5\",\"lm__all-distilroberta-v1\",false],[\"GradientBoostingClassifier\",\"PCA_5\",\"lm__all-distilroberta-v1\",false],[\"GradientBoostingClassifier\",\"PCA_5\",\"lm__all-distilroberta-v1\",false],[\"GradientBoostingClassifier\",\"PCA_5\",\"lm__all-distilroberta-v1\",false],[\"GradientBoostingClassifier\",\"PCA_30\",\"lm__all-distilroberta-v1\",false],[\"GradientBoostingClassifier\",\"PCA_30\",\"lm__all-distilroberta-v1\",false],[\"GradientBoostingClassifier\",\"PCA_30\",\"lm__all-distilroberta-v1\",false],[\"GradientBoostingClassifier\",\"PCA_30\",\"lm__all-distilroberta-v1\",false],[\"GradientBoostingClassifier\",\"PCA_30\",\"lm__all-distilroberta-v1\",false],[\"GradientBoostingClassifier\",\"PCA_90\",\"lm__all-distilroberta-v1\",false],[\"GradientBoostingClassifier\",\"PCA_90\",\"lm__all-distilroberta-v1\",false],[\"GradientBoostingClassifier\",\"PCA_90\",\"lm__all-distilroberta-v1\",false],[\"GradientBoostingClassifier\",\"PCA_90\",\"lm__all-distilroberta-v1\",false],[\"GradientBoostingClassifier\",\"PCA_90\",\"lm__all-distilroberta-v1\",false],[\"GradientBoostingClassifier\",\"subset_90\",\"lm__all-distilroberta-v1\",false],[\"GradientBoostingClassifier\",\"subset_90\",\"lm__all-distilroberta-v1\",false],[\"GradientBoostingClassifier\",\"subset_90\",\"lm__all-distilroberta-v1\",false],[\"GradientBoostingClassifier\",\"subset_90\",\"lm__all-distilroberta-v1\",false],[\"GradientBoostingClassifier\",\"subset_90\",\"lm__all-distilroberta-v1\",false],[\"GradientBoostingClassifier\",\"PCA_5\",\"lm__all-mpnet-base-v2\",false],[\"GradientBoostingClassifier\",\"PCA_5\",\"lm__all-mpnet-base-v2\",false],[\"GradientBoostingClassifier\",\"PCA_5\",\"lm__all-mpnet-base-v2\",false],[\"GradientBoostingClassifier\",\"PCA_5\",\"lm__all-mpnet-base-v2\",false],[\"GradientBoostingClassifier\",\"PCA_5\",\"lm__all-mpnet-base-v2\",false],[\"GradientBoostingClassifier\",\"PCA_30\",\"lm__all-mpnet-base-v2\",false],[\"GradientBoostingClassifier\",\"PCA_30\",\"lm__all-mpnet-base-v2\",false],[\"GradientBoostingClassifier\",\"PCA_30\",\"lm__all-mpnet-base-v2\",false],[\"GradientBoostingClassifier\",\"PCA_30\",\"lm__all-mpnet-base-v2\",false],[\"GradientBoostingClassifier\",\"PCA_30\",\"lm__all-mpnet-base-v2\",false],[\"GradientBoostingClassifier\",\"PCA_90\",\"lm__all-mpnet-base-v2\",false],[\"GradientBoostingClassifier\",\"PCA_90\",\"lm__all-mpnet-base-v2\",false],[\"GradientBoostingClassifier\",\"PCA_90\",\"lm__all-mpnet-base-v2\",false],[\"GradientBoostingClassifier\",\"PCA_90\",\"lm__all-mpnet-base-v2\",false],[\"GradientBoostingClassifier\",\"PCA_90\",\"lm__all-mpnet-base-v2\",false],[\"GradientBoostingClassifier\",\"subset_90\",\"lm__all-mpnet-base-v2\",false],[\"GradientBoostingClassifier\",\"subset_90\",\"lm__all-mpnet-base-v2\",false],[\"GradientBoostingClassifier\",\"subset_90\",\"lm__all-mpnet-base-v2\",false],[\"GradientBoostingClassifier\",\"subset_90\",\"lm__all-mpnet-base-v2\",false],[\"GradientBoostingClassifier\",\"subset_90\",\"lm__all-mpnet-base-v2\",false],[\"GradientBoostingClassifier\",\"PCA_5\",\"lm__multi-qa-mpnet-base-dot-v1\",false],[\"GradientBoostingClassifier\",\"PCA_5\",\"lm__multi-qa-mpnet-base-dot-v1\",false],[\"GradientBoostingClassifier\",\"PCA_5\",\"lm__multi-qa-mpnet-base-dot-v1\",false],[\"GradientBoostingClassifier\",\"PCA_5\",\"lm__multi-qa-mpnet-base-dot-v1\",false],[\"GradientBoostingClassifier\",\"PCA_5\",\"lm__multi-qa-mpnet-base-dot-v1\",false],[\"GradientBoostingClassifier\",\"PCA_30\",\"lm__multi-qa-mpnet-base-dot-v1\",false],[\"GradientBoostingClassifier\",\"PCA_30\",\"lm__multi-qa-mpnet-base-dot-v1\",false],[\"GradientBoostingClassifier\",\"PCA_30\",\"lm__multi-qa-mpnet-base-dot-v1\",false],[\"GradientBoostingClassifier\",\"PCA_30\",\"lm__multi-qa-mpnet-base-dot-v1\",false],[\"GradientBoostingClassifier\",\"PCA_30\",\"lm__multi-qa-mpnet-base-dot-v1\",false],[\"GradientBoostingClassifier\",\"PCA_90\",\"lm__multi-qa-mpnet-base-dot-v1\",false],[\"GradientBoostingClassifier\",\"PCA_90\",\"lm__multi-qa-mpnet-base-dot-v1\",false],[\"GradientBoostingClassifier\",\"PCA_90\",\"lm__multi-qa-mpnet-base-dot-v1\",false],[\"GradientBoostingClassifier\",\"PCA_90\",\"lm__multi-qa-mpnet-base-dot-v1\",false],[\"GradientBoostingClassifier\",\"PCA_90\",\"lm__multi-qa-mpnet-base-dot-v1\",false],[\"GradientBoostingClassifier\",\"subset_90\",\"lm__multi-qa-mpnet-base-dot-v1\",false],[\"GradientBoostingClassifier\",\"subset_90\",\"lm__multi-qa-mpnet-base-dot-v1\",false],[\"GradientBoostingClassifier\",\"subset_90\",\"lm__multi-qa-mpnet-base-dot-v1\",false],[\"GradientBoostingClassifier\",\"subset_90\",\"lm__multi-qa-mpnet-base-dot-v1\",false],[\"GradientBoostingClassifier\",\"subset_90\",\"lm__multi-qa-mpnet-base-dot-v1\",false],[\"GradientBoostingClassifier\",\"PCA_5\",\"openai__\",false],[\"GradientBoostingClassifier\",\"PCA_5\",\"openai__\",false],[\"GradientBoostingClassifier\",\"PCA_5\",\"openai__\",false],[\"GradientBoostingClassifier\",\"PCA_5\",\"openai__\",false],[\"GradientBoostingClassifier\",\"PCA_5\",\"openai__\",false],[\"GradientBoostingClassifier\",\"PCA_30\",\"openai__\",false],[\"GradientBoostingClassifier\",\"PCA_30\",\"openai__\",false],[\"GradientBoostingClassifier\",\"PCA_30\",\"openai__\",false],[\"GradientBoostingClassifier\",\"PCA_30\",\"openai__\",false],[\"GradientBoostingClassifier\",\"PCA_30\",\"openai__\",false],[\"GradientBoostingClassifier\",\"PCA_90\",\"openai__\",false],[\"GradientBoostingClassifier\",\"PCA_90\",\"openai__\",false],[\"GradientBoostingClassifier\",\"PCA_90\",\"openai__\",false],[\"GradientBoostingClassifier\",\"PCA_90\",\"openai__\",false],[\"GradientBoostingClassifier\",\"PCA_90\",\"openai__\",false],[\"GradientBoostingClassifier\",\"subset_90\",\"openai__\",false],[\"GradientBoostingClassifier\",\"subset_90\",\"openai__\",false],[\"GradientBoostingClassifier\",\"subset_90\",\"openai__\",false],[\"GradientBoostingClassifier\",\"subset_90\",\"openai__\",false],[\"GradientBoostingClassifier\",\"subset_90\",\"openai__\",false]],\"fillcolor\":\"rgba(255,255,255,0)\",\"hoveron\":\"points\",\"hovertemplate\":\"sentences=%{customdata[3]}\\u003cbr\\u003eModel=%{customdata[0]}\\u003cbr\\u003eAccuracy=%{x}\\u003cbr\\u003efeatures=%{y}\\u003cbr\\u003edim_reduction=%{customdata[1]}\\u003cbr\\u003eencoding=%{customdata[2]}\\u003cextra\\u003e\\u003c\\u002fextra\\u003e\",\"legendgroup\":\"False\",\"line\":{\"color\":\"rgba(255,255,255,0)\"},\"marker\":{\"color\":\"#EF553B\"},\"name\":\"False\",\"offsetgroup\":\"False\",\"orientation\":\"h\",\"pointpos\":0,\"showlegend\":false,\"x\":[0.7533333333333333,0.76,0.75,0.7833333333333333,0.8033333333333333,0.7766666666666666,0.7666666666666667,0.8033333333333333,0.7866666666666666,0.8,0.79,0.7666666666666667,0.7966666666666666,0.7833333333333333,0.7933333333333333,0.74,0.7966666666666666,0.76,0.7533333333333333,0.7666666666666667,0.79,0.8,0.8233333333333334,0.7866666666666666,0.8133333333333334,0.81,0.8233333333333334,0.8166666666666667,0.83,0.8066666666666666,0.79,0.8133333333333334,0.8333333333333334,0.83,0.82,0.7766666666666666,0.8,0.7966666666666666,0.7933333333333333,0.8066666666666666,0.78,0.7766666666666666,0.8066666666666666,0.8066666666666666,0.8,0.7766666666666666,0.8133333333333334,0.8066666666666666,0.7833333333333333,0.8066666666666666,0.7933333333333333,0.7933333333333333,0.7966666666666666,0.81,0.8033333333333333,0.78,0.7933333333333333,0.7833333333333333,0.79,0.79,0.7566666666666667,0.7833333333333333,0.76,0.78,0.7766666666666666,0.7833333333333333,0.7933333333333333,0.7866666666666666,0.83,0.81,0.7866666666666666,0.8033333333333333,0.77,0.83,0.8,0.7866666666666666,0.7566666666666667,0.7433333333333333,0.7666666666666667,0.7866666666666666],\"x0\":\" \",\"xaxis\":\"x2\",\"y\":[\"all\",\"all\",\"all\",\"all\",\"all\",\"all\",\"all\",\"all\",\"all\",\"all\",\"all\",\"all\",\"all\",\"all\",\"all\",\"all\",\"all\",\"all\",\"all\",\"all\",\"all\",\"all\",\"all\",\"all\",\"all\",\"all\",\"all\",\"all\",\"all\",\"all\",\"all\",\"all\",\"all\",\"all\",\"all\",\"all\",\"all\",\"all\",\"all\",\"all\",\"all\",\"all\",\"all\",\"all\",\"all\",\"all\",\"all\",\"all\",\"all\",\"all\",\"all\",\"all\",\"all\",\"all\",\"all\",\"all\",\"all\",\"all\",\"all\",\"all\",\"all\",\"all\",\"all\",\"all\",\"all\",\"all\",\"all\",\"all\",\"all\",\"all\",\"all\",\"all\",\"all\",\"all\",\"all\",\"all\",\"all\",\"all\",\"all\",\"all\"],\"y0\":\" \",\"yaxis\":\"y2\",\"type\":\"box\"},{\"alignmentgroup\":\"True\",\"boxpoints\":\"all\",\"customdata\":[[\"LogisticRegression\",\"PCA_5\",\"lm__all-distilroberta-v1\",false],[\"LogisticRegression\",\"PCA_5\",\"lm__all-distilroberta-v1\",false],[\"LogisticRegression\",\"PCA_5\",\"lm__all-distilroberta-v1\",false],[\"LogisticRegression\",\"PCA_5\",\"lm__all-distilroberta-v1\",false],[\"LogisticRegression\",\"PCA_5\",\"lm__all-distilroberta-v1\",false],[\"LogisticRegression\",\"PCA_30\",\"lm__all-distilroberta-v1\",false],[\"LogisticRegression\",\"PCA_30\",\"lm__all-distilroberta-v1\",false],[\"LogisticRegression\",\"PCA_30\",\"lm__all-distilroberta-v1\",false],[\"LogisticRegression\",\"PCA_30\",\"lm__all-distilroberta-v1\",false],[\"LogisticRegression\",\"PCA_30\",\"lm__all-distilroberta-v1\",false],[\"LogisticRegression\",\"PCA_90\",\"lm__all-distilroberta-v1\",false],[\"LogisticRegression\",\"PCA_90\",\"lm__all-distilroberta-v1\",false],[\"LogisticRegression\",\"PCA_90\",\"lm__all-distilroberta-v1\",false],[\"LogisticRegression\",\"PCA_90\",\"lm__all-distilroberta-v1\",false],[\"LogisticRegression\",\"PCA_90\",\"lm__all-distilroberta-v1\",false],[\"LogisticRegression\",\"subset_90\",\"lm__all-distilroberta-v1\",false],[\"LogisticRegression\",\"subset_90\",\"lm__all-distilroberta-v1\",false],[\"LogisticRegression\",\"subset_90\",\"lm__all-distilroberta-v1\",false],[\"LogisticRegression\",\"subset_90\",\"lm__all-distilroberta-v1\",false],[\"LogisticRegression\",\"subset_90\",\"lm__all-distilroberta-v1\",false],[\"LogisticRegression\",\"passthrough\",\"lm__all-distilroberta-v1\",false],[\"LogisticRegression\",\"passthrough\",\"lm__all-distilroberta-v1\",false],[\"LogisticRegression\",\"passthrough\",\"lm__all-distilroberta-v1\",false],[\"LogisticRegression\",\"passthrough\",\"lm__all-distilroberta-v1\",false],[\"LogisticRegression\",\"passthrough\",\"lm__all-distilroberta-v1\",false],[\"LogisticRegression\",\"PCA_5\",\"lm__all-mpnet-base-v2\",false],[\"LogisticRegression\",\"PCA_5\",\"lm__all-mpnet-base-v2\",false],[\"LogisticRegression\",\"PCA_5\",\"lm__all-mpnet-base-v2\",false],[\"LogisticRegression\",\"PCA_5\",\"lm__all-mpnet-base-v2\",false],[\"LogisticRegression\",\"PCA_5\",\"lm__all-mpnet-base-v2\",false],[\"LogisticRegression\",\"PCA_30\",\"lm__all-mpnet-base-v2\",false],[\"LogisticRegression\",\"PCA_30\",\"lm__all-mpnet-base-v2\",false],[\"LogisticRegression\",\"PCA_30\",\"lm__all-mpnet-base-v2\",false],[\"LogisticRegression\",\"PCA_30\",\"lm__all-mpnet-base-v2\",false],[\"LogisticRegression\",\"PCA_30\",\"lm__all-mpnet-base-v2\",false],[\"LogisticRegression\",\"PCA_90\",\"lm__all-mpnet-base-v2\",false],[\"LogisticRegression\",\"PCA_90\",\"lm__all-mpnet-base-v2\",false],[\"LogisticRegression\",\"PCA_90\",\"lm__all-mpnet-base-v2\",false],[\"LogisticRegression\",\"PCA_90\",\"lm__all-mpnet-base-v2\",false],[\"LogisticRegression\",\"PCA_90\",\"lm__all-mpnet-base-v2\",false],[\"LogisticRegression\",\"subset_90\",\"lm__all-mpnet-base-v2\",false],[\"LogisticRegression\",\"subset_90\",\"lm__all-mpnet-base-v2\",false],[\"LogisticRegression\",\"subset_90\",\"lm__all-mpnet-base-v2\",false],[\"LogisticRegression\",\"subset_90\",\"lm__all-mpnet-base-v2\",false],[\"LogisticRegression\",\"subset_90\",\"lm__all-mpnet-base-v2\",false],[\"LogisticRegression\",\"passthrough\",\"lm__all-mpnet-base-v2\",false],[\"LogisticRegression\",\"passthrough\",\"lm__all-mpnet-base-v2\",false],[\"LogisticRegression\",\"passthrough\",\"lm__all-mpnet-base-v2\",false],[\"LogisticRegression\",\"passthrough\",\"lm__all-mpnet-base-v2\",false],[\"LogisticRegression\",\"passthrough\",\"lm__all-mpnet-base-v2\",false],[\"LogisticRegression\",\"PCA_5\",\"lm__multi-qa-mpnet-base-dot-v1\",false],[\"LogisticRegression\",\"PCA_5\",\"lm__multi-qa-mpnet-base-dot-v1\",false],[\"LogisticRegression\",\"PCA_5\",\"lm__multi-qa-mpnet-base-dot-v1\",false],[\"LogisticRegression\",\"PCA_5\",\"lm__multi-qa-mpnet-base-dot-v1\",false],[\"LogisticRegression\",\"PCA_5\",\"lm__multi-qa-mpnet-base-dot-v1\",false],[\"LogisticRegression\",\"PCA_30\",\"lm__multi-qa-mpnet-base-dot-v1\",false],[\"LogisticRegression\",\"PCA_30\",\"lm__multi-qa-mpnet-base-dot-v1\",false],[\"LogisticRegression\",\"PCA_30\",\"lm__multi-qa-mpnet-base-dot-v1\",false],[\"LogisticRegression\",\"PCA_30\",\"lm__multi-qa-mpnet-base-dot-v1\",false],[\"LogisticRegression\",\"PCA_30\",\"lm__multi-qa-mpnet-base-dot-v1\",false],[\"LogisticRegression\",\"PCA_90\",\"lm__multi-qa-mpnet-base-dot-v1\",false],[\"LogisticRegression\",\"PCA_90\",\"lm__multi-qa-mpnet-base-dot-v1\",false],[\"LogisticRegression\",\"PCA_90\",\"lm__multi-qa-mpnet-base-dot-v1\",false],[\"LogisticRegression\",\"PCA_90\",\"lm__multi-qa-mpnet-base-dot-v1\",false],[\"LogisticRegression\",\"PCA_90\",\"lm__multi-qa-mpnet-base-dot-v1\",false],[\"LogisticRegression\",\"subset_90\",\"lm__multi-qa-mpnet-base-dot-v1\",false],[\"LogisticRegression\",\"subset_90\",\"lm__multi-qa-mpnet-base-dot-v1\",false],[\"LogisticRegression\",\"subset_90\",\"lm__multi-qa-mpnet-base-dot-v1\",false],[\"LogisticRegression\",\"subset_90\",\"lm__multi-qa-mpnet-base-dot-v1\",false],[\"LogisticRegression\",\"subset_90\",\"lm__multi-qa-mpnet-base-dot-v1\",false],[\"LogisticRegression\",\"passthrough\",\"lm__multi-qa-mpnet-base-dot-v1\",false],[\"LogisticRegression\",\"passthrough\",\"lm__multi-qa-mpnet-base-dot-v1\",false],[\"LogisticRegression\",\"passthrough\",\"lm__multi-qa-mpnet-base-dot-v1\",false],[\"LogisticRegression\",\"passthrough\",\"lm__multi-qa-mpnet-base-dot-v1\",false],[\"LogisticRegression\",\"passthrough\",\"lm__multi-qa-mpnet-base-dot-v1\",false],[\"LogisticRegression\",\"PCA_5\",\"openai__\",false],[\"LogisticRegression\",\"PCA_5\",\"openai__\",false],[\"LogisticRegression\",\"PCA_5\",\"openai__\",false],[\"LogisticRegression\",\"PCA_5\",\"openai__\",false],[\"LogisticRegression\",\"PCA_5\",\"openai__\",false],[\"LogisticRegression\",\"PCA_30\",\"openai__\",false],[\"LogisticRegression\",\"PCA_30\",\"openai__\",false],[\"LogisticRegression\",\"PCA_30\",\"openai__\",false],[\"LogisticRegression\",\"PCA_30\",\"openai__\",false],[\"LogisticRegression\",\"PCA_30\",\"openai__\",false],[\"LogisticRegression\",\"PCA_90\",\"openai__\",false],[\"LogisticRegression\",\"PCA_90\",\"openai__\",false],[\"LogisticRegression\",\"PCA_90\",\"openai__\",false],[\"LogisticRegression\",\"PCA_90\",\"openai__\",false],[\"LogisticRegression\",\"PCA_90\",\"openai__\",false],[\"LogisticRegression\",\"subset_90\",\"openai__\",false],[\"LogisticRegression\",\"subset_90\",\"openai__\",false],[\"LogisticRegression\",\"subset_90\",\"openai__\",false],[\"LogisticRegression\",\"subset_90\",\"openai__\",false],[\"LogisticRegression\",\"subset_90\",\"openai__\",false],[\"LogisticRegression\",\"passthrough\",\"openai__\",false],[\"LogisticRegression\",\"passthrough\",\"openai__\",false],[\"LogisticRegression\",\"passthrough\",\"openai__\",false],[\"LogisticRegression\",\"passthrough\",\"openai__\",false],[\"LogisticRegression\",\"passthrough\",\"openai__\",false]],\"fillcolor\":\"rgba(255,255,255,0)\",\"hoveron\":\"points\",\"hovertemplate\":\"sentences=%{customdata[3]}\\u003cbr\\u003eModel=%{customdata[0]}\\u003cbr\\u003eAccuracy=%{x}\\u003cbr\\u003efeatures=%{y}\\u003cbr\\u003edim_reduction=%{customdata[1]}\\u003cbr\\u003eencoding=%{customdata[2]}\\u003cextra\\u003e\\u003c\\u002fextra\\u003e\",\"legendgroup\":\"False\",\"line\":{\"color\":\"rgba(255,255,255,0)\"},\"marker\":{\"color\":\"#EF553B\"},\"name\":\"False\",\"offsetgroup\":\"False\",\"orientation\":\"h\",\"pointpos\":0,\"showlegend\":false,\"x\":[0.7666666666666667,0.7666666666666667,0.7666666666666667,0.7766666666666666,0.7733333333333333,0.7666666666666667,0.7666666666666667,0.7866666666666666,0.7666666666666667,0.7933333333333333,0.7733333333333333,0.78,0.79,0.78,0.7866666666666666,0.7166666666666667,0.7533333333333333,0.7666666666666667,0.74,0.77,0.7733333333333333,0.78,0.7933333333333333,0.78,0.7966666666666666,0.79,0.7466666666666667,0.8066666666666666,0.8,0.8066666666666666,0.8233333333333334,0.8133333333333334,0.8333333333333334,0.84,0.8233333333333334,0.8166666666666667,0.82,0.84,0.8366666666666667,0.8266666666666667,0.7433333333333333,0.7633333333333333,0.7666666666666667,0.7733333333333333,0.78,0.82,0.82,0.8433333333333334,0.8433333333333334,0.83,0.78,0.77,0.8066666666666666,0.7766666666666666,0.8166666666666667,0.82,0.8333333333333334,0.84,0.8266666666666667,0.8366666666666667,0.8366666666666667,0.85,0.83,0.8233333333333334,0.83,0.8066666666666666,0.8033333333333333,0.7866666666666666,0.8066666666666666,0.8033333333333333,0.8266666666666667,0.85,0.8066666666666666,0.8433333333333334,0.8433333333333334,0.75,0.76,0.7466666666666667,0.7466666666666667,0.76,0.75,0.76,0.7533333333333333,0.75,0.76,0.7566666666666667,0.7633333333333333,0.7566666666666667,0.7566666666666667,0.7633333333333333,0.4866666666666667,0.6233333333333333,0.7566666666666667,0.73,0.7666666666666667,0.7566666666666667,0.76,0.7566666666666667,0.7566666666666667,0.7633333333333333],\"x0\":\" \",\"xaxis\":\"x\",\"y\":[\"all\",\"all\",\"all\",\"all\",\"all\",\"all\",\"all\",\"all\",\"all\",\"all\",\"all\",\"all\",\"all\",\"all\",\"all\",\"all\",\"all\",\"all\",\"all\",\"all\",\"all\",\"all\",\"all\",\"all\",\"all\",\"all\",\"all\",\"all\",\"all\",\"all\",\"all\",\"all\",\"all\",\"all\",\"all\",\"all\",\"all\",\"all\",\"all\",\"all\",\"all\",\"all\",\"all\",\"all\",\"all\",\"all\",\"all\",\"all\",\"all\",\"all\",\"all\",\"all\",\"all\",\"all\",\"all\",\"all\",\"all\",\"all\",\"all\",\"all\",\"all\",\"all\",\"all\",\"all\",\"all\",\"all\",\"all\",\"all\",\"all\",\"all\",\"all\",\"all\",\"all\",\"all\",\"all\",\"all\",\"all\",\"all\",\"all\",\"all\",\"all\",\"all\",\"all\",\"all\",\"all\",\"all\",\"all\",\"all\",\"all\",\"all\",\"all\",\"all\",\"all\",\"all\",\"all\",\"all\",\"all\",\"all\",\"all\",\"all\"],\"y0\":\" \",\"yaxis\":\"y\",\"type\":\"box\"}],                        {\"template\":{\"data\":{\"histogram2dcontour\":[{\"type\":\"histogram2dcontour\",\"colorbar\":{\"outlinewidth\":0,\"ticks\":\"\"},\"colorscale\":[[0.0,\"#0d0887\"],[0.1111111111111111,\"#46039f\"],[0.2222222222222222,\"#7201a8\"],[0.3333333333333333,\"#9c179e\"],[0.4444444444444444,\"#bd3786\"],[0.5555555555555556,\"#d8576b\"],[0.6666666666666666,\"#ed7953\"],[0.7777777777777778,\"#fb9f3a\"],[0.8888888888888888,\"#fdca26\"],[1.0,\"#f0f921\"]]}],\"choropleth\":[{\"type\":\"choropleth\",\"colorbar\":{\"outlinewidth\":0,\"ticks\":\"\"}}],\"histogram2d\":[{\"type\":\"histogram2d\",\"colorbar\":{\"outlinewidth\":0,\"ticks\":\"\"},\"colorscale\":[[0.0,\"#0d0887\"],[0.1111111111111111,\"#46039f\"],[0.2222222222222222,\"#7201a8\"],[0.3333333333333333,\"#9c179e\"],[0.4444444444444444,\"#bd3786\"],[0.5555555555555556,\"#d8576b\"],[0.6666666666666666,\"#ed7953\"],[0.7777777777777778,\"#fb9f3a\"],[0.8888888888888888,\"#fdca26\"],[1.0,\"#f0f921\"]]}],\"heatmap\":[{\"type\":\"heatmap\",\"colorbar\":{\"outlinewidth\":0,\"ticks\":\"\"},\"colorscale\":[[0.0,\"#0d0887\"],[0.1111111111111111,\"#46039f\"],[0.2222222222222222,\"#7201a8\"],[0.3333333333333333,\"#9c179e\"],[0.4444444444444444,\"#bd3786\"],[0.5555555555555556,\"#d8576b\"],[0.6666666666666666,\"#ed7953\"],[0.7777777777777778,\"#fb9f3a\"],[0.8888888888888888,\"#fdca26\"],[1.0,\"#f0f921\"]]}],\"heatmapgl\":[{\"type\":\"heatmapgl\",\"colorbar\":{\"outlinewidth\":0,\"ticks\":\"\"},\"colorscale\":[[0.0,\"#0d0887\"],[0.1111111111111111,\"#46039f\"],[0.2222222222222222,\"#7201a8\"],[0.3333333333333333,\"#9c179e\"],[0.4444444444444444,\"#bd3786\"],[0.5555555555555556,\"#d8576b\"],[0.6666666666666666,\"#ed7953\"],[0.7777777777777778,\"#fb9f3a\"],[0.8888888888888888,\"#fdca26\"],[1.0,\"#f0f921\"]]}],\"contourcarpet\":[{\"type\":\"contourcarpet\",\"colorbar\":{\"outlinewidth\":0,\"ticks\":\"\"}}],\"contour\":[{\"type\":\"contour\",\"colorbar\":{\"outlinewidth\":0,\"ticks\":\"\"},\"colorscale\":[[0.0,\"#0d0887\"],[0.1111111111111111,\"#46039f\"],[0.2222222222222222,\"#7201a8\"],[0.3333333333333333,\"#9c179e\"],[0.4444444444444444,\"#bd3786\"],[0.5555555555555556,\"#d8576b\"],[0.6666666666666666,\"#ed7953\"],[0.7777777777777778,\"#fb9f3a\"],[0.8888888888888888,\"#fdca26\"],[1.0,\"#f0f921\"]]}],\"surface\":[{\"type\":\"surface\",\"colorbar\":{\"outlinewidth\":0,\"ticks\":\"\"},\"colorscale\":[[0.0,\"#0d0887\"],[0.1111111111111111,\"#46039f\"],[0.2222222222222222,\"#7201a8\"],[0.3333333333333333,\"#9c179e\"],[0.4444444444444444,\"#bd3786\"],[0.5555555555555556,\"#d8576b\"],[0.6666666666666666,\"#ed7953\"],[0.7777777777777778,\"#fb9f3a\"],[0.8888888888888888,\"#fdca26\"],[1.0,\"#f0f921\"]]}],\"mesh3d\":[{\"type\":\"mesh3d\",\"colorbar\":{\"outlinewidth\":0,\"ticks\":\"\"}}],\"scatter\":[{\"fillpattern\":{\"fillmode\":\"overlay\",\"size\":10,\"solidity\":0.2},\"type\":\"scatter\"}],\"parcoords\":[{\"type\":\"parcoords\",\"line\":{\"colorbar\":{\"outlinewidth\":0,\"ticks\":\"\"}}}],\"scatterpolargl\":[{\"type\":\"scatterpolargl\",\"marker\":{\"colorbar\":{\"outlinewidth\":0,\"ticks\":\"\"}}}],\"bar\":[{\"error_x\":{\"color\":\"#2a3f5f\"},\"error_y\":{\"color\":\"#2a3f5f\"},\"marker\":{\"line\":{\"color\":\"#E5ECF6\",\"width\":0.5},\"pattern\":{\"fillmode\":\"overlay\",\"size\":10,\"solidity\":0.2}},\"type\":\"bar\"}],\"scattergeo\":[{\"type\":\"scattergeo\",\"marker\":{\"colorbar\":{\"outlinewidth\":0,\"ticks\":\"\"}}}],\"scatterpolar\":[{\"type\":\"scatterpolar\",\"marker\":{\"colorbar\":{\"outlinewidth\":0,\"ticks\":\"\"}}}],\"histogram\":[{\"marker\":{\"pattern\":{\"fillmode\":\"overlay\",\"size\":10,\"solidity\":0.2}},\"type\":\"histogram\"}],\"scattergl\":[{\"type\":\"scattergl\",\"marker\":{\"colorbar\":{\"outlinewidth\":0,\"ticks\":\"\"}}}],\"scatter3d\":[{\"type\":\"scatter3d\",\"line\":{\"colorbar\":{\"outlinewidth\":0,\"ticks\":\"\"}},\"marker\":{\"colorbar\":{\"outlinewidth\":0,\"ticks\":\"\"}}}],\"scattermapbox\":[{\"type\":\"scattermapbox\",\"marker\":{\"colorbar\":{\"outlinewidth\":0,\"ticks\":\"\"}}}],\"scatterternary\":[{\"type\":\"scatterternary\",\"marker\":{\"colorbar\":{\"outlinewidth\":0,\"ticks\":\"\"}}}],\"scattercarpet\":[{\"type\":\"scattercarpet\",\"marker\":{\"colorbar\":{\"outlinewidth\":0,\"ticks\":\"\"}}}],\"carpet\":[{\"aaxis\":{\"endlinecolor\":\"#2a3f5f\",\"gridcolor\":\"white\",\"linecolor\":\"white\",\"minorgridcolor\":\"white\",\"startlinecolor\":\"#2a3f5f\"},\"baxis\":{\"endlinecolor\":\"#2a3f5f\",\"gridcolor\":\"white\",\"linecolor\":\"white\",\"minorgridcolor\":\"white\",\"startlinecolor\":\"#2a3f5f\"},\"type\":\"carpet\"}],\"table\":[{\"cells\":{\"fill\":{\"color\":\"#EBF0F8\"},\"line\":{\"color\":\"white\"}},\"header\":{\"fill\":{\"color\":\"#C8D4E3\"},\"line\":{\"color\":\"white\"}},\"type\":\"table\"}],\"barpolar\":[{\"marker\":{\"line\":{\"color\":\"#E5ECF6\",\"width\":0.5},\"pattern\":{\"fillmode\":\"overlay\",\"size\":10,\"solidity\":0.2}},\"type\":\"barpolar\"}],\"pie\":[{\"automargin\":true,\"type\":\"pie\"}]},\"layout\":{\"autotypenumbers\":\"strict\",\"colorway\":[\"#636efa\",\"#EF553B\",\"#00cc96\",\"#ab63fa\",\"#FFA15A\",\"#19d3f3\",\"#FF6692\",\"#B6E880\",\"#FF97FF\",\"#FECB52\"],\"font\":{\"color\":\"#2a3f5f\"},\"hovermode\":\"closest\",\"hoverlabel\":{\"align\":\"left\"},\"paper_bgcolor\":\"white\",\"plot_bgcolor\":\"#E5ECF6\",\"polar\":{\"bgcolor\":\"#E5ECF6\",\"angularaxis\":{\"gridcolor\":\"white\",\"linecolor\":\"white\",\"ticks\":\"\"},\"radialaxis\":{\"gridcolor\":\"white\",\"linecolor\":\"white\",\"ticks\":\"\"}},\"ternary\":{\"bgcolor\":\"#E5ECF6\",\"aaxis\":{\"gridcolor\":\"white\",\"linecolor\":\"white\",\"ticks\":\"\"},\"baxis\":{\"gridcolor\":\"white\",\"linecolor\":\"white\",\"ticks\":\"\"},\"caxis\":{\"gridcolor\":\"white\",\"linecolor\":\"white\",\"ticks\":\"\"}},\"coloraxis\":{\"colorbar\":{\"outlinewidth\":0,\"ticks\":\"\"}},\"colorscale\":{\"sequential\":[[0.0,\"#0d0887\"],[0.1111111111111111,\"#46039f\"],[0.2222222222222222,\"#7201a8\"],[0.3333333333333333,\"#9c179e\"],[0.4444444444444444,\"#bd3786\"],[0.5555555555555556,\"#d8576b\"],[0.6666666666666666,\"#ed7953\"],[0.7777777777777778,\"#fb9f3a\"],[0.8888888888888888,\"#fdca26\"],[1.0,\"#f0f921\"]],\"sequentialminus\":[[0.0,\"#0d0887\"],[0.1111111111111111,\"#46039f\"],[0.2222222222222222,\"#7201a8\"],[0.3333333333333333,\"#9c179e\"],[0.4444444444444444,\"#bd3786\"],[0.5555555555555556,\"#d8576b\"],[0.6666666666666666,\"#ed7953\"],[0.7777777777777778,\"#fb9f3a\"],[0.8888888888888888,\"#fdca26\"],[1.0,\"#f0f921\"]],\"diverging\":[[0,\"#8e0152\"],[0.1,\"#c51b7d\"],[0.2,\"#de77ae\"],[0.3,\"#f1b6da\"],[0.4,\"#fde0ef\"],[0.5,\"#f7f7f7\"],[0.6,\"#e6f5d0\"],[0.7,\"#b8e186\"],[0.8,\"#7fbc41\"],[0.9,\"#4d9221\"],[1,\"#276419\"]]},\"xaxis\":{\"gridcolor\":\"white\",\"linecolor\":\"white\",\"ticks\":\"\",\"title\":{\"standoff\":15},\"zerolinecolor\":\"white\",\"automargin\":true,\"zerolinewidth\":2},\"yaxis\":{\"gridcolor\":\"white\",\"linecolor\":\"white\",\"ticks\":\"\",\"title\":{\"standoff\":15},\"zerolinecolor\":\"white\",\"automargin\":true,\"zerolinewidth\":2},\"scene\":{\"xaxis\":{\"backgroundcolor\":\"#E5ECF6\",\"gridcolor\":\"white\",\"linecolor\":\"white\",\"showbackground\":true,\"ticks\":\"\",\"zerolinecolor\":\"white\",\"gridwidth\":2},\"yaxis\":{\"backgroundcolor\":\"#E5ECF6\",\"gridcolor\":\"white\",\"linecolor\":\"white\",\"showbackground\":true,\"ticks\":\"\",\"zerolinecolor\":\"white\",\"gridwidth\":2},\"zaxis\":{\"backgroundcolor\":\"#E5ECF6\",\"gridcolor\":\"white\",\"linecolor\":\"white\",\"showbackground\":true,\"ticks\":\"\",\"zerolinecolor\":\"white\",\"gridwidth\":2}},\"shapedefaults\":{\"line\":{\"color\":\"#2a3f5f\"}},\"annotationdefaults\":{\"arrowcolor\":\"#2a3f5f\",\"arrowhead\":0,\"arrowwidth\":1},\"geo\":{\"bgcolor\":\"white\",\"landcolor\":\"#E5ECF6\",\"subunitcolor\":\"white\",\"showland\":true,\"showlakes\":true,\"lakecolor\":\"white\"},\"title\":{\"x\":0.05},\"mapbox\":{\"style\":\"light\"}}},\"xaxis\":{\"anchor\":\"y\",\"domain\":[0.0,0.98],\"title\":{\"text\":\"Accuracy\"}},\"yaxis\":{\"anchor\":\"x\",\"domain\":[0.0,0.3133333333333333],\"title\":{\"text\":\"features\"}},\"xaxis2\":{\"anchor\":\"y2\",\"domain\":[0.0,0.98],\"matches\":\"x\",\"showticklabels\":false},\"yaxis2\":{\"anchor\":\"x2\",\"domain\":[0.34333333333333327,0.6566666666666665],\"matches\":\"y\",\"title\":{\"text\":\"features\"}},\"xaxis3\":{\"anchor\":\"y3\",\"domain\":[0.0,0.98],\"matches\":\"x\",\"showticklabels\":false},\"yaxis3\":{\"anchor\":\"x3\",\"domain\":[0.6866666666666665,0.9999999999999998],\"matches\":\"y\",\"title\":{\"text\":\"features\"}},\"annotations\":[{\"font\":{},\"showarrow\":false,\"text\":\"Model=LogisticRegression\",\"textangle\":90,\"x\":0.98,\"xanchor\":\"left\",\"xref\":\"paper\",\"y\":0.15666666666666665,\"yanchor\":\"middle\",\"yref\":\"paper\"},{\"font\":{},\"showarrow\":false,\"text\":\"Model=GradientBoostingClassifier\",\"textangle\":90,\"x\":0.98,\"xanchor\":\"left\",\"xref\":\"paper\",\"y\":0.4999999999999999,\"yanchor\":\"middle\",\"yref\":\"paper\"},{\"font\":{},\"showarrow\":false,\"text\":\"Model=TabPFNClassifier\",\"textangle\":90,\"x\":0.98,\"xanchor\":\"left\",\"xref\":\"paper\",\"y\":0.8433333333333332,\"yanchor\":\"middle\",\"yref\":\"paper\"}],\"legend\":{\"title\":{\"text\":\"sentences\"},\"tracegroupgap\":0},\"title\":{\"text\":\"Swarm Plot of Model Accuracies Across Datasets\"},\"boxmode\":\"group\",\"height\":700,\"width\":900},                        {\"responsive\": true}                    ).then(function(){\n",
       "                            \n",
       "var gd = document.getElementById('6a0ef433-742e-4d60-9605-b51554ecbf6b');\n",
       "var x = new MutationObserver(function (mutations, observer) {{\n",
       "        var display = window.getComputedStyle(gd).display;\n",
       "        if (!display || display === 'none') {{\n",
       "            console.log([gd, 'removed!']);\n",
       "            Plotly.purge(gd);\n",
       "            observer.disconnect();\n",
       "        }}\n",
       "}});\n",
       "\n",
       "// Listen for the removal of the full notebook cells\n",
       "var notebookContainer = gd.closest('#notebook-container');\n",
       "if (notebookContainer) {{\n",
       "    x.observe(notebookContainer, {childList: true});\n",
       "}}\n",
       "\n",
       "// Listen for the clearing of the current output cell\n",
       "var outputEl = gd.closest('.output');\n",
       "if (outputEl) {{\n",
       "    x.observe(outputEl, {childList: true});\n",
       "}}\n",
       "\n",
       "                        })                };                });            </script>        </div>"
      ]
     },
     "metadata": {},
     "output_type": "display_data"
    },
    {
     "name": "stdout",
     "output_type": "stream",
     "text": [
      "Running TabPFNClassifier with PCA_30 and lm__all-distilroberta-v1\n",
      "Loading model that can be used for inference only\n",
      "Using a Transformer with 25.82 M parameters\n",
      "Loading model that can be used for inference only\n",
      "Using a Transformer with 25.82 M parameters\n",
      "Loading model that can be used for inference only\n",
      "Using a Transformer with 25.82 M parameters\n",
      "Loading model that can be used for inference only\n",
      "Using a Transformer with 25.82 M parameters\n",
      "Loading model that can be used for inference only\n",
      "Using a Transformer with 25.82 M parameters\n",
      "Skipping GradientBoostingClassifier with passthrough and lm__all-mpnet-base-v2\n",
      "Running LogisticRegression with PCA_30 and lm__multi-qa-mpnet-base-dot-v1\n",
      "Running LogisticRegression with PCA_5 and openai__\n",
      "Running TabPFNClassifier with PCA_5 and lm__all-mpnet-base-v2\n",
      "Loading model that can be used for inference only\n",
      "Using a Transformer with 25.82 M parameters\n",
      "Loading model that can be used for inference only\n",
      "Using a Transformer with 25.82 M parameters\n",
      "Loading model that can be used for inference only\n",
      "Using a Transformer with 25.82 M parameters\n",
      "Loading model that can be used for inference only\n",
      "Using a Transformer with 25.82 M parameters\n",
      "Loading model that can be used for inference only\n",
      "Using a Transformer with 25.82 M parameters\n",
      "Skipping TabPFNClassifier with passthrough and lm__multi-qa-mpnet-base-dot-v1\n",
      "Running LogisticRegression with PCA_30 and openai__\n",
      "Skipping TabPFNClassifier with passthrough and lm__all-distilroberta-v1\n",
      "Running GradientBoostingClassifier with PCA_90 and lm__all-mpnet-base-v2\n",
      "Running GradientBoostingClassifier with subset_90 and lm__multi-qa-mpnet-base-dot-v1\n",
      "Running LogisticRegression with subset_90 and openai__\n",
      "Running TabPFNClassifier with subset_90 and lm__all-distilroberta-v1\n",
      "Loading model that can be used for inference only\n",
      "Using a Transformer with 25.82 M parameters\n",
      "Loading model that can be used for inference only\n",
      "Using a Transformer with 25.82 M parameters\n",
      "Loading model that can be used for inference only\n",
      "Using a Transformer with 25.82 M parameters\n",
      "Loading model that can be used for inference only\n",
      "Using a Transformer with 25.82 M parameters\n",
      "Loading model that can be used for inference only\n",
      "Using a Transformer with 25.82 M parameters\n",
      "Running LogisticRegression with passthrough and lm__all-mpnet-base-v2\n",
      "Running TabPFNClassifier with PCA_90 and lm__multi-qa-mpnet-base-dot-v1\n",
      "Loading model that can be used for inference only\n",
      "Using a Transformer with 25.82 M parameters\n",
      "Loading model that can be used for inference only\n",
      "Using a Transformer with 25.82 M parameters\n",
      "Loading model that can be used for inference only\n",
      "Using a Transformer with 25.82 M parameters\n",
      "Loading model that can be used for inference only\n",
      "Using a Transformer with 25.82 M parameters\n",
      "Loading model that can be used for inference only\n",
      "Using a Transformer with 25.82 M parameters\n",
      "Skipping GradientBoostingClassifier with passthrough and openai__\n",
      "Running TabPFNClassifier with PCA_90 and lm__all-distilroberta-v1\n",
      "Loading model that can be used for inference only\n",
      "Using a Transformer with 25.82 M parameters\n",
      "Loading model that can be used for inference only\n",
      "Using a Transformer with 25.82 M parameters\n",
      "Loading model that can be used for inference only\n",
      "Using a Transformer with 25.82 M parameters\n",
      "Loading model that can be used for inference only\n",
      "Using a Transformer with 25.82 M parameters\n",
      "Loading model that can be used for inference only\n",
      "Using a Transformer with 25.82 M parameters\n",
      "Running TabPFNClassifier with PCA_5 and lm__multi-qa-mpnet-base-dot-v1\n",
      "Loading model that can be used for inference only\n",
      "Using a Transformer with 25.82 M parameters\n",
      "Loading model that can be used for inference only\n",
      "Using a Transformer with 25.82 M parameters\n",
      "Loading model that can be used for inference only\n",
      "Using a Transformer with 25.82 M parameters\n",
      "Loading model that can be used for inference only\n",
      "Using a Transformer with 25.82 M parameters\n",
      "Loading model that can be used for inference only\n",
      "Using a Transformer with 25.82 M parameters\n",
      "Skipping TabPFNClassifier with passthrough and openai__\n",
      "Running GradientBoostingClassifier with PCA_5 and lm__all-distilroberta-v1\n",
      "Running LogisticRegression with PCA_90 and lm__all-mpnet-base-v2\n",
      "Running GradientBoostingClassifier with PCA_30 and lm__multi-qa-mpnet-base-dot-v1\n",
      "Running LogisticRegression with PCA_90 and openai__\n",
      "Running GradientBoostingClassifier with PCA_90 and lm__all-distilroberta-v1\n",
      "Running GradientBoostingClassifier with subset_90 and lm__all-mpnet-base-v2\n",
      "Running LogisticRegression with subset_90 and lm__multi-qa-mpnet-base-dot-v1\n",
      "Running GradientBoostingClassifier with PCA_30 and openai__\n",
      "Running LogisticRegression with passthrough and openai__\n",
      "Running GradientBoostingClassifier with PCA_5 and openai__\n",
      "Running TabPFNClassifier with PCA_5 and lm__all-distilroberta-v1\n",
      "Loading model that can be used for inference only\n",
      "Using a Transformer with 25.82 M parameters\n",
      "Loading model that can be used for inference only\n",
      "Using a Transformer with 25.82 M parameters\n",
      "Loading model that can be used for inference only\n",
      "Using a Transformer with 25.82 M parameters\n",
      "Loading model that can be used for inference only\n",
      "Using a Transformer with 25.82 M parameters\n",
      "Loading model that can be used for inference only\n",
      "Using a Transformer with 25.82 M parameters\n",
      "Skipping TabPFNClassifier with passthrough and lm__all-mpnet-base-v2\n",
      "Running GradientBoostingClassifier with PCA_90 and lm__multi-qa-mpnet-base-dot-v1\n",
      "Running GradientBoostingClassifier with subset_90 and openai__\n",
      "Running LogisticRegression with PCA_5 and lm__all-distilroberta-v1\n",
      "Running LogisticRegression with PCA_5 and lm__all-mpnet-base-v2\n",
      "Running GradientBoostingClassifier with PCA_5 and lm__multi-qa-mpnet-base-dot-v1\n",
      "Running GradientBoostingClassifier with PCA_90 and openai__\n",
      "Running TabPFNClassifier with PCA_5 and openai__\n",
      "Loading model that can be used for inference only\n",
      "Using a Transformer with 25.82 M parameters\n",
      "Loading model that can be used for inference only\n",
      "Using a Transformer with 25.82 M parameters\n",
      "Loading model that can be used for inference only\n",
      "Using a Transformer with 25.82 M parameters\n",
      "Loading model that can be used for inference only\n",
      "Using a Transformer with 25.82 M parameters\n",
      "Loading model that can be used for inference only\n",
      "Using a Transformer with 25.82 M parameters\n"
     ]
    }
   ],
   "source": [
    "# plot results\n",
    "import seaborn as sns\n",
    "import matplotlib.pyplot as plt\n",
    "import plotly.express as px\n",
    "\n",
    "#results_old = pd.read_csv(\"results_pop.csv\")\n",
    "#results_new = pd.read_csv(\"results_pop_openai.csv\")\n",
    "#melted_results = pd.concat([results_old, results_new])\n",
    "#melted_results = results_pop\n",
    "df_sentences = pd.read_csv(\"results_pop_sentence.csv\")\n",
    "df_no_sentences = pd.read_csv(\"results_pop.csv\")\n",
    "df_sentences[\"sentences\"] = True\n",
    "df_no_sentences[\"sentences\"] = False\n",
    "melted_results = pd.concat([df_sentences, df_no_sentences])\n",
    "#melted_results = results_pop.groupby(['dataset', 'model', 'dim_reduction', 'encoding', \"features\"]).mean().reset_index()\n",
    "print(len(melted_results))\n",
    "# filter encoding\n",
    "#melted_results = melted_results[melted_results[\"encoding\"] == \"lm__all-mpnet-base-v2\"]\n",
    "\n",
    "# Create the plot\n",
    "fig = px.strip(\n",
    "    data_frame=melted_results,\n",
    "    x=\"accuracy\",\n",
    "    y=\"features\",\n",
    "    #color=\"model\",\n",
    "    color=\"sentences\",\n",
    "    #shape=\"model\",\n",
    "    facet_row=\"model\",\n",
    "    #color=\"dim_reduction\",\n",
    "    hover_data=[\"model\", \"dim_reduction\", \"encoding\", \"features\", \"sentences\"],\n",
    "    title=\"Swarm Plot of Model Accuracies Across Datasets\",\n",
    "    labels={\"accuracy\": \"Accuracy\", \"dataset\": \"Dataset\", \"model\": \"Model\"},\n",
    "    height=700,\n",
    "    width=900,\n",
    ")\n",
    "fig.show()        "
   ]
  },
  {
   "cell_type": "markdown",
   "metadata": {},
   "source": [
    "# Combining embeddings and numerical values"
   ]
  },
  {
   "cell_type": "code",
   "execution_count": 30,
   "metadata": {},
   "outputs": [],
   "source": [
    "def generate_toy_problem(df, problem_type=\"matching\"):\n",
    "    cities = df.copy()\n",
    "    if problem_type == \"capita\":\n",
    "        cities[\"per_capita\"] = np.random.uniform(0, 1, len(cities))\n",
    "        cities[\"num\"] = cities[\"pop\"] * cities[\"per_capita\"]\n",
    "        X_rest = cities[[\"per_capita\"]]\n",
    "        X_rest_with_pop = cities[[\"per_capita\", \"pop\"]]\n",
    "        X_text = cities[[\"name\"]]\n",
    "        y = cities[\"num\"] > np.median(cities[\"num\"])\n",
    "    elif problem_type == \"matching\":\n",
    "        pop_shufled = cities[\"pop\"].sample(frac=1).values\n",
    "        choices = np.random.choice([0, 1], size=len(cities), p=[0.5, 0.5])\n",
    "        # Based on the choices, create the 'new_pop' column\n",
    "        cities['new_pop'] = np.where(choices == 0, cities['pop'], pop_shufled)\n",
    "        # Store the choices as 'y'\n",
    "        y = choices\n",
    "        #X_rest = cities.drop(columns=[\"name\", \"city\", \"country\", \"gdp\"])\n",
    "        X_rest = cities[[\"new_pop\"]]\n",
    "        X_rest_with_pop = cities[[\"new_pop\", \"pop\"]]\n",
    "        X_text = cities[[\"name\"]]\n",
    "    else:\n",
    "        raise ValueError(f\"problem_type {problem_type} not supported\")\n",
    "    return X_rest, X_rest_with_pop, X_text, y"
   ]
  },
  {
   "cell_type": "code",
   "execution_count": null,
   "metadata": {},
   "outputs": [],
   "source": [
    "# create datasets\n",
    "for i in tqdm(range(5)):\n",
    "    X_rest, X_rest_with_pop, X_text, y = generate_toy_problem(cities, problem_type=\"matching\")\n",
    "    # create a dataframe which is the concatenation of the text and the rest, with \"name\" for the text column\n",
    "    "
   ]
  },
  {
   "cell_type": "code",
   "execution_count": 20,
   "metadata": {},
   "outputs": [],
   "source": [
    "df[\"pop\"] = df[\"birthYear\"]"
   ]
  },
  {
   "cell_type": "code",
   "execution_count": 21,
   "metadata": {},
   "outputs": [],
   "source": [
    "df[\"name\"] = df[\"primaryName\"]"
   ]
  },
  {
   "cell_type": "code",
   "execution_count": 31,
   "metadata": {},
   "outputs": [
    {
     "name": "stdout",
     "output_type": "stream",
     "text": [
      "Loading model that can be used for inference only\n",
      "Using a Transformer with 25.82 M parameters\n"
     ]
    },
    {
     "name": "stderr",
     "output_type": "stream",
     "text": [
      "  0%|          | 0/5 [00:00<?, ?it/s]"
     ]
    },
    {
     "name": "stdout",
     "output_type": "stream",
     "text": [
      "working dir /scratch/lgrinszt/lm_tab/scripts\n"
     ]
    },
    {
     "name": "stderr",
     "output_type": "stream",
     "text": [
      "  0%|          | 0/5 [03:29<?, ?it/s]\n"
     ]
    },
    {
     "ename": "KeyboardInterrupt",
     "evalue": "",
     "output_type": "error",
     "traceback": [
      "\u001b[0;31m---------------------------------------------------------------------------\u001b[0m",
      "\u001b[0;31mKeyboardInterrupt\u001b[0m                         Traceback (most recent call last)",
      "\u001b[1;32m/Users/leo/VSCProjects/lm_tab/scripts/clean_cities.ipynb Cell 29\u001b[0m line \u001b[0;36m4\n\u001b[1;32m     <a href='vscode-notebook-cell:/Users/leo/VSCProjects/lm_tab/scripts/clean_cities.ipynb#X25sZmlsZQ%3D%3D?line=33'>34</a>\u001b[0m X_rest, X_rest_with_pop, X_text, y \u001b[39m=\u001b[39m generate_toy_problem(df, problem_type\u001b[39m=\u001b[39m\u001b[39m\"\u001b[39m\u001b[39mmatching\u001b[39m\u001b[39m\"\u001b[39m)\n\u001b[1;32m     <a href='vscode-notebook-cell:/Users/leo/VSCProjects/lm_tab/scripts/clean_cities.ipynb#X25sZmlsZQ%3D%3D?line=34'>35</a>\u001b[0m \u001b[39m# duplicate X_rest 3 times # to give more weight to the rest features\u001b[39;00m\n\u001b[1;32m     <a href='vscode-notebook-cell:/Users/leo/VSCProjects/lm_tab/scripts/clean_cities.ipynb#X25sZmlsZQ%3D%3D?line=35'>36</a>\u001b[0m \u001b[39m# X_rest_copy = X_rest.copy()\u001b[39;00m\n\u001b[1;32m     <a href='vscode-notebook-cell:/Users/leo/VSCProjects/lm_tab/scripts/clean_cities.ipynb#X25sZmlsZQ%3D%3D?line=36'>37</a>\u001b[0m \u001b[39m# X_rest_copy.columns = [f\"{col}_2\" for col in X_rest_copy.columns]\u001b[39;00m\n\u001b[0;32m   (...)\u001b[0m\n\u001b[1;32m     <a href='vscode-notebook-cell:/Users/leo/VSCProjects/lm_tab/scripts/clean_cities.ipynb#X25sZmlsZQ%3D%3D?line=44'>45</a>\u001b[0m \u001b[39m# X_rest_copy_2.columns = [f\"{col}_3\" for col in X_rest_copy_2.columns]\u001b[39;00m\n\u001b[1;32m     <a href='vscode-notebook-cell:/Users/leo/VSCProjects/lm_tab/scripts/clean_cities.ipynb#X25sZmlsZQ%3D%3D?line=45'>46</a>\u001b[0m \u001b[39m# X_rest_with_pop = pd.concat([X_rest_with_pop, X_rest_copy, X_rest_copy_2], axis=1)\u001b[39;00m\n\u001b[0;32m---> <a href='vscode-notebook-cell:/Users/leo/VSCProjects/lm_tab/scripts/clean_cities.ipynb#X25sZmlsZQ%3D%3D?line=46'>47</a>\u001b[0m X_enc \u001b[39m=\u001b[39m encode(np\u001b[39m.\u001b[39;49marray(X_text)\u001b[39m.\u001b[39;49mreshape(\u001b[39m-\u001b[39;49m\u001b[39m1\u001b[39;49m), encoding)\n\u001b[1;32m     <a href='vscode-notebook-cell:/Users/leo/VSCProjects/lm_tab/scripts/clean_cities.ipynb#X25sZmlsZQ%3D%3D?line=51'>52</a>\u001b[0m \u001b[39m# # run with joblib\u001b[39;00m\n\u001b[1;32m     <a href='vscode-notebook-cell:/Users/leo/VSCProjects/lm_tab/scripts/clean_cities.ipynb#X25sZmlsZQ%3D%3D?line=52'>53</a>\u001b[0m results_data_enc \u001b[39m=\u001b[39m Parallel(n_jobs\u001b[39m=\u001b[39m\u001b[39m-\u001b[39m\u001b[39m1\u001b[39m)(delayed(run_on_encoded_data)(X_enc, X_rest, y, dim_reduction_name, dim_reduction,model_name, model, encoding, cv) \u001b[39mfor\u001b[39;00m (dim_reduction_name, dim_reduction) \u001b[39min\u001b[39;00m dim_reductions\u001b[39m.\u001b[39mitems() \u001b[39mfor\u001b[39;00m (model_name, model) \u001b[39min\u001b[39;00m models\u001b[39m.\u001b[39mitems())\n",
      "File \u001b[0;32m/scratch/lgrinszt/lm_tab/src/encodings.py:43\u001b[0m, in \u001b[0;36mencode\u001b[0;34m(X, encoder_name, dataset_name, use_cache, override_cache)\u001b[0m\n\u001b[1;32m     41\u001b[0m     encoder \u001b[39m=\u001b[39m SentenceTransformer(encoder_params)\n\u001b[1;32m     42\u001b[0m     X \u001b[39m=\u001b[39m X\u001b[39m.\u001b[39mreshape(\u001b[39m-\u001b[39m\u001b[39m1\u001b[39m)\n\u001b[0;32m---> 43\u001b[0m     res \u001b[39m=\u001b[39m encoder\u001b[39m.\u001b[39;49mencode(X)\n\u001b[1;32m     44\u001b[0m \u001b[39melif\u001b[39;00m encoder_type \u001b[39m==\u001b[39m \u001b[39m\"\u001b[39m\u001b[39mskrub\u001b[39m\u001b[39m\"\u001b[39m:\n\u001b[1;32m     45\u001b[0m     \u001b[39mif\u001b[39;00m encoder_params\u001b[39m.\u001b[39mstartswith(\u001b[39m\"\u001b[39m\u001b[39mminhash\u001b[39m\u001b[39m\"\u001b[39m):\n",
      "File \u001b[0;32m/scratch/lgrinszt/micromamba/envs/dpo/lib/python3.10/site-packages/sentence_transformers/SentenceTransformer.py:165\u001b[0m, in \u001b[0;36mSentenceTransformer.encode\u001b[0;34m(self, sentences, batch_size, show_progress_bar, output_value, convert_to_numpy, convert_to_tensor, device, normalize_embeddings)\u001b[0m\n\u001b[1;32m    162\u001b[0m features \u001b[39m=\u001b[39m batch_to_device(features, device)\n\u001b[1;32m    164\u001b[0m \u001b[39mwith\u001b[39;00m torch\u001b[39m.\u001b[39mno_grad():\n\u001b[0;32m--> 165\u001b[0m     out_features \u001b[39m=\u001b[39m \u001b[39mself\u001b[39;49m\u001b[39m.\u001b[39;49mforward(features)\n\u001b[1;32m    167\u001b[0m     \u001b[39mif\u001b[39;00m output_value \u001b[39m==\u001b[39m \u001b[39m'\u001b[39m\u001b[39mtoken_embeddings\u001b[39m\u001b[39m'\u001b[39m:\n\u001b[1;32m    168\u001b[0m         embeddings \u001b[39m=\u001b[39m []\n",
      "File \u001b[0;32m/scratch/lgrinszt/micromamba/envs/dpo/lib/python3.10/site-packages/torch/nn/modules/container.py:217\u001b[0m, in \u001b[0;36mSequential.forward\u001b[0;34m(self, input)\u001b[0m\n\u001b[1;32m    215\u001b[0m \u001b[39mdef\u001b[39;00m \u001b[39mforward\u001b[39m(\u001b[39mself\u001b[39m, \u001b[39minput\u001b[39m):\n\u001b[1;32m    216\u001b[0m     \u001b[39mfor\u001b[39;00m module \u001b[39min\u001b[39;00m \u001b[39mself\u001b[39m:\n\u001b[0;32m--> 217\u001b[0m         \u001b[39minput\u001b[39m \u001b[39m=\u001b[39m module(\u001b[39minput\u001b[39;49m)\n\u001b[1;32m    218\u001b[0m     \u001b[39mreturn\u001b[39;00m \u001b[39minput\u001b[39m\n",
      "File \u001b[0;32m/scratch/lgrinszt/micromamba/envs/dpo/lib/python3.10/site-packages/torch/nn/modules/module.py:1501\u001b[0m, in \u001b[0;36mModule._call_impl\u001b[0;34m(self, *args, **kwargs)\u001b[0m\n\u001b[1;32m   1496\u001b[0m \u001b[39m# If we don't have any hooks, we want to skip the rest of the logic in\u001b[39;00m\n\u001b[1;32m   1497\u001b[0m \u001b[39m# this function, and just call forward.\u001b[39;00m\n\u001b[1;32m   1498\u001b[0m \u001b[39mif\u001b[39;00m \u001b[39mnot\u001b[39;00m (\u001b[39mself\u001b[39m\u001b[39m.\u001b[39m_backward_hooks \u001b[39mor\u001b[39;00m \u001b[39mself\u001b[39m\u001b[39m.\u001b[39m_backward_pre_hooks \u001b[39mor\u001b[39;00m \u001b[39mself\u001b[39m\u001b[39m.\u001b[39m_forward_hooks \u001b[39mor\u001b[39;00m \u001b[39mself\u001b[39m\u001b[39m.\u001b[39m_forward_pre_hooks\n\u001b[1;32m   1499\u001b[0m         \u001b[39mor\u001b[39;00m _global_backward_pre_hooks \u001b[39mor\u001b[39;00m _global_backward_hooks\n\u001b[1;32m   1500\u001b[0m         \u001b[39mor\u001b[39;00m _global_forward_hooks \u001b[39mor\u001b[39;00m _global_forward_pre_hooks):\n\u001b[0;32m-> 1501\u001b[0m     \u001b[39mreturn\u001b[39;00m forward_call(\u001b[39m*\u001b[39;49margs, \u001b[39m*\u001b[39;49m\u001b[39m*\u001b[39;49mkwargs)\n\u001b[1;32m   1502\u001b[0m \u001b[39m# Do not call functions when jit is used\u001b[39;00m\n\u001b[1;32m   1503\u001b[0m full_backward_hooks, non_full_backward_hooks \u001b[39m=\u001b[39m [], []\n",
      "File \u001b[0;32m/scratch/lgrinszt/micromamba/envs/dpo/lib/python3.10/site-packages/sentence_transformers/models/Transformer.py:66\u001b[0m, in \u001b[0;36mTransformer.forward\u001b[0;34m(self, features)\u001b[0m\n\u001b[1;32m     63\u001b[0m \u001b[39mif\u001b[39;00m \u001b[39m'\u001b[39m\u001b[39mtoken_type_ids\u001b[39m\u001b[39m'\u001b[39m \u001b[39min\u001b[39;00m features:\n\u001b[1;32m     64\u001b[0m     trans_features[\u001b[39m'\u001b[39m\u001b[39mtoken_type_ids\u001b[39m\u001b[39m'\u001b[39m] \u001b[39m=\u001b[39m features[\u001b[39m'\u001b[39m\u001b[39mtoken_type_ids\u001b[39m\u001b[39m'\u001b[39m]\n\u001b[0;32m---> 66\u001b[0m output_states \u001b[39m=\u001b[39m \u001b[39mself\u001b[39;49m\u001b[39m.\u001b[39;49mauto_model(\u001b[39m*\u001b[39;49m\u001b[39m*\u001b[39;49mtrans_features, return_dict\u001b[39m=\u001b[39;49m\u001b[39mFalse\u001b[39;49;00m)\n\u001b[1;32m     67\u001b[0m output_tokens \u001b[39m=\u001b[39m output_states[\u001b[39m0\u001b[39m]\n\u001b[1;32m     69\u001b[0m features\u001b[39m.\u001b[39mupdate({\u001b[39m'\u001b[39m\u001b[39mtoken_embeddings\u001b[39m\u001b[39m'\u001b[39m: output_tokens, \u001b[39m'\u001b[39m\u001b[39mattention_mask\u001b[39m\u001b[39m'\u001b[39m: features[\u001b[39m'\u001b[39m\u001b[39mattention_mask\u001b[39m\u001b[39m'\u001b[39m]})\n",
      "File \u001b[0;32m/scratch/lgrinszt/micromamba/envs/dpo/lib/python3.10/site-packages/torch/nn/modules/module.py:1501\u001b[0m, in \u001b[0;36mModule._call_impl\u001b[0;34m(self, *args, **kwargs)\u001b[0m\n\u001b[1;32m   1496\u001b[0m \u001b[39m# If we don't have any hooks, we want to skip the rest of the logic in\u001b[39;00m\n\u001b[1;32m   1497\u001b[0m \u001b[39m# this function, and just call forward.\u001b[39;00m\n\u001b[1;32m   1498\u001b[0m \u001b[39mif\u001b[39;00m \u001b[39mnot\u001b[39;00m (\u001b[39mself\u001b[39m\u001b[39m.\u001b[39m_backward_hooks \u001b[39mor\u001b[39;00m \u001b[39mself\u001b[39m\u001b[39m.\u001b[39m_backward_pre_hooks \u001b[39mor\u001b[39;00m \u001b[39mself\u001b[39m\u001b[39m.\u001b[39m_forward_hooks \u001b[39mor\u001b[39;00m \u001b[39mself\u001b[39m\u001b[39m.\u001b[39m_forward_pre_hooks\n\u001b[1;32m   1499\u001b[0m         \u001b[39mor\u001b[39;00m _global_backward_pre_hooks \u001b[39mor\u001b[39;00m _global_backward_hooks\n\u001b[1;32m   1500\u001b[0m         \u001b[39mor\u001b[39;00m _global_forward_hooks \u001b[39mor\u001b[39;00m _global_forward_pre_hooks):\n\u001b[0;32m-> 1501\u001b[0m     \u001b[39mreturn\u001b[39;00m forward_call(\u001b[39m*\u001b[39;49margs, \u001b[39m*\u001b[39;49m\u001b[39m*\u001b[39;49mkwargs)\n\u001b[1;32m   1502\u001b[0m \u001b[39m# Do not call functions when jit is used\u001b[39;00m\n\u001b[1;32m   1503\u001b[0m full_backward_hooks, non_full_backward_hooks \u001b[39m=\u001b[39m [], []\n",
      "File \u001b[0;32m/scratch/lgrinszt/micromamba/envs/dpo/lib/python3.10/site-packages/transformers/models/mpnet/modeling_mpnet.py:550\u001b[0m, in \u001b[0;36mMPNetModel.forward\u001b[0;34m(self, input_ids, attention_mask, position_ids, head_mask, inputs_embeds, output_attentions, output_hidden_states, return_dict, **kwargs)\u001b[0m\n\u001b[1;32m    548\u001b[0m head_mask \u001b[39m=\u001b[39m \u001b[39mself\u001b[39m\u001b[39m.\u001b[39mget_head_mask(head_mask, \u001b[39mself\u001b[39m\u001b[39m.\u001b[39mconfig\u001b[39m.\u001b[39mnum_hidden_layers)\n\u001b[1;32m    549\u001b[0m embedding_output \u001b[39m=\u001b[39m \u001b[39mself\u001b[39m\u001b[39m.\u001b[39membeddings(input_ids\u001b[39m=\u001b[39minput_ids, position_ids\u001b[39m=\u001b[39mposition_ids, inputs_embeds\u001b[39m=\u001b[39minputs_embeds)\n\u001b[0;32m--> 550\u001b[0m encoder_outputs \u001b[39m=\u001b[39m \u001b[39mself\u001b[39;49m\u001b[39m.\u001b[39;49mencoder(\n\u001b[1;32m    551\u001b[0m     embedding_output,\n\u001b[1;32m    552\u001b[0m     attention_mask\u001b[39m=\u001b[39;49mextended_attention_mask,\n\u001b[1;32m    553\u001b[0m     head_mask\u001b[39m=\u001b[39;49mhead_mask,\n\u001b[1;32m    554\u001b[0m     output_attentions\u001b[39m=\u001b[39;49moutput_attentions,\n\u001b[1;32m    555\u001b[0m     output_hidden_states\u001b[39m=\u001b[39;49moutput_hidden_states,\n\u001b[1;32m    556\u001b[0m     return_dict\u001b[39m=\u001b[39;49mreturn_dict,\n\u001b[1;32m    557\u001b[0m )\n\u001b[1;32m    558\u001b[0m sequence_output \u001b[39m=\u001b[39m encoder_outputs[\u001b[39m0\u001b[39m]\n\u001b[1;32m    559\u001b[0m pooled_output \u001b[39m=\u001b[39m \u001b[39mself\u001b[39m\u001b[39m.\u001b[39mpooler(sequence_output) \u001b[39mif\u001b[39;00m \u001b[39mself\u001b[39m\u001b[39m.\u001b[39mpooler \u001b[39mis\u001b[39;00m \u001b[39mnot\u001b[39;00m \u001b[39mNone\u001b[39;00m \u001b[39melse\u001b[39;00m \u001b[39mNone\u001b[39;00m\n",
      "File \u001b[0;32m/scratch/lgrinszt/micromamba/envs/dpo/lib/python3.10/site-packages/torch/nn/modules/module.py:1501\u001b[0m, in \u001b[0;36mModule._call_impl\u001b[0;34m(self, *args, **kwargs)\u001b[0m\n\u001b[1;32m   1496\u001b[0m \u001b[39m# If we don't have any hooks, we want to skip the rest of the logic in\u001b[39;00m\n\u001b[1;32m   1497\u001b[0m \u001b[39m# this function, and just call forward.\u001b[39;00m\n\u001b[1;32m   1498\u001b[0m \u001b[39mif\u001b[39;00m \u001b[39mnot\u001b[39;00m (\u001b[39mself\u001b[39m\u001b[39m.\u001b[39m_backward_hooks \u001b[39mor\u001b[39;00m \u001b[39mself\u001b[39m\u001b[39m.\u001b[39m_backward_pre_hooks \u001b[39mor\u001b[39;00m \u001b[39mself\u001b[39m\u001b[39m.\u001b[39m_forward_hooks \u001b[39mor\u001b[39;00m \u001b[39mself\u001b[39m\u001b[39m.\u001b[39m_forward_pre_hooks\n\u001b[1;32m   1499\u001b[0m         \u001b[39mor\u001b[39;00m _global_backward_pre_hooks \u001b[39mor\u001b[39;00m _global_backward_hooks\n\u001b[1;32m   1500\u001b[0m         \u001b[39mor\u001b[39;00m _global_forward_hooks \u001b[39mor\u001b[39;00m _global_forward_pre_hooks):\n\u001b[0;32m-> 1501\u001b[0m     \u001b[39mreturn\u001b[39;00m forward_call(\u001b[39m*\u001b[39;49margs, \u001b[39m*\u001b[39;49m\u001b[39m*\u001b[39;49mkwargs)\n\u001b[1;32m   1502\u001b[0m \u001b[39m# Do not call functions when jit is used\u001b[39;00m\n\u001b[1;32m   1503\u001b[0m full_backward_hooks, non_full_backward_hooks \u001b[39m=\u001b[39m [], []\n",
      "File \u001b[0;32m/scratch/lgrinszt/micromamba/envs/dpo/lib/python3.10/site-packages/transformers/models/mpnet/modeling_mpnet.py:341\u001b[0m, in \u001b[0;36mMPNetEncoder.forward\u001b[0;34m(self, hidden_states, attention_mask, head_mask, output_attentions, output_hidden_states, return_dict, **kwargs)\u001b[0m\n\u001b[1;32m    338\u001b[0m \u001b[39mif\u001b[39;00m output_hidden_states:\n\u001b[1;32m    339\u001b[0m     all_hidden_states \u001b[39m=\u001b[39m all_hidden_states \u001b[39m+\u001b[39m (hidden_states,)\n\u001b[0;32m--> 341\u001b[0m layer_outputs \u001b[39m=\u001b[39m layer_module(\n\u001b[1;32m    342\u001b[0m     hidden_states,\n\u001b[1;32m    343\u001b[0m     attention_mask,\n\u001b[1;32m    344\u001b[0m     head_mask[i],\n\u001b[1;32m    345\u001b[0m     position_bias,\n\u001b[1;32m    346\u001b[0m     output_attentions\u001b[39m=\u001b[39;49moutput_attentions,\n\u001b[1;32m    347\u001b[0m     \u001b[39m*\u001b[39;49m\u001b[39m*\u001b[39;49mkwargs,\n\u001b[1;32m    348\u001b[0m )\n\u001b[1;32m    349\u001b[0m hidden_states \u001b[39m=\u001b[39m layer_outputs[\u001b[39m0\u001b[39m]\n\u001b[1;32m    351\u001b[0m \u001b[39mif\u001b[39;00m output_attentions:\n",
      "File \u001b[0;32m/scratch/lgrinszt/micromamba/envs/dpo/lib/python3.10/site-packages/torch/nn/modules/module.py:1501\u001b[0m, in \u001b[0;36mModule._call_impl\u001b[0;34m(self, *args, **kwargs)\u001b[0m\n\u001b[1;32m   1496\u001b[0m \u001b[39m# If we don't have any hooks, we want to skip the rest of the logic in\u001b[39;00m\n\u001b[1;32m   1497\u001b[0m \u001b[39m# this function, and just call forward.\u001b[39;00m\n\u001b[1;32m   1498\u001b[0m \u001b[39mif\u001b[39;00m \u001b[39mnot\u001b[39;00m (\u001b[39mself\u001b[39m\u001b[39m.\u001b[39m_backward_hooks \u001b[39mor\u001b[39;00m \u001b[39mself\u001b[39m\u001b[39m.\u001b[39m_backward_pre_hooks \u001b[39mor\u001b[39;00m \u001b[39mself\u001b[39m\u001b[39m.\u001b[39m_forward_hooks \u001b[39mor\u001b[39;00m \u001b[39mself\u001b[39m\u001b[39m.\u001b[39m_forward_pre_hooks\n\u001b[1;32m   1499\u001b[0m         \u001b[39mor\u001b[39;00m _global_backward_pre_hooks \u001b[39mor\u001b[39;00m _global_backward_hooks\n\u001b[1;32m   1500\u001b[0m         \u001b[39mor\u001b[39;00m _global_forward_hooks \u001b[39mor\u001b[39;00m _global_forward_pre_hooks):\n\u001b[0;32m-> 1501\u001b[0m     \u001b[39mreturn\u001b[39;00m forward_call(\u001b[39m*\u001b[39;49margs, \u001b[39m*\u001b[39;49m\u001b[39m*\u001b[39;49mkwargs)\n\u001b[1;32m   1502\u001b[0m \u001b[39m# Do not call functions when jit is used\u001b[39;00m\n\u001b[1;32m   1503\u001b[0m full_backward_hooks, non_full_backward_hooks \u001b[39m=\u001b[39m [], []\n",
      "File \u001b[0;32m/scratch/lgrinszt/micromamba/envs/dpo/lib/python3.10/site-packages/transformers/models/mpnet/modeling_mpnet.py:311\u001b[0m, in \u001b[0;36mMPNetLayer.forward\u001b[0;34m(self, hidden_states, attention_mask, head_mask, position_bias, output_attentions, **kwargs)\u001b[0m\n\u001b[1;32m    308\u001b[0m outputs \u001b[39m=\u001b[39m self_attention_outputs[\u001b[39m1\u001b[39m:]  \u001b[39m# add self attentions if we output attention weights\u001b[39;00m\n\u001b[1;32m    310\u001b[0m intermediate_output \u001b[39m=\u001b[39m \u001b[39mself\u001b[39m\u001b[39m.\u001b[39mintermediate(attention_output)\n\u001b[0;32m--> 311\u001b[0m layer_output \u001b[39m=\u001b[39m \u001b[39mself\u001b[39;49m\u001b[39m.\u001b[39;49moutput(intermediate_output, attention_output)\n\u001b[1;32m    312\u001b[0m outputs \u001b[39m=\u001b[39m (layer_output,) \u001b[39m+\u001b[39m outputs\n\u001b[1;32m    313\u001b[0m \u001b[39mreturn\u001b[39;00m outputs\n",
      "File \u001b[0;32m/scratch/lgrinszt/micromamba/envs/dpo/lib/python3.10/site-packages/torch/nn/modules/module.py:1501\u001b[0m, in \u001b[0;36mModule._call_impl\u001b[0;34m(self, *args, **kwargs)\u001b[0m\n\u001b[1;32m   1496\u001b[0m \u001b[39m# If we don't have any hooks, we want to skip the rest of the logic in\u001b[39;00m\n\u001b[1;32m   1497\u001b[0m \u001b[39m# this function, and just call forward.\u001b[39;00m\n\u001b[1;32m   1498\u001b[0m \u001b[39mif\u001b[39;00m \u001b[39mnot\u001b[39;00m (\u001b[39mself\u001b[39m\u001b[39m.\u001b[39m_backward_hooks \u001b[39mor\u001b[39;00m \u001b[39mself\u001b[39m\u001b[39m.\u001b[39m_backward_pre_hooks \u001b[39mor\u001b[39;00m \u001b[39mself\u001b[39m\u001b[39m.\u001b[39m_forward_hooks \u001b[39mor\u001b[39;00m \u001b[39mself\u001b[39m\u001b[39m.\u001b[39m_forward_pre_hooks\n\u001b[1;32m   1499\u001b[0m         \u001b[39mor\u001b[39;00m _global_backward_pre_hooks \u001b[39mor\u001b[39;00m _global_backward_hooks\n\u001b[1;32m   1500\u001b[0m         \u001b[39mor\u001b[39;00m _global_forward_hooks \u001b[39mor\u001b[39;00m _global_forward_pre_hooks):\n\u001b[0;32m-> 1501\u001b[0m     \u001b[39mreturn\u001b[39;00m forward_call(\u001b[39m*\u001b[39;49margs, \u001b[39m*\u001b[39;49m\u001b[39m*\u001b[39;49mkwargs)\n\u001b[1;32m   1502\u001b[0m \u001b[39m# Do not call functions when jit is used\u001b[39;00m\n\u001b[1;32m   1503\u001b[0m full_backward_hooks, non_full_backward_hooks \u001b[39m=\u001b[39m [], []\n",
      "File \u001b[0;32m/scratch/lgrinszt/micromamba/envs/dpo/lib/python3.10/site-packages/transformers/models/mpnet/modeling_mpnet.py:278\u001b[0m, in \u001b[0;36mMPNetOutput.forward\u001b[0;34m(self, hidden_states, input_tensor)\u001b[0m\n\u001b[1;32m    277\u001b[0m \u001b[39mdef\u001b[39;00m \u001b[39mforward\u001b[39m(\u001b[39mself\u001b[39m, hidden_states: torch\u001b[39m.\u001b[39mTensor, input_tensor: torch\u001b[39m.\u001b[39mTensor) \u001b[39m-\u001b[39m\u001b[39m>\u001b[39m torch\u001b[39m.\u001b[39mTensor:\n\u001b[0;32m--> 278\u001b[0m     hidden_states \u001b[39m=\u001b[39m \u001b[39mself\u001b[39;49m\u001b[39m.\u001b[39;49mdense(hidden_states)\n\u001b[1;32m    279\u001b[0m     hidden_states \u001b[39m=\u001b[39m \u001b[39mself\u001b[39m\u001b[39m.\u001b[39mdropout(hidden_states)\n\u001b[1;32m    280\u001b[0m     hidden_states \u001b[39m=\u001b[39m \u001b[39mself\u001b[39m\u001b[39m.\u001b[39mLayerNorm(hidden_states \u001b[39m+\u001b[39m input_tensor)\n",
      "File \u001b[0;32m/scratch/lgrinszt/micromamba/envs/dpo/lib/python3.10/site-packages/torch/nn/modules/module.py:1501\u001b[0m, in \u001b[0;36mModule._call_impl\u001b[0;34m(self, *args, **kwargs)\u001b[0m\n\u001b[1;32m   1496\u001b[0m \u001b[39m# If we don't have any hooks, we want to skip the rest of the logic in\u001b[39;00m\n\u001b[1;32m   1497\u001b[0m \u001b[39m# this function, and just call forward.\u001b[39;00m\n\u001b[1;32m   1498\u001b[0m \u001b[39mif\u001b[39;00m \u001b[39mnot\u001b[39;00m (\u001b[39mself\u001b[39m\u001b[39m.\u001b[39m_backward_hooks \u001b[39mor\u001b[39;00m \u001b[39mself\u001b[39m\u001b[39m.\u001b[39m_backward_pre_hooks \u001b[39mor\u001b[39;00m \u001b[39mself\u001b[39m\u001b[39m.\u001b[39m_forward_hooks \u001b[39mor\u001b[39;00m \u001b[39mself\u001b[39m\u001b[39m.\u001b[39m_forward_pre_hooks\n\u001b[1;32m   1499\u001b[0m         \u001b[39mor\u001b[39;00m _global_backward_pre_hooks \u001b[39mor\u001b[39;00m _global_backward_hooks\n\u001b[1;32m   1500\u001b[0m         \u001b[39mor\u001b[39;00m _global_forward_hooks \u001b[39mor\u001b[39;00m _global_forward_pre_hooks):\n\u001b[0;32m-> 1501\u001b[0m     \u001b[39mreturn\u001b[39;00m forward_call(\u001b[39m*\u001b[39;49margs, \u001b[39m*\u001b[39;49m\u001b[39m*\u001b[39;49mkwargs)\n\u001b[1;32m   1502\u001b[0m \u001b[39m# Do not call functions when jit is used\u001b[39;00m\n\u001b[1;32m   1503\u001b[0m full_backward_hooks, non_full_backward_hooks \u001b[39m=\u001b[39m [], []\n",
      "File \u001b[0;32m/scratch/lgrinszt/micromamba/envs/dpo/lib/python3.10/site-packages/torch/nn/modules/linear.py:114\u001b[0m, in \u001b[0;36mLinear.forward\u001b[0;34m(self, input)\u001b[0m\n\u001b[1;32m    113\u001b[0m \u001b[39mdef\u001b[39;00m \u001b[39mforward\u001b[39m(\u001b[39mself\u001b[39m, \u001b[39minput\u001b[39m: Tensor) \u001b[39m-\u001b[39m\u001b[39m>\u001b[39m Tensor:\n\u001b[0;32m--> 114\u001b[0m     \u001b[39mreturn\u001b[39;00m F\u001b[39m.\u001b[39;49mlinear(\u001b[39minput\u001b[39;49m, \u001b[39mself\u001b[39;49m\u001b[39m.\u001b[39;49mweight, \u001b[39mself\u001b[39;49m\u001b[39m.\u001b[39;49mbias)\n",
      "\u001b[0;31mKeyboardInterrupt\u001b[0m: "
     ]
    }
   ],
   "source": [
    "from skrub import TableVectorizer\n",
    "from sklearn.preprocessing import OrdinalEncoder, OneHotEncoder, StandardScaler\n",
    "from sklearn.compose import ColumnTransformer\n",
    "from tabpfn import TabPFNClassifier\n",
    "from sklearn.ensemble import GradientBoostingClassifier\n",
    "from sklearn.linear_model import LogisticRegression\n",
    "from sklearn.pipeline import Pipeline\n",
    "from sklearn.model_selection import cross_val_score\n",
    "from sklearn.decomposition import PCA\n",
    "from src.utils import FeaturesExtractor, FixedSizeSplit\n",
    "from tqdm import tqdm\n",
    "from src.encodings import encode\n",
    "\n",
    "\n",
    "models = {\"TabPFNClassifier\": TabPFNClassifier(device=\"cpu\"), \"GradientBoostingClassifier\": GradientBoostingClassifier(), \"LogisticRegression\": LogisticRegression()}\n",
    "dim_reductions = {#\"subset_30\": FeaturesExtractor(method=\"first\", n_features=30),\n",
    "                  #\"PCA_5\": PCA(n_components=5),\n",
    "                  \"PCA_30\": PCA(n_components=30),}\n",
    "                  #\"subset_30\": FeaturesExtractor(method=\"first\", n_features=30),\n",
    "                  #\"subset_5\": FeaturesExtractor(method=\"first\", n_features=50)}}\n",
    "                  #                    \"passthrough\": \"passthrough\"}\n",
    "\n",
    "cv = FixedSizeSplit(n_splits=5, n_train=1000, n_test=2000, random_state=42)\n",
    "\n",
    "\n",
    "results = pd.DataFrame(columns=[\"dataset\", \"encoding\", \"dim_reduction\", \"model\", \"accuracy\"])\n",
    "\n",
    "dataset = \"actors\"\n",
    "#encoding = \"lm__all-distilroberta-v1\"\n",
    "encoding = \"lm__all-mpnet-base-v2\"\n",
    "#X_text = df[\"name\"]\n",
    "\n",
    "for i in tqdm(range(5)):\n",
    "    X_rest, X_rest_with_pop, X_text, y = generate_toy_problem(df, problem_type=\"matching\")\n",
    "    # duplicate X_rest 3 times # to give more weight to the rest features\n",
    "    # X_rest_copy = X_rest.copy()\n",
    "    # X_rest_copy.columns = [f\"{col}_2\" for col in X_rest_copy.columns]\n",
    "    # X_rest_copy_2 = X_rest.copy()\n",
    "    # X_rest_copy_2.columns = [f\"{col}_3\" for col in X_rest_copy_2.columns]\n",
    "    # X_rest = pd.concat([X_rest, X_rest_copy, X_rest_copy_2], axis=1)\n",
    "    # # same for X_rest_with_pop\n",
    "    # X_rest_copy = X_rest_with_pop.copy()\n",
    "    # X_rest_copy.columns = [f\"{col}_2\" for col in X_rest_copy.columns]\n",
    "    # X_rest_copy_2 = X_rest_with_pop.copy()\n",
    "    # X_rest_copy_2.columns = [f\"{col}_3\" for col in X_rest_copy_2.columns]\n",
    "    # X_rest_with_pop = pd.concat([X_rest_with_pop, X_rest_copy, X_rest_copy_2], axis=1)\n",
    "    X_enc = encode(np.array(X_text).reshape(-1), encoding)\n",
    "\n",
    "\n",
    "\n",
    "\n",
    "    # # run with joblib\n",
    "    results_data_enc = Parallel(n_jobs=-1)(delayed(run_on_encoded_data)(X_enc, X_rest, y, dim_reduction_name, dim_reduction,model_name, model, encoding, cv) for (dim_reduction_name, dim_reduction) in dim_reductions.items() for (model_name, model) in models.items())\n",
    "    for dim_reduction_name, dim_reduction in dim_reductions.items():\n",
    "        for model_name, model in models.items():\n",
    "            scores = results_data_enc.pop(0)\n",
    "            if scores is None:\n",
    "                continue\n",
    "            results = pd.concat([results, pd.DataFrame({\"dataset\": dataset, \"encoding\": encoding, \"dim_reduction\": dim_reduction_name, \"model\": model_name, \"accuracy\": scores, \"features\": \"all\"})])\n",
    "\n",
    "    # # same with X_rest = None\n",
    "    results_data_enc = Parallel(n_jobs=-1)(delayed(run_on_encoded_data)(X_enc, None, y, dim_reduction_name, dim_reduction,model_name, model, encoding, cv) for (dim_reduction_name, dim_reduction) in dim_reductions.items() for (model_name, model) in models.items())\n",
    "    for dim_reduction_name, dim_reduction in dim_reductions.items():\n",
    "        for model_name, model in models.items():\n",
    "            scores = results_data_enc.pop(0)\n",
    "            if scores is None:\n",
    "                continue\n",
    "            results = pd.concat([results, pd.DataFrame({\"dataset\": dataset, \"encoding\": encoding, \"dim_reduction\": dim_reduction_name, \"model\": model_name, \"accuracy\": scores, \"features\": \"text_only\"})])\n",
    "\n",
    "    results_data_enc = Parallel(n_jobs=-1)(delayed(run_on_encoded_data)(None, X_rest, y, dim_reduction_name, dim_reduction,model_name, model, encoding, cv) for (dim_reduction_name, dim_reduction) in dim_reductions.items() for (model_name, model) in models.items())\n",
    "    for dim_reduction_name, dim_reduction in dim_reductions.items():\n",
    "        for model_name, model in models.items():\n",
    "            scores = results_data_enc.pop(0)\n",
    "            if scores is None:\n",
    "                continue\n",
    "            results = pd.concat([results, pd.DataFrame({\"dataset\": dataset, \"encoding\": encoding, \"dim_reduction\": dim_reduction_name, \"model\": model_name, \"accuracy\": scores, \"features\": \"rest_only\"})])\n",
    "\n",
    "    # add pop to X_rest\n",
    "    results_data_enc = Parallel(n_jobs=-1)(delayed(run_on_encoded_data)(X_enc, X_rest_with_pop, y, dim_reduction_name, dim_reduction,model_name, model, encoding, cv) for (dim_reduction_name, dim_reduction) in dim_reductions.items() for (model_name, model) in models.items())\n",
    "    for dim_reduction_name, dim_reduction in dim_reductions.items():\n",
    "        for model_name, model in models.items():\n",
    "            scores = results_data_enc.pop(0)\n",
    "            if scores is None:\n",
    "                continue\n",
    "            results = pd.concat([results, pd.DataFrame({\"dataset\": dataset, \"encoding\": encoding, \"dim_reduction\": dim_reduction_name, \"model\": model_name, \"accuracy\": scores, \"features\": \"all_plus_pop\"})])\n",
    "    \n",
    "    # all rest + pop\n",
    "    X_enc_none = None\n",
    "    results_data_enc = Parallel(n_jobs=-1)(delayed(run_on_encoded_data)(None, X_rest_with_pop, y, dim_reduction_name, dim_reduction,model_name, model, encoding, cv) for (dim_reduction_name, dim_reduction) in dim_reductions.items() for (model_name, model) in models.items())\n",
    "    for dim_reduction_name, dim_reduction in dim_reductions.items():\n",
    "        for model_name, model in models.items():\n",
    "            scores = results_data_enc.pop(0)\n",
    "            if scores is None:\n",
    "                continue\n",
    "            results = pd.concat([results, pd.DataFrame({\"dataset\": dataset, \"encoding\": encoding, \"dim_reduction\": dim_reduction_name, \"model\": model_name, \"accuracy\": scores, \"features\": \"rest_plus_pop\"})])\n",
    "\n"
   ]
  },
  {
   "cell_type": "code",
   "execution_count": 12,
   "metadata": {},
   "outputs": [],
   "source": [
    "# save results\n",
    "#results.to_csv(f\"../results/results_toy_capita.csv\", index=False)"
   ]
  },
  {
   "cell_type": "code",
   "execution_count": 84,
   "metadata": {},
   "outputs": [
    {
     "name": "stdout",
     "output_type": "stream",
     "text": [
      "375\n"
     ]
    },
    {
     "data": {
      "image/png": "[encoded data removed]",
      "text/plain": [
       "<Figure size 500x500 with 1 Axes>"
      ]
     },
     "metadata": {},
     "output_type": "display_data"
    }
   ],
   "source": [
    "# plot results\n",
    "import seaborn as sns\n",
    "import matplotlib.pyplot as plt\n",
    "import plotly.express as px\n",
    "\n",
    "results = pd.read_csv(f\"../results/results_toy_matching.csv\")\n",
    "#melted_results = results.groupby(['dataset', 'model', 'dim_reduction', 'encoding', \"features\"]).mean().reset_index()\n",
    "melted_results = results\n",
    "#melted_results = results\n",
    "#melted_results = results.explode('accuracy')\n",
    "#melted_results['accuracy'] = melted_results['accuracy'].astype(float)\n",
    "#melted_results = melted_results[melted_results['encoding'] == 'lm__all-MiniLM-L12-v2']\n",
    "print(len(melted_results))\n",
    "melted_results = melted_results[melted_results[\"features\"] == \"all\"]\n",
    "\n",
    "\n",
    "# # Create the plot\n",
    "# fig = px.box(\n",
    "#     data_frame=melted_results,\n",
    "#     x=\"accuracy\",\n",
    "#     y=\"model\",\n",
    "#     #color=\"dim_reduction\",\n",
    "#     hover_data=[\"model\", \"dim_reduction\", \"encoding\"],\n",
    "#     title=\"\",\n",
    "#     labels={\"accuracy\": \"Accuracy\", \"dataset\": \"Dataset\", \"model\": \"\"},\n",
    "#     height=600,\n",
    "#     width=700,\n",
    "# )\n",
    "# # biger font\n",
    "# fig.update_layout(font=dict(size=20))\n",
    "\n",
    "# # vertical line for random guessing\n",
    "# fig.add_vline(x=0.5, line_width=3, line_dash=\"dash\", line_color=\"black\")\n",
    "# fig.show()  \n",
    "\n",
    "# use seaborn\n",
    "sns.set_theme(style=\"whitegrid\")\n",
    "# layout paper\n",
    "sns.set_context(\"paper\")\n",
    "# bigger font (20)\n",
    "# set font to 20\n",
    "sns.set(font_scale=1.5)\n",
    "# Create the plot\n",
    "fig, ax = plt.subplots(figsize=(5, 5))\n",
    "ax = sns.boxplot(x=\"accuracy\", y=\"model\", data=melted_results, ax=ax, palette=\"Set1\")\n",
    "ax.set(xlabel=\"Accuracy\", ylabel=\"\")\n",
    "ax.set_title(\"\")\n",
    "\n",
    "# vertical line for random guessing\n",
    "ax.axvline(x=0.5, linestyle='--', color=\"black\")\n",
    "\n",
    "# save plot as pdf\n",
    "plt.savefig(\"../figures/results_toy_matching.pdf\", bbox_inches='tight')\n",
    "\n",
    "\n",
    "\n",
    "# save plot\n",
    "#fig.write_image(\"../figures/results_toy_matching.pdf\")"
   ]
  },
  {
   "cell_type": "code",
   "execution_count": 17,
   "metadata": {},
   "outputs": [
    {
     "name": "stdout",
     "output_type": "stream",
     "text": [
      "15\n"
     ]
    },
    {
     "data": {
      "application/vnd.plotly.v1+json": {
       "config": {
        "plotlyServerURL": "https://plot.ly"
       },
       "data": [
        {
         "alignmentgroup": "True",
         "boxpoints": "all",
         "customdata": [
          [
           "GradientBoostingClassifier",
           "PCA_30",
           "lm__all-mpnet-base-v2"
          ],
          [
           "GradientBoostingClassifier",
           "PCA_30",
           "lm__all-mpnet-base-v2"
          ],
          [
           "GradientBoostingClassifier",
           "PCA_30",
           "lm__all-mpnet-base-v2"
          ],
          [
           "GradientBoostingClassifier",
           "PCA_30",
           "lm__all-mpnet-base-v2"
          ],
          [
           "GradientBoostingClassifier",
           "PCA_30",
           "lm__all-mpnet-base-v2"
          ]
         ],
         "fillcolor": "rgba(255,255,255,0)",
         "hoveron": "points",
         "hovertemplate": "Model=%{customdata[0]}<br>Accuracy=%{x}<br>features=%{y}<br>dim_reduction=%{customdata[1]}<br>encoding=%{customdata[2]}<extra></extra>",
         "legendgroup": "GradientBoostingClassifier",
         "line": {
          "color": "rgba(255,255,255,0)"
         },
         "marker": {
          "color": "#636efa"
         },
         "name": "GradientBoostingClassifier",
         "offsetgroup": "GradientBoostingClassifier",
         "orientation": "h",
         "pointpos": 0,
         "showlegend": true,
         "type": "box",
         "x": [
          0.5332,
          0.6246666666666667,
          0.4086666666666667,
          0.8828,
          0.49066666666666664
         ],
         "x0": " ",
         "xaxis": "x",
         "y": [
          "all",
          "all_plus_pop",
          "rest_only",
          "rest_plus_pop",
          "text_only"
         ],
         "y0": " ",
         "yaxis": "y"
        },
        {
         "alignmentgroup": "True",
         "boxpoints": "all",
         "customdata": [
          [
           "LogisticRegression",
           "PCA_30",
           "lm__all-mpnet-base-v2"
          ],
          [
           "LogisticRegression",
           "PCA_30",
           "lm__all-mpnet-base-v2"
          ],
          [
           "LogisticRegression",
           "PCA_30",
           "lm__all-mpnet-base-v2"
          ],
          [
           "LogisticRegression",
           "PCA_30",
           "lm__all-mpnet-base-v2"
          ],
          [
           "LogisticRegression",
           "PCA_30",
           "lm__all-mpnet-base-v2"
          ]
         ],
         "fillcolor": "rgba(255,255,255,0)",
         "hoveron": "points",
         "hovertemplate": "Model=%{customdata[0]}<br>Accuracy=%{x}<br>features=%{y}<br>dim_reduction=%{customdata[1]}<br>encoding=%{customdata[2]}<extra></extra>",
         "legendgroup": "LogisticRegression",
         "line": {
          "color": "rgba(255,255,255,0)"
         },
         "marker": {
          "color": "#EF553B"
         },
         "name": "LogisticRegression",
         "offsetgroup": "LogisticRegression",
         "orientation": "h",
         "pointpos": 0,
         "showlegend": true,
         "type": "box",
         "x": [
          0.5042666666666666,
          0.5015999999999999,
          0.5096,
          0.5165333333333334,
          0.5037333333333334
         ],
         "x0": " ",
         "xaxis": "x",
         "y": [
          "all",
          "all_plus_pop",
          "rest_only",
          "rest_plus_pop",
          "text_only"
         ],
         "y0": " ",
         "yaxis": "y"
        },
        {
         "alignmentgroup": "True",
         "boxpoints": "all",
         "customdata": [
          [
           "TabPFNClassifier",
           "PCA_30",
           "lm__all-mpnet-base-v2"
          ],
          [
           "TabPFNClassifier",
           "PCA_30",
           "lm__all-mpnet-base-v2"
          ],
          [
           "TabPFNClassifier",
           "PCA_30",
           "lm__all-mpnet-base-v2"
          ],
          [
           "TabPFNClassifier",
           "PCA_30",
           "lm__all-mpnet-base-v2"
          ],
          [
           "TabPFNClassifier",
           "PCA_30",
           "lm__all-mpnet-base-v2"
          ]
         ],
         "fillcolor": "rgba(255,255,255,0)",
         "hoveron": "points",
         "hovertemplate": "Model=%{customdata[0]}<br>Accuracy=%{x}<br>features=%{y}<br>dim_reduction=%{customdata[1]}<br>encoding=%{customdata[2]}<extra></extra>",
         "legendgroup": "TabPFNClassifier",
         "line": {
          "color": "rgba(255,255,255,0)"
         },
         "marker": {
          "color": "#00cc96"
         },
         "name": "TabPFNClassifier",
         "offsetgroup": "TabPFNClassifier",
         "orientation": "h",
         "pointpos": 0,
         "showlegend": true,
         "type": "box",
         "x": [
          0.6174666666666666,
          0.7302666666666667,
          0.5001333333333333,
          0.9601333333333334,
          0.5006666666666666
         ],
         "x0": " ",
         "xaxis": "x",
         "y": [
          "all",
          "all_plus_pop",
          "rest_only",
          "rest_plus_pop",
          "text_only"
         ],
         "y0": " ",
         "yaxis": "y"
        }
       ],
       "layout": {
        "boxmode": "group",
        "height": 600,
        "legend": {
         "title": {
          "text": "Model"
         },
         "tracegroupgap": 0
        },
        "template": {
         "data": {
          "bar": [
           {
            "error_x": {
             "color": "#2a3f5f"
            },
            "error_y": {
             "color": "#2a3f5f"
            },
            "marker": {
             "line": {
              "color": "#E5ECF6",
              "width": 0.5
             },
             "pattern": {
              "fillmode": "overlay",
              "size": 10,
              "solidity": 0.2
             }
            },
            "type": "bar"
           }
          ],
          "barpolar": [
           {
            "marker": {
             "line": {
              "color": "#E5ECF6",
              "width": 0.5
             },
             "pattern": {
              "fillmode": "overlay",
              "size": 10,
              "solidity": 0.2
             }
            },
            "type": "barpolar"
           }
          ],
          "carpet": [
           {
            "aaxis": {
             "endlinecolor": "#2a3f5f",
             "gridcolor": "white",
             "linecolor": "white",
             "minorgridcolor": "white",
             "startlinecolor": "#2a3f5f"
            },
            "baxis": {
             "endlinecolor": "#2a3f5f",
             "gridcolor": "white",
             "linecolor": "white",
             "minorgridcolor": "white",
             "startlinecolor": "#2a3f5f"
            },
            "type": "carpet"
           }
          ],
          "choropleth": [
           {
            "colorbar": {
             "outlinewidth": 0,
             "ticks": ""
            },
            "type": "choropleth"
           }
          ],
          "contour": [
           {
            "colorbar": {
             "outlinewidth": 0,
             "ticks": ""
            },
            "colorscale": [
             [
              0,
              "#0d0887"
             ],
             [
              0.1111111111111111,
              "#46039f"
             ],
             [
              0.2222222222222222,
              "#7201a8"
             ],
             [
              0.3333333333333333,
              "#9c179e"
             ],
             [
              0.4444444444444444,
              "#bd3786"
             ],
             [
              0.5555555555555556,
              "#d8576b"
             ],
             [
              0.6666666666666666,
              "#ed7953"
             ],
             [
              0.7777777777777778,
              "#fb9f3a"
             ],
             [
              0.8888888888888888,
              "#fdca26"
             ],
             [
              1,
              "#f0f921"
             ]
            ],
            "type": "contour"
           }
          ],
          "contourcarpet": [
           {
            "colorbar": {
             "outlinewidth": 0,
             "ticks": ""
            },
            "type": "contourcarpet"
           }
          ],
          "heatmap": [
           {
            "colorbar": {
             "outlinewidth": 0,
             "ticks": ""
            },
            "colorscale": [
             [
              0,
              "#0d0887"
             ],
             [
              0.1111111111111111,
              "#46039f"
             ],
             [
              0.2222222222222222,
              "#7201a8"
             ],
             [
              0.3333333333333333,
              "#9c179e"
             ],
             [
              0.4444444444444444,
              "#bd3786"
             ],
             [
              0.5555555555555556,
              "#d8576b"
             ],
             [
              0.6666666666666666,
              "#ed7953"
             ],
             [
              0.7777777777777778,
              "#fb9f3a"
             ],
             [
              0.8888888888888888,
              "#fdca26"
             ],
             [
              1,
              "#f0f921"
             ]
            ],
            "type": "heatmap"
           }
          ],
          "heatmapgl": [
           {
            "colorbar": {
             "outlinewidth": 0,
             "ticks": ""
            },
            "colorscale": [
             [
              0,
              "#0d0887"
             ],
             [
              0.1111111111111111,
              "#46039f"
             ],
             [
              0.2222222222222222,
              "#7201a8"
             ],
             [
              0.3333333333333333,
              "#9c179e"
             ],
             [
              0.4444444444444444,
              "#bd3786"
             ],
             [
              0.5555555555555556,
              "#d8576b"
             ],
             [
              0.6666666666666666,
              "#ed7953"
             ],
             [
              0.7777777777777778,
              "#fb9f3a"
             ],
             [
              0.8888888888888888,
              "#fdca26"
             ],
             [
              1,
              "#f0f921"
             ]
            ],
            "type": "heatmapgl"
           }
          ],
          "histogram": [
           {
            "marker": {
             "pattern": {
              "fillmode": "overlay",
              "size": 10,
              "solidity": 0.2
             }
            },
            "type": "histogram"
           }
          ],
          "histogram2d": [
           {
            "colorbar": {
             "outlinewidth": 0,
             "ticks": ""
            },
            "colorscale": [
             [
              0,
              "#0d0887"
             ],
             [
              0.1111111111111111,
              "#46039f"
             ],
             [
              0.2222222222222222,
              "#7201a8"
             ],
             [
              0.3333333333333333,
              "#9c179e"
             ],
             [
              0.4444444444444444,
              "#bd3786"
             ],
             [
              0.5555555555555556,
              "#d8576b"
             ],
             [
              0.6666666666666666,
              "#ed7953"
             ],
             [
              0.7777777777777778,
              "#fb9f3a"
             ],
             [
              0.8888888888888888,
              "#fdca26"
             ],
             [
              1,
              "#f0f921"
             ]
            ],
            "type": "histogram2d"
           }
          ],
          "histogram2dcontour": [
           {
            "colorbar": {
             "outlinewidth": 0,
             "ticks": ""
            },
            "colorscale": [
             [
              0,
              "#0d0887"
             ],
             [
              0.1111111111111111,
              "#46039f"
             ],
             [
              0.2222222222222222,
              "#7201a8"
             ],
             [
              0.3333333333333333,
              "#9c179e"
             ],
             [
              0.4444444444444444,
              "#bd3786"
             ],
             [
              0.5555555555555556,
              "#d8576b"
             ],
             [
              0.6666666666666666,
              "#ed7953"
             ],
             [
              0.7777777777777778,
              "#fb9f3a"
             ],
             [
              0.8888888888888888,
              "#fdca26"
             ],
             [
              1,
              "#f0f921"
             ]
            ],
            "type": "histogram2dcontour"
           }
          ],
          "mesh3d": [
           {
            "colorbar": {
             "outlinewidth": 0,
             "ticks": ""
            },
            "type": "mesh3d"
           }
          ],
          "parcoords": [
           {
            "line": {
             "colorbar": {
              "outlinewidth": 0,
              "ticks": ""
             }
            },
            "type": "parcoords"
           }
          ],
          "pie": [
           {
            "automargin": true,
            "type": "pie"
           }
          ],
          "scatter": [
           {
            "fillpattern": {
             "fillmode": "overlay",
             "size": 10,
             "solidity": 0.2
            },
            "type": "scatter"
           }
          ],
          "scatter3d": [
           {
            "line": {
             "colorbar": {
              "outlinewidth": 0,
              "ticks": ""
             }
            },
            "marker": {
             "colorbar": {
              "outlinewidth": 0,
              "ticks": ""
             }
            },
            "type": "scatter3d"
           }
          ],
          "scattercarpet": [
           {
            "marker": {
             "colorbar": {
              "outlinewidth": 0,
              "ticks": ""
             }
            },
            "type": "scattercarpet"
           }
          ],
          "scattergeo": [
           {
            "marker": {
             "colorbar": {
              "outlinewidth": 0,
              "ticks": ""
             }
            },
            "type": "scattergeo"
           }
          ],
          "scattergl": [
           {
            "marker": {
             "colorbar": {
              "outlinewidth": 0,
              "ticks": ""
             }
            },
            "type": "scattergl"
           }
          ],
          "scattermapbox": [
           {
            "marker": {
             "colorbar": {
              "outlinewidth": 0,
              "ticks": ""
             }
            },
            "type": "scattermapbox"
           }
          ],
          "scatterpolar": [
           {
            "marker": {
             "colorbar": {
              "outlinewidth": 0,
              "ticks": ""
             }
            },
            "type": "scatterpolar"
           }
          ],
          "scatterpolargl": [
           {
            "marker": {
             "colorbar": {
              "outlinewidth": 0,
              "ticks": ""
             }
            },
            "type": "scatterpolargl"
           }
          ],
          "scatterternary": [
           {
            "marker": {
             "colorbar": {
              "outlinewidth": 0,
              "ticks": ""
             }
            },
            "type": "scatterternary"
           }
          ],
          "surface": [
           {
            "colorbar": {
             "outlinewidth": 0,
             "ticks": ""
            },
            "colorscale": [
             [
              0,
              "#0d0887"
             ],
             [
              0.1111111111111111,
              "#46039f"
             ],
             [
              0.2222222222222222,
              "#7201a8"
             ],
             [
              0.3333333333333333,
              "#9c179e"
             ],
             [
              0.4444444444444444,
              "#bd3786"
             ],
             [
              0.5555555555555556,
              "#d8576b"
             ],
             [
              0.6666666666666666,
              "#ed7953"
             ],
             [
              0.7777777777777778,
              "#fb9f3a"
             ],
             [
              0.8888888888888888,
              "#fdca26"
             ],
             [
              1,
              "#f0f921"
             ]
            ],
            "type": "surface"
           }
          ],
          "table": [
           {
            "cells": {
             "fill": {
              "color": "#EBF0F8"
             },
             "line": {
              "color": "white"
             }
            },
            "header": {
             "fill": {
              "color": "#C8D4E3"
             },
             "line": {
              "color": "white"
             }
            },
            "type": "table"
           }
          ]
         },
         "layout": {
          "annotationdefaults": {
           "arrowcolor": "#2a3f5f",
           "arrowhead": 0,
           "arrowwidth": 1
          },
          "autotypenumbers": "strict",
          "coloraxis": {
           "colorbar": {
            "outlinewidth": 0,
            "ticks": ""
           }
          },
          "colorscale": {
           "diverging": [
            [
             0,
             "#8e0152"
            ],
            [
             0.1,
             "#c51b7d"
            ],
            [
             0.2,
             "#de77ae"
            ],
            [
             0.3,
             "#f1b6da"
            ],
            [
             0.4,
             "#fde0ef"
            ],
            [
             0.5,
             "#f7f7f7"
            ],
            [
             0.6,
             "#e6f5d0"
            ],
            [
             0.7,
             "#b8e186"
            ],
            [
             0.8,
             "#7fbc41"
            ],
            [
             0.9,
             "#4d9221"
            ],
            [
             1,
             "#276419"
            ]
           ],
           "sequential": [
            [
             0,
             "#0d0887"
            ],
            [
             0.1111111111111111,
             "#46039f"
            ],
            [
             0.2222222222222222,
             "#7201a8"
            ],
            [
             0.3333333333333333,
             "#9c179e"
            ],
            [
             0.4444444444444444,
             "#bd3786"
            ],
            [
             0.5555555555555556,
             "#d8576b"
            ],
            [
             0.6666666666666666,
             "#ed7953"
            ],
            [
             0.7777777777777778,
             "#fb9f3a"
            ],
            [
             0.8888888888888888,
             "#fdca26"
            ],
            [
             1,
             "#f0f921"
            ]
           ],
           "sequentialminus": [
            [
             0,
             "#0d0887"
            ],
            [
             0.1111111111111111,
             "#46039f"
            ],
            [
             0.2222222222222222,
             "#7201a8"
            ],
            [
             0.3333333333333333,
             "#9c179e"
            ],
            [
             0.4444444444444444,
             "#bd3786"
            ],
            [
             0.5555555555555556,
             "#d8576b"
            ],
            [
             0.6666666666666666,
             "#ed7953"
            ],
            [
             0.7777777777777778,
             "#fb9f3a"
            ],
            [
             0.8888888888888888,
             "#fdca26"
            ],
            [
             1,
             "#f0f921"
            ]
           ]
          },
          "colorway": [
           "#636efa",
           "#EF553B",
           "#00cc96",
           "#ab63fa",
           "#FFA15A",
           "#19d3f3",
           "#FF6692",
           "#B6E880",
           "#FF97FF",
           "#FECB52"
          ],
          "font": {
           "color": "#2a3f5f"
          },
          "geo": {
           "bgcolor": "white",
           "lakecolor": "white",
           "landcolor": "#E5ECF6",
           "showlakes": true,
           "showland": true,
           "subunitcolor": "white"
          },
          "hoverlabel": {
           "align": "left"
          },
          "hovermode": "closest",
          "mapbox": {
           "style": "light"
          },
          "paper_bgcolor": "white",
          "plot_bgcolor": "#E5ECF6",
          "polar": {
           "angularaxis": {
            "gridcolor": "white",
            "linecolor": "white",
            "ticks": ""
           },
           "bgcolor": "#E5ECF6",
           "radialaxis": {
            "gridcolor": "white",
            "linecolor": "white",
            "ticks": ""
           }
          },
          "scene": {
           "xaxis": {
            "backgroundcolor": "#E5ECF6",
            "gridcolor": "white",
            "gridwidth": 2,
            "linecolor": "white",
            "showbackground": true,
            "ticks": "",
            "zerolinecolor": "white"
           },
           "yaxis": {
            "backgroundcolor": "#E5ECF6",
            "gridcolor": "white",
            "gridwidth": 2,
            "linecolor": "white",
            "showbackground": true,
            "ticks": "",
            "zerolinecolor": "white"
           },
           "zaxis": {
            "backgroundcolor": "#E5ECF6",
            "gridcolor": "white",
            "gridwidth": 2,
            "linecolor": "white",
            "showbackground": true,
            "ticks": "",
            "zerolinecolor": "white"
           }
          },
          "shapedefaults": {
           "line": {
            "color": "#2a3f5f"
           }
          },
          "ternary": {
           "aaxis": {
            "gridcolor": "white",
            "linecolor": "white",
            "ticks": ""
           },
           "baxis": {
            "gridcolor": "white",
            "linecolor": "white",
            "ticks": ""
           },
           "bgcolor": "#E5ECF6",
           "caxis": {
            "gridcolor": "white",
            "linecolor": "white",
            "ticks": ""
           }
          },
          "title": {
           "x": 0.05
          },
          "xaxis": {
           "automargin": true,
           "gridcolor": "white",
           "linecolor": "white",
           "ticks": "",
           "title": {
            "standoff": 15
           },
           "zerolinecolor": "white",
           "zerolinewidth": 2
          },
          "yaxis": {
           "automargin": true,
           "gridcolor": "white",
           "linecolor": "white",
           "ticks": "",
           "title": {
            "standoff": 15
           },
           "zerolinecolor": "white",
           "zerolinewidth": 2
          }
         }
        },
        "title": {
         "text": "Swarm Plot of Model Accuracies Across Datasets"
        },
        "width": 900,
        "xaxis": {
         "anchor": "y",
         "domain": [
          0,
          1
         ],
         "title": {
          "text": "Accuracy"
         }
        },
        "yaxis": {
         "anchor": "x",
         "domain": [
          0,
          1
         ],
         "title": {
          "text": "features"
         }
        }
       }
      },
      "text/html": [
       "<div>                            <div id=\"b3887cd5-7ae1-4673-b573-f146e1299ab8\" class=\"plotly-graph-div\" style=\"height:600px; width:900px;\"></div>            <script type=\"text/javascript\">                require([\"plotly\"], function(Plotly) {                    window.PLOTLYENV=window.PLOTLYENV || {};                                    if (document.getElementById(\"b3887cd5-7ae1-4673-b573-f146e1299ab8\")) {                    Plotly.newPlot(                        \"b3887cd5-7ae1-4673-b573-f146e1299ab8\",                        [{\"alignmentgroup\":\"True\",\"boxpoints\":\"all\",\"customdata\":[[\"GradientBoostingClassifier\",\"PCA_30\",\"lm__all-mpnet-base-v2\"],[\"GradientBoostingClassifier\",\"PCA_30\",\"lm__all-mpnet-base-v2\"],[\"GradientBoostingClassifier\",\"PCA_30\",\"lm__all-mpnet-base-v2\"],[\"GradientBoostingClassifier\",\"PCA_30\",\"lm__all-mpnet-base-v2\"],[\"GradientBoostingClassifier\",\"PCA_30\",\"lm__all-mpnet-base-v2\"]],\"fillcolor\":\"rgba(255,255,255,0)\",\"hoveron\":\"points\",\"hovertemplate\":\"Model=%{customdata[0]}\\u003cbr\\u003eAccuracy=%{x}\\u003cbr\\u003efeatures=%{y}\\u003cbr\\u003edim_reduction=%{customdata[1]}\\u003cbr\\u003eencoding=%{customdata[2]}\\u003cextra\\u003e\\u003c\\u002fextra\\u003e\",\"legendgroup\":\"GradientBoostingClassifier\",\"line\":{\"color\":\"rgba(255,255,255,0)\"},\"marker\":{\"color\":\"#636efa\"},\"name\":\"GradientBoostingClassifier\",\"offsetgroup\":\"GradientBoostingClassifier\",\"orientation\":\"h\",\"pointpos\":0,\"showlegend\":true,\"x\":[0.5332,0.6246666666666667,0.4086666666666667,0.8828,0.49066666666666664],\"x0\":\" \",\"xaxis\":\"x\",\"y\":[\"all\",\"all_plus_pop\",\"rest_only\",\"rest_plus_pop\",\"text_only\"],\"y0\":\" \",\"yaxis\":\"y\",\"type\":\"box\"},{\"alignmentgroup\":\"True\",\"boxpoints\":\"all\",\"customdata\":[[\"LogisticRegression\",\"PCA_30\",\"lm__all-mpnet-base-v2\"],[\"LogisticRegression\",\"PCA_30\",\"lm__all-mpnet-base-v2\"],[\"LogisticRegression\",\"PCA_30\",\"lm__all-mpnet-base-v2\"],[\"LogisticRegression\",\"PCA_30\",\"lm__all-mpnet-base-v2\"],[\"LogisticRegression\",\"PCA_30\",\"lm__all-mpnet-base-v2\"]],\"fillcolor\":\"rgba(255,255,255,0)\",\"hoveron\":\"points\",\"hovertemplate\":\"Model=%{customdata[0]}\\u003cbr\\u003eAccuracy=%{x}\\u003cbr\\u003efeatures=%{y}\\u003cbr\\u003edim_reduction=%{customdata[1]}\\u003cbr\\u003eencoding=%{customdata[2]}\\u003cextra\\u003e\\u003c\\u002fextra\\u003e\",\"legendgroup\":\"LogisticRegression\",\"line\":{\"color\":\"rgba(255,255,255,0)\"},\"marker\":{\"color\":\"#EF553B\"},\"name\":\"LogisticRegression\",\"offsetgroup\":\"LogisticRegression\",\"orientation\":\"h\",\"pointpos\":0,\"showlegend\":true,\"x\":[0.5042666666666666,0.5015999999999999,0.5096,0.5165333333333334,0.5037333333333334],\"x0\":\" \",\"xaxis\":\"x\",\"y\":[\"all\",\"all_plus_pop\",\"rest_only\",\"rest_plus_pop\",\"text_only\"],\"y0\":\" \",\"yaxis\":\"y\",\"type\":\"box\"},{\"alignmentgroup\":\"True\",\"boxpoints\":\"all\",\"customdata\":[[\"TabPFNClassifier\",\"PCA_30\",\"lm__all-mpnet-base-v2\"],[\"TabPFNClassifier\",\"PCA_30\",\"lm__all-mpnet-base-v2\"],[\"TabPFNClassifier\",\"PCA_30\",\"lm__all-mpnet-base-v2\"],[\"TabPFNClassifier\",\"PCA_30\",\"lm__all-mpnet-base-v2\"],[\"TabPFNClassifier\",\"PCA_30\",\"lm__all-mpnet-base-v2\"]],\"fillcolor\":\"rgba(255,255,255,0)\",\"hoveron\":\"points\",\"hovertemplate\":\"Model=%{customdata[0]}\\u003cbr\\u003eAccuracy=%{x}\\u003cbr\\u003efeatures=%{y}\\u003cbr\\u003edim_reduction=%{customdata[1]}\\u003cbr\\u003eencoding=%{customdata[2]}\\u003cextra\\u003e\\u003c\\u002fextra\\u003e\",\"legendgroup\":\"TabPFNClassifier\",\"line\":{\"color\":\"rgba(255,255,255,0)\"},\"marker\":{\"color\":\"#00cc96\"},\"name\":\"TabPFNClassifier\",\"offsetgroup\":\"TabPFNClassifier\",\"orientation\":\"h\",\"pointpos\":0,\"showlegend\":true,\"x\":[0.6174666666666666,0.7302666666666667,0.5001333333333333,0.9601333333333334,0.5006666666666666],\"x0\":\" \",\"xaxis\":\"x\",\"y\":[\"all\",\"all_plus_pop\",\"rest_only\",\"rest_plus_pop\",\"text_only\"],\"y0\":\" \",\"yaxis\":\"y\",\"type\":\"box\"}],                        {\"template\":{\"data\":{\"histogram2dcontour\":[{\"type\":\"histogram2dcontour\",\"colorbar\":{\"outlinewidth\":0,\"ticks\":\"\"},\"colorscale\":[[0.0,\"#0d0887\"],[0.1111111111111111,\"#46039f\"],[0.2222222222222222,\"#7201a8\"],[0.3333333333333333,\"#9c179e\"],[0.4444444444444444,\"#bd3786\"],[0.5555555555555556,\"#d8576b\"],[0.6666666666666666,\"#ed7953\"],[0.7777777777777778,\"#fb9f3a\"],[0.8888888888888888,\"#fdca26\"],[1.0,\"#f0f921\"]]}],\"choropleth\":[{\"type\":\"choropleth\",\"colorbar\":{\"outlinewidth\":0,\"ticks\":\"\"}}],\"histogram2d\":[{\"type\":\"histogram2d\",\"colorbar\":{\"outlinewidth\":0,\"ticks\":\"\"},\"colorscale\":[[0.0,\"#0d0887\"],[0.1111111111111111,\"#46039f\"],[0.2222222222222222,\"#7201a8\"],[0.3333333333333333,\"#9c179e\"],[0.4444444444444444,\"#bd3786\"],[0.5555555555555556,\"#d8576b\"],[0.6666666666666666,\"#ed7953\"],[0.7777777777777778,\"#fb9f3a\"],[0.8888888888888888,\"#fdca26\"],[1.0,\"#f0f921\"]]}],\"heatmap\":[{\"type\":\"heatmap\",\"colorbar\":{\"outlinewidth\":0,\"ticks\":\"\"},\"colorscale\":[[0.0,\"#0d0887\"],[0.1111111111111111,\"#46039f\"],[0.2222222222222222,\"#7201a8\"],[0.3333333333333333,\"#9c179e\"],[0.4444444444444444,\"#bd3786\"],[0.5555555555555556,\"#d8576b\"],[0.6666666666666666,\"#ed7953\"],[0.7777777777777778,\"#fb9f3a\"],[0.8888888888888888,\"#fdca26\"],[1.0,\"#f0f921\"]]}],\"heatmapgl\":[{\"type\":\"heatmapgl\",\"colorbar\":{\"outlinewidth\":0,\"ticks\":\"\"},\"colorscale\":[[0.0,\"#0d0887\"],[0.1111111111111111,\"#46039f\"],[0.2222222222222222,\"#7201a8\"],[0.3333333333333333,\"#9c179e\"],[0.4444444444444444,\"#bd3786\"],[0.5555555555555556,\"#d8576b\"],[0.6666666666666666,\"#ed7953\"],[0.7777777777777778,\"#fb9f3a\"],[0.8888888888888888,\"#fdca26\"],[1.0,\"#f0f921\"]]}],\"contourcarpet\":[{\"type\":\"contourcarpet\",\"colorbar\":{\"outlinewidth\":0,\"ticks\":\"\"}}],\"contour\":[{\"type\":\"contour\",\"colorbar\":{\"outlinewidth\":0,\"ticks\":\"\"},\"colorscale\":[[0.0,\"#0d0887\"],[0.1111111111111111,\"#46039f\"],[0.2222222222222222,\"#7201a8\"],[0.3333333333333333,\"#9c179e\"],[0.4444444444444444,\"#bd3786\"],[0.5555555555555556,\"#d8576b\"],[0.6666666666666666,\"#ed7953\"],[0.7777777777777778,\"#fb9f3a\"],[0.8888888888888888,\"#fdca26\"],[1.0,\"#f0f921\"]]}],\"surface\":[{\"type\":\"surface\",\"colorbar\":{\"outlinewidth\":0,\"ticks\":\"\"},\"colorscale\":[[0.0,\"#0d0887\"],[0.1111111111111111,\"#46039f\"],[0.2222222222222222,\"#7201a8\"],[0.3333333333333333,\"#9c179e\"],[0.4444444444444444,\"#bd3786\"],[0.5555555555555556,\"#d8576b\"],[0.6666666666666666,\"#ed7953\"],[0.7777777777777778,\"#fb9f3a\"],[0.8888888888888888,\"#fdca26\"],[1.0,\"#f0f921\"]]}],\"mesh3d\":[{\"type\":\"mesh3d\",\"colorbar\":{\"outlinewidth\":0,\"ticks\":\"\"}}],\"scatter\":[{\"fillpattern\":{\"fillmode\":\"overlay\",\"size\":10,\"solidity\":0.2},\"type\":\"scatter\"}],\"parcoords\":[{\"type\":\"parcoords\",\"line\":{\"colorbar\":{\"outlinewidth\":0,\"ticks\":\"\"}}}],\"scatterpolargl\":[{\"type\":\"scatterpolargl\",\"marker\":{\"colorbar\":{\"outlinewidth\":0,\"ticks\":\"\"}}}],\"bar\":[{\"error_x\":{\"color\":\"#2a3f5f\"},\"error_y\":{\"color\":\"#2a3f5f\"},\"marker\":{\"line\":{\"color\":\"#E5ECF6\",\"width\":0.5},\"pattern\":{\"fillmode\":\"overlay\",\"size\":10,\"solidity\":0.2}},\"type\":\"bar\"}],\"scattergeo\":[{\"type\":\"scattergeo\",\"marker\":{\"colorbar\":{\"outlinewidth\":0,\"ticks\":\"\"}}}],\"scatterpolar\":[{\"type\":\"scatterpolar\",\"marker\":{\"colorbar\":{\"outlinewidth\":0,\"ticks\":\"\"}}}],\"histogram\":[{\"marker\":{\"pattern\":{\"fillmode\":\"overlay\",\"size\":10,\"solidity\":0.2}},\"type\":\"histogram\"}],\"scattergl\":[{\"type\":\"scattergl\",\"marker\":{\"colorbar\":{\"outlinewidth\":0,\"ticks\":\"\"}}}],\"scatter3d\":[{\"type\":\"scatter3d\",\"line\":{\"colorbar\":{\"outlinewidth\":0,\"ticks\":\"\"}},\"marker\":{\"colorbar\":{\"outlinewidth\":0,\"ticks\":\"\"}}}],\"scattermapbox\":[{\"type\":\"scattermapbox\",\"marker\":{\"colorbar\":{\"outlinewidth\":0,\"ticks\":\"\"}}}],\"scatterternary\":[{\"type\":\"scatterternary\",\"marker\":{\"colorbar\":{\"outlinewidth\":0,\"ticks\":\"\"}}}],\"scattercarpet\":[{\"type\":\"scattercarpet\",\"marker\":{\"colorbar\":{\"outlinewidth\":0,\"ticks\":\"\"}}}],\"carpet\":[{\"aaxis\":{\"endlinecolor\":\"#2a3f5f\",\"gridcolor\":\"white\",\"linecolor\":\"white\",\"minorgridcolor\":\"white\",\"startlinecolor\":\"#2a3f5f\"},\"baxis\":{\"endlinecolor\":\"#2a3f5f\",\"gridcolor\":\"white\",\"linecolor\":\"white\",\"minorgridcolor\":\"white\",\"startlinecolor\":\"#2a3f5f\"},\"type\":\"carpet\"}],\"table\":[{\"cells\":{\"fill\":{\"color\":\"#EBF0F8\"},\"line\":{\"color\":\"white\"}},\"header\":{\"fill\":{\"color\":\"#C8D4E3\"},\"line\":{\"color\":\"white\"}},\"type\":\"table\"}],\"barpolar\":[{\"marker\":{\"line\":{\"color\":\"#E5ECF6\",\"width\":0.5},\"pattern\":{\"fillmode\":\"overlay\",\"size\":10,\"solidity\":0.2}},\"type\":\"barpolar\"}],\"pie\":[{\"automargin\":true,\"type\":\"pie\"}]},\"layout\":{\"autotypenumbers\":\"strict\",\"colorway\":[\"#636efa\",\"#EF553B\",\"#00cc96\",\"#ab63fa\",\"#FFA15A\",\"#19d3f3\",\"#FF6692\",\"#B6E880\",\"#FF97FF\",\"#FECB52\"],\"font\":{\"color\":\"#2a3f5f\"},\"hovermode\":\"closest\",\"hoverlabel\":{\"align\":\"left\"},\"paper_bgcolor\":\"white\",\"plot_bgcolor\":\"#E5ECF6\",\"polar\":{\"bgcolor\":\"#E5ECF6\",\"angularaxis\":{\"gridcolor\":\"white\",\"linecolor\":\"white\",\"ticks\":\"\"},\"radialaxis\":{\"gridcolor\":\"white\",\"linecolor\":\"white\",\"ticks\":\"\"}},\"ternary\":{\"bgcolor\":\"#E5ECF6\",\"aaxis\":{\"gridcolor\":\"white\",\"linecolor\":\"white\",\"ticks\":\"\"},\"baxis\":{\"gridcolor\":\"white\",\"linecolor\":\"white\",\"ticks\":\"\"},\"caxis\":{\"gridcolor\":\"white\",\"linecolor\":\"white\",\"ticks\":\"\"}},\"coloraxis\":{\"colorbar\":{\"outlinewidth\":0,\"ticks\":\"\"}},\"colorscale\":{\"sequential\":[[0.0,\"#0d0887\"],[0.1111111111111111,\"#46039f\"],[0.2222222222222222,\"#7201a8\"],[0.3333333333333333,\"#9c179e\"],[0.4444444444444444,\"#bd3786\"],[0.5555555555555556,\"#d8576b\"],[0.6666666666666666,\"#ed7953\"],[0.7777777777777778,\"#fb9f3a\"],[0.8888888888888888,\"#fdca26\"],[1.0,\"#f0f921\"]],\"sequentialminus\":[[0.0,\"#0d0887\"],[0.1111111111111111,\"#46039f\"],[0.2222222222222222,\"#7201a8\"],[0.3333333333333333,\"#9c179e\"],[0.4444444444444444,\"#bd3786\"],[0.5555555555555556,\"#d8576b\"],[0.6666666666666666,\"#ed7953\"],[0.7777777777777778,\"#fb9f3a\"],[0.8888888888888888,\"#fdca26\"],[1.0,\"#f0f921\"]],\"diverging\":[[0,\"#8e0152\"],[0.1,\"#c51b7d\"],[0.2,\"#de77ae\"],[0.3,\"#f1b6da\"],[0.4,\"#fde0ef\"],[0.5,\"#f7f7f7\"],[0.6,\"#e6f5d0\"],[0.7,\"#b8e186\"],[0.8,\"#7fbc41\"],[0.9,\"#4d9221\"],[1,\"#276419\"]]},\"xaxis\":{\"gridcolor\":\"white\",\"linecolor\":\"white\",\"ticks\":\"\",\"title\":{\"standoff\":15},\"zerolinecolor\":\"white\",\"automargin\":true,\"zerolinewidth\":2},\"yaxis\":{\"gridcolor\":\"white\",\"linecolor\":\"white\",\"ticks\":\"\",\"title\":{\"standoff\":15},\"zerolinecolor\":\"white\",\"automargin\":true,\"zerolinewidth\":2},\"scene\":{\"xaxis\":{\"backgroundcolor\":\"#E5ECF6\",\"gridcolor\":\"white\",\"linecolor\":\"white\",\"showbackground\":true,\"ticks\":\"\",\"zerolinecolor\":\"white\",\"gridwidth\":2},\"yaxis\":{\"backgroundcolor\":\"#E5ECF6\",\"gridcolor\":\"white\",\"linecolor\":\"white\",\"showbackground\":true,\"ticks\":\"\",\"zerolinecolor\":\"white\",\"gridwidth\":2},\"zaxis\":{\"backgroundcolor\":\"#E5ECF6\",\"gridcolor\":\"white\",\"linecolor\":\"white\",\"showbackground\":true,\"ticks\":\"\",\"zerolinecolor\":\"white\",\"gridwidth\":2}},\"shapedefaults\":{\"line\":{\"color\":\"#2a3f5f\"}},\"annotationdefaults\":{\"arrowcolor\":\"#2a3f5f\",\"arrowhead\":0,\"arrowwidth\":1},\"geo\":{\"bgcolor\":\"white\",\"landcolor\":\"#E5ECF6\",\"subunitcolor\":\"white\",\"showland\":true,\"showlakes\":true,\"lakecolor\":\"white\"},\"title\":{\"x\":0.05},\"mapbox\":{\"style\":\"light\"}}},\"xaxis\":{\"anchor\":\"y\",\"domain\":[0.0,1.0],\"title\":{\"text\":\"Accuracy\"}},\"yaxis\":{\"anchor\":\"x\",\"domain\":[0.0,1.0],\"title\":{\"text\":\"features\"}},\"legend\":{\"title\":{\"text\":\"Model\"},\"tracegroupgap\":0},\"title\":{\"text\":\"Swarm Plot of Model Accuracies Across Datasets\"},\"boxmode\":\"group\",\"height\":600,\"width\":900},                        {\"responsive\": true}                    ).then(function(){\n",
       "                            \n",
       "var gd = document.getElementById('b3887cd5-7ae1-4673-b573-f146e1299ab8');\n",
       "var x = new MutationObserver(function (mutations, observer) {{\n",
       "        var display = window.getComputedStyle(gd).display;\n",
       "        if (!display || display === 'none') {{\n",
       "            console.log([gd, 'removed!']);\n",
       "            Plotly.purge(gd);\n",
       "            observer.disconnect();\n",
       "        }}\n",
       "}});\n",
       "\n",
       "// Listen for the removal of the full notebook cells\n",
       "var notebookContainer = gd.closest('#notebook-container');\n",
       "if (notebookContainer) {{\n",
       "    x.observe(notebookContainer, {childList: true});\n",
       "}}\n",
       "\n",
       "// Listen for the clearing of the current output cell\n",
       "var outputEl = gd.closest('.output');\n",
       "if (outputEl) {{\n",
       "    x.observe(outputEl, {childList: true});\n",
       "}}\n",
       "\n",
       "                        })                };                });            </script>        </div>"
      ]
     },
     "metadata": {},
     "output_type": "display_data"
    }
   ],
   "source": [
    "# plot results\n",
    "import seaborn as sns\n",
    "import matplotlib.pyplot as plt\n",
    "import plotly.express as px\n",
    "\n",
    "\n",
    "melted_results = results.groupby(['dataset', 'model', 'dim_reduction', 'encoding', \"features\"]).mean().reset_index()\n",
    "#melted_results = results\n",
    "#melted_results = results.explode('accuracy')\n",
    "#melted_results['accuracy'] = melted_results['accuracy'].astype(float)\n",
    "#melted_results = melted_results[melted_results['encoding'] == 'lm__all-MiniLM-L12-v2']\n",
    "print(len(melted_results))\n",
    "\n",
    "\n",
    "# Create the plot\n",
    "fig = px.strip(\n",
    "    data_frame=melted_results,\n",
    "    x=\"accuracy\",\n",
    "    y=\"features\",\n",
    "    color=\"model\",\n",
    "    #color=\"dim_reduction\",\n",
    "    hover_data=[\"model\", \"dim_reduction\", \"encoding\"],\n",
    "    title=\"Swarm Plot of Model Accuracies Across Datasets\",\n",
    "    labels={\"accuracy\": \"Accuracy\", \"dataset\": \"Dataset\", \"model\": \"Model\"},\n",
    "    height=600,\n",
    "    width=900,\n",
    ")\n",
    "fig.show()        "
   ]
  },
  {
   "cell_type": "code",
   "execution_count": null,
   "metadata": {},
   "outputs": [
    {
     "data": {
      "text/html": [
       "<div>\n",
       "<style scoped>\n",
       "    .dataframe tbody tr th:only-of-type {\n",
       "        vertical-align: middle;\n",
       "    }\n",
       "\n",
       "    .dataframe tbody tr th {\n",
       "        vertical-align: top;\n",
       "    }\n",
       "\n",
       "    .dataframe thead th {\n",
       "        text-align: right;\n",
       "    }\n",
       "</style>\n",
       "<table border=\"1\" class=\"dataframe\">\n",
       "  <thead>\n",
       "    <tr style=\"text-align: right;\">\n",
       "      <th></th>\n",
       "      <th>dataset</th>\n",
       "      <th>encoding</th>\n",
       "      <th>dim_reduction</th>\n",
       "      <th>model</th>\n",
       "      <th>accuracy</th>\n",
       "      <th>features</th>\n",
       "    </tr>\n",
       "  </thead>\n",
       "  <tbody>\n",
       "    <tr>\n",
       "      <th>0</th>\n",
       "      <td>pop</td>\n",
       "      <td>lm__all-distilroberta-v1</td>\n",
       "      <td>PCA_10</td>\n",
       "      <td>TabPFNClassifier</td>\n",
       "      <td>0.666667</td>\n",
       "      <td>all</td>\n",
       "    </tr>\n",
       "    <tr>\n",
       "      <th>1</th>\n",
       "      <td>pop</td>\n",
       "      <td>lm__all-distilroberta-v1</td>\n",
       "      <td>PCA_10</td>\n",
       "      <td>TabPFNClassifier</td>\n",
       "      <td>0.646667</td>\n",
       "      <td>all</td>\n",
       "    </tr>\n",
       "    <tr>\n",
       "      <th>2</th>\n",
       "      <td>pop</td>\n",
       "      <td>lm__all-distilroberta-v1</td>\n",
       "      <td>PCA_10</td>\n",
       "      <td>TabPFNClassifier</td>\n",
       "      <td>0.636667</td>\n",
       "      <td>all</td>\n",
       "    </tr>\n",
       "    <tr>\n",
       "      <th>3</th>\n",
       "      <td>pop</td>\n",
       "      <td>lm__all-distilroberta-v1</td>\n",
       "      <td>PCA_10</td>\n",
       "      <td>TabPFNClassifier</td>\n",
       "      <td>0.576667</td>\n",
       "      <td>all</td>\n",
       "    </tr>\n",
       "    <tr>\n",
       "      <th>4</th>\n",
       "      <td>pop</td>\n",
       "      <td>lm__all-distilroberta-v1</td>\n",
       "      <td>PCA_10</td>\n",
       "      <td>TabPFNClassifier</td>\n",
       "      <td>0.636667</td>\n",
       "      <td>all</td>\n",
       "    </tr>\n",
       "    <tr>\n",
       "      <th>...</th>\n",
       "      <td>...</td>\n",
       "      <td>...</td>\n",
       "      <td>...</td>\n",
       "      <td>...</td>\n",
       "      <td>...</td>\n",
       "      <td>...</td>\n",
       "    </tr>\n",
       "    <tr>\n",
       "      <th>0</th>\n",
       "      <td>pop</td>\n",
       "      <td>lm__all-distilroberta-v1</td>\n",
       "      <td>PCA_10</td>\n",
       "      <td>LogisticRegression</td>\n",
       "      <td>0.366667</td>\n",
       "      <td>rest_plus_pop</td>\n",
       "    </tr>\n",
       "    <tr>\n",
       "      <th>1</th>\n",
       "      <td>pop</td>\n",
       "      <td>lm__all-distilroberta-v1</td>\n",
       "      <td>PCA_10</td>\n",
       "      <td>LogisticRegression</td>\n",
       "      <td>0.356667</td>\n",
       "      <td>rest_plus_pop</td>\n",
       "    </tr>\n",
       "    <tr>\n",
       "      <th>2</th>\n",
       "      <td>pop</td>\n",
       "      <td>lm__all-distilroberta-v1</td>\n",
       "      <td>PCA_10</td>\n",
       "      <td>LogisticRegression</td>\n",
       "      <td>0.486667</td>\n",
       "      <td>rest_plus_pop</td>\n",
       "    </tr>\n",
       "    <tr>\n",
       "      <th>3</th>\n",
       "      <td>pop</td>\n",
       "      <td>lm__all-distilroberta-v1</td>\n",
       "      <td>PCA_10</td>\n",
       "      <td>LogisticRegression</td>\n",
       "      <td>0.483333</td>\n",
       "      <td>rest_plus_pop</td>\n",
       "    </tr>\n",
       "    <tr>\n",
       "      <th>4</th>\n",
       "      <td>pop</td>\n",
       "      <td>lm__all-distilroberta-v1</td>\n",
       "      <td>PCA_10</td>\n",
       "      <td>LogisticRegression</td>\n",
       "      <td>0.423333</td>\n",
       "      <td>rest_plus_pop</td>\n",
       "    </tr>\n",
       "  </tbody>\n",
       "</table>\n",
       "<p>375 rows × 6 columns</p>\n",
       "</div>"
      ],
      "text/plain": [
       "   dataset                  encoding dim_reduction               model  \\\n",
       "0      pop  lm__all-distilroberta-v1        PCA_10    TabPFNClassifier   \n",
       "1      pop  lm__all-distilroberta-v1        PCA_10    TabPFNClassifier   \n",
       "2      pop  lm__all-distilroberta-v1        PCA_10    TabPFNClassifier   \n",
       "3      pop  lm__all-distilroberta-v1        PCA_10    TabPFNClassifier   \n",
       "4      pop  lm__all-distilroberta-v1        PCA_10    TabPFNClassifier   \n",
       "..     ...                       ...           ...                 ...   \n",
       "0      pop  lm__all-distilroberta-v1        PCA_10  LogisticRegression   \n",
       "1      pop  lm__all-distilroberta-v1        PCA_10  LogisticRegression   \n",
       "2      pop  lm__all-distilroberta-v1        PCA_10  LogisticRegression   \n",
       "3      pop  lm__all-distilroberta-v1        PCA_10  LogisticRegression   \n",
       "4      pop  lm__all-distilroberta-v1        PCA_10  LogisticRegression   \n",
       "\n",
       "    accuracy       features  \n",
       "0   0.666667            all  \n",
       "1   0.646667            all  \n",
       "2   0.636667            all  \n",
       "3   0.576667            all  \n",
       "4   0.636667            all  \n",
       "..       ...            ...  \n",
       "0   0.366667  rest_plus_pop  \n",
       "1   0.356667  rest_plus_pop  \n",
       "2   0.486667  rest_plus_pop  \n",
       "3   0.483333  rest_plus_pop  \n",
       "4   0.423333  rest_plus_pop  \n",
       "\n",
       "[375 rows x 6 columns]"
      ]
     },
     "execution_count": 13,
     "metadata": {},
     "output_type": "execute_result"
    }
   ],
   "source": [
    "results"
   ]
  },
  {
   "cell_type": "code",
   "execution_count": 3,
   "metadata": {},
   "outputs": [
    {
     "name": "stdout",
     "output_type": "stream",
     "text": [
      "/scratch/lgrinszt/lm_tab/scripts\n"
     ]
    }
   ],
   "source": [
    "%cd lm_tab/scripts"
   ]
  },
  {
   "cell_type": "code",
   "execution_count": 6,
   "metadata": {},
   "outputs": [],
   "source": [
    "import pandas as pd\n",
    "import numpy as np\n",
    "df = pd.read_csv(\"../data/name.basics.tsv\", sep=\"\\t\")\n",
    "#replace \\N with NaN\n",
    "df = df.replace(\"\\\\N\", np.nan)\n",
    "df.dropna(inplace=True)"
   ]
  },
  {
   "cell_type": "code",
   "execution_count": 7,
   "metadata": {},
   "outputs": [
    {
     "data": {
      "text/html": [
       "<div>\n",
       "<style scoped>\n",
       "    .dataframe tbody tr th:only-of-type {\n",
       "        vertical-align: middle;\n",
       "    }\n",
       "\n",
       "    .dataframe tbody tr th {\n",
       "        vertical-align: top;\n",
       "    }\n",
       "\n",
       "    .dataframe thead th {\n",
       "        text-align: right;\n",
       "    }\n",
       "</style>\n",
       "<table border=\"1\" class=\"dataframe\">\n",
       "  <thead>\n",
       "    <tr style=\"text-align: right;\">\n",
       "      <th></th>\n",
       "      <th>nconst</th>\n",
       "      <th>primaryName</th>\n",
       "      <th>birthYear</th>\n",
       "      <th>deathYear</th>\n",
       "      <th>primaryProfession</th>\n",
       "      <th>knownForTitles</th>\n",
       "    </tr>\n",
       "  </thead>\n",
       "  <tbody>\n",
       "    <tr>\n",
       "      <th>0</th>\n",
       "      <td>nm0000001</td>\n",
       "      <td>Fred Astaire</td>\n",
       "      <td>1899</td>\n",
       "      <td>1987</td>\n",
       "      <td>soundtrack,actor,miscellaneous</td>\n",
       "      <td>tt0031983,tt0050419,tt0053137,tt0072308</td>\n",
       "    </tr>\n",
       "    <tr>\n",
       "      <th>1</th>\n",
       "      <td>nm0000002</td>\n",
       "      <td>Lauren Bacall</td>\n",
       "      <td>1924</td>\n",
       "      <td>2014</td>\n",
       "      <td>actress,soundtrack</td>\n",
       "      <td>tt0038355,tt0117057,tt0075213,tt0037382</td>\n",
       "    </tr>\n",
       "    <tr>\n",
       "      <th>3</th>\n",
       "      <td>nm0000004</td>\n",
       "      <td>John Belushi</td>\n",
       "      <td>1949</td>\n",
       "      <td>1982</td>\n",
       "      <td>actor,soundtrack,writer</td>\n",
       "      <td>tt0080455,tt0072562,tt0077975,tt0078723</td>\n",
       "    </tr>\n",
       "    <tr>\n",
       "      <th>4</th>\n",
       "      <td>nm0000005</td>\n",
       "      <td>Ingmar Bergman</td>\n",
       "      <td>1918</td>\n",
       "      <td>2007</td>\n",
       "      <td>writer,director,actor</td>\n",
       "      <td>tt0083922,tt0069467,tt0050986,tt0050976</td>\n",
       "    </tr>\n",
       "    <tr>\n",
       "      <th>5</th>\n",
       "      <td>nm0000006</td>\n",
       "      <td>Ingrid Bergman</td>\n",
       "      <td>1915</td>\n",
       "      <td>1982</td>\n",
       "      <td>actress,soundtrack,producer</td>\n",
       "      <td>tt0036855,tt0034583,tt0038109,tt0038787</td>\n",
       "    </tr>\n",
       "    <tr>\n",
       "      <th>...</th>\n",
       "      <td>...</td>\n",
       "      <td>...</td>\n",
       "      <td>...</td>\n",
       "      <td>...</td>\n",
       "      <td>...</td>\n",
       "      <td>...</td>\n",
       "    </tr>\n",
       "    <tr>\n",
       "      <th>12888718</th>\n",
       "      <td>nm9990009</td>\n",
       "      <td>Francisco Braga</td>\n",
       "      <td>1868</td>\n",
       "      <td>1945</td>\n",
       "      <td>composer</td>\n",
       "      <td>tt8735938</td>\n",
       "    </tr>\n",
       "    <tr>\n",
       "      <th>12889433</th>\n",
       "      <td>nm9990804</td>\n",
       "      <td>Gilbert Lascault</td>\n",
       "      <td>1934</td>\n",
       "      <td>2022</td>\n",
       "      <td>writer</td>\n",
       "      <td>tt12423242,tt2314629,tt2073912,tt12276534</td>\n",
       "    </tr>\n",
       "    <tr>\n",
       "      <th>12890084</th>\n",
       "      <td>nm9991745</td>\n",
       "      <td>Dorothy Dorow</td>\n",
       "      <td>1931</td>\n",
       "      <td>2018</td>\n",
       "      <td>music_department</td>\n",
       "      <td>tt0179586,tt2265239,tt26921560,tt10250040</td>\n",
       "    </tr>\n",
       "    <tr>\n",
       "      <th>12891428</th>\n",
       "      <td>nm9993435</td>\n",
       "      <td>William Riva</td>\n",
       "      <td>1919</td>\n",
       "      <td>1999</td>\n",
       "      <td>set_decorator</td>\n",
       "      <td>tt0300836,tt0189339</td>\n",
       "    </tr>\n",
       "    <tr>\n",
       "      <th>12891429</th>\n",
       "      <td>nm9993436</td>\n",
       "      <td>Frank J. Gaily</td>\n",
       "      <td>1915</td>\n",
       "      <td>2008</td>\n",
       "      <td>sound_department</td>\n",
       "      <td>tt0189339</td>\n",
       "    </tr>\n",
       "  </tbody>\n",
       "</table>\n",
       "<p>178793 rows × 6 columns</p>\n",
       "</div>"
      ],
      "text/plain": [
       "             nconst       primaryName birthYear deathYear  \\\n",
       "0         nm0000001      Fred Astaire      1899      1987   \n",
       "1         nm0000002     Lauren Bacall      1924      2014   \n",
       "3         nm0000004      John Belushi      1949      1982   \n",
       "4         nm0000005    Ingmar Bergman      1918      2007   \n",
       "5         nm0000006    Ingrid Bergman      1915      1982   \n",
       "...             ...               ...       ...       ...   \n",
       "12888718  nm9990009   Francisco Braga      1868      1945   \n",
       "12889433  nm9990804  Gilbert Lascault      1934      2022   \n",
       "12890084  nm9991745     Dorothy Dorow      1931      2018   \n",
       "12891428  nm9993435      William Riva      1919      1999   \n",
       "12891429  nm9993436    Frank J. Gaily      1915      2008   \n",
       "\n",
       "                       primaryProfession  \\\n",
       "0         soundtrack,actor,miscellaneous   \n",
       "1                     actress,soundtrack   \n",
       "3                actor,soundtrack,writer   \n",
       "4                  writer,director,actor   \n",
       "5            actress,soundtrack,producer   \n",
       "...                                  ...   \n",
       "12888718                        composer   \n",
       "12889433                          writer   \n",
       "12890084                music_department   \n",
       "12891428                   set_decorator   \n",
       "12891429                sound_department   \n",
       "\n",
       "                                     knownForTitles  \n",
       "0           tt0031983,tt0050419,tt0053137,tt0072308  \n",
       "1           tt0038355,tt0117057,tt0075213,tt0037382  \n",
       "3           tt0080455,tt0072562,tt0077975,tt0078723  \n",
       "4           tt0083922,tt0069467,tt0050986,tt0050976  \n",
       "5           tt0036855,tt0034583,tt0038109,tt0038787  \n",
       "...                                             ...  \n",
       "12888718                                  tt8735938  \n",
       "12889433  tt12423242,tt2314629,tt2073912,tt12276534  \n",
       "12890084  tt0179586,tt2265239,tt26921560,tt10250040  \n",
       "12891428                        tt0300836,tt0189339  \n",
       "12891429                                  tt0189339  \n",
       "\n",
       "[178793 rows x 6 columns]"
      ]
     },
     "execution_count": 7,
     "metadata": {},
     "output_type": "execute_result"
    }
   ],
   "source": [
    "df"
   ]
  },
  {
   "cell_type": "code",
   "execution_count": 42,
   "metadata": {},
   "outputs": [],
   "source": [
    "actors = df"
   ]
  },
  {
   "cell_type": "code",
   "execution_count": 43,
   "metadata": {},
   "outputs": [
    {
     "data": {
      "text/html": [
       "<div>\n",
       "<style scoped>\n",
       "    .dataframe tbody tr th:only-of-type {\n",
       "        vertical-align: middle;\n",
       "    }\n",
       "\n",
       "    .dataframe tbody tr th {\n",
       "        vertical-align: top;\n",
       "    }\n",
       "\n",
       "    .dataframe thead th {\n",
       "        text-align: right;\n",
       "    }\n",
       "</style>\n",
       "<table border=\"1\" class=\"dataframe\">\n",
       "  <thead>\n",
       "    <tr style=\"text-align: right;\">\n",
       "      <th></th>\n",
       "      <th>nconst</th>\n",
       "      <th>primaryName</th>\n",
       "      <th>birthYear</th>\n",
       "      <th>deathYear</th>\n",
       "      <th>primaryProfession</th>\n",
       "      <th>knownForTitles</th>\n",
       "    </tr>\n",
       "  </thead>\n",
       "  <tbody>\n",
       "    <tr>\n",
       "      <th>0</th>\n",
       "      <td>nm0000001</td>\n",
       "      <td>Fred Astaire</td>\n",
       "      <td>1899</td>\n",
       "      <td>1987</td>\n",
       "      <td>soundtrack,actor,miscellaneous</td>\n",
       "      <td>tt0031983,tt0050419,tt0053137,tt0072308</td>\n",
       "    </tr>\n",
       "    <tr>\n",
       "      <th>1</th>\n",
       "      <td>nm0000002</td>\n",
       "      <td>Lauren Bacall</td>\n",
       "      <td>1924</td>\n",
       "      <td>2014</td>\n",
       "      <td>actress,soundtrack</td>\n",
       "      <td>tt0038355,tt0117057,tt0075213,tt0037382</td>\n",
       "    </tr>\n",
       "    <tr>\n",
       "      <th>2</th>\n",
       "      <td>nm0000003</td>\n",
       "      <td>Brigitte Bardot</td>\n",
       "      <td>1934</td>\n",
       "      <td>NaN</td>\n",
       "      <td>actress,soundtrack,music_department</td>\n",
       "      <td>tt0057345,tt0056404,tt0054452,tt0049189</td>\n",
       "    </tr>\n",
       "    <tr>\n",
       "      <th>3</th>\n",
       "      <td>nm0000004</td>\n",
       "      <td>John Belushi</td>\n",
       "      <td>1949</td>\n",
       "      <td>1982</td>\n",
       "      <td>actor,soundtrack,writer</td>\n",
       "      <td>tt0080455,tt0072562,tt0077975,tt0078723</td>\n",
       "    </tr>\n",
       "    <tr>\n",
       "      <th>4</th>\n",
       "      <td>nm0000005</td>\n",
       "      <td>Ingmar Bergman</td>\n",
       "      <td>1918</td>\n",
       "      <td>2007</td>\n",
       "      <td>writer,director,actor</td>\n",
       "      <td>tt0083922,tt0069467,tt0050986,tt0050976</td>\n",
       "    </tr>\n",
       "    <tr>\n",
       "      <th>...</th>\n",
       "      <td>...</td>\n",
       "      <td>...</td>\n",
       "      <td>...</td>\n",
       "      <td>...</td>\n",
       "      <td>...</td>\n",
       "      <td>...</td>\n",
       "    </tr>\n",
       "    <tr>\n",
       "      <th>12891677</th>\n",
       "      <td>nm9993714</td>\n",
       "      <td>Romeo del Rosario</td>\n",
       "      <td>NaN</td>\n",
       "      <td>NaN</td>\n",
       "      <td>animation_department,art_department</td>\n",
       "      <td>tt11657662,tt2455546,tt14069590</td>\n",
       "    </tr>\n",
       "    <tr>\n",
       "      <th>12891678</th>\n",
       "      <td>nm9993716</td>\n",
       "      <td>Essias Loberg</td>\n",
       "      <td>NaN</td>\n",
       "      <td>NaN</td>\n",
       "      <td>NaN</td>\n",
       "      <td>NaN</td>\n",
       "    </tr>\n",
       "    <tr>\n",
       "      <th>12891679</th>\n",
       "      <td>nm9993717</td>\n",
       "      <td>Harikrishnan Rajan</td>\n",
       "      <td>NaN</td>\n",
       "      <td>NaN</td>\n",
       "      <td>cinematographer</td>\n",
       "      <td>tt8736744</td>\n",
       "    </tr>\n",
       "    <tr>\n",
       "      <th>12891680</th>\n",
       "      <td>nm9993718</td>\n",
       "      <td>Aayush Nair</td>\n",
       "      <td>NaN</td>\n",
       "      <td>NaN</td>\n",
       "      <td>cinematographer</td>\n",
       "      <td>tt8736744</td>\n",
       "    </tr>\n",
       "    <tr>\n",
       "      <th>12891681</th>\n",
       "      <td>nm9993719</td>\n",
       "      <td>Andre Hill</td>\n",
       "      <td>NaN</td>\n",
       "      <td>NaN</td>\n",
       "      <td>NaN</td>\n",
       "      <td>NaN</td>\n",
       "    </tr>\n",
       "  </tbody>\n",
       "</table>\n",
       "<p>12891682 rows × 6 columns</p>\n",
       "</div>"
      ],
      "text/plain": [
       "             nconst         primaryName birthYear deathYear  \\\n",
       "0         nm0000001        Fred Astaire      1899      1987   \n",
       "1         nm0000002       Lauren Bacall      1924      2014   \n",
       "2         nm0000003     Brigitte Bardot      1934       NaN   \n",
       "3         nm0000004        John Belushi      1949      1982   \n",
       "4         nm0000005      Ingmar Bergman      1918      2007   \n",
       "...             ...                 ...       ...       ...   \n",
       "12891677  nm9993714   Romeo del Rosario       NaN       NaN   \n",
       "12891678  nm9993716       Essias Loberg       NaN       NaN   \n",
       "12891679  nm9993717  Harikrishnan Rajan       NaN       NaN   \n",
       "12891680  nm9993718         Aayush Nair       NaN       NaN   \n",
       "12891681  nm9993719          Andre Hill       NaN       NaN   \n",
       "\n",
       "                            primaryProfession  \\\n",
       "0              soundtrack,actor,miscellaneous   \n",
       "1                          actress,soundtrack   \n",
       "2         actress,soundtrack,music_department   \n",
       "3                     actor,soundtrack,writer   \n",
       "4                       writer,director,actor   \n",
       "...                                       ...   \n",
       "12891677  animation_department,art_department   \n",
       "12891678                                  NaN   \n",
       "12891679                      cinematographer   \n",
       "12891680                      cinematographer   \n",
       "12891681                                  NaN   \n",
       "\n",
       "                                   knownForTitles  \n",
       "0         tt0031983,tt0050419,tt0053137,tt0072308  \n",
       "1         tt0038355,tt0117057,tt0075213,tt0037382  \n",
       "2         tt0057345,tt0056404,tt0054452,tt0049189  \n",
       "3         tt0080455,tt0072562,tt0077975,tt0078723  \n",
       "4         tt0083922,tt0069467,tt0050986,tt0050976  \n",
       "...                                           ...  \n",
       "12891677          tt11657662,tt2455546,tt14069590  \n",
       "12891678                                      NaN  \n",
       "12891679                                tt8736744  \n",
       "12891680                                tt8736744  \n",
       "12891681                                      NaN  \n",
       "\n",
       "[12891682 rows x 6 columns]"
      ]
     },
     "execution_count": 43,
     "metadata": {},
     "output_type": "execute_result"
    }
   ],
   "source": [
    "actors"
   ]
  },
  {
   "cell_type": "code",
   "execution_count": null,
   "metadata": {},
   "outputs": [],
   "source": []
  }
 ],
 "metadata": {
  "kernelspec": {
   "display_name": "Python 3 (ipykernel)",
   "language": "python",
   "name": "python3"
  },
  "language_info": {
   "codemirror_mode": {
    "name": "ipython",
    "version": 3
   },
   "file_extension": ".py",
   "mimetype": "text/x-python",
   "name": "python",
   "nbconvert_exporter": "python",
   "pygments_lexer": "ipython3",
   "version": "3.10.12"
  }
 },
 "nbformat": 4,
 "nbformat_minor": 2
}
