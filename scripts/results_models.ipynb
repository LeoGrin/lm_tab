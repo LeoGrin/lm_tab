{
 "cells": [
  {
   "cell_type": "code",
   "execution_count": 14,
   "metadata": {},
   "outputs": [
    {
     "name": "stdout",
     "output_type": "stream",
     "text": [
      "Model: BAAI/bge-large-en-v1.5, Total Parameters: 335141888, Trainable Parameters: 335141888\n",
      "Model: llmrails/ember-v1, Total Parameters: 335141888, Trainable Parameters: 335141888\n",
      "Model: thenlper/gte-large, Total Parameters: 335141888, Trainable Parameters: 335141888\n",
      "Model: thenlper/gte-base, Total Parameters: 109482240, Trainable Parameters: 109482240\n",
      "Model: intfloat/e5-large-v2, Total Parameters: 335141888, Trainable Parameters: 335141888\n",
      "Model: BAAI/bge-small-en-v1.5, Total Parameters: 33360000, Trainable Parameters: 33360000\n",
      "Failed on model hkunlp/instructor-xl\n",
      "Failed on model hkunlp/instructor-large\n",
      "Model: intfloat/e5-base-v2, Total Parameters: 109482240, Trainable Parameters: 109482240\n",
      "Model: intfloat/multilingual-e5-large, Total Parameters: 559890432, Trainable Parameters: 559890432\n",
      "Model: intfloat/e5-large, Total Parameters: 335141888, Trainable Parameters: 335141888\n",
      "Model: thenlper/gte-small, Total Parameters: 33360000, Trainable Parameters: 33360000\n",
      "Model: intfloat/e5-base, Total Parameters: 109482240, Trainable Parameters: 109482240\n",
      "Model: intfloat/e5-small-v2, Total Parameters: 33360000, Trainable Parameters: 33360000\n",
      "Failed on model hkunlp/instructor-base\n",
      "Model: intfloat/multilingual-e5-base, Total Parameters: 278043648, Trainable Parameters: 278043648\n",
      "Model: intfloat/e5-small, Total Parameters: 33360000, Trainable Parameters: 33360000\n",
      "Model: TaylorAI/gte-tiny, Total Parameters: 22713216, Trainable Parameters: 22713216\n",
      "Model: gtr-t5-large, Total Parameters: 334939648, Trainable Parameters: 334939648\n",
      "Model: intfloat/multilingual-e5-small, Total Parameters: 117653760, Trainable Parameters: 117653760\n",
      "Model: all-mpnet-base-v2, Total Parameters: 109486464, Trainable Parameters: 109486464\n",
      "Model: jinaai/jina-embedding-l-en-v1, Total Parameters: 334939648, Trainable Parameters: 334939648\n",
      "Model: sentence-t5-large, Total Parameters: 334939648, Trainable Parameters: 334939648\n",
      "Model: TaylorAI/bge-micro-v2, Total Parameters: 17389824, Trainable Parameters: 17389824\n",
      "Model: all-MiniLM-L12-v2, Total Parameters: 33360000, Trainable Parameters: 33360000\n",
      "Model: all-MiniLM-L6-v2, Total Parameters: 22713216, Trainable Parameters: 22713216\n",
      "Model: jinaai/jina-embedding-b-en-v1, Total Parameters: 109628544, Trainable Parameters: 109628544\n",
      "Model: gtr-t5-base, Total Parameters: 109628544, Trainable Parameters: 109628544\n",
      "Model: nthakur/contriever-base-msmarco, Total Parameters: 109482240, Trainable Parameters: 109482240\n",
      "Model: TaylorAI/bge-micro, Total Parameters: 17389824, Trainable Parameters: 17389824\n",
      "Model: sentence-t5-base, Total Parameters: 109628544, Trainable Parameters: 109628544\n",
      "Model: paraphrase-multilingual-mpnet-base-v2, Total Parameters: 278043648, Trainable Parameters: 278043648\n"
     ]
    },
    {
     "name": "stderr",
     "output_type": "stream",
     "text": [
      "Some weights of the model checkpoint at /home/soda/lgrinszt/.cache/torch/sentence_transformers/Hum-Works_lodestone-base-4096-v1/ were not used when initializing BertModel: ['encoder.layer.4.mlp.wo.bias', 'encoder.layer.10.mlp.wo.bias', 'encoder.layer.4.mlp.gated_layers.weight', 'encoder.layer.9.mlp.layernorm.bias', 'encoder.layer.2.mlp.layernorm.weight', 'encoder.layer.11.mlp.gated_layers.weight', 'encoder.layer.5.mlp.gated_layers.weight', 'encoder.layer.11.mlp.layernorm.bias', 'encoder.layer.2.mlp.gated_layers.weight', 'encoder.layer.5.mlp.layernorm.weight', 'encoder.layer.6.mlp.wo.weight', 'encoder.layer.8.attention.self.Wqkv.bias', 'encoder.layer.3.mlp.gated_layers.weight', 'encoder.layer.5.attention.self.Wqkv.bias', 'encoder.layer.0.mlp.layernorm.bias', 'encoder.layer.4.mlp.wo.weight', 'encoder.layer.7.mlp.layernorm.bias', 'encoder.layer.8.attention.self.Wqkv.weight', 'encoder.layer.4.attention.self.Wqkv.weight', 'encoder.layer.10.mlp.wo.weight', 'encoder.layer.1.mlp.layernorm.weight', 'encoder.layer.8.mlp.wo.bias', 'encoder.layer.2.mlp.layernorm.bias', 'encoder.layer.5.mlp.layernorm.bias', 'encoder.layer.6.mlp.wo.bias', 'encoder.layer.3.attention.self.Wqkv.weight', 'encoder.layer.4.attention.self.Wqkv.bias', 'encoder.layer.4.mlp.layernorm.weight', 'encoder.layer.3.mlp.wo.weight', 'encoder.layer.1.mlp.gated_layers.weight', 'encoder.layer.2.attention.self.Wqkv.weight', 'encoder.layer.3.mlp.wo.bias', 'encoder.layer.2.mlp.wo.weight', 'encoder.layer.6.mlp.layernorm.weight', 'encoder.layer.11.mlp.wo.weight', 'encoder.layer.9.attention.self.Wqkv.weight', 'encoder.layer.9.mlp.gated_layers.weight', 'encoder.layer.8.mlp.layernorm.weight', 'encoder.layer.10.mlp.gated_layers.weight', 'encoder.layer.7.mlp.gated_layers.weight', 'encoder.layer.10.mlp.layernorm.weight', 'encoder.layer.3.attention.self.Wqkv.bias', 'encoder.layer.0.attention.self.Wqkv.bias', 'encoder.layer.10.attention.self.Wqkv.bias', 'encoder.layer.8.mlp.wo.weight', 'encoder.layer.6.mlp.layernorm.bias', 'encoder.layer.8.mlp.layernorm.bias', 'encoder.layer.1.attention.self.Wqkv.weight', 'encoder.layer.7.attention.self.Wqkv.weight', 'encoder.layer.8.mlp.gated_layers.weight', 'encoder.layer.1.mlp.wo.weight', 'encoder.layer.1.mlp.layernorm.bias', 'encoder.layer.5.mlp.wo.weight', 'encoder.layer.7.mlp.wo.bias', 'encoder.layer.7.mlp.wo.weight', 'encoder.layer.6.mlp.gated_layers.weight', 'encoder.layer.7.mlp.layernorm.weight', 'encoder.layer.4.mlp.layernorm.bias', 'encoder.layer.0.attention.self.Wqkv.weight', 'encoder.layer.11.mlp.layernorm.weight', 'encoder.layer.0.mlp.gated_layers.weight', 'encoder.layer.2.mlp.wo.bias', 'encoder.layer.2.attention.self.Wqkv.bias', 'encoder.layer.0.mlp.wo.bias', 'encoder.layer.7.attention.self.Wqkv.bias', 'encoder.layer.5.mlp.wo.bias', 'encoder.layer.6.attention.self.Wqkv.weight', 'encoder.layer.10.attention.self.Wqkv.weight', 'encoder.layer.0.mlp.layernorm.weight', 'encoder.layer.11.attention.self.Wqkv.weight', 'encoder.layer.9.mlp.wo.weight', 'encoder.layer.9.mlp.wo.bias', 'encoder.layer.1.mlp.wo.bias', 'encoder.layer.11.mlp.wo.bias', 'encoder.layer.3.mlp.layernorm.weight', 'encoder.layer.6.attention.self.Wqkv.bias', 'encoder.layer.9.attention.self.Wqkv.bias', 'encoder.layer.0.mlp.wo.weight', 'encoder.layer.3.mlp.layernorm.bias', 'encoder.layer.5.attention.self.Wqkv.weight', 'encoder.layer.11.attention.self.Wqkv.bias', 'encoder.layer.1.attention.self.Wqkv.bias', 'encoder.layer.10.mlp.layernorm.bias', 'encoder.layer.9.mlp.layernorm.weight']\n",
      "- This IS expected if you are initializing BertModel from the checkpoint of a model trained on another task or with another architecture (e.g. initializing a BertForSequenceClassification model from a BertForPreTraining model).\n",
      "- This IS NOT expected if you are initializing BertModel from the checkpoint of a model that you expect to be exactly identical (initializing a BertForSequenceClassification model from a BertForSequenceClassification model).\n",
      "Some weights of BertModel were not initialized from the model checkpoint at /home/soda/lgrinszt/.cache/torch/sentence_transformers/Hum-Works_lodestone-base-4096-v1/ and are newly initialized: ['encoder.layer.9.output.LayerNorm.bias', 'encoder.layer.4.output.dense.bias', 'encoder.layer.6.attention.self.query.bias', 'encoder.layer.7.attention.self.value.weight', 'encoder.layer.11.intermediate.dense.weight', 'encoder.layer.3.attention.self.query.weight', 'encoder.layer.11.output.LayerNorm.weight', 'encoder.layer.5.attention.self.key.bias', 'encoder.layer.10.output.LayerNorm.bias', 'encoder.layer.10.attention.self.value.bias', 'encoder.layer.5.output.LayerNorm.weight', 'encoder.layer.8.intermediate.dense.weight', 'encoder.layer.10.intermediate.dense.weight', 'encoder.layer.10.intermediate.dense.bias', 'encoder.layer.8.attention.self.value.weight', 'encoder.layer.6.output.LayerNorm.bias', 'encoder.layer.3.output.LayerNorm.bias', 'encoder.layer.7.attention.self.value.bias', 'encoder.layer.3.attention.self.value.weight', 'encoder.layer.9.intermediate.dense.weight', 'encoder.layer.4.output.dense.weight', 'encoder.layer.6.attention.self.query.weight', 'encoder.layer.11.attention.self.query.weight', 'encoder.layer.3.attention.self.key.bias', 'encoder.layer.8.attention.self.key.bias', 'encoder.layer.10.output.dense.weight', 'encoder.layer.8.attention.self.value.bias', 'encoder.layer.1.output.dense.weight', 'encoder.layer.8.output.dense.weight', 'encoder.layer.2.intermediate.dense.weight', 'encoder.layer.7.intermediate.dense.weight', 'encoder.layer.2.output.LayerNorm.bias', 'encoder.layer.6.attention.self.value.weight', 'encoder.layer.1.attention.self.value.weight', 'encoder.layer.4.intermediate.dense.bias', 'encoder.layer.9.attention.self.key.weight', 'encoder.layer.7.output.dense.bias', 'encoder.layer.8.attention.self.query.bias', 'encoder.layer.11.attention.self.query.bias', 'encoder.layer.3.output.dense.bias', 'encoder.layer.0.attention.self.key.weight', 'encoder.layer.11.output.LayerNorm.bias', 'encoder.layer.5.attention.self.key.weight', 'encoder.layer.10.attention.self.query.weight', 'encoder.layer.0.attention.self.query.weight', 'encoder.layer.3.intermediate.dense.bias', 'encoder.layer.9.attention.self.query.bias', 'encoder.layer.6.attention.self.value.bias', 'encoder.layer.10.attention.self.query.bias', 'encoder.layer.5.intermediate.dense.bias', 'encoder.layer.9.output.LayerNorm.weight', 'encoder.layer.4.attention.self.value.bias', 'encoder.layer.7.attention.self.query.bias', 'encoder.layer.1.attention.self.key.bias', 'encoder.layer.5.attention.self.value.weight', 'encoder.layer.11.attention.self.value.weight', 'encoder.layer.8.output.dense.bias', 'encoder.layer.0.attention.self.value.bias', 'encoder.layer.0.output.dense.weight', 'encoder.layer.1.attention.self.query.bias', 'encoder.layer.2.attention.self.query.bias', 'encoder.layer.1.attention.self.query.weight', 'encoder.layer.8.output.LayerNorm.weight', 'encoder.layer.2.attention.self.key.bias', 'encoder.layer.1.attention.self.value.bias', 'encoder.layer.2.output.LayerNorm.weight', 'encoder.layer.5.attention.self.value.bias', 'encoder.layer.4.attention.self.key.bias', 'encoder.layer.8.attention.self.query.weight', 'encoder.layer.3.attention.self.value.bias', 'encoder.layer.0.intermediate.dense.weight', 'encoder.layer.10.attention.self.key.weight', 'encoder.layer.10.output.dense.bias', 'encoder.layer.2.intermediate.dense.bias', 'encoder.layer.11.output.dense.weight', 'encoder.layer.4.intermediate.dense.weight', 'encoder.layer.9.attention.self.value.bias', 'encoder.layer.6.attention.self.key.weight', 'encoder.layer.11.attention.self.key.bias', 'encoder.layer.7.attention.self.query.weight', 'encoder.layer.4.output.LayerNorm.weight', 'encoder.layer.1.output.LayerNorm.weight', 'encoder.layer.0.output.LayerNorm.weight', 'encoder.layer.6.output.dense.weight', 'encoder.layer.6.output.LayerNorm.weight', 'encoder.layer.8.output.LayerNorm.bias', 'encoder.layer.3.attention.self.key.weight', 'encoder.layer.3.attention.self.query.bias', 'encoder.layer.3.output.dense.weight', 'encoder.layer.3.output.LayerNorm.weight', 'encoder.layer.0.attention.self.key.bias', 'encoder.layer.5.intermediate.dense.weight', 'encoder.layer.0.output.dense.bias', 'encoder.layer.5.attention.self.query.bias', 'encoder.layer.6.intermediate.dense.weight', 'encoder.layer.2.attention.self.key.weight', 'encoder.layer.2.output.dense.weight', 'encoder.layer.4.attention.self.query.weight', 'encoder.layer.0.output.LayerNorm.bias', 'encoder.layer.4.attention.self.query.bias', 'encoder.layer.7.attention.self.key.bias', 'encoder.layer.9.output.dense.bias', 'encoder.layer.6.attention.self.key.bias', 'encoder.layer.2.output.dense.bias', 'encoder.layer.1.intermediate.dense.weight', 'encoder.layer.11.attention.self.key.weight', 'encoder.layer.5.output.dense.weight', 'encoder.layer.7.output.LayerNorm.weight', 'encoder.layer.10.attention.self.key.bias', 'encoder.layer.7.attention.self.key.weight', 'encoder.layer.1.attention.self.key.weight', 'encoder.layer.2.attention.self.value.weight', 'encoder.layer.5.output.LayerNorm.bias', 'encoder.layer.7.output.dense.weight', 'encoder.layer.3.intermediate.dense.weight', 'encoder.layer.8.intermediate.dense.bias', 'encoder.layer.6.intermediate.dense.bias', 'embeddings.position_embeddings.weight', 'encoder.layer.1.output.LayerNorm.bias', 'encoder.layer.0.intermediate.dense.bias', 'encoder.layer.7.output.LayerNorm.bias', 'encoder.layer.9.attention.self.value.weight', 'encoder.layer.0.attention.self.query.bias', 'encoder.layer.9.attention.self.key.bias', 'encoder.layer.10.attention.self.value.weight', 'encoder.layer.4.attention.self.key.weight', 'encoder.layer.11.attention.self.value.bias', 'encoder.layer.1.intermediate.dense.bias', 'encoder.layer.11.intermediate.dense.bias', 'encoder.layer.6.output.dense.bias', 'encoder.layer.2.attention.self.value.bias', 'encoder.layer.8.attention.self.key.weight', 'encoder.layer.4.output.LayerNorm.bias', 'encoder.layer.2.attention.self.query.weight', 'encoder.layer.10.output.LayerNorm.weight', 'encoder.layer.1.output.dense.bias', 'encoder.layer.11.output.dense.bias', 'encoder.layer.5.attention.self.query.weight', 'encoder.layer.9.intermediate.dense.bias', 'encoder.layer.7.intermediate.dense.bias', 'encoder.layer.0.attention.self.value.weight', 'encoder.layer.9.attention.self.query.weight', 'encoder.layer.9.output.dense.weight', 'encoder.layer.5.output.dense.bias', 'encoder.layer.4.attention.self.value.weight']\n",
      "You should probably TRAIN this model on a down-stream task to be able to use it for predictions and inference.\n"
     ]
    },
    {
     "name": "stdout",
     "output_type": "stream",
     "text": [
      "Model: Hum-Works/lodestone-base-4096-v1, Total Parameters: 109486848, Trainable Parameters: 109486848\n",
      "Model: paraphrase-multilingual-MiniLM-L12-v2, Total Parameters: 117653760, Trainable Parameters: 117653760\n",
      "Model: msmarco-bert-co-condensor, Total Parameters: 109482240, Trainable Parameters: 109482240\n",
      "Model: jinaai/jina-embedding-s-en-v1, Total Parameters: 35330816, Trainable Parameters: 35330816\n"
     ]
    }
   ],
   "source": [
    "model_names = [\n",
    "      \"BAAI/bge-large-en-v1.5\",\n",
    "#     \"BAAI/bge-base-en-v1.5\",\n",
    "      \"llmrails/ember-v1\",\n",
    "     \"thenlper/gte-large\",\n",
    "     \"thenlper/gte-base\",\n",
    "     \"intfloat/e5-large-v2\",\n",
    "    \"BAAI/bge-small-en-v1.5\",\n",
    "    \"hkunlp/instructor-xl\",\n",
    "    \"hkunlp/instructor-large\",\n",
    "    \"intfloat/e5-base-v2\",\n",
    "    \"intfloat/multilingual-e5-large\",\n",
    "    \"intfloat/e5-large\",\n",
    "    \"thenlper/gte-small\",\n",
    "    \"intfloat/e5-base\",\n",
    "    \"intfloat/e5-small-v2\",\n",
    "    \"hkunlp/instructor-base\",\n",
    "    #\"sentence-t5-xxl\",\n",
    "    \"intfloat/multilingual-e5-base\",\n",
    "    #\"XLM-3B5-embedding\",\n",
    "    #\"gtr-t5-xxl\",\n",
    "    #\"SGPT-5.8B-weightedmean-msmarco-specb-bitfit\",\n",
    "    \"intfloat/e5-small\",\n",
    "    \"TaylorAI/gte-tiny\",\n",
    "    #\"gtr-t5-xl\",\n",
    "    \"gtr-t5-large\",\n",
    "    #\"XLM-0B6-embedding\",\n",
    "    \"intfloat/multilingual-e5-small\",\n",
    "    #\"sentence-t5-xl\",\n",
    "    \"all-mpnet-base-v2\",\n",
    "    #\"sgpt-bloom-7b1-msmarco\",\n",
    "    \"jinaai/jina-embedding-l-en-v1\",\n",
    "    #\"SGPT-2.7B-weightedmean-msmarco-specb-bitfit\",\n",
    "    \"sentence-t5-large\",\n",
    "    #\"MegatronBert-1B3-embedding\",\n",
    "    \"TaylorAI/bge-micro-v2\",\n",
    "    \"all-MiniLM-L12-v2\",\n",
    "    \"all-MiniLM-L6-v2\",\n",
    "    \"jinaai/jina-embedding-b-en-v1\",\n",
    "    #\"SGPT-1.3B-weightedmean-msmarco-specb-bitfit\",\n",
    "    \"gtr-t5-base\",\n",
    "    \"nthakur/contriever-base-msmarco\",\n",
    "    \"TaylorAI/bge-micro\",\n",
    "    \"sentence-t5-base\",\n",
    "    \"paraphrase-multilingual-mpnet-base-v2\",\n",
    "    \"Hum-Works/lodestone-base-4096-v1\",\n",
    "    #\"SGPT-5.8B-weightedmean-nli-bitfit\",\n",
    "    \"paraphrase-multilingual-MiniLM-L12-v2\",\n",
    "    \"msmarco-bert-co-condensor\",\n",
    "    \"jinaai/jina-embedding-s-en-v1\"\n",
    "]\n",
    "\n",
    "prefixes = [\"BAAI/bge\", \"thenlper/gte\", \"hkunlp/instructor\", \"all-MiniLM\", \"gtr-t5\", \"intfloat/e5\", \"TaylorAI/gte\", \"TaylorAI/bge\", \"intfloat/multilingual-e5\", \"sentence-t5\"]\n",
    "\n",
    "from transformers import AutoModel\n",
    "import os\n",
    "import csv\n",
    "os.environ['TRANSFORMERS_CACHE'] = '/tmp/my_dir'\n",
    "\n",
    "\n",
    "# Open CSV file in write mode\n",
    "with open('model_parameters.csv', 'w', newline='') as file:\n",
    "    writer = csv.writer(file)\n",
    "    # Write the header row\n",
    "    writer.writerow(['Model', 'Number of Parameters'])\n",
    "\n",
    "    for model_name in model_names:\n",
    "        try:\n",
    "            model = SentenceTransformer(model_name)\n",
    "\n",
    "            # Access the transformer model from the SentenceTransformer model\n",
    "            transformer_model = model._first_module()\n",
    "\n",
    "            # Compute the total number of parameters\n",
    "            total_parameters = sum(p.numel() for p in transformer_model.parameters())\n",
    "\n",
    "            # Compute the number of trainable parameters\n",
    "            trainable_parameters = sum(p.numel() for p in transformer_model.parameters() if p.requires_grad)\n",
    "\n",
    "            print(f'Model: {model_name}, Total Parameters: {total_parameters}, Trainable Parameters: {trainable_parameters}')\n",
    "            \n",
    "            # Write the model name and number of parameters to CSV\n",
    "            writer.writerow([model_name, trainable_parameters])\n",
    "        except:\n",
    "            print(f\"Failed on model {model_name}\")\n",
    "            continue"
   ]
  },
  {
   "cell_type": "code",
   "execution_count": 246,
   "metadata": {},
   "outputs": [],
   "source": [
    "import pandas as pd\n",
    "melted_results = pd.read_csv(\"../results/results_all_fixed_15_11.csv\")\n",
    "features = \"all\"\n",
    "model = \"GradientBoostingClassifier\"\n",
    "n_train = 1000\n",
    "to_plot = melted_results[(melted_results[\"features\"] == features) & (melted_results[\"model\"] == model) & (melted_results[\"n_train\"] == n_train)]\n",
    "acceptable_datasets = ['bikewale', 'clear_corpus', 'company_employees',\n",
    "       'employee-remuneration-and-expenses-earning-over-75000',\n",
    "       'employee_salary', 'goodreads', 'journal_jcr_cls', 'ramen_ratings',\n",
    "       'spotify', 'us_accidents_counts', 'us_accidents_severity',\n",
    "       'us_presidential', 'wine_review', 'zomato']\n",
    "to_plot = to_plot[to_plot[\"dataset\"].isin(acceptable_datasets)]\n",
    "\n",
    "#to_plot = to_plot[to_plot['encoding'] != 'lm__Hum-Works/lodestone-base-4096-v1']\n",
    "#to_plot = to_plot[to_plot['encoding'] != 'lm__gtr-t5-large']"
   ]
  },
  {
   "cell_type": "code",
   "execution_count": 247,
   "metadata": {},
   "outputs": [
    {
     "name": "stdout",
     "output_type": "stream",
     "text": [
      "0.9728682170542635\n"
     ]
    }
   ],
   "source": [
    " # average roc_auc for a given encoding and dataset\n",
    "print(((to_plot.groupby([\"encoding\", \"dataset\", \"features\", \"model\", \"dim_reduction\"]).count().values) == 7).mean())\n",
    "to_plot = to_plot.groupby([\"encoding\", \"dataset\", \"features\", \"model\", \"dim_reduction\"]).mean().reset_index()"
   ]
  },
  {
   "cell_type": "code",
   "execution_count": 248,
   "metadata": {},
   "outputs": [],
   "source": [
    "# remove encoding skrub__minhash_30_word_none\t\n",
    "to_plot = to_plot[to_plot[\"encoding\"] != \"skrub__minhash_30_word_none\"]\n",
    "\n",
    "# get skrub_score\n",
    "to_plot_skrub =  to_plot[to_plot[\"encoding\"] == \"skrub__minhash_30\"]"
   ]
  },
  {
   "cell_type": "code",
   "execution_count": 249,
   "metadata": {},
   "outputs": [],
   "source": [
    "total_to_plot = pd.merge(to_plot, to_plot_skrub,  on=['dataset', 'model', \"features\"], suffixes=('', '_skrub'))"
   ]
  },
  {
   "cell_type": "code",
   "execution_count": 250,
   "metadata": {},
   "outputs": [
    {
     "data": {
      "text/html": [
       "<div>\n",
       "<style scoped>\n",
       "    .dataframe tbody tr th:only-of-type {\n",
       "        vertical-align: middle;\n",
       "    }\n",
       "\n",
       "    .dataframe tbody tr th {\n",
       "        vertical-align: top;\n",
       "    }\n",
       "\n",
       "    .dataframe thead th {\n",
       "        text-align: right;\n",
       "    }\n",
       "</style>\n",
       "<table border=\"1\" class=\"dataframe\">\n",
       "  <thead>\n",
       "    <tr style=\"text-align: right;\">\n",
       "      <th></th>\n",
       "      <th>encoding</th>\n",
       "      <th>dataset</th>\n",
       "      <th>features</th>\n",
       "      <th>model</th>\n",
       "      <th>dim_reduction</th>\n",
       "      <th>n_train</th>\n",
       "      <th>n_test</th>\n",
       "      <th>accuracies</th>\n",
       "      <th>roc_auc</th>\n",
       "      <th>encoding_skrub</th>\n",
       "      <th>dim_reduction_skrub</th>\n",
       "      <th>n_train_skrub</th>\n",
       "      <th>n_test_skrub</th>\n",
       "      <th>accuracies_skrub</th>\n",
       "      <th>roc_auc_skrub</th>\n",
       "    </tr>\n",
       "  </thead>\n",
       "  <tbody>\n",
       "    <tr>\n",
       "      <th>0</th>\n",
       "      <td>lm__BAAI/bge-large-en-v1.5</td>\n",
       "      <td>bikewale</td>\n",
       "      <td>all</td>\n",
       "      <td>GradientBoostingClassifier</td>\n",
       "      <td>PCA_30</td>\n",
       "      <td>1000.0</td>\n",
       "      <td>500.0</td>\n",
       "      <td>0.855429</td>\n",
       "      <td>0.937630</td>\n",
       "      <td>skrub__minhash_30</td>\n",
       "      <td>passthrough</td>\n",
       "      <td>1000.0</td>\n",
       "      <td>500.0</td>\n",
       "      <td>0.858000</td>\n",
       "      <td>0.940111</td>\n",
       "    </tr>\n",
       "    <tr>\n",
       "      <th>1</th>\n",
       "      <td>lm__BAAI/bge-small-en-v1.5</td>\n",
       "      <td>bikewale</td>\n",
       "      <td>all</td>\n",
       "      <td>GradientBoostingClassifier</td>\n",
       "      <td>PCA_30</td>\n",
       "      <td>1000.0</td>\n",
       "      <td>500.0</td>\n",
       "      <td>0.856571</td>\n",
       "      <td>0.937820</td>\n",
       "      <td>skrub__minhash_30</td>\n",
       "      <td>passthrough</td>\n",
       "      <td>1000.0</td>\n",
       "      <td>500.0</td>\n",
       "      <td>0.858000</td>\n",
       "      <td>0.940111</td>\n",
       "    </tr>\n",
       "    <tr>\n",
       "      <th>2</th>\n",
       "      <td>lm__Hum-Works/lodestone-base-4096-v1</td>\n",
       "      <td>bikewale</td>\n",
       "      <td>all</td>\n",
       "      <td>GradientBoostingClassifier</td>\n",
       "      <td>PCA_30</td>\n",
       "      <td>1000.0</td>\n",
       "      <td>500.0</td>\n",
       "      <td>0.858000</td>\n",
       "      <td>0.936981</td>\n",
       "      <td>skrub__minhash_30</td>\n",
       "      <td>passthrough</td>\n",
       "      <td>1000.0</td>\n",
       "      <td>500.0</td>\n",
       "      <td>0.858000</td>\n",
       "      <td>0.940111</td>\n",
       "    </tr>\n",
       "    <tr>\n",
       "      <th>3</th>\n",
       "      <td>lm__TaylorAI/bge-micro</td>\n",
       "      <td>bikewale</td>\n",
       "      <td>all</td>\n",
       "      <td>GradientBoostingClassifier</td>\n",
       "      <td>PCA_30</td>\n",
       "      <td>1000.0</td>\n",
       "      <td>500.0</td>\n",
       "      <td>0.858571</td>\n",
       "      <td>0.938985</td>\n",
       "      <td>skrub__minhash_30</td>\n",
       "      <td>passthrough</td>\n",
       "      <td>1000.0</td>\n",
       "      <td>500.0</td>\n",
       "      <td>0.858000</td>\n",
       "      <td>0.940111</td>\n",
       "    </tr>\n",
       "    <tr>\n",
       "      <th>4</th>\n",
       "      <td>lm__TaylorAI/bge-micro-v2</td>\n",
       "      <td>bikewale</td>\n",
       "      <td>all</td>\n",
       "      <td>GradientBoostingClassifier</td>\n",
       "      <td>PCA_30</td>\n",
       "      <td>1000.0</td>\n",
       "      <td>500.0</td>\n",
       "      <td>0.853143</td>\n",
       "      <td>0.935463</td>\n",
       "      <td>skrub__minhash_30</td>\n",
       "      <td>passthrough</td>\n",
       "      <td>1000.0</td>\n",
       "      <td>500.0</td>\n",
       "      <td>0.858000</td>\n",
       "      <td>0.940111</td>\n",
       "    </tr>\n",
       "    <tr>\n",
       "      <th>...</th>\n",
       "      <td>...</td>\n",
       "      <td>...</td>\n",
       "      <td>...</td>\n",
       "      <td>...</td>\n",
       "      <td>...</td>\n",
       "      <td>...</td>\n",
       "      <td>...</td>\n",
       "      <td>...</td>\n",
       "      <td>...</td>\n",
       "      <td>...</td>\n",
       "      <td>...</td>\n",
       "      <td>...</td>\n",
       "      <td>...</td>\n",
       "      <td>...</td>\n",
       "      <td>...</td>\n",
       "    </tr>\n",
       "    <tr>\n",
       "      <th>497</th>\n",
       "      <td>lm__thenlper/gte-base</td>\n",
       "      <td>zomato</td>\n",
       "      <td>all</td>\n",
       "      <td>GradientBoostingClassifier</td>\n",
       "      <td>PCA_30</td>\n",
       "      <td>1000.0</td>\n",
       "      <td>500.0</td>\n",
       "      <td>0.845429</td>\n",
       "      <td>0.897583</td>\n",
       "      <td>skrub__minhash_30</td>\n",
       "      <td>passthrough</td>\n",
       "      <td>1000.0</td>\n",
       "      <td>500.0</td>\n",
       "      <td>0.839143</td>\n",
       "      <td>0.900160</td>\n",
       "    </tr>\n",
       "    <tr>\n",
       "      <th>498</th>\n",
       "      <td>lm__thenlper/gte-large</td>\n",
       "      <td>zomato</td>\n",
       "      <td>all</td>\n",
       "      <td>GradientBoostingClassifier</td>\n",
       "      <td>PCA_30</td>\n",
       "      <td>1000.0</td>\n",
       "      <td>500.0</td>\n",
       "      <td>0.843143</td>\n",
       "      <td>0.898274</td>\n",
       "      <td>skrub__minhash_30</td>\n",
       "      <td>passthrough</td>\n",
       "      <td>1000.0</td>\n",
       "      <td>500.0</td>\n",
       "      <td>0.839143</td>\n",
       "      <td>0.900160</td>\n",
       "    </tr>\n",
       "    <tr>\n",
       "      <th>499</th>\n",
       "      <td>lm__thenlper/gte-small</td>\n",
       "      <td>zomato</td>\n",
       "      <td>all</td>\n",
       "      <td>GradientBoostingClassifier</td>\n",
       "      <td>PCA_30</td>\n",
       "      <td>1000.0</td>\n",
       "      <td>500.0</td>\n",
       "      <td>0.852857</td>\n",
       "      <td>0.902493</td>\n",
       "      <td>skrub__minhash_30</td>\n",
       "      <td>passthrough</td>\n",
       "      <td>1000.0</td>\n",
       "      <td>500.0</td>\n",
       "      <td>0.839143</td>\n",
       "      <td>0.900160</td>\n",
       "    </tr>\n",
       "    <tr>\n",
       "      <th>500</th>\n",
       "      <td>openai__</td>\n",
       "      <td>zomato</td>\n",
       "      <td>all</td>\n",
       "      <td>GradientBoostingClassifier</td>\n",
       "      <td>PCA_30</td>\n",
       "      <td>1000.0</td>\n",
       "      <td>500.0</td>\n",
       "      <td>0.836571</td>\n",
       "      <td>0.898433</td>\n",
       "      <td>skrub__minhash_30</td>\n",
       "      <td>passthrough</td>\n",
       "      <td>1000.0</td>\n",
       "      <td>500.0</td>\n",
       "      <td>0.839143</td>\n",
       "      <td>0.900160</td>\n",
       "    </tr>\n",
       "    <tr>\n",
       "      <th>501</th>\n",
       "      <td>skrub__minhash_30</td>\n",
       "      <td>zomato</td>\n",
       "      <td>all</td>\n",
       "      <td>GradientBoostingClassifier</td>\n",
       "      <td>passthrough</td>\n",
       "      <td>1000.0</td>\n",
       "      <td>500.0</td>\n",
       "      <td>0.839143</td>\n",
       "      <td>0.900160</td>\n",
       "      <td>skrub__minhash_30</td>\n",
       "      <td>passthrough</td>\n",
       "      <td>1000.0</td>\n",
       "      <td>500.0</td>\n",
       "      <td>0.839143</td>\n",
       "      <td>0.900160</td>\n",
       "    </tr>\n",
       "  </tbody>\n",
       "</table>\n",
       "<p>502 rows × 15 columns</p>\n",
       "</div>"
      ],
      "text/plain": [
       "                                 encoding   dataset features  \\\n",
       "0              lm__BAAI/bge-large-en-v1.5  bikewale      all   \n",
       "1              lm__BAAI/bge-small-en-v1.5  bikewale      all   \n",
       "2    lm__Hum-Works/lodestone-base-4096-v1  bikewale      all   \n",
       "3                  lm__TaylorAI/bge-micro  bikewale      all   \n",
       "4               lm__TaylorAI/bge-micro-v2  bikewale      all   \n",
       "..                                    ...       ...      ...   \n",
       "497                 lm__thenlper/gte-base    zomato      all   \n",
       "498                lm__thenlper/gte-large    zomato      all   \n",
       "499                lm__thenlper/gte-small    zomato      all   \n",
       "500                              openai__    zomato      all   \n",
       "501                     skrub__minhash_30    zomato      all   \n",
       "\n",
       "                          model dim_reduction  n_train  n_test  accuracies  \\\n",
       "0    GradientBoostingClassifier        PCA_30   1000.0   500.0    0.855429   \n",
       "1    GradientBoostingClassifier        PCA_30   1000.0   500.0    0.856571   \n",
       "2    GradientBoostingClassifier        PCA_30   1000.0   500.0    0.858000   \n",
       "3    GradientBoostingClassifier        PCA_30   1000.0   500.0    0.858571   \n",
       "4    GradientBoostingClassifier        PCA_30   1000.0   500.0    0.853143   \n",
       "..                          ...           ...      ...     ...         ...   \n",
       "497  GradientBoostingClassifier        PCA_30   1000.0   500.0    0.845429   \n",
       "498  GradientBoostingClassifier        PCA_30   1000.0   500.0    0.843143   \n",
       "499  GradientBoostingClassifier        PCA_30   1000.0   500.0    0.852857   \n",
       "500  GradientBoostingClassifier        PCA_30   1000.0   500.0    0.836571   \n",
       "501  GradientBoostingClassifier   passthrough   1000.0   500.0    0.839143   \n",
       "\n",
       "      roc_auc     encoding_skrub dim_reduction_skrub  n_train_skrub  \\\n",
       "0    0.937630  skrub__minhash_30         passthrough         1000.0   \n",
       "1    0.937820  skrub__minhash_30         passthrough         1000.0   \n",
       "2    0.936981  skrub__minhash_30         passthrough         1000.0   \n",
       "3    0.938985  skrub__minhash_30         passthrough         1000.0   \n",
       "4    0.935463  skrub__minhash_30         passthrough         1000.0   \n",
       "..        ...                ...                 ...            ...   \n",
       "497  0.897583  skrub__minhash_30         passthrough         1000.0   \n",
       "498  0.898274  skrub__minhash_30         passthrough         1000.0   \n",
       "499  0.902493  skrub__minhash_30         passthrough         1000.0   \n",
       "500  0.898433  skrub__minhash_30         passthrough         1000.0   \n",
       "501  0.900160  skrub__minhash_30         passthrough         1000.0   \n",
       "\n",
       "     n_test_skrub  accuracies_skrub  roc_auc_skrub  \n",
       "0           500.0          0.858000       0.940111  \n",
       "1           500.0          0.858000       0.940111  \n",
       "2           500.0          0.858000       0.940111  \n",
       "3           500.0          0.858000       0.940111  \n",
       "4           500.0          0.858000       0.940111  \n",
       "..            ...               ...            ...  \n",
       "497         500.0          0.839143       0.900160  \n",
       "498         500.0          0.839143       0.900160  \n",
       "499         500.0          0.839143       0.900160  \n",
       "500         500.0          0.839143       0.900160  \n",
       "501         500.0          0.839143       0.900160  \n",
       "\n",
       "[502 rows x 15 columns]"
      ]
     },
     "execution_count": 250,
     "metadata": {},
     "output_type": "execute_result"
    }
   ],
   "source": [
    "total_to_plot"
   ]
  },
  {
   "cell_type": "code",
   "execution_count": 251,
   "metadata": {},
   "outputs": [],
   "source": [
    "total_to_plot[\"gain\"] = total_to_plot[\"roc_auc\"] - total_to_plot[\"roc_auc_skrub\"]\n",
    "total_to_plot[\"gain_percent\"] = 100 * total_to_plot[\"gain\"] / total_to_plot[\"roc_auc_skrub\"]\n",
    "\n",
    "# average on datasets\n",
    "total_to_plot = total_to_plot.groupby([\"encoding\", \"features\", \"model\", \"dim_reduction\"])[\"gain_percent\"].mean().reset_index()"
   ]
  },
  {
   "cell_type": "code",
   "execution_count": 252,
   "metadata": {},
   "outputs": [],
   "source": [
    "df_parameters = pd.read_csv(\"model_parameters.csv\")\n",
    "# rename Model to encoding\n",
    "df_parameters = df_parameters.rename(columns={\"Model\": \"encoding\"})\n",
    "prefixes = [\"BAAI/bge\", \"thenlper/gte\", \"hkunlp/instructor\", \"all-MiniLM\", \"gtr-t5\", \"intfloat/e5\", \"TaylorAI/gte\", \"TaylorAI/bge\", \"intfloat/multilingual-e5\"]\n",
    "# assign each encoding to a prefix\n",
    "\n",
    "prefixes = [\"BAAI/bge\", \"thenlper/gte\", \"hkunlp/instructor\", \"all-MiniLM\", \"gtr-t5\", \"intfloat/e5\", \"TaylorAI/gte\", \"TaylorAI/bge\", \"intfloat/multilingual-e5\", \"sentence-t5\"]\n",
    "\n",
    "# create a new column 'prefix' that contains the prefix of each 'encoding'\n",
    "df_parameters['prefix'] = df_parameters['encoding'].apply(lambda x: next((prefix for prefix in prefixes if x.startswith(prefix)), 'Unknown'))\n",
    "df_parameters[\"name_without_prefix\"] = df_parameters['encoding'].apply(lambda x: x.replace(next((prefix for prefix in prefixes if x.startswith(prefix)), 'Unknown') + \"-\", \"\"))\n",
    "df_parameters[\"version\"] = df_parameters['encoding'].apply(lambda x: \"\" if \"-v\" not in x else \"-v\" + x.split(\"-v\")[-1])\n",
    "\n",
    "df_parameters[\"family\"] = df_parameters['prefix'] + df_parameters[\"version\"]\n",
    "\n",
    "# add lm__ in front\n",
    "df_parameters[\"encoding\"] = pd.array([\"lm__\" + x for x in df_parameters[\"encoding\"]])\n"
   ]
  },
  {
   "cell_type": "code",
   "execution_count": 260,
   "metadata": {},
   "outputs": [
    {
     "data": {
      "text/html": [
       "<div>\n",
       "<style scoped>\n",
       "    .dataframe tbody tr th:only-of-type {\n",
       "        vertical-align: middle;\n",
       "    }\n",
       "\n",
       "    .dataframe tbody tr th {\n",
       "        vertical-align: top;\n",
       "    }\n",
       "\n",
       "    .dataframe thead th {\n",
       "        text-align: right;\n",
       "    }\n",
       "</style>\n",
       "<table border=\"1\" class=\"dataframe\">\n",
       "  <thead>\n",
       "    <tr style=\"text-align: right;\">\n",
       "      <th></th>\n",
       "      <th>encoding</th>\n",
       "      <th>Number of Parameters</th>\n",
       "      <th>prefix</th>\n",
       "      <th>name_without_prefix</th>\n",
       "      <th>version</th>\n",
       "      <th>family</th>\n",
       "    </tr>\n",
       "  </thead>\n",
       "  <tbody>\n",
       "    <tr>\n",
       "      <th>0</th>\n",
       "      <td>lm__BAAI/bge-large-en-v1.5</td>\n",
       "      <td>335141888</td>\n",
       "      <td>BAAI/bge</td>\n",
       "      <td>large-en-v1.5</td>\n",
       "      <td>-v1.5</td>\n",
       "      <td>BAAI/bge-v1.5</td>\n",
       "    </tr>\n",
       "    <tr>\n",
       "      <th>1</th>\n",
       "      <td>lm__llmrails/ember-v1</td>\n",
       "      <td>335141888</td>\n",
       "      <td>Unknown</td>\n",
       "      <td>llmrails/ember-v1</td>\n",
       "      <td>-v1</td>\n",
       "      <td>Unknown-v1</td>\n",
       "    </tr>\n",
       "    <tr>\n",
       "      <th>2</th>\n",
       "      <td>lm__thenlper/gte-large</td>\n",
       "      <td>335141888</td>\n",
       "      <td>thenlper/gte</td>\n",
       "      <td>large</td>\n",
       "      <td></td>\n",
       "      <td>thenlper/gte</td>\n",
       "    </tr>\n",
       "    <tr>\n",
       "      <th>3</th>\n",
       "      <td>lm__thenlper/gte-base</td>\n",
       "      <td>109482240</td>\n",
       "      <td>thenlper/gte</td>\n",
       "      <td>base</td>\n",
       "      <td></td>\n",
       "      <td>thenlper/gte</td>\n",
       "    </tr>\n",
       "    <tr>\n",
       "      <th>4</th>\n",
       "      <td>lm__intfloat/e5-large-v2</td>\n",
       "      <td>335141888</td>\n",
       "      <td>intfloat/e5</td>\n",
       "      <td>large-v2</td>\n",
       "      <td>-v2</td>\n",
       "      <td>intfloat/e5-v2</td>\n",
       "    </tr>\n",
       "    <tr>\n",
       "      <th>5</th>\n",
       "      <td>lm__BAAI/bge-small-en-v1.5</td>\n",
       "      <td>33360000</td>\n",
       "      <td>BAAI/bge</td>\n",
       "      <td>small-en-v1.5</td>\n",
       "      <td>-v1.5</td>\n",
       "      <td>BAAI/bge-v1.5</td>\n",
       "    </tr>\n",
       "    <tr>\n",
       "      <th>6</th>\n",
       "      <td>lm__intfloat/e5-base-v2</td>\n",
       "      <td>109482240</td>\n",
       "      <td>intfloat/e5</td>\n",
       "      <td>base-v2</td>\n",
       "      <td>-v2</td>\n",
       "      <td>intfloat/e5-v2</td>\n",
       "    </tr>\n",
       "    <tr>\n",
       "      <th>7</th>\n",
       "      <td>lm__intfloat/multilingual-e5-large</td>\n",
       "      <td>559890432</td>\n",
       "      <td>intfloat/multilingual-e5</td>\n",
       "      <td>large</td>\n",
       "      <td></td>\n",
       "      <td>intfloat/multilingual-e5</td>\n",
       "    </tr>\n",
       "    <tr>\n",
       "      <th>8</th>\n",
       "      <td>lm__intfloat/e5-large</td>\n",
       "      <td>335141888</td>\n",
       "      <td>intfloat/e5</td>\n",
       "      <td>large</td>\n",
       "      <td></td>\n",
       "      <td>intfloat/e5</td>\n",
       "    </tr>\n",
       "    <tr>\n",
       "      <th>9</th>\n",
       "      <td>lm__thenlper/gte-small</td>\n",
       "      <td>33360000</td>\n",
       "      <td>thenlper/gte</td>\n",
       "      <td>small</td>\n",
       "      <td></td>\n",
       "      <td>thenlper/gte</td>\n",
       "    </tr>\n",
       "    <tr>\n",
       "      <th>10</th>\n",
       "      <td>lm__intfloat/e5-base</td>\n",
       "      <td>109482240</td>\n",
       "      <td>intfloat/e5</td>\n",
       "      <td>base</td>\n",
       "      <td></td>\n",
       "      <td>intfloat/e5</td>\n",
       "    </tr>\n",
       "    <tr>\n",
       "      <th>11</th>\n",
       "      <td>lm__intfloat/e5-small-v2</td>\n",
       "      <td>33360000</td>\n",
       "      <td>intfloat/e5</td>\n",
       "      <td>small-v2</td>\n",
       "      <td>-v2</td>\n",
       "      <td>intfloat/e5-v2</td>\n",
       "    </tr>\n",
       "    <tr>\n",
       "      <th>12</th>\n",
       "      <td>lm__intfloat/multilingual-e5-base</td>\n",
       "      <td>278043648</td>\n",
       "      <td>intfloat/multilingual-e5</td>\n",
       "      <td>base</td>\n",
       "      <td></td>\n",
       "      <td>intfloat/multilingual-e5</td>\n",
       "    </tr>\n",
       "    <tr>\n",
       "      <th>13</th>\n",
       "      <td>lm__intfloat/e5-small</td>\n",
       "      <td>33360000</td>\n",
       "      <td>intfloat/e5</td>\n",
       "      <td>small</td>\n",
       "      <td></td>\n",
       "      <td>intfloat/e5</td>\n",
       "    </tr>\n",
       "    <tr>\n",
       "      <th>14</th>\n",
       "      <td>lm__TaylorAI/gte-tiny</td>\n",
       "      <td>22713216</td>\n",
       "      <td>TaylorAI/gte</td>\n",
       "      <td>tiny</td>\n",
       "      <td></td>\n",
       "      <td>TaylorAI/gte</td>\n",
       "    </tr>\n",
       "    <tr>\n",
       "      <th>15</th>\n",
       "      <td>lm__gtr-t5-large</td>\n",
       "      <td>334939648</td>\n",
       "      <td>gtr-t5</td>\n",
       "      <td>large</td>\n",
       "      <td></td>\n",
       "      <td>gtr-t5</td>\n",
       "    </tr>\n",
       "    <tr>\n",
       "      <th>16</th>\n",
       "      <td>lm__intfloat/multilingual-e5-small</td>\n",
       "      <td>117653760</td>\n",
       "      <td>intfloat/multilingual-e5</td>\n",
       "      <td>small</td>\n",
       "      <td></td>\n",
       "      <td>intfloat/multilingual-e5</td>\n",
       "    </tr>\n",
       "    <tr>\n",
       "      <th>17</th>\n",
       "      <td>lm__all-mpnet-base-v2</td>\n",
       "      <td>109486464</td>\n",
       "      <td>Unknown</td>\n",
       "      <td>all-mpnet-base-v2</td>\n",
       "      <td>-v2</td>\n",
       "      <td>Unknown-v2</td>\n",
       "    </tr>\n",
       "    <tr>\n",
       "      <th>18</th>\n",
       "      <td>lm__jinaai/jina-embedding-l-en-v1</td>\n",
       "      <td>334939648</td>\n",
       "      <td>Unknown</td>\n",
       "      <td>jinaai/jina-embedding-l-en-v1</td>\n",
       "      <td>-v1</td>\n",
       "      <td>Unknown-v1</td>\n",
       "    </tr>\n",
       "    <tr>\n",
       "      <th>19</th>\n",
       "      <td>lm__sentence-t5-large</td>\n",
       "      <td>334939648</td>\n",
       "      <td>sentence-t5</td>\n",
       "      <td>large</td>\n",
       "      <td></td>\n",
       "      <td>sentence-t5</td>\n",
       "    </tr>\n",
       "    <tr>\n",
       "      <th>20</th>\n",
       "      <td>lm__TaylorAI/bge-micro-v2</td>\n",
       "      <td>17389824</td>\n",
       "      <td>TaylorAI/bge</td>\n",
       "      <td>micro-v2</td>\n",
       "      <td>-v2</td>\n",
       "      <td>TaylorAI/bge-v2</td>\n",
       "    </tr>\n",
       "    <tr>\n",
       "      <th>21</th>\n",
       "      <td>lm__all-MiniLM-L12-v2</td>\n",
       "      <td>33360000</td>\n",
       "      <td>all-MiniLM</td>\n",
       "      <td>L12-v2</td>\n",
       "      <td>-v2</td>\n",
       "      <td>all-MiniLM-v2</td>\n",
       "    </tr>\n",
       "    <tr>\n",
       "      <th>22</th>\n",
       "      <td>lm__all-MiniLM-L6-v2</td>\n",
       "      <td>22713216</td>\n",
       "      <td>all-MiniLM</td>\n",
       "      <td>L6-v2</td>\n",
       "      <td>-v2</td>\n",
       "      <td>all-MiniLM-v2</td>\n",
       "    </tr>\n",
       "    <tr>\n",
       "      <th>23</th>\n",
       "      <td>lm__jinaai/jina-embedding-b-en-v1</td>\n",
       "      <td>109628544</td>\n",
       "      <td>Unknown</td>\n",
       "      <td>jinaai/jina-embedding-b-en-v1</td>\n",
       "      <td>-v1</td>\n",
       "      <td>Unknown-v1</td>\n",
       "    </tr>\n",
       "    <tr>\n",
       "      <th>24</th>\n",
       "      <td>lm__gtr-t5-base</td>\n",
       "      <td>109628544</td>\n",
       "      <td>gtr-t5</td>\n",
       "      <td>base</td>\n",
       "      <td></td>\n",
       "      <td>gtr-t5</td>\n",
       "    </tr>\n",
       "    <tr>\n",
       "      <th>25</th>\n",
       "      <td>lm__nthakur/contriever-base-msmarco</td>\n",
       "      <td>109482240</td>\n",
       "      <td>Unknown</td>\n",
       "      <td>nthakur/contriever-base-msmarco</td>\n",
       "      <td></td>\n",
       "      <td>Unknown</td>\n",
       "    </tr>\n",
       "    <tr>\n",
       "      <th>26</th>\n",
       "      <td>lm__TaylorAI/bge-micro</td>\n",
       "      <td>17389824</td>\n",
       "      <td>TaylorAI/bge</td>\n",
       "      <td>micro</td>\n",
       "      <td></td>\n",
       "      <td>TaylorAI/bge</td>\n",
       "    </tr>\n",
       "    <tr>\n",
       "      <th>27</th>\n",
       "      <td>lm__sentence-t5-base</td>\n",
       "      <td>109628544</td>\n",
       "      <td>sentence-t5</td>\n",
       "      <td>base</td>\n",
       "      <td></td>\n",
       "      <td>sentence-t5</td>\n",
       "    </tr>\n",
       "    <tr>\n",
       "      <th>28</th>\n",
       "      <td>lm__paraphrase-multilingual-mpnet-base-v2</td>\n",
       "      <td>278043648</td>\n",
       "      <td>Unknown</td>\n",
       "      <td>paraphrase-multilingual-mpnet-base-v2</td>\n",
       "      <td>-v2</td>\n",
       "      <td>Unknown-v2</td>\n",
       "    </tr>\n",
       "    <tr>\n",
       "      <th>29</th>\n",
       "      <td>lm__Hum-Works/lodestone-base-4096-v1</td>\n",
       "      <td>109486848</td>\n",
       "      <td>Unknown</td>\n",
       "      <td>Hum-Works/lodestone-base-4096-v1</td>\n",
       "      <td>-v1</td>\n",
       "      <td>Unknown-v1</td>\n",
       "    </tr>\n",
       "    <tr>\n",
       "      <th>30</th>\n",
       "      <td>lm__paraphrase-multilingual-MiniLM-L12-v2</td>\n",
       "      <td>117653760</td>\n",
       "      <td>Unknown</td>\n",
       "      <td>paraphrase-multilingual-MiniLM-L12-v2</td>\n",
       "      <td>-v2</td>\n",
       "      <td>Unknown-v2</td>\n",
       "    </tr>\n",
       "    <tr>\n",
       "      <th>31</th>\n",
       "      <td>lm__msmarco-bert-co-condensor</td>\n",
       "      <td>109482240</td>\n",
       "      <td>Unknown</td>\n",
       "      <td>msmarco-bert-co-condensor</td>\n",
       "      <td></td>\n",
       "      <td>Unknown</td>\n",
       "    </tr>\n",
       "    <tr>\n",
       "      <th>32</th>\n",
       "      <td>lm__jinaai/jina-embedding-s-en-v1</td>\n",
       "      <td>35330816</td>\n",
       "      <td>Unknown</td>\n",
       "      <td>jinaai/jina-embedding-s-en-v1</td>\n",
       "      <td>-v1</td>\n",
       "      <td>Unknown-v1</td>\n",
       "    </tr>\n",
       "  </tbody>\n",
       "</table>\n",
       "</div>"
      ],
      "text/plain": [
       "                                     encoding  Number of Parameters  \\\n",
       "0                  lm__BAAI/bge-large-en-v1.5             335141888   \n",
       "1                       lm__llmrails/ember-v1             335141888   \n",
       "2                      lm__thenlper/gte-large             335141888   \n",
       "3                       lm__thenlper/gte-base             109482240   \n",
       "4                    lm__intfloat/e5-large-v2             335141888   \n",
       "5                  lm__BAAI/bge-small-en-v1.5              33360000   \n",
       "6                     lm__intfloat/e5-base-v2             109482240   \n",
       "7          lm__intfloat/multilingual-e5-large             559890432   \n",
       "8                       lm__intfloat/e5-large             335141888   \n",
       "9                      lm__thenlper/gte-small              33360000   \n",
       "10                       lm__intfloat/e5-base             109482240   \n",
       "11                   lm__intfloat/e5-small-v2              33360000   \n",
       "12          lm__intfloat/multilingual-e5-base             278043648   \n",
       "13                      lm__intfloat/e5-small              33360000   \n",
       "14                      lm__TaylorAI/gte-tiny              22713216   \n",
       "15                           lm__gtr-t5-large             334939648   \n",
       "16         lm__intfloat/multilingual-e5-small             117653760   \n",
       "17                      lm__all-mpnet-base-v2             109486464   \n",
       "18          lm__jinaai/jina-embedding-l-en-v1             334939648   \n",
       "19                      lm__sentence-t5-large             334939648   \n",
       "20                  lm__TaylorAI/bge-micro-v2              17389824   \n",
       "21                      lm__all-MiniLM-L12-v2              33360000   \n",
       "22                       lm__all-MiniLM-L6-v2              22713216   \n",
       "23          lm__jinaai/jina-embedding-b-en-v1             109628544   \n",
       "24                            lm__gtr-t5-base             109628544   \n",
       "25        lm__nthakur/contriever-base-msmarco             109482240   \n",
       "26                     lm__TaylorAI/bge-micro              17389824   \n",
       "27                       lm__sentence-t5-base             109628544   \n",
       "28  lm__paraphrase-multilingual-mpnet-base-v2             278043648   \n",
       "29       lm__Hum-Works/lodestone-base-4096-v1             109486848   \n",
       "30  lm__paraphrase-multilingual-MiniLM-L12-v2             117653760   \n",
       "31              lm__msmarco-bert-co-condensor             109482240   \n",
       "32          lm__jinaai/jina-embedding-s-en-v1              35330816   \n",
       "\n",
       "                      prefix                    name_without_prefix version  \\\n",
       "0                   BAAI/bge                          large-en-v1.5   -v1.5   \n",
       "1                    Unknown                      llmrails/ember-v1     -v1   \n",
       "2               thenlper/gte                                  large           \n",
       "3               thenlper/gte                                   base           \n",
       "4                intfloat/e5                               large-v2     -v2   \n",
       "5                   BAAI/bge                          small-en-v1.5   -v1.5   \n",
       "6                intfloat/e5                                base-v2     -v2   \n",
       "7   intfloat/multilingual-e5                                  large           \n",
       "8                intfloat/e5                                  large           \n",
       "9               thenlper/gte                                  small           \n",
       "10               intfloat/e5                                   base           \n",
       "11               intfloat/e5                               small-v2     -v2   \n",
       "12  intfloat/multilingual-e5                                   base           \n",
       "13               intfloat/e5                                  small           \n",
       "14              TaylorAI/gte                                   tiny           \n",
       "15                    gtr-t5                                  large           \n",
       "16  intfloat/multilingual-e5                                  small           \n",
       "17                   Unknown                      all-mpnet-base-v2     -v2   \n",
       "18                   Unknown          jinaai/jina-embedding-l-en-v1     -v1   \n",
       "19               sentence-t5                                  large           \n",
       "20              TaylorAI/bge                               micro-v2     -v2   \n",
       "21                all-MiniLM                                 L12-v2     -v2   \n",
       "22                all-MiniLM                                  L6-v2     -v2   \n",
       "23                   Unknown          jinaai/jina-embedding-b-en-v1     -v1   \n",
       "24                    gtr-t5                                   base           \n",
       "25                   Unknown        nthakur/contriever-base-msmarco           \n",
       "26              TaylorAI/bge                                  micro           \n",
       "27               sentence-t5                                   base           \n",
       "28                   Unknown  paraphrase-multilingual-mpnet-base-v2     -v2   \n",
       "29                   Unknown       Hum-Works/lodestone-base-4096-v1     -v1   \n",
       "30                   Unknown  paraphrase-multilingual-MiniLM-L12-v2     -v2   \n",
       "31                   Unknown              msmarco-bert-co-condensor           \n",
       "32                   Unknown          jinaai/jina-embedding-s-en-v1     -v1   \n",
       "\n",
       "                      family  \n",
       "0              BAAI/bge-v1.5  \n",
       "1                 Unknown-v1  \n",
       "2               thenlper/gte  \n",
       "3               thenlper/gte  \n",
       "4             intfloat/e5-v2  \n",
       "5              BAAI/bge-v1.5  \n",
       "6             intfloat/e5-v2  \n",
       "7   intfloat/multilingual-e5  \n",
       "8                intfloat/e5  \n",
       "9               thenlper/gte  \n",
       "10               intfloat/e5  \n",
       "11            intfloat/e5-v2  \n",
       "12  intfloat/multilingual-e5  \n",
       "13               intfloat/e5  \n",
       "14              TaylorAI/gte  \n",
       "15                    gtr-t5  \n",
       "16  intfloat/multilingual-e5  \n",
       "17                Unknown-v2  \n",
       "18                Unknown-v1  \n",
       "19               sentence-t5  \n",
       "20           TaylorAI/bge-v2  \n",
       "21             all-MiniLM-v2  \n",
       "22             all-MiniLM-v2  \n",
       "23                Unknown-v1  \n",
       "24                    gtr-t5  \n",
       "25                   Unknown  \n",
       "26              TaylorAI/bge  \n",
       "27               sentence-t5  \n",
       "28                Unknown-v2  \n",
       "29                Unknown-v1  \n",
       "30                Unknown-v2  \n",
       "31                   Unknown  \n",
       "32                Unknown-v1  "
      ]
     },
     "execution_count": 260,
     "metadata": {},
     "output_type": "execute_result"
    }
   ],
   "source": [
    "df_parameters"
   ]
  },
  {
   "cell_type": "code",
   "execution_count": null,
   "metadata": {},
   "outputs": [],
   "source": [
    "benchmark_scores = {\n",
    "    \"lm__BAAI/bge-large-en-v1.5\": 64.23\n",
    "    \"lm__BAAI/bge-base-en-v1.5\": 63.55,\n",
    "    \"lm__ember-v1\": 63.54,\n",
    "    \"lm__gte_large\": 63.13,\n",
    "    \"lm__gte_base\": 62.39\n",
    "}"
   ]
  },
  {
   "cell_type": "code",
   "execution_count": 254,
   "metadata": {},
   "outputs": [],
   "source": [
    "# merge on Model ~ encoding\n",
    "merged_dataframe = total_to_plot.merge(df_parameters)"
   ]
  },
  {
   "cell_type": "code",
   "execution_count": 255,
   "metadata": {},
   "outputs": [],
   "source": [
    "merged_dataframe = merged_dataframe[merged_dataframe[\"prefix\"] != \"Unknown\"]\n",
    "\n",
    "# remove families with only one element\n",
    "merged_dataframe = merged_dataframe.groupby([\"family\", \"features\", \"model\", \"dim_reduction\"]).filter(lambda x: len(x) > 1)"
   ]
  },
  {
   "cell_type": "code",
   "execution_count": 256,
   "metadata": {},
   "outputs": [
    {
     "data": {
      "application/vnd.plotly.v1+json": {
       "config": {
        "plotlyServerURL": "https://plot.ly"
       },
       "data": [
        {
         "hovertemplate": "prefix=BAAI/bge<br>Number of Parameters=%{x}<br>gain_percent=%{y}<extra></extra>",
         "legendgroup": "",
         "marker": {
          "color": "#636efa",
          "symbol": "circle"
         },
         "mode": "markers",
         "name": "",
         "orientation": "v",
         "showlegend": false,
         "type": "scatter",
         "x": [
          335141888,
          33360000
         ],
         "xaxis": "x",
         "y": [
          3.1653443160061085,
          2.1060885299234493
         ],
         "yaxis": "y"
        },
        {
         "hovertemplate": "prefix=all-MiniLM<br>Number of Parameters=%{x}<br>gain_percent=%{y}<extra></extra>",
         "legendgroup": "",
         "marker": {
          "color": "#636efa",
          "symbol": "circle"
         },
         "mode": "markers",
         "name": "",
         "orientation": "v",
         "showlegend": false,
         "type": "scatter",
         "x": [
          33360000,
          22713216
         ],
         "xaxis": "x2",
         "y": [
          1.5355134818486393,
          1.4535947753573752
         ],
         "yaxis": "y2"
        },
        {
         "hovertemplate": "prefix=gtr-t5<br>Number of Parameters=%{x}<br>gain_percent=%{y}<extra></extra>",
         "legendgroup": "",
         "marker": {
          "color": "#636efa",
          "symbol": "circle"
         },
         "mode": "markers",
         "name": "",
         "orientation": "v",
         "showlegend": false,
         "type": "scatter",
         "x": [
          109628544,
          334939648
         ],
         "xaxis": "x3",
         "y": [
          0.9887177057050456,
          1.9822656298706662
         ],
         "yaxis": "y3"
        },
        {
         "hovertemplate": "prefix=intfloat/e5<br>Number of Parameters=%{x}<br>gain_percent=%{y}<extra></extra>",
         "legendgroup": "",
         "marker": {
          "color": "#636efa",
          "symbol": "circle"
         },
         "mode": "markers",
         "name": "",
         "orientation": "v",
         "showlegend": false,
         "type": "scatter",
         "x": [
          109482240,
          109482240,
          335141888,
          335141888,
          33360000,
          33360000
         ],
         "xaxis": "x4",
         "y": [
          2.4962676635355536,
          3.1044270714396154,
          3.138116141926963,
          3.7408890675563278,
          1.9465737160880614,
          2.317452184069883
         ],
         "yaxis": "y4"
        },
        {
         "hovertemplate": "prefix=intfloat/multilingual-e5<br>Number of Parameters=%{x}<br>gain_percent=%{y}<extra></extra>",
         "legendgroup": "",
         "marker": {
          "color": "#636efa",
          "symbol": "circle"
         },
         "mode": "markers",
         "name": "",
         "orientation": "v",
         "showlegend": false,
         "type": "scatter",
         "x": [
          278043648,
          559890432,
          117653760
         ],
         "xaxis": "x5",
         "y": [
          1.927332795135668,
          2.3966143790890895,
          1.5996534973575016
         ],
         "yaxis": "y5"
        },
        {
         "hovertemplate": "prefix=sentence-t5<br>Number of Parameters=%{x}<br>gain_percent=%{y}<extra></extra>",
         "legendgroup": "",
         "marker": {
          "color": "#636efa",
          "symbol": "circle"
         },
         "mode": "markers",
         "name": "",
         "orientation": "v",
         "showlegend": false,
         "type": "scatter",
         "x": [
          109628544,
          334939648
         ],
         "xaxis": "x6",
         "y": [
          1.8951957320691462,
          2.662108490533682
         ],
         "yaxis": "y6"
        },
        {
         "hovertemplate": "prefix=thenlper/gte<br>Number of Parameters=%{x}<br>gain_percent=%{y}<extra></extra>",
         "legendgroup": "",
         "marker": {
          "color": "#636efa",
          "symbol": "circle"
         },
         "mode": "markers",
         "name": "",
         "orientation": "v",
         "showlegend": false,
         "type": "scatter",
         "x": [
          109482240,
          335141888,
          33360000
         ],
         "xaxis": "x7",
         "y": [
          2.2770879997116427,
          2.7356275202898908,
          2.2543830915400966
         ],
         "yaxis": "y7"
        }
       ],
       "layout": {
        "annotations": [
         {
          "font": {},
          "showarrow": false,
          "text": "prefix=BAAI/bge",
          "x": 0.06285714285714285,
          "xanchor": "center",
          "xref": "paper",
          "y": 1,
          "yanchor": "bottom",
          "yref": "paper"
         },
         {
          "font": {},
          "showarrow": false,
          "text": "prefix=all-MiniLM",
          "x": 0.20857142857142852,
          "xanchor": "center",
          "xref": "paper",
          "y": 1,
          "yanchor": "bottom",
          "yref": "paper"
         },
         {
          "font": {},
          "showarrow": false,
          "text": "prefix=gtr-t5",
          "x": 0.3542857142857142,
          "xanchor": "center",
          "xref": "paper",
          "y": 1,
          "yanchor": "bottom",
          "yref": "paper"
         },
         {
          "font": {},
          "showarrow": false,
          "text": "prefix=intfloat/e5",
          "x": 0.5,
          "xanchor": "center",
          "xref": "paper",
          "y": 1,
          "yanchor": "bottom",
          "yref": "paper"
         },
         {
          "font": {},
          "showarrow": false,
          "text": "prefix=intfloat/multilingual-e5",
          "x": 0.6457142857142856,
          "xanchor": "center",
          "xref": "paper",
          "y": 1,
          "yanchor": "bottom",
          "yref": "paper"
         },
         {
          "font": {},
          "showarrow": false,
          "text": "prefix=sentence-t5",
          "x": 0.7914285714285713,
          "xanchor": "center",
          "xref": "paper",
          "y": 1,
          "yanchor": "bottom",
          "yref": "paper"
         },
         {
          "font": {},
          "showarrow": false,
          "text": "prefix=thenlper/gte",
          "x": 0.9371428571428569,
          "xanchor": "center",
          "xref": "paper",
          "y": 1,
          "yanchor": "bottom",
          "yref": "paper"
         }
        ],
        "legend": {
         "tracegroupgap": 0
        },
        "margin": {
         "t": 60
        },
        "template": {
         "data": {
          "bar": [
           {
            "error_x": {
             "color": "#2a3f5f"
            },
            "error_y": {
             "color": "#2a3f5f"
            },
            "marker": {
             "line": {
              "color": "#E5ECF6",
              "width": 0.5
             },
             "pattern": {
              "fillmode": "overlay",
              "size": 10,
              "solidity": 0.2
             }
            },
            "type": "bar"
           }
          ],
          "barpolar": [
           {
            "marker": {
             "line": {
              "color": "#E5ECF6",
              "width": 0.5
             },
             "pattern": {
              "fillmode": "overlay",
              "size": 10,
              "solidity": 0.2
             }
            },
            "type": "barpolar"
           }
          ],
          "carpet": [
           {
            "aaxis": {
             "endlinecolor": "#2a3f5f",
             "gridcolor": "white",
             "linecolor": "white",
             "minorgridcolor": "white",
             "startlinecolor": "#2a3f5f"
            },
            "baxis": {
             "endlinecolor": "#2a3f5f",
             "gridcolor": "white",
             "linecolor": "white",
             "minorgridcolor": "white",
             "startlinecolor": "#2a3f5f"
            },
            "type": "carpet"
           }
          ],
          "choropleth": [
           {
            "colorbar": {
             "outlinewidth": 0,
             "ticks": ""
            },
            "type": "choropleth"
           }
          ],
          "contour": [
           {
            "colorbar": {
             "outlinewidth": 0,
             "ticks": ""
            },
            "colorscale": [
             [
              0,
              "#0d0887"
             ],
             [
              0.1111111111111111,
              "#46039f"
             ],
             [
              0.2222222222222222,
              "#7201a8"
             ],
             [
              0.3333333333333333,
              "#9c179e"
             ],
             [
              0.4444444444444444,
              "#bd3786"
             ],
             [
              0.5555555555555556,
              "#d8576b"
             ],
             [
              0.6666666666666666,
              "#ed7953"
             ],
             [
              0.7777777777777778,
              "#fb9f3a"
             ],
             [
              0.8888888888888888,
              "#fdca26"
             ],
             [
              1,
              "#f0f921"
             ]
            ],
            "type": "contour"
           }
          ],
          "contourcarpet": [
           {
            "colorbar": {
             "outlinewidth": 0,
             "ticks": ""
            },
            "type": "contourcarpet"
           }
          ],
          "heatmap": [
           {
            "colorbar": {
             "outlinewidth": 0,
             "ticks": ""
            },
            "colorscale": [
             [
              0,
              "#0d0887"
             ],
             [
              0.1111111111111111,
              "#46039f"
             ],
             [
              0.2222222222222222,
              "#7201a8"
             ],
             [
              0.3333333333333333,
              "#9c179e"
             ],
             [
              0.4444444444444444,
              "#bd3786"
             ],
             [
              0.5555555555555556,
              "#d8576b"
             ],
             [
              0.6666666666666666,
              "#ed7953"
             ],
             [
              0.7777777777777778,
              "#fb9f3a"
             ],
             [
              0.8888888888888888,
              "#fdca26"
             ],
             [
              1,
              "#f0f921"
             ]
            ],
            "type": "heatmap"
           }
          ],
          "heatmapgl": [
           {
            "colorbar": {
             "outlinewidth": 0,
             "ticks": ""
            },
            "colorscale": [
             [
              0,
              "#0d0887"
             ],
             [
              0.1111111111111111,
              "#46039f"
             ],
             [
              0.2222222222222222,
              "#7201a8"
             ],
             [
              0.3333333333333333,
              "#9c179e"
             ],
             [
              0.4444444444444444,
              "#bd3786"
             ],
             [
              0.5555555555555556,
              "#d8576b"
             ],
             [
              0.6666666666666666,
              "#ed7953"
             ],
             [
              0.7777777777777778,
              "#fb9f3a"
             ],
             [
              0.8888888888888888,
              "#fdca26"
             ],
             [
              1,
              "#f0f921"
             ]
            ],
            "type": "heatmapgl"
           }
          ],
          "histogram": [
           {
            "marker": {
             "pattern": {
              "fillmode": "overlay",
              "size": 10,
              "solidity": 0.2
             }
            },
            "type": "histogram"
           }
          ],
          "histogram2d": [
           {
            "colorbar": {
             "outlinewidth": 0,
             "ticks": ""
            },
            "colorscale": [
             [
              0,
              "#0d0887"
             ],
             [
              0.1111111111111111,
              "#46039f"
             ],
             [
              0.2222222222222222,
              "#7201a8"
             ],
             [
              0.3333333333333333,
              "#9c179e"
             ],
             [
              0.4444444444444444,
              "#bd3786"
             ],
             [
              0.5555555555555556,
              "#d8576b"
             ],
             [
              0.6666666666666666,
              "#ed7953"
             ],
             [
              0.7777777777777778,
              "#fb9f3a"
             ],
             [
              0.8888888888888888,
              "#fdca26"
             ],
             [
              1,
              "#f0f921"
             ]
            ],
            "type": "histogram2d"
           }
          ],
          "histogram2dcontour": [
           {
            "colorbar": {
             "outlinewidth": 0,
             "ticks": ""
            },
            "colorscale": [
             [
              0,
              "#0d0887"
             ],
             [
              0.1111111111111111,
              "#46039f"
             ],
             [
              0.2222222222222222,
              "#7201a8"
             ],
             [
              0.3333333333333333,
              "#9c179e"
             ],
             [
              0.4444444444444444,
              "#bd3786"
             ],
             [
              0.5555555555555556,
              "#d8576b"
             ],
             [
              0.6666666666666666,
              "#ed7953"
             ],
             [
              0.7777777777777778,
              "#fb9f3a"
             ],
             [
              0.8888888888888888,
              "#fdca26"
             ],
             [
              1,
              "#f0f921"
             ]
            ],
            "type": "histogram2dcontour"
           }
          ],
          "mesh3d": [
           {
            "colorbar": {
             "outlinewidth": 0,
             "ticks": ""
            },
            "type": "mesh3d"
           }
          ],
          "parcoords": [
           {
            "line": {
             "colorbar": {
              "outlinewidth": 0,
              "ticks": ""
             }
            },
            "type": "parcoords"
           }
          ],
          "pie": [
           {
            "automargin": true,
            "type": "pie"
           }
          ],
          "scatter": [
           {
            "fillpattern": {
             "fillmode": "overlay",
             "size": 10,
             "solidity": 0.2
            },
            "type": "scatter"
           }
          ],
          "scatter3d": [
           {
            "line": {
             "colorbar": {
              "outlinewidth": 0,
              "ticks": ""
             }
            },
            "marker": {
             "colorbar": {
              "outlinewidth": 0,
              "ticks": ""
             }
            },
            "type": "scatter3d"
           }
          ],
          "scattercarpet": [
           {
            "marker": {
             "colorbar": {
              "outlinewidth": 0,
              "ticks": ""
             }
            },
            "type": "scattercarpet"
           }
          ],
          "scattergeo": [
           {
            "marker": {
             "colorbar": {
              "outlinewidth": 0,
              "ticks": ""
             }
            },
            "type": "scattergeo"
           }
          ],
          "scattergl": [
           {
            "marker": {
             "colorbar": {
              "outlinewidth": 0,
              "ticks": ""
             }
            },
            "type": "scattergl"
           }
          ],
          "scattermapbox": [
           {
            "marker": {
             "colorbar": {
              "outlinewidth": 0,
              "ticks": ""
             }
            },
            "type": "scattermapbox"
           }
          ],
          "scatterpolar": [
           {
            "marker": {
             "colorbar": {
              "outlinewidth": 0,
              "ticks": ""
             }
            },
            "type": "scatterpolar"
           }
          ],
          "scatterpolargl": [
           {
            "marker": {
             "colorbar": {
              "outlinewidth": 0,
              "ticks": ""
             }
            },
            "type": "scatterpolargl"
           }
          ],
          "scatterternary": [
           {
            "marker": {
             "colorbar": {
              "outlinewidth": 0,
              "ticks": ""
             }
            },
            "type": "scatterternary"
           }
          ],
          "surface": [
           {
            "colorbar": {
             "outlinewidth": 0,
             "ticks": ""
            },
            "colorscale": [
             [
              0,
              "#0d0887"
             ],
             [
              0.1111111111111111,
              "#46039f"
             ],
             [
              0.2222222222222222,
              "#7201a8"
             ],
             [
              0.3333333333333333,
              "#9c179e"
             ],
             [
              0.4444444444444444,
              "#bd3786"
             ],
             [
              0.5555555555555556,
              "#d8576b"
             ],
             [
              0.6666666666666666,
              "#ed7953"
             ],
             [
              0.7777777777777778,
              "#fb9f3a"
             ],
             [
              0.8888888888888888,
              "#fdca26"
             ],
             [
              1,
              "#f0f921"
             ]
            ],
            "type": "surface"
           }
          ],
          "table": [
           {
            "cells": {
             "fill": {
              "color": "#EBF0F8"
             },
             "line": {
              "color": "white"
             }
            },
            "header": {
             "fill": {
              "color": "#C8D4E3"
             },
             "line": {
              "color": "white"
             }
            },
            "type": "table"
           }
          ]
         },
         "layout": {
          "annotationdefaults": {
           "arrowcolor": "#2a3f5f",
           "arrowhead": 0,
           "arrowwidth": 1
          },
          "autotypenumbers": "strict",
          "coloraxis": {
           "colorbar": {
            "outlinewidth": 0,
            "ticks": ""
           }
          },
          "colorscale": {
           "diverging": [
            [
             0,
             "#8e0152"
            ],
            [
             0.1,
             "#c51b7d"
            ],
            [
             0.2,
             "#de77ae"
            ],
            [
             0.3,
             "#f1b6da"
            ],
            [
             0.4,
             "#fde0ef"
            ],
            [
             0.5,
             "#f7f7f7"
            ],
            [
             0.6,
             "#e6f5d0"
            ],
            [
             0.7,
             "#b8e186"
            ],
            [
             0.8,
             "#7fbc41"
            ],
            [
             0.9,
             "#4d9221"
            ],
            [
             1,
             "#276419"
            ]
           ],
           "sequential": [
            [
             0,
             "#0d0887"
            ],
            [
             0.1111111111111111,
             "#46039f"
            ],
            [
             0.2222222222222222,
             "#7201a8"
            ],
            [
             0.3333333333333333,
             "#9c179e"
            ],
            [
             0.4444444444444444,
             "#bd3786"
            ],
            [
             0.5555555555555556,
             "#d8576b"
            ],
            [
             0.6666666666666666,
             "#ed7953"
            ],
            [
             0.7777777777777778,
             "#fb9f3a"
            ],
            [
             0.8888888888888888,
             "#fdca26"
            ],
            [
             1,
             "#f0f921"
            ]
           ],
           "sequentialminus": [
            [
             0,
             "#0d0887"
            ],
            [
             0.1111111111111111,
             "#46039f"
            ],
            [
             0.2222222222222222,
             "#7201a8"
            ],
            [
             0.3333333333333333,
             "#9c179e"
            ],
            [
             0.4444444444444444,
             "#bd3786"
            ],
            [
             0.5555555555555556,
             "#d8576b"
            ],
            [
             0.6666666666666666,
             "#ed7953"
            ],
            [
             0.7777777777777778,
             "#fb9f3a"
            ],
            [
             0.8888888888888888,
             "#fdca26"
            ],
            [
             1,
             "#f0f921"
            ]
           ]
          },
          "colorway": [
           "#636efa",
           "#EF553B",
           "#00cc96",
           "#ab63fa",
           "#FFA15A",
           "#19d3f3",
           "#FF6692",
           "#B6E880",
           "#FF97FF",
           "#FECB52"
          ],
          "font": {
           "color": "#2a3f5f"
          },
          "geo": {
           "bgcolor": "white",
           "lakecolor": "white",
           "landcolor": "#E5ECF6",
           "showlakes": true,
           "showland": true,
           "subunitcolor": "white"
          },
          "hoverlabel": {
           "align": "left"
          },
          "hovermode": "closest",
          "mapbox": {
           "style": "light"
          },
          "paper_bgcolor": "white",
          "plot_bgcolor": "#E5ECF6",
          "polar": {
           "angularaxis": {
            "gridcolor": "white",
            "linecolor": "white",
            "ticks": ""
           },
           "bgcolor": "#E5ECF6",
           "radialaxis": {
            "gridcolor": "white",
            "linecolor": "white",
            "ticks": ""
           }
          },
          "scene": {
           "xaxis": {
            "backgroundcolor": "#E5ECF6",
            "gridcolor": "white",
            "gridwidth": 2,
            "linecolor": "white",
            "showbackground": true,
            "ticks": "",
            "zerolinecolor": "white"
           },
           "yaxis": {
            "backgroundcolor": "#E5ECF6",
            "gridcolor": "white",
            "gridwidth": 2,
            "linecolor": "white",
            "showbackground": true,
            "ticks": "",
            "zerolinecolor": "white"
           },
           "zaxis": {
            "backgroundcolor": "#E5ECF6",
            "gridcolor": "white",
            "gridwidth": 2,
            "linecolor": "white",
            "showbackground": true,
            "ticks": "",
            "zerolinecolor": "white"
           }
          },
          "shapedefaults": {
           "line": {
            "color": "#2a3f5f"
           }
          },
          "ternary": {
           "aaxis": {
            "gridcolor": "white",
            "linecolor": "white",
            "ticks": ""
           },
           "baxis": {
            "gridcolor": "white",
            "linecolor": "white",
            "ticks": ""
           },
           "bgcolor": "#E5ECF6",
           "caxis": {
            "gridcolor": "white",
            "linecolor": "white",
            "ticks": ""
           }
          },
          "title": {
           "x": 0.05
          },
          "xaxis": {
           "automargin": true,
           "gridcolor": "white",
           "linecolor": "white",
           "ticks": "",
           "title": {
            "standoff": 15
           },
           "zerolinecolor": "white",
           "zerolinewidth": 2
          },
          "yaxis": {
           "automargin": true,
           "gridcolor": "white",
           "linecolor": "white",
           "ticks": "",
           "title": {
            "standoff": 15
           },
           "zerolinecolor": "white",
           "zerolinewidth": 2
          }
         }
        },
        "xaxis": {
         "anchor": "y",
         "domain": [
          0,
          0.1257142857142857
         ],
         "title": {
          "text": "Number of Parameters"
         },
         "type": "log"
        },
        "xaxis2": {
         "anchor": "y2",
         "domain": [
          0.14571428571428569,
          0.27142857142857135
         ],
         "matches": "x",
         "title": {
          "text": "Number of Parameters"
         },
         "type": "log"
        },
        "xaxis3": {
         "anchor": "y3",
         "domain": [
          0.29142857142857137,
          0.41714285714285704
         ],
         "matches": "x",
         "title": {
          "text": "Number of Parameters"
         },
         "type": "log"
        },
        "xaxis4": {
         "anchor": "y4",
         "domain": [
          0.4371428571428571,
          0.5628571428571428
         ],
         "matches": "x",
         "title": {
          "text": "Number of Parameters"
         },
         "type": "log"
        },
        "xaxis5": {
         "anchor": "y5",
         "domain": [
          0.5828571428571427,
          0.7085714285714284
         ],
         "matches": "x",
         "title": {
          "text": "Number of Parameters"
         },
         "type": "log"
        },
        "xaxis6": {
         "anchor": "y6",
         "domain": [
          0.7285714285714284,
          0.8542857142857141
         ],
         "matches": "x",
         "title": {
          "text": "Number of Parameters"
         },
         "type": "log"
        },
        "xaxis7": {
         "anchor": "y7",
         "domain": [
          0.8742857142857141,
          0.9999999999999998
         ],
         "matches": "x",
         "title": {
          "text": "Number of Parameters"
         },
         "type": "log"
        },
        "yaxis": {
         "anchor": "x",
         "domain": [
          0,
          1
         ],
         "title": {
          "text": "gain_percent"
         }
        },
        "yaxis2": {
         "anchor": "x2",
         "domain": [
          0,
          1
         ],
         "matches": "y",
         "showticklabels": false
        },
        "yaxis3": {
         "anchor": "x3",
         "domain": [
          0,
          1
         ],
         "matches": "y",
         "showticklabels": false
        },
        "yaxis4": {
         "anchor": "x4",
         "domain": [
          0,
          1
         ],
         "matches": "y",
         "showticklabels": false
        },
        "yaxis5": {
         "anchor": "x5",
         "domain": [
          0,
          1
         ],
         "matches": "y",
         "showticklabels": false
        },
        "yaxis6": {
         "anchor": "x6",
         "domain": [
          0,
          1
         ],
         "matches": "y",
         "showticklabels": false
        },
        "yaxis7": {
         "anchor": "x7",
         "domain": [
          0,
          1
         ],
         "matches": "y",
         "showticklabels": false
        }
       }
      },
      "text/html": [
       "<div>                            <div id=\"e43b4758-f832-473e-a12a-b1a69c3cf9b7\" class=\"plotly-graph-div\" style=\"height:525px; width:100%;\"></div>            <script type=\"text/javascript\">                require([\"plotly\"], function(Plotly) {                    window.PLOTLYENV=window.PLOTLYENV || {};                                    if (document.getElementById(\"e43b4758-f832-473e-a12a-b1a69c3cf9b7\")) {                    Plotly.newPlot(                        \"e43b4758-f832-473e-a12a-b1a69c3cf9b7\",                        [{\"hovertemplate\":\"prefix=BAAI\\u002fbge\\u003cbr\\u003eNumber of Parameters=%{x}\\u003cbr\\u003egain_percent=%{y}\\u003cextra\\u003e\\u003c\\u002fextra\\u003e\",\"legendgroup\":\"\",\"marker\":{\"color\":\"#636efa\",\"symbol\":\"circle\"},\"mode\":\"markers\",\"name\":\"\",\"orientation\":\"v\",\"showlegend\":false,\"x\":[335141888,33360000],\"xaxis\":\"x\",\"y\":[3.1653443160061085,2.1060885299234493],\"yaxis\":\"y\",\"type\":\"scatter\"},{\"hovertemplate\":\"prefix=all-MiniLM\\u003cbr\\u003eNumber of Parameters=%{x}\\u003cbr\\u003egain_percent=%{y}\\u003cextra\\u003e\\u003c\\u002fextra\\u003e\",\"legendgroup\":\"\",\"marker\":{\"color\":\"#636efa\",\"symbol\":\"circle\"},\"mode\":\"markers\",\"name\":\"\",\"orientation\":\"v\",\"showlegend\":false,\"x\":[33360000,22713216],\"xaxis\":\"x2\",\"y\":[1.5355134818486393,1.4535947753573752],\"yaxis\":\"y2\",\"type\":\"scatter\"},{\"hovertemplate\":\"prefix=gtr-t5\\u003cbr\\u003eNumber of Parameters=%{x}\\u003cbr\\u003egain_percent=%{y}\\u003cextra\\u003e\\u003c\\u002fextra\\u003e\",\"legendgroup\":\"\",\"marker\":{\"color\":\"#636efa\",\"symbol\":\"circle\"},\"mode\":\"markers\",\"name\":\"\",\"orientation\":\"v\",\"showlegend\":false,\"x\":[109628544,334939648],\"xaxis\":\"x3\",\"y\":[0.9887177057050456,1.9822656298706662],\"yaxis\":\"y3\",\"type\":\"scatter\"},{\"hovertemplate\":\"prefix=intfloat\\u002fe5\\u003cbr\\u003eNumber of Parameters=%{x}\\u003cbr\\u003egain_percent=%{y}\\u003cextra\\u003e\\u003c\\u002fextra\\u003e\",\"legendgroup\":\"\",\"marker\":{\"color\":\"#636efa\",\"symbol\":\"circle\"},\"mode\":\"markers\",\"name\":\"\",\"orientation\":\"v\",\"showlegend\":false,\"x\":[109482240,109482240,335141888,335141888,33360000,33360000],\"xaxis\":\"x4\",\"y\":[2.4962676635355536,3.1044270714396154,3.138116141926963,3.7408890675563278,1.9465737160880614,2.317452184069883],\"yaxis\":\"y4\",\"type\":\"scatter\"},{\"hovertemplate\":\"prefix=intfloat\\u002fmultilingual-e5\\u003cbr\\u003eNumber of Parameters=%{x}\\u003cbr\\u003egain_percent=%{y}\\u003cextra\\u003e\\u003c\\u002fextra\\u003e\",\"legendgroup\":\"\",\"marker\":{\"color\":\"#636efa\",\"symbol\":\"circle\"},\"mode\":\"markers\",\"name\":\"\",\"orientation\":\"v\",\"showlegend\":false,\"x\":[278043648,559890432,117653760],\"xaxis\":\"x5\",\"y\":[1.927332795135668,2.3966143790890895,1.5996534973575016],\"yaxis\":\"y5\",\"type\":\"scatter\"},{\"hovertemplate\":\"prefix=sentence-t5\\u003cbr\\u003eNumber of Parameters=%{x}\\u003cbr\\u003egain_percent=%{y}\\u003cextra\\u003e\\u003c\\u002fextra\\u003e\",\"legendgroup\":\"\",\"marker\":{\"color\":\"#636efa\",\"symbol\":\"circle\"},\"mode\":\"markers\",\"name\":\"\",\"orientation\":\"v\",\"showlegend\":false,\"x\":[109628544,334939648],\"xaxis\":\"x6\",\"y\":[1.8951957320691462,2.662108490533682],\"yaxis\":\"y6\",\"type\":\"scatter\"},{\"hovertemplate\":\"prefix=thenlper\\u002fgte\\u003cbr\\u003eNumber of Parameters=%{x}\\u003cbr\\u003egain_percent=%{y}\\u003cextra\\u003e\\u003c\\u002fextra\\u003e\",\"legendgroup\":\"\",\"marker\":{\"color\":\"#636efa\",\"symbol\":\"circle\"},\"mode\":\"markers\",\"name\":\"\",\"orientation\":\"v\",\"showlegend\":false,\"x\":[109482240,335141888,33360000],\"xaxis\":\"x7\",\"y\":[2.2770879997116427,2.7356275202898908,2.2543830915400966],\"yaxis\":\"y7\",\"type\":\"scatter\"}],                        {\"template\":{\"data\":{\"histogram2dcontour\":[{\"type\":\"histogram2dcontour\",\"colorbar\":{\"outlinewidth\":0,\"ticks\":\"\"},\"colorscale\":[[0.0,\"#0d0887\"],[0.1111111111111111,\"#46039f\"],[0.2222222222222222,\"#7201a8\"],[0.3333333333333333,\"#9c179e\"],[0.4444444444444444,\"#bd3786\"],[0.5555555555555556,\"#d8576b\"],[0.6666666666666666,\"#ed7953\"],[0.7777777777777778,\"#fb9f3a\"],[0.8888888888888888,\"#fdca26\"],[1.0,\"#f0f921\"]]}],\"choropleth\":[{\"type\":\"choropleth\",\"colorbar\":{\"outlinewidth\":0,\"ticks\":\"\"}}],\"histogram2d\":[{\"type\":\"histogram2d\",\"colorbar\":{\"outlinewidth\":0,\"ticks\":\"\"},\"colorscale\":[[0.0,\"#0d0887\"],[0.1111111111111111,\"#46039f\"],[0.2222222222222222,\"#7201a8\"],[0.3333333333333333,\"#9c179e\"],[0.4444444444444444,\"#bd3786\"],[0.5555555555555556,\"#d8576b\"],[0.6666666666666666,\"#ed7953\"],[0.7777777777777778,\"#fb9f3a\"],[0.8888888888888888,\"#fdca26\"],[1.0,\"#f0f921\"]]}],\"heatmap\":[{\"type\":\"heatmap\",\"colorbar\":{\"outlinewidth\":0,\"ticks\":\"\"},\"colorscale\":[[0.0,\"#0d0887\"],[0.1111111111111111,\"#46039f\"],[0.2222222222222222,\"#7201a8\"],[0.3333333333333333,\"#9c179e\"],[0.4444444444444444,\"#bd3786\"],[0.5555555555555556,\"#d8576b\"],[0.6666666666666666,\"#ed7953\"],[0.7777777777777778,\"#fb9f3a\"],[0.8888888888888888,\"#fdca26\"],[1.0,\"#f0f921\"]]}],\"heatmapgl\":[{\"type\":\"heatmapgl\",\"colorbar\":{\"outlinewidth\":0,\"ticks\":\"\"},\"colorscale\":[[0.0,\"#0d0887\"],[0.1111111111111111,\"#46039f\"],[0.2222222222222222,\"#7201a8\"],[0.3333333333333333,\"#9c179e\"],[0.4444444444444444,\"#bd3786\"],[0.5555555555555556,\"#d8576b\"],[0.6666666666666666,\"#ed7953\"],[0.7777777777777778,\"#fb9f3a\"],[0.8888888888888888,\"#fdca26\"],[1.0,\"#f0f921\"]]}],\"contourcarpet\":[{\"type\":\"contourcarpet\",\"colorbar\":{\"outlinewidth\":0,\"ticks\":\"\"}}],\"contour\":[{\"type\":\"contour\",\"colorbar\":{\"outlinewidth\":0,\"ticks\":\"\"},\"colorscale\":[[0.0,\"#0d0887\"],[0.1111111111111111,\"#46039f\"],[0.2222222222222222,\"#7201a8\"],[0.3333333333333333,\"#9c179e\"],[0.4444444444444444,\"#bd3786\"],[0.5555555555555556,\"#d8576b\"],[0.6666666666666666,\"#ed7953\"],[0.7777777777777778,\"#fb9f3a\"],[0.8888888888888888,\"#fdca26\"],[1.0,\"#f0f921\"]]}],\"surface\":[{\"type\":\"surface\",\"colorbar\":{\"outlinewidth\":0,\"ticks\":\"\"},\"colorscale\":[[0.0,\"#0d0887\"],[0.1111111111111111,\"#46039f\"],[0.2222222222222222,\"#7201a8\"],[0.3333333333333333,\"#9c179e\"],[0.4444444444444444,\"#bd3786\"],[0.5555555555555556,\"#d8576b\"],[0.6666666666666666,\"#ed7953\"],[0.7777777777777778,\"#fb9f3a\"],[0.8888888888888888,\"#fdca26\"],[1.0,\"#f0f921\"]]}],\"mesh3d\":[{\"type\":\"mesh3d\",\"colorbar\":{\"outlinewidth\":0,\"ticks\":\"\"}}],\"scatter\":[{\"fillpattern\":{\"fillmode\":\"overlay\",\"size\":10,\"solidity\":0.2},\"type\":\"scatter\"}],\"parcoords\":[{\"type\":\"parcoords\",\"line\":{\"colorbar\":{\"outlinewidth\":0,\"ticks\":\"\"}}}],\"scatterpolargl\":[{\"type\":\"scatterpolargl\",\"marker\":{\"colorbar\":{\"outlinewidth\":0,\"ticks\":\"\"}}}],\"bar\":[{\"error_x\":{\"color\":\"#2a3f5f\"},\"error_y\":{\"color\":\"#2a3f5f\"},\"marker\":{\"line\":{\"color\":\"#E5ECF6\",\"width\":0.5},\"pattern\":{\"fillmode\":\"overlay\",\"size\":10,\"solidity\":0.2}},\"type\":\"bar\"}],\"scattergeo\":[{\"type\":\"scattergeo\",\"marker\":{\"colorbar\":{\"outlinewidth\":0,\"ticks\":\"\"}}}],\"scatterpolar\":[{\"type\":\"scatterpolar\",\"marker\":{\"colorbar\":{\"outlinewidth\":0,\"ticks\":\"\"}}}],\"histogram\":[{\"marker\":{\"pattern\":{\"fillmode\":\"overlay\",\"size\":10,\"solidity\":0.2}},\"type\":\"histogram\"}],\"scattergl\":[{\"type\":\"scattergl\",\"marker\":{\"colorbar\":{\"outlinewidth\":0,\"ticks\":\"\"}}}],\"scatter3d\":[{\"type\":\"scatter3d\",\"line\":{\"colorbar\":{\"outlinewidth\":0,\"ticks\":\"\"}},\"marker\":{\"colorbar\":{\"outlinewidth\":0,\"ticks\":\"\"}}}],\"scattermapbox\":[{\"type\":\"scattermapbox\",\"marker\":{\"colorbar\":{\"outlinewidth\":0,\"ticks\":\"\"}}}],\"scatterternary\":[{\"type\":\"scatterternary\",\"marker\":{\"colorbar\":{\"outlinewidth\":0,\"ticks\":\"\"}}}],\"scattercarpet\":[{\"type\":\"scattercarpet\",\"marker\":{\"colorbar\":{\"outlinewidth\":0,\"ticks\":\"\"}}}],\"carpet\":[{\"aaxis\":{\"endlinecolor\":\"#2a3f5f\",\"gridcolor\":\"white\",\"linecolor\":\"white\",\"minorgridcolor\":\"white\",\"startlinecolor\":\"#2a3f5f\"},\"baxis\":{\"endlinecolor\":\"#2a3f5f\",\"gridcolor\":\"white\",\"linecolor\":\"white\",\"minorgridcolor\":\"white\",\"startlinecolor\":\"#2a3f5f\"},\"type\":\"carpet\"}],\"table\":[{\"cells\":{\"fill\":{\"color\":\"#EBF0F8\"},\"line\":{\"color\":\"white\"}},\"header\":{\"fill\":{\"color\":\"#C8D4E3\"},\"line\":{\"color\":\"white\"}},\"type\":\"table\"}],\"barpolar\":[{\"marker\":{\"line\":{\"color\":\"#E5ECF6\",\"width\":0.5},\"pattern\":{\"fillmode\":\"overlay\",\"size\":10,\"solidity\":0.2}},\"type\":\"barpolar\"}],\"pie\":[{\"automargin\":true,\"type\":\"pie\"}]},\"layout\":{\"autotypenumbers\":\"strict\",\"colorway\":[\"#636efa\",\"#EF553B\",\"#00cc96\",\"#ab63fa\",\"#FFA15A\",\"#19d3f3\",\"#FF6692\",\"#B6E880\",\"#FF97FF\",\"#FECB52\"],\"font\":{\"color\":\"#2a3f5f\"},\"hovermode\":\"closest\",\"hoverlabel\":{\"align\":\"left\"},\"paper_bgcolor\":\"white\",\"plot_bgcolor\":\"#E5ECF6\",\"polar\":{\"bgcolor\":\"#E5ECF6\",\"angularaxis\":{\"gridcolor\":\"white\",\"linecolor\":\"white\",\"ticks\":\"\"},\"radialaxis\":{\"gridcolor\":\"white\",\"linecolor\":\"white\",\"ticks\":\"\"}},\"ternary\":{\"bgcolor\":\"#E5ECF6\",\"aaxis\":{\"gridcolor\":\"white\",\"linecolor\":\"white\",\"ticks\":\"\"},\"baxis\":{\"gridcolor\":\"white\",\"linecolor\":\"white\",\"ticks\":\"\"},\"caxis\":{\"gridcolor\":\"white\",\"linecolor\":\"white\",\"ticks\":\"\"}},\"coloraxis\":{\"colorbar\":{\"outlinewidth\":0,\"ticks\":\"\"}},\"colorscale\":{\"sequential\":[[0.0,\"#0d0887\"],[0.1111111111111111,\"#46039f\"],[0.2222222222222222,\"#7201a8\"],[0.3333333333333333,\"#9c179e\"],[0.4444444444444444,\"#bd3786\"],[0.5555555555555556,\"#d8576b\"],[0.6666666666666666,\"#ed7953\"],[0.7777777777777778,\"#fb9f3a\"],[0.8888888888888888,\"#fdca26\"],[1.0,\"#f0f921\"]],\"sequentialminus\":[[0.0,\"#0d0887\"],[0.1111111111111111,\"#46039f\"],[0.2222222222222222,\"#7201a8\"],[0.3333333333333333,\"#9c179e\"],[0.4444444444444444,\"#bd3786\"],[0.5555555555555556,\"#d8576b\"],[0.6666666666666666,\"#ed7953\"],[0.7777777777777778,\"#fb9f3a\"],[0.8888888888888888,\"#fdca26\"],[1.0,\"#f0f921\"]],\"diverging\":[[0,\"#8e0152\"],[0.1,\"#c51b7d\"],[0.2,\"#de77ae\"],[0.3,\"#f1b6da\"],[0.4,\"#fde0ef\"],[0.5,\"#f7f7f7\"],[0.6,\"#e6f5d0\"],[0.7,\"#b8e186\"],[0.8,\"#7fbc41\"],[0.9,\"#4d9221\"],[1,\"#276419\"]]},\"xaxis\":{\"gridcolor\":\"white\",\"linecolor\":\"white\",\"ticks\":\"\",\"title\":{\"standoff\":15},\"zerolinecolor\":\"white\",\"automargin\":true,\"zerolinewidth\":2},\"yaxis\":{\"gridcolor\":\"white\",\"linecolor\":\"white\",\"ticks\":\"\",\"title\":{\"standoff\":15},\"zerolinecolor\":\"white\",\"automargin\":true,\"zerolinewidth\":2},\"scene\":{\"xaxis\":{\"backgroundcolor\":\"#E5ECF6\",\"gridcolor\":\"white\",\"linecolor\":\"white\",\"showbackground\":true,\"ticks\":\"\",\"zerolinecolor\":\"white\",\"gridwidth\":2},\"yaxis\":{\"backgroundcolor\":\"#E5ECF6\",\"gridcolor\":\"white\",\"linecolor\":\"white\",\"showbackground\":true,\"ticks\":\"\",\"zerolinecolor\":\"white\",\"gridwidth\":2},\"zaxis\":{\"backgroundcolor\":\"#E5ECF6\",\"gridcolor\":\"white\",\"linecolor\":\"white\",\"showbackground\":true,\"ticks\":\"\",\"zerolinecolor\":\"white\",\"gridwidth\":2}},\"shapedefaults\":{\"line\":{\"color\":\"#2a3f5f\"}},\"annotationdefaults\":{\"arrowcolor\":\"#2a3f5f\",\"arrowhead\":0,\"arrowwidth\":1},\"geo\":{\"bgcolor\":\"white\",\"landcolor\":\"#E5ECF6\",\"subunitcolor\":\"white\",\"showland\":true,\"showlakes\":true,\"lakecolor\":\"white\"},\"title\":{\"x\":0.05},\"mapbox\":{\"style\":\"light\"}}},\"xaxis\":{\"anchor\":\"y\",\"domain\":[0.0,0.1257142857142857],\"title\":{\"text\":\"Number of Parameters\"},\"type\":\"log\"},\"yaxis\":{\"anchor\":\"x\",\"domain\":[0.0,1.0],\"title\":{\"text\":\"gain_percent\"}},\"xaxis2\":{\"anchor\":\"y2\",\"domain\":[0.14571428571428569,0.27142857142857135],\"matches\":\"x\",\"title\":{\"text\":\"Number of Parameters\"},\"type\":\"log\"},\"yaxis2\":{\"anchor\":\"x2\",\"domain\":[0.0,1.0],\"matches\":\"y\",\"showticklabels\":false},\"xaxis3\":{\"anchor\":\"y3\",\"domain\":[0.29142857142857137,0.41714285714285704],\"matches\":\"x\",\"title\":{\"text\":\"Number of Parameters\"},\"type\":\"log\"},\"yaxis3\":{\"anchor\":\"x3\",\"domain\":[0.0,1.0],\"matches\":\"y\",\"showticklabels\":false},\"xaxis4\":{\"anchor\":\"y4\",\"domain\":[0.4371428571428571,0.5628571428571428],\"matches\":\"x\",\"title\":{\"text\":\"Number of Parameters\"},\"type\":\"log\"},\"yaxis4\":{\"anchor\":\"x4\",\"domain\":[0.0,1.0],\"matches\":\"y\",\"showticklabels\":false},\"xaxis5\":{\"anchor\":\"y5\",\"domain\":[0.5828571428571427,0.7085714285714284],\"matches\":\"x\",\"title\":{\"text\":\"Number of Parameters\"},\"type\":\"log\"},\"yaxis5\":{\"anchor\":\"x5\",\"domain\":[0.0,1.0],\"matches\":\"y\",\"showticklabels\":false},\"xaxis6\":{\"anchor\":\"y6\",\"domain\":[0.7285714285714284,0.8542857142857141],\"matches\":\"x\",\"title\":{\"text\":\"Number of Parameters\"},\"type\":\"log\"},\"yaxis6\":{\"anchor\":\"x6\",\"domain\":[0.0,1.0],\"matches\":\"y\",\"showticklabels\":false},\"xaxis7\":{\"anchor\":\"y7\",\"domain\":[0.8742857142857141,0.9999999999999998],\"matches\":\"x\",\"title\":{\"text\":\"Number of Parameters\"},\"type\":\"log\"},\"yaxis7\":{\"anchor\":\"x7\",\"domain\":[0.0,1.0],\"matches\":\"y\",\"showticklabels\":false},\"annotations\":[{\"font\":{},\"showarrow\":false,\"text\":\"prefix=BAAI\\u002fbge\",\"x\":0.06285714285714285,\"xanchor\":\"center\",\"xref\":\"paper\",\"y\":1.0,\"yanchor\":\"bottom\",\"yref\":\"paper\"},{\"font\":{},\"showarrow\":false,\"text\":\"prefix=all-MiniLM\",\"x\":0.20857142857142852,\"xanchor\":\"center\",\"xref\":\"paper\",\"y\":1.0,\"yanchor\":\"bottom\",\"yref\":\"paper\"},{\"font\":{},\"showarrow\":false,\"text\":\"prefix=gtr-t5\",\"x\":0.3542857142857142,\"xanchor\":\"center\",\"xref\":\"paper\",\"y\":1.0,\"yanchor\":\"bottom\",\"yref\":\"paper\"},{\"font\":{},\"showarrow\":false,\"text\":\"prefix=intfloat\\u002fe5\",\"x\":0.5,\"xanchor\":\"center\",\"xref\":\"paper\",\"y\":1.0,\"yanchor\":\"bottom\",\"yref\":\"paper\"},{\"font\":{},\"showarrow\":false,\"text\":\"prefix=intfloat\\u002fmultilingual-e5\",\"x\":0.6457142857142856,\"xanchor\":\"center\",\"xref\":\"paper\",\"y\":1.0,\"yanchor\":\"bottom\",\"yref\":\"paper\"},{\"font\":{},\"showarrow\":false,\"text\":\"prefix=sentence-t5\",\"x\":0.7914285714285713,\"xanchor\":\"center\",\"xref\":\"paper\",\"y\":1.0,\"yanchor\":\"bottom\",\"yref\":\"paper\"},{\"font\":{},\"showarrow\":false,\"text\":\"prefix=thenlper\\u002fgte\",\"x\":0.9371428571428569,\"xanchor\":\"center\",\"xref\":\"paper\",\"y\":1.0,\"yanchor\":\"bottom\",\"yref\":\"paper\"}],\"legend\":{\"tracegroupgap\":0},\"margin\":{\"t\":60}},                        {\"responsive\": true}                    ).then(function(){\n",
       "                            \n",
       "var gd = document.getElementById('e43b4758-f832-473e-a12a-b1a69c3cf9b7');\n",
       "var x = new MutationObserver(function (mutations, observer) {{\n",
       "        var display = window.getComputedStyle(gd).display;\n",
       "        if (!display || display === 'none') {{\n",
       "            console.log([gd, 'removed!']);\n",
       "            Plotly.purge(gd);\n",
       "            observer.disconnect();\n",
       "        }}\n",
       "}});\n",
       "\n",
       "// Listen for the removal of the full notebook cells\n",
       "var notebookContainer = gd.closest('#notebook-container');\n",
       "if (notebookContainer) {{\n",
       "    x.observe(notebookContainer, {childList: true});\n",
       "}}\n",
       "\n",
       "// Listen for the clearing of the current output cell\n",
       "var outputEl = gd.closest('.output');\n",
       "if (outputEl) {{\n",
       "    x.observe(outputEl, {childList: true});\n",
       "}}\n",
       "\n",
       "                        })                };                });            </script>        </div>"
      ]
     },
     "metadata": {},
     "output_type": "display_data"
    }
   ],
   "source": [
    "import plotly.express as px\n",
    "\n",
    "px.scatter(\n",
    "    merged_dataframe,\n",
    "    x = \"Number of Parameters\",\n",
    "    y = \"gain_percent\",\n",
    "    facet_col=\"prefix\",\n",
    "    log_x = True,\n",
    "    \n",
    ")"
   ]
  },
  {
   "cell_type": "code",
   "execution_count": 257,
   "metadata": {},
   "outputs": [
    {
     "data": {
      "application/vnd.plotly.v1+json": {
       "config": {
        "plotlyServerURL": "https://plot.ly"
       },
       "data": [
        {
         "hovertemplate": "family=BAAI/bge-v1.5<br>Number of Parameters=%{x}<br>Gain Percentage (%)=%{y}<extra></extra>",
         "legendgroup": "BAAI/bge-v1.5",
         "marker": {
          "color": "#1F77B4",
          "symbol": "circle"
         },
         "mode": "markers",
         "name": "BAAI/bge-v1.5",
         "orientation": "v",
         "showlegend": true,
         "type": "scatter",
         "x": [
          335141888,
          33360000
         ],
         "xaxis": "x",
         "y": [
          3.1653443160061085,
          2.1060885299234493
         ],
         "yaxis": "y"
        },
        {
         "hovertemplate": "family=all-MiniLM-v2<br>Number of Parameters=%{x}<br>Gain Percentage (%)=%{y}<extra></extra>",
         "legendgroup": "all-MiniLM-v2",
         "marker": {
          "color": "#FF7F0E",
          "symbol": "circle"
         },
         "mode": "markers",
         "name": "all-MiniLM-v2",
         "orientation": "v",
         "showlegend": true,
         "type": "scatter",
         "x": [
          33360000,
          22713216
         ],
         "xaxis": "x",
         "y": [
          1.5355134818486393,
          1.4535947753573752
         ],
         "yaxis": "y"
        },
        {
         "hovertemplate": "family=gtr-t5<br>Number of Parameters=%{x}<br>Gain Percentage (%)=%{y}<extra></extra>",
         "legendgroup": "gtr-t5",
         "marker": {
          "color": "#2CA02C",
          "symbol": "circle"
         },
         "mode": "markers",
         "name": "gtr-t5",
         "orientation": "v",
         "showlegend": true,
         "type": "scatter",
         "x": [
          109628544,
          334939648
         ],
         "xaxis": "x",
         "y": [
          0.9887177057050456,
          1.9822656298706662
         ],
         "yaxis": "y"
        },
        {
         "hovertemplate": "family=intfloat/e5<br>Number of Parameters=%{x}<br>Gain Percentage (%)=%{y}<extra></extra>",
         "legendgroup": "intfloat/e5",
         "marker": {
          "color": "#D62728",
          "symbol": "circle"
         },
         "mode": "markers",
         "name": "intfloat/e5",
         "orientation": "v",
         "showlegend": true,
         "type": "scatter",
         "x": [
          109482240,
          335141888,
          33360000
         ],
         "xaxis": "x",
         "y": [
          2.4962676635355536,
          3.138116141926963,
          1.9465737160880614
         ],
         "yaxis": "y"
        },
        {
         "hovertemplate": "family=intfloat/e5-v2<br>Number of Parameters=%{x}<br>Gain Percentage (%)=%{y}<extra></extra>",
         "legendgroup": "intfloat/e5-v2",
         "marker": {
          "color": "#9467BD",
          "symbol": "circle"
         },
         "mode": "markers",
         "name": "intfloat/e5-v2",
         "orientation": "v",
         "showlegend": true,
         "type": "scatter",
         "x": [
          109482240,
          335141888,
          33360000
         ],
         "xaxis": "x",
         "y": [
          3.1044270714396154,
          3.7408890675563278,
          2.317452184069883
         ],
         "yaxis": "y"
        },
        {
         "hovertemplate": "family=intfloat/multilingual-e5<br>Number of Parameters=%{x}<br>Gain Percentage (%)=%{y}<extra></extra>",
         "legendgroup": "intfloat/multilingual-e5",
         "marker": {
          "color": "#8C564B",
          "symbol": "circle"
         },
         "mode": "markers",
         "name": "intfloat/multilingual-e5",
         "orientation": "v",
         "showlegend": true,
         "type": "scatter",
         "x": [
          278043648,
          559890432,
          117653760
         ],
         "xaxis": "x",
         "y": [
          1.927332795135668,
          2.3966143790890895,
          1.5996534973575016
         ],
         "yaxis": "y"
        },
        {
         "hovertemplate": "family=sentence-t5<br>Number of Parameters=%{x}<br>Gain Percentage (%)=%{y}<extra></extra>",
         "legendgroup": "sentence-t5",
         "marker": {
          "color": "#E377C2",
          "symbol": "circle"
         },
         "mode": "markers",
         "name": "sentence-t5",
         "orientation": "v",
         "showlegend": true,
         "type": "scatter",
         "x": [
          109628544,
          334939648
         ],
         "xaxis": "x",
         "y": [
          1.8951957320691462,
          2.662108490533682
         ],
         "yaxis": "y"
        },
        {
         "hovertemplate": "family=thenlper/gte<br>Number of Parameters=%{x}<br>Gain Percentage (%)=%{y}<extra></extra>",
         "legendgroup": "thenlper/gte",
         "marker": {
          "color": "#7F7F7F",
          "symbol": "circle"
         },
         "mode": "markers",
         "name": "thenlper/gte",
         "orientation": "v",
         "showlegend": true,
         "type": "scatter",
         "x": [
          109482240,
          335141888,
          33360000
         ],
         "xaxis": "x",
         "y": [
          2.2770879997116427,
          2.7356275202898908,
          2.2543830915400966
         ],
         "yaxis": "y"
        },
        {
         "hoverinfo": "skip",
         "line": {
          "color": "#1F77B4"
         },
         "mode": "lines",
         "name": "BAAI/bge-v1.5",
         "type": "scatter",
         "x": [
          33360000,
          335141888
         ],
         "y": [
          2.1060885299234493,
          3.1653443160061085
         ]
        },
        {
         "hoverinfo": "skip",
         "line": {
          "color": "#FF7F0E"
         },
         "mode": "lines",
         "name": "all-MiniLM-v2",
         "type": "scatter",
         "x": [
          22713216,
          33360000
         ],
         "y": [
          1.4535947753573752,
          1.5355134818486393
         ]
        },
        {
         "hoverinfo": "skip",
         "line": {
          "color": "#2CA02C"
         },
         "mode": "lines",
         "name": "gtr-t5",
         "type": "scatter",
         "x": [
          109628544,
          334939648
         ],
         "y": [
          0.9887177057050456,
          1.9822656298706662
         ]
        },
        {
         "hoverinfo": "skip",
         "line": {
          "color": "#D62728"
         },
         "mode": "lines",
         "name": "intfloat/e5",
         "type": "scatter",
         "x": [
          33360000,
          109482240,
          335141888
         ],
         "y": [
          1.9465737160880614,
          2.4962676635355536,
          3.138116141926963
         ]
        },
        {
         "hoverinfo": "skip",
         "line": {
          "color": "#9467BD"
         },
         "mode": "lines",
         "name": "intfloat/e5-v2",
         "type": "scatter",
         "x": [
          33360000,
          109482240,
          335141888
         ],
         "y": [
          2.317452184069883,
          3.1044270714396154,
          3.7408890675563278
         ]
        },
        {
         "hoverinfo": "skip",
         "line": {
          "color": "#8C564B"
         },
         "mode": "lines",
         "name": "intfloat/multilingual-e5",
         "type": "scatter",
         "x": [
          117653760,
          278043648,
          559890432
         ],
         "y": [
          1.5996534973575016,
          1.927332795135668,
          2.3966143790890895
         ]
        },
        {
         "hoverinfo": "skip",
         "line": {
          "color": "#E377C2"
         },
         "mode": "lines",
         "name": "sentence-t5",
         "type": "scatter",
         "x": [
          109628544,
          334939648
         ],
         "y": [
          1.8951957320691462,
          2.662108490533682
         ]
        },
        {
         "hoverinfo": "skip",
         "line": {
          "color": "#7F7F7F"
         },
         "mode": "lines",
         "name": "thenlper/gte",
         "type": "scatter",
         "x": [
          33360000,
          109482240,
          335141888
         ],
         "y": [
          2.2543830915400966,
          2.2770879997116427,
          2.7356275202898908
         ]
        }
       ],
       "layout": {
        "legend": {
         "title": {
          "text": "family"
         },
         "tracegroupgap": 0
        },
        "template": {
         "data": {
          "bar": [
           {
            "error_x": {
             "color": "rgb(36,36,36)"
            },
            "error_y": {
             "color": "rgb(36,36,36)"
            },
            "marker": {
             "line": {
              "color": "white",
              "width": 0.5
             },
             "pattern": {
              "fillmode": "overlay",
              "size": 10,
              "solidity": 0.2
             }
            },
            "type": "bar"
           }
          ],
          "barpolar": [
           {
            "marker": {
             "line": {
              "color": "white",
              "width": 0.5
             },
             "pattern": {
              "fillmode": "overlay",
              "size": 10,
              "solidity": 0.2
             }
            },
            "type": "barpolar"
           }
          ],
          "carpet": [
           {
            "aaxis": {
             "endlinecolor": "rgb(36,36,36)",
             "gridcolor": "white",
             "linecolor": "white",
             "minorgridcolor": "white",
             "startlinecolor": "rgb(36,36,36)"
            },
            "baxis": {
             "endlinecolor": "rgb(36,36,36)",
             "gridcolor": "white",
             "linecolor": "white",
             "minorgridcolor": "white",
             "startlinecolor": "rgb(36,36,36)"
            },
            "type": "carpet"
           }
          ],
          "choropleth": [
           {
            "colorbar": {
             "outlinewidth": 1,
             "tickcolor": "rgb(36,36,36)",
             "ticks": "outside"
            },
            "type": "choropleth"
           }
          ],
          "contour": [
           {
            "colorbar": {
             "outlinewidth": 1,
             "tickcolor": "rgb(36,36,36)",
             "ticks": "outside"
            },
            "colorscale": [
             [
              0,
              "#440154"
             ],
             [
              0.1111111111111111,
              "#482878"
             ],
             [
              0.2222222222222222,
              "#3e4989"
             ],
             [
              0.3333333333333333,
              "#31688e"
             ],
             [
              0.4444444444444444,
              "#26828e"
             ],
             [
              0.5555555555555556,
              "#1f9e89"
             ],
             [
              0.6666666666666666,
              "#35b779"
             ],
             [
              0.7777777777777778,
              "#6ece58"
             ],
             [
              0.8888888888888888,
              "#b5de2b"
             ],
             [
              1,
              "#fde725"
             ]
            ],
            "type": "contour"
           }
          ],
          "contourcarpet": [
           {
            "colorbar": {
             "outlinewidth": 1,
             "tickcolor": "rgb(36,36,36)",
             "ticks": "outside"
            },
            "type": "contourcarpet"
           }
          ],
          "heatmap": [
           {
            "colorbar": {
             "outlinewidth": 1,
             "tickcolor": "rgb(36,36,36)",
             "ticks": "outside"
            },
            "colorscale": [
             [
              0,
              "#440154"
             ],
             [
              0.1111111111111111,
              "#482878"
             ],
             [
              0.2222222222222222,
              "#3e4989"
             ],
             [
              0.3333333333333333,
              "#31688e"
             ],
             [
              0.4444444444444444,
              "#26828e"
             ],
             [
              0.5555555555555556,
              "#1f9e89"
             ],
             [
              0.6666666666666666,
              "#35b779"
             ],
             [
              0.7777777777777778,
              "#6ece58"
             ],
             [
              0.8888888888888888,
              "#b5de2b"
             ],
             [
              1,
              "#fde725"
             ]
            ],
            "type": "heatmap"
           }
          ],
          "heatmapgl": [
           {
            "colorbar": {
             "outlinewidth": 1,
             "tickcolor": "rgb(36,36,36)",
             "ticks": "outside"
            },
            "colorscale": [
             [
              0,
              "#440154"
             ],
             [
              0.1111111111111111,
              "#482878"
             ],
             [
              0.2222222222222222,
              "#3e4989"
             ],
             [
              0.3333333333333333,
              "#31688e"
             ],
             [
              0.4444444444444444,
              "#26828e"
             ],
             [
              0.5555555555555556,
              "#1f9e89"
             ],
             [
              0.6666666666666666,
              "#35b779"
             ],
             [
              0.7777777777777778,
              "#6ece58"
             ],
             [
              0.8888888888888888,
              "#b5de2b"
             ],
             [
              1,
              "#fde725"
             ]
            ],
            "type": "heatmapgl"
           }
          ],
          "histogram": [
           {
            "marker": {
             "line": {
              "color": "white",
              "width": 0.6
             }
            },
            "type": "histogram"
           }
          ],
          "histogram2d": [
           {
            "colorbar": {
             "outlinewidth": 1,
             "tickcolor": "rgb(36,36,36)",
             "ticks": "outside"
            },
            "colorscale": [
             [
              0,
              "#440154"
             ],
             [
              0.1111111111111111,
              "#482878"
             ],
             [
              0.2222222222222222,
              "#3e4989"
             ],
             [
              0.3333333333333333,
              "#31688e"
             ],
             [
              0.4444444444444444,
              "#26828e"
             ],
             [
              0.5555555555555556,
              "#1f9e89"
             ],
             [
              0.6666666666666666,
              "#35b779"
             ],
             [
              0.7777777777777778,
              "#6ece58"
             ],
             [
              0.8888888888888888,
              "#b5de2b"
             ],
             [
              1,
              "#fde725"
             ]
            ],
            "type": "histogram2d"
           }
          ],
          "histogram2dcontour": [
           {
            "colorbar": {
             "outlinewidth": 1,
             "tickcolor": "rgb(36,36,36)",
             "ticks": "outside"
            },
            "colorscale": [
             [
              0,
              "#440154"
             ],
             [
              0.1111111111111111,
              "#482878"
             ],
             [
              0.2222222222222222,
              "#3e4989"
             ],
             [
              0.3333333333333333,
              "#31688e"
             ],
             [
              0.4444444444444444,
              "#26828e"
             ],
             [
              0.5555555555555556,
              "#1f9e89"
             ],
             [
              0.6666666666666666,
              "#35b779"
             ],
             [
              0.7777777777777778,
              "#6ece58"
             ],
             [
              0.8888888888888888,
              "#b5de2b"
             ],
             [
              1,
              "#fde725"
             ]
            ],
            "type": "histogram2dcontour"
           }
          ],
          "mesh3d": [
           {
            "colorbar": {
             "outlinewidth": 1,
             "tickcolor": "rgb(36,36,36)",
             "ticks": "outside"
            },
            "type": "mesh3d"
           }
          ],
          "parcoords": [
           {
            "line": {
             "colorbar": {
              "outlinewidth": 1,
              "tickcolor": "rgb(36,36,36)",
              "ticks": "outside"
             }
            },
            "type": "parcoords"
           }
          ],
          "pie": [
           {
            "automargin": true,
            "type": "pie"
           }
          ],
          "scatter": [
           {
            "fillpattern": {
             "fillmode": "overlay",
             "size": 10,
             "solidity": 0.2
            },
            "type": "scatter"
           }
          ],
          "scatter3d": [
           {
            "line": {
             "colorbar": {
              "outlinewidth": 1,
              "tickcolor": "rgb(36,36,36)",
              "ticks": "outside"
             }
            },
            "marker": {
             "colorbar": {
              "outlinewidth": 1,
              "tickcolor": "rgb(36,36,36)",
              "ticks": "outside"
             }
            },
            "type": "scatter3d"
           }
          ],
          "scattercarpet": [
           {
            "marker": {
             "colorbar": {
              "outlinewidth": 1,
              "tickcolor": "rgb(36,36,36)",
              "ticks": "outside"
             }
            },
            "type": "scattercarpet"
           }
          ],
          "scattergeo": [
           {
            "marker": {
             "colorbar": {
              "outlinewidth": 1,
              "tickcolor": "rgb(36,36,36)",
              "ticks": "outside"
             }
            },
            "type": "scattergeo"
           }
          ],
          "scattergl": [
           {
            "marker": {
             "colorbar": {
              "outlinewidth": 1,
              "tickcolor": "rgb(36,36,36)",
              "ticks": "outside"
             }
            },
            "type": "scattergl"
           }
          ],
          "scattermapbox": [
           {
            "marker": {
             "colorbar": {
              "outlinewidth": 1,
              "tickcolor": "rgb(36,36,36)",
              "ticks": "outside"
             }
            },
            "type": "scattermapbox"
           }
          ],
          "scatterpolar": [
           {
            "marker": {
             "colorbar": {
              "outlinewidth": 1,
              "tickcolor": "rgb(36,36,36)",
              "ticks": "outside"
             }
            },
            "type": "scatterpolar"
           }
          ],
          "scatterpolargl": [
           {
            "marker": {
             "colorbar": {
              "outlinewidth": 1,
              "tickcolor": "rgb(36,36,36)",
              "ticks": "outside"
             }
            },
            "type": "scatterpolargl"
           }
          ],
          "scatterternary": [
           {
            "marker": {
             "colorbar": {
              "outlinewidth": 1,
              "tickcolor": "rgb(36,36,36)",
              "ticks": "outside"
             }
            },
            "type": "scatterternary"
           }
          ],
          "surface": [
           {
            "colorbar": {
             "outlinewidth": 1,
             "tickcolor": "rgb(36,36,36)",
             "ticks": "outside"
            },
            "colorscale": [
             [
              0,
              "#440154"
             ],
             [
              0.1111111111111111,
              "#482878"
             ],
             [
              0.2222222222222222,
              "#3e4989"
             ],
             [
              0.3333333333333333,
              "#31688e"
             ],
             [
              0.4444444444444444,
              "#26828e"
             ],
             [
              0.5555555555555556,
              "#1f9e89"
             ],
             [
              0.6666666666666666,
              "#35b779"
             ],
             [
              0.7777777777777778,
              "#6ece58"
             ],
             [
              0.8888888888888888,
              "#b5de2b"
             ],
             [
              1,
              "#fde725"
             ]
            ],
            "type": "surface"
           }
          ],
          "table": [
           {
            "cells": {
             "fill": {
              "color": "rgb(237,237,237)"
             },
             "line": {
              "color": "white"
             }
            },
            "header": {
             "fill": {
              "color": "rgb(217,217,217)"
             },
             "line": {
              "color": "white"
             }
            },
            "type": "table"
           }
          ]
         },
         "layout": {
          "annotationdefaults": {
           "arrowhead": 0,
           "arrowwidth": 1
          },
          "autotypenumbers": "strict",
          "coloraxis": {
           "colorbar": {
            "outlinewidth": 1,
            "tickcolor": "rgb(36,36,36)",
            "ticks": "outside"
           }
          },
          "colorscale": {
           "diverging": [
            [
             0,
             "rgb(103,0,31)"
            ],
            [
             0.1,
             "rgb(178,24,43)"
            ],
            [
             0.2,
             "rgb(214,96,77)"
            ],
            [
             0.3,
             "rgb(244,165,130)"
            ],
            [
             0.4,
             "rgb(253,219,199)"
            ],
            [
             0.5,
             "rgb(247,247,247)"
            ],
            [
             0.6,
             "rgb(209,229,240)"
            ],
            [
             0.7,
             "rgb(146,197,222)"
            ],
            [
             0.8,
             "rgb(67,147,195)"
            ],
            [
             0.9,
             "rgb(33,102,172)"
            ],
            [
             1,
             "rgb(5,48,97)"
            ]
           ],
           "sequential": [
            [
             0,
             "#440154"
            ],
            [
             0.1111111111111111,
             "#482878"
            ],
            [
             0.2222222222222222,
             "#3e4989"
            ],
            [
             0.3333333333333333,
             "#31688e"
            ],
            [
             0.4444444444444444,
             "#26828e"
            ],
            [
             0.5555555555555556,
             "#1f9e89"
            ],
            [
             0.6666666666666666,
             "#35b779"
            ],
            [
             0.7777777777777778,
             "#6ece58"
            ],
            [
             0.8888888888888888,
             "#b5de2b"
            ],
            [
             1,
             "#fde725"
            ]
           ],
           "sequentialminus": [
            [
             0,
             "#440154"
            ],
            [
             0.1111111111111111,
             "#482878"
            ],
            [
             0.2222222222222222,
             "#3e4989"
            ],
            [
             0.3333333333333333,
             "#31688e"
            ],
            [
             0.4444444444444444,
             "#26828e"
            ],
            [
             0.5555555555555556,
             "#1f9e89"
            ],
            [
             0.6666666666666666,
             "#35b779"
            ],
            [
             0.7777777777777778,
             "#6ece58"
            ],
            [
             0.8888888888888888,
             "#b5de2b"
            ],
            [
             1,
             "#fde725"
            ]
           ]
          },
          "colorway": [
           "#1F77B4",
           "#FF7F0E",
           "#2CA02C",
           "#D62728",
           "#9467BD",
           "#8C564B",
           "#E377C2",
           "#7F7F7F",
           "#BCBD22",
           "#17BECF"
          ],
          "font": {
           "color": "rgb(36,36,36)"
          },
          "geo": {
           "bgcolor": "white",
           "lakecolor": "white",
           "landcolor": "white",
           "showlakes": true,
           "showland": true,
           "subunitcolor": "white"
          },
          "hoverlabel": {
           "align": "left"
          },
          "hovermode": "closest",
          "mapbox": {
           "style": "light"
          },
          "paper_bgcolor": "white",
          "plot_bgcolor": "white",
          "polar": {
           "angularaxis": {
            "gridcolor": "rgb(232,232,232)",
            "linecolor": "rgb(36,36,36)",
            "showgrid": false,
            "showline": true,
            "ticks": "outside"
           },
           "bgcolor": "white",
           "radialaxis": {
            "gridcolor": "rgb(232,232,232)",
            "linecolor": "rgb(36,36,36)",
            "showgrid": false,
            "showline": true,
            "ticks": "outside"
           }
          },
          "scene": {
           "xaxis": {
            "backgroundcolor": "white",
            "gridcolor": "rgb(232,232,232)",
            "gridwidth": 2,
            "linecolor": "rgb(36,36,36)",
            "showbackground": true,
            "showgrid": false,
            "showline": true,
            "ticks": "outside",
            "zeroline": false,
            "zerolinecolor": "rgb(36,36,36)"
           },
           "yaxis": {
            "backgroundcolor": "white",
            "gridcolor": "rgb(232,232,232)",
            "gridwidth": 2,
            "linecolor": "rgb(36,36,36)",
            "showbackground": true,
            "showgrid": false,
            "showline": true,
            "ticks": "outside",
            "zeroline": false,
            "zerolinecolor": "rgb(36,36,36)"
           },
           "zaxis": {
            "backgroundcolor": "white",
            "gridcolor": "rgb(232,232,232)",
            "gridwidth": 2,
            "linecolor": "rgb(36,36,36)",
            "showbackground": true,
            "showgrid": false,
            "showline": true,
            "ticks": "outside",
            "zeroline": false,
            "zerolinecolor": "rgb(36,36,36)"
           }
          },
          "shapedefaults": {
           "fillcolor": "black",
           "line": {
            "width": 0
           },
           "opacity": 0.3
          },
          "ternary": {
           "aaxis": {
            "gridcolor": "rgb(232,232,232)",
            "linecolor": "rgb(36,36,36)",
            "showgrid": false,
            "showline": true,
            "ticks": "outside"
           },
           "baxis": {
            "gridcolor": "rgb(232,232,232)",
            "linecolor": "rgb(36,36,36)",
            "showgrid": false,
            "showline": true,
            "ticks": "outside"
           },
           "bgcolor": "white",
           "caxis": {
            "gridcolor": "rgb(232,232,232)",
            "linecolor": "rgb(36,36,36)",
            "showgrid": false,
            "showline": true,
            "ticks": "outside"
           }
          },
          "title": {
           "x": 0.05
          },
          "xaxis": {
           "automargin": true,
           "gridcolor": "rgb(232,232,232)",
           "linecolor": "rgb(36,36,36)",
           "showgrid": false,
           "showline": true,
           "ticks": "outside",
           "title": {
            "standoff": 15
           },
           "zeroline": false,
           "zerolinecolor": "rgb(36,36,36)"
          },
          "yaxis": {
           "automargin": true,
           "gridcolor": "rgb(232,232,232)",
           "linecolor": "rgb(36,36,36)",
           "showgrid": false,
           "showline": true,
           "ticks": "outside",
           "title": {
            "standoff": 15
           },
           "zeroline": false,
           "zerolinecolor": "rgb(36,36,36)"
          }
         }
        },
        "title": {
         "text": "ROC-AUC Gain over Skrub"
        },
        "xaxis": {
         "anchor": "y",
         "domain": [
          0,
          1
         ],
         "title": {
          "text": "Number of Parameters"
         },
         "type": "log"
        },
        "yaxis": {
         "anchor": "x",
         "domain": [
          0,
          1
         ],
         "title": {
          "text": "Gain Percentage (%)"
         }
        }
       }
      },
      "text/html": [
       "<div>                            <div id=\"a010a5c9-4343-4cfe-a760-954d9550596a\" class=\"plotly-graph-div\" style=\"height:525px; width:100%;\"></div>            <script type=\"text/javascript\">                require([\"plotly\"], function(Plotly) {                    window.PLOTLYENV=window.PLOTLYENV || {};                                    if (document.getElementById(\"a010a5c9-4343-4cfe-a760-954d9550596a\")) {                    Plotly.newPlot(                        \"a010a5c9-4343-4cfe-a760-954d9550596a\",                        [{\"hovertemplate\":\"family=BAAI\\u002fbge-v1.5\\u003cbr\\u003eNumber of Parameters=%{x}\\u003cbr\\u003eGain Percentage (%)=%{y}\\u003cextra\\u003e\\u003c\\u002fextra\\u003e\",\"legendgroup\":\"BAAI\\u002fbge-v1.5\",\"marker\":{\"color\":\"#1F77B4\",\"symbol\":\"circle\"},\"mode\":\"markers\",\"name\":\"BAAI\\u002fbge-v1.5\",\"orientation\":\"v\",\"showlegend\":true,\"x\":[335141888,33360000],\"xaxis\":\"x\",\"y\":[3.1653443160061085,2.1060885299234493],\"yaxis\":\"y\",\"type\":\"scatter\"},{\"hovertemplate\":\"family=all-MiniLM-v2\\u003cbr\\u003eNumber of Parameters=%{x}\\u003cbr\\u003eGain Percentage (%)=%{y}\\u003cextra\\u003e\\u003c\\u002fextra\\u003e\",\"legendgroup\":\"all-MiniLM-v2\",\"marker\":{\"color\":\"#FF7F0E\",\"symbol\":\"circle\"},\"mode\":\"markers\",\"name\":\"all-MiniLM-v2\",\"orientation\":\"v\",\"showlegend\":true,\"x\":[33360000,22713216],\"xaxis\":\"x\",\"y\":[1.5355134818486393,1.4535947753573752],\"yaxis\":\"y\",\"type\":\"scatter\"},{\"hovertemplate\":\"family=gtr-t5\\u003cbr\\u003eNumber of Parameters=%{x}\\u003cbr\\u003eGain Percentage (%)=%{y}\\u003cextra\\u003e\\u003c\\u002fextra\\u003e\",\"legendgroup\":\"gtr-t5\",\"marker\":{\"color\":\"#2CA02C\",\"symbol\":\"circle\"},\"mode\":\"markers\",\"name\":\"gtr-t5\",\"orientation\":\"v\",\"showlegend\":true,\"x\":[109628544,334939648],\"xaxis\":\"x\",\"y\":[0.9887177057050456,1.9822656298706662],\"yaxis\":\"y\",\"type\":\"scatter\"},{\"hovertemplate\":\"family=intfloat\\u002fe5\\u003cbr\\u003eNumber of Parameters=%{x}\\u003cbr\\u003eGain Percentage (%)=%{y}\\u003cextra\\u003e\\u003c\\u002fextra\\u003e\",\"legendgroup\":\"intfloat\\u002fe5\",\"marker\":{\"color\":\"#D62728\",\"symbol\":\"circle\"},\"mode\":\"markers\",\"name\":\"intfloat\\u002fe5\",\"orientation\":\"v\",\"showlegend\":true,\"x\":[109482240,335141888,33360000],\"xaxis\":\"x\",\"y\":[2.4962676635355536,3.138116141926963,1.9465737160880614],\"yaxis\":\"y\",\"type\":\"scatter\"},{\"hovertemplate\":\"family=intfloat\\u002fe5-v2\\u003cbr\\u003eNumber of Parameters=%{x}\\u003cbr\\u003eGain Percentage (%)=%{y}\\u003cextra\\u003e\\u003c\\u002fextra\\u003e\",\"legendgroup\":\"intfloat\\u002fe5-v2\",\"marker\":{\"color\":\"#9467BD\",\"symbol\":\"circle\"},\"mode\":\"markers\",\"name\":\"intfloat\\u002fe5-v2\",\"orientation\":\"v\",\"showlegend\":true,\"x\":[109482240,335141888,33360000],\"xaxis\":\"x\",\"y\":[3.1044270714396154,3.7408890675563278,2.317452184069883],\"yaxis\":\"y\",\"type\":\"scatter\"},{\"hovertemplate\":\"family=intfloat\\u002fmultilingual-e5\\u003cbr\\u003eNumber of Parameters=%{x}\\u003cbr\\u003eGain Percentage (%)=%{y}\\u003cextra\\u003e\\u003c\\u002fextra\\u003e\",\"legendgroup\":\"intfloat\\u002fmultilingual-e5\",\"marker\":{\"color\":\"#8C564B\",\"symbol\":\"circle\"},\"mode\":\"markers\",\"name\":\"intfloat\\u002fmultilingual-e5\",\"orientation\":\"v\",\"showlegend\":true,\"x\":[278043648,559890432,117653760],\"xaxis\":\"x\",\"y\":[1.927332795135668,2.3966143790890895,1.5996534973575016],\"yaxis\":\"y\",\"type\":\"scatter\"},{\"hovertemplate\":\"family=sentence-t5\\u003cbr\\u003eNumber of Parameters=%{x}\\u003cbr\\u003eGain Percentage (%)=%{y}\\u003cextra\\u003e\\u003c\\u002fextra\\u003e\",\"legendgroup\":\"sentence-t5\",\"marker\":{\"color\":\"#E377C2\",\"symbol\":\"circle\"},\"mode\":\"markers\",\"name\":\"sentence-t5\",\"orientation\":\"v\",\"showlegend\":true,\"x\":[109628544,334939648],\"xaxis\":\"x\",\"y\":[1.8951957320691462,2.662108490533682],\"yaxis\":\"y\",\"type\":\"scatter\"},{\"hovertemplate\":\"family=thenlper\\u002fgte\\u003cbr\\u003eNumber of Parameters=%{x}\\u003cbr\\u003eGain Percentage (%)=%{y}\\u003cextra\\u003e\\u003c\\u002fextra\\u003e\",\"legendgroup\":\"thenlper\\u002fgte\",\"marker\":{\"color\":\"#7F7F7F\",\"symbol\":\"circle\"},\"mode\":\"markers\",\"name\":\"thenlper\\u002fgte\",\"orientation\":\"v\",\"showlegend\":true,\"x\":[109482240,335141888,33360000],\"xaxis\":\"x\",\"y\":[2.2770879997116427,2.7356275202898908,2.2543830915400966],\"yaxis\":\"y\",\"type\":\"scatter\"},{\"hoverinfo\":\"skip\",\"line\":{\"color\":\"#1F77B4\"},\"mode\":\"lines\",\"name\":\"BAAI\\u002fbge-v1.5\",\"x\":[33360000,335141888],\"y\":[2.1060885299234493,3.1653443160061085],\"type\":\"scatter\"},{\"hoverinfo\":\"skip\",\"line\":{\"color\":\"#FF7F0E\"},\"mode\":\"lines\",\"name\":\"all-MiniLM-v2\",\"x\":[22713216,33360000],\"y\":[1.4535947753573752,1.5355134818486393],\"type\":\"scatter\"},{\"hoverinfo\":\"skip\",\"line\":{\"color\":\"#2CA02C\"},\"mode\":\"lines\",\"name\":\"gtr-t5\",\"x\":[109628544,334939648],\"y\":[0.9887177057050456,1.9822656298706662],\"type\":\"scatter\"},{\"hoverinfo\":\"skip\",\"line\":{\"color\":\"#D62728\"},\"mode\":\"lines\",\"name\":\"intfloat\\u002fe5\",\"x\":[33360000,109482240,335141888],\"y\":[1.9465737160880614,2.4962676635355536,3.138116141926963],\"type\":\"scatter\"},{\"hoverinfo\":\"skip\",\"line\":{\"color\":\"#9467BD\"},\"mode\":\"lines\",\"name\":\"intfloat\\u002fe5-v2\",\"x\":[33360000,109482240,335141888],\"y\":[2.317452184069883,3.1044270714396154,3.7408890675563278],\"type\":\"scatter\"},{\"hoverinfo\":\"skip\",\"line\":{\"color\":\"#8C564B\"},\"mode\":\"lines\",\"name\":\"intfloat\\u002fmultilingual-e5\",\"x\":[117653760,278043648,559890432],\"y\":[1.5996534973575016,1.927332795135668,2.3966143790890895],\"type\":\"scatter\"},{\"hoverinfo\":\"skip\",\"line\":{\"color\":\"#E377C2\"},\"mode\":\"lines\",\"name\":\"sentence-t5\",\"x\":[109628544,334939648],\"y\":[1.8951957320691462,2.662108490533682],\"type\":\"scatter\"},{\"hoverinfo\":\"skip\",\"line\":{\"color\":\"#7F7F7F\"},\"mode\":\"lines\",\"name\":\"thenlper\\u002fgte\",\"x\":[33360000,109482240,335141888],\"y\":[2.2543830915400966,2.2770879997116427,2.7356275202898908],\"type\":\"scatter\"}],                        {\"template\":{\"data\":{\"barpolar\":[{\"marker\":{\"line\":{\"color\":\"white\",\"width\":0.5},\"pattern\":{\"fillmode\":\"overlay\",\"size\":10,\"solidity\":0.2}},\"type\":\"barpolar\"}],\"bar\":[{\"error_x\":{\"color\":\"rgb(36,36,36)\"},\"error_y\":{\"color\":\"rgb(36,36,36)\"},\"marker\":{\"line\":{\"color\":\"white\",\"width\":0.5},\"pattern\":{\"fillmode\":\"overlay\",\"size\":10,\"solidity\":0.2}},\"type\":\"bar\"}],\"carpet\":[{\"aaxis\":{\"endlinecolor\":\"rgb(36,36,36)\",\"gridcolor\":\"white\",\"linecolor\":\"white\",\"minorgridcolor\":\"white\",\"startlinecolor\":\"rgb(36,36,36)\"},\"baxis\":{\"endlinecolor\":\"rgb(36,36,36)\",\"gridcolor\":\"white\",\"linecolor\":\"white\",\"minorgridcolor\":\"white\",\"startlinecolor\":\"rgb(36,36,36)\"},\"type\":\"carpet\"}],\"choropleth\":[{\"colorbar\":{\"outlinewidth\":1,\"tickcolor\":\"rgb(36,36,36)\",\"ticks\":\"outside\"},\"type\":\"choropleth\"}],\"contourcarpet\":[{\"colorbar\":{\"outlinewidth\":1,\"tickcolor\":\"rgb(36,36,36)\",\"ticks\":\"outside\"},\"type\":\"contourcarpet\"}],\"contour\":[{\"colorbar\":{\"outlinewidth\":1,\"tickcolor\":\"rgb(36,36,36)\",\"ticks\":\"outside\"},\"colorscale\":[[0.0,\"#440154\"],[0.1111111111111111,\"#482878\"],[0.2222222222222222,\"#3e4989\"],[0.3333333333333333,\"#31688e\"],[0.4444444444444444,\"#26828e\"],[0.5555555555555556,\"#1f9e89\"],[0.6666666666666666,\"#35b779\"],[0.7777777777777778,\"#6ece58\"],[0.8888888888888888,\"#b5de2b\"],[1.0,\"#fde725\"]],\"type\":\"contour\"}],\"heatmapgl\":[{\"colorbar\":{\"outlinewidth\":1,\"tickcolor\":\"rgb(36,36,36)\",\"ticks\":\"outside\"},\"colorscale\":[[0.0,\"#440154\"],[0.1111111111111111,\"#482878\"],[0.2222222222222222,\"#3e4989\"],[0.3333333333333333,\"#31688e\"],[0.4444444444444444,\"#26828e\"],[0.5555555555555556,\"#1f9e89\"],[0.6666666666666666,\"#35b779\"],[0.7777777777777778,\"#6ece58\"],[0.8888888888888888,\"#b5de2b\"],[1.0,\"#fde725\"]],\"type\":\"heatmapgl\"}],\"heatmap\":[{\"colorbar\":{\"outlinewidth\":1,\"tickcolor\":\"rgb(36,36,36)\",\"ticks\":\"outside\"},\"colorscale\":[[0.0,\"#440154\"],[0.1111111111111111,\"#482878\"],[0.2222222222222222,\"#3e4989\"],[0.3333333333333333,\"#31688e\"],[0.4444444444444444,\"#26828e\"],[0.5555555555555556,\"#1f9e89\"],[0.6666666666666666,\"#35b779\"],[0.7777777777777778,\"#6ece58\"],[0.8888888888888888,\"#b5de2b\"],[1.0,\"#fde725\"]],\"type\":\"heatmap\"}],\"histogram2dcontour\":[{\"colorbar\":{\"outlinewidth\":1,\"tickcolor\":\"rgb(36,36,36)\",\"ticks\":\"outside\"},\"colorscale\":[[0.0,\"#440154\"],[0.1111111111111111,\"#482878\"],[0.2222222222222222,\"#3e4989\"],[0.3333333333333333,\"#31688e\"],[0.4444444444444444,\"#26828e\"],[0.5555555555555556,\"#1f9e89\"],[0.6666666666666666,\"#35b779\"],[0.7777777777777778,\"#6ece58\"],[0.8888888888888888,\"#b5de2b\"],[1.0,\"#fde725\"]],\"type\":\"histogram2dcontour\"}],\"histogram2d\":[{\"colorbar\":{\"outlinewidth\":1,\"tickcolor\":\"rgb(36,36,36)\",\"ticks\":\"outside\"},\"colorscale\":[[0.0,\"#440154\"],[0.1111111111111111,\"#482878\"],[0.2222222222222222,\"#3e4989\"],[0.3333333333333333,\"#31688e\"],[0.4444444444444444,\"#26828e\"],[0.5555555555555556,\"#1f9e89\"],[0.6666666666666666,\"#35b779\"],[0.7777777777777778,\"#6ece58\"],[0.8888888888888888,\"#b5de2b\"],[1.0,\"#fde725\"]],\"type\":\"histogram2d\"}],\"histogram\":[{\"marker\":{\"line\":{\"color\":\"white\",\"width\":0.6}},\"type\":\"histogram\"}],\"mesh3d\":[{\"colorbar\":{\"outlinewidth\":1,\"tickcolor\":\"rgb(36,36,36)\",\"ticks\":\"outside\"},\"type\":\"mesh3d\"}],\"parcoords\":[{\"line\":{\"colorbar\":{\"outlinewidth\":1,\"tickcolor\":\"rgb(36,36,36)\",\"ticks\":\"outside\"}},\"type\":\"parcoords\"}],\"pie\":[{\"automargin\":true,\"type\":\"pie\"}],\"scatter3d\":[{\"line\":{\"colorbar\":{\"outlinewidth\":1,\"tickcolor\":\"rgb(36,36,36)\",\"ticks\":\"outside\"}},\"marker\":{\"colorbar\":{\"outlinewidth\":1,\"tickcolor\":\"rgb(36,36,36)\",\"ticks\":\"outside\"}},\"type\":\"scatter3d\"}],\"scattercarpet\":[{\"marker\":{\"colorbar\":{\"outlinewidth\":1,\"tickcolor\":\"rgb(36,36,36)\",\"ticks\":\"outside\"}},\"type\":\"scattercarpet\"}],\"scattergeo\":[{\"marker\":{\"colorbar\":{\"outlinewidth\":1,\"tickcolor\":\"rgb(36,36,36)\",\"ticks\":\"outside\"}},\"type\":\"scattergeo\"}],\"scattergl\":[{\"marker\":{\"colorbar\":{\"outlinewidth\":1,\"tickcolor\":\"rgb(36,36,36)\",\"ticks\":\"outside\"}},\"type\":\"scattergl\"}],\"scattermapbox\":[{\"marker\":{\"colorbar\":{\"outlinewidth\":1,\"tickcolor\":\"rgb(36,36,36)\",\"ticks\":\"outside\"}},\"type\":\"scattermapbox\"}],\"scatterpolargl\":[{\"marker\":{\"colorbar\":{\"outlinewidth\":1,\"tickcolor\":\"rgb(36,36,36)\",\"ticks\":\"outside\"}},\"type\":\"scatterpolargl\"}],\"scatterpolar\":[{\"marker\":{\"colorbar\":{\"outlinewidth\":1,\"tickcolor\":\"rgb(36,36,36)\",\"ticks\":\"outside\"}},\"type\":\"scatterpolar\"}],\"scatter\":[{\"fillpattern\":{\"fillmode\":\"overlay\",\"size\":10,\"solidity\":0.2},\"type\":\"scatter\"}],\"scatterternary\":[{\"marker\":{\"colorbar\":{\"outlinewidth\":1,\"tickcolor\":\"rgb(36,36,36)\",\"ticks\":\"outside\"}},\"type\":\"scatterternary\"}],\"surface\":[{\"colorbar\":{\"outlinewidth\":1,\"tickcolor\":\"rgb(36,36,36)\",\"ticks\":\"outside\"},\"colorscale\":[[0.0,\"#440154\"],[0.1111111111111111,\"#482878\"],[0.2222222222222222,\"#3e4989\"],[0.3333333333333333,\"#31688e\"],[0.4444444444444444,\"#26828e\"],[0.5555555555555556,\"#1f9e89\"],[0.6666666666666666,\"#35b779\"],[0.7777777777777778,\"#6ece58\"],[0.8888888888888888,\"#b5de2b\"],[1.0,\"#fde725\"]],\"type\":\"surface\"}],\"table\":[{\"cells\":{\"fill\":{\"color\":\"rgb(237,237,237)\"},\"line\":{\"color\":\"white\"}},\"header\":{\"fill\":{\"color\":\"rgb(217,217,217)\"},\"line\":{\"color\":\"white\"}},\"type\":\"table\"}]},\"layout\":{\"annotationdefaults\":{\"arrowhead\":0,\"arrowwidth\":1},\"autotypenumbers\":\"strict\",\"coloraxis\":{\"colorbar\":{\"outlinewidth\":1,\"tickcolor\":\"rgb(36,36,36)\",\"ticks\":\"outside\"}},\"colorscale\":{\"diverging\":[[0.0,\"rgb(103,0,31)\"],[0.1,\"rgb(178,24,43)\"],[0.2,\"rgb(214,96,77)\"],[0.3,\"rgb(244,165,130)\"],[0.4,\"rgb(253,219,199)\"],[0.5,\"rgb(247,247,247)\"],[0.6,\"rgb(209,229,240)\"],[0.7,\"rgb(146,197,222)\"],[0.8,\"rgb(67,147,195)\"],[0.9,\"rgb(33,102,172)\"],[1.0,\"rgb(5,48,97)\"]],\"sequential\":[[0.0,\"#440154\"],[0.1111111111111111,\"#482878\"],[0.2222222222222222,\"#3e4989\"],[0.3333333333333333,\"#31688e\"],[0.4444444444444444,\"#26828e\"],[0.5555555555555556,\"#1f9e89\"],[0.6666666666666666,\"#35b779\"],[0.7777777777777778,\"#6ece58\"],[0.8888888888888888,\"#b5de2b\"],[1.0,\"#fde725\"]],\"sequentialminus\":[[0.0,\"#440154\"],[0.1111111111111111,\"#482878\"],[0.2222222222222222,\"#3e4989\"],[0.3333333333333333,\"#31688e\"],[0.4444444444444444,\"#26828e\"],[0.5555555555555556,\"#1f9e89\"],[0.6666666666666666,\"#35b779\"],[0.7777777777777778,\"#6ece58\"],[0.8888888888888888,\"#b5de2b\"],[1.0,\"#fde725\"]]},\"colorway\":[\"#1F77B4\",\"#FF7F0E\",\"#2CA02C\",\"#D62728\",\"#9467BD\",\"#8C564B\",\"#E377C2\",\"#7F7F7F\",\"#BCBD22\",\"#17BECF\"],\"font\":{\"color\":\"rgb(36,36,36)\"},\"geo\":{\"bgcolor\":\"white\",\"lakecolor\":\"white\",\"landcolor\":\"white\",\"showlakes\":true,\"showland\":true,\"subunitcolor\":\"white\"},\"hoverlabel\":{\"align\":\"left\"},\"hovermode\":\"closest\",\"mapbox\":{\"style\":\"light\"},\"paper_bgcolor\":\"white\",\"plot_bgcolor\":\"white\",\"polar\":{\"angularaxis\":{\"gridcolor\":\"rgb(232,232,232)\",\"linecolor\":\"rgb(36,36,36)\",\"showgrid\":false,\"showline\":true,\"ticks\":\"outside\"},\"bgcolor\":\"white\",\"radialaxis\":{\"gridcolor\":\"rgb(232,232,232)\",\"linecolor\":\"rgb(36,36,36)\",\"showgrid\":false,\"showline\":true,\"ticks\":\"outside\"}},\"scene\":{\"xaxis\":{\"backgroundcolor\":\"white\",\"gridcolor\":\"rgb(232,232,232)\",\"gridwidth\":2,\"linecolor\":\"rgb(36,36,36)\",\"showbackground\":true,\"showgrid\":false,\"showline\":true,\"ticks\":\"outside\",\"zeroline\":false,\"zerolinecolor\":\"rgb(36,36,36)\"},\"yaxis\":{\"backgroundcolor\":\"white\",\"gridcolor\":\"rgb(232,232,232)\",\"gridwidth\":2,\"linecolor\":\"rgb(36,36,36)\",\"showbackground\":true,\"showgrid\":false,\"showline\":true,\"ticks\":\"outside\",\"zeroline\":false,\"zerolinecolor\":\"rgb(36,36,36)\"},\"zaxis\":{\"backgroundcolor\":\"white\",\"gridcolor\":\"rgb(232,232,232)\",\"gridwidth\":2,\"linecolor\":\"rgb(36,36,36)\",\"showbackground\":true,\"showgrid\":false,\"showline\":true,\"ticks\":\"outside\",\"zeroline\":false,\"zerolinecolor\":\"rgb(36,36,36)\"}},\"shapedefaults\":{\"fillcolor\":\"black\",\"line\":{\"width\":0},\"opacity\":0.3},\"ternary\":{\"aaxis\":{\"gridcolor\":\"rgb(232,232,232)\",\"linecolor\":\"rgb(36,36,36)\",\"showgrid\":false,\"showline\":true,\"ticks\":\"outside\"},\"baxis\":{\"gridcolor\":\"rgb(232,232,232)\",\"linecolor\":\"rgb(36,36,36)\",\"showgrid\":false,\"showline\":true,\"ticks\":\"outside\"},\"bgcolor\":\"white\",\"caxis\":{\"gridcolor\":\"rgb(232,232,232)\",\"linecolor\":\"rgb(36,36,36)\",\"showgrid\":false,\"showline\":true,\"ticks\":\"outside\"}},\"title\":{\"x\":0.05},\"xaxis\":{\"automargin\":true,\"gridcolor\":\"rgb(232,232,232)\",\"linecolor\":\"rgb(36,36,36)\",\"showgrid\":false,\"showline\":true,\"ticks\":\"outside\",\"title\":{\"standoff\":15},\"zeroline\":false,\"zerolinecolor\":\"rgb(36,36,36)\"},\"yaxis\":{\"automargin\":true,\"gridcolor\":\"rgb(232,232,232)\",\"linecolor\":\"rgb(36,36,36)\",\"showgrid\":false,\"showline\":true,\"ticks\":\"outside\",\"title\":{\"standoff\":15},\"zeroline\":false,\"zerolinecolor\":\"rgb(36,36,36)\"}}},\"xaxis\":{\"anchor\":\"y\",\"domain\":[0.0,1.0],\"title\":{\"text\":\"Number of Parameters\"},\"type\":\"log\"},\"yaxis\":{\"anchor\":\"x\",\"domain\":[0.0,1.0],\"title\":{\"text\":\"Gain Percentage (%)\"}},\"legend\":{\"title\":{\"text\":\"family\"},\"tracegroupgap\":0},\"title\":{\"text\":\"ROC-AUC Gain over Skrub\"}},                        {\"responsive\": true}                    ).then(function(){\n",
       "                            \n",
       "var gd = document.getElementById('a010a5c9-4343-4cfe-a760-954d9550596a');\n",
       "var x = new MutationObserver(function (mutations, observer) {{\n",
       "        var display = window.getComputedStyle(gd).display;\n",
       "        if (!display || display === 'none') {{\n",
       "            console.log([gd, 'removed!']);\n",
       "            Plotly.purge(gd);\n",
       "            observer.disconnect();\n",
       "        }}\n",
       "}});\n",
       "\n",
       "// Listen for the removal of the full notebook cells\n",
       "var notebookContainer = gd.closest('#notebook-container');\n",
       "if (notebookContainer) {{\n",
       "    x.observe(notebookContainer, {childList: true});\n",
       "}}\n",
       "\n",
       "// Listen for the clearing of the current output cell\n",
       "var outputEl = gd.closest('.output');\n",
       "if (outputEl) {{\n",
       "    x.observe(outputEl, {childList: true});\n",
       "}}\n",
       "\n",
       "                        })                };                });            </script>        </div>"
      ]
     },
     "metadata": {},
     "output_type": "display_data"
    }
   ],
   "source": [
    "import plotly.express as px\n",
    "import plotly.graph_objects as go\n",
    "\n",
    "# Create scatter plot\n",
    "fig = px.scatter(\n",
    "    merged_dataframe,\n",
    "    x = \"Number of Parameters\",\n",
    "    y = \"gain_percent\",\n",
    "    color=\"family\",\n",
    "    log_x = True,\n",
    "        title=\"ROC-AUC Gain over Skrub\",\n",
    "    labels={\n",
    "        #\"ngrams_div_by_nrows\": \"Number of Unique N-grams Divided by N-Rows (log scale)\",\n",
    "        \"gain_percent\": \"Gain Percentage (%)\",\n",
    "    },\n",
    "    template=\"simple_white\"\n",
    ")\n",
    "\n",
    "# Extract color sequence used by Plotly Express\n",
    "color_discrete_map = {}\n",
    "for trace in fig.data:\n",
    "    color_discrete_map[trace.name] = trace.marker.color\n",
    "\n",
    "# Create lines with the same color sequence\n",
    "for prefix, group in merged_dataframe.groupby('family'):\n",
    "    # sort the group based on \"Number of Parameters\"\n",
    "    group_sorted = group.sort_values(\"Number of Parameters\")\n",
    "    fig.add_trace(\n",
    "        go.Scatter(\n",
    "            x=group_sorted[\"Number of Parameters\"], \n",
    "            y=group_sorted[\"gain_percent\"],\n",
    "            mode='lines',\n",
    "            line=dict(color=color_discrete_map[prefix]),\n",
    "            name=prefix,\n",
    "            hoverinfo='skip',\n",
    "        )\n",
    "    )\n",
    "\n",
    "fig.show()"
   ]
  },
  {
   "cell_type": "code",
   "execution_count": 258,
   "metadata": {},
   "outputs": [
    {
     "data": {
      "application/vnd.plotly.v1+json": {
       "config": {
        "plotlyServerURL": "https://plot.ly"
       },
       "data": [
        {
         "customdata": [
          [
           "BAAI/bge-v1.5"
          ],
          [
           "BAAI/bge-v1.5"
          ]
         ],
         "hovertemplate": "Number of Parameters=%{x}<br>Gain Percentage (%)=%{y}<extra></extra>",
         "legendgroup": "BAAI/bge-v1.5",
         "marker": {
          "color": "#1F77B4",
          "line": {
           "width": 5
          },
          "size": 10,
          "symbol": "circle"
         },
         "mode": "markers",
         "name": "BAAI/bge-v1.5",
         "orientation": "v",
         "showlegend": true,
         "type": "scatter",
         "x": [
          335141888,
          33360000
         ],
         "xaxis": "x",
         "y": [
          3.1653443160061085,
          2.1060885299234493
         ],
         "yaxis": "y"
        },
        {
         "customdata": [
          [
           "all-MiniLM-v2"
          ],
          [
           "all-MiniLM-v2"
          ]
         ],
         "hovertemplate": "Number of Parameters=%{x}<br>Gain Percentage (%)=%{y}<extra></extra>",
         "legendgroup": "all-MiniLM-v2",
         "marker": {
          "color": "#FF7F0E",
          "line": {
           "width": 5
          },
          "size": 10,
          "symbol": "circle"
         },
         "mode": "markers",
         "name": "all-MiniLM-v2",
         "orientation": "v",
         "showlegend": true,
         "type": "scatter",
         "x": [
          33360000,
          22713216
         ],
         "xaxis": "x",
         "y": [
          1.5355134818486393,
          1.4535947753573752
         ],
         "yaxis": "y"
        },
        {
         "customdata": [
          [
           "gtr-t5"
          ],
          [
           "gtr-t5"
          ]
         ],
         "hovertemplate": "Number of Parameters=%{x}<br>Gain Percentage (%)=%{y}<extra></extra>",
         "legendgroup": "gtr-t5",
         "marker": {
          "color": "#2CA02C",
          "line": {
           "width": 5
          },
          "size": 10,
          "symbol": "circle"
         },
         "mode": "markers",
         "name": "gtr-t5",
         "orientation": "v",
         "showlegend": true,
         "type": "scatter",
         "x": [
          109628544,
          334939648
         ],
         "xaxis": "x",
         "y": [
          0.9887177057050456,
          1.9822656298706662
         ],
         "yaxis": "y"
        },
        {
         "customdata": [
          [
           "intfloat/e5"
          ],
          [
           "intfloat/e5"
          ],
          [
           "intfloat/e5"
          ]
         ],
         "hovertemplate": "Number of Parameters=%{x}<br>Gain Percentage (%)=%{y}<extra></extra>",
         "legendgroup": "intfloat/e5",
         "marker": {
          "color": "#D62728",
          "line": {
           "width": 5
          },
          "size": 10,
          "symbol": "circle"
         },
         "mode": "markers",
         "name": "intfloat/e5",
         "orientation": "v",
         "showlegend": true,
         "type": "scatter",
         "x": [
          109482240,
          335141888,
          33360000
         ],
         "xaxis": "x",
         "y": [
          2.4962676635355536,
          3.138116141926963,
          1.9465737160880614
         ],
         "yaxis": "y"
        },
        {
         "customdata": [
          [
           "intfloat/e5-v2"
          ],
          [
           "intfloat/e5-v2"
          ],
          [
           "intfloat/e5-v2"
          ]
         ],
         "hovertemplate": "Number of Parameters=%{x}<br>Gain Percentage (%)=%{y}<extra></extra>",
         "legendgroup": "intfloat/e5-v2",
         "marker": {
          "color": "#9467BD",
          "line": {
           "width": 5
          },
          "size": 10,
          "symbol": "circle"
         },
         "mode": "markers",
         "name": "intfloat/e5-v2",
         "orientation": "v",
         "showlegend": true,
         "type": "scatter",
         "x": [
          109482240,
          335141888,
          33360000
         ],
         "xaxis": "x",
         "y": [
          3.1044270714396154,
          3.7408890675563278,
          2.317452184069883
         ],
         "yaxis": "y"
        },
        {
         "customdata": [
          [
           "intfloat/multilingual-e5"
          ],
          [
           "intfloat/multilingual-e5"
          ],
          [
           "intfloat/multilingual-e5"
          ]
         ],
         "hovertemplate": "Number of Parameters=%{x}<br>Gain Percentage (%)=%{y}<extra></extra>",
         "legendgroup": "intfloat/multilingual-e5",
         "marker": {
          "color": "#8C564B",
          "line": {
           "width": 5
          },
          "size": 10,
          "symbol": "circle"
         },
         "mode": "markers",
         "name": "intfloat/multilingual-e5",
         "orientation": "v",
         "showlegend": true,
         "type": "scatter",
         "x": [
          278043648,
          559890432,
          117653760
         ],
         "xaxis": "x",
         "y": [
          1.927332795135668,
          2.3966143790890895,
          1.5996534973575016
         ],
         "yaxis": "y"
        },
        {
         "customdata": [
          [
           "sentence-t5"
          ],
          [
           "sentence-t5"
          ]
         ],
         "hovertemplate": "Number of Parameters=%{x}<br>Gain Percentage (%)=%{y}<extra></extra>",
         "legendgroup": "sentence-t5",
         "marker": {
          "color": "#E377C2",
          "line": {
           "width": 5
          },
          "size": 10,
          "symbol": "circle"
         },
         "mode": "markers",
         "name": "sentence-t5",
         "orientation": "v",
         "showlegend": true,
         "type": "scatter",
         "x": [
          109628544,
          334939648
         ],
         "xaxis": "x",
         "y": [
          1.8951957320691462,
          2.662108490533682
         ],
         "yaxis": "y"
        },
        {
         "customdata": [
          [
           "thenlper/gte"
          ],
          [
           "thenlper/gte"
          ],
          [
           "thenlper/gte"
          ]
         ],
         "hovertemplate": "Number of Parameters=%{x}<br>Gain Percentage (%)=%{y}<extra></extra>",
         "legendgroup": "thenlper/gte",
         "marker": {
          "color": "#7F7F7F",
          "line": {
           "width": 5
          },
          "size": 10,
          "symbol": "circle"
         },
         "mode": "markers",
         "name": "thenlper/gte",
         "orientation": "v",
         "showlegend": true,
         "type": "scatter",
         "x": [
          109482240,
          335141888,
          33360000
         ],
         "xaxis": "x",
         "y": [
          2.2770879997116427,
          2.7356275202898908,
          2.2543830915400966
         ],
         "yaxis": "y"
        },
        {
         "hovertemplate": "Number of Parameters: %{x}<br>Gain Percentage: %{y}%",
         "line": {
          "color": "#1F77B4",
          "width": 2
         },
         "mode": "lines",
         "name": "BAAI/bge-v1.5",
         "type": "scatter",
         "x": [
          33360000,
          335141888
         ],
         "y": [
          2.1060885299234493,
          3.1653443160061085
         ]
        },
        {
         "hovertemplate": "Number of Parameters: %{x}<br>Gain Percentage: %{y}%",
         "line": {
          "color": "#FF7F0E",
          "width": 2
         },
         "mode": "lines",
         "name": "all-MiniLM-v2",
         "type": "scatter",
         "x": [
          22713216,
          33360000
         ],
         "y": [
          1.4535947753573752,
          1.5355134818486393
         ]
        },
        {
         "hovertemplate": "Number of Parameters: %{x}<br>Gain Percentage: %{y}%",
         "line": {
          "color": "#2CA02C",
          "width": 2
         },
         "mode": "lines",
         "name": "gtr-t5",
         "type": "scatter",
         "x": [
          109628544,
          334939648
         ],
         "y": [
          0.9887177057050456,
          1.9822656298706662
         ]
        },
        {
         "hovertemplate": "Number of Parameters: %{x}<br>Gain Percentage: %{y}%",
         "line": {
          "color": "#D62728",
          "width": 2
         },
         "mode": "lines",
         "name": "intfloat/e5",
         "type": "scatter",
         "x": [
          33360000,
          109482240,
          335141888
         ],
         "y": [
          1.9465737160880614,
          2.4962676635355536,
          3.138116141926963
         ]
        },
        {
         "hovertemplate": "Number of Parameters: %{x}<br>Gain Percentage: %{y}%",
         "line": {
          "color": "#9467BD",
          "width": 2
         },
         "mode": "lines",
         "name": "intfloat/e5-v2",
         "type": "scatter",
         "x": [
          33360000,
          109482240,
          335141888
         ],
         "y": [
          2.317452184069883,
          3.1044270714396154,
          3.7408890675563278
         ]
        },
        {
         "hovertemplate": "Number of Parameters: %{x}<br>Gain Percentage: %{y}%",
         "line": {
          "color": "#8C564B",
          "width": 2
         },
         "mode": "lines",
         "name": "intfloat/multilingual-e5",
         "type": "scatter",
         "x": [
          117653760,
          278043648,
          559890432
         ],
         "y": [
          1.5996534973575016,
          1.927332795135668,
          2.3966143790890895
         ]
        },
        {
         "hovertemplate": "Number of Parameters: %{x}<br>Gain Percentage: %{y}%",
         "line": {
          "color": "#E377C2",
          "width": 2
         },
         "mode": "lines",
         "name": "sentence-t5",
         "type": "scatter",
         "x": [
          109628544,
          334939648
         ],
         "y": [
          1.8951957320691462,
          2.662108490533682
         ]
        },
        {
         "hovertemplate": "Number of Parameters: %{x}<br>Gain Percentage: %{y}%",
         "line": {
          "color": "#7F7F7F",
          "width": 2
         },
         "mode": "lines",
         "name": "thenlper/gte",
         "type": "scatter",
         "x": [
          33360000,
          109482240,
          335141888
         ],
         "y": [
          2.2543830915400966,
          2.2770879997116427,
          2.7356275202898908
         ]
        }
       ],
       "layout": {
        "legend": {
         "orientation": "v",
         "title": {
          "text": "family"
         },
         "tracegroupgap": 0,
         "x": 0.01,
         "xanchor": "left",
         "y": 0.95,
         "yanchor": "top"
        },
        "template": {
         "data": {
          "bar": [
           {
            "error_x": {
             "color": "rgb(36,36,36)"
            },
            "error_y": {
             "color": "rgb(36,36,36)"
            },
            "marker": {
             "line": {
              "color": "white",
              "width": 0.5
             },
             "pattern": {
              "fillmode": "overlay",
              "size": 10,
              "solidity": 0.2
             }
            },
            "type": "bar"
           }
          ],
          "barpolar": [
           {
            "marker": {
             "line": {
              "color": "white",
              "width": 0.5
             },
             "pattern": {
              "fillmode": "overlay",
              "size": 10,
              "solidity": 0.2
             }
            },
            "type": "barpolar"
           }
          ],
          "carpet": [
           {
            "aaxis": {
             "endlinecolor": "rgb(36,36,36)",
             "gridcolor": "white",
             "linecolor": "white",
             "minorgridcolor": "white",
             "startlinecolor": "rgb(36,36,36)"
            },
            "baxis": {
             "endlinecolor": "rgb(36,36,36)",
             "gridcolor": "white",
             "linecolor": "white",
             "minorgridcolor": "white",
             "startlinecolor": "rgb(36,36,36)"
            },
            "type": "carpet"
           }
          ],
          "choropleth": [
           {
            "colorbar": {
             "outlinewidth": 1,
             "tickcolor": "rgb(36,36,36)",
             "ticks": "outside"
            },
            "type": "choropleth"
           }
          ],
          "contour": [
           {
            "colorbar": {
             "outlinewidth": 1,
             "tickcolor": "rgb(36,36,36)",
             "ticks": "outside"
            },
            "colorscale": [
             [
              0,
              "#440154"
             ],
             [
              0.1111111111111111,
              "#482878"
             ],
             [
              0.2222222222222222,
              "#3e4989"
             ],
             [
              0.3333333333333333,
              "#31688e"
             ],
             [
              0.4444444444444444,
              "#26828e"
             ],
             [
              0.5555555555555556,
              "#1f9e89"
             ],
             [
              0.6666666666666666,
              "#35b779"
             ],
             [
              0.7777777777777778,
              "#6ece58"
             ],
             [
              0.8888888888888888,
              "#b5de2b"
             ],
             [
              1,
              "#fde725"
             ]
            ],
            "type": "contour"
           }
          ],
          "contourcarpet": [
           {
            "colorbar": {
             "outlinewidth": 1,
             "tickcolor": "rgb(36,36,36)",
             "ticks": "outside"
            },
            "type": "contourcarpet"
           }
          ],
          "heatmap": [
           {
            "colorbar": {
             "outlinewidth": 1,
             "tickcolor": "rgb(36,36,36)",
             "ticks": "outside"
            },
            "colorscale": [
             [
              0,
              "#440154"
             ],
             [
              0.1111111111111111,
              "#482878"
             ],
             [
              0.2222222222222222,
              "#3e4989"
             ],
             [
              0.3333333333333333,
              "#31688e"
             ],
             [
              0.4444444444444444,
              "#26828e"
             ],
             [
              0.5555555555555556,
              "#1f9e89"
             ],
             [
              0.6666666666666666,
              "#35b779"
             ],
             [
              0.7777777777777778,
              "#6ece58"
             ],
             [
              0.8888888888888888,
              "#b5de2b"
             ],
             [
              1,
              "#fde725"
             ]
            ],
            "type": "heatmap"
           }
          ],
          "heatmapgl": [
           {
            "colorbar": {
             "outlinewidth": 1,
             "tickcolor": "rgb(36,36,36)",
             "ticks": "outside"
            },
            "colorscale": [
             [
              0,
              "#440154"
             ],
             [
              0.1111111111111111,
              "#482878"
             ],
             [
              0.2222222222222222,
              "#3e4989"
             ],
             [
              0.3333333333333333,
              "#31688e"
             ],
             [
              0.4444444444444444,
              "#26828e"
             ],
             [
              0.5555555555555556,
              "#1f9e89"
             ],
             [
              0.6666666666666666,
              "#35b779"
             ],
             [
              0.7777777777777778,
              "#6ece58"
             ],
             [
              0.8888888888888888,
              "#b5de2b"
             ],
             [
              1,
              "#fde725"
             ]
            ],
            "type": "heatmapgl"
           }
          ],
          "histogram": [
           {
            "marker": {
             "line": {
              "color": "white",
              "width": 0.6
             }
            },
            "type": "histogram"
           }
          ],
          "histogram2d": [
           {
            "colorbar": {
             "outlinewidth": 1,
             "tickcolor": "rgb(36,36,36)",
             "ticks": "outside"
            },
            "colorscale": [
             [
              0,
              "#440154"
             ],
             [
              0.1111111111111111,
              "#482878"
             ],
             [
              0.2222222222222222,
              "#3e4989"
             ],
             [
              0.3333333333333333,
              "#31688e"
             ],
             [
              0.4444444444444444,
              "#26828e"
             ],
             [
              0.5555555555555556,
              "#1f9e89"
             ],
             [
              0.6666666666666666,
              "#35b779"
             ],
             [
              0.7777777777777778,
              "#6ece58"
             ],
             [
              0.8888888888888888,
              "#b5de2b"
             ],
             [
              1,
              "#fde725"
             ]
            ],
            "type": "histogram2d"
           }
          ],
          "histogram2dcontour": [
           {
            "colorbar": {
             "outlinewidth": 1,
             "tickcolor": "rgb(36,36,36)",
             "ticks": "outside"
            },
            "colorscale": [
             [
              0,
              "#440154"
             ],
             [
              0.1111111111111111,
              "#482878"
             ],
             [
              0.2222222222222222,
              "#3e4989"
             ],
             [
              0.3333333333333333,
              "#31688e"
             ],
             [
              0.4444444444444444,
              "#26828e"
             ],
             [
              0.5555555555555556,
              "#1f9e89"
             ],
             [
              0.6666666666666666,
              "#35b779"
             ],
             [
              0.7777777777777778,
              "#6ece58"
             ],
             [
              0.8888888888888888,
              "#b5de2b"
             ],
             [
              1,
              "#fde725"
             ]
            ],
            "type": "histogram2dcontour"
           }
          ],
          "mesh3d": [
           {
            "colorbar": {
             "outlinewidth": 1,
             "tickcolor": "rgb(36,36,36)",
             "ticks": "outside"
            },
            "type": "mesh3d"
           }
          ],
          "parcoords": [
           {
            "line": {
             "colorbar": {
              "outlinewidth": 1,
              "tickcolor": "rgb(36,36,36)",
              "ticks": "outside"
             }
            },
            "type": "parcoords"
           }
          ],
          "pie": [
           {
            "automargin": true,
            "type": "pie"
           }
          ],
          "scatter": [
           {
            "fillpattern": {
             "fillmode": "overlay",
             "size": 10,
             "solidity": 0.2
            },
            "type": "scatter"
           }
          ],
          "scatter3d": [
           {
            "line": {
             "colorbar": {
              "outlinewidth": 1,
              "tickcolor": "rgb(36,36,36)",
              "ticks": "outside"
             }
            },
            "marker": {
             "colorbar": {
              "outlinewidth": 1,
              "tickcolor": "rgb(36,36,36)",
              "ticks": "outside"
             }
            },
            "type": "scatter3d"
           }
          ],
          "scattercarpet": [
           {
            "marker": {
             "colorbar": {
              "outlinewidth": 1,
              "tickcolor": "rgb(36,36,36)",
              "ticks": "outside"
             }
            },
            "type": "scattercarpet"
           }
          ],
          "scattergeo": [
           {
            "marker": {
             "colorbar": {
              "outlinewidth": 1,
              "tickcolor": "rgb(36,36,36)",
              "ticks": "outside"
             }
            },
            "type": "scattergeo"
           }
          ],
          "scattergl": [
           {
            "marker": {
             "colorbar": {
              "outlinewidth": 1,
              "tickcolor": "rgb(36,36,36)",
              "ticks": "outside"
             }
            },
            "type": "scattergl"
           }
          ],
          "scattermapbox": [
           {
            "marker": {
             "colorbar": {
              "outlinewidth": 1,
              "tickcolor": "rgb(36,36,36)",
              "ticks": "outside"
             }
            },
            "type": "scattermapbox"
           }
          ],
          "scatterpolar": [
           {
            "marker": {
             "colorbar": {
              "outlinewidth": 1,
              "tickcolor": "rgb(36,36,36)",
              "ticks": "outside"
             }
            },
            "type": "scatterpolar"
           }
          ],
          "scatterpolargl": [
           {
            "marker": {
             "colorbar": {
              "outlinewidth": 1,
              "tickcolor": "rgb(36,36,36)",
              "ticks": "outside"
             }
            },
            "type": "scatterpolargl"
           }
          ],
          "scatterternary": [
           {
            "marker": {
             "colorbar": {
              "outlinewidth": 1,
              "tickcolor": "rgb(36,36,36)",
              "ticks": "outside"
             }
            },
            "type": "scatterternary"
           }
          ],
          "surface": [
           {
            "colorbar": {
             "outlinewidth": 1,
             "tickcolor": "rgb(36,36,36)",
             "ticks": "outside"
            },
            "colorscale": [
             [
              0,
              "#440154"
             ],
             [
              0.1111111111111111,
              "#482878"
             ],
             [
              0.2222222222222222,
              "#3e4989"
             ],
             [
              0.3333333333333333,
              "#31688e"
             ],
             [
              0.4444444444444444,
              "#26828e"
             ],
             [
              0.5555555555555556,
              "#1f9e89"
             ],
             [
              0.6666666666666666,
              "#35b779"
             ],
             [
              0.7777777777777778,
              "#6ece58"
             ],
             [
              0.8888888888888888,
              "#b5de2b"
             ],
             [
              1,
              "#fde725"
             ]
            ],
            "type": "surface"
           }
          ],
          "table": [
           {
            "cells": {
             "fill": {
              "color": "rgb(237,237,237)"
             },
             "line": {
              "color": "white"
             }
            },
            "header": {
             "fill": {
              "color": "rgb(217,217,217)"
             },
             "line": {
              "color": "white"
             }
            },
            "type": "table"
           }
          ]
         },
         "layout": {
          "annotationdefaults": {
           "arrowhead": 0,
           "arrowwidth": 1
          },
          "autotypenumbers": "strict",
          "coloraxis": {
           "colorbar": {
            "outlinewidth": 1,
            "tickcolor": "rgb(36,36,36)",
            "ticks": "outside"
           }
          },
          "colorscale": {
           "diverging": [
            [
             0,
             "rgb(103,0,31)"
            ],
            [
             0.1,
             "rgb(178,24,43)"
            ],
            [
             0.2,
             "rgb(214,96,77)"
            ],
            [
             0.3,
             "rgb(244,165,130)"
            ],
            [
             0.4,
             "rgb(253,219,199)"
            ],
            [
             0.5,
             "rgb(247,247,247)"
            ],
            [
             0.6,
             "rgb(209,229,240)"
            ],
            [
             0.7,
             "rgb(146,197,222)"
            ],
            [
             0.8,
             "rgb(67,147,195)"
            ],
            [
             0.9,
             "rgb(33,102,172)"
            ],
            [
             1,
             "rgb(5,48,97)"
            ]
           ],
           "sequential": [
            [
             0,
             "#440154"
            ],
            [
             0.1111111111111111,
             "#482878"
            ],
            [
             0.2222222222222222,
             "#3e4989"
            ],
            [
             0.3333333333333333,
             "#31688e"
            ],
            [
             0.4444444444444444,
             "#26828e"
            ],
            [
             0.5555555555555556,
             "#1f9e89"
            ],
            [
             0.6666666666666666,
             "#35b779"
            ],
            [
             0.7777777777777778,
             "#6ece58"
            ],
            [
             0.8888888888888888,
             "#b5de2b"
            ],
            [
             1,
             "#fde725"
            ]
           ],
           "sequentialminus": [
            [
             0,
             "#440154"
            ],
            [
             0.1111111111111111,
             "#482878"
            ],
            [
             0.2222222222222222,
             "#3e4989"
            ],
            [
             0.3333333333333333,
             "#31688e"
            ],
            [
             0.4444444444444444,
             "#26828e"
            ],
            [
             0.5555555555555556,
             "#1f9e89"
            ],
            [
             0.6666666666666666,
             "#35b779"
            ],
            [
             0.7777777777777778,
             "#6ece58"
            ],
            [
             0.8888888888888888,
             "#b5de2b"
            ],
            [
             1,
             "#fde725"
            ]
           ]
          },
          "colorway": [
           "#1F77B4",
           "#FF7F0E",
           "#2CA02C",
           "#D62728",
           "#9467BD",
           "#8C564B",
           "#E377C2",
           "#7F7F7F",
           "#BCBD22",
           "#17BECF"
          ],
          "font": {
           "color": "rgb(36,36,36)"
          },
          "geo": {
           "bgcolor": "white",
           "lakecolor": "white",
           "landcolor": "white",
           "showlakes": true,
           "showland": true,
           "subunitcolor": "white"
          },
          "hoverlabel": {
           "align": "left"
          },
          "hovermode": "closest",
          "mapbox": {
           "style": "light"
          },
          "paper_bgcolor": "white",
          "plot_bgcolor": "white",
          "polar": {
           "angularaxis": {
            "gridcolor": "rgb(232,232,232)",
            "linecolor": "rgb(36,36,36)",
            "showgrid": false,
            "showline": true,
            "ticks": "outside"
           },
           "bgcolor": "white",
           "radialaxis": {
            "gridcolor": "rgb(232,232,232)",
            "linecolor": "rgb(36,36,36)",
            "showgrid": false,
            "showline": true,
            "ticks": "outside"
           }
          },
          "scene": {
           "xaxis": {
            "backgroundcolor": "white",
            "gridcolor": "rgb(232,232,232)",
            "gridwidth": 2,
            "linecolor": "rgb(36,36,36)",
            "showbackground": true,
            "showgrid": false,
            "showline": true,
            "ticks": "outside",
            "zeroline": false,
            "zerolinecolor": "rgb(36,36,36)"
           },
           "yaxis": {
            "backgroundcolor": "white",
            "gridcolor": "rgb(232,232,232)",
            "gridwidth": 2,
            "linecolor": "rgb(36,36,36)",
            "showbackground": true,
            "showgrid": false,
            "showline": true,
            "ticks": "outside",
            "zeroline": false,
            "zerolinecolor": "rgb(36,36,36)"
           },
           "zaxis": {
            "backgroundcolor": "white",
            "gridcolor": "rgb(232,232,232)",
            "gridwidth": 2,
            "linecolor": "rgb(36,36,36)",
            "showbackground": true,
            "showgrid": false,
            "showline": true,
            "ticks": "outside",
            "zeroline": false,
            "zerolinecolor": "rgb(36,36,36)"
           }
          },
          "shapedefaults": {
           "fillcolor": "black",
           "line": {
            "width": 0
           },
           "opacity": 0.3
          },
          "ternary": {
           "aaxis": {
            "gridcolor": "rgb(232,232,232)",
            "linecolor": "rgb(36,36,36)",
            "showgrid": false,
            "showline": true,
            "ticks": "outside"
           },
           "baxis": {
            "gridcolor": "rgb(232,232,232)",
            "linecolor": "rgb(36,36,36)",
            "showgrid": false,
            "showline": true,
            "ticks": "outside"
           },
           "bgcolor": "white",
           "caxis": {
            "gridcolor": "rgb(232,232,232)",
            "linecolor": "rgb(36,36,36)",
            "showgrid": false,
            "showline": true,
            "ticks": "outside"
           }
          },
          "title": {
           "x": 0.05
          },
          "xaxis": {
           "automargin": true,
           "gridcolor": "rgb(232,232,232)",
           "linecolor": "rgb(36,36,36)",
           "showgrid": false,
           "showline": true,
           "ticks": "outside",
           "title": {
            "standoff": 15
           },
           "zeroline": false,
           "zerolinecolor": "rgb(36,36,36)"
          },
          "yaxis": {
           "automargin": true,
           "gridcolor": "rgb(232,232,232)",
           "linecolor": "rgb(36,36,36)",
           "showgrid": false,
           "showline": true,
           "ticks": "outside",
           "title": {
            "standoff": 15
           },
           "zeroline": false,
           "zerolinecolor": "rgb(36,36,36)"
          }
         }
        },
        "title": {
         "text": "ROC-AUC Gain over Skrub"
        },
        "xaxis": {
         "anchor": "y",
         "domain": [
          0,
          1
         ],
         "title": {
          "text": "Number of Parameters"
         },
         "type": "log"
        },
        "yaxis": {
         "anchor": "x",
         "domain": [
          0,
          1
         ],
         "title": {
          "text": "Gain Percentage (%)"
         }
        }
       }
      },
      "text/html": [
       "<div>                            <div id=\"8e713486-21bf-49f9-af0a-2d9160966af4\" class=\"plotly-graph-div\" style=\"height:525px; width:100%;\"></div>            <script type=\"text/javascript\">                require([\"plotly\"], function(Plotly) {                    window.PLOTLYENV=window.PLOTLYENV || {};                                    if (document.getElementById(\"8e713486-21bf-49f9-af0a-2d9160966af4\")) {                    Plotly.newPlot(                        \"8e713486-21bf-49f9-af0a-2d9160966af4\",                        [{\"customdata\":[[\"BAAI\\u002fbge-v1.5\"],[\"BAAI\\u002fbge-v1.5\"]],\"hovertemplate\":\"Number of Parameters=%{x}\\u003cbr\\u003eGain Percentage (%)=%{y}\\u003cextra\\u003e\\u003c\\u002fextra\\u003e\",\"legendgroup\":\"BAAI\\u002fbge-v1.5\",\"marker\":{\"color\":\"#1F77B4\",\"symbol\":\"circle\",\"size\":10,\"line\":{\"width\":5}},\"mode\":\"markers\",\"name\":\"BAAI\\u002fbge-v1.5\",\"orientation\":\"v\",\"showlegend\":true,\"x\":[335141888,33360000],\"xaxis\":\"x\",\"y\":[3.1653443160061085,2.1060885299234493],\"yaxis\":\"y\",\"type\":\"scatter\"},{\"customdata\":[[\"all-MiniLM-v2\"],[\"all-MiniLM-v2\"]],\"hovertemplate\":\"Number of Parameters=%{x}\\u003cbr\\u003eGain Percentage (%)=%{y}\\u003cextra\\u003e\\u003c\\u002fextra\\u003e\",\"legendgroup\":\"all-MiniLM-v2\",\"marker\":{\"color\":\"#FF7F0E\",\"symbol\":\"circle\",\"size\":10,\"line\":{\"width\":5}},\"mode\":\"markers\",\"name\":\"all-MiniLM-v2\",\"orientation\":\"v\",\"showlegend\":true,\"x\":[33360000,22713216],\"xaxis\":\"x\",\"y\":[1.5355134818486393,1.4535947753573752],\"yaxis\":\"y\",\"type\":\"scatter\"},{\"customdata\":[[\"gtr-t5\"],[\"gtr-t5\"]],\"hovertemplate\":\"Number of Parameters=%{x}\\u003cbr\\u003eGain Percentage (%)=%{y}\\u003cextra\\u003e\\u003c\\u002fextra\\u003e\",\"legendgroup\":\"gtr-t5\",\"marker\":{\"color\":\"#2CA02C\",\"symbol\":\"circle\",\"size\":10,\"line\":{\"width\":5}},\"mode\":\"markers\",\"name\":\"gtr-t5\",\"orientation\":\"v\",\"showlegend\":true,\"x\":[109628544,334939648],\"xaxis\":\"x\",\"y\":[0.9887177057050456,1.9822656298706662],\"yaxis\":\"y\",\"type\":\"scatter\"},{\"customdata\":[[\"intfloat\\u002fe5\"],[\"intfloat\\u002fe5\"],[\"intfloat\\u002fe5\"]],\"hovertemplate\":\"Number of Parameters=%{x}\\u003cbr\\u003eGain Percentage (%)=%{y}\\u003cextra\\u003e\\u003c\\u002fextra\\u003e\",\"legendgroup\":\"intfloat\\u002fe5\",\"marker\":{\"color\":\"#D62728\",\"symbol\":\"circle\",\"size\":10,\"line\":{\"width\":5}},\"mode\":\"markers\",\"name\":\"intfloat\\u002fe5\",\"orientation\":\"v\",\"showlegend\":true,\"x\":[109482240,335141888,33360000],\"xaxis\":\"x\",\"y\":[2.4962676635355536,3.138116141926963,1.9465737160880614],\"yaxis\":\"y\",\"type\":\"scatter\"},{\"customdata\":[[\"intfloat\\u002fe5-v2\"],[\"intfloat\\u002fe5-v2\"],[\"intfloat\\u002fe5-v2\"]],\"hovertemplate\":\"Number of Parameters=%{x}\\u003cbr\\u003eGain Percentage (%)=%{y}\\u003cextra\\u003e\\u003c\\u002fextra\\u003e\",\"legendgroup\":\"intfloat\\u002fe5-v2\",\"marker\":{\"color\":\"#9467BD\",\"symbol\":\"circle\",\"size\":10,\"line\":{\"width\":5}},\"mode\":\"markers\",\"name\":\"intfloat\\u002fe5-v2\",\"orientation\":\"v\",\"showlegend\":true,\"x\":[109482240,335141888,33360000],\"xaxis\":\"x\",\"y\":[3.1044270714396154,3.7408890675563278,2.317452184069883],\"yaxis\":\"y\",\"type\":\"scatter\"},{\"customdata\":[[\"intfloat\\u002fmultilingual-e5\"],[\"intfloat\\u002fmultilingual-e5\"],[\"intfloat\\u002fmultilingual-e5\"]],\"hovertemplate\":\"Number of Parameters=%{x}\\u003cbr\\u003eGain Percentage (%)=%{y}\\u003cextra\\u003e\\u003c\\u002fextra\\u003e\",\"legendgroup\":\"intfloat\\u002fmultilingual-e5\",\"marker\":{\"color\":\"#8C564B\",\"symbol\":\"circle\",\"size\":10,\"line\":{\"width\":5}},\"mode\":\"markers\",\"name\":\"intfloat\\u002fmultilingual-e5\",\"orientation\":\"v\",\"showlegend\":true,\"x\":[278043648,559890432,117653760],\"xaxis\":\"x\",\"y\":[1.927332795135668,2.3966143790890895,1.5996534973575016],\"yaxis\":\"y\",\"type\":\"scatter\"},{\"customdata\":[[\"sentence-t5\"],[\"sentence-t5\"]],\"hovertemplate\":\"Number of Parameters=%{x}\\u003cbr\\u003eGain Percentage (%)=%{y}\\u003cextra\\u003e\\u003c\\u002fextra\\u003e\",\"legendgroup\":\"sentence-t5\",\"marker\":{\"color\":\"#E377C2\",\"symbol\":\"circle\",\"size\":10,\"line\":{\"width\":5}},\"mode\":\"markers\",\"name\":\"sentence-t5\",\"orientation\":\"v\",\"showlegend\":true,\"x\":[109628544,334939648],\"xaxis\":\"x\",\"y\":[1.8951957320691462,2.662108490533682],\"yaxis\":\"y\",\"type\":\"scatter\"},{\"customdata\":[[\"thenlper\\u002fgte\"],[\"thenlper\\u002fgte\"],[\"thenlper\\u002fgte\"]],\"hovertemplate\":\"Number of Parameters=%{x}\\u003cbr\\u003eGain Percentage (%)=%{y}\\u003cextra\\u003e\\u003c\\u002fextra\\u003e\",\"legendgroup\":\"thenlper\\u002fgte\",\"marker\":{\"color\":\"#7F7F7F\",\"symbol\":\"circle\",\"size\":10,\"line\":{\"width\":5}},\"mode\":\"markers\",\"name\":\"thenlper\\u002fgte\",\"orientation\":\"v\",\"showlegend\":true,\"x\":[109482240,335141888,33360000],\"xaxis\":\"x\",\"y\":[2.2770879997116427,2.7356275202898908,2.2543830915400966],\"yaxis\":\"y\",\"type\":\"scatter\"},{\"hovertemplate\":\"Number of Parameters: %{x}\\u003cbr\\u003eGain Percentage: %{y}%\",\"line\":{\"color\":\"#1F77B4\",\"width\":2},\"mode\":\"lines\",\"name\":\"BAAI\\u002fbge-v1.5\",\"x\":[33360000,335141888],\"y\":[2.1060885299234493,3.1653443160061085],\"type\":\"scatter\"},{\"hovertemplate\":\"Number of Parameters: %{x}\\u003cbr\\u003eGain Percentage: %{y}%\",\"line\":{\"color\":\"#FF7F0E\",\"width\":2},\"mode\":\"lines\",\"name\":\"all-MiniLM-v2\",\"x\":[22713216,33360000],\"y\":[1.4535947753573752,1.5355134818486393],\"type\":\"scatter\"},{\"hovertemplate\":\"Number of Parameters: %{x}\\u003cbr\\u003eGain Percentage: %{y}%\",\"line\":{\"color\":\"#2CA02C\",\"width\":2},\"mode\":\"lines\",\"name\":\"gtr-t5\",\"x\":[109628544,334939648],\"y\":[0.9887177057050456,1.9822656298706662],\"type\":\"scatter\"},{\"hovertemplate\":\"Number of Parameters: %{x}\\u003cbr\\u003eGain Percentage: %{y}%\",\"line\":{\"color\":\"#D62728\",\"width\":2},\"mode\":\"lines\",\"name\":\"intfloat\\u002fe5\",\"x\":[33360000,109482240,335141888],\"y\":[1.9465737160880614,2.4962676635355536,3.138116141926963],\"type\":\"scatter\"},{\"hovertemplate\":\"Number of Parameters: %{x}\\u003cbr\\u003eGain Percentage: %{y}%\",\"line\":{\"color\":\"#9467BD\",\"width\":2},\"mode\":\"lines\",\"name\":\"intfloat\\u002fe5-v2\",\"x\":[33360000,109482240,335141888],\"y\":[2.317452184069883,3.1044270714396154,3.7408890675563278],\"type\":\"scatter\"},{\"hovertemplate\":\"Number of Parameters: %{x}\\u003cbr\\u003eGain Percentage: %{y}%\",\"line\":{\"color\":\"#8C564B\",\"width\":2},\"mode\":\"lines\",\"name\":\"intfloat\\u002fmultilingual-e5\",\"x\":[117653760,278043648,559890432],\"y\":[1.5996534973575016,1.927332795135668,2.3966143790890895],\"type\":\"scatter\"},{\"hovertemplate\":\"Number of Parameters: %{x}\\u003cbr\\u003eGain Percentage: %{y}%\",\"line\":{\"color\":\"#E377C2\",\"width\":2},\"mode\":\"lines\",\"name\":\"sentence-t5\",\"x\":[109628544,334939648],\"y\":[1.8951957320691462,2.662108490533682],\"type\":\"scatter\"},{\"hovertemplate\":\"Number of Parameters: %{x}\\u003cbr\\u003eGain Percentage: %{y}%\",\"line\":{\"color\":\"#7F7F7F\",\"width\":2},\"mode\":\"lines\",\"name\":\"thenlper\\u002fgte\",\"x\":[33360000,109482240,335141888],\"y\":[2.2543830915400966,2.2770879997116427,2.7356275202898908],\"type\":\"scatter\"}],                        {\"template\":{\"data\":{\"barpolar\":[{\"marker\":{\"line\":{\"color\":\"white\",\"width\":0.5},\"pattern\":{\"fillmode\":\"overlay\",\"size\":10,\"solidity\":0.2}},\"type\":\"barpolar\"}],\"bar\":[{\"error_x\":{\"color\":\"rgb(36,36,36)\"},\"error_y\":{\"color\":\"rgb(36,36,36)\"},\"marker\":{\"line\":{\"color\":\"white\",\"width\":0.5},\"pattern\":{\"fillmode\":\"overlay\",\"size\":10,\"solidity\":0.2}},\"type\":\"bar\"}],\"carpet\":[{\"aaxis\":{\"endlinecolor\":\"rgb(36,36,36)\",\"gridcolor\":\"white\",\"linecolor\":\"white\",\"minorgridcolor\":\"white\",\"startlinecolor\":\"rgb(36,36,36)\"},\"baxis\":{\"endlinecolor\":\"rgb(36,36,36)\",\"gridcolor\":\"white\",\"linecolor\":\"white\",\"minorgridcolor\":\"white\",\"startlinecolor\":\"rgb(36,36,36)\"},\"type\":\"carpet\"}],\"choropleth\":[{\"colorbar\":{\"outlinewidth\":1,\"tickcolor\":\"rgb(36,36,36)\",\"ticks\":\"outside\"},\"type\":\"choropleth\"}],\"contourcarpet\":[{\"colorbar\":{\"outlinewidth\":1,\"tickcolor\":\"rgb(36,36,36)\",\"ticks\":\"outside\"},\"type\":\"contourcarpet\"}],\"contour\":[{\"colorbar\":{\"outlinewidth\":1,\"tickcolor\":\"rgb(36,36,36)\",\"ticks\":\"outside\"},\"colorscale\":[[0.0,\"#440154\"],[0.1111111111111111,\"#482878\"],[0.2222222222222222,\"#3e4989\"],[0.3333333333333333,\"#31688e\"],[0.4444444444444444,\"#26828e\"],[0.5555555555555556,\"#1f9e89\"],[0.6666666666666666,\"#35b779\"],[0.7777777777777778,\"#6ece58\"],[0.8888888888888888,\"#b5de2b\"],[1.0,\"#fde725\"]],\"type\":\"contour\"}],\"heatmapgl\":[{\"colorbar\":{\"outlinewidth\":1,\"tickcolor\":\"rgb(36,36,36)\",\"ticks\":\"outside\"},\"colorscale\":[[0.0,\"#440154\"],[0.1111111111111111,\"#482878\"],[0.2222222222222222,\"#3e4989\"],[0.3333333333333333,\"#31688e\"],[0.4444444444444444,\"#26828e\"],[0.5555555555555556,\"#1f9e89\"],[0.6666666666666666,\"#35b779\"],[0.7777777777777778,\"#6ece58\"],[0.8888888888888888,\"#b5de2b\"],[1.0,\"#fde725\"]],\"type\":\"heatmapgl\"}],\"heatmap\":[{\"colorbar\":{\"outlinewidth\":1,\"tickcolor\":\"rgb(36,36,36)\",\"ticks\":\"outside\"},\"colorscale\":[[0.0,\"#440154\"],[0.1111111111111111,\"#482878\"],[0.2222222222222222,\"#3e4989\"],[0.3333333333333333,\"#31688e\"],[0.4444444444444444,\"#26828e\"],[0.5555555555555556,\"#1f9e89\"],[0.6666666666666666,\"#35b779\"],[0.7777777777777778,\"#6ece58\"],[0.8888888888888888,\"#b5de2b\"],[1.0,\"#fde725\"]],\"type\":\"heatmap\"}],\"histogram2dcontour\":[{\"colorbar\":{\"outlinewidth\":1,\"tickcolor\":\"rgb(36,36,36)\",\"ticks\":\"outside\"},\"colorscale\":[[0.0,\"#440154\"],[0.1111111111111111,\"#482878\"],[0.2222222222222222,\"#3e4989\"],[0.3333333333333333,\"#31688e\"],[0.4444444444444444,\"#26828e\"],[0.5555555555555556,\"#1f9e89\"],[0.6666666666666666,\"#35b779\"],[0.7777777777777778,\"#6ece58\"],[0.8888888888888888,\"#b5de2b\"],[1.0,\"#fde725\"]],\"type\":\"histogram2dcontour\"}],\"histogram2d\":[{\"colorbar\":{\"outlinewidth\":1,\"tickcolor\":\"rgb(36,36,36)\",\"ticks\":\"outside\"},\"colorscale\":[[0.0,\"#440154\"],[0.1111111111111111,\"#482878\"],[0.2222222222222222,\"#3e4989\"],[0.3333333333333333,\"#31688e\"],[0.4444444444444444,\"#26828e\"],[0.5555555555555556,\"#1f9e89\"],[0.6666666666666666,\"#35b779\"],[0.7777777777777778,\"#6ece58\"],[0.8888888888888888,\"#b5de2b\"],[1.0,\"#fde725\"]],\"type\":\"histogram2d\"}],\"histogram\":[{\"marker\":{\"line\":{\"color\":\"white\",\"width\":0.6}},\"type\":\"histogram\"}],\"mesh3d\":[{\"colorbar\":{\"outlinewidth\":1,\"tickcolor\":\"rgb(36,36,36)\",\"ticks\":\"outside\"},\"type\":\"mesh3d\"}],\"parcoords\":[{\"line\":{\"colorbar\":{\"outlinewidth\":1,\"tickcolor\":\"rgb(36,36,36)\",\"ticks\":\"outside\"}},\"type\":\"parcoords\"}],\"pie\":[{\"automargin\":true,\"type\":\"pie\"}],\"scatter3d\":[{\"line\":{\"colorbar\":{\"outlinewidth\":1,\"tickcolor\":\"rgb(36,36,36)\",\"ticks\":\"outside\"}},\"marker\":{\"colorbar\":{\"outlinewidth\":1,\"tickcolor\":\"rgb(36,36,36)\",\"ticks\":\"outside\"}},\"type\":\"scatter3d\"}],\"scattercarpet\":[{\"marker\":{\"colorbar\":{\"outlinewidth\":1,\"tickcolor\":\"rgb(36,36,36)\",\"ticks\":\"outside\"}},\"type\":\"scattercarpet\"}],\"scattergeo\":[{\"marker\":{\"colorbar\":{\"outlinewidth\":1,\"tickcolor\":\"rgb(36,36,36)\",\"ticks\":\"outside\"}},\"type\":\"scattergeo\"}],\"scattergl\":[{\"marker\":{\"colorbar\":{\"outlinewidth\":1,\"tickcolor\":\"rgb(36,36,36)\",\"ticks\":\"outside\"}},\"type\":\"scattergl\"}],\"scattermapbox\":[{\"marker\":{\"colorbar\":{\"outlinewidth\":1,\"tickcolor\":\"rgb(36,36,36)\",\"ticks\":\"outside\"}},\"type\":\"scattermapbox\"}],\"scatterpolargl\":[{\"marker\":{\"colorbar\":{\"outlinewidth\":1,\"tickcolor\":\"rgb(36,36,36)\",\"ticks\":\"outside\"}},\"type\":\"scatterpolargl\"}],\"scatterpolar\":[{\"marker\":{\"colorbar\":{\"outlinewidth\":1,\"tickcolor\":\"rgb(36,36,36)\",\"ticks\":\"outside\"}},\"type\":\"scatterpolar\"}],\"scatter\":[{\"fillpattern\":{\"fillmode\":\"overlay\",\"size\":10,\"solidity\":0.2},\"type\":\"scatter\"}],\"scatterternary\":[{\"marker\":{\"colorbar\":{\"outlinewidth\":1,\"tickcolor\":\"rgb(36,36,36)\",\"ticks\":\"outside\"}},\"type\":\"scatterternary\"}],\"surface\":[{\"colorbar\":{\"outlinewidth\":1,\"tickcolor\":\"rgb(36,36,36)\",\"ticks\":\"outside\"},\"colorscale\":[[0.0,\"#440154\"],[0.1111111111111111,\"#482878\"],[0.2222222222222222,\"#3e4989\"],[0.3333333333333333,\"#31688e\"],[0.4444444444444444,\"#26828e\"],[0.5555555555555556,\"#1f9e89\"],[0.6666666666666666,\"#35b779\"],[0.7777777777777778,\"#6ece58\"],[0.8888888888888888,\"#b5de2b\"],[1.0,\"#fde725\"]],\"type\":\"surface\"}],\"table\":[{\"cells\":{\"fill\":{\"color\":\"rgb(237,237,237)\"},\"line\":{\"color\":\"white\"}},\"header\":{\"fill\":{\"color\":\"rgb(217,217,217)\"},\"line\":{\"color\":\"white\"}},\"type\":\"table\"}]},\"layout\":{\"annotationdefaults\":{\"arrowhead\":0,\"arrowwidth\":1},\"autotypenumbers\":\"strict\",\"coloraxis\":{\"colorbar\":{\"outlinewidth\":1,\"tickcolor\":\"rgb(36,36,36)\",\"ticks\":\"outside\"}},\"colorscale\":{\"diverging\":[[0.0,\"rgb(103,0,31)\"],[0.1,\"rgb(178,24,43)\"],[0.2,\"rgb(214,96,77)\"],[0.3,\"rgb(244,165,130)\"],[0.4,\"rgb(253,219,199)\"],[0.5,\"rgb(247,247,247)\"],[0.6,\"rgb(209,229,240)\"],[0.7,\"rgb(146,197,222)\"],[0.8,\"rgb(67,147,195)\"],[0.9,\"rgb(33,102,172)\"],[1.0,\"rgb(5,48,97)\"]],\"sequential\":[[0.0,\"#440154\"],[0.1111111111111111,\"#482878\"],[0.2222222222222222,\"#3e4989\"],[0.3333333333333333,\"#31688e\"],[0.4444444444444444,\"#26828e\"],[0.5555555555555556,\"#1f9e89\"],[0.6666666666666666,\"#35b779\"],[0.7777777777777778,\"#6ece58\"],[0.8888888888888888,\"#b5de2b\"],[1.0,\"#fde725\"]],\"sequentialminus\":[[0.0,\"#440154\"],[0.1111111111111111,\"#482878\"],[0.2222222222222222,\"#3e4989\"],[0.3333333333333333,\"#31688e\"],[0.4444444444444444,\"#26828e\"],[0.5555555555555556,\"#1f9e89\"],[0.6666666666666666,\"#35b779\"],[0.7777777777777778,\"#6ece58\"],[0.8888888888888888,\"#b5de2b\"],[1.0,\"#fde725\"]]},\"colorway\":[\"#1F77B4\",\"#FF7F0E\",\"#2CA02C\",\"#D62728\",\"#9467BD\",\"#8C564B\",\"#E377C2\",\"#7F7F7F\",\"#BCBD22\",\"#17BECF\"],\"font\":{\"color\":\"rgb(36,36,36)\"},\"geo\":{\"bgcolor\":\"white\",\"lakecolor\":\"white\",\"landcolor\":\"white\",\"showlakes\":true,\"showland\":true,\"subunitcolor\":\"white\"},\"hoverlabel\":{\"align\":\"left\"},\"hovermode\":\"closest\",\"mapbox\":{\"style\":\"light\"},\"paper_bgcolor\":\"white\",\"plot_bgcolor\":\"white\",\"polar\":{\"angularaxis\":{\"gridcolor\":\"rgb(232,232,232)\",\"linecolor\":\"rgb(36,36,36)\",\"showgrid\":false,\"showline\":true,\"ticks\":\"outside\"},\"bgcolor\":\"white\",\"radialaxis\":{\"gridcolor\":\"rgb(232,232,232)\",\"linecolor\":\"rgb(36,36,36)\",\"showgrid\":false,\"showline\":true,\"ticks\":\"outside\"}},\"scene\":{\"xaxis\":{\"backgroundcolor\":\"white\",\"gridcolor\":\"rgb(232,232,232)\",\"gridwidth\":2,\"linecolor\":\"rgb(36,36,36)\",\"showbackground\":true,\"showgrid\":false,\"showline\":true,\"ticks\":\"outside\",\"zeroline\":false,\"zerolinecolor\":\"rgb(36,36,36)\"},\"yaxis\":{\"backgroundcolor\":\"white\",\"gridcolor\":\"rgb(232,232,232)\",\"gridwidth\":2,\"linecolor\":\"rgb(36,36,36)\",\"showbackground\":true,\"showgrid\":false,\"showline\":true,\"ticks\":\"outside\",\"zeroline\":false,\"zerolinecolor\":\"rgb(36,36,36)\"},\"zaxis\":{\"backgroundcolor\":\"white\",\"gridcolor\":\"rgb(232,232,232)\",\"gridwidth\":2,\"linecolor\":\"rgb(36,36,36)\",\"showbackground\":true,\"showgrid\":false,\"showline\":true,\"ticks\":\"outside\",\"zeroline\":false,\"zerolinecolor\":\"rgb(36,36,36)\"}},\"shapedefaults\":{\"fillcolor\":\"black\",\"line\":{\"width\":0},\"opacity\":0.3},\"ternary\":{\"aaxis\":{\"gridcolor\":\"rgb(232,232,232)\",\"linecolor\":\"rgb(36,36,36)\",\"showgrid\":false,\"showline\":true,\"ticks\":\"outside\"},\"baxis\":{\"gridcolor\":\"rgb(232,232,232)\",\"linecolor\":\"rgb(36,36,36)\",\"showgrid\":false,\"showline\":true,\"ticks\":\"outside\"},\"bgcolor\":\"white\",\"caxis\":{\"gridcolor\":\"rgb(232,232,232)\",\"linecolor\":\"rgb(36,36,36)\",\"showgrid\":false,\"showline\":true,\"ticks\":\"outside\"}},\"title\":{\"x\":0.05},\"xaxis\":{\"automargin\":true,\"gridcolor\":\"rgb(232,232,232)\",\"linecolor\":\"rgb(36,36,36)\",\"showgrid\":false,\"showline\":true,\"ticks\":\"outside\",\"title\":{\"standoff\":15},\"zeroline\":false,\"zerolinecolor\":\"rgb(36,36,36)\"},\"yaxis\":{\"automargin\":true,\"gridcolor\":\"rgb(232,232,232)\",\"linecolor\":\"rgb(36,36,36)\",\"showgrid\":false,\"showline\":true,\"ticks\":\"outside\",\"title\":{\"standoff\":15},\"zeroline\":false,\"zerolinecolor\":\"rgb(36,36,36)\"}}},\"xaxis\":{\"anchor\":\"y\",\"domain\":[0.0,1.0],\"title\":{\"text\":\"Number of Parameters\"},\"type\":\"log\"},\"yaxis\":{\"anchor\":\"x\",\"domain\":[0.0,1.0],\"title\":{\"text\":\"Gain Percentage (%)\"}},\"legend\":{\"title\":{\"text\":\"family\"},\"tracegroupgap\":0,\"orientation\":\"v\",\"yanchor\":\"top\",\"y\":0.95,\"xanchor\":\"left\",\"x\":0.01},\"title\":{\"text\":\"ROC-AUC Gain over Skrub\"}},                        {\"responsive\": true}                    ).then(function(){\n",
       "                            \n",
       "var gd = document.getElementById('8e713486-21bf-49f9-af0a-2d9160966af4');\n",
       "var x = new MutationObserver(function (mutations, observer) {{\n",
       "        var display = window.getComputedStyle(gd).display;\n",
       "        if (!display || display === 'none') {{\n",
       "            console.log([gd, 'removed!']);\n",
       "            Plotly.purge(gd);\n",
       "            observer.disconnect();\n",
       "        }}\n",
       "}});\n",
       "\n",
       "// Listen for the removal of the full notebook cells\n",
       "var notebookContainer = gd.closest('#notebook-container');\n",
       "if (notebookContainer) {{\n",
       "    x.observe(notebookContainer, {childList: true});\n",
       "}}\n",
       "\n",
       "// Listen for the clearing of the current output cell\n",
       "var outputEl = gd.closest('.output');\n",
       "if (outputEl) {{\n",
       "    x.observe(outputEl, {childList: true});\n",
       "}}\n",
       "\n",
       "                        })                };                });            </script>        </div>"
      ]
     },
     "metadata": {},
     "output_type": "display_data"
    }
   ],
   "source": [
    "import plotly.express as px\n",
    "import plotly.graph_objects as go\n",
    "\n",
    "# Create scatter plot\n",
    "fig = px.scatter(\n",
    "    merged_dataframe,\n",
    "    x = \"Number of Parameters\",\n",
    "    y = \"gain_percent\",\n",
    "    color=\"family\",\n",
    "    log_x=True,\n",
    "    title=\"ROC-AUC Gain over Skrub\",\n",
    "    labels={\n",
    "        #\"ngrams_div_by_nrows\": \"Number of Unique N-grams Divided by N-Rows (log scale)\",\n",
    "        \"gain_percent\": \"Gain Percentage (%)\",\n",
    "    },\n",
    "    template=\"simple_white\",\n",
    "    #color_discrete_sequence=px.colors.qualitative.Pastel1,  # Use a less vibrant color palette\n",
    "    hover_data={\"family\": False}  # Disable hover for scatter plot to avoid duplicate hover info with lines\n",
    ")\n",
    "\n",
    "# Reduce marker size and line width\n",
    "for trace in fig.data:\n",
    "    trace.marker.size = 10\n",
    "    trace.marker.line.width = 5\n",
    "\n",
    "# Extract color sequence used by Plotly Express\n",
    "color_discrete_map = {}\n",
    "for trace in fig.data:\n",
    "    color_discrete_map[trace.name] = trace.marker.color\n",
    "\n",
    "# Create lines with the same color sequence\n",
    "for prefix, group in merged_dataframe.groupby('family'):\n",
    "    # sort the group based on \"Number of Parameters\"\n",
    "    group_sorted = group.sort_values(\"Number of Parameters\")\n",
    "    fig.add_trace(\n",
    "        go.Scatter(\n",
    "            x=group_sorted[\"Number of Parameters\"], \n",
    "            y=group_sorted[\"gain_percent\"],\n",
    "            mode='lines',\n",
    "            line=dict(color=color_discrete_map[prefix], width=2),  # Reduce line width\n",
    "            name=prefix,\n",
    "            hovertemplate='Number of Parameters: %{x}<br>Gain Percentage: %{y}%'  # Customize hover info\n",
    "        )\n",
    "    )\n",
    "\n",
    "# Move legend to the side\n",
    "fig.update_layout(\n",
    "    legend=dict(\n",
    "        orientation=\"v\",\n",
    "        yanchor=\"top\",\n",
    "        y=0.95,\n",
    "        xanchor=\"left\",\n",
    "        x=0.01\n",
    "    )\n",
    ")\n",
    "\n",
    "fig.show()"
   ]
  },
  {
   "cell_type": "code",
   "execution_count": 259,
   "metadata": {},
   "outputs": [
    {
     "name": "stderr",
     "output_type": "stream",
     "text": [
      "findfont: Font family 'Arial' not found.\n",
      "findfont: Font family 'Arial' not found.\n",
      "findfont: Font family 'Arial' not found.\n",
      "findfont: Font family 'Arial' not found.\n",
      "findfont: Font family 'Arial' not found.\n",
      "findfont: Font family 'Arial' not found.\n",
      "findfont: Font family 'Arial' not found.\n",
      "findfont: Font family 'Arial' not found.\n",
      "findfont: Font family 'Arial' not found.\n",
      "findfont: Font family 'Arial' not found.\n",
      "findfont: Font family 'Arial' not found.\n",
      "findfont: Font family 'Arial' not found.\n",
      "findfont: Font family 'Arial' not found.\n",
      "findfont: Font family 'Arial' not found.\n",
      "findfont: Font family 'Arial' not found.\n",
      "findfont: Font family 'Arial' not found.\n",
      "findfont: Font family 'Arial' not found.\n",
      "findfont: Font family 'Arial' not found.\n",
      "findfont: Font family 'Arial' not found.\n",
      "findfont: Font family 'Arial' not found.\n",
      "findfont: Font family 'Arial' not found.\n",
      "findfont: Font family 'Arial' not found.\n",
      "findfont: Font family 'Arial' not found.\n",
      "findfont: Font family 'Arial' not found.\n",
      "findfont: Font family 'Arial' not found.\n",
      "findfont: Font family 'Arial' not found.\n",
      "findfont: Font family 'Arial' not found.\n",
      "findfont: Font family 'Arial' not found.\n",
      "findfont: Font family 'Arial' not found.\n",
      "findfont: Font family 'Arial' not found.\n",
      "findfont: Font family 'Arial' not found.\n",
      "findfont: Font family 'Arial' not found.\n",
      "findfont: Font family 'Arial' not found.\n",
      "findfont: Font family 'Arial' not found.\n",
      "findfont: Font family 'Arial' not found.\n",
      "findfont: Font family 'Arial' not found.\n",
      "findfont: Font family 'Arial' not found.\n",
      "findfont: Font family 'Arial' not found.\n",
      "findfont: Font family 'Arial' not found.\n",
      "findfont: Font family 'Arial' not found.\n",
      "findfont: Font family 'Arial' not found.\n",
      "findfont: Font family 'Arial' not found.\n",
      "findfont: Font family 'Arial' not found.\n",
      "findfont: Font family 'Arial' not found.\n",
      "findfont: Font family 'Arial' not found.\n",
      "findfont: Font family 'Arial' not found.\n",
      "findfont: Font family 'Arial' not found.\n",
      "findfont: Font family 'Arial' not found.\n",
      "findfont: Font family 'Arial' not found.\n",
      "findfont: Font family 'Arial' not found.\n",
      "findfont: Font family 'Arial' not found.\n",
      "findfont: Font family 'Arial' not found.\n",
      "findfont: Font family 'Arial' not found.\n",
      "findfont: Font family 'Arial' not found.\n",
      "findfont: Font family 'Arial' not found.\n",
      "findfont: Font family 'Arial' not found.\n",
      "findfont: Font family 'Arial' not found.\n",
      "findfont: Font family 'Arial' not found.\n",
      "findfont: Font family 'Arial' not found.\n",
      "findfont: Font family 'Arial' not found.\n",
      "findfont: Font family 'Arial' not found.\n",
      "findfont: Font family 'Arial' not found.\n",
      "findfont: Font family 'Arial' not found.\n",
      "findfont: Font family 'Arial' not found.\n",
      "findfont: Font family 'Arial' not found.\n",
      "findfont: Font family 'Arial' not found.\n",
      "findfont: Font family 'Arial' not found.\n",
      "findfont: Font family 'Arial' not found.\n",
      "findfont: Font family 'Arial' not found.\n",
      "findfont: Font family 'Arial' not found.\n",
      "findfont: Font family 'Arial' not found.\n",
      "findfont: Font family 'Arial' not found.\n",
      "findfont: Font family 'Arial' not found.\n",
      "findfont: Font family 'Arial' not found.\n",
      "findfont: Font family 'Arial' not found.\n",
      "findfont: Font family 'Arial' not found.\n",
      "findfont: Font family 'Arial' not found.\n",
      "findfont: Font family 'Arial' not found.\n",
      "findfont: Font family 'Arial' not found.\n",
      "findfont: Font family 'Arial' not found.\n",
      "findfont: Font family 'Arial' not found.\n",
      "findfont: Font family 'Arial' not found.\n",
      "findfont: Font family 'Arial' not found.\n",
      "findfont: Font family 'Arial' not found.\n",
      "findfont: Font family 'Arial' not found.\n",
      "findfont: Font family 'Arial' not found.\n",
      "findfont: Font family 'Arial' not found.\n",
      "findfont: Font family 'Arial' not found.\n",
      "findfont: Font family 'Arial' not found.\n",
      "findfont: Font family 'Arial' not found.\n",
      "findfont: Font family 'Arial' not found.\n",
      "findfont: Font family 'Arial' not found.\n",
      "findfont: Font family 'Arial' not found.\n",
      "findfont: Font family 'Arial' not found.\n",
      "findfont: Font family 'Arial' not found.\n",
      "findfont: Font family 'Arial' not found.\n",
      "findfont: Font family 'Arial' not found.\n",
      "findfont: Font family 'Arial' not found.\n",
      "findfont: Font family 'Arial' not found.\n",
      "findfont: Font family 'Arial' not found.\n",
      "findfont: Font family 'Arial' not found.\n",
      "findfont: Font family 'Arial' not found.\n",
      "findfont: Font family 'Arial' not found.\n",
      "findfont: Font family 'Arial' not found.\n",
      "findfont: Font family 'Arial' not found.\n",
      "findfont: Font family 'Arial' not found.\n",
      "findfont: Font family 'Arial' not found.\n",
      "findfont: Font family 'Arial' not found.\n",
      "findfont: Font family 'Arial' not found.\n",
      "findfont: Font family 'Arial' not found.\n",
      "findfont: Font family 'Arial' not found.\n",
      "findfont: Font family 'Arial' not found.\n",
      "findfont: Font family 'Arial' not found.\n",
      "findfont: Font family 'Arial' not found.\n",
      "findfont: Font family 'Arial' not found.\n",
      "findfont: Font family 'Arial' not found.\n",
      "findfont: Font family 'Arial' not found.\n",
      "findfont: Font family 'Arial' not found.\n",
      "findfont: Font family 'Arial' not found.\n",
      "findfont: Font family 'Arial' not found.\n",
      "findfont: Font family 'Arial' not found.\n",
      "findfont: Font family 'Arial' not found.\n",
      "findfont: Font family 'Arial' not found.\n",
      "findfont: Font family 'Arial' not found.\n",
      "findfont: Font family 'Arial' not found.\n",
      "findfont: Font family 'Arial' not found.\n",
      "findfont: Font family 'Arial' not found.\n",
      "findfont: Font family 'Arial' not found.\n",
      "findfont: Font family 'Arial' not found.\n",
      "findfont: Font family 'Arial' not found.\n",
      "findfont: Font family 'Arial' not found.\n",
      "findfont: Font family 'Arial' not found.\n",
      "findfont: Font family 'Arial' not found.\n",
      "findfont: Font family 'Arial' not found.\n",
      "findfont: Font family 'Arial' not found.\n",
      "findfont: Font family 'Arial' not found.\n",
      "findfont: Font family 'Arial' not found.\n",
      "findfont: Font family 'Arial' not found.\n",
      "findfont: Font family 'Arial' not found.\n",
      "findfont: Font family 'Arial' not found.\n",
      "findfont: Font family 'Arial' not found.\n",
      "findfont: Font family 'Arial' not found.\n",
      "findfont: Font family 'Arial' not found.\n",
      "findfont: Font family 'Arial' not found.\n",
      "findfont: Font family 'Arial' not found.\n",
      "findfont: Font family 'Arial' not found.\n",
      "findfont: Font family 'Arial' not found.\n",
      "findfont: Font family 'Arial' not found.\n",
      "findfont: Font family 'Arial' not found.\n",
      "findfont: Font family 'Arial' not found.\n",
      "findfont: Font family 'Arial' not found.\n",
      "findfont: Font family 'Arial' not found.\n",
      "findfont: Font family 'Arial' not found.\n",
      "findfont: Font family 'Arial' not found.\n",
      "findfont: Font family 'Arial' not found.\n",
      "findfont: Font family 'Arial' not found.\n",
      "findfont: Font family 'Arial' not found.\n",
      "findfont: Font family 'Arial' not found.\n",
      "findfont: Font family 'Arial' not found.\n",
      "findfont: Font family 'Arial' not found.\n",
      "findfont: Font family 'Arial' not found.\n",
      "findfont: Font family 'Arial' not found.\n",
      "findfont: Font family 'Arial' not found.\n",
      "findfont: Font family 'Arial' not found.\n",
      "findfont: Font family 'Arial' not found.\n",
      "findfont: Font family 'Arial' not found.\n",
      "findfont: Font family 'Arial' not found.\n",
      "findfont: Font family 'Arial' not found.\n"
     ]
    },
    {
     "data": {
      "image/png": "[encoded data removed]",
      "text/plain": [
       "<Figure size 1200x1200 with 1 Axes>"
      ]
     },
     "metadata": {},
     "output_type": "display_data"
    }
   ],
   "source": [
    "import seaborn as sns\n",
    "import matplotlib.pyplot as plt\n",
    "import matplotlib.patheffects as PathEffects\n",
    "from adjustText import adjust_text\n",
    "import numpy as np\n",
    "\n",
    "# Set the style and scale of the plot\n",
    "sns.set(style=\"white\", font_scale=2.5, rc={'font.family':'Arial, monospace'})\n",
    "\n",
    "# Create lineplot\n",
    "plt.figure(figsize=(12,12))\n",
    "# point marker\n",
    "ax = sns.lineplot(data=merged_dataframe, x=\"Number of Parameters\", y=\"gain_percent\", hue=\"family\", linewidth=4, marker=\"o\")\n",
    "\n",
    "# Convert x-axis to log scale\n",
    "#ax.set(xscale=\"log\")\n",
    "# set xticks\n",
    "\n",
    "\n",
    "# Prepare to annotate the lines with adjustText\n",
    "lines = ax.lines\n",
    "texts = []\n",
    "for i, (model, line) in enumerate(zip(merged_dataframe['family'].unique(), lines)):\n",
    "    x_data = line.get_xdata()\n",
    "    y_data = line.get_ydata()\n",
    "    sorted_data = sorted(list(zip(x_data, y_data)), key=lambda x: x[0])  # sort by x (Number of Parameters)\n",
    "    x_last = sorted_data[-1][0]\n",
    "    y_last = sorted_data[-1][1]\n",
    "\n",
    "    text = ax.text(x_last, y_last, model, color=line.get_color(), alpha=0.9)\n",
    "    text.set_path_effects([PathEffects.withStroke(linewidth=5, foreground='white')])\n",
    "    texts.append(text)\n",
    "\n",
    "# Adjust the text labels\n",
    "adjust_text(texts)\n",
    "\n",
    "# Set labels and title\n",
    "ax.set_xlabel(\"Number of Parameters\")\n",
    "ax.set_ylabel(\"Gain Percentage (%)\")\n",
    "ax.set_title(\"ROC-AUC Gain over Skrub\")\n",
    "\n",
    "# Remove the top and right spines from plot\n",
    "sns.despine()\n",
    "\n",
    "# Hide the legend\n",
    "ax.legend_.remove()\n",
    "\n",
    "# Show the plot\n",
    "plt.show()"
   ]
  },
  {
   "cell_type": "code",
   "execution_count": null,
   "metadata": {},
   "outputs": [],
   "source": []
  }
 ],
 "metadata": {
  "kernelspec": {
   "display_name": "Python 3 (ipykernel)",
   "language": "python",
   "name": "python3"
  },
  "language_info": {
   "codemirror_mode": {
    "name": "ipython",
    "version": 3
   },
   "file_extension": ".py",
   "mimetype": "text/x-python",
   "name": "python",
   "nbconvert_exporter": "python",
   "pygments_lexer": "ipython3",
   "version": "3.10.12"
  }
 },
 "nbformat": 4,
 "nbformat_minor": 2
}
