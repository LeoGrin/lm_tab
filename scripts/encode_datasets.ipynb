{
 "cells": [
  {
   "cell_type": "code",
   "execution_count": 3,
   "metadata": {},
   "outputs": [
    {
     "name": "stdout",
     "output_type": "stream",
     "text": [
      "[Errno 2] No such file or directory: 'lm_tab/scripts'\n",
      "/scratch/lgrinszt/lm_tab/scripts\n"
     ]
    }
   ],
   "source": [
    "%cd lm_tab/scripts"
   ]
  },
  {
   "cell_type": "code",
   "execution_count": 5,
   "metadata": {},
   "outputs": [
    {
     "name": "stderr",
     "output_type": "stream",
     "text": [
      "  0%|          | 0/13 [00:00<?, ?it/s]"
     ]
    },
    {
     "name": "stdout",
     "output_type": "stream",
     "text": [
      "Dataset: journal_jcr_cls, Encoding: bert_custom_pooling__sentence-transformers/all-distilroberta-v1\n",
      "Original task: classification for journal_jcr_cls\n",
      "Removed 0 columns with missing values on 4 columns\n",
      "Removed 485 rows with missing values on 5710 rows\n",
      "Removed 485 rows with missing values on 5710 rows\n",
      "Removed 0 columns with missing values on 4 columns\n",
      "New shape: (5225, 4)\n",
      "X_text shape: (5225,), X_rest shape: (5225, 4), y shape: (5225,)\n",
      "working dir /scratch/lgrinszt/lm_tab/scripts\n",
      "Loading model that can be used for inference only\n",
      "Using a Transformer with 25.82 M parameters\n"
     ]
    },
    {
     "name": "stderr",
     "output_type": "stream",
     "text": [
      "  8%|▊         | 1/13 [00:04<00:59,  4.92s/it]"
     ]
    },
    {
     "name": "stdout",
     "output_type": "stream",
     "text": [
      "Saving to cache\n"
     ]
    },
    {
     "name": "stderr",
     "output_type": "stream",
     "text": []
    },
    {
     "name": "stdout",
     "output_type": "stream",
     "text": [
      "Dataset: movies, Encoding: bert_custom_pooling__sentence-transformers/all-distilroberta-v1\n",
      "Original task: regression for movies\n",
      "Converting to binary classification\n",
      "Removed 0 columns with missing values on 9 columns\n",
      "Removed 325 rows with missing values on 6207 rows\n",
      "Removed 325 rows with missing values on 6207 rows\n",
      "Removed 0 columns with missing values on 9 columns\n",
      "New shape: (5882, 9)\n",
      "X_text shape: (5882,), X_rest shape: (5882, 9), y shape: (5882,)\n",
      "working dir /scratch/lgrinszt/lm_tab/scripts\n",
      "Loading model that can be used for inference only\n",
      "Using a Transformer with 25.82 M parameters\n"
     ]
    },
    {
     "name": "stderr",
     "output_type": "stream",
     "text": [
      " 15%|█▌        | 2/13 [00:08<00:46,  4.20s/it]"
     ]
    },
    {
     "name": "stdout",
     "output_type": "stream",
     "text": [
      "Saving to cache\n"
     ]
    },
    {
     "name": "stderr",
     "output_type": "stream",
     "text": []
    },
    {
     "name": "stdout",
     "output_type": "stream",
     "text": [
      "Dataset: michelin, Encoding: bert_custom_pooling__sentence-transformers/all-distilroberta-v1\n",
      "Original task: classification for michelin\n",
      "Removed 0 columns with missing values on 3 columns\n",
      "Removed 47 rows with missing values on 6832 rows\n",
      "Removed 47 rows with missing values on 6832 rows\n",
      "Removed 0 columns with missing values on 3 columns\n",
      "New shape: (6785, 3)\n",
      "X_text shape: (6785,), X_rest shape: (6785, 3), y shape: (6785,)\n",
      "working dir /scratch/lgrinszt/lm_tab/scripts\n",
      "Loading model that can be used for inference only\n",
      "Using a Transformer with 25.82 M parameters\n"
     ]
    },
    {
     "name": "stderr",
     "output_type": "stream",
     "text": [
      " 23%|██▎       | 3/13 [00:11<00:33,  3.40s/it]"
     ]
    },
    {
     "name": "stdout",
     "output_type": "stream",
     "text": [
      "Saving to cache\n"
     ]
    },
    {
     "name": "stderr",
     "output_type": "stream",
     "text": []
    },
    {
     "name": "stdout",
     "output_type": "stream",
     "text": [
      "Dataset: spotify, Encoding: bert_custom_pooling__sentence-transformers/all-distilroberta-v1\n",
      "Original task: classification for spotify\n",
      "Removed 0 columns with missing values on 16 columns\n",
      "Removed 0 rows with missing values on 41099 rows\n",
      "Removed 0 rows with missing values on 41099 rows\n",
      "Removed 0 columns with missing values on 16 columns\n",
      "New shape: (41099, 16)\n",
      "X_text shape: (10000,), X_rest shape: (10000, 16), y shape: (10000,)\n",
      "working dir /scratch/lgrinszt/lm_tab/scripts\n",
      "Loading model that can be used for inference only\n",
      "Using a Transformer with 25.82 M parameters\n"
     ]
    },
    {
     "name": "stderr",
     "output_type": "stream",
     "text": [
      " 31%|███       | 4/13 [00:16<00:39,  4.34s/it]"
     ]
    },
    {
     "name": "stdout",
     "output_type": "stream",
     "text": [
      "Saving to cache\n"
     ]
    },
    {
     "name": "stderr",
     "output_type": "stream",
     "text": []
    },
    {
     "name": "stdout",
     "output_type": "stream",
     "text": [
      "Dataset: employee_salary, Encoding: bert_custom_pooling__sentence-transformers/all-distilroberta-v1\n",
      "Original task: regression for employee_salary\n",
      "Converting to binary classification\n",
      "Removed 0 columns with missing values on 7 columns\n",
      "Removed 17 rows with missing values on 9228 rows\n",
      "Removed 17 rows with missing values on 9228 rows\n",
      "Removed 0 columns with missing values on 7 columns\n",
      "New shape: (9211, 7)\n",
      "X_text shape: (9211,), X_rest shape: (9211, 7), y shape: (9211,)\n",
      "working dir /scratch/lgrinszt/lm_tab/scripts\n",
      "Loading model that can be used for inference only\n",
      "Using a Transformer with 25.82 M parameters\n"
     ]
    },
    {
     "name": "stderr",
     "output_type": "stream",
     "text": [
      " 38%|███▊      | 5/13 [00:18<00:27,  3.45s/it]"
     ]
    },
    {
     "name": "stdout",
     "output_type": "stream",
     "text": [
      "Saving to cache\n"
     ]
    },
    {
     "name": "stderr",
     "output_type": "stream",
     "text": []
    },
    {
     "name": "stdout",
     "output_type": "stream",
     "text": [
      "Dataset: museums, Encoding: bert_custom_pooling__sentence-transformers/all-distilroberta-v1\n",
      "Original task: regression for museums\n",
      "Converting to binary classification\n",
      "Removed 0 columns with missing values on 6 columns\n",
      "Removed 15 rows with missing values on 11467 rows\n",
      "Removed 15 rows with missing values on 11467 rows\n",
      "Removed 0 columns with missing values on 6 columns\n",
      "New shape: (11452, 6)\n",
      "X_text shape: (10000,), X_rest shape: (10000, 6), y shape: (10000,)\n",
      "working dir /scratch/lgrinszt/lm_tab/scripts\n",
      "Loading model that can be used for inference only\n",
      "Using a Transformer with 25.82 M parameters\n"
     ]
    },
    {
     "name": "stderr",
     "output_type": "stream",
     "text": [
      " 46%|████▌     | 6/13 [00:22<00:24,  3.53s/it]"
     ]
    },
    {
     "name": "stdout",
     "output_type": "stream",
     "text": [
      "Saving to cache\n"
     ]
    },
    {
     "name": "stderr",
     "output_type": "stream",
     "text": []
    },
    {
     "name": "stdout",
     "output_type": "stream",
     "text": [
      "Dataset: fifa_footballplayers_22, Encoding: bert_custom_pooling__sentence-transformers/all-distilroberta-v1\n",
      "Original task: regression for fifa_footballplayers_22\n",
      "Converting to binary classification\n",
      "Removed 0 columns with missing values on 13 columns\n",
      "Removed 1102 rows with missing values on 19165 rows\n",
      "Removed 1102 rows with missing values on 19165 rows\n",
      "Removed 0 columns with missing values on 13 columns\n",
      "New shape: (18063, 13)\n",
      "X_text shape: (10000,), X_rest shape: (10000, 13), y shape: (10000,)\n",
      "working dir /scratch/lgrinszt/lm_tab/scripts\n",
      "Loading model that can be used for inference only\n",
      "Using a Transformer with 25.82 M parameters\n"
     ]
    },
    {
     "name": "stderr",
     "output_type": "stream",
     "text": [
      " 54%|█████▍    | 7/13 [00:24<00:18,  3.14s/it]"
     ]
    },
    {
     "name": "stdout",
     "output_type": "stream",
     "text": [
      "Saving to cache\n"
     ]
    },
    {
     "name": "stderr",
     "output_type": "stream",
     "text": []
    },
    {
     "name": "stdout",
     "output_type": "stream",
     "text": [
      "Dataset: jp_anime, Encoding: bert_custom_pooling__sentence-transformers/all-distilroberta-v1\n",
      "Original task: regression for jp_anime\n",
      "Converting to binary classification\n",
      "Removed 0 columns with missing values on 8 columns\n",
      "Removed 4231 rows with missing values on 15279 rows\n",
      "Removed 4231 rows with missing values on 15279 rows\n",
      "Removed 0 columns with missing values on 8 columns\n",
      "New shape: (11048, 8)\n",
      "X_text shape: (10000,), X_rest shape: (10000, 8), y shape: (10000,)\n",
      "working dir /scratch/lgrinszt/lm_tab/scripts\n",
      "Loading model that can be used for inference only\n",
      "Using a Transformer with 25.82 M parameters\n"
     ]
    },
    {
     "name": "stderr",
     "output_type": "stream",
     "text": [
      " 62%|██████▏   | 8/13 [00:29<00:17,  3.55s/it]"
     ]
    },
    {
     "name": "stdout",
     "output_type": "stream",
     "text": [
      "Saving to cache\n"
     ]
    },
    {
     "name": "stderr",
     "output_type": "stream",
     "text": []
    },
    {
     "name": "stdout",
     "output_type": "stream",
     "text": [
      "Dataset: clear_corpus, Encoding: bert_custom_pooling__sentence-transformers/all-distilroberta-v1\n",
      "Original task: regression for clear_corpus\n",
      "Converting to binary classification\n",
      "Removed 0 columns with missing values on 17 columns\n",
      "Removed 271 rows with missing values on 4724 rows\n",
      "Removed 271 rows with missing values on 4724 rows\n",
      "Removed 0 columns with missing values on 17 columns\n",
      "New shape: (4453, 17)\n",
      "X_text shape: (4453,), X_rest shape: (4453, 17), y shape: (4453,)\n",
      "working dir /scratch/lgrinszt/lm_tab/scripts\n",
      "Loading model that can be used for inference only\n",
      "Using a Transformer with 25.82 M parameters\n"
     ]
    },
    {
     "name": "stderr",
     "output_type": "stream",
     "text": [
      " 69%|██████▉   | 9/13 [00:31<00:13,  3.27s/it]"
     ]
    },
    {
     "name": "stdout",
     "output_type": "stream",
     "text": [
      "Saving to cache\n"
     ]
    },
    {
     "name": "stderr",
     "output_type": "stream",
     "text": []
    },
    {
     "name": "stdout",
     "output_type": "stream",
     "text": [
      "Dataset: company_employees, Encoding: bert_custom_pooling__sentence-transformers/all-distilroberta-v1\n",
      "Original task: classification for company_employees\n",
      "Removed 0 columns with missing values on 5 columns\n",
      "Removed 1378 rows with missing values on 4769 rows\n",
      "Removed 1378 rows with missing values on 4769 rows\n",
      "Removed 0 columns with missing values on 5 columns\n",
      "New shape: (3391, 5)\n",
      "X_text shape: (3391,), X_rest shape: (3391, 5), y shape: (3391,)\n",
      "working dir /scratch/lgrinszt/lm_tab/scripts\n",
      "Loading model that can be used for inference only\n",
      "Using a Transformer with 25.82 M parameters\n"
     ]
    },
    {
     "name": "stderr",
     "output_type": "stream",
     "text": [
      " 77%|███████▋  | 10/13 [00:33<00:08,  2.76s/it]"
     ]
    },
    {
     "name": "stdout",
     "output_type": "stream",
     "text": [
      "Saving to cache\n"
     ]
    },
    {
     "name": "stderr",
     "output_type": "stream",
     "text": []
    },
    {
     "name": "stdout",
     "output_type": "stream",
     "text": [
      "Dataset: us_presidential, Encoding: bert_custom_pooling__sentence-transformers/all-distilroberta-v1\n",
      "Original task: regression for us_presidential\n",
      "Converting to binary classification\n",
      "Removed 0 columns with missing values on 4 columns\n",
      "Removed 0 rows with missing values on 21864 rows\n",
      "Removed 0 rows with missing values on 21864 rows\n",
      "Removed 0 columns with missing values on 4 columns\n",
      "New shape: (21864, 4)\n",
      "X_text shape: (10000,), X_rest shape: (10000, 4), y shape: (10000,)\n",
      "working dir /scratch/lgrinszt/lm_tab/scripts\n",
      "Loading model that can be used for inference only\n",
      "Using a Transformer with 25.82 M parameters\n"
     ]
    },
    {
     "name": "stderr",
     "output_type": "stream",
     "text": [
      " 85%|████████▍ | 11/13 [00:35<00:05,  2.70s/it]"
     ]
    },
    {
     "name": "stdout",
     "output_type": "stream",
     "text": [
      "Saving to cache\n"
     ]
    },
    {
     "name": "stderr",
     "output_type": "stream",
     "text": []
    },
    {
     "name": "stdout",
     "output_type": "stream",
     "text": [
      "Dataset: us_accidents_severity, Encoding: bert_custom_pooling__sentence-transformers/all-distilroberta-v1\n",
      "Original task: classification for us_accidents_severity\n",
      "Removed 0 columns with missing values on 11 columns\n",
      "Removed 192 rows with missing values on 4713 rows\n",
      "Removed 192 rows with missing values on 4713 rows\n",
      "Removed 0 columns with missing values on 11 columns\n",
      "New shape: (4521, 11)\n",
      "X_text shape: (4521,), X_rest shape: (4521, 11), y shape: (4521,)\n",
      "working dir /scratch/lgrinszt/lm_tab/scripts\n",
      "Loading model that can be used for inference only\n",
      "Using a Transformer with 25.82 M parameters\n"
     ]
    },
    {
     "name": "stderr",
     "output_type": "stream",
     "text": [
      " 92%|█████████▏| 12/13 [00:37<00:02,  2.32s/it]"
     ]
    },
    {
     "name": "stdout",
     "output_type": "stream",
     "text": [
      "Saving to cache\n"
     ]
    },
    {
     "name": "stderr",
     "output_type": "stream",
     "text": []
    },
    {
     "name": "stdout",
     "output_type": "stream",
     "text": [
      "Dataset: us_accidents_counts, Encoding: bert_custom_pooling__sentence-transformers/all-distilroberta-v1\n",
      "Original task: regression for us_accidents_counts\n",
      "Converting to binary classification\n",
      "Removed 0 columns with missing values on 5 columns\n",
      "Removed 0 rows with missing values on 10286 rows\n",
      "Removed 0 rows with missing values on 10286 rows\n",
      "Removed 0 columns with missing values on 5 columns\n",
      "New shape: (10286, 5)\n",
      "X_text shape: (10000,), X_rest shape: (10000, 5), y shape: (10000,)\n",
      "working dir /scratch/lgrinszt/lm_tab/scripts\n",
      "Loading model that can be used for inference only\n",
      "Using a Transformer with 25.82 M parameters\n"
     ]
    },
    {
     "name": "stderr",
     "output_type": "stream",
     "text": [
      "100%|██████████| 13/13 [00:39<00:00,  3.06s/it]"
     ]
    },
    {
     "name": "stdout",
     "output_type": "stream",
     "text": [
      "Saving to cache\n"
     ]
    },
    {
     "name": "stderr",
     "output_type": "stream",
     "text": [
      "\n"
     ]
    }
   ],
   "source": [
    "import submitit\n",
    "from functools import partial\n",
    "from src.models import BertAndTabPFN\n",
    "from transformers import AutoTokenizer\n",
    "from tqdm import tqdm\n",
    "import torch\n",
    "from src.encodings import encode\n",
    "from src.data_loading import load_data\n",
    "#encodings = [\"skrub__minhash_10\", \"skrub__minhash_30\", \"lm__all-distilroberta-v1\", \"lm__all-mpnet-base-v2\"]\n",
    "#encodings = [\"lm__all-distilroberta-v1\", \"lm__all-mpnet-base-v2\"]\n",
    "encodings = [\"bert_custom_pooling__sentence-transformers/all-distilroberta-v1\"]\n",
    "\n",
    "datasets = [\"journal_jcr_cls\", \"movies\", \"michelin\", \"spotify\", \"employee_salary\", \"museums\", \"fifa_footballplayers_22\", \"jp_anime\", \"clear_corpus\", \"company_employees\", \"us_presidential\", \"us_accidents_severity\", \"us_accidents_counts\"]\n",
    "\n",
    "\n",
    "jobs = []\n",
    "\n",
    "for dataset in tqdm(datasets):\n",
    "    for encoding in tqdm(encodings, leave=False):\n",
    "        print(f\"Dataset: {dataset}, Encoding: {encoding}\")\n",
    "        X_text, X_rest, y = load_data(dataset, max_rows=10000, include_all_columns=True)\n",
    "        X_enc = encode(X_text, encoding, dataset_name=dataset, override_cache=True)"
   ]
  },
  {
   "cell_type": "code",
   "execution_count": null,
   "metadata": {},
   "outputs": [],
   "source": []
  }
 ],
 "metadata": {
  "kernelspec": {
   "display_name": "Python 3 (ipykernel)",
   "language": "python",
   "name": "python3"
  },
  "language_info": {
   "codemirror_mode": {
    "name": "ipython",
    "version": 3
   },
   "file_extension": ".py",
   "mimetype": "text/x-python",
   "name": "python",
   "nbconvert_exporter": "python",
   "pygments_lexer": "ipython3",
   "version": "3.10.12"
  }
 },
 "nbformat": 4,
 "nbformat_minor": 2
}
