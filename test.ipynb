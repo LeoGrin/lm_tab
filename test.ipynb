{
 "cells": [
  {
   "cell_type": "code",
   "execution_count": 10,
   "metadata": {},
   "outputs": [],
   "source": [
    "import pandas as pd\n",
    "\n",
    "df = pd.read_csv('/Users/leo/Downloads/archive (10)/btcusd.csv')"
   ]
  },
  {
   "cell_type": "code",
   "execution_count": 11,
   "metadata": {},
   "outputs": [],
   "source": [
    "# convert time from epoch to datetime\n",
    "df['Date'] = pd.to_datetime(df['time'] / 1000, unit='s')"
   ]
  },
  {
   "cell_type": "code",
   "execution_count": 13,
   "metadata": {},
   "outputs": [],
   "source": [
    "# compute the difference between the current and previous row\n",
    "df['timediff'] = df['time'].diff() / 1000"
   ]
  },
  {
   "cell_type": "code",
   "execution_count": 23,
   "metadata": {},
   "outputs": [
    {
     "data": {
      "text/plain": [
       "20000     60.0\n",
       "20001    180.0\n",
       "20002    120.0\n",
       "20003     60.0\n",
       "20004    120.0\n",
       "20005     60.0\n",
       "20006    120.0\n",
       "20007     60.0\n",
       "20008     60.0\n",
       "20009    120.0\n",
       "20010    120.0\n",
       "20011     60.0\n",
       "20012     60.0\n",
       "20013     60.0\n",
       "20014    240.0\n",
       "20015    180.0\n",
       "20016     60.0\n",
       "20017     60.0\n",
       "20018    120.0\n",
       "20019     60.0\n",
       "20020    180.0\n",
       "20021     60.0\n",
       "20022    120.0\n",
       "20023    120.0\n",
       "20024     60.0\n",
       "20025    240.0\n",
       "20026    240.0\n",
       "20027     60.0\n",
       "20028    240.0\n",
       "20029     60.0\n",
       "20030     60.0\n",
       "20031     60.0\n",
       "20032     60.0\n",
       "20033    180.0\n",
       "20034     60.0\n",
       "20035     60.0\n",
       "20036     60.0\n",
       "20037     60.0\n",
       "20038     60.0\n",
       "20039     60.0\n",
       "20040     60.0\n",
       "20041    120.0\n",
       "20042     60.0\n",
       "20043     60.0\n",
       "20044     60.0\n",
       "20045     60.0\n",
       "20046     60.0\n",
       "20047    120.0\n",
       "20048     60.0\n",
       "20049     60.0\n",
       "Name: timediff, dtype: float64"
      ]
     },
     "execution_count": 23,
     "metadata": {},
     "output_type": "execute_result"
    }
   ],
   "source": [
    "df[\"timediff\"][20000:20050]"
   ]
  },
  {
   "cell_type": "code",
   "execution_count": 2,
   "metadata": {},
   "outputs": [
    {
     "ename": "NameError",
     "evalue": "name 'your_data' is not defined",
     "output_type": "error",
     "traceback": [
      "\u001b[0;31m---------------------------------------------------------------------------\u001b[0m",
      "\u001b[0;31mNameError\u001b[0m                                 Traceback (most recent call last)",
      "\u001b[1;32m/Users/leo/VSCProjects/lm_tab/test.ipynb Cell 5\u001b[0m line \u001b[0;36m6\n\u001b[1;32m      <a href='vscode-notebook-cell:/Users/leo/VSCProjects/lm_tab/test.ipynb#W4sZmlsZQ%3D%3D?line=2'>3</a>\u001b[0m \u001b[39mfrom\u001b[39;00m \u001b[39mnixtlats\u001b[39;00m \u001b[39mimport\u001b[39;00m TimeGPT\n\u001b[1;32m      <a href='vscode-notebook-cell:/Users/leo/VSCProjects/lm_tab/test.ipynb#W4sZmlsZQ%3D%3D?line=4'>5</a>\u001b[0m timegpt \u001b[39m=\u001b[39m TimeGPT(token\u001b[39m=\u001b[39m\u001b[39m'\u001b[39m\u001b[39mYOUR_TOKEN\u001b[39m\u001b[39m'\u001b[39m)\n\u001b[0;32m----> <a href='vscode-notebook-cell:/Users/leo/VSCProjects/lm_tab/test.ipynb#W4sZmlsZQ%3D%3D?line=5'>6</a>\u001b[0m future \u001b[39m=\u001b[39m timegpt\u001b[39m.\u001b[39mforecast(your_data)\n",
      "\u001b[0;31mNameError\u001b[0m: name 'your_data' is not defined"
     ]
    }
   ],
   "source": [
    "# Accurate forecasting with TimeGPT\n",
    "\n",
    "from nixtlats import TimeGPT\n",
    "\n",
    "timegpt = TimeGPT(token='YOUR_TOKEN')\n",
    "future = timegpt.forecast(your_data)"
   ]
  },
  {
   "cell_type": "code",
   "execution_count": 4,
   "metadata": {},
   "outputs": [
    {
     "name": "stderr",
     "output_type": "stream",
     "text": [
      "INFO:nixtlats.timegpt:Validating inputs...\n",
      "INFO:nixtlats.timegpt:Inferred freq: H\n",
      "INFO:nixtlats.timegpt:Preprocessing dataframes...\n"
     ]
    },
    {
     "ename": "ApiError",
     "evalue": "status_code: 429, body: {'data': None, 'message': 'Too many requests', 'details': 'You have reached your request limit, email ops@nixtla.io to continue using the API', 'code': 'A20', 'requestID': 'MWMD2SW2BU', 'support': 'If you have questions or need support, please email ops@nixtla.io'}",
     "output_type": "error",
     "traceback": [
      "\u001b[0;31m---------------------------------------------------------------------------\u001b[0m",
      "\u001b[0;31mApiError\u001b[0m                                  Traceback (most recent call last)",
      "\u001b[1;32m/Users/leo/VSCProjects/lm_tab/test.ipynb Cell 6\u001b[0m line \u001b[0;36m1\n\u001b[1;32m      <a href='vscode-notebook-cell:/Users/leo/VSCProjects/lm_tab/test.ipynb#W6sZmlsZQ%3D%3D?line=7'>8</a>\u001b[0m \u001b[39mfrom\u001b[39;00m \u001b[39mnixtlats\u001b[39;00m \u001b[39mimport\u001b[39;00m TimeGPT\n\u001b[1;32m      <a href='vscode-notebook-cell:/Users/leo/VSCProjects/lm_tab/test.ipynb#W6sZmlsZQ%3D%3D?line=8'>9</a>\u001b[0m timegpt \u001b[39m=\u001b[39m TimeGPT(token\u001b[39m=\u001b[39mos\u001b[39m.\u001b[39menviron[\u001b[39m'\u001b[39m\u001b[39mTIMEGPT_TOKEN\u001b[39m\u001b[39m'\u001b[39m])\n\u001b[0;32m---> <a href='vscode-notebook-cell:/Users/leo/VSCProjects/lm_tab/test.ipynb#W6sZmlsZQ%3D%3D?line=9'>10</a>\u001b[0m fcst_df \u001b[39m=\u001b[39m timegpt\u001b[39m.\u001b[39;49mforecast(df, h\u001b[39m=\u001b[39;49m\u001b[39m24\u001b[39;49m, level\u001b[39m=\u001b[39;49m[\u001b[39m80\u001b[39;49m, \u001b[39m90\u001b[39;49m])\n",
      "File \u001b[0;32m~/mambaforge/envs/skrub/lib/python3.10/site-packages/nixtlats/timegpt.py:1015\u001b[0m, in \u001b[0;36mTimeGPT.forecast\u001b[0;34m(self, df, h, freq, id_col, time_col, target_col, X_df, level, finetune_steps, clean_ex_first, validate_token, add_history, date_features, date_features_to_one_hot, num_partitions)\u001b[0m\n\u001b[1;32m    951\u001b[0m \u001b[39m\u001b[39m\u001b[39m\"\"\"Forecast your time series using TimeGPT.\u001b[39;00m\n\u001b[1;32m    952\u001b[0m \n\u001b[1;32m    953\u001b[0m \u001b[39mParameters\u001b[39;00m\n\u001b[0;32m   (...)\u001b[0m\n\u001b[1;32m   1012\u001b[0m \u001b[39m    predictions (if level is not None).\u001b[39;00m\n\u001b[1;32m   1013\u001b[0m \u001b[39m\"\"\"\u001b[39;00m\n\u001b[1;32m   1014\u001b[0m \u001b[39mif\u001b[39;00m \u001b[39misinstance\u001b[39m(df, pd\u001b[39m.\u001b[39mDataFrame):\n\u001b[0;32m-> 1015\u001b[0m     \u001b[39mreturn\u001b[39;00m \u001b[39mself\u001b[39;49m\u001b[39m.\u001b[39;49m_forecast(\n\u001b[1;32m   1016\u001b[0m         df\u001b[39m=\u001b[39;49mdf,\n\u001b[1;32m   1017\u001b[0m         h\u001b[39m=\u001b[39;49mh,\n\u001b[1;32m   1018\u001b[0m         freq\u001b[39m=\u001b[39;49mfreq,\n\u001b[1;32m   1019\u001b[0m         id_col\u001b[39m=\u001b[39;49mid_col,\n\u001b[1;32m   1020\u001b[0m         time_col\u001b[39m=\u001b[39;49mtime_col,\n\u001b[1;32m   1021\u001b[0m         target_col\u001b[39m=\u001b[39;49mtarget_col,\n\u001b[1;32m   1022\u001b[0m         X_df\u001b[39m=\u001b[39;49mX_df,\n\u001b[1;32m   1023\u001b[0m         level\u001b[39m=\u001b[39;49mlevel,\n\u001b[1;32m   1024\u001b[0m         finetune_steps\u001b[39m=\u001b[39;49mfinetune_steps,\n\u001b[1;32m   1025\u001b[0m         clean_ex_first\u001b[39m=\u001b[39;49mclean_ex_first,\n\u001b[1;32m   1026\u001b[0m         validate_token\u001b[39m=\u001b[39;49mvalidate_token,\n\u001b[1;32m   1027\u001b[0m         add_history\u001b[39m=\u001b[39;49madd_history,\n\u001b[1;32m   1028\u001b[0m         date_features\u001b[39m=\u001b[39;49mdate_features,\n\u001b[1;32m   1029\u001b[0m         date_features_to_one_hot\u001b[39m=\u001b[39;49mdate_features_to_one_hot,\n\u001b[1;32m   1030\u001b[0m     )\n\u001b[1;32m   1031\u001b[0m \u001b[39melse\u001b[39;00m:\n\u001b[1;32m   1032\u001b[0m     \u001b[39mfrom\u001b[39;00m \u001b[39mnixtlats\u001b[39;00m\u001b[39m.\u001b[39;00m\u001b[39mdistributed\u001b[39;00m\u001b[39m.\u001b[39;00m\u001b[39mtimegpt\u001b[39;00m \u001b[39mimport\u001b[39;00m _DistributedTimeGPT\n",
      "File \u001b[0;32m~/mambaforge/envs/skrub/lib/python3.10/site-packages/nixtlats/timegpt.py:712\u001b[0m, in \u001b[0;36m_TimeGPT._forecast\u001b[0;34m(self, df, h, freq, id_col, time_col, target_col, X_df, level, finetune_steps, clean_ex_first, validate_token, add_history, date_features, date_features_to_one_hot)\u001b[0m\n\u001b[1;32m    702\u001b[0m     \u001b[39mraise\u001b[39;00m \u001b[39mException\u001b[39;00m(\u001b[39m\"\u001b[39m\u001b[39mToken not valid, please email ops@nixtla.io\u001b[39m\u001b[39m\"\u001b[39m)\n\u001b[1;32m    704\u001b[0m df, X_df, drop_uid, freq \u001b[39m=\u001b[39m \u001b[39mself\u001b[39m\u001b[39m.\u001b[39m_validate_inputs(\n\u001b[1;32m    705\u001b[0m     df\u001b[39m=\u001b[39mdf,\n\u001b[1;32m    706\u001b[0m     X_df\u001b[39m=\u001b[39mX_df,\n\u001b[0;32m   (...)\u001b[0m\n\u001b[1;32m    710\u001b[0m     target_col\u001b[39m=\u001b[39mtarget_col,\n\u001b[1;32m    711\u001b[0m )\n\u001b[0;32m--> 712\u001b[0m fcst_df \u001b[39m=\u001b[39m \u001b[39mself\u001b[39;49m\u001b[39m.\u001b[39;49m_multi_series_forecast(\n\u001b[1;32m    713\u001b[0m     df\u001b[39m=\u001b[39;49mdf,\n\u001b[1;32m    714\u001b[0m     h\u001b[39m=\u001b[39;49mh,\n\u001b[1;32m    715\u001b[0m     freq\u001b[39m=\u001b[39;49mfreq,\n\u001b[1;32m    716\u001b[0m     X_df\u001b[39m=\u001b[39;49mX_df,\n\u001b[1;32m    717\u001b[0m     level\u001b[39m=\u001b[39;49mlevel,\n\u001b[1;32m    718\u001b[0m     finetune_steps\u001b[39m=\u001b[39;49mfinetune_steps,\n\u001b[1;32m    719\u001b[0m     clean_ex_first\u001b[39m=\u001b[39;49mclean_ex_first,\n\u001b[1;32m    720\u001b[0m     add_history\u001b[39m=\u001b[39;49madd_history,\n\u001b[1;32m    721\u001b[0m     date_features\u001b[39m=\u001b[39;49mdate_features,\n\u001b[1;32m    722\u001b[0m     date_features_to_one_hot\u001b[39m=\u001b[39;49mdate_features_to_one_hot,\n\u001b[1;32m    723\u001b[0m )\n\u001b[1;32m    724\u001b[0m fcst_df \u001b[39m=\u001b[39m \u001b[39mself\u001b[39m\u001b[39m.\u001b[39m_validate_outputs(\n\u001b[1;32m    725\u001b[0m     fcst_df\u001b[39m=\u001b[39mfcst_df,\n\u001b[1;32m    726\u001b[0m     id_col\u001b[39m=\u001b[39mid_col,\n\u001b[0;32m   (...)\u001b[0m\n\u001b[1;32m    729\u001b[0m     drop_uid\u001b[39m=\u001b[39mdrop_uid,\n\u001b[1;32m    730\u001b[0m )\n\u001b[1;32m    731\u001b[0m \u001b[39mreturn\u001b[39;00m fcst_df\n",
      "File \u001b[0;32m~/mambaforge/envs/skrub/lib/python3.10/site-packages/nixtlats/timegpt.py:536\u001b[0m, in \u001b[0;36m_TimeGPT._multi_series_forecast\u001b[0;34m(self, df, h, freq, X_df, level, finetune_steps, clean_ex_first, add_history, date_features, date_features_to_one_hot)\u001b[0m\n\u001b[1;32m    527\u001b[0m main_logger\u001b[39m.\u001b[39minfo(\u001b[39m\"\u001b[39m\u001b[39mPreprocessing dataframes...\u001b[39m\u001b[39m\"\u001b[39m)\n\u001b[1;32m    528\u001b[0m Y_df, X_df, x_cols \u001b[39m=\u001b[39m \u001b[39mself\u001b[39m\u001b[39m.\u001b[39m_preprocess_dataframes(\n\u001b[1;32m    529\u001b[0m     df\u001b[39m=\u001b[39mdf,\n\u001b[1;32m    530\u001b[0m     h\u001b[39m=\u001b[39mh,\n\u001b[0;32m   (...)\u001b[0m\n\u001b[1;32m    534\u001b[0m     date_features_to_one_hot\u001b[39m=\u001b[39mdate_features_to_one_hot,\n\u001b[1;32m    535\u001b[0m )\n\u001b[0;32m--> 536\u001b[0m input_size, model_horizon \u001b[39m=\u001b[39m \u001b[39mself\u001b[39;49m\u001b[39m.\u001b[39;49m_get_model_params(freq)\n\u001b[1;32m    537\u001b[0m main_logger\u001b[39m.\u001b[39minfo(\u001b[39m\"\u001b[39m\u001b[39mCalling Forecast Endpoint...\u001b[39m\u001b[39m\"\u001b[39m)\n\u001b[1;32m    538\u001b[0m fcst_df \u001b[39m=\u001b[39m \u001b[39mself\u001b[39m\u001b[39m.\u001b[39m_hit_multi_series_endpoint(\n\u001b[1;32m    539\u001b[0m     Y_df\u001b[39m=\u001b[39mY_df,\n\u001b[1;32m    540\u001b[0m     X_df\u001b[39m=\u001b[39mX_df,\n\u001b[0;32m   (...)\u001b[0m\n\u001b[1;32m    548\u001b[0m     model_horizon\u001b[39m=\u001b[39mmodel_horizon,\n\u001b[1;32m    549\u001b[0m )\n",
      "File \u001b[0;32m~/mambaforge/envs/skrub/lib/python3.10/site-packages/nixtlats/timegpt.py:401\u001b[0m, in \u001b[0;36m_TimeGPT._get_model_params\u001b[0;34m(self, freq)\u001b[0m\n\u001b[1;32m    400\u001b[0m \u001b[39mdef\u001b[39;00m \u001b[39m_get_model_params\u001b[39m(\u001b[39mself\u001b[39m, freq: \u001b[39mstr\u001b[39m):\n\u001b[0;32m--> 401\u001b[0m     model_params \u001b[39m=\u001b[39m \u001b[39mself\u001b[39;49m\u001b[39m.\u001b[39;49mclient\u001b[39m.\u001b[39;49mtimegpt_model_params(\n\u001b[1;32m    402\u001b[0m         request\u001b[39m=\u001b[39;49mSingleSeriesForecast(freq\u001b[39m=\u001b[39;49mfreq)\n\u001b[1;32m    403\u001b[0m     )\n\u001b[1;32m    404\u001b[0m     \u001b[39mif\u001b[39;00m \u001b[39m\"\u001b[39m\u001b[39mdata\u001b[39m\u001b[39m\"\u001b[39m \u001b[39min\u001b[39;00m model_params:\n\u001b[1;32m    405\u001b[0m         model_params \u001b[39m=\u001b[39m model_params[\u001b[39m\"\u001b[39m\u001b[39mdata\u001b[39m\u001b[39m\"\u001b[39m]\n",
      "File \u001b[0;32m~/mambaforge/envs/skrub/lib/python3.10/site-packages/nixtlats/client.py:300\u001b[0m, in \u001b[0;36mNixtla.timegpt_model_params\u001b[0;34m(self, request)\u001b[0m\n\u001b[1;32m    298\u001b[0m \u001b[39mexcept\u001b[39;00m JSONDecodeError:\n\u001b[1;32m    299\u001b[0m     \u001b[39mraise\u001b[39;00m ApiError(status_code\u001b[39m=\u001b[39m_response\u001b[39m.\u001b[39mstatus_code, body\u001b[39m=\u001b[39m_response\u001b[39m.\u001b[39mtext)\n\u001b[0;32m--> 300\u001b[0m \u001b[39mraise\u001b[39;00m ApiError(status_code\u001b[39m=\u001b[39m_response\u001b[39m.\u001b[39mstatus_code, body\u001b[39m=\u001b[39m_response_json)\n",
      "\u001b[0;31mApiError\u001b[0m: status_code: 429, body: {'data': None, 'message': 'Too many requests', 'details': 'You have reached your request limit, email ops@nixtla.io to continue using the API', 'code': 'A20', 'requestID': 'MWMD2SW2BU', 'support': 'If you have questions or need support, please email ops@nixtla.io'}"
     ]
    }
   ],
   "source": [
    "import os\n",
    "import pandas as pd\n",
    "# dotenv\n",
    "from dotenv import load_dotenv\n",
    "load_dotenv()\n",
    "df = pd.read_csv('https://raw.githubusercontent.com/Nixtla/transfer-learning-time-series/main/datasets/electricity-short.csv')\n",
    "\n",
    "from nixtlats import TimeGPT\n",
    "timegpt = TimeGPT(token=os.environ['TIMEGPT_TOKEN'])\n",
    "fcst_df = timegpt.forecast(df, h=24, level=[80, 90])"
   ]
  },
  {
   "cell_type": "code",
   "execution_count": null,
   "metadata": {},
   "outputs": [],
   "source": []
  }
 ],
 "metadata": {
  "kernelspec": {
   "display_name": "skrub",
   "language": "python",
   "name": "python3"
  },
  "language_info": {
   "codemirror_mode": {
    "name": "ipython",
    "version": 3
   },
   "file_extension": ".py",
   "mimetype": "text/x-python",
   "name": "python",
   "nbconvert_exporter": "python",
   "pygments_lexer": "ipython3",
   "version": "3.10.11"
  }
 },
 "nbformat": 4,
 "nbformat_minor": 2
}
